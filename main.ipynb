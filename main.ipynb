{
 "cells": [
  {
   "cell_type": "code",
   "execution_count": 10,
   "metadata": {},
   "outputs": [
    {
     "ename": "FileNotFoundError",
     "evalue": "[Errno 2] No such file or directory: 'dataset/fermi_excel/Fermate'",
     "output_type": "error",
     "traceback": [
      "\u001b[0;31m---------------------------------------------------------------------------\u001b[0m",
      "\u001b[0;31mFileNotFoundError\u001b[0m                         Traceback (most recent call last)",
      "Cell \u001b[0;32mIn[10], line 5\u001b[0m\n\u001b[1;32m      2\u001b[0m \u001b[38;5;28;01mimport\u001b[39;00m \u001b[38;5;21;01mos\u001b[39;00m\n\u001b[1;32m      3\u001b[0m \u001b[38;5;28;01mimport\u001b[39;00m \u001b[38;5;21;01mpandas\u001b[39;00m \u001b[38;5;28;01mas\u001b[39;00m \u001b[38;5;21;01mpd\u001b[39;00m\n\u001b[0;32m----> 5\u001b[0m \u001b[38;5;28;01mfor\u001b[39;00m l \u001b[38;5;129;01min\u001b[39;00m \u001b[43mos\u001b[49m\u001b[38;5;241;43m.\u001b[39;49m\u001b[43mlistdir\u001b[49m\u001b[43m(\u001b[49m\u001b[38;5;124;43m\"\u001b[39;49m\u001b[38;5;124;43mdataset/fermi_excel/Fermate\u001b[39;49m\u001b[38;5;124;43m\"\u001b[39;49m\u001b[43m)\u001b[49m:\n\u001b[1;32m      6\u001b[0m     df \u001b[38;5;241m=\u001b[39m pd\u001b[38;5;241m.\u001b[39mread_excel(\u001b[38;5;124mf\u001b[39m\u001b[38;5;124m\"\u001b[39m\u001b[38;5;124mdataset/fermi_excel/Fermate/\u001b[39m\u001b[38;5;132;01m{\u001b[39;00ml\u001b[38;5;132;01m}\u001b[39;00m\u001b[38;5;124m\"\u001b[39m)\n\u001b[1;32m      7\u001b[0m     name \u001b[38;5;241m=\u001b[39m l\u001b[38;5;241m.\u001b[39mreplace(\u001b[38;5;124m\"\u001b[39m\u001b[38;5;124m.xls\u001b[39m\u001b[38;5;124m\"\u001b[39m, \u001b[38;5;124m\"\u001b[39m\u001b[38;5;124m\"\u001b[39m)\n",
      "\u001b[0;31mFileNotFoundError\u001b[0m: [Errno 2] No such file or directory: 'dataset/fermi_excel/Fermate'"
     ]
    }
   ],
   "source": [
    "# Converts Fermate xls to csv\n",
    "import os\n",
    "import pandas as pd\n",
    "\n",
    "for l in os.listdir(\"dataset/fermi_excel/Fermate\"):\n",
    "    df = pd.read_excel(f\"dataset/fermi_excel/Fermate/{l}\")\n",
    "    name = l.replace(\".xls\", \"\")\n",
    "\n",
    "    df.to_csv(f\"dataset/fermi/Fermate/{name}.csv\", index=False)\n",
    "\n",
    "df = pd.read_excel(f\"dataset/fermi_excel/FERMATE 2211 ACR.xls\")\n",
    "df.to_csv(f\"dataset/fermi/FERMATE 2211 ACR.csv\", index=False)"
   ]
  },
  {
   "cell_type": "markdown",
   "metadata": {},
   "source": [
    "Now I iterate for every machine to get the data from the 3 datasets and merge them into one dataset, removing the ones that are not useful for the analysis."
   ]
  },
  {
   "cell_type": "markdown",
   "metadata": {},
   "source": [
    "IT1 ~ Now we can check for all the dataset and see what we can do with them"
   ]
  },
  {
   "cell_type": "code",
   "execution_count": null,
   "metadata": {},
   "outputs": [
    {
     "name": "stdout",
     "output_type": "stream",
     "text": [
      "file already exists id-306_2023-1.csv\n",
      "file already exists id-306_2023-2.csv\n",
      "file already exists id-306_2023-3.csv\n",
      "file already exists id-306_2023-4.csv\n",
      "file already exists id-306_2023-5.csv\n",
      "file already exists id-306_2023-6.csv\n",
      "file already exists id-306_2023-7.csv\n",
      "file already exists id-306_2023-8.csv\n",
      "file already exists id-306_2023-9.csv\n",
      "file already exists id-306_2023-10.csv\n",
      "file already exists id-306_2023-11.csv\n",
      "file already exists id-306_2023-12.csv\n",
      "file already exists id-306_2022-3.csv\n",
      "file already exists id-306_2022-5.csv\n",
      "file already exists id-306_2022-6.csv\n",
      "file already exists id-306_2022-7.csv\n",
      "file already exists id-306_2022-8.csv\n",
      "file already exists id-306_2022-9.csv\n",
      "file already exists id-306_2022-10.csv\n",
      "file already exists id-306_2022-11.csv\n",
      "file already exists id-306_2022-12.csv\n",
      "file already exists id-305_2022-3.csv\n",
      "file already exists id-305_2022-5.csv\n",
      "file already exists id-305_2022-6.csv\n",
      "file already exists id-305_2022-7.csv\n",
      "file already exists id-305_2022-8.csv\n",
      "file already exists id-305_2022-9.csv\n",
      "file already exists id-305_2022-10.csv\n",
      "file already exists id-305_2022-11.csv\n",
      "file already exists id-305_2022-12.csv\n",
      "file already exists id-305_2023-1.csv\n",
      "file already exists id-305_2023-2.csv\n",
      "file already exists id-305_2023-3.csv\n",
      "file already exists id-305_2023-4.csv\n",
      "file already exists id-305_2023-5.csv\n",
      "file already exists id-305_2023-6.csv\n",
      "file already exists id-305_2023-7.csv\n",
      "file already exists id-305_2023-8.csv\n",
      "file already exists id-305_2023-9.csv\n",
      "file already exists id-305_2023-10.csv\n",
      "file already exists id-305_2023-11.csv\n",
      "file already exists id-305_2023-12.csv\n",
      "file already exists id-315_2022-3.csv\n",
      "file already exists id-315_2022-5.csv\n",
      "file already exists id-315_2022-6.csv\n",
      "file already exists id-315_2022-7.csv\n",
      "file already exists id-315_2022-8.csv\n",
      "file already exists id-315_2022-9.csv\n",
      "file already exists id-315_2022-10.csv\n",
      "file already exists id-315_2022-11.csv\n",
      "file already exists id-315_2022-12.csv\n",
      "file already exists id-315_2023-1.csv\n",
      "file already exists id-315_2023-2.csv\n",
      "file already exists id-315_2023-3.csv\n",
      "file already exists id-315_2023-4.csv\n",
      "file already exists id-315_2023-5.csv\n",
      "file already exists id-315_2023-6.csv\n",
      "file already exists id-315_2023-7.csv\n",
      "file already exists id-315_2023-8.csv\n",
      "file already exists id-315_2023-9.csv\n",
      "file already exists id-315_2023-10.csv\n",
      "file already exists id-315_2023-11.csv\n",
      "file already exists id-315_2023-12.csv\n",
      "file already exists id-618_2023-1.csv\n",
      "file already exists id-618_2023-2.csv\n",
      "file already exists id-618_2023-3.csv\n",
      "file already exists id-618_2023-4.csv\n",
      "file already exists id-618_2023-5.csv\n",
      "file already exists id-618_2023-6.csv\n",
      "file already exists id-618_2023-7.csv\n",
      "file already exists id-618_2023-8.csv\n",
      "file already exists id-618_2023-9.csv\n",
      "file already exists id-618_2023-10.csv\n",
      "file already exists id-618_2023-11.csv\n",
      "file already exists id-618_2023-12.csv\n",
      "file already exists id-618_2022-3.csv\n",
      "file already exists id-618_2022-5.csv\n",
      "file already exists id-618_2022-6.csv\n",
      "file already exists id-618_2022-7.csv\n",
      "file already exists id-618_2022-8.csv\n",
      "file already exists id-618_2022-9.csv\n",
      "file already exists id-618_2022-10.csv\n",
      "file already exists id-618_2022-11.csv\n",
      "file already exists id-618_2022-12.csv\n",
      "file already exists id-108_2022-8.csv\n",
      "file already exists id-108_2022-9.csv\n",
      "file already exists id-108_2022-10.csv\n",
      "file already exists id-108_2022-11.csv\n",
      "file already exists id-108_2022-12.csv\n",
      "file already exists id-108_2023-1.csv\n",
      "file already exists id-108_2023-2.csv\n",
      "file already exists id-108_2023-3.csv\n",
      "file already exists id-108_2023-4.csv\n",
      "file already exists id-108_2023-5.csv\n",
      "file already exists id-108_2023-6.csv\n",
      "file already exists id-108_2023-7.csv\n",
      "file already exists id-108_2023-8.csv\n",
      "file already exists id-108_2023-9.csv\n",
      "file already exists id-108_2023-10.csv\n",
      "file already exists id-108_2023-11.csv\n",
      "file already exists id-108_2023-12.csv\n",
      "file already exists id-610_2023-1.csv\n",
      "file already exists id-610_2023-2.csv\n",
      "file already exists id-610_2023-3.csv\n",
      "file already exists id-610_2023-4.csv\n",
      "file already exists id-610_2023-5.csv\n",
      "file already exists id-610_2023-6.csv\n",
      "file already exists id-610_2023-7.csv\n",
      "file already exists id-610_2023-8.csv\n",
      "file already exists id-610_2023-9.csv\n",
      "file already exists id-610_2023-10.csv\n",
      "file already exists id-610_2023-11.csv\n",
      "file already exists id-610_2023-12.csv\n",
      "file already exists id-610_2022-3.csv\n",
      "file already exists id-610_2022-5.csv\n",
      "file already exists id-610_2022-6.csv\n",
      "file already exists id-610_2022-7.csv\n",
      "file already exists id-610_2022-8.csv\n",
      "file already exists id-610_2022-9.csv\n",
      "file already exists id-610_2022-10.csv\n",
      "file already exists id-610_2022-11.csv\n",
      "file already exists id-610_2022-12.csv\n",
      "file already exists id-301_2023-1.csv\n",
      "file already exists id-301_2023-2.csv\n",
      "file already exists id-301_2023-3.csv\n",
      "file already exists id-301_2023-4.csv\n",
      "file already exists id-301_2023-5.csv\n",
      "file already exists id-301_2023-6.csv\n",
      "file already exists id-301_2023-7.csv\n",
      "file already exists id-301_2023-8.csv\n",
      "file already exists id-301_2023-9.csv\n",
      "file already exists id-301_2023-10.csv\n",
      "file already exists id-301_2023-11.csv\n",
      "file already exists id-301_2023-12.csv\n",
      "file already exists id-301_2022-3.csv\n",
      "file already exists id-301_2022-5.csv\n",
      "file already exists id-301_2022-6.csv\n",
      "file already exists id-301_2022-7.csv\n",
      "file already exists id-301_2022-8.csv\n",
      "file already exists id-301_2022-9.csv\n",
      "file already exists id-301_2022-10.csv\n",
      "file already exists id-301_2022-11.csv\n",
      "file already exists id-301_2022-12.csv\n",
      "file already exists id-304_2022-3.csv\n",
      "file already exists id-304_2022-5.csv\n",
      "file already exists id-304_2022-6.csv\n",
      "file already exists id-304_2022-7.csv\n",
      "file already exists id-304_2022-8.csv\n",
      "file already exists id-304_2022-9.csv\n",
      "file already exists id-304_2022-10.csv\n",
      "file already exists id-304_2022-11.csv\n",
      "file already exists id-304_2022-12.csv\n",
      "file already exists id-304_2023-1.csv\n",
      "file already exists id-304_2023-2.csv\n",
      "file already exists id-304_2023-3.csv\n",
      "file already exists id-304_2023-4.csv\n",
      "file already exists id-304_2023-5.csv\n",
      "file already exists id-304_2023-6.csv\n",
      "file already exists id-304_2023-7.csv\n",
      "file already exists id-304_2023-8.csv\n",
      "file already exists id-304_2023-9.csv\n",
      "file already exists id-304_2023-10.csv\n",
      "file already exists id-304_2023-11.csv\n",
      "file already exists id-304_2023-12.csv\n",
      "file already exists id-307_2023-1.csv\n",
      "file already exists id-307_2023-2.csv\n",
      "file already exists id-307_2023-3.csv\n",
      "file already exists id-307_2023-4.csv\n",
      "file already exists id-307_2023-5.csv\n",
      "file already exists id-307_2023-6.csv\n",
      "file already exists id-307_2023-7.csv\n",
      "file already exists id-307_2023-8.csv\n",
      "file already exists id-307_2023-9.csv\n",
      "file already exists id-307_2023-10.csv\n",
      "file already exists id-307_2023-11.csv\n",
      "file already exists id-307_2023-12.csv\n",
      "file already exists id-307_2022-3.csv\n",
      "file already exists id-307_2022-5.csv\n",
      "file already exists id-307_2022-6.csv\n",
      "file already exists id-307_2022-7.csv\n",
      "file already exists id-307_2022-8.csv\n",
      "file already exists id-307_2022-9.csv\n",
      "file already exists id-307_2022-10.csv\n",
      "file already exists id-307_2022-11.csv\n",
      "file already exists id-307_2022-12.csv\n",
      "file already exists id-611_2022-3.csv\n",
      "file already exists id-611_2022-5.csv\n",
      "file already exists id-611_2022-6.csv\n",
      "file already exists id-611_2022-7.csv\n",
      "file already exists id-611_2022-8.csv\n",
      "file already exists id-611_2022-9.csv\n",
      "file already exists id-611_2022-10.csv\n",
      "file already exists id-611_2022-11.csv\n",
      "file already exists id-611_2022-12.csv\n",
      "file already exists id-611_2023-1.csv\n",
      "file already exists id-611_2023-2.csv\n",
      "file already exists id-611_2023-3.csv\n",
      "file already exists id-611_2023-4.csv\n",
      "file already exists id-611_2023-5.csv\n",
      "file already exists id-611_2023-6.csv\n",
      "file already exists id-611_2023-7.csv\n",
      "file already exists id-611_2023-8.csv\n",
      "file already exists id-611_2023-9.csv\n",
      "file already exists id-611_2023-10.csv\n",
      "file already exists id-611_2023-11.csv\n",
      "file already exists id-611_2023-12.csv\n",
      "file already exists id-308_2022-3.csv\n",
      "file already exists id-308_2022-5.csv\n",
      "file already exists id-308_2022-6.csv\n",
      "file already exists id-308_2022-7.csv\n",
      "file already exists id-308_2022-8.csv\n",
      "file already exists id-308_2022-9.csv\n",
      "file already exists id-308_2022-10.csv\n",
      "file already exists id-308_2022-11.csv\n",
      "file already exists id-308_2022-12.csv\n",
      "file already exists id-308_2023-1.csv\n",
      "file already exists id-308_2023-2.csv\n",
      "file already exists id-308_2023-3.csv\n",
      "file already exists id-308_2023-4.csv\n",
      "file already exists id-308_2023-5.csv\n",
      "file already exists id-308_2023-6.csv\n",
      "file already exists id-308_2023-7.csv\n",
      "file already exists id-308_2023-8.csv\n",
      "file already exists id-308_2023-9.csv\n",
      "file already exists id-308_2023-10.csv\n",
      "file already exists id-308_2023-11.csv\n",
      "file already exists id-308_2023-12.csv\n",
      "file already exists id-515_2023-1.csv\n",
      "file already exists id-515_2023-2.csv\n",
      "file already exists id-515_2023-3.csv\n",
      "file already exists id-515_2023-4.csv\n",
      "file already exists id-515_2023-5.csv\n",
      "file already exists id-515_2023-6.csv\n",
      "file already exists id-515_2023-7.csv\n",
      "file already exists id-515_2023-8.csv\n",
      "file already exists id-515_2023-9.csv\n",
      "file already exists id-515_2023-10.csv\n",
      "file already exists id-515_2023-11.csv\n",
      "file already exists id-515_2023-12.csv\n",
      "file already exists id-515_2022-3.csv\n",
      "file already exists id-515_2022-5.csv\n",
      "file already exists id-515_2022-6.csv\n",
      "file already exists id-515_2022-7.csv\n",
      "file already exists id-515_2022-8.csv\n",
      "file already exists id-515_2022-9.csv\n",
      "file already exists id-515_2022-10.csv\n",
      "file already exists id-515_2022-11.csv\n",
      "file already exists id-515_2022-12.csv\n",
      "file already exists id-110_2023-1.csv\n",
      "file already exists id-110_2023-2.csv\n",
      "file already exists id-110_2023-3.csv\n",
      "file already exists id-110_2023-4.csv\n",
      "file already exists id-110_2023-5.csv\n",
      "file already exists id-110_2023-6.csv\n",
      "file already exists id-110_2023-7.csv\n",
      "file already exists id-110_2023-8.csv\n",
      "file already exists id-110_2023-9.csv\n",
      "file already exists id-110_2023-10.csv\n",
      "file already exists id-110_2023-11.csv\n",
      "file already exists id-110_2023-12.csv\n",
      "file already exists id-110_2022-8.csv\n",
      "file already exists id-110_2022-9.csv\n",
      "file already exists id-110_2022-10.csv\n",
      "file already exists id-110_2022-11.csv\n",
      "file already exists id-110_2022-12.csv\n",
      "file already exists id-614_2023-1.csv\n",
      "file already exists id-614_2023-2.csv\n",
      "file already exists id-614_2023-3.csv\n",
      "file already exists id-614_2023-4.csv\n",
      "file already exists id-614_2023-5.csv\n",
      "file already exists id-614_2023-6.csv\n",
      "file already exists id-614_2023-7.csv\n",
      "file already exists id-614_2023-8.csv\n",
      "file already exists id-614_2023-9.csv\n",
      "file already exists id-614_2023-10.csv\n",
      "file already exists id-614_2023-11.csv\n",
      "file already exists id-614_2023-12.csv\n",
      "file already exists id-614_2022-3.csv\n",
      "file already exists id-614_2022-5.csv\n",
      "file already exists id-614_2022-6.csv\n",
      "file already exists id-614_2022-7.csv\n",
      "file already exists id-614_2022-8.csv\n",
      "file already exists id-614_2022-9.csv\n",
      "file already exists id-614_2022-10.csv\n",
      "file already exists id-614_2022-11.csv\n",
      "file already exists id-614_2022-12.csv\n",
      "file already exists id-302_2022-3.csv\n",
      "file already exists id-302_2022-5.csv\n",
      "file already exists id-302_2022-6.csv\n",
      "file already exists id-302_2022-7.csv\n",
      "file already exists id-302_2022-8.csv\n",
      "file already exists id-302_2022-9.csv\n",
      "file already exists id-302_2022-10.csv\n",
      "file already exists id-302_2022-11.csv\n",
      "file already exists id-302_2022-12.csv\n",
      "file already exists id-302_2023-1.csv\n",
      "file already exists id-302_2023-2.csv\n",
      "file already exists id-302_2023-3.csv\n",
      "file already exists id-302_2023-4.csv\n",
      "file already exists id-302_2023-5.csv\n",
      "file already exists id-302_2023-6.csv\n",
      "file already exists id-302_2023-7.csv\n",
      "file already exists id-302_2023-8.csv\n",
      "file already exists id-302_2023-9.csv\n",
      "file already exists id-302_2023-10.csv\n",
      "file already exists id-302_2023-11.csv\n",
      "file already exists id-302_2023-12.csv\n",
      "file already exists id-319_2023-1.csv\n",
      "file already exists id-319_2023-2.csv\n",
      "file already exists id-319_2023-3.csv\n",
      "file already exists id-319_2023-4.csv\n",
      "file already exists id-319_2023-5.csv\n",
      "file already exists id-319_2023-6.csv\n",
      "file already exists id-319_2023-7.csv\n",
      "file already exists id-319_2023-8.csv\n",
      "file already exists id-319_2023-9.csv\n",
      "file already exists id-319_2023-10.csv\n",
      "file already exists id-319_2023-11.csv\n",
      "file already exists id-319_2023-12.csv\n",
      "file already exists id-319_2022-3.csv\n",
      "file already exists id-319_2022-5.csv\n",
      "file already exists id-319_2022-6.csv\n",
      "file already exists id-319_2022-7.csv\n",
      "file already exists id-319_2022-8.csv\n",
      "file already exists id-319_2022-9.csv\n",
      "file already exists id-319_2022-10.csv\n",
      "file already exists id-319_2022-11.csv\n",
      "file already exists id-319_2022-12.csv\n",
      "file already exists id-612_2023-1.csv\n",
      "file already exists id-612_2023-2.csv\n",
      "file already exists id-612_2023-3.csv\n",
      "file already exists id-612_2023-4.csv\n",
      "file already exists id-612_2023-5.csv\n",
      "file already exists id-612_2023-6.csv\n",
      "file already exists id-612_2023-7.csv\n",
      "file already exists id-612_2023-8.csv\n",
      "file already exists id-612_2023-9.csv\n",
      "file already exists id-612_2023-10.csv\n",
      "file already exists id-612_2023-11.csv\n",
      "file already exists id-612_2023-12.csv\n",
      "file already exists id-612_2022-3.csv\n",
      "file already exists id-612_2022-5.csv\n",
      "file already exists id-612_2022-6.csv\n",
      "file already exists id-612_2022-7.csv\n",
      "file already exists id-612_2022-8.csv\n",
      "file already exists id-612_2022-9.csv\n",
      "file already exists id-612_2022-10.csv\n",
      "file already exists id-612_2022-11.csv\n",
      "file already exists id-612_2022-12.csv\n",
      "file already exists id-313_2023-1.csv\n",
      "file already exists id-313_2023-2.csv\n",
      "file already exists id-313_2023-3.csv\n",
      "file already exists id-313_2023-4.csv\n",
      "file already exists id-313_2023-5.csv\n",
      "file already exists id-313_2023-6.csv\n",
      "file already exists id-313_2023-7.csv\n",
      "file already exists id-313_2023-8.csv\n",
      "file already exists id-313_2023-9.csv\n",
      "file already exists id-313_2023-10.csv\n",
      "file already exists id-313_2023-11.csv\n",
      "file already exists id-313_2023-12.csv\n",
      "file already exists id-313_2022-3.csv\n",
      "file already exists id-313_2022-5.csv\n",
      "file already exists id-313_2022-6.csv\n",
      "file already exists id-313_2022-7.csv\n",
      "file already exists id-313_2022-8.csv\n",
      "file already exists id-313_2022-9.csv\n",
      "file already exists id-313_2022-10.csv\n",
      "file already exists id-313_2022-11.csv\n",
      "file already exists id-313_2022-12.csv\n",
      "file already exists id-310_2023-1.csv\n",
      "file already exists id-310_2023-2.csv\n",
      "file already exists id-310_2023-3.csv\n",
      "file already exists id-310_2023-4.csv\n",
      "file already exists id-310_2023-5.csv\n",
      "file already exists id-310_2023-6.csv\n",
      "file already exists id-310_2023-7.csv\n",
      "file already exists id-310_2023-8.csv\n",
      "file already exists id-310_2023-9.csv\n",
      "file already exists id-310_2023-10.csv\n",
      "file already exists id-310_2023-11.csv\n",
      "file already exists id-310_2023-12.csv\n",
      "file already exists id-310_2022-3.csv\n",
      "file already exists id-310_2022-5.csv\n",
      "file already exists id-310_2022-6.csv\n",
      "file already exists id-310_2022-7.csv\n",
      "file already exists id-310_2022-8.csv\n",
      "file already exists id-310_2022-9.csv\n",
      "file already exists id-310_2022-10.csv\n",
      "file already exists id-310_2022-11.csv\n",
      "file already exists id-310_2022-12.csv\n",
      "file already exists id-303_2023-1.csv\n",
      "file already exists id-303_2023-2.csv\n",
      "file already exists id-303_2023-3.csv\n",
      "file already exists id-303_2023-4.csv\n",
      "file already exists id-303_2023-5.csv\n",
      "file already exists id-303_2023-6.csv\n",
      "file already exists id-303_2023-7.csv\n",
      "file already exists id-303_2023-8.csv\n",
      "file already exists id-303_2023-9.csv\n",
      "file already exists id-303_2023-10.csv\n",
      "file already exists id-303_2023-11.csv\n",
      "file already exists id-303_2023-12.csv\n",
      "file already exists id-303_2022-3.csv\n",
      "file already exists id-303_2022-5.csv\n",
      "file already exists id-303_2022-6.csv\n",
      "file already exists id-303_2022-7.csv\n",
      "file already exists id-303_2022-8.csv\n",
      "file already exists id-303_2022-9.csv\n",
      "file already exists id-303_2022-10.csv\n",
      "file already exists id-303_2022-11.csv\n",
      "file already exists id-303_2022-12.csv\n",
      "file already exists id-309_2022-3.csv\n",
      "file already exists id-309_2022-5.csv\n",
      "file already exists id-309_2022-6.csv\n",
      "file already exists id-309_2022-7.csv\n",
      "file already exists id-309_2022-8.csv\n",
      "file already exists id-309_2022-9.csv\n",
      "file already exists id-309_2022-10.csv\n",
      "file already exists id-309_2022-11.csv\n",
      "file already exists id-309_2022-12.csv\n",
      "file already exists id-309_2023-1.csv\n",
      "file already exists id-309_2023-2.csv\n",
      "file already exists id-309_2023-3.csv\n",
      "file already exists id-309_2023-4.csv\n",
      "file already exists id-309_2023-5.csv\n",
      "file already exists id-309_2023-6.csv\n",
      "file already exists id-309_2023-7.csv\n",
      "file already exists id-309_2023-8.csv\n",
      "file already exists id-309_2023-9.csv\n",
      "file already exists id-309_2023-10.csv\n",
      "file already exists id-309_2023-11.csv\n",
      "file already exists id-309_2023-12.csv\n",
      "file already exists id-314_2023-1.csv\n",
      "file already exists id-314_2023-2.csv\n",
      "file already exists id-314_2023-3.csv\n",
      "file already exists id-314_2023-4.csv\n",
      "file already exists id-314_2023-5.csv\n",
      "file already exists id-314_2023-6.csv\n",
      "file already exists id-314_2023-7.csv\n",
      "file already exists id-314_2023-8.csv\n",
      "file already exists id-314_2023-9.csv\n",
      "file already exists id-314_2023-10.csv\n",
      "file already exists id-314_2023-11.csv\n",
      "file already exists id-314_2023-12.csv\n",
      "file already exists id-314_2022-3.csv\n",
      "file already exists id-314_2022-5.csv\n",
      "file already exists id-314_2022-6.csv\n",
      "file already exists id-314_2022-7.csv\n",
      "file already exists id-314_2022-8.csv\n",
      "file already exists id-314_2022-9.csv\n",
      "file already exists id-314_2022-10.csv\n",
      "file already exists id-314_2022-11.csv\n",
      "file already exists id-314_2022-12.csv\n"
     ]
    }
   ],
   "source": [
    "# Merge the 3 dataset into one and saves in it1\n",
    "import os\n",
    "\n",
    "import pandas as pd\n",
    "from scripts.getDataset import getEntireDataset, getList\n",
    "\n",
    "DEBUG = True\n",
    "pd.set_option(\"display.max_rows\", None)\n",
    "pd.options.mode.copy_on_write = False\n",
    "\n",
    "toskip = [file for file in os.listdir(\"dataset/results/it1\")]\n",
    "\n",
    "complete_dataset = getList()\n",
    "\n",
    "for machineId, year, month in complete_dataset:\n",
    "    filename = f\"id-{machineId}_{year}-{month}.csv\"\n",
    "\n",
    "    if filename in toskip:\n",
    "        print(\"file already exists\", filename)\n",
    "        continue\n",
    "\n",
    "    dataset = getEntireDataset(machineId, year, month, False)\n",
    "\n",
    "    dataset.to_csv(\n",
    "        f\"dataset/results/it1/{filename}\", index=False\n",
    "    )\n"
   ]
  },
  {
   "cell_type": "markdown",
   "metadata": {},
   "source": [
    "IT2 ~ It takes 25 minutes to compute everything but now I want to look at the lifetime of the machines and see if I can find something interesting, merging the data into one file for machine"
   ]
  },
  {
   "cell_type": "code",
   "execution_count": null,
   "metadata": {},
   "outputs": [
    {
     "name": "stdout",
     "output_type": "stream",
     "text": [
      "Skipping file is probably empty id-315_2022-3.csv\n",
      "Skipping file is probably empty id-610_2022-9.csv\n",
      "Skipping file is probably empty id-108_2022-10.csv\n",
      "Skipping file is probably empty id-611_2022-10.csv\n",
      "Skipping file is probably empty id-110_2022-9.csv\n",
      "Skipping file is probably empty id-309_2022-3.csv\n",
      "Skipping file is probably empty id-313_2022-9.csv\n",
      "Skipping file is probably empty id-303_2022-10.csv\n",
      "Skipping file is probably empty id-611_2023-4.csv\n",
      "Skipping file is probably empty id-618_2022-10.csv\n",
      "Skipping file is probably empty id-302_2022-9.csv\n",
      "Skipping file is probably empty id-303_2023-4.csv\n",
      "Skipping file is probably empty id-304_2022-3.csv\n",
      "Skipping file is probably empty id-313_2022-10.csv\n",
      "Skipping file is probably empty id-618_2022-9.csv\n",
      "Skipping file is probably empty id-307_2022-9.csv\n",
      "Skipping file is probably empty id-308_2023-8.csv\n",
      "Skipping file is probably empty id-515_2022-3.csv\n",
      "Skipping file is probably empty id-308_2023-9.csv\n",
      "Skipping file is probably empty id-301_2022-3.csv\n",
      "Skipping file is probably empty id-306_2023-4.csv\n",
      "Skipping file is probably empty id-108_2023-4.csv\n",
      "Skipping file is probably empty id-305_2023-8.csv\n",
      "Skipping file is probably empty id-310_2022-3.csv\n",
      "Skipping file is probably empty id-614_2022-10.csv\n",
      "Skipping file is probably empty id-614_2023-4.csv\n",
      "Skipping file is probably empty id-305_2023-9.csv\n",
      "Skipping file is probably empty id-306_2022-10.csv\n",
      "Skipping file is probably empty id-614_2022-3.csv\n",
      "Skipping file is probably empty id-305_2022-10.csv\n",
      "Skipping file is probably empty id-308_2023-10.csv\n",
      "Skipping file is probably empty id-308_2023-11.csv\n",
      "Skipping file is probably empty id-612_2022-9.csv\n",
      "Skipping file is probably empty id-319_2022-10.csv\n",
      "Skipping file is probably empty id-310_2023-4.csv\n",
      "Skipping file is probably empty id-515_2023-4.csv\n",
      "Skipping file is probably empty id-301_2023-4.csv\n",
      "Skipping file is probably empty id-306_2022-3.csv\n",
      "Skipping file is probably empty id-308_2023-12.csv\n",
      "Skipping file is probably empty id-310_2022-10.csv\n",
      "Skipping file is probably empty id-319_2022-9.csv\n",
      "Skipping file is probably empty id-303_2022-3.csv\n",
      "Skipping file is probably empty id-304_2023-4.csv\n",
      "Skipping file is probably empty id-309_2022-10.csv\n",
      "Skipping file is probably empty id-315_2022-10.csv\n",
      "Skipping file is probably empty id-305_2022-9.csv\n",
      "Skipping file is probably empty id-309_2023-4.csv\n",
      "Skipping file is probably empty id-611_2022-3.csv\n",
      "Skipping file is probably empty id-314_2022-9.csv\n",
      "Skipping file is probably empty id-315_2023-4.csv\n",
      "Skipping file is probably empty id-308_2022-9.csv\n",
      "Skipping file is probably empty id-612_2022-10.csv\n",
      "Skipping file is probably empty id-304_2023-12.csv\n",
      "Skipping file is probably empty id-110_2022-10.csv\n",
      "Skipping file is probably empty id-307_2022-10.csv\n",
      "Skipping file is probably empty id-306_2022-9.csv\n",
      "Skipping file is probably empty id-307_2023-4.csv\n",
      "Skipping file is probably empty id-618_2023-4.csv\n",
      "Skipping file is probably empty id-614_2022-9.csv\n",
      "Skipping file is probably empty id-612_2022-3.csv\n",
      "Skipping file is probably empty id-108_2022-9.csv\n",
      "Skipping file is probably empty id-313_2023-4.csv\n",
      "Skipping file is probably empty id-611_2022-9.csv\n",
      "Skipping file is probably empty id-314_2022-3.csv\n",
      "Skipping file is probably empty id-610_2023-4.csv\n",
      "Skipping file is probably empty id-110_2023-4.csv\n",
      "Skipping file is probably empty id-308_2022-3.csv\n",
      "Skipping file is probably empty id-302_2022-10.csv\n",
      "Skipping file is probably empty id-319_2022-3.csv\n",
      "Skipping file is probably empty id-303_2022-9.csv\n",
      "Skipping file is probably empty id-610_2022-10.csv\n",
      "Skipping file is probably empty id-305_2022-3.csv\n",
      "Skipping file is probably empty id-302_2023-4.csv\n",
      "Skipping file is probably empty id-515_2022-10.csv\n",
      "Skipping file is probably empty id-305_2023-4.csv\n",
      "Skipping file is probably empty id-305_2023-12.csv\n",
      "Skipping file is probably empty id-302_2022-3.csv\n",
      "Skipping file is probably empty id-319_2023-4.csv\n",
      "Skipping file is probably empty id-304_2022-9.csv\n",
      "Skipping file is probably empty id-301_2022-10.csv\n",
      "Skipping file is probably empty id-315_2022-9.csv\n",
      "Skipping file is probably empty id-610_2022-3.csv\n",
      "Skipping file is probably empty id-305_2023-7.csv\n",
      "Skipping file is probably empty id-314_2022-10.csv\n",
      "Skipping file is probably empty id-308_2023-4.csv\n",
      "Skipping file is probably empty id-305_2023-11.csv\n",
      "Skipping file is probably empty id-305_2023-10.csv\n",
      "Skipping file is probably empty id-309_2022-9.csv\n",
      "Skipping file is probably empty id-313_2022-3.csv\n",
      "Skipping file is probably empty id-314_2023-4.csv\n",
      "Skipping file is probably empty id-305_2023-6.csv\n",
      "Skipping file is probably empty id-308_2022-10.csv\n",
      "Skipping file is probably empty id-612_2023-4.csv\n",
      "Skipping file is probably empty id-310_2022-9.csv\n",
      "Skipping file is probably empty id-618_2022-3.csv\n",
      "Skipping file is probably empty id-307_2022-3.csv\n",
      "Skipping file is probably empty id-304_2022-10.csv\n",
      "Skipping file is probably empty id-515_2022-9.csv\n",
      "Skipping file is probably empty id-301_2022-9.csv\n"
     ]
    }
   ],
   "source": [
    "# Merge data time series into a single file for each machine, also append material\n",
    "import pandas as pd\n",
    "import os\n",
    "from scripts.getSingleDataset.utils import getCleanDataset, replaceWithUnknown\n",
    "from scripts.getSingleDataset.getProductions import getProductionWithFixedComma\n",
    "\n",
    "# get materials\n",
    "materials = getProductionWithFixedComma(f\"dataset/fermi/FERMATE 2211 ACR.csv\")[\n",
    "    [\"CODART\", \"ACR\"]\n",
    "].drop_duplicates()\n",
    "materials.rename(columns={\"CODART\": \"COD_ART\", \"ACR\": \"Material\"}, inplace=True)\n",
    "\n",
    "complete_dataset = {}\n",
    "\n",
    "for path in os.listdir(\"dataset/results/it1\"):\n",
    "    splitted_filename = [p.split(\"-\") for p in path.replace(\".csv\", \"\").split(\"_\")]\n",
    "\n",
    "    try:\n",
    "        d = getCleanDataset(f\"dataset/results/it1/{path}\")\n",
    "    except pd.errors.EmptyDataError as e:\n",
    "        print(\"Skipping file is probably empty\", path)\n",
    "        continue\n",
    "\n",
    "    if d.empty:\n",
    "        print(\"Skipping as empty\", path)\n",
    "        continue\n",
    "\n",
    "    machineId = int(splitted_filename[0][1])\n",
    "\n",
    "    d = pd.merge(d, materials, how=\"left\")\n",
    "\n",
    "    v = d[d[\"START_DATE\"] == pd.to_datetime(\"2022-05-30 10:30\")]\n",
    "    \n",
    "    if v.count().sum() > 0:\n",
    "        print(v)\n",
    "\n",
    "    value = [d]\n",
    "\n",
    "    if machineId in complete_dataset:\n",
    "        old_data = complete_dataset.get(machineId)\n",
    "\n",
    "        for old in old_data:\n",
    "            value.append(old)\n",
    "\n",
    "    complete_dataset.update({machineId: value})\n",
    "\n",
    "for machineId in complete_dataset.keys():\n",
    "    df = pd.concat(complete_dataset.get(machineId))\n",
    "    prev_col = df.columns\n",
    "\n",
    "    df = (\n",
    "        df.groupby([\"START_DATE\", \"END_DATE\"])\n",
    "        .agg({\n",
    "            \"Stop\": \"first\",\n",
    "            \"COD_ART\": \"first\",\n",
    "            \"Productions\": \"sum\",\n",
    "            \"EnergyConsumption\": \"sum\",\n",
    "            \"Material\": \"first\",\n",
    "        })\n",
    "        .reset_index()\n",
    "    )\n",
    "    assert (prev_col == df.columns).all(), (prev_col, df.columns)\n",
    "\n",
    "    df = replaceWithUnknown(df)\n",
    "\n",
    "    size = df.shape[0]\n",
    "    df.drop_duplicates(inplace=True)\n",
    "    assert size == df.shape[0], df.shape[0]\n",
    "\n",
    "    df.to_csv(f\"dataset/results/it2/id-{machineId}.csv\", mode=\"w\", index=False)"
   ]
  },
  {
   "cell_type": "markdown",
   "metadata": {},
   "source": [
    "We can show the results to make the analysis"
   ]
  },
  {
   "cell_type": "code",
   "execution_count": null,
   "metadata": {},
   "outputs": [
    {
     "data": {
      "application/vnd.plotly.v1+json": {
       "config": {
        "plotlyServerURL": "https://plot.ly"
       },
       "data": [
        {
         "marker": {
          "color": "blue",
          "size": 10
         },
         "mode": "markers+lines",
         "name": "OTT Energy",
         "text": [
          1351.1,
          0,
          0,
          0,
          0,
          0,
          0,
          0,
          0,
          1510.1,
          1517.7
         ],
         "type": "scatter",
         "x": [
          "2022-12-01T21:37:30",
          "2022-12-01T21:52:30",
          "2022-12-01T22:07:30",
          "2022-12-01T22:22:30",
          "2022-12-01T22:37:30",
          "2022-12-01T22:52:30",
          "2022-12-01T23:07:30",
          "2022-12-01T23:22:30",
          "2022-12-01T23:37:30",
          "2022-12-01T23:52:30",
          "2022-12-02T00:07:30"
         ],
         "xaxis": "x",
         "y": [
          1351.1,
          0,
          0,
          0,
          0,
          0,
          0,
          0,
          0,
          1510.1,
          1517.7
         ],
         "yaxis": "y"
        },
        {
         "marker": {
          "color": "blue",
          "size": 10
         },
         "mode": "markers+lines",
         "name": "OTT Productions",
         "text": [
          0,
          102,
          22,
          0,
          19,
          44,
          0,
          -1,
          5,
          6,
          0
         ],
         "type": "scatter",
         "x": [
          "2022-12-01T21:37:30",
          "2022-12-01T21:52:30",
          "2022-12-01T22:07:30",
          "2022-12-01T22:22:30",
          "2022-12-01T22:37:30",
          "2022-12-01T22:52:30",
          "2022-12-01T23:07:30",
          "2022-12-01T23:22:30",
          "2022-12-01T23:37:30",
          "2022-12-01T23:52:30",
          "2022-12-02T00:07:30"
         ],
         "xaxis": "x2",
         "y": [
          0,
          102,
          22,
          0,
          19,
          44,
          0,
          -1,
          5,
          6,
          0
         ],
         "yaxis": "y2"
        },
        {
         "marker": {
          "color": "blue",
          "size": 10
         },
         "mode": "markers",
         "name": "OTT Stops",
         "type": "scatter",
         "x": [
          "2022-12-01T21:37:30",
          "2022-12-01T21:52:30",
          "2022-12-01T22:07:30",
          "2022-12-01T22:22:30",
          "2022-12-01T22:37:30",
          "2022-12-01T22:52:30",
          "2022-12-01T23:07:30",
          "2022-12-01T23:22:30",
          "2022-12-01T23:37:30",
          "2022-12-01T23:52:30",
          "2022-12-02T00:07:30"
         ],
         "xaxis": "x3",
         "y": [
          "Running",
          "Running",
          "Running",
          "Running",
          "Running",
          "Sostituzione utensile",
          "Running",
          "Running",
          "Running",
          "Running",
          "Running"
         ],
         "yaxis": "y3"
        },
        {
         "marker": {
          "color": "black",
          "size": 10
         },
         "mode": "markers+lines",
         "name": "Unknown Energy",
         "text": [
          771.9,
          1252.7,
          1643.6,
          1628.6,
          1621.9,
          1606.9,
          1626.1,
          1589.6,
          1556.8,
          1545.9,
          1485.3,
          951.1,
          1405.5,
          1813.1,
          1799.2,
          1803.1,
          1778.2,
          1736.7,
          1765.4,
          1654,
          1726.3,
          1819.1,
          0,
          0,
          0,
          0,
          0,
          0,
          0,
          1809.6,
          1806.7,
          1759.8,
          1755.2,
          1425.5,
          1323.7,
          1872.1,
          1853.7,
          1765,
          1751,
          1837.6,
          1854.4,
          1834.3,
          1759.7,
          1670.2,
          0,
          0,
          0,
          0,
          0,
          0,
          0,
          0,
          0,
          0,
          0,
          0,
          0,
          0
         ],
         "type": "scatter",
         "x": [
          "2022-12-13T08:52:30",
          "2022-12-13T09:07:30",
          "2022-12-13T09:22:30",
          "2022-12-13T09:37:30",
          "2022-12-13T09:52:30",
          "2022-12-13T10:07:30",
          "2022-12-13T10:22:30",
          "2022-12-13T10:37:30",
          "2022-12-13T10:52:30",
          "2022-12-13T11:07:30",
          "2022-12-13T11:22:30",
          "2022-12-16T18:52:30",
          "2022-12-16T19:07:30",
          "2022-12-16T19:22:30",
          "2022-12-16T19:37:30",
          "2022-12-16T19:52:30",
          "2022-12-16T20:07:30",
          "2022-12-16T20:22:30",
          "2022-12-16T20:37:30",
          "2022-12-16T20:52:30",
          "2022-12-16T21:07:30",
          "2022-12-16T21:22:30",
          "2022-12-16T21:52:30",
          "2022-12-16T22:07:30",
          "2022-12-16T22:22:30",
          "2022-12-16T22:37:30",
          "2022-12-16T22:52:30",
          "2022-12-16T23:07:30",
          "2022-12-16T23:22:30",
          "2022-12-16T23:52:30",
          "2022-12-17T00:07:30",
          "2022-12-17T00:22:30",
          "2022-12-17T00:37:30",
          "2022-12-22T07:22:30",
          "2022-12-22T07:37:30",
          "2022-12-22T07:52:30",
          "2022-12-22T08:07:30",
          "2022-12-22T08:22:30",
          "2022-12-22T08:37:30",
          "2022-12-22T08:52:30",
          "2022-12-22T09:07:30",
          "2022-12-22T09:22:30",
          "2022-12-22T09:37:30",
          "2022-12-22T09:52:30",
          "2022-12-22T22:22:30",
          "2022-12-22T22:37:30",
          "2022-12-22T22:52:30",
          "2022-12-22T23:07:30",
          "2022-12-22T23:22:30",
          "2022-12-23T14:07:30",
          "2022-12-23T22:37:30",
          "2022-12-24T01:07:30",
          "2022-12-24T02:22:30",
          "2022-12-26T23:52:30",
          "2022-12-27T00:07:30",
          "2022-12-27T00:22:30",
          "2022-12-27T00:37:30",
          "2022-12-27T00:52:30"
         ],
         "xaxis": "x",
         "y": [
          771.9,
          1252.7,
          1643.6,
          1628.6,
          1621.9,
          1606.9,
          1626.1,
          1589.6,
          1556.8,
          1545.9,
          1485.3,
          951.1,
          1405.5,
          1813.1,
          1799.2,
          1803.1,
          1778.2,
          1736.7,
          1765.4,
          1654,
          1726.3,
          1819.1,
          0,
          0,
          0,
          0,
          0,
          0,
          0,
          1809.6,
          1806.7,
          1759.8,
          1755.2,
          1425.5,
          1323.7,
          1872.1,
          1853.7,
          1765,
          1751,
          1837.6,
          1854.4,
          1834.3,
          1759.7,
          1670.2,
          0,
          0,
          0,
          0,
          0,
          0,
          0,
          0,
          0,
          0,
          0,
          0,
          0,
          0
         ],
         "yaxis": "y"
        },
        {
         "marker": {
          "color": "black",
          "size": 10
         },
         "mode": "markers+lines",
         "name": "Unknown Productions",
         "text": [
          0,
          0,
          0,
          0,
          0,
          0,
          0,
          0,
          0,
          0,
          0,
          0,
          0,
          0,
          0,
          0,
          0,
          0,
          0,
          0,
          0,
          0,
          0,
          0,
          0,
          0,
          0,
          0,
          0,
          0,
          0,
          0,
          0,
          0,
          0,
          0,
          0,
          0,
          0,
          0,
          0,
          0,
          0,
          0,
          0,
          0,
          0,
          0,
          0,
          0,
          0,
          0,
          0,
          0,
          0,
          0,
          0,
          0
         ],
         "type": "scatter",
         "x": [
          "2022-12-13T08:52:30",
          "2022-12-13T09:07:30",
          "2022-12-13T09:22:30",
          "2022-12-13T09:37:30",
          "2022-12-13T09:52:30",
          "2022-12-13T10:07:30",
          "2022-12-13T10:22:30",
          "2022-12-13T10:37:30",
          "2022-12-13T10:52:30",
          "2022-12-13T11:07:30",
          "2022-12-13T11:22:30",
          "2022-12-16T18:52:30",
          "2022-12-16T19:07:30",
          "2022-12-16T19:22:30",
          "2022-12-16T19:37:30",
          "2022-12-16T19:52:30",
          "2022-12-16T20:07:30",
          "2022-12-16T20:22:30",
          "2022-12-16T20:37:30",
          "2022-12-16T20:52:30",
          "2022-12-16T21:07:30",
          "2022-12-16T21:22:30",
          "2022-12-16T21:52:30",
          "2022-12-16T22:07:30",
          "2022-12-16T22:22:30",
          "2022-12-16T22:37:30",
          "2022-12-16T22:52:30",
          "2022-12-16T23:07:30",
          "2022-12-16T23:22:30",
          "2022-12-16T23:52:30",
          "2022-12-17T00:07:30",
          "2022-12-17T00:22:30",
          "2022-12-17T00:37:30",
          "2022-12-22T07:22:30",
          "2022-12-22T07:37:30",
          "2022-12-22T07:52:30",
          "2022-12-22T08:07:30",
          "2022-12-22T08:22:30",
          "2022-12-22T08:37:30",
          "2022-12-22T08:52:30",
          "2022-12-22T09:07:30",
          "2022-12-22T09:22:30",
          "2022-12-22T09:37:30",
          "2022-12-22T09:52:30",
          "2022-12-22T22:22:30",
          "2022-12-22T22:37:30",
          "2022-12-22T22:52:30",
          "2022-12-22T23:07:30",
          "2022-12-22T23:22:30",
          "2022-12-23T14:07:30",
          "2022-12-23T22:37:30",
          "2022-12-24T01:07:30",
          "2022-12-24T02:22:30",
          "2022-12-26T23:52:30",
          "2022-12-27T00:07:30",
          "2022-12-27T00:22:30",
          "2022-12-27T00:37:30",
          "2022-12-27T00:52:30"
         ],
         "xaxis": "x2",
         "y": [
          0,
          0,
          0,
          0,
          0,
          0,
          0,
          0,
          0,
          0,
          0,
          0,
          0,
          0,
          0,
          0,
          0,
          0,
          0,
          0,
          0,
          0,
          0,
          0,
          0,
          0,
          0,
          0,
          0,
          0,
          0,
          0,
          0,
          0,
          0,
          0,
          0,
          0,
          0,
          0,
          0,
          0,
          0,
          0,
          0,
          0,
          0,
          0,
          0,
          0,
          0,
          0,
          0,
          0,
          0,
          0,
          0,
          0
         ],
         "yaxis": "y2"
        },
        {
         "marker": {
          "color": "black",
          "size": 10
         },
         "mode": "markers",
         "name": "Unknown Stops",
         "type": "scatter",
         "x": [
          "2022-12-13T08:52:30",
          "2022-12-13T09:07:30",
          "2022-12-13T09:22:30",
          "2022-12-13T09:37:30",
          "2022-12-13T09:52:30",
          "2022-12-13T10:07:30",
          "2022-12-13T10:22:30",
          "2022-12-13T10:37:30",
          "2022-12-13T10:52:30",
          "2022-12-13T11:07:30",
          "2022-12-13T11:22:30",
          "2022-12-16T18:52:30",
          "2022-12-16T19:07:30",
          "2022-12-16T19:22:30",
          "2022-12-16T19:37:30",
          "2022-12-16T19:52:30",
          "2022-12-16T20:07:30",
          "2022-12-16T20:22:30",
          "2022-12-16T20:37:30",
          "2022-12-16T20:52:30",
          "2022-12-16T21:07:30",
          "2022-12-16T21:22:30",
          "2022-12-16T21:52:30",
          "2022-12-16T22:07:30",
          "2022-12-16T22:22:30",
          "2022-12-16T22:37:30",
          "2022-12-16T22:52:30",
          "2022-12-16T23:07:30",
          "2022-12-16T23:22:30",
          "2022-12-16T23:52:30",
          "2022-12-17T00:07:30",
          "2022-12-17T00:22:30",
          "2022-12-17T00:37:30",
          "2022-12-22T07:22:30",
          "2022-12-22T07:37:30",
          "2022-12-22T07:52:30",
          "2022-12-22T08:07:30",
          "2022-12-22T08:22:30",
          "2022-12-22T08:37:30",
          "2022-12-22T08:52:30",
          "2022-12-22T09:07:30",
          "2022-12-22T09:22:30",
          "2022-12-22T09:37:30",
          "2022-12-22T09:52:30",
          "2022-12-22T22:22:30",
          "2022-12-22T22:37:30",
          "2022-12-22T22:52:30",
          "2022-12-22T23:07:30",
          "2022-12-22T23:22:30",
          "2022-12-23T14:07:30",
          "2022-12-23T22:37:30",
          "2022-12-24T01:07:30",
          "2022-12-24T02:22:30",
          "2022-12-26T23:52:30",
          "2022-12-27T00:07:30",
          "2022-12-27T00:22:30",
          "2022-12-27T00:37:30",
          "2022-12-27T00:52:30"
         ],
         "xaxis": "x3",
         "y": [
          "Running",
          "Running",
          "Running",
          "Running",
          "Running",
          "Sostituzione utensile",
          "Running",
          "Running",
          "Running",
          "Running",
          "Running",
          "Running",
          "Running",
          "Running",
          "Running",
          "Running",
          "Manutenzione ordinaria",
          "Running",
          "Running",
          "Running",
          "Running",
          "Running",
          "Running",
          "Running",
          "Running",
          "Running",
          "Running",
          "Sostituzione utensile",
          "Running",
          "Running",
          "Running",
          "Running",
          "Running",
          "Running",
          "Running",
          "Running",
          "Running",
          "Running",
          "Sostituzione utensile",
          "Running",
          "Running",
          "Running",
          "Running",
          "Running",
          "Running",
          "Running",
          "Running",
          "Running",
          "Running",
          "Manutenzione ordinaria",
          "Affilatura utensile",
          "Sostituzione utensile",
          "Sostituzione utensile",
          "Running",
          "Running",
          "Running",
          "Running",
          "Running"
         ],
         "yaxis": "y3"
        }
       ],
       "layout": {
        "annotations": [
         {
          "font": {
           "size": 16
          },
          "showarrow": false,
          "text": "Energy Consumption",
          "x": 0.5,
          "xanchor": "center",
          "xref": "paper",
          "y": 1,
          "yanchor": "bottom",
          "yref": "paper"
         },
         {
          "font": {
           "size": 16
          },
          "showarrow": false,
          "text": "Productions",
          "x": 0.5,
          "xanchor": "center",
          "xref": "paper",
          "y": 0.6466666666666667,
          "yanchor": "bottom",
          "yref": "paper"
         },
         {
          "font": {
           "size": 16
          },
          "showarrow": false,
          "text": "Stops",
          "x": 0.5,
          "xanchor": "center",
          "xref": "paper",
          "y": 0.29333333333333333,
          "yanchor": "bottom",
          "yref": "paper"
         }
        ],
        "height": 800,
        "template": {
         "data": {
          "bar": [
           {
            "error_x": {
             "color": "#2a3f5f"
            },
            "error_y": {
             "color": "#2a3f5f"
            },
            "marker": {
             "line": {
              "color": "#E5ECF6",
              "width": 0.5
             },
             "pattern": {
              "fillmode": "overlay",
              "size": 10,
              "solidity": 0.2
             }
            },
            "type": "bar"
           }
          ],
          "barpolar": [
           {
            "marker": {
             "line": {
              "color": "#E5ECF6",
              "width": 0.5
             },
             "pattern": {
              "fillmode": "overlay",
              "size": 10,
              "solidity": 0.2
             }
            },
            "type": "barpolar"
           }
          ],
          "carpet": [
           {
            "aaxis": {
             "endlinecolor": "#2a3f5f",
             "gridcolor": "white",
             "linecolor": "white",
             "minorgridcolor": "white",
             "startlinecolor": "#2a3f5f"
            },
            "baxis": {
             "endlinecolor": "#2a3f5f",
             "gridcolor": "white",
             "linecolor": "white",
             "minorgridcolor": "white",
             "startlinecolor": "#2a3f5f"
            },
            "type": "carpet"
           }
          ],
          "choropleth": [
           {
            "colorbar": {
             "outlinewidth": 0,
             "ticks": ""
            },
            "type": "choropleth"
           }
          ],
          "contour": [
           {
            "colorbar": {
             "outlinewidth": 0,
             "ticks": ""
            },
            "colorscale": [
             [
              0,
              "#0d0887"
             ],
             [
              0.1111111111111111,
              "#46039f"
             ],
             [
              0.2222222222222222,
              "#7201a8"
             ],
             [
              0.3333333333333333,
              "#9c179e"
             ],
             [
              0.4444444444444444,
              "#bd3786"
             ],
             [
              0.5555555555555556,
              "#d8576b"
             ],
             [
              0.6666666666666666,
              "#ed7953"
             ],
             [
              0.7777777777777778,
              "#fb9f3a"
             ],
             [
              0.8888888888888888,
              "#fdca26"
             ],
             [
              1,
              "#f0f921"
             ]
            ],
            "type": "contour"
           }
          ],
          "contourcarpet": [
           {
            "colorbar": {
             "outlinewidth": 0,
             "ticks": ""
            },
            "type": "contourcarpet"
           }
          ],
          "heatmap": [
           {
            "colorbar": {
             "outlinewidth": 0,
             "ticks": ""
            },
            "colorscale": [
             [
              0,
              "#0d0887"
             ],
             [
              0.1111111111111111,
              "#46039f"
             ],
             [
              0.2222222222222222,
              "#7201a8"
             ],
             [
              0.3333333333333333,
              "#9c179e"
             ],
             [
              0.4444444444444444,
              "#bd3786"
             ],
             [
              0.5555555555555556,
              "#d8576b"
             ],
             [
              0.6666666666666666,
              "#ed7953"
             ],
             [
              0.7777777777777778,
              "#fb9f3a"
             ],
             [
              0.8888888888888888,
              "#fdca26"
             ],
             [
              1,
              "#f0f921"
             ]
            ],
            "type": "heatmap"
           }
          ],
          "heatmapgl": [
           {
            "colorbar": {
             "outlinewidth": 0,
             "ticks": ""
            },
            "colorscale": [
             [
              0,
              "#0d0887"
             ],
             [
              0.1111111111111111,
              "#46039f"
             ],
             [
              0.2222222222222222,
              "#7201a8"
             ],
             [
              0.3333333333333333,
              "#9c179e"
             ],
             [
              0.4444444444444444,
              "#bd3786"
             ],
             [
              0.5555555555555556,
              "#d8576b"
             ],
             [
              0.6666666666666666,
              "#ed7953"
             ],
             [
              0.7777777777777778,
              "#fb9f3a"
             ],
             [
              0.8888888888888888,
              "#fdca26"
             ],
             [
              1,
              "#f0f921"
             ]
            ],
            "type": "heatmapgl"
           }
          ],
          "histogram": [
           {
            "marker": {
             "pattern": {
              "fillmode": "overlay",
              "size": 10,
              "solidity": 0.2
             }
            },
            "type": "histogram"
           }
          ],
          "histogram2d": [
           {
            "colorbar": {
             "outlinewidth": 0,
             "ticks": ""
            },
            "colorscale": [
             [
              0,
              "#0d0887"
             ],
             [
              0.1111111111111111,
              "#46039f"
             ],
             [
              0.2222222222222222,
              "#7201a8"
             ],
             [
              0.3333333333333333,
              "#9c179e"
             ],
             [
              0.4444444444444444,
              "#bd3786"
             ],
             [
              0.5555555555555556,
              "#d8576b"
             ],
             [
              0.6666666666666666,
              "#ed7953"
             ],
             [
              0.7777777777777778,
              "#fb9f3a"
             ],
             [
              0.8888888888888888,
              "#fdca26"
             ],
             [
              1,
              "#f0f921"
             ]
            ],
            "type": "histogram2d"
           }
          ],
          "histogram2dcontour": [
           {
            "colorbar": {
             "outlinewidth": 0,
             "ticks": ""
            },
            "colorscale": [
             [
              0,
              "#0d0887"
             ],
             [
              0.1111111111111111,
              "#46039f"
             ],
             [
              0.2222222222222222,
              "#7201a8"
             ],
             [
              0.3333333333333333,
              "#9c179e"
             ],
             [
              0.4444444444444444,
              "#bd3786"
             ],
             [
              0.5555555555555556,
              "#d8576b"
             ],
             [
              0.6666666666666666,
              "#ed7953"
             ],
             [
              0.7777777777777778,
              "#fb9f3a"
             ],
             [
              0.8888888888888888,
              "#fdca26"
             ],
             [
              1,
              "#f0f921"
             ]
            ],
            "type": "histogram2dcontour"
           }
          ],
          "mesh3d": [
           {
            "colorbar": {
             "outlinewidth": 0,
             "ticks": ""
            },
            "type": "mesh3d"
           }
          ],
          "parcoords": [
           {
            "line": {
             "colorbar": {
              "outlinewidth": 0,
              "ticks": ""
             }
            },
            "type": "parcoords"
           }
          ],
          "pie": [
           {
            "automargin": true,
            "type": "pie"
           }
          ],
          "scatter": [
           {
            "fillpattern": {
             "fillmode": "overlay",
             "size": 10,
             "solidity": 0.2
            },
            "type": "scatter"
           }
          ],
          "scatter3d": [
           {
            "line": {
             "colorbar": {
              "outlinewidth": 0,
              "ticks": ""
             }
            },
            "marker": {
             "colorbar": {
              "outlinewidth": 0,
              "ticks": ""
             }
            },
            "type": "scatter3d"
           }
          ],
          "scattercarpet": [
           {
            "marker": {
             "colorbar": {
              "outlinewidth": 0,
              "ticks": ""
             }
            },
            "type": "scattercarpet"
           }
          ],
          "scattergeo": [
           {
            "marker": {
             "colorbar": {
              "outlinewidth": 0,
              "ticks": ""
             }
            },
            "type": "scattergeo"
           }
          ],
          "scattergl": [
           {
            "marker": {
             "colorbar": {
              "outlinewidth": 0,
              "ticks": ""
             }
            },
            "type": "scattergl"
           }
          ],
          "scattermapbox": [
           {
            "marker": {
             "colorbar": {
              "outlinewidth": 0,
              "ticks": ""
             }
            },
            "type": "scattermapbox"
           }
          ],
          "scatterpolar": [
           {
            "marker": {
             "colorbar": {
              "outlinewidth": 0,
              "ticks": ""
             }
            },
            "type": "scatterpolar"
           }
          ],
          "scatterpolargl": [
           {
            "marker": {
             "colorbar": {
              "outlinewidth": 0,
              "ticks": ""
             }
            },
            "type": "scatterpolargl"
           }
          ],
          "scatterternary": [
           {
            "marker": {
             "colorbar": {
              "outlinewidth": 0,
              "ticks": ""
             }
            },
            "type": "scatterternary"
           }
          ],
          "surface": [
           {
            "colorbar": {
             "outlinewidth": 0,
             "ticks": ""
            },
            "colorscale": [
             [
              0,
              "#0d0887"
             ],
             [
              0.1111111111111111,
              "#46039f"
             ],
             [
              0.2222222222222222,
              "#7201a8"
             ],
             [
              0.3333333333333333,
              "#9c179e"
             ],
             [
              0.4444444444444444,
              "#bd3786"
             ],
             [
              0.5555555555555556,
              "#d8576b"
             ],
             [
              0.6666666666666666,
              "#ed7953"
             ],
             [
              0.7777777777777778,
              "#fb9f3a"
             ],
             [
              0.8888888888888888,
              "#fdca26"
             ],
             [
              1,
              "#f0f921"
             ]
            ],
            "type": "surface"
           }
          ],
          "table": [
           {
            "cells": {
             "fill": {
              "color": "#EBF0F8"
             },
             "line": {
              "color": "white"
             }
            },
            "header": {
             "fill": {
              "color": "#C8D4E3"
             },
             "line": {
              "color": "white"
             }
            },
            "type": "table"
           }
          ]
         },
         "layout": {
          "annotationdefaults": {
           "arrowcolor": "#2a3f5f",
           "arrowhead": 0,
           "arrowwidth": 1
          },
          "autotypenumbers": "strict",
          "coloraxis": {
           "colorbar": {
            "outlinewidth": 0,
            "ticks": ""
           }
          },
          "colorscale": {
           "diverging": [
            [
             0,
             "#8e0152"
            ],
            [
             0.1,
             "#c51b7d"
            ],
            [
             0.2,
             "#de77ae"
            ],
            [
             0.3,
             "#f1b6da"
            ],
            [
             0.4,
             "#fde0ef"
            ],
            [
             0.5,
             "#f7f7f7"
            ],
            [
             0.6,
             "#e6f5d0"
            ],
            [
             0.7,
             "#b8e186"
            ],
            [
             0.8,
             "#7fbc41"
            ],
            [
             0.9,
             "#4d9221"
            ],
            [
             1,
             "#276419"
            ]
           ],
           "sequential": [
            [
             0,
             "#0d0887"
            ],
            [
             0.1111111111111111,
             "#46039f"
            ],
            [
             0.2222222222222222,
             "#7201a8"
            ],
            [
             0.3333333333333333,
             "#9c179e"
            ],
            [
             0.4444444444444444,
             "#bd3786"
            ],
            [
             0.5555555555555556,
             "#d8576b"
            ],
            [
             0.6666666666666666,
             "#ed7953"
            ],
            [
             0.7777777777777778,
             "#fb9f3a"
            ],
            [
             0.8888888888888888,
             "#fdca26"
            ],
            [
             1,
             "#f0f921"
            ]
           ],
           "sequentialminus": [
            [
             0,
             "#0d0887"
            ],
            [
             0.1111111111111111,
             "#46039f"
            ],
            [
             0.2222222222222222,
             "#7201a8"
            ],
            [
             0.3333333333333333,
             "#9c179e"
            ],
            [
             0.4444444444444444,
             "#bd3786"
            ],
            [
             0.5555555555555556,
             "#d8576b"
            ],
            [
             0.6666666666666666,
             "#ed7953"
            ],
            [
             0.7777777777777778,
             "#fb9f3a"
            ],
            [
             0.8888888888888888,
             "#fdca26"
            ],
            [
             1,
             "#f0f921"
            ]
           ]
          },
          "colorway": [
           "#636efa",
           "#EF553B",
           "#00cc96",
           "#ab63fa",
           "#FFA15A",
           "#19d3f3",
           "#FF6692",
           "#B6E880",
           "#FF97FF",
           "#FECB52"
          ],
          "font": {
           "color": "#2a3f5f"
          },
          "geo": {
           "bgcolor": "white",
           "lakecolor": "white",
           "landcolor": "#E5ECF6",
           "showlakes": true,
           "showland": true,
           "subunitcolor": "white"
          },
          "hoverlabel": {
           "align": "left"
          },
          "hovermode": "closest",
          "mapbox": {
           "style": "light"
          },
          "paper_bgcolor": "white",
          "plot_bgcolor": "#E5ECF6",
          "polar": {
           "angularaxis": {
            "gridcolor": "white",
            "linecolor": "white",
            "ticks": ""
           },
           "bgcolor": "#E5ECF6",
           "radialaxis": {
            "gridcolor": "white",
            "linecolor": "white",
            "ticks": ""
           }
          },
          "scene": {
           "xaxis": {
            "backgroundcolor": "#E5ECF6",
            "gridcolor": "white",
            "gridwidth": 2,
            "linecolor": "white",
            "showbackground": true,
            "ticks": "",
            "zerolinecolor": "white"
           },
           "yaxis": {
            "backgroundcolor": "#E5ECF6",
            "gridcolor": "white",
            "gridwidth": 2,
            "linecolor": "white",
            "showbackground": true,
            "ticks": "",
            "zerolinecolor": "white"
           },
           "zaxis": {
            "backgroundcolor": "#E5ECF6",
            "gridcolor": "white",
            "gridwidth": 2,
            "linecolor": "white",
            "showbackground": true,
            "ticks": "",
            "zerolinecolor": "white"
           }
          },
          "shapedefaults": {
           "line": {
            "color": "#2a3f5f"
           }
          },
          "ternary": {
           "aaxis": {
            "gridcolor": "white",
            "linecolor": "white",
            "ticks": ""
           },
           "baxis": {
            "gridcolor": "white",
            "linecolor": "white",
            "ticks": ""
           },
           "bgcolor": "#E5ECF6",
           "caxis": {
            "gridcolor": "white",
            "linecolor": "white",
            "ticks": ""
           }
          },
          "title": {
           "x": 0.05
          },
          "xaxis": {
           "automargin": true,
           "gridcolor": "white",
           "linecolor": "white",
           "ticks": "",
           "title": {
            "standoff": 15
           },
           "zerolinecolor": "white",
           "zerolinewidth": 2
          },
          "yaxis": {
           "automargin": true,
           "gridcolor": "white",
           "linecolor": "white",
           "ticks": "",
           "title": {
            "standoff": 15
           },
           "zerolinecolor": "white",
           "zerolinewidth": 2
          }
         }
        },
        "title": {
         "text": "Dataset machine 304"
        },
        "width": 1280,
        "xaxis": {
         "anchor": "y",
         "domain": [
          0,
          1
         ],
         "matches": "x3",
         "showticklabels": false
        },
        "xaxis2": {
         "anchor": "y2",
         "domain": [
          0,
          1
         ],
         "matches": "x3",
         "showticklabels": false
        },
        "xaxis3": {
         "anchor": "y3",
         "domain": [
          0,
          1
         ]
        },
        "yaxis": {
         "anchor": "x",
         "domain": [
          0.7066666666666667,
          1
         ]
        },
        "yaxis2": {
         "anchor": "x2",
         "domain": [
          0.35333333333333333,
          0.6466666666666667
         ]
        },
        "yaxis3": {
         "anchor": "x3",
         "domain": [
          0,
          0.29333333333333333
         ]
        }
       }
      }
     },
     "metadata": {},
     "output_type": "display_data"
    },
    {
     "data": {
      "application/vnd.plotly.v1+json": {
       "config": {
        "plotlyServerURL": "https://plot.ly"
       },
       "data": [
        {
         "marker": {
          "color": "blue",
          "size": 10
         },
         "mode": "markers+lines",
         "name": "AIS Energy",
         "text": [
          0,
          0,
          0,
          0,
          0,
          0,
          0,
          0,
          0,
          0,
          0,
          0,
          0,
          0,
          0,
          0
         ],
         "type": "scatter",
         "x": [
          "2022-11-29T18:07:30",
          "2022-11-29T18:22:30",
          "2022-11-29T18:37:30",
          "2022-11-29T18:52:30",
          "2022-11-29T19:07:30",
          "2022-11-29T19:22:30",
          "2022-11-29T19:37:30",
          "2022-11-29T19:52:30",
          "2022-11-29T20:07:30",
          "2022-11-29T20:22:30",
          "2022-11-29T20:37:30",
          "2022-11-29T22:37:30",
          "2022-11-29T22:52:30",
          "2022-11-29T23:07:30",
          "2022-11-29T23:22:30",
          "2022-11-29T23:37:30"
         ],
         "xaxis": "x",
         "y": [
          0,
          0,
          0,
          0,
          0,
          0,
          0,
          0,
          0,
          0,
          0,
          0,
          0,
          0,
          0,
          0
         ],
         "yaxis": "y"
        },
        {
         "marker": {
          "color": "blue",
          "size": 10
         },
         "mode": "markers+lines",
         "name": "AIS Productions",
         "text": [
          0,
          0,
          0,
          4.666666666666667,
          3.333333333333333,
          30,
          0,
          -18.285714285714285,
          2.285714285714286,
          0,
          0,
          0,
          0,
          0,
          0,
          0
         ],
         "type": "scatter",
         "x": [
          "2022-11-29T18:07:30",
          "2022-11-29T18:22:30",
          "2022-11-29T18:37:30",
          "2022-11-29T18:52:30",
          "2022-11-29T19:07:30",
          "2022-11-29T19:22:30",
          "2022-11-29T19:37:30",
          "2022-11-29T19:52:30",
          "2022-11-29T20:07:30",
          "2022-11-29T20:22:30",
          "2022-11-29T20:37:30",
          "2022-11-29T22:37:30",
          "2022-11-29T22:52:30",
          "2022-11-29T23:07:30",
          "2022-11-29T23:22:30",
          "2022-11-29T23:37:30"
         ],
         "xaxis": "x2",
         "y": [
          0,
          0,
          0,
          4.666666666666667,
          3.333333333333333,
          30,
          0,
          -18.285714285714285,
          2.285714285714286,
          0,
          0,
          0,
          0,
          0,
          0,
          0
         ],
         "yaxis": "y2"
        },
        {
         "marker": {
          "color": "blue",
          "size": 10
         },
         "mode": "markers",
         "name": "AIS Stops",
         "type": "scatter",
         "x": [
          "2022-11-29T18:07:30",
          "2022-11-29T18:22:30",
          "2022-11-29T18:37:30",
          "2022-11-29T18:52:30",
          "2022-11-29T19:07:30",
          "2022-11-29T19:22:30",
          "2022-11-29T19:37:30",
          "2022-11-29T19:52:30",
          "2022-11-29T20:07:30",
          "2022-11-29T20:22:30",
          "2022-11-29T20:37:30",
          "2022-11-29T22:37:30",
          "2022-11-29T22:52:30",
          "2022-11-29T23:07:30",
          "2022-11-29T23:22:30",
          "2022-11-29T23:37:30"
         ],
         "xaxis": "x3",
         "y": [
          "Running",
          "Running",
          "Running",
          "Running",
          "Running",
          "Sostituzione utensile",
          "Running",
          "Running",
          "Running",
          "Running",
          "Running",
          "Running",
          "Running",
          "Running",
          "Running",
          "Running"
         ],
         "yaxis": "y3"
        },
        {
         "marker": {
          "color": "black",
          "size": 10
         },
         "mode": "markers+lines",
         "name": "Unknown Energy",
         "text": [
          0,
          2141.5,
          1985,
          1263,
          2086.9,
          2123.5,
          2139.6,
          2145.1,
          2131.8,
          2141,
          2138.5,
          2126.8,
          2105.4,
          2146.6,
          1173.2,
          1826.3,
          1971.3,
          1769.5,
          2016.3,
          1247.2,
          1935.5,
          2124,
          2028.2,
          2132.4,
          2149.8,
          1743.5,
          1185.4,
          1190.7,
          1874.6,
          2176.4,
          2178,
          1328,
          1648,
          2175.5,
          2180.2,
          0,
          0,
          0,
          0,
          0,
          0,
          0,
          0,
          0,
          0,
          0,
          0
         ],
         "type": "scatter",
         "x": [
          "2022-11-30T11:37:30",
          "2022-11-30T23:52:30",
          "2022-12-01T00:07:30",
          "2022-12-01T00:22:30",
          "2022-12-01T00:37:30",
          "2022-12-01T00:52:30",
          "2022-12-01T01:07:30",
          "2022-12-01T01:22:30",
          "2022-12-01T01:37:30",
          "2022-12-01T01:52:30",
          "2022-12-01T02:07:30",
          "2022-12-01T02:22:30",
          "2022-12-01T02:37:30",
          "2022-12-01T02:52:30",
          "2022-12-01T03:52:30",
          "2022-12-01T04:07:30",
          "2022-12-01T04:22:30",
          "2022-12-01T04:37:30",
          "2022-12-01T04:52:30",
          "2022-12-01T05:07:30",
          "2022-12-01T05:22:30",
          "2022-12-01T05:37:30",
          "2022-12-01T05:52:30",
          "2022-12-01T06:07:30",
          "2022-12-01T06:22:30",
          "2022-12-14T05:37:30",
          "2022-12-14T05:52:30",
          "2022-12-14T06:07:30",
          "2022-12-14T06:22:30",
          "2022-12-14T06:37:30",
          "2022-12-14T06:52:30",
          "2022-12-14T07:07:30",
          "2022-12-14T07:22:30",
          "2022-12-14T07:37:30",
          "2022-12-14T07:52:30",
          "2022-12-14T08:07:30",
          "2022-12-15T12:07:30",
          "2022-12-15T12:22:30",
          "2022-12-15T12:37:30",
          "2022-12-15T12:52:30",
          "2022-12-15T13:07:30",
          "2022-12-15T13:22:30",
          "2022-12-15T13:37:30",
          "2022-12-15T13:52:30",
          "2022-12-15T14:07:30",
          "2022-12-15T14:22:30",
          "2022-12-15T14:37:30"
         ],
         "xaxis": "x",
         "y": [
          0,
          2141.5,
          1985,
          1263,
          2086.9,
          2123.5,
          2139.6,
          2145.1,
          2131.8,
          2141,
          2138.5,
          2126.8,
          2105.4,
          2146.6,
          1173.2,
          1826.3,
          1971.3,
          1769.5,
          2016.3,
          1247.2,
          1935.5,
          2124,
          2028.2,
          2132.4,
          2149.8,
          1743.5,
          1185.4,
          1190.7,
          1874.6,
          2176.4,
          2178,
          1328,
          1648,
          2175.5,
          2180.2,
          0,
          0,
          0,
          0,
          0,
          0,
          0,
          0,
          0,
          0,
          0,
          0
         ],
         "yaxis": "y"
        },
        {
         "marker": {
          "color": "black",
          "size": 10
         },
         "mode": "markers+lines",
         "name": "Unknown Productions",
         "text": [
          0,
          0,
          0,
          0,
          0,
          0,
          0,
          0,
          0,
          0,
          0,
          0,
          0,
          0,
          0,
          0,
          0,
          0,
          0,
          0,
          0,
          0,
          0,
          0,
          0,
          0,
          0,
          0,
          0,
          0,
          0,
          0,
          0,
          0,
          0,
          0,
          0,
          0,
          0,
          0,
          0,
          0,
          0,
          0,
          0,
          0,
          0
         ],
         "type": "scatter",
         "x": [
          "2022-11-30T11:37:30",
          "2022-11-30T23:52:30",
          "2022-12-01T00:07:30",
          "2022-12-01T00:22:30",
          "2022-12-01T00:37:30",
          "2022-12-01T00:52:30",
          "2022-12-01T01:07:30",
          "2022-12-01T01:22:30",
          "2022-12-01T01:37:30",
          "2022-12-01T01:52:30",
          "2022-12-01T02:07:30",
          "2022-12-01T02:22:30",
          "2022-12-01T02:37:30",
          "2022-12-01T02:52:30",
          "2022-12-01T03:52:30",
          "2022-12-01T04:07:30",
          "2022-12-01T04:22:30",
          "2022-12-01T04:37:30",
          "2022-12-01T04:52:30",
          "2022-12-01T05:07:30",
          "2022-12-01T05:22:30",
          "2022-12-01T05:37:30",
          "2022-12-01T05:52:30",
          "2022-12-01T06:07:30",
          "2022-12-01T06:22:30",
          "2022-12-14T05:37:30",
          "2022-12-14T05:52:30",
          "2022-12-14T06:07:30",
          "2022-12-14T06:22:30",
          "2022-12-14T06:37:30",
          "2022-12-14T06:52:30",
          "2022-12-14T07:07:30",
          "2022-12-14T07:22:30",
          "2022-12-14T07:37:30",
          "2022-12-14T07:52:30",
          "2022-12-14T08:07:30",
          "2022-12-15T12:07:30",
          "2022-12-15T12:22:30",
          "2022-12-15T12:37:30",
          "2022-12-15T12:52:30",
          "2022-12-15T13:07:30",
          "2022-12-15T13:22:30",
          "2022-12-15T13:37:30",
          "2022-12-15T13:52:30",
          "2022-12-15T14:07:30",
          "2022-12-15T14:22:30",
          "2022-12-15T14:37:30"
         ],
         "xaxis": "x2",
         "y": [
          0,
          0,
          0,
          0,
          0,
          0,
          0,
          0,
          0,
          0,
          0,
          0,
          0,
          0,
          0,
          0,
          0,
          0,
          0,
          0,
          0,
          0,
          0,
          0,
          0,
          0,
          0,
          0,
          0,
          0,
          0,
          0,
          0,
          0,
          0,
          0,
          0,
          0,
          0,
          0,
          0,
          0,
          0,
          0,
          0,
          0,
          0
         ],
         "yaxis": "y2"
        },
        {
         "marker": {
          "color": "black",
          "size": 10
         },
         "mode": "markers",
         "name": "Unknown Stops",
         "type": "scatter",
         "x": [
          "2022-11-30T11:37:30",
          "2022-11-30T23:52:30",
          "2022-12-01T00:07:30",
          "2022-12-01T00:22:30",
          "2022-12-01T00:37:30",
          "2022-12-01T00:52:30",
          "2022-12-01T01:07:30",
          "2022-12-01T01:22:30",
          "2022-12-01T01:37:30",
          "2022-12-01T01:52:30",
          "2022-12-01T02:07:30",
          "2022-12-01T02:22:30",
          "2022-12-01T02:37:30",
          "2022-12-01T02:52:30",
          "2022-12-01T03:52:30",
          "2022-12-01T04:07:30",
          "2022-12-01T04:22:30",
          "2022-12-01T04:37:30",
          "2022-12-01T04:52:30",
          "2022-12-01T05:07:30",
          "2022-12-01T05:22:30",
          "2022-12-01T05:37:30",
          "2022-12-01T05:52:30",
          "2022-12-01T06:07:30",
          "2022-12-01T06:22:30",
          "2022-12-14T05:37:30",
          "2022-12-14T05:52:30",
          "2022-12-14T06:07:30",
          "2022-12-14T06:22:30",
          "2022-12-14T06:37:30",
          "2022-12-14T06:52:30",
          "2022-12-14T07:07:30",
          "2022-12-14T07:22:30",
          "2022-12-14T07:37:30",
          "2022-12-14T07:52:30",
          "2022-12-14T08:07:30",
          "2022-12-15T12:07:30",
          "2022-12-15T12:22:30",
          "2022-12-15T12:37:30",
          "2022-12-15T12:52:30",
          "2022-12-15T13:07:30",
          "2022-12-15T13:22:30",
          "2022-12-15T13:37:30",
          "2022-12-15T13:52:30",
          "2022-12-15T14:07:30",
          "2022-12-15T14:22:30",
          "2022-12-15T14:37:30"
         ],
         "xaxis": "x3",
         "y": [
          "Manutenzione straordinaria",
          "Running",
          "Running",
          "Running",
          "Running",
          "Running",
          "Running",
          "Running",
          "Sostituzione utensile",
          "Running",
          "Running",
          "Running",
          "Running",
          "Running",
          "Running",
          "Running",
          "Running",
          "Running",
          "Running",
          "Sostituzione utensile",
          "Running",
          "Running",
          "Running",
          "Running",
          "Running",
          "Running",
          "Running",
          "Running",
          "Running",
          "Running",
          "Manutenzione ordinaria",
          "Running",
          "Running",
          "Running",
          "Running",
          "Running",
          "Running",
          "Running",
          "Running",
          "Running",
          "Running",
          "Sostituzione utensile",
          "Running",
          "Running",
          "Running",
          "Running",
          "Running"
         ],
         "yaxis": "y3"
        }
       ],
       "layout": {
        "annotations": [
         {
          "font": {
           "size": 16
          },
          "showarrow": false,
          "text": "Energy Consumption",
          "x": 0.5,
          "xanchor": "center",
          "xref": "paper",
          "y": 1,
          "yanchor": "bottom",
          "yref": "paper"
         },
         {
          "font": {
           "size": 16
          },
          "showarrow": false,
          "text": "Productions",
          "x": 0.5,
          "xanchor": "center",
          "xref": "paper",
          "y": 0.6466666666666667,
          "yanchor": "bottom",
          "yref": "paper"
         },
         {
          "font": {
           "size": 16
          },
          "showarrow": false,
          "text": "Stops",
          "x": 0.5,
          "xanchor": "center",
          "xref": "paper",
          "y": 0.29333333333333333,
          "yanchor": "bottom",
          "yref": "paper"
         }
        ],
        "height": 800,
        "template": {
         "data": {
          "bar": [
           {
            "error_x": {
             "color": "#2a3f5f"
            },
            "error_y": {
             "color": "#2a3f5f"
            },
            "marker": {
             "line": {
              "color": "#E5ECF6",
              "width": 0.5
             },
             "pattern": {
              "fillmode": "overlay",
              "size": 10,
              "solidity": 0.2
             }
            },
            "type": "bar"
           }
          ],
          "barpolar": [
           {
            "marker": {
             "line": {
              "color": "#E5ECF6",
              "width": 0.5
             },
             "pattern": {
              "fillmode": "overlay",
              "size": 10,
              "solidity": 0.2
             }
            },
            "type": "barpolar"
           }
          ],
          "carpet": [
           {
            "aaxis": {
             "endlinecolor": "#2a3f5f",
             "gridcolor": "white",
             "linecolor": "white",
             "minorgridcolor": "white",
             "startlinecolor": "#2a3f5f"
            },
            "baxis": {
             "endlinecolor": "#2a3f5f",
             "gridcolor": "white",
             "linecolor": "white",
             "minorgridcolor": "white",
             "startlinecolor": "#2a3f5f"
            },
            "type": "carpet"
           }
          ],
          "choropleth": [
           {
            "colorbar": {
             "outlinewidth": 0,
             "ticks": ""
            },
            "type": "choropleth"
           }
          ],
          "contour": [
           {
            "colorbar": {
             "outlinewidth": 0,
             "ticks": ""
            },
            "colorscale": [
             [
              0,
              "#0d0887"
             ],
             [
              0.1111111111111111,
              "#46039f"
             ],
             [
              0.2222222222222222,
              "#7201a8"
             ],
             [
              0.3333333333333333,
              "#9c179e"
             ],
             [
              0.4444444444444444,
              "#bd3786"
             ],
             [
              0.5555555555555556,
              "#d8576b"
             ],
             [
              0.6666666666666666,
              "#ed7953"
             ],
             [
              0.7777777777777778,
              "#fb9f3a"
             ],
             [
              0.8888888888888888,
              "#fdca26"
             ],
             [
              1,
              "#f0f921"
             ]
            ],
            "type": "contour"
           }
          ],
          "contourcarpet": [
           {
            "colorbar": {
             "outlinewidth": 0,
             "ticks": ""
            },
            "type": "contourcarpet"
           }
          ],
          "heatmap": [
           {
            "colorbar": {
             "outlinewidth": 0,
             "ticks": ""
            },
            "colorscale": [
             [
              0,
              "#0d0887"
             ],
             [
              0.1111111111111111,
              "#46039f"
             ],
             [
              0.2222222222222222,
              "#7201a8"
             ],
             [
              0.3333333333333333,
              "#9c179e"
             ],
             [
              0.4444444444444444,
              "#bd3786"
             ],
             [
              0.5555555555555556,
              "#d8576b"
             ],
             [
              0.6666666666666666,
              "#ed7953"
             ],
             [
              0.7777777777777778,
              "#fb9f3a"
             ],
             [
              0.8888888888888888,
              "#fdca26"
             ],
             [
              1,
              "#f0f921"
             ]
            ],
            "type": "heatmap"
           }
          ],
          "heatmapgl": [
           {
            "colorbar": {
             "outlinewidth": 0,
             "ticks": ""
            },
            "colorscale": [
             [
              0,
              "#0d0887"
             ],
             [
              0.1111111111111111,
              "#46039f"
             ],
             [
              0.2222222222222222,
              "#7201a8"
             ],
             [
              0.3333333333333333,
              "#9c179e"
             ],
             [
              0.4444444444444444,
              "#bd3786"
             ],
             [
              0.5555555555555556,
              "#d8576b"
             ],
             [
              0.6666666666666666,
              "#ed7953"
             ],
             [
              0.7777777777777778,
              "#fb9f3a"
             ],
             [
              0.8888888888888888,
              "#fdca26"
             ],
             [
              1,
              "#f0f921"
             ]
            ],
            "type": "heatmapgl"
           }
          ],
          "histogram": [
           {
            "marker": {
             "pattern": {
              "fillmode": "overlay",
              "size": 10,
              "solidity": 0.2
             }
            },
            "type": "histogram"
           }
          ],
          "histogram2d": [
           {
            "colorbar": {
             "outlinewidth": 0,
             "ticks": ""
            },
            "colorscale": [
             [
              0,
              "#0d0887"
             ],
             [
              0.1111111111111111,
              "#46039f"
             ],
             [
              0.2222222222222222,
              "#7201a8"
             ],
             [
              0.3333333333333333,
              "#9c179e"
             ],
             [
              0.4444444444444444,
              "#bd3786"
             ],
             [
              0.5555555555555556,
              "#d8576b"
             ],
             [
              0.6666666666666666,
              "#ed7953"
             ],
             [
              0.7777777777777778,
              "#fb9f3a"
             ],
             [
              0.8888888888888888,
              "#fdca26"
             ],
             [
              1,
              "#f0f921"
             ]
            ],
            "type": "histogram2d"
           }
          ],
          "histogram2dcontour": [
           {
            "colorbar": {
             "outlinewidth": 0,
             "ticks": ""
            },
            "colorscale": [
             [
              0,
              "#0d0887"
             ],
             [
              0.1111111111111111,
              "#46039f"
             ],
             [
              0.2222222222222222,
              "#7201a8"
             ],
             [
              0.3333333333333333,
              "#9c179e"
             ],
             [
              0.4444444444444444,
              "#bd3786"
             ],
             [
              0.5555555555555556,
              "#d8576b"
             ],
             [
              0.6666666666666666,
              "#ed7953"
             ],
             [
              0.7777777777777778,
              "#fb9f3a"
             ],
             [
              0.8888888888888888,
              "#fdca26"
             ],
             [
              1,
              "#f0f921"
             ]
            ],
            "type": "histogram2dcontour"
           }
          ],
          "mesh3d": [
           {
            "colorbar": {
             "outlinewidth": 0,
             "ticks": ""
            },
            "type": "mesh3d"
           }
          ],
          "parcoords": [
           {
            "line": {
             "colorbar": {
              "outlinewidth": 0,
              "ticks": ""
             }
            },
            "type": "parcoords"
           }
          ],
          "pie": [
           {
            "automargin": true,
            "type": "pie"
           }
          ],
          "scatter": [
           {
            "fillpattern": {
             "fillmode": "overlay",
             "size": 10,
             "solidity": 0.2
            },
            "type": "scatter"
           }
          ],
          "scatter3d": [
           {
            "line": {
             "colorbar": {
              "outlinewidth": 0,
              "ticks": ""
             }
            },
            "marker": {
             "colorbar": {
              "outlinewidth": 0,
              "ticks": ""
             }
            },
            "type": "scatter3d"
           }
          ],
          "scattercarpet": [
           {
            "marker": {
             "colorbar": {
              "outlinewidth": 0,
              "ticks": ""
             }
            },
            "type": "scattercarpet"
           }
          ],
          "scattergeo": [
           {
            "marker": {
             "colorbar": {
              "outlinewidth": 0,
              "ticks": ""
             }
            },
            "type": "scattergeo"
           }
          ],
          "scattergl": [
           {
            "marker": {
             "colorbar": {
              "outlinewidth": 0,
              "ticks": ""
             }
            },
            "type": "scattergl"
           }
          ],
          "scattermapbox": [
           {
            "marker": {
             "colorbar": {
              "outlinewidth": 0,
              "ticks": ""
             }
            },
            "type": "scattermapbox"
           }
          ],
          "scatterpolar": [
           {
            "marker": {
             "colorbar": {
              "outlinewidth": 0,
              "ticks": ""
             }
            },
            "type": "scatterpolar"
           }
          ],
          "scatterpolargl": [
           {
            "marker": {
             "colorbar": {
              "outlinewidth": 0,
              "ticks": ""
             }
            },
            "type": "scatterpolargl"
           }
          ],
          "scatterternary": [
           {
            "marker": {
             "colorbar": {
              "outlinewidth": 0,
              "ticks": ""
             }
            },
            "type": "scatterternary"
           }
          ],
          "surface": [
           {
            "colorbar": {
             "outlinewidth": 0,
             "ticks": ""
            },
            "colorscale": [
             [
              0,
              "#0d0887"
             ],
             [
              0.1111111111111111,
              "#46039f"
             ],
             [
              0.2222222222222222,
              "#7201a8"
             ],
             [
              0.3333333333333333,
              "#9c179e"
             ],
             [
              0.4444444444444444,
              "#bd3786"
             ],
             [
              0.5555555555555556,
              "#d8576b"
             ],
             [
              0.6666666666666666,
              "#ed7953"
             ],
             [
              0.7777777777777778,
              "#fb9f3a"
             ],
             [
              0.8888888888888888,
              "#fdca26"
             ],
             [
              1,
              "#f0f921"
             ]
            ],
            "type": "surface"
           }
          ],
          "table": [
           {
            "cells": {
             "fill": {
              "color": "#EBF0F8"
             },
             "line": {
              "color": "white"
             }
            },
            "header": {
             "fill": {
              "color": "#C8D4E3"
             },
             "line": {
              "color": "white"
             }
            },
            "type": "table"
           }
          ]
         },
         "layout": {
          "annotationdefaults": {
           "arrowcolor": "#2a3f5f",
           "arrowhead": 0,
           "arrowwidth": 1
          },
          "autotypenumbers": "strict",
          "coloraxis": {
           "colorbar": {
            "outlinewidth": 0,
            "ticks": ""
           }
          },
          "colorscale": {
           "diverging": [
            [
             0,
             "#8e0152"
            ],
            [
             0.1,
             "#c51b7d"
            ],
            [
             0.2,
             "#de77ae"
            ],
            [
             0.3,
             "#f1b6da"
            ],
            [
             0.4,
             "#fde0ef"
            ],
            [
             0.5,
             "#f7f7f7"
            ],
            [
             0.6,
             "#e6f5d0"
            ],
            [
             0.7,
             "#b8e186"
            ],
            [
             0.8,
             "#7fbc41"
            ],
            [
             0.9,
             "#4d9221"
            ],
            [
             1,
             "#276419"
            ]
           ],
           "sequential": [
            [
             0,
             "#0d0887"
            ],
            [
             0.1111111111111111,
             "#46039f"
            ],
            [
             0.2222222222222222,
             "#7201a8"
            ],
            [
             0.3333333333333333,
             "#9c179e"
            ],
            [
             0.4444444444444444,
             "#bd3786"
            ],
            [
             0.5555555555555556,
             "#d8576b"
            ],
            [
             0.6666666666666666,
             "#ed7953"
            ],
            [
             0.7777777777777778,
             "#fb9f3a"
            ],
            [
             0.8888888888888888,
             "#fdca26"
            ],
            [
             1,
             "#f0f921"
            ]
           ],
           "sequentialminus": [
            [
             0,
             "#0d0887"
            ],
            [
             0.1111111111111111,
             "#46039f"
            ],
            [
             0.2222222222222222,
             "#7201a8"
            ],
            [
             0.3333333333333333,
             "#9c179e"
            ],
            [
             0.4444444444444444,
             "#bd3786"
            ],
            [
             0.5555555555555556,
             "#d8576b"
            ],
            [
             0.6666666666666666,
             "#ed7953"
            ],
            [
             0.7777777777777778,
             "#fb9f3a"
            ],
            [
             0.8888888888888888,
             "#fdca26"
            ],
            [
             1,
             "#f0f921"
            ]
           ]
          },
          "colorway": [
           "#636efa",
           "#EF553B",
           "#00cc96",
           "#ab63fa",
           "#FFA15A",
           "#19d3f3",
           "#FF6692",
           "#B6E880",
           "#FF97FF",
           "#FECB52"
          ],
          "font": {
           "color": "#2a3f5f"
          },
          "geo": {
           "bgcolor": "white",
           "lakecolor": "white",
           "landcolor": "#E5ECF6",
           "showlakes": true,
           "showland": true,
           "subunitcolor": "white"
          },
          "hoverlabel": {
           "align": "left"
          },
          "hovermode": "closest",
          "mapbox": {
           "style": "light"
          },
          "paper_bgcolor": "white",
          "plot_bgcolor": "#E5ECF6",
          "polar": {
           "angularaxis": {
            "gridcolor": "white",
            "linecolor": "white",
            "ticks": ""
           },
           "bgcolor": "#E5ECF6",
           "radialaxis": {
            "gridcolor": "white",
            "linecolor": "white",
            "ticks": ""
           }
          },
          "scene": {
           "xaxis": {
            "backgroundcolor": "#E5ECF6",
            "gridcolor": "white",
            "gridwidth": 2,
            "linecolor": "white",
            "showbackground": true,
            "ticks": "",
            "zerolinecolor": "white"
           },
           "yaxis": {
            "backgroundcolor": "#E5ECF6",
            "gridcolor": "white",
            "gridwidth": 2,
            "linecolor": "white",
            "showbackground": true,
            "ticks": "",
            "zerolinecolor": "white"
           },
           "zaxis": {
            "backgroundcolor": "#E5ECF6",
            "gridcolor": "white",
            "gridwidth": 2,
            "linecolor": "white",
            "showbackground": true,
            "ticks": "",
            "zerolinecolor": "white"
           }
          },
          "shapedefaults": {
           "line": {
            "color": "#2a3f5f"
           }
          },
          "ternary": {
           "aaxis": {
            "gridcolor": "white",
            "linecolor": "white",
            "ticks": ""
           },
           "baxis": {
            "gridcolor": "white",
            "linecolor": "white",
            "ticks": ""
           },
           "bgcolor": "#E5ECF6",
           "caxis": {
            "gridcolor": "white",
            "linecolor": "white",
            "ticks": ""
           }
          },
          "title": {
           "x": 0.05
          },
          "xaxis": {
           "automargin": true,
           "gridcolor": "white",
           "linecolor": "white",
           "ticks": "",
           "title": {
            "standoff": 15
           },
           "zerolinecolor": "white",
           "zerolinewidth": 2
          },
          "yaxis": {
           "automargin": true,
           "gridcolor": "white",
           "linecolor": "white",
           "ticks": "",
           "title": {
            "standoff": 15
           },
           "zerolinecolor": "white",
           "zerolinewidth": 2
          }
         }
        },
        "title": {
         "text": "Dataset machine 310"
        },
        "width": 1280,
        "xaxis": {
         "anchor": "y",
         "domain": [
          0,
          1
         ],
         "matches": "x3",
         "showticklabels": false
        },
        "xaxis2": {
         "anchor": "y2",
         "domain": [
          0,
          1
         ],
         "matches": "x3",
         "showticklabels": false
        },
        "xaxis3": {
         "anchor": "y3",
         "domain": [
          0,
          1
         ]
        },
        "yaxis": {
         "anchor": "x",
         "domain": [
          0.7066666666666667,
          1
         ]
        },
        "yaxis2": {
         "anchor": "x2",
         "domain": [
          0.35333333333333333,
          0.6466666666666667
         ]
        },
        "yaxis3": {
         "anchor": "x3",
         "domain": [
          0,
          0.29333333333333333
         ]
        }
       }
      }
     },
     "metadata": {},
     "output_type": "display_data"
    },
    {
     "data": {
      "application/vnd.plotly.v1+json": {
       "config": {
        "plotlyServerURL": "https://plot.ly"
       },
       "data": [
        {
         "marker": {
          "color": "black",
          "size": 10
         },
         "mode": "markers+lines",
         "name": "Unknown Energy",
         "text": [
          1136.1,
          725.7,
          721.7,
          724.2,
          719.2,
          1115.3,
          1875.1,
          1863.6,
          1843.6,
          1843.6,
          1375,
          590.1,
          660.9,
          845.4,
          1830.4,
          650.3,
          877.1,
          1721.2,
          1941.3,
          1861.8,
          1995,
          1600.5,
          1602,
          1586.6,
          2037.9,
          670.3,
          661.6,
          664.7,
          669.3,
          668.7,
          669.6,
          662,
          662.3,
          673.6,
          556.6,
          532.7,
          704.9,
          1063,
          1604.5,
          1901,
          1892.2,
          1816.9,
          1979.2,
          1889.7,
          1072.6,
          2062.6,
          2085.1,
          0,
          0,
          0,
          0,
          0,
          0,
          0,
          0,
          0,
          0,
          0
         ],
         "type": "scatter",
         "x": [
          "2022-12-05T11:52:30",
          "2022-12-05T12:07:30",
          "2022-12-05T12:22:30",
          "2022-12-05T12:37:30",
          "2022-12-05T12:52:30",
          "2022-12-05T13:07:30",
          "2022-12-05T13:22:30",
          "2022-12-05T13:37:30",
          "2022-12-05T13:52:30",
          "2022-12-05T14:07:30",
          "2022-12-05T14:22:30",
          "2022-12-12T21:52:30",
          "2022-12-12T22:07:30",
          "2022-12-12T22:22:30",
          "2022-12-12T22:37:30",
          "2022-12-12T22:52:30",
          "2022-12-12T23:07:30",
          "2022-12-12T23:22:30",
          "2022-12-12T23:52:30",
          "2022-12-13T00:07:30",
          "2022-12-13T00:22:30",
          "2022-12-13T00:37:30",
          "2022-12-13T00:52:30",
          "2022-12-13T01:07:30",
          "2022-12-13T01:22:30",
          "2022-12-13T02:37:30",
          "2022-12-13T02:52:30",
          "2022-12-13T03:07:30",
          "2022-12-13T03:22:30",
          "2022-12-13T03:37:30",
          "2022-12-13T03:52:30",
          "2022-12-13T04:07:30",
          "2022-12-13T04:22:30",
          "2022-12-13T04:37:30",
          "2022-12-13T04:52:30",
          "2022-12-13T05:07:30",
          "2022-12-13T17:22:30",
          "2022-12-13T17:37:30",
          "2022-12-13T17:52:30",
          "2022-12-13T18:07:30",
          "2022-12-13T18:22:30",
          "2022-12-13T18:37:30",
          "2022-12-13T18:52:30",
          "2022-12-13T19:07:30",
          "2022-12-13T19:22:30",
          "2022-12-13T19:37:30",
          "2022-12-13T19:52:30",
          "2022-12-14T11:22:30",
          "2022-12-14T11:37:30",
          "2022-12-14T11:52:30",
          "2022-12-14T12:07:30",
          "2022-12-14T12:22:30",
          "2022-12-14T12:37:30",
          "2022-12-14T12:52:30",
          "2022-12-14T13:07:30",
          "2022-12-14T13:22:30",
          "2022-12-14T13:37:30",
          "2022-12-14T13:52:30"
         ],
         "xaxis": "x",
         "y": [
          1136.1,
          725.7,
          721.7,
          724.2,
          719.2,
          1115.3,
          1875.1,
          1863.6,
          1843.6,
          1843.6,
          1375,
          590.1,
          660.9,
          845.4,
          1830.4,
          650.3,
          877.1,
          1721.2,
          1941.3,
          1861.8,
          1995,
          1600.5,
          1602,
          1586.6,
          2037.9,
          670.3,
          661.6,
          664.7,
          669.3,
          668.7,
          669.6,
          662,
          662.3,
          673.6,
          556.6,
          532.7,
          704.9,
          1063,
          1604.5,
          1901,
          1892.2,
          1816.9,
          1979.2,
          1889.7,
          1072.6,
          2062.6,
          2085.1,
          0,
          0,
          0,
          0,
          0,
          0,
          0,
          0,
          0,
          0,
          0
         ],
         "yaxis": "y"
        },
        {
         "marker": {
          "color": "black",
          "size": 10
         },
         "mode": "markers+lines",
         "name": "Unknown Productions",
         "text": [
          0,
          0,
          0,
          0,
          0,
          0,
          0,
          0,
          0,
          0,
          0,
          0,
          0,
          0,
          0,
          0,
          0,
          0,
          0,
          0,
          0,
          0,
          0,
          0,
          0,
          0,
          0,
          0,
          0,
          0,
          0,
          0,
          0,
          0,
          0,
          0,
          0,
          0,
          0,
          0,
          0,
          0,
          0,
          0,
          0,
          0,
          0,
          0,
          0,
          0,
          0,
          0,
          0,
          0,
          0,
          0,
          0,
          0
         ],
         "type": "scatter",
         "x": [
          "2022-12-05T11:52:30",
          "2022-12-05T12:07:30",
          "2022-12-05T12:22:30",
          "2022-12-05T12:37:30",
          "2022-12-05T12:52:30",
          "2022-12-05T13:07:30",
          "2022-12-05T13:22:30",
          "2022-12-05T13:37:30",
          "2022-12-05T13:52:30",
          "2022-12-05T14:07:30",
          "2022-12-05T14:22:30",
          "2022-12-12T21:52:30",
          "2022-12-12T22:07:30",
          "2022-12-12T22:22:30",
          "2022-12-12T22:37:30",
          "2022-12-12T22:52:30",
          "2022-12-12T23:07:30",
          "2022-12-12T23:22:30",
          "2022-12-12T23:52:30",
          "2022-12-13T00:07:30",
          "2022-12-13T00:22:30",
          "2022-12-13T00:37:30",
          "2022-12-13T00:52:30",
          "2022-12-13T01:07:30",
          "2022-12-13T01:22:30",
          "2022-12-13T02:37:30",
          "2022-12-13T02:52:30",
          "2022-12-13T03:07:30",
          "2022-12-13T03:22:30",
          "2022-12-13T03:37:30",
          "2022-12-13T03:52:30",
          "2022-12-13T04:07:30",
          "2022-12-13T04:22:30",
          "2022-12-13T04:37:30",
          "2022-12-13T04:52:30",
          "2022-12-13T05:07:30",
          "2022-12-13T17:22:30",
          "2022-12-13T17:37:30",
          "2022-12-13T17:52:30",
          "2022-12-13T18:07:30",
          "2022-12-13T18:22:30",
          "2022-12-13T18:37:30",
          "2022-12-13T18:52:30",
          "2022-12-13T19:07:30",
          "2022-12-13T19:22:30",
          "2022-12-13T19:37:30",
          "2022-12-13T19:52:30",
          "2022-12-14T11:22:30",
          "2022-12-14T11:37:30",
          "2022-12-14T11:52:30",
          "2022-12-14T12:07:30",
          "2022-12-14T12:22:30",
          "2022-12-14T12:37:30",
          "2022-12-14T12:52:30",
          "2022-12-14T13:07:30",
          "2022-12-14T13:22:30",
          "2022-12-14T13:37:30",
          "2022-12-14T13:52:30"
         ],
         "xaxis": "x2",
         "y": [
          0,
          0,
          0,
          0,
          0,
          0,
          0,
          0,
          0,
          0,
          0,
          0,
          0,
          0,
          0,
          0,
          0,
          0,
          0,
          0,
          0,
          0,
          0,
          0,
          0,
          0,
          0,
          0,
          0,
          0,
          0,
          0,
          0,
          0,
          0,
          0,
          0,
          0,
          0,
          0,
          0,
          0,
          0,
          0,
          0,
          0,
          0,
          0,
          0,
          0,
          0,
          0,
          0,
          0,
          0,
          0,
          0,
          0
         ],
         "yaxis": "y2"
        },
        {
         "marker": {
          "color": "black",
          "size": 10
         },
         "mode": "markers",
         "name": "Unknown Stops",
         "type": "scatter",
         "x": [
          "2022-12-05T11:52:30",
          "2022-12-05T12:07:30",
          "2022-12-05T12:22:30",
          "2022-12-05T12:37:30",
          "2022-12-05T12:52:30",
          "2022-12-05T13:07:30",
          "2022-12-05T13:22:30",
          "2022-12-05T13:37:30",
          "2022-12-05T13:52:30",
          "2022-12-05T14:07:30",
          "2022-12-05T14:22:30",
          "2022-12-12T21:52:30",
          "2022-12-12T22:07:30",
          "2022-12-12T22:22:30",
          "2022-12-12T22:37:30",
          "2022-12-12T22:52:30",
          "2022-12-12T23:07:30",
          "2022-12-12T23:22:30",
          "2022-12-12T23:52:30",
          "2022-12-13T00:07:30",
          "2022-12-13T00:22:30",
          "2022-12-13T00:37:30",
          "2022-12-13T00:52:30",
          "2022-12-13T01:07:30",
          "2022-12-13T01:22:30",
          "2022-12-13T02:37:30",
          "2022-12-13T02:52:30",
          "2022-12-13T03:07:30",
          "2022-12-13T03:22:30",
          "2022-12-13T03:37:30",
          "2022-12-13T03:52:30",
          "2022-12-13T04:07:30",
          "2022-12-13T04:22:30",
          "2022-12-13T04:37:30",
          "2022-12-13T04:52:30",
          "2022-12-13T05:07:30",
          "2022-12-13T17:22:30",
          "2022-12-13T17:37:30",
          "2022-12-13T17:52:30",
          "2022-12-13T18:07:30",
          "2022-12-13T18:22:30",
          "2022-12-13T18:37:30",
          "2022-12-13T18:52:30",
          "2022-12-13T19:07:30",
          "2022-12-13T19:22:30",
          "2022-12-13T19:37:30",
          "2022-12-13T19:52:30",
          "2022-12-14T11:22:30",
          "2022-12-14T11:37:30",
          "2022-12-14T11:52:30",
          "2022-12-14T12:07:30",
          "2022-12-14T12:22:30",
          "2022-12-14T12:37:30",
          "2022-12-14T12:52:30",
          "2022-12-14T13:07:30",
          "2022-12-14T13:22:30",
          "2022-12-14T13:37:30",
          "2022-12-14T13:52:30"
         ],
         "xaxis": "x3",
         "y": [
          "Running",
          "Running",
          "Running",
          "Running",
          "Running",
          "Affilatura utensile",
          "Running",
          "Running",
          "Running",
          "Running",
          "Running",
          "Running",
          "Running",
          "Running",
          "Running",
          "Running",
          "Sostituzione utensile",
          "Running",
          "Running",
          "Sostituzione utensile",
          "Running",
          "Running",
          "Running",
          "Running",
          "Running",
          "Running",
          "Running",
          "Running",
          "Running",
          "Running",
          "Sostituzione utensile",
          "Running",
          "Running",
          "Running",
          "Running",
          "Running",
          "Running",
          "Running",
          "Running",
          "Running",
          "Running",
          "Sostituzione utensile",
          "Running",
          "Running",
          "Running",
          "Running",
          "Running",
          "Running",
          "Running",
          "Running",
          "Running",
          "Running",
          "Sostituzione utensile",
          "Running",
          "Running",
          "Running",
          "Running",
          "Running"
         ],
         "yaxis": "y3"
        }
       ],
       "layout": {
        "annotations": [
         {
          "font": {
           "size": 16
          },
          "showarrow": false,
          "text": "Energy Consumption",
          "x": 0.5,
          "xanchor": "center",
          "xref": "paper",
          "y": 1,
          "yanchor": "bottom",
          "yref": "paper"
         },
         {
          "font": {
           "size": 16
          },
          "showarrow": false,
          "text": "Productions",
          "x": 0.5,
          "xanchor": "center",
          "xref": "paper",
          "y": 0.6466666666666667,
          "yanchor": "bottom",
          "yref": "paper"
         },
         {
          "font": {
           "size": 16
          },
          "showarrow": false,
          "text": "Stops",
          "x": 0.5,
          "xanchor": "center",
          "xref": "paper",
          "y": 0.29333333333333333,
          "yanchor": "bottom",
          "yref": "paper"
         }
        ],
        "height": 800,
        "template": {
         "data": {
          "bar": [
           {
            "error_x": {
             "color": "#2a3f5f"
            },
            "error_y": {
             "color": "#2a3f5f"
            },
            "marker": {
             "line": {
              "color": "#E5ECF6",
              "width": 0.5
             },
             "pattern": {
              "fillmode": "overlay",
              "size": 10,
              "solidity": 0.2
             }
            },
            "type": "bar"
           }
          ],
          "barpolar": [
           {
            "marker": {
             "line": {
              "color": "#E5ECF6",
              "width": 0.5
             },
             "pattern": {
              "fillmode": "overlay",
              "size": 10,
              "solidity": 0.2
             }
            },
            "type": "barpolar"
           }
          ],
          "carpet": [
           {
            "aaxis": {
             "endlinecolor": "#2a3f5f",
             "gridcolor": "white",
             "linecolor": "white",
             "minorgridcolor": "white",
             "startlinecolor": "#2a3f5f"
            },
            "baxis": {
             "endlinecolor": "#2a3f5f",
             "gridcolor": "white",
             "linecolor": "white",
             "minorgridcolor": "white",
             "startlinecolor": "#2a3f5f"
            },
            "type": "carpet"
           }
          ],
          "choropleth": [
           {
            "colorbar": {
             "outlinewidth": 0,
             "ticks": ""
            },
            "type": "choropleth"
           }
          ],
          "contour": [
           {
            "colorbar": {
             "outlinewidth": 0,
             "ticks": ""
            },
            "colorscale": [
             [
              0,
              "#0d0887"
             ],
             [
              0.1111111111111111,
              "#46039f"
             ],
             [
              0.2222222222222222,
              "#7201a8"
             ],
             [
              0.3333333333333333,
              "#9c179e"
             ],
             [
              0.4444444444444444,
              "#bd3786"
             ],
             [
              0.5555555555555556,
              "#d8576b"
             ],
             [
              0.6666666666666666,
              "#ed7953"
             ],
             [
              0.7777777777777778,
              "#fb9f3a"
             ],
             [
              0.8888888888888888,
              "#fdca26"
             ],
             [
              1,
              "#f0f921"
             ]
            ],
            "type": "contour"
           }
          ],
          "contourcarpet": [
           {
            "colorbar": {
             "outlinewidth": 0,
             "ticks": ""
            },
            "type": "contourcarpet"
           }
          ],
          "heatmap": [
           {
            "colorbar": {
             "outlinewidth": 0,
             "ticks": ""
            },
            "colorscale": [
             [
              0,
              "#0d0887"
             ],
             [
              0.1111111111111111,
              "#46039f"
             ],
             [
              0.2222222222222222,
              "#7201a8"
             ],
             [
              0.3333333333333333,
              "#9c179e"
             ],
             [
              0.4444444444444444,
              "#bd3786"
             ],
             [
              0.5555555555555556,
              "#d8576b"
             ],
             [
              0.6666666666666666,
              "#ed7953"
             ],
             [
              0.7777777777777778,
              "#fb9f3a"
             ],
             [
              0.8888888888888888,
              "#fdca26"
             ],
             [
              1,
              "#f0f921"
             ]
            ],
            "type": "heatmap"
           }
          ],
          "heatmapgl": [
           {
            "colorbar": {
             "outlinewidth": 0,
             "ticks": ""
            },
            "colorscale": [
             [
              0,
              "#0d0887"
             ],
             [
              0.1111111111111111,
              "#46039f"
             ],
             [
              0.2222222222222222,
              "#7201a8"
             ],
             [
              0.3333333333333333,
              "#9c179e"
             ],
             [
              0.4444444444444444,
              "#bd3786"
             ],
             [
              0.5555555555555556,
              "#d8576b"
             ],
             [
              0.6666666666666666,
              "#ed7953"
             ],
             [
              0.7777777777777778,
              "#fb9f3a"
             ],
             [
              0.8888888888888888,
              "#fdca26"
             ],
             [
              1,
              "#f0f921"
             ]
            ],
            "type": "heatmapgl"
           }
          ],
          "histogram": [
           {
            "marker": {
             "pattern": {
              "fillmode": "overlay",
              "size": 10,
              "solidity": 0.2
             }
            },
            "type": "histogram"
           }
          ],
          "histogram2d": [
           {
            "colorbar": {
             "outlinewidth": 0,
             "ticks": ""
            },
            "colorscale": [
             [
              0,
              "#0d0887"
             ],
             [
              0.1111111111111111,
              "#46039f"
             ],
             [
              0.2222222222222222,
              "#7201a8"
             ],
             [
              0.3333333333333333,
              "#9c179e"
             ],
             [
              0.4444444444444444,
              "#bd3786"
             ],
             [
              0.5555555555555556,
              "#d8576b"
             ],
             [
              0.6666666666666666,
              "#ed7953"
             ],
             [
              0.7777777777777778,
              "#fb9f3a"
             ],
             [
              0.8888888888888888,
              "#fdca26"
             ],
             [
              1,
              "#f0f921"
             ]
            ],
            "type": "histogram2d"
           }
          ],
          "histogram2dcontour": [
           {
            "colorbar": {
             "outlinewidth": 0,
             "ticks": ""
            },
            "colorscale": [
             [
              0,
              "#0d0887"
             ],
             [
              0.1111111111111111,
              "#46039f"
             ],
             [
              0.2222222222222222,
              "#7201a8"
             ],
             [
              0.3333333333333333,
              "#9c179e"
             ],
             [
              0.4444444444444444,
              "#bd3786"
             ],
             [
              0.5555555555555556,
              "#d8576b"
             ],
             [
              0.6666666666666666,
              "#ed7953"
             ],
             [
              0.7777777777777778,
              "#fb9f3a"
             ],
             [
              0.8888888888888888,
              "#fdca26"
             ],
             [
              1,
              "#f0f921"
             ]
            ],
            "type": "histogram2dcontour"
           }
          ],
          "mesh3d": [
           {
            "colorbar": {
             "outlinewidth": 0,
             "ticks": ""
            },
            "type": "mesh3d"
           }
          ],
          "parcoords": [
           {
            "line": {
             "colorbar": {
              "outlinewidth": 0,
              "ticks": ""
             }
            },
            "type": "parcoords"
           }
          ],
          "pie": [
           {
            "automargin": true,
            "type": "pie"
           }
          ],
          "scatter": [
           {
            "fillpattern": {
             "fillmode": "overlay",
             "size": 10,
             "solidity": 0.2
            },
            "type": "scatter"
           }
          ],
          "scatter3d": [
           {
            "line": {
             "colorbar": {
              "outlinewidth": 0,
              "ticks": ""
             }
            },
            "marker": {
             "colorbar": {
              "outlinewidth": 0,
              "ticks": ""
             }
            },
            "type": "scatter3d"
           }
          ],
          "scattercarpet": [
           {
            "marker": {
             "colorbar": {
              "outlinewidth": 0,
              "ticks": ""
             }
            },
            "type": "scattercarpet"
           }
          ],
          "scattergeo": [
           {
            "marker": {
             "colorbar": {
              "outlinewidth": 0,
              "ticks": ""
             }
            },
            "type": "scattergeo"
           }
          ],
          "scattergl": [
           {
            "marker": {
             "colorbar": {
              "outlinewidth": 0,
              "ticks": ""
             }
            },
            "type": "scattergl"
           }
          ],
          "scattermapbox": [
           {
            "marker": {
             "colorbar": {
              "outlinewidth": 0,
              "ticks": ""
             }
            },
            "type": "scattermapbox"
           }
          ],
          "scatterpolar": [
           {
            "marker": {
             "colorbar": {
              "outlinewidth": 0,
              "ticks": ""
             }
            },
            "type": "scatterpolar"
           }
          ],
          "scatterpolargl": [
           {
            "marker": {
             "colorbar": {
              "outlinewidth": 0,
              "ticks": ""
             }
            },
            "type": "scatterpolargl"
           }
          ],
          "scatterternary": [
           {
            "marker": {
             "colorbar": {
              "outlinewidth": 0,
              "ticks": ""
             }
            },
            "type": "scatterternary"
           }
          ],
          "surface": [
           {
            "colorbar": {
             "outlinewidth": 0,
             "ticks": ""
            },
            "colorscale": [
             [
              0,
              "#0d0887"
             ],
             [
              0.1111111111111111,
              "#46039f"
             ],
             [
              0.2222222222222222,
              "#7201a8"
             ],
             [
              0.3333333333333333,
              "#9c179e"
             ],
             [
              0.4444444444444444,
              "#bd3786"
             ],
             [
              0.5555555555555556,
              "#d8576b"
             ],
             [
              0.6666666666666666,
              "#ed7953"
             ],
             [
              0.7777777777777778,
              "#fb9f3a"
             ],
             [
              0.8888888888888888,
              "#fdca26"
             ],
             [
              1,
              "#f0f921"
             ]
            ],
            "type": "surface"
           }
          ],
          "table": [
           {
            "cells": {
             "fill": {
              "color": "#EBF0F8"
             },
             "line": {
              "color": "white"
             }
            },
            "header": {
             "fill": {
              "color": "#C8D4E3"
             },
             "line": {
              "color": "white"
             }
            },
            "type": "table"
           }
          ]
         },
         "layout": {
          "annotationdefaults": {
           "arrowcolor": "#2a3f5f",
           "arrowhead": 0,
           "arrowwidth": 1
          },
          "autotypenumbers": "strict",
          "coloraxis": {
           "colorbar": {
            "outlinewidth": 0,
            "ticks": ""
           }
          },
          "colorscale": {
           "diverging": [
            [
             0,
             "#8e0152"
            ],
            [
             0.1,
             "#c51b7d"
            ],
            [
             0.2,
             "#de77ae"
            ],
            [
             0.3,
             "#f1b6da"
            ],
            [
             0.4,
             "#fde0ef"
            ],
            [
             0.5,
             "#f7f7f7"
            ],
            [
             0.6,
             "#e6f5d0"
            ],
            [
             0.7,
             "#b8e186"
            ],
            [
             0.8,
             "#7fbc41"
            ],
            [
             0.9,
             "#4d9221"
            ],
            [
             1,
             "#276419"
            ]
           ],
           "sequential": [
            [
             0,
             "#0d0887"
            ],
            [
             0.1111111111111111,
             "#46039f"
            ],
            [
             0.2222222222222222,
             "#7201a8"
            ],
            [
             0.3333333333333333,
             "#9c179e"
            ],
            [
             0.4444444444444444,
             "#bd3786"
            ],
            [
             0.5555555555555556,
             "#d8576b"
            ],
            [
             0.6666666666666666,
             "#ed7953"
            ],
            [
             0.7777777777777778,
             "#fb9f3a"
            ],
            [
             0.8888888888888888,
             "#fdca26"
            ],
            [
             1,
             "#f0f921"
            ]
           ],
           "sequentialminus": [
            [
             0,
             "#0d0887"
            ],
            [
             0.1111111111111111,
             "#46039f"
            ],
            [
             0.2222222222222222,
             "#7201a8"
            ],
            [
             0.3333333333333333,
             "#9c179e"
            ],
            [
             0.4444444444444444,
             "#bd3786"
            ],
            [
             0.5555555555555556,
             "#d8576b"
            ],
            [
             0.6666666666666666,
             "#ed7953"
            ],
            [
             0.7777777777777778,
             "#fb9f3a"
            ],
            [
             0.8888888888888888,
             "#fdca26"
            ],
            [
             1,
             "#f0f921"
            ]
           ]
          },
          "colorway": [
           "#636efa",
           "#EF553B",
           "#00cc96",
           "#ab63fa",
           "#FFA15A",
           "#19d3f3",
           "#FF6692",
           "#B6E880",
           "#FF97FF",
           "#FECB52"
          ],
          "font": {
           "color": "#2a3f5f"
          },
          "geo": {
           "bgcolor": "white",
           "lakecolor": "white",
           "landcolor": "#E5ECF6",
           "showlakes": true,
           "showland": true,
           "subunitcolor": "white"
          },
          "hoverlabel": {
           "align": "left"
          },
          "hovermode": "closest",
          "mapbox": {
           "style": "light"
          },
          "paper_bgcolor": "white",
          "plot_bgcolor": "#E5ECF6",
          "polar": {
           "angularaxis": {
            "gridcolor": "white",
            "linecolor": "white",
            "ticks": ""
           },
           "bgcolor": "#E5ECF6",
           "radialaxis": {
            "gridcolor": "white",
            "linecolor": "white",
            "ticks": ""
           }
          },
          "scene": {
           "xaxis": {
            "backgroundcolor": "#E5ECF6",
            "gridcolor": "white",
            "gridwidth": 2,
            "linecolor": "white",
            "showbackground": true,
            "ticks": "",
            "zerolinecolor": "white"
           },
           "yaxis": {
            "backgroundcolor": "#E5ECF6",
            "gridcolor": "white",
            "gridwidth": 2,
            "linecolor": "white",
            "showbackground": true,
            "ticks": "",
            "zerolinecolor": "white"
           },
           "zaxis": {
            "backgroundcolor": "#E5ECF6",
            "gridcolor": "white",
            "gridwidth": 2,
            "linecolor": "white",
            "showbackground": true,
            "ticks": "",
            "zerolinecolor": "white"
           }
          },
          "shapedefaults": {
           "line": {
            "color": "#2a3f5f"
           }
          },
          "ternary": {
           "aaxis": {
            "gridcolor": "white",
            "linecolor": "white",
            "ticks": ""
           },
           "baxis": {
            "gridcolor": "white",
            "linecolor": "white",
            "ticks": ""
           },
           "bgcolor": "#E5ECF6",
           "caxis": {
            "gridcolor": "white",
            "linecolor": "white",
            "ticks": ""
           }
          },
          "title": {
           "x": 0.05
          },
          "xaxis": {
           "automargin": true,
           "gridcolor": "white",
           "linecolor": "white",
           "ticks": "",
           "title": {
            "standoff": 15
           },
           "zerolinecolor": "white",
           "zerolinewidth": 2
          },
          "yaxis": {
           "automargin": true,
           "gridcolor": "white",
           "linecolor": "white",
           "ticks": "",
           "title": {
            "standoff": 15
           },
           "zerolinecolor": "white",
           "zerolinewidth": 2
          }
         }
        },
        "title": {
         "text": "Dataset machine 305"
        },
        "width": 1280,
        "xaxis": {
         "anchor": "y",
         "domain": [
          0,
          1
         ],
         "matches": "x3",
         "showticklabels": false
        },
        "xaxis2": {
         "anchor": "y2",
         "domain": [
          0,
          1
         ],
         "matches": "x3",
         "showticklabels": false
        },
        "xaxis3": {
         "anchor": "y3",
         "domain": [
          0,
          1
         ]
        },
        "yaxis": {
         "anchor": "x",
         "domain": [
          0.7066666666666667,
          1
         ]
        },
        "yaxis2": {
         "anchor": "x2",
         "domain": [
          0.35333333333333333,
          0.6466666666666667
         ]
        },
        "yaxis3": {
         "anchor": "x3",
         "domain": [
          0,
          0.29333333333333333
         ]
        }
       }
      }
     },
     "metadata": {},
     "output_type": "display_data"
    },
    {
     "data": {
      "application/vnd.plotly.v1+json": {
       "config": {
        "plotlyServerURL": "https://plot.ly"
       },
       "data": [
        {
         "marker": {
          "color": "blue",
          "size": 10
         },
         "mode": "markers+lines",
         "name": "PR8 Energy",
         "text": [
          7936.6,
          9016.2,
          8742.4,
          8537.2,
          8450.8,
          8622.7,
          8848.4,
          8692.3,
          8740,
          8795.5,
          7544.4,
          6695.4,
          8817.9,
          8769.7,
          8997.3,
          9163.1,
          8793.3,
          8532.5,
          8606.5,
          9049.7,
          8995.6,
          8618.1
         ],
         "type": "scatter",
         "x": [
          "2022-11-28T06:07:30",
          "2022-11-28T06:22:30",
          "2022-11-28T06:37:30",
          "2022-11-28T06:52:30",
          "2022-11-28T07:07:30",
          "2022-11-28T07:22:30",
          "2022-11-28T07:37:30",
          "2022-11-28T07:52:30",
          "2022-11-28T08:07:30",
          "2022-11-28T08:22:30",
          "2022-11-28T08:37:30",
          "2022-11-28T15:37:30",
          "2022-11-28T15:52:30",
          "2022-11-28T16:07:30",
          "2022-11-28T16:22:30",
          "2022-11-28T16:37:30",
          "2022-11-28T16:52:30",
          "2022-11-28T17:07:30",
          "2022-11-28T17:22:30",
          "2022-11-28T17:37:30",
          "2022-11-28T17:52:30",
          "2022-11-28T18:07:30"
         ],
         "xaxis": "x",
         "y": [
          7936.6,
          9016.2,
          8742.4,
          8537.2,
          8450.8,
          8622.7,
          8848.4,
          8692.3,
          8740,
          8795.5,
          7544.4,
          6695.4,
          8817.9,
          8769.7,
          8997.3,
          9163.1,
          8793.3,
          8532.5,
          8606.5,
          9049.7,
          8995.6,
          8618.1
         ],
         "yaxis": "y"
        },
        {
         "marker": {
          "color": "blue",
          "size": 10
         },
         "mode": "markers+lines",
         "name": "PR8 Productions",
         "text": [
          0,
          0,
          0,
          0,
          0,
          1,
          0,
          0,
          0,
          6.69620253164557,
          100.44303797468356,
          80.92105263157895,
          80.92105263157895,
          76.52631578947368,
          3,
          0,
          140,
          0,
          0,
          0,
          151.54285714285714,
          174.85714285714286
         ],
         "type": "scatter",
         "x": [
          "2022-11-28T06:07:30",
          "2022-11-28T06:22:30",
          "2022-11-28T06:37:30",
          "2022-11-28T06:52:30",
          "2022-11-28T07:07:30",
          "2022-11-28T07:22:30",
          "2022-11-28T07:37:30",
          "2022-11-28T07:52:30",
          "2022-11-28T08:07:30",
          "2022-11-28T08:22:30",
          "2022-11-28T08:37:30",
          "2022-11-28T15:37:30",
          "2022-11-28T15:52:30",
          "2022-11-28T16:07:30",
          "2022-11-28T16:22:30",
          "2022-11-28T16:37:30",
          "2022-11-28T16:52:30",
          "2022-11-28T17:07:30",
          "2022-11-28T17:22:30",
          "2022-11-28T17:37:30",
          "2022-11-28T17:52:30",
          "2022-11-28T18:07:30"
         ],
         "xaxis": "x2",
         "y": [
          0,
          0,
          0,
          0,
          0,
          1,
          0,
          0,
          0,
          6.69620253164557,
          100.44303797468356,
          80.92105263157895,
          80.92105263157895,
          76.52631578947368,
          3,
          0,
          140,
          0,
          0,
          0,
          151.54285714285714,
          174.85714285714286
         ],
         "yaxis": "y2"
        },
        {
         "marker": {
          "color": "blue",
          "size": 10
         },
         "mode": "markers",
         "name": "PR8 Stops",
         "type": "scatter",
         "x": [
          "2022-11-28T06:07:30",
          "2022-11-28T06:22:30",
          "2022-11-28T06:37:30",
          "2022-11-28T06:52:30",
          "2022-11-28T07:07:30",
          "2022-11-28T07:22:30",
          "2022-11-28T07:37:30",
          "2022-11-28T07:52:30",
          "2022-11-28T08:07:30",
          "2022-11-28T08:22:30",
          "2022-11-28T08:37:30",
          "2022-11-28T15:37:30",
          "2022-11-28T15:52:30",
          "2022-11-28T16:07:30",
          "2022-11-28T16:22:30",
          "2022-11-28T16:37:30",
          "2022-11-28T16:52:30",
          "2022-11-28T17:07:30",
          "2022-11-28T17:22:30",
          "2022-11-28T17:37:30",
          "2022-11-28T17:52:30",
          "2022-11-28T18:07:30"
         ],
         "xaxis": "x3",
         "y": [
          "Running",
          "Running",
          "Running",
          "Running",
          "Running",
          "Manutenzione ordinaria",
          "Running",
          "Running",
          "Running",
          "Running",
          "Running",
          "Running",
          "Running",
          "Running",
          "Running",
          "Running",
          "Sostituzione utensile",
          "Running",
          "Running",
          "Running",
          "Running",
          "Running"
         ],
         "yaxis": "y3"
        },
        {
         "marker": {
          "color": "black",
          "size": 10
         },
         "mode": "markers+lines",
         "name": "Unknown Energy",
         "text": [
          7866.2,
          7203.3,
          9143.6,
          8973.9,
          8893.6,
          8779.4,
          8313.4,
          9027.2,
          8406.1,
          6964.5,
          8968.2,
          9266.1,
          0,
          0,
          0,
          0,
          0,
          0,
          0,
          0,
          5773.7,
          8574.9,
          9093.5,
          8873.7,
          9196.6,
          9336.3,
          8809.8,
          9306,
          8216.5,
          8905.6,
          8039.4,
          7582,
          8695.1,
          9124.5,
          9256.8,
          8847.5,
          8543.9,
          8814.7,
          8711.2,
          9276.2,
          8980
         ],
         "type": "scatter",
         "x": [
          "2022-11-28T20:07:30",
          "2022-11-28T20:22:30",
          "2022-11-28T20:37:30",
          "2022-11-28T20:52:30",
          "2022-11-28T21:07:30",
          "2022-11-28T21:22:30",
          "2022-11-28T21:37:30",
          "2022-11-28T21:52:30",
          "2022-11-28T22:07:30",
          "2022-11-28T22:22:30",
          "2022-11-28T22:37:30",
          "2022-11-28T22:52:30",
          "2022-11-28T23:07:30",
          "2022-11-28T23:22:30",
          "2022-11-29T09:07:30",
          "2022-11-29T12:22:30",
          "2022-11-29T13:07:30",
          "2022-11-29T15:52:30",
          "2022-11-29T17:37:30",
          "2022-11-30T01:37:30",
          "2022-11-30T23:52:30",
          "2022-12-01T00:07:30",
          "2022-12-01T00:22:30",
          "2022-12-01T00:37:30",
          "2022-12-01T00:52:30",
          "2022-12-01T01:07:30",
          "2022-12-01T01:22:30",
          "2022-12-01T01:37:30",
          "2022-12-01T01:52:30",
          "2022-12-01T02:07:30",
          "2022-12-01T18:22:30",
          "2022-12-01T18:37:30",
          "2022-12-01T18:52:30",
          "2022-12-01T19:07:30",
          "2022-12-01T19:22:30",
          "2022-12-01T19:37:30",
          "2022-12-01T19:52:30",
          "2022-12-01T20:07:30",
          "2022-12-01T20:22:30",
          "2022-12-01T20:37:30",
          "2022-12-01T20:52:30"
         ],
         "xaxis": "x",
         "y": [
          7866.2,
          7203.3,
          9143.6,
          8973.9,
          8893.6,
          8779.4,
          8313.4,
          9027.2,
          8406.1,
          6964.5,
          8968.2,
          9266.1,
          0,
          0,
          0,
          0,
          0,
          0,
          0,
          0,
          5773.7,
          8574.9,
          9093.5,
          8873.7,
          9196.6,
          9336.3,
          8809.8,
          9306,
          8216.5,
          8905.6,
          8039.4,
          7582,
          8695.1,
          9124.5,
          9256.8,
          8847.5,
          8543.9,
          8814.7,
          8711.2,
          9276.2,
          8980
         ],
         "yaxis": "y"
        },
        {
         "marker": {
          "color": "black",
          "size": 10
         },
         "mode": "markers+lines",
         "name": "Unknown Productions",
         "text": [
          0,
          0,
          0,
          0,
          0,
          0,
          0,
          0,
          0,
          0,
          0,
          0,
          0,
          0,
          0,
          0,
          0,
          0,
          0,
          0,
          0,
          0,
          0,
          0,
          0,
          0,
          0,
          0,
          0,
          0,
          0,
          0,
          0,
          0,
          0,
          0,
          0,
          0,
          0,
          0,
          0
         ],
         "type": "scatter",
         "x": [
          "2022-11-28T20:07:30",
          "2022-11-28T20:22:30",
          "2022-11-28T20:37:30",
          "2022-11-28T20:52:30",
          "2022-11-28T21:07:30",
          "2022-11-28T21:22:30",
          "2022-11-28T21:37:30",
          "2022-11-28T21:52:30",
          "2022-11-28T22:07:30",
          "2022-11-28T22:22:30",
          "2022-11-28T22:37:30",
          "2022-11-28T22:52:30",
          "2022-11-28T23:07:30",
          "2022-11-28T23:22:30",
          "2022-11-29T09:07:30",
          "2022-11-29T12:22:30",
          "2022-11-29T13:07:30",
          "2022-11-29T15:52:30",
          "2022-11-29T17:37:30",
          "2022-11-30T01:37:30",
          "2022-11-30T23:52:30",
          "2022-12-01T00:07:30",
          "2022-12-01T00:22:30",
          "2022-12-01T00:37:30",
          "2022-12-01T00:52:30",
          "2022-12-01T01:07:30",
          "2022-12-01T01:22:30",
          "2022-12-01T01:37:30",
          "2022-12-01T01:52:30",
          "2022-12-01T02:07:30",
          "2022-12-01T18:22:30",
          "2022-12-01T18:37:30",
          "2022-12-01T18:52:30",
          "2022-12-01T19:07:30",
          "2022-12-01T19:22:30",
          "2022-12-01T19:37:30",
          "2022-12-01T19:52:30",
          "2022-12-01T20:07:30",
          "2022-12-01T20:22:30",
          "2022-12-01T20:37:30",
          "2022-12-01T20:52:30"
         ],
         "xaxis": "x2",
         "y": [
          0,
          0,
          0,
          0,
          0,
          0,
          0,
          0,
          0,
          0,
          0,
          0,
          0,
          0,
          0,
          0,
          0,
          0,
          0,
          0,
          0,
          0,
          0,
          0,
          0,
          0,
          0,
          0,
          0,
          0,
          0,
          0,
          0,
          0,
          0,
          0,
          0,
          0,
          0,
          0,
          0
         ],
         "yaxis": "y2"
        },
        {
         "marker": {
          "color": "black",
          "size": 10
         },
         "mode": "markers",
         "name": "Unknown Stops",
         "type": "scatter",
         "x": [
          "2022-11-28T20:07:30",
          "2022-11-28T20:22:30",
          "2022-11-28T20:37:30",
          "2022-11-28T20:52:30",
          "2022-11-28T21:07:30",
          "2022-11-28T21:22:30",
          "2022-11-28T21:37:30",
          "2022-11-28T21:52:30",
          "2022-11-28T22:07:30",
          "2022-11-28T22:22:30",
          "2022-11-28T22:37:30",
          "2022-11-28T22:52:30",
          "2022-11-28T23:07:30",
          "2022-11-28T23:22:30",
          "2022-11-29T09:07:30",
          "2022-11-29T12:22:30",
          "2022-11-29T13:07:30",
          "2022-11-29T15:52:30",
          "2022-11-29T17:37:30",
          "2022-11-30T01:37:30",
          "2022-11-30T23:52:30",
          "2022-12-01T00:07:30",
          "2022-12-01T00:22:30",
          "2022-12-01T00:37:30",
          "2022-12-01T00:52:30",
          "2022-12-01T01:07:30",
          "2022-12-01T01:22:30",
          "2022-12-01T01:37:30",
          "2022-12-01T01:52:30",
          "2022-12-01T02:07:30",
          "2022-12-01T18:22:30",
          "2022-12-01T18:37:30",
          "2022-12-01T18:52:30",
          "2022-12-01T19:07:30",
          "2022-12-01T19:22:30",
          "2022-12-01T19:37:30",
          "2022-12-01T19:52:30",
          "2022-12-01T20:07:30",
          "2022-12-01T20:22:30",
          "2022-12-01T20:37:30",
          "2022-12-01T20:52:30"
         ],
         "xaxis": "x3",
         "y": [
          "Running",
          "Running",
          "Running",
          "Running",
          "Running",
          "Manutenzione ordinaria",
          "Running",
          "Running",
          "Running",
          "Running",
          "Running",
          "Running",
          "Sostituzione utensile",
          "Running",
          "Sostituzione utensile",
          "Sostituzione utensile",
          "Sostituzione utensile",
          "Sostituzione utensile",
          "Sostituzione utensile",
          "Sostituzione utensile",
          "Running",
          "Running",
          "Running",
          "Running",
          "Sostituzione utensile",
          "Running",
          "Running",
          "Running",
          "Running",
          "Running",
          "Running",
          "Running",
          "Running",
          "Running",
          "Running",
          "Sostituzione utensile",
          "Running",
          "Running",
          "Running",
          "Running",
          "Running"
         ],
         "yaxis": "y3"
        }
       ],
       "layout": {
        "annotations": [
         {
          "font": {
           "size": 16
          },
          "showarrow": false,
          "text": "Energy Consumption",
          "x": 0.5,
          "xanchor": "center",
          "xref": "paper",
          "y": 1,
          "yanchor": "bottom",
          "yref": "paper"
         },
         {
          "font": {
           "size": 16
          },
          "showarrow": false,
          "text": "Productions",
          "x": 0.5,
          "xanchor": "center",
          "xref": "paper",
          "y": 0.6466666666666667,
          "yanchor": "bottom",
          "yref": "paper"
         },
         {
          "font": {
           "size": 16
          },
          "showarrow": false,
          "text": "Stops",
          "x": 0.5,
          "xanchor": "center",
          "xref": "paper",
          "y": 0.29333333333333333,
          "yanchor": "bottom",
          "yref": "paper"
         }
        ],
        "height": 800,
        "template": {
         "data": {
          "bar": [
           {
            "error_x": {
             "color": "#2a3f5f"
            },
            "error_y": {
             "color": "#2a3f5f"
            },
            "marker": {
             "line": {
              "color": "#E5ECF6",
              "width": 0.5
             },
             "pattern": {
              "fillmode": "overlay",
              "size": 10,
              "solidity": 0.2
             }
            },
            "type": "bar"
           }
          ],
          "barpolar": [
           {
            "marker": {
             "line": {
              "color": "#E5ECF6",
              "width": 0.5
             },
             "pattern": {
              "fillmode": "overlay",
              "size": 10,
              "solidity": 0.2
             }
            },
            "type": "barpolar"
           }
          ],
          "carpet": [
           {
            "aaxis": {
             "endlinecolor": "#2a3f5f",
             "gridcolor": "white",
             "linecolor": "white",
             "minorgridcolor": "white",
             "startlinecolor": "#2a3f5f"
            },
            "baxis": {
             "endlinecolor": "#2a3f5f",
             "gridcolor": "white",
             "linecolor": "white",
             "minorgridcolor": "white",
             "startlinecolor": "#2a3f5f"
            },
            "type": "carpet"
           }
          ],
          "choropleth": [
           {
            "colorbar": {
             "outlinewidth": 0,
             "ticks": ""
            },
            "type": "choropleth"
           }
          ],
          "contour": [
           {
            "colorbar": {
             "outlinewidth": 0,
             "ticks": ""
            },
            "colorscale": [
             [
              0,
              "#0d0887"
             ],
             [
              0.1111111111111111,
              "#46039f"
             ],
             [
              0.2222222222222222,
              "#7201a8"
             ],
             [
              0.3333333333333333,
              "#9c179e"
             ],
             [
              0.4444444444444444,
              "#bd3786"
             ],
             [
              0.5555555555555556,
              "#d8576b"
             ],
             [
              0.6666666666666666,
              "#ed7953"
             ],
             [
              0.7777777777777778,
              "#fb9f3a"
             ],
             [
              0.8888888888888888,
              "#fdca26"
             ],
             [
              1,
              "#f0f921"
             ]
            ],
            "type": "contour"
           }
          ],
          "contourcarpet": [
           {
            "colorbar": {
             "outlinewidth": 0,
             "ticks": ""
            },
            "type": "contourcarpet"
           }
          ],
          "heatmap": [
           {
            "colorbar": {
             "outlinewidth": 0,
             "ticks": ""
            },
            "colorscale": [
             [
              0,
              "#0d0887"
             ],
             [
              0.1111111111111111,
              "#46039f"
             ],
             [
              0.2222222222222222,
              "#7201a8"
             ],
             [
              0.3333333333333333,
              "#9c179e"
             ],
             [
              0.4444444444444444,
              "#bd3786"
             ],
             [
              0.5555555555555556,
              "#d8576b"
             ],
             [
              0.6666666666666666,
              "#ed7953"
             ],
             [
              0.7777777777777778,
              "#fb9f3a"
             ],
             [
              0.8888888888888888,
              "#fdca26"
             ],
             [
              1,
              "#f0f921"
             ]
            ],
            "type": "heatmap"
           }
          ],
          "heatmapgl": [
           {
            "colorbar": {
             "outlinewidth": 0,
             "ticks": ""
            },
            "colorscale": [
             [
              0,
              "#0d0887"
             ],
             [
              0.1111111111111111,
              "#46039f"
             ],
             [
              0.2222222222222222,
              "#7201a8"
             ],
             [
              0.3333333333333333,
              "#9c179e"
             ],
             [
              0.4444444444444444,
              "#bd3786"
             ],
             [
              0.5555555555555556,
              "#d8576b"
             ],
             [
              0.6666666666666666,
              "#ed7953"
             ],
             [
              0.7777777777777778,
              "#fb9f3a"
             ],
             [
              0.8888888888888888,
              "#fdca26"
             ],
             [
              1,
              "#f0f921"
             ]
            ],
            "type": "heatmapgl"
           }
          ],
          "histogram": [
           {
            "marker": {
             "pattern": {
              "fillmode": "overlay",
              "size": 10,
              "solidity": 0.2
             }
            },
            "type": "histogram"
           }
          ],
          "histogram2d": [
           {
            "colorbar": {
             "outlinewidth": 0,
             "ticks": ""
            },
            "colorscale": [
             [
              0,
              "#0d0887"
             ],
             [
              0.1111111111111111,
              "#46039f"
             ],
             [
              0.2222222222222222,
              "#7201a8"
             ],
             [
              0.3333333333333333,
              "#9c179e"
             ],
             [
              0.4444444444444444,
              "#bd3786"
             ],
             [
              0.5555555555555556,
              "#d8576b"
             ],
             [
              0.6666666666666666,
              "#ed7953"
             ],
             [
              0.7777777777777778,
              "#fb9f3a"
             ],
             [
              0.8888888888888888,
              "#fdca26"
             ],
             [
              1,
              "#f0f921"
             ]
            ],
            "type": "histogram2d"
           }
          ],
          "histogram2dcontour": [
           {
            "colorbar": {
             "outlinewidth": 0,
             "ticks": ""
            },
            "colorscale": [
             [
              0,
              "#0d0887"
             ],
             [
              0.1111111111111111,
              "#46039f"
             ],
             [
              0.2222222222222222,
              "#7201a8"
             ],
             [
              0.3333333333333333,
              "#9c179e"
             ],
             [
              0.4444444444444444,
              "#bd3786"
             ],
             [
              0.5555555555555556,
              "#d8576b"
             ],
             [
              0.6666666666666666,
              "#ed7953"
             ],
             [
              0.7777777777777778,
              "#fb9f3a"
             ],
             [
              0.8888888888888888,
              "#fdca26"
             ],
             [
              1,
              "#f0f921"
             ]
            ],
            "type": "histogram2dcontour"
           }
          ],
          "mesh3d": [
           {
            "colorbar": {
             "outlinewidth": 0,
             "ticks": ""
            },
            "type": "mesh3d"
           }
          ],
          "parcoords": [
           {
            "line": {
             "colorbar": {
              "outlinewidth": 0,
              "ticks": ""
             }
            },
            "type": "parcoords"
           }
          ],
          "pie": [
           {
            "automargin": true,
            "type": "pie"
           }
          ],
          "scatter": [
           {
            "fillpattern": {
             "fillmode": "overlay",
             "size": 10,
             "solidity": 0.2
            },
            "type": "scatter"
           }
          ],
          "scatter3d": [
           {
            "line": {
             "colorbar": {
              "outlinewidth": 0,
              "ticks": ""
             }
            },
            "marker": {
             "colorbar": {
              "outlinewidth": 0,
              "ticks": ""
             }
            },
            "type": "scatter3d"
           }
          ],
          "scattercarpet": [
           {
            "marker": {
             "colorbar": {
              "outlinewidth": 0,
              "ticks": ""
             }
            },
            "type": "scattercarpet"
           }
          ],
          "scattergeo": [
           {
            "marker": {
             "colorbar": {
              "outlinewidth": 0,
              "ticks": ""
             }
            },
            "type": "scattergeo"
           }
          ],
          "scattergl": [
           {
            "marker": {
             "colorbar": {
              "outlinewidth": 0,
              "ticks": ""
             }
            },
            "type": "scattergl"
           }
          ],
          "scattermapbox": [
           {
            "marker": {
             "colorbar": {
              "outlinewidth": 0,
              "ticks": ""
             }
            },
            "type": "scattermapbox"
           }
          ],
          "scatterpolar": [
           {
            "marker": {
             "colorbar": {
              "outlinewidth": 0,
              "ticks": ""
             }
            },
            "type": "scatterpolar"
           }
          ],
          "scatterpolargl": [
           {
            "marker": {
             "colorbar": {
              "outlinewidth": 0,
              "ticks": ""
             }
            },
            "type": "scatterpolargl"
           }
          ],
          "scatterternary": [
           {
            "marker": {
             "colorbar": {
              "outlinewidth": 0,
              "ticks": ""
             }
            },
            "type": "scatterternary"
           }
          ],
          "surface": [
           {
            "colorbar": {
             "outlinewidth": 0,
             "ticks": ""
            },
            "colorscale": [
             [
              0,
              "#0d0887"
             ],
             [
              0.1111111111111111,
              "#46039f"
             ],
             [
              0.2222222222222222,
              "#7201a8"
             ],
             [
              0.3333333333333333,
              "#9c179e"
             ],
             [
              0.4444444444444444,
              "#bd3786"
             ],
             [
              0.5555555555555556,
              "#d8576b"
             ],
             [
              0.6666666666666666,
              "#ed7953"
             ],
             [
              0.7777777777777778,
              "#fb9f3a"
             ],
             [
              0.8888888888888888,
              "#fdca26"
             ],
             [
              1,
              "#f0f921"
             ]
            ],
            "type": "surface"
           }
          ],
          "table": [
           {
            "cells": {
             "fill": {
              "color": "#EBF0F8"
             },
             "line": {
              "color": "white"
             }
            },
            "header": {
             "fill": {
              "color": "#C8D4E3"
             },
             "line": {
              "color": "white"
             }
            },
            "type": "table"
           }
          ]
         },
         "layout": {
          "annotationdefaults": {
           "arrowcolor": "#2a3f5f",
           "arrowhead": 0,
           "arrowwidth": 1
          },
          "autotypenumbers": "strict",
          "coloraxis": {
           "colorbar": {
            "outlinewidth": 0,
            "ticks": ""
           }
          },
          "colorscale": {
           "diverging": [
            [
             0,
             "#8e0152"
            ],
            [
             0.1,
             "#c51b7d"
            ],
            [
             0.2,
             "#de77ae"
            ],
            [
             0.3,
             "#f1b6da"
            ],
            [
             0.4,
             "#fde0ef"
            ],
            [
             0.5,
             "#f7f7f7"
            ],
            [
             0.6,
             "#e6f5d0"
            ],
            [
             0.7,
             "#b8e186"
            ],
            [
             0.8,
             "#7fbc41"
            ],
            [
             0.9,
             "#4d9221"
            ],
            [
             1,
             "#276419"
            ]
           ],
           "sequential": [
            [
             0,
             "#0d0887"
            ],
            [
             0.1111111111111111,
             "#46039f"
            ],
            [
             0.2222222222222222,
             "#7201a8"
            ],
            [
             0.3333333333333333,
             "#9c179e"
            ],
            [
             0.4444444444444444,
             "#bd3786"
            ],
            [
             0.5555555555555556,
             "#d8576b"
            ],
            [
             0.6666666666666666,
             "#ed7953"
            ],
            [
             0.7777777777777778,
             "#fb9f3a"
            ],
            [
             0.8888888888888888,
             "#fdca26"
            ],
            [
             1,
             "#f0f921"
            ]
           ],
           "sequentialminus": [
            [
             0,
             "#0d0887"
            ],
            [
             0.1111111111111111,
             "#46039f"
            ],
            [
             0.2222222222222222,
             "#7201a8"
            ],
            [
             0.3333333333333333,
             "#9c179e"
            ],
            [
             0.4444444444444444,
             "#bd3786"
            ],
            [
             0.5555555555555556,
             "#d8576b"
            ],
            [
             0.6666666666666666,
             "#ed7953"
            ],
            [
             0.7777777777777778,
             "#fb9f3a"
            ],
            [
             0.8888888888888888,
             "#fdca26"
            ],
            [
             1,
             "#f0f921"
            ]
           ]
          },
          "colorway": [
           "#636efa",
           "#EF553B",
           "#00cc96",
           "#ab63fa",
           "#FFA15A",
           "#19d3f3",
           "#FF6692",
           "#B6E880",
           "#FF97FF",
           "#FECB52"
          ],
          "font": {
           "color": "#2a3f5f"
          },
          "geo": {
           "bgcolor": "white",
           "lakecolor": "white",
           "landcolor": "#E5ECF6",
           "showlakes": true,
           "showland": true,
           "subunitcolor": "white"
          },
          "hoverlabel": {
           "align": "left"
          },
          "hovermode": "closest",
          "mapbox": {
           "style": "light"
          },
          "paper_bgcolor": "white",
          "plot_bgcolor": "#E5ECF6",
          "polar": {
           "angularaxis": {
            "gridcolor": "white",
            "linecolor": "white",
            "ticks": ""
           },
           "bgcolor": "#E5ECF6",
           "radialaxis": {
            "gridcolor": "white",
            "linecolor": "white",
            "ticks": ""
           }
          },
          "scene": {
           "xaxis": {
            "backgroundcolor": "#E5ECF6",
            "gridcolor": "white",
            "gridwidth": 2,
            "linecolor": "white",
            "showbackground": true,
            "ticks": "",
            "zerolinecolor": "white"
           },
           "yaxis": {
            "backgroundcolor": "#E5ECF6",
            "gridcolor": "white",
            "gridwidth": 2,
            "linecolor": "white",
            "showbackground": true,
            "ticks": "",
            "zerolinecolor": "white"
           },
           "zaxis": {
            "backgroundcolor": "#E5ECF6",
            "gridcolor": "white",
            "gridwidth": 2,
            "linecolor": "white",
            "showbackground": true,
            "ticks": "",
            "zerolinecolor": "white"
           }
          },
          "shapedefaults": {
           "line": {
            "color": "#2a3f5f"
           }
          },
          "ternary": {
           "aaxis": {
            "gridcolor": "white",
            "linecolor": "white",
            "ticks": ""
           },
           "baxis": {
            "gridcolor": "white",
            "linecolor": "white",
            "ticks": ""
           },
           "bgcolor": "#E5ECF6",
           "caxis": {
            "gridcolor": "white",
            "linecolor": "white",
            "ticks": ""
           }
          },
          "title": {
           "x": 0.05
          },
          "xaxis": {
           "automargin": true,
           "gridcolor": "white",
           "linecolor": "white",
           "ticks": "",
           "title": {
            "standoff": 15
           },
           "zerolinecolor": "white",
           "zerolinewidth": 2
          },
          "yaxis": {
           "automargin": true,
           "gridcolor": "white",
           "linecolor": "white",
           "ticks": "",
           "title": {
            "standoff": 15
           },
           "zerolinecolor": "white",
           "zerolinewidth": 2
          }
         }
        },
        "title": {
         "text": "Dataset machine 515"
        },
        "width": 1280,
        "xaxis": {
         "anchor": "y",
         "domain": [
          0,
          1
         ],
         "matches": "x3",
         "showticklabels": false
        },
        "xaxis2": {
         "anchor": "y2",
         "domain": [
          0,
          1
         ],
         "matches": "x3",
         "showticklabels": false
        },
        "xaxis3": {
         "anchor": "y3",
         "domain": [
          0,
          1
         ]
        },
        "yaxis": {
         "anchor": "x",
         "domain": [
          0.7066666666666667,
          1
         ]
        },
        "yaxis2": {
         "anchor": "x2",
         "domain": [
          0.35333333333333333,
          0.6466666666666667
         ]
        },
        "yaxis3": {
         "anchor": "x3",
         "domain": [
          0,
          0.29333333333333333
         ]
        }
       }
      }
     },
     "metadata": {},
     "output_type": "display_data"
    },
    {
     "data": {
      "application/vnd.plotly.v1+json": {
       "config": {
        "plotlyServerURL": "https://plot.ly"
       },
       "data": [
        {
         "marker": {
          "color": "blue",
          "size": 10
         },
         "mode": "markers+lines",
         "name": "PR8 Energy",
         "text": [
          678.1,
          692.7,
          692.1,
          689.9,
          688.8,
          689.9,
          689,
          692.7,
          697.9,
          695.7,
          695.8,
          694.9,
          696.9
         ],
         "type": "scatter",
         "x": [
          "2022-11-28T05:52:30",
          "2022-11-28T06:07:30",
          "2022-11-28T06:22:30",
          "2022-11-28T06:37:30",
          "2022-11-28T06:52:30",
          "2022-11-28T07:07:30",
          "2022-11-28T07:22:30",
          "2022-11-28T07:37:30",
          "2022-11-28T07:52:30",
          "2022-11-28T08:07:30",
          "2022-11-28T08:22:30",
          "2022-11-28T08:37:30",
          "2022-11-28T08:52:30"
         ],
         "xaxis": "x",
         "y": [
          678.1,
          692.7,
          692.1,
          689.9,
          688.8,
          689.9,
          689,
          692.7,
          697.9,
          695.7,
          695.8,
          694.9,
          696.9
         ],
         "yaxis": "y"
        },
        {
         "marker": {
          "color": "blue",
          "size": 10
         },
         "mode": "markers+lines",
         "name": "PR8 Productions",
         "text": [
          0,
          0,
          0,
          0.6000000000000001,
          1.0666666666666669,
          0.3333333333333333,
          0,
          0,
          0,
          0,
          0,
          0,
          0
         ],
         "type": "scatter",
         "x": [
          "2022-11-28T05:52:30",
          "2022-11-28T06:07:30",
          "2022-11-28T06:22:30",
          "2022-11-28T06:37:30",
          "2022-11-28T06:52:30",
          "2022-11-28T07:07:30",
          "2022-11-28T07:22:30",
          "2022-11-28T07:37:30",
          "2022-11-28T07:52:30",
          "2022-11-28T08:07:30",
          "2022-11-28T08:22:30",
          "2022-11-28T08:37:30",
          "2022-11-28T08:52:30"
         ],
         "xaxis": "x2",
         "y": [
          0,
          0,
          0,
          0.6000000000000001,
          1.0666666666666669,
          0.3333333333333333,
          0,
          0,
          0,
          0,
          0,
          0,
          0
         ],
         "yaxis": "y2"
        },
        {
         "marker": {
          "color": "blue",
          "size": 10
         },
         "mode": "markers",
         "name": "PR8 Stops",
         "type": "scatter",
         "x": [
          "2022-11-28T05:52:30",
          "2022-11-28T06:07:30",
          "2022-11-28T06:22:30",
          "2022-11-28T06:37:30",
          "2022-11-28T06:52:30",
          "2022-11-28T07:07:30",
          "2022-11-28T07:22:30",
          "2022-11-28T07:37:30",
          "2022-11-28T07:52:30",
          "2022-11-28T08:07:30",
          "2022-11-28T08:22:30",
          "2022-11-28T08:37:30",
          "2022-11-28T08:52:30"
         ],
         "xaxis": "x3",
         "y": [
          "Running",
          "Running",
          "Running",
          "Running",
          "Running",
          "Manutenzione ordinaria",
          "Manutenzione ordinaria",
          "Manutenzione ordinaria",
          "Running",
          "Running",
          "Running",
          "Running",
          "Running"
         ],
         "yaxis": "y3"
        },
        {
         "marker": {
          "color": "black",
          "size": 10
         },
         "mode": "markers+lines",
         "name": "Unknown Energy",
         "text": [
          225.1,
          224.4,
          225.3,
          0,
          0,
          0,
          2972.4,
          2837.1,
          2843.1,
          1942.3,
          2444.2,
          1678.7,
          1221,
          2056.9,
          2987.4,
          2914.5,
          2882.1,
          2871.6,
          2868.3,
          2963.4,
          2080.2,
          765.5,
          1447,
          679.7,
          669.4,
          839.6,
          1515.3,
          2721.5,
          3022,
          2969.3,
          2980.1,
          2908.8,
          2844.7,
          0,
          0,
          2937.2,
          2857.3,
          2835.4,
          2812.6,
          3037.9,
          3007.2,
          2695.3,
          801.1,
          727,
          723.5,
          2915.5,
          1878,
          2845.7,
          2706.7,
          3030.6,
          2996.6,
          2963.2,
          1359.2,
          2047.7,
          3043.9,
          3004.6,
          2964.3,
          2882.4,
          2858.7,
          2637.9,
          3044.2,
          3009.8,
          2981.9
         ],
         "type": "scatter",
         "x": [
          "2022-11-28T22:22:30",
          "2022-11-28T22:37:30",
          "2022-11-28T22:52:30",
          "2022-11-28T23:07:30",
          "2022-11-28T23:22:30",
          "2022-11-30T06:07:30",
          "2022-11-30T23:52:30",
          "2022-12-01T00:07:30",
          "2022-12-01T00:22:30",
          "2022-12-01T00:37:30",
          "2022-12-01T00:52:30",
          "2022-12-01T01:22:30",
          "2022-12-01T01:37:30",
          "2022-12-01T01:52:30",
          "2022-12-01T02:07:30",
          "2022-12-01T02:22:30",
          "2022-12-01T02:37:30",
          "2022-12-01T02:52:30",
          "2022-12-01T03:07:30",
          "2022-12-01T03:22:30",
          "2022-12-01T03:37:30",
          "2022-12-01T03:52:30",
          "2022-12-01T05:07:30",
          "2022-12-01T05:22:30",
          "2022-12-01T05:37:30",
          "2022-12-01T05:52:30",
          "2022-12-01T06:07:30",
          "2022-12-01T06:22:30",
          "2022-12-01T06:37:30",
          "2022-12-01T06:52:30",
          "2022-12-01T07:07:30",
          "2022-12-01T07:22:30",
          "2022-12-01T07:37:30",
          "2022-12-01T23:07:30",
          "2022-12-01T23:22:30",
          "2022-12-01T23:52:30",
          "2022-12-02T00:07:30",
          "2022-12-02T00:22:30",
          "2022-12-02T00:37:30",
          "2022-12-02T00:52:30",
          "2022-12-02T01:07:30",
          "2022-12-02T01:22:30",
          "2022-12-02T01:37:30",
          "2022-12-02T01:52:30",
          "2022-12-02T02:07:30",
          "2022-12-02T02:22:30",
          "2022-12-02T02:37:30",
          "2022-12-02T02:52:30",
          "2022-12-02T03:07:30",
          "2022-12-02T03:22:30",
          "2022-12-02T03:37:30",
          "2022-12-02T03:52:30",
          "2022-12-06T01:22:30",
          "2022-12-06T01:37:30",
          "2022-12-06T01:52:30",
          "2022-12-06T02:07:30",
          "2022-12-06T02:22:30",
          "2022-12-06T02:37:30",
          "2022-12-06T02:52:30",
          "2022-12-06T03:07:30",
          "2022-12-06T03:22:30",
          "2022-12-06T03:37:30",
          "2022-12-06T03:52:30"
         ],
         "xaxis": "x",
         "y": [
          225.1,
          224.4,
          225.3,
          0,
          0,
          0,
          2972.4,
          2837.1,
          2843.1,
          1942.3,
          2444.2,
          1678.7,
          1221,
          2056.9,
          2987.4,
          2914.5,
          2882.1,
          2871.6,
          2868.3,
          2963.4,
          2080.2,
          765.5,
          1447,
          679.7,
          669.4,
          839.6,
          1515.3,
          2721.5,
          3022,
          2969.3,
          2980.1,
          2908.8,
          2844.7,
          0,
          0,
          2937.2,
          2857.3,
          2835.4,
          2812.6,
          3037.9,
          3007.2,
          2695.3,
          801.1,
          727,
          723.5,
          2915.5,
          1878,
          2845.7,
          2706.7,
          3030.6,
          2996.6,
          2963.2,
          1359.2,
          2047.7,
          3043.9,
          3004.6,
          2964.3,
          2882.4,
          2858.7,
          2637.9,
          3044.2,
          3009.8,
          2981.9
         ],
         "yaxis": "y"
        },
        {
         "marker": {
          "color": "black",
          "size": 10
         },
         "mode": "markers+lines",
         "name": "Unknown Productions",
         "text": [
          0,
          0,
          0,
          0,
          0,
          0,
          0,
          0,
          0,
          0,
          0,
          0,
          0,
          0,
          0,
          0,
          0,
          0,
          0,
          0,
          0,
          0,
          0,
          0,
          0,
          0,
          0,
          0,
          0,
          0,
          0,
          0,
          0,
          0,
          0,
          0,
          0,
          0,
          0,
          0,
          0,
          0,
          0,
          0,
          0,
          0,
          0,
          0,
          0,
          0,
          0,
          0,
          0,
          0,
          0,
          0,
          0,
          0,
          0,
          0,
          0,
          0,
          0
         ],
         "type": "scatter",
         "x": [
          "2022-11-28T22:22:30",
          "2022-11-28T22:37:30",
          "2022-11-28T22:52:30",
          "2022-11-28T23:07:30",
          "2022-11-28T23:22:30",
          "2022-11-30T06:07:30",
          "2022-11-30T23:52:30",
          "2022-12-01T00:07:30",
          "2022-12-01T00:22:30",
          "2022-12-01T00:37:30",
          "2022-12-01T00:52:30",
          "2022-12-01T01:22:30",
          "2022-12-01T01:37:30",
          "2022-12-01T01:52:30",
          "2022-12-01T02:07:30",
          "2022-12-01T02:22:30",
          "2022-12-01T02:37:30",
          "2022-12-01T02:52:30",
          "2022-12-01T03:07:30",
          "2022-12-01T03:22:30",
          "2022-12-01T03:37:30",
          "2022-12-01T03:52:30",
          "2022-12-01T05:07:30",
          "2022-12-01T05:22:30",
          "2022-12-01T05:37:30",
          "2022-12-01T05:52:30",
          "2022-12-01T06:07:30",
          "2022-12-01T06:22:30",
          "2022-12-01T06:37:30",
          "2022-12-01T06:52:30",
          "2022-12-01T07:07:30",
          "2022-12-01T07:22:30",
          "2022-12-01T07:37:30",
          "2022-12-01T23:07:30",
          "2022-12-01T23:22:30",
          "2022-12-01T23:52:30",
          "2022-12-02T00:07:30",
          "2022-12-02T00:22:30",
          "2022-12-02T00:37:30",
          "2022-12-02T00:52:30",
          "2022-12-02T01:07:30",
          "2022-12-02T01:22:30",
          "2022-12-02T01:37:30",
          "2022-12-02T01:52:30",
          "2022-12-02T02:07:30",
          "2022-12-02T02:22:30",
          "2022-12-02T02:37:30",
          "2022-12-02T02:52:30",
          "2022-12-02T03:07:30",
          "2022-12-02T03:22:30",
          "2022-12-02T03:37:30",
          "2022-12-02T03:52:30",
          "2022-12-06T01:22:30",
          "2022-12-06T01:37:30",
          "2022-12-06T01:52:30",
          "2022-12-06T02:07:30",
          "2022-12-06T02:22:30",
          "2022-12-06T02:37:30",
          "2022-12-06T02:52:30",
          "2022-12-06T03:07:30",
          "2022-12-06T03:22:30",
          "2022-12-06T03:37:30",
          "2022-12-06T03:52:30"
         ],
         "xaxis": "x2",
         "y": [
          0,
          0,
          0,
          0,
          0,
          0,
          0,
          0,
          0,
          0,
          0,
          0,
          0,
          0,
          0,
          0,
          0,
          0,
          0,
          0,
          0,
          0,
          0,
          0,
          0,
          0,
          0,
          0,
          0,
          0,
          0,
          0,
          0,
          0,
          0,
          0,
          0,
          0,
          0,
          0,
          0,
          0,
          0,
          0,
          0,
          0,
          0,
          0,
          0,
          0,
          0,
          0,
          0,
          0,
          0,
          0,
          0,
          0,
          0,
          0,
          0,
          0,
          0
         ],
         "yaxis": "y2"
        },
        {
         "marker": {
          "color": "black",
          "size": 10
         },
         "mode": "markers",
         "name": "Unknown Stops",
         "type": "scatter",
         "x": [
          "2022-11-28T22:22:30",
          "2022-11-28T22:37:30",
          "2022-11-28T22:52:30",
          "2022-11-28T23:07:30",
          "2022-11-28T23:22:30",
          "2022-11-30T06:07:30",
          "2022-11-30T23:52:30",
          "2022-12-01T00:07:30",
          "2022-12-01T00:22:30",
          "2022-12-01T00:37:30",
          "2022-12-01T00:52:30",
          "2022-12-01T01:22:30",
          "2022-12-01T01:37:30",
          "2022-12-01T01:52:30",
          "2022-12-01T02:07:30",
          "2022-12-01T02:22:30",
          "2022-12-01T02:37:30",
          "2022-12-01T02:52:30",
          "2022-12-01T03:07:30",
          "2022-12-01T03:22:30",
          "2022-12-01T03:37:30",
          "2022-12-01T03:52:30",
          "2022-12-01T05:07:30",
          "2022-12-01T05:22:30",
          "2022-12-01T05:37:30",
          "2022-12-01T05:52:30",
          "2022-12-01T06:07:30",
          "2022-12-01T06:22:30",
          "2022-12-01T06:37:30",
          "2022-12-01T06:52:30",
          "2022-12-01T07:07:30",
          "2022-12-01T07:22:30",
          "2022-12-01T07:37:30",
          "2022-12-01T23:07:30",
          "2022-12-01T23:22:30",
          "2022-12-01T23:52:30",
          "2022-12-02T00:07:30",
          "2022-12-02T00:22:30",
          "2022-12-02T00:37:30",
          "2022-12-02T00:52:30",
          "2022-12-02T01:07:30",
          "2022-12-02T01:22:30",
          "2022-12-02T01:37:30",
          "2022-12-02T01:52:30",
          "2022-12-02T02:07:30",
          "2022-12-02T02:22:30",
          "2022-12-02T02:37:30",
          "2022-12-02T02:52:30",
          "2022-12-02T03:07:30",
          "2022-12-02T03:22:30",
          "2022-12-02T03:37:30",
          "2022-12-02T03:52:30",
          "2022-12-06T01:22:30",
          "2022-12-06T01:37:30",
          "2022-12-06T01:52:30",
          "2022-12-06T02:07:30",
          "2022-12-06T02:22:30",
          "2022-12-06T02:37:30",
          "2022-12-06T02:52:30",
          "2022-12-06T03:07:30",
          "2022-12-06T03:22:30",
          "2022-12-06T03:37:30",
          "2022-12-06T03:52:30"
         ],
         "xaxis": "x3",
         "y": [
          "Running",
          "Running",
          "Running",
          "Running",
          "Running",
          "Manutenzione ordinaria",
          "Running",
          "Running",
          "Running",
          "Running",
          "Running",
          "Running",
          "Running",
          "Running",
          "Running",
          "Running",
          "Sostituzione utensile",
          "Running",
          "Running",
          "Running",
          "Running",
          "Running",
          "Running",
          "Running",
          "Running",
          "Running",
          "Running",
          "Affilatura utensile",
          "Running",
          "Running",
          "Running",
          "Running",
          "Running",
          "Running",
          "Running",
          "Running",
          "Running",
          "Running",
          "Sostituzione utensile",
          "Running",
          "Running",
          "Running",
          "Running",
          "Running",
          "Running",
          "Running",
          "Sostituzione utensile",
          "Running",
          "Running",
          "Running",
          "Running",
          "Running",
          "Running",
          "Running",
          "Running",
          "Running",
          "Running",
          "Sostituzione utensile",
          "Running",
          "Running",
          "Running",
          "Running",
          "Running"
         ],
         "yaxis": "y3"
        }
       ],
       "layout": {
        "annotations": [
         {
          "font": {
           "size": 16
          },
          "showarrow": false,
          "text": "Energy Consumption",
          "x": 0.5,
          "xanchor": "center",
          "xref": "paper",
          "y": 1,
          "yanchor": "bottom",
          "yref": "paper"
         },
         {
          "font": {
           "size": 16
          },
          "showarrow": false,
          "text": "Productions",
          "x": 0.5,
          "xanchor": "center",
          "xref": "paper",
          "y": 0.6466666666666667,
          "yanchor": "bottom",
          "yref": "paper"
         },
         {
          "font": {
           "size": 16
          },
          "showarrow": false,
          "text": "Stops",
          "x": 0.5,
          "xanchor": "center",
          "xref": "paper",
          "y": 0.29333333333333333,
          "yanchor": "bottom",
          "yref": "paper"
         }
        ],
        "height": 800,
        "template": {
         "data": {
          "bar": [
           {
            "error_x": {
             "color": "#2a3f5f"
            },
            "error_y": {
             "color": "#2a3f5f"
            },
            "marker": {
             "line": {
              "color": "#E5ECF6",
              "width": 0.5
             },
             "pattern": {
              "fillmode": "overlay",
              "size": 10,
              "solidity": 0.2
             }
            },
            "type": "bar"
           }
          ],
          "barpolar": [
           {
            "marker": {
             "line": {
              "color": "#E5ECF6",
              "width": 0.5
             },
             "pattern": {
              "fillmode": "overlay",
              "size": 10,
              "solidity": 0.2
             }
            },
            "type": "barpolar"
           }
          ],
          "carpet": [
           {
            "aaxis": {
             "endlinecolor": "#2a3f5f",
             "gridcolor": "white",
             "linecolor": "white",
             "minorgridcolor": "white",
             "startlinecolor": "#2a3f5f"
            },
            "baxis": {
             "endlinecolor": "#2a3f5f",
             "gridcolor": "white",
             "linecolor": "white",
             "minorgridcolor": "white",
             "startlinecolor": "#2a3f5f"
            },
            "type": "carpet"
           }
          ],
          "choropleth": [
           {
            "colorbar": {
             "outlinewidth": 0,
             "ticks": ""
            },
            "type": "choropleth"
           }
          ],
          "contour": [
           {
            "colorbar": {
             "outlinewidth": 0,
             "ticks": ""
            },
            "colorscale": [
             [
              0,
              "#0d0887"
             ],
             [
              0.1111111111111111,
              "#46039f"
             ],
             [
              0.2222222222222222,
              "#7201a8"
             ],
             [
              0.3333333333333333,
              "#9c179e"
             ],
             [
              0.4444444444444444,
              "#bd3786"
             ],
             [
              0.5555555555555556,
              "#d8576b"
             ],
             [
              0.6666666666666666,
              "#ed7953"
             ],
             [
              0.7777777777777778,
              "#fb9f3a"
             ],
             [
              0.8888888888888888,
              "#fdca26"
             ],
             [
              1,
              "#f0f921"
             ]
            ],
            "type": "contour"
           }
          ],
          "contourcarpet": [
           {
            "colorbar": {
             "outlinewidth": 0,
             "ticks": ""
            },
            "type": "contourcarpet"
           }
          ],
          "heatmap": [
           {
            "colorbar": {
             "outlinewidth": 0,
             "ticks": ""
            },
            "colorscale": [
             [
              0,
              "#0d0887"
             ],
             [
              0.1111111111111111,
              "#46039f"
             ],
             [
              0.2222222222222222,
              "#7201a8"
             ],
             [
              0.3333333333333333,
              "#9c179e"
             ],
             [
              0.4444444444444444,
              "#bd3786"
             ],
             [
              0.5555555555555556,
              "#d8576b"
             ],
             [
              0.6666666666666666,
              "#ed7953"
             ],
             [
              0.7777777777777778,
              "#fb9f3a"
             ],
             [
              0.8888888888888888,
              "#fdca26"
             ],
             [
              1,
              "#f0f921"
             ]
            ],
            "type": "heatmap"
           }
          ],
          "heatmapgl": [
           {
            "colorbar": {
             "outlinewidth": 0,
             "ticks": ""
            },
            "colorscale": [
             [
              0,
              "#0d0887"
             ],
             [
              0.1111111111111111,
              "#46039f"
             ],
             [
              0.2222222222222222,
              "#7201a8"
             ],
             [
              0.3333333333333333,
              "#9c179e"
             ],
             [
              0.4444444444444444,
              "#bd3786"
             ],
             [
              0.5555555555555556,
              "#d8576b"
             ],
             [
              0.6666666666666666,
              "#ed7953"
             ],
             [
              0.7777777777777778,
              "#fb9f3a"
             ],
             [
              0.8888888888888888,
              "#fdca26"
             ],
             [
              1,
              "#f0f921"
             ]
            ],
            "type": "heatmapgl"
           }
          ],
          "histogram": [
           {
            "marker": {
             "pattern": {
              "fillmode": "overlay",
              "size": 10,
              "solidity": 0.2
             }
            },
            "type": "histogram"
           }
          ],
          "histogram2d": [
           {
            "colorbar": {
             "outlinewidth": 0,
             "ticks": ""
            },
            "colorscale": [
             [
              0,
              "#0d0887"
             ],
             [
              0.1111111111111111,
              "#46039f"
             ],
             [
              0.2222222222222222,
              "#7201a8"
             ],
             [
              0.3333333333333333,
              "#9c179e"
             ],
             [
              0.4444444444444444,
              "#bd3786"
             ],
             [
              0.5555555555555556,
              "#d8576b"
             ],
             [
              0.6666666666666666,
              "#ed7953"
             ],
             [
              0.7777777777777778,
              "#fb9f3a"
             ],
             [
              0.8888888888888888,
              "#fdca26"
             ],
             [
              1,
              "#f0f921"
             ]
            ],
            "type": "histogram2d"
           }
          ],
          "histogram2dcontour": [
           {
            "colorbar": {
             "outlinewidth": 0,
             "ticks": ""
            },
            "colorscale": [
             [
              0,
              "#0d0887"
             ],
             [
              0.1111111111111111,
              "#46039f"
             ],
             [
              0.2222222222222222,
              "#7201a8"
             ],
             [
              0.3333333333333333,
              "#9c179e"
             ],
             [
              0.4444444444444444,
              "#bd3786"
             ],
             [
              0.5555555555555556,
              "#d8576b"
             ],
             [
              0.6666666666666666,
              "#ed7953"
             ],
             [
              0.7777777777777778,
              "#fb9f3a"
             ],
             [
              0.8888888888888888,
              "#fdca26"
             ],
             [
              1,
              "#f0f921"
             ]
            ],
            "type": "histogram2dcontour"
           }
          ],
          "mesh3d": [
           {
            "colorbar": {
             "outlinewidth": 0,
             "ticks": ""
            },
            "type": "mesh3d"
           }
          ],
          "parcoords": [
           {
            "line": {
             "colorbar": {
              "outlinewidth": 0,
              "ticks": ""
             }
            },
            "type": "parcoords"
           }
          ],
          "pie": [
           {
            "automargin": true,
            "type": "pie"
           }
          ],
          "scatter": [
           {
            "fillpattern": {
             "fillmode": "overlay",
             "size": 10,
             "solidity": 0.2
            },
            "type": "scatter"
           }
          ],
          "scatter3d": [
           {
            "line": {
             "colorbar": {
              "outlinewidth": 0,
              "ticks": ""
             }
            },
            "marker": {
             "colorbar": {
              "outlinewidth": 0,
              "ticks": ""
             }
            },
            "type": "scatter3d"
           }
          ],
          "scattercarpet": [
           {
            "marker": {
             "colorbar": {
              "outlinewidth": 0,
              "ticks": ""
             }
            },
            "type": "scattercarpet"
           }
          ],
          "scattergeo": [
           {
            "marker": {
             "colorbar": {
              "outlinewidth": 0,
              "ticks": ""
             }
            },
            "type": "scattergeo"
           }
          ],
          "scattergl": [
           {
            "marker": {
             "colorbar": {
              "outlinewidth": 0,
              "ticks": ""
             }
            },
            "type": "scattergl"
           }
          ],
          "scattermapbox": [
           {
            "marker": {
             "colorbar": {
              "outlinewidth": 0,
              "ticks": ""
             }
            },
            "type": "scattermapbox"
           }
          ],
          "scatterpolar": [
           {
            "marker": {
             "colorbar": {
              "outlinewidth": 0,
              "ticks": ""
             }
            },
            "type": "scatterpolar"
           }
          ],
          "scatterpolargl": [
           {
            "marker": {
             "colorbar": {
              "outlinewidth": 0,
              "ticks": ""
             }
            },
            "type": "scatterpolargl"
           }
          ],
          "scatterternary": [
           {
            "marker": {
             "colorbar": {
              "outlinewidth": 0,
              "ticks": ""
             }
            },
            "type": "scatterternary"
           }
          ],
          "surface": [
           {
            "colorbar": {
             "outlinewidth": 0,
             "ticks": ""
            },
            "colorscale": [
             [
              0,
              "#0d0887"
             ],
             [
              0.1111111111111111,
              "#46039f"
             ],
             [
              0.2222222222222222,
              "#7201a8"
             ],
             [
              0.3333333333333333,
              "#9c179e"
             ],
             [
              0.4444444444444444,
              "#bd3786"
             ],
             [
              0.5555555555555556,
              "#d8576b"
             ],
             [
              0.6666666666666666,
              "#ed7953"
             ],
             [
              0.7777777777777778,
              "#fb9f3a"
             ],
             [
              0.8888888888888888,
              "#fdca26"
             ],
             [
              1,
              "#f0f921"
             ]
            ],
            "type": "surface"
           }
          ],
          "table": [
           {
            "cells": {
             "fill": {
              "color": "#EBF0F8"
             },
             "line": {
              "color": "white"
             }
            },
            "header": {
             "fill": {
              "color": "#C8D4E3"
             },
             "line": {
              "color": "white"
             }
            },
            "type": "table"
           }
          ]
         },
         "layout": {
          "annotationdefaults": {
           "arrowcolor": "#2a3f5f",
           "arrowhead": 0,
           "arrowwidth": 1
          },
          "autotypenumbers": "strict",
          "coloraxis": {
           "colorbar": {
            "outlinewidth": 0,
            "ticks": ""
           }
          },
          "colorscale": {
           "diverging": [
            [
             0,
             "#8e0152"
            ],
            [
             0.1,
             "#c51b7d"
            ],
            [
             0.2,
             "#de77ae"
            ],
            [
             0.3,
             "#f1b6da"
            ],
            [
             0.4,
             "#fde0ef"
            ],
            [
             0.5,
             "#f7f7f7"
            ],
            [
             0.6,
             "#e6f5d0"
            ],
            [
             0.7,
             "#b8e186"
            ],
            [
             0.8,
             "#7fbc41"
            ],
            [
             0.9,
             "#4d9221"
            ],
            [
             1,
             "#276419"
            ]
           ],
           "sequential": [
            [
             0,
             "#0d0887"
            ],
            [
             0.1111111111111111,
             "#46039f"
            ],
            [
             0.2222222222222222,
             "#7201a8"
            ],
            [
             0.3333333333333333,
             "#9c179e"
            ],
            [
             0.4444444444444444,
             "#bd3786"
            ],
            [
             0.5555555555555556,
             "#d8576b"
            ],
            [
             0.6666666666666666,
             "#ed7953"
            ],
            [
             0.7777777777777778,
             "#fb9f3a"
            ],
            [
             0.8888888888888888,
             "#fdca26"
            ],
            [
             1,
             "#f0f921"
            ]
           ],
           "sequentialminus": [
            [
             0,
             "#0d0887"
            ],
            [
             0.1111111111111111,
             "#46039f"
            ],
            [
             0.2222222222222222,
             "#7201a8"
            ],
            [
             0.3333333333333333,
             "#9c179e"
            ],
            [
             0.4444444444444444,
             "#bd3786"
            ],
            [
             0.5555555555555556,
             "#d8576b"
            ],
            [
             0.6666666666666666,
             "#ed7953"
            ],
            [
             0.7777777777777778,
             "#fb9f3a"
            ],
            [
             0.8888888888888888,
             "#fdca26"
            ],
            [
             1,
             "#f0f921"
            ]
           ]
          },
          "colorway": [
           "#636efa",
           "#EF553B",
           "#00cc96",
           "#ab63fa",
           "#FFA15A",
           "#19d3f3",
           "#FF6692",
           "#B6E880",
           "#FF97FF",
           "#FECB52"
          ],
          "font": {
           "color": "#2a3f5f"
          },
          "geo": {
           "bgcolor": "white",
           "lakecolor": "white",
           "landcolor": "#E5ECF6",
           "showlakes": true,
           "showland": true,
           "subunitcolor": "white"
          },
          "hoverlabel": {
           "align": "left"
          },
          "hovermode": "closest",
          "mapbox": {
           "style": "light"
          },
          "paper_bgcolor": "white",
          "plot_bgcolor": "#E5ECF6",
          "polar": {
           "angularaxis": {
            "gridcolor": "white",
            "linecolor": "white",
            "ticks": ""
           },
           "bgcolor": "#E5ECF6",
           "radialaxis": {
            "gridcolor": "white",
            "linecolor": "white",
            "ticks": ""
           }
          },
          "scene": {
           "xaxis": {
            "backgroundcolor": "#E5ECF6",
            "gridcolor": "white",
            "gridwidth": 2,
            "linecolor": "white",
            "showbackground": true,
            "ticks": "",
            "zerolinecolor": "white"
           },
           "yaxis": {
            "backgroundcolor": "#E5ECF6",
            "gridcolor": "white",
            "gridwidth": 2,
            "linecolor": "white",
            "showbackground": true,
            "ticks": "",
            "zerolinecolor": "white"
           },
           "zaxis": {
            "backgroundcolor": "#E5ECF6",
            "gridcolor": "white",
            "gridwidth": 2,
            "linecolor": "white",
            "showbackground": true,
            "ticks": "",
            "zerolinecolor": "white"
           }
          },
          "shapedefaults": {
           "line": {
            "color": "#2a3f5f"
           }
          },
          "ternary": {
           "aaxis": {
            "gridcolor": "white",
            "linecolor": "white",
            "ticks": ""
           },
           "baxis": {
            "gridcolor": "white",
            "linecolor": "white",
            "ticks": ""
           },
           "bgcolor": "#E5ECF6",
           "caxis": {
            "gridcolor": "white",
            "linecolor": "white",
            "ticks": ""
           }
          },
          "title": {
           "x": 0.05
          },
          "xaxis": {
           "automargin": true,
           "gridcolor": "white",
           "linecolor": "white",
           "ticks": "",
           "title": {
            "standoff": 15
           },
           "zerolinecolor": "white",
           "zerolinewidth": 2
          },
          "yaxis": {
           "automargin": true,
           "gridcolor": "white",
           "linecolor": "white",
           "ticks": "",
           "title": {
            "standoff": 15
           },
           "zerolinecolor": "white",
           "zerolinewidth": 2
          }
         }
        },
        "title": {
         "text": "Dataset machine 313"
        },
        "width": 1280,
        "xaxis": {
         "anchor": "y",
         "domain": [
          0,
          1
         ],
         "matches": "x3",
         "showticklabels": false
        },
        "xaxis2": {
         "anchor": "y2",
         "domain": [
          0,
          1
         ],
         "matches": "x3",
         "showticklabels": false
        },
        "xaxis3": {
         "anchor": "y3",
         "domain": [
          0,
          1
         ]
        },
        "yaxis": {
         "anchor": "x",
         "domain": [
          0.7066666666666667,
          1
         ]
        },
        "yaxis2": {
         "anchor": "x2",
         "domain": [
          0.35333333333333333,
          0.6466666666666667
         ]
        },
        "yaxis3": {
         "anchor": "x3",
         "domain": [
          0,
          0.29333333333333333
         ]
        }
       }
      }
     },
     "metadata": {},
     "output_type": "display_data"
    },
    {
     "data": {
      "application/vnd.plotly.v1+json": {
       "config": {
        "plotlyServerURL": "https://plot.ly"
       },
       "data": [
        {
         "marker": {
          "color": "black",
          "size": 10
         },
         "mode": "markers+lines",
         "name": "Unknown Energy",
         "text": [
          669.9,
          720.8,
          746.9,
          0,
          0,
          0,
          828,
          828.1,
          825.7,
          826.2,
          825.8,
          826.1,
          828.3,
          827.8,
          827.2,
          826.7,
          769.4,
          909,
          1113.4,
          736.6,
          733.7,
          716.9,
          706.7,
          744.5,
          1160.4,
          1441.8,
          1072.4,
          1465.4,
          1518.1,
          1548.8,
          1562,
          1559.9,
          0,
          0,
          0,
          0,
          0,
          0,
          0,
          0,
          0,
          1354.6,
          870.9,
          1343.5,
          1549.5,
          1559.2,
          1548.6,
          1551.7,
          1430.4,
          1245.3,
          1432.7,
          1418.9,
          1140.3,
          921.4,
          915.2,
          1112,
          1457.1,
          1487.1,
          1433.6,
          817.4,
          894.7,
          1179.8,
          996.6
         ],
         "type": "scatter",
         "x": [
          "2022-11-28T05:22:30",
          "2022-11-28T05:37:30",
          "2022-11-28T05:52:30",
          "2022-12-01T22:52:30",
          "2022-12-01T23:07:30",
          "2022-12-01T23:22:30",
          "2022-12-01T23:52:30",
          "2022-12-02T00:07:30",
          "2022-12-02T00:22:30",
          "2022-12-02T00:37:30",
          "2022-12-02T00:52:30",
          "2022-12-02T01:07:30",
          "2022-12-02T01:22:30",
          "2022-12-02T01:37:30",
          "2022-12-02T01:52:30",
          "2022-12-02T02:07:30",
          "2022-12-02T06:52:30",
          "2022-12-02T07:07:30",
          "2022-12-02T07:22:30",
          "2022-12-02T07:37:30",
          "2022-12-02T07:52:30",
          "2022-12-02T08:07:30",
          "2022-12-02T08:22:30",
          "2022-12-02T08:37:30",
          "2022-12-02T08:52:30",
          "2022-12-02T09:07:30",
          "2022-12-02T09:22:30",
          "2022-12-02T09:37:30",
          "2022-12-02T09:52:30",
          "2022-12-02T22:22:30",
          "2022-12-02T22:37:30",
          "2022-12-02T22:52:30",
          "2022-12-02T23:07:30",
          "2022-12-02T23:22:30",
          "2022-12-03T04:22:30",
          "2022-12-03T06:52:30",
          "2022-12-04T23:52:30",
          "2022-12-05T00:07:30",
          "2022-12-05T00:22:30",
          "2022-12-05T00:37:30",
          "2022-12-05T00:52:30",
          "2022-12-05T14:22:30",
          "2022-12-05T14:37:30",
          "2022-12-05T14:52:30",
          "2022-12-05T15:07:30",
          "2022-12-05T15:22:30",
          "2022-12-05T15:37:30",
          "2022-12-05T15:52:30",
          "2022-12-05T16:07:30",
          "2022-12-05T16:22:30",
          "2022-12-05T16:37:30",
          "2022-12-05T16:52:30",
          "2022-12-05T18:07:30",
          "2022-12-05T18:22:30",
          "2022-12-05T18:37:30",
          "2022-12-05T18:52:30",
          "2022-12-05T19:07:30",
          "2022-12-05T19:22:30",
          "2022-12-05T19:37:30",
          "2022-12-05T19:52:30",
          "2022-12-05T20:07:30",
          "2022-12-05T20:22:30",
          "2022-12-05T20:37:30"
         ],
         "xaxis": "x",
         "y": [
          669.9,
          720.8,
          746.9,
          0,
          0,
          0,
          828,
          828.1,
          825.7,
          826.2,
          825.8,
          826.1,
          828.3,
          827.8,
          827.2,
          826.7,
          769.4,
          909,
          1113.4,
          736.6,
          733.7,
          716.9,
          706.7,
          744.5,
          1160.4,
          1441.8,
          1072.4,
          1465.4,
          1518.1,
          1548.8,
          1562,
          1559.9,
          0,
          0,
          0,
          0,
          0,
          0,
          0,
          0,
          0,
          1354.6,
          870.9,
          1343.5,
          1549.5,
          1559.2,
          1548.6,
          1551.7,
          1430.4,
          1245.3,
          1432.7,
          1418.9,
          1140.3,
          921.4,
          915.2,
          1112,
          1457.1,
          1487.1,
          1433.6,
          817.4,
          894.7,
          1179.8,
          996.6
         ],
         "yaxis": "y"
        },
        {
         "marker": {
          "color": "black",
          "size": 10
         },
         "mode": "markers+lines",
         "name": "Unknown Productions",
         "text": [
          0,
          0,
          0,
          0,
          0,
          0,
          0,
          0,
          0,
          0,
          0,
          0,
          0,
          0,
          0,
          0,
          0,
          0,
          0,
          0,
          0,
          0,
          0,
          0,
          0,
          0,
          0,
          0,
          0,
          0,
          0,
          0,
          0,
          0,
          0,
          0,
          0,
          0,
          0,
          0,
          0,
          0,
          0,
          0,
          0,
          0,
          0,
          0,
          0,
          0,
          0,
          0,
          0,
          0,
          0,
          0,
          0,
          0,
          0,
          0,
          0,
          0,
          0
         ],
         "type": "scatter",
         "x": [
          "2022-11-28T05:22:30",
          "2022-11-28T05:37:30",
          "2022-11-28T05:52:30",
          "2022-12-01T22:52:30",
          "2022-12-01T23:07:30",
          "2022-12-01T23:22:30",
          "2022-12-01T23:52:30",
          "2022-12-02T00:07:30",
          "2022-12-02T00:22:30",
          "2022-12-02T00:37:30",
          "2022-12-02T00:52:30",
          "2022-12-02T01:07:30",
          "2022-12-02T01:22:30",
          "2022-12-02T01:37:30",
          "2022-12-02T01:52:30",
          "2022-12-02T02:07:30",
          "2022-12-02T06:52:30",
          "2022-12-02T07:07:30",
          "2022-12-02T07:22:30",
          "2022-12-02T07:37:30",
          "2022-12-02T07:52:30",
          "2022-12-02T08:07:30",
          "2022-12-02T08:22:30",
          "2022-12-02T08:37:30",
          "2022-12-02T08:52:30",
          "2022-12-02T09:07:30",
          "2022-12-02T09:22:30",
          "2022-12-02T09:37:30",
          "2022-12-02T09:52:30",
          "2022-12-02T22:22:30",
          "2022-12-02T22:37:30",
          "2022-12-02T22:52:30",
          "2022-12-02T23:07:30",
          "2022-12-02T23:22:30",
          "2022-12-03T04:22:30",
          "2022-12-03T06:52:30",
          "2022-12-04T23:52:30",
          "2022-12-05T00:07:30",
          "2022-12-05T00:22:30",
          "2022-12-05T00:37:30",
          "2022-12-05T00:52:30",
          "2022-12-05T14:22:30",
          "2022-12-05T14:37:30",
          "2022-12-05T14:52:30",
          "2022-12-05T15:07:30",
          "2022-12-05T15:22:30",
          "2022-12-05T15:37:30",
          "2022-12-05T15:52:30",
          "2022-12-05T16:07:30",
          "2022-12-05T16:22:30",
          "2022-12-05T16:37:30",
          "2022-12-05T16:52:30",
          "2022-12-05T18:07:30",
          "2022-12-05T18:22:30",
          "2022-12-05T18:37:30",
          "2022-12-05T18:52:30",
          "2022-12-05T19:07:30",
          "2022-12-05T19:22:30",
          "2022-12-05T19:37:30",
          "2022-12-05T19:52:30",
          "2022-12-05T20:07:30",
          "2022-12-05T20:22:30",
          "2022-12-05T20:37:30"
         ],
         "xaxis": "x2",
         "y": [
          0,
          0,
          0,
          0,
          0,
          0,
          0,
          0,
          0,
          0,
          0,
          0,
          0,
          0,
          0,
          0,
          0,
          0,
          0,
          0,
          0,
          0,
          0,
          0,
          0,
          0,
          0,
          0,
          0,
          0,
          0,
          0,
          0,
          0,
          0,
          0,
          0,
          0,
          0,
          0,
          0,
          0,
          0,
          0,
          0,
          0,
          0,
          0,
          0,
          0,
          0,
          0,
          0,
          0,
          0,
          0,
          0,
          0,
          0,
          0,
          0,
          0,
          0
         ],
         "yaxis": "y2"
        },
        {
         "marker": {
          "color": "black",
          "size": 10
         },
         "mode": "markers",
         "name": "Unknown Stops",
         "type": "scatter",
         "x": [
          "2022-11-28T05:22:30",
          "2022-11-28T05:37:30",
          "2022-11-28T05:52:30",
          "2022-12-01T22:52:30",
          "2022-12-01T23:07:30",
          "2022-12-01T23:22:30",
          "2022-12-01T23:52:30",
          "2022-12-02T00:07:30",
          "2022-12-02T00:22:30",
          "2022-12-02T00:37:30",
          "2022-12-02T00:52:30",
          "2022-12-02T01:07:30",
          "2022-12-02T01:22:30",
          "2022-12-02T01:37:30",
          "2022-12-02T01:52:30",
          "2022-12-02T02:07:30",
          "2022-12-02T06:52:30",
          "2022-12-02T07:07:30",
          "2022-12-02T07:22:30",
          "2022-12-02T07:37:30",
          "2022-12-02T07:52:30",
          "2022-12-02T08:07:30",
          "2022-12-02T08:22:30",
          "2022-12-02T08:37:30",
          "2022-12-02T08:52:30",
          "2022-12-02T09:07:30",
          "2022-12-02T09:22:30",
          "2022-12-02T09:37:30",
          "2022-12-02T09:52:30",
          "2022-12-02T22:22:30",
          "2022-12-02T22:37:30",
          "2022-12-02T22:52:30",
          "2022-12-02T23:07:30",
          "2022-12-02T23:22:30",
          "2022-12-03T04:22:30",
          "2022-12-03T06:52:30",
          "2022-12-04T23:52:30",
          "2022-12-05T00:07:30",
          "2022-12-05T00:22:30",
          "2022-12-05T00:37:30",
          "2022-12-05T00:52:30",
          "2022-12-05T14:22:30",
          "2022-12-05T14:37:30",
          "2022-12-05T14:52:30",
          "2022-12-05T15:07:30",
          "2022-12-05T15:22:30",
          "2022-12-05T15:37:30",
          "2022-12-05T15:52:30",
          "2022-12-05T16:07:30",
          "2022-12-05T16:22:30",
          "2022-12-05T16:37:30",
          "2022-12-05T16:52:30",
          "2022-12-05T18:07:30",
          "2022-12-05T18:22:30",
          "2022-12-05T18:37:30",
          "2022-12-05T18:52:30",
          "2022-12-05T19:07:30",
          "2022-12-05T19:22:30",
          "2022-12-05T19:37:30",
          "2022-12-05T19:52:30",
          "2022-12-05T20:07:30",
          "2022-12-05T20:22:30",
          "2022-12-05T20:37:30"
         ],
         "xaxis": "x3",
         "y": [
          "Running",
          "Running",
          "Running",
          "Running",
          "Running",
          "Running",
          "Running",
          "Running",
          "Manutenzione ordinaria",
          "Manutenzione ordinaria",
          "Manutenzione ordinaria",
          "Running",
          "Running",
          "Running",
          "Running",
          "Running",
          "Running",
          "Running",
          "Running",
          "Running",
          "Running",
          "Sostituzione utensile",
          "Running",
          "Manutenzione ordinaria",
          "Running",
          "Running",
          "Running",
          "Running",
          "Running",
          "Running",
          "Running",
          "Running",
          "Running",
          "Running",
          "Sostituzione utensile",
          "Sostituzione utensile",
          "Running",
          "Running",
          "Running",
          "Running",
          "Running",
          "Running",
          "Running",
          "Running",
          "Running",
          "Running",
          "Sostituzione utensile",
          "Running",
          "Running",
          "Running",
          "Running",
          "Running",
          "Running",
          "Running",
          "Running",
          "Running",
          "Running",
          "Affilatura utensile",
          "Running",
          "Running",
          "Running",
          "Running",
          "Running"
         ],
         "yaxis": "y3"
        },
        {
         "marker": {
          "color": "green",
          "size": 10
         },
         "mode": "markers+lines",
         "name": "AIS Energy",
         "text": [
          748.8,
          748.3,
          743.7,
          778.9,
          1111.4,
          1091.7,
          1095.5,
          1219.4,
          1027.5,
          940.7,
          1008.2,
          998.2,
          1085,
          1102,
          1082.2,
          1081.9,
          1175.2,
          1252.1,
          1242.8
         ],
         "type": "scatter",
         "x": [
          "2022-11-28T06:07:30",
          "2022-11-28T06:22:30",
          "2022-11-28T06:37:30",
          "2022-11-28T06:52:30",
          "2022-11-28T07:07:30",
          "2022-11-28T07:22:30",
          "2022-11-28T07:37:30",
          "2022-11-28T07:52:30",
          "2022-11-28T09:52:30",
          "2022-11-28T10:07:30",
          "2022-11-28T10:22:30",
          "2022-11-28T10:37:30",
          "2022-11-28T10:52:30",
          "2022-11-28T11:07:30",
          "2022-11-28T11:22:30",
          "2022-11-28T11:37:30",
          "2022-11-28T11:52:30",
          "2022-11-28T12:07:30",
          "2022-11-28T12:22:30"
         ],
         "xaxis": "x",
         "y": [
          748.8,
          748.3,
          743.7,
          778.9,
          1111.4,
          1091.7,
          1095.5,
          1219.4,
          1027.5,
          940.7,
          1008.2,
          998.2,
          1085,
          1102,
          1082.2,
          1081.9,
          1175.2,
          1252.1,
          1242.8
         ],
         "yaxis": "y"
        },
        {
         "marker": {
          "color": "green",
          "size": 10
         },
         "mode": "markers+lines",
         "name": "AIS Productions",
         "text": [
          0,
          0,
          0,
          0,
          0,
          0,
          0,
          0,
          39,
          0,
          0,
          0,
          39.2,
          10.8,
          0,
          16,
          -12.833333333333332,
          5.833333333333334,
          0
         ],
         "type": "scatter",
         "x": [
          "2022-11-28T06:07:30",
          "2022-11-28T06:22:30",
          "2022-11-28T06:37:30",
          "2022-11-28T06:52:30",
          "2022-11-28T07:07:30",
          "2022-11-28T07:22:30",
          "2022-11-28T07:37:30",
          "2022-11-28T07:52:30",
          "2022-11-28T09:52:30",
          "2022-11-28T10:07:30",
          "2022-11-28T10:22:30",
          "2022-11-28T10:37:30",
          "2022-11-28T10:52:30",
          "2022-11-28T11:07:30",
          "2022-11-28T11:22:30",
          "2022-11-28T11:37:30",
          "2022-11-28T11:52:30",
          "2022-11-28T12:07:30",
          "2022-11-28T12:22:30"
         ],
         "xaxis": "x2",
         "y": [
          0,
          0,
          0,
          0,
          0,
          0,
          0,
          0,
          39,
          0,
          0,
          0,
          39.2,
          10.8,
          0,
          16,
          -12.833333333333332,
          5.833333333333334,
          0
         ],
         "yaxis": "y2"
        },
        {
         "marker": {
          "color": "green",
          "size": 10
         },
         "mode": "markers",
         "name": "AIS Stops",
         "type": "scatter",
         "x": [
          "2022-11-28T06:07:30",
          "2022-11-28T06:22:30",
          "2022-11-28T06:37:30",
          "2022-11-28T06:52:30",
          "2022-11-28T07:07:30",
          "2022-11-28T07:22:30",
          "2022-11-28T07:37:30",
          "2022-11-28T07:52:30",
          "2022-11-28T09:52:30",
          "2022-11-28T10:07:30",
          "2022-11-28T10:22:30",
          "2022-11-28T10:37:30",
          "2022-11-28T10:52:30",
          "2022-11-28T11:07:30",
          "2022-11-28T11:22:30",
          "2022-11-28T11:37:30",
          "2022-11-28T11:52:30",
          "2022-11-28T12:07:30",
          "2022-11-28T12:22:30"
         ],
         "xaxis": "x3",
         "y": [
          "Running",
          "Running",
          "Manutenzione ordinaria",
          "Running",
          "Running",
          "Running",
          "Running",
          "Running",
          "Running",
          "Running",
          "Running",
          "Running",
          "Running",
          "Sostituzione utensile",
          "Running",
          "Running",
          "Running",
          "Running",
          "Running"
         ],
         "yaxis": "y3"
        }
       ],
       "layout": {
        "annotations": [
         {
          "font": {
           "size": 16
          },
          "showarrow": false,
          "text": "Energy Consumption",
          "x": 0.5,
          "xanchor": "center",
          "xref": "paper",
          "y": 1,
          "yanchor": "bottom",
          "yref": "paper"
         },
         {
          "font": {
           "size": 16
          },
          "showarrow": false,
          "text": "Productions",
          "x": 0.5,
          "xanchor": "center",
          "xref": "paper",
          "y": 0.6466666666666667,
          "yanchor": "bottom",
          "yref": "paper"
         },
         {
          "font": {
           "size": 16
          },
          "showarrow": false,
          "text": "Stops",
          "x": 0.5,
          "xanchor": "center",
          "xref": "paper",
          "y": 0.29333333333333333,
          "yanchor": "bottom",
          "yref": "paper"
         }
        ],
        "height": 800,
        "template": {
         "data": {
          "bar": [
           {
            "error_x": {
             "color": "#2a3f5f"
            },
            "error_y": {
             "color": "#2a3f5f"
            },
            "marker": {
             "line": {
              "color": "#E5ECF6",
              "width": 0.5
             },
             "pattern": {
              "fillmode": "overlay",
              "size": 10,
              "solidity": 0.2
             }
            },
            "type": "bar"
           }
          ],
          "barpolar": [
           {
            "marker": {
             "line": {
              "color": "#E5ECF6",
              "width": 0.5
             },
             "pattern": {
              "fillmode": "overlay",
              "size": 10,
              "solidity": 0.2
             }
            },
            "type": "barpolar"
           }
          ],
          "carpet": [
           {
            "aaxis": {
             "endlinecolor": "#2a3f5f",
             "gridcolor": "white",
             "linecolor": "white",
             "minorgridcolor": "white",
             "startlinecolor": "#2a3f5f"
            },
            "baxis": {
             "endlinecolor": "#2a3f5f",
             "gridcolor": "white",
             "linecolor": "white",
             "minorgridcolor": "white",
             "startlinecolor": "#2a3f5f"
            },
            "type": "carpet"
           }
          ],
          "choropleth": [
           {
            "colorbar": {
             "outlinewidth": 0,
             "ticks": ""
            },
            "type": "choropleth"
           }
          ],
          "contour": [
           {
            "colorbar": {
             "outlinewidth": 0,
             "ticks": ""
            },
            "colorscale": [
             [
              0,
              "#0d0887"
             ],
             [
              0.1111111111111111,
              "#46039f"
             ],
             [
              0.2222222222222222,
              "#7201a8"
             ],
             [
              0.3333333333333333,
              "#9c179e"
             ],
             [
              0.4444444444444444,
              "#bd3786"
             ],
             [
              0.5555555555555556,
              "#d8576b"
             ],
             [
              0.6666666666666666,
              "#ed7953"
             ],
             [
              0.7777777777777778,
              "#fb9f3a"
             ],
             [
              0.8888888888888888,
              "#fdca26"
             ],
             [
              1,
              "#f0f921"
             ]
            ],
            "type": "contour"
           }
          ],
          "contourcarpet": [
           {
            "colorbar": {
             "outlinewidth": 0,
             "ticks": ""
            },
            "type": "contourcarpet"
           }
          ],
          "heatmap": [
           {
            "colorbar": {
             "outlinewidth": 0,
             "ticks": ""
            },
            "colorscale": [
             [
              0,
              "#0d0887"
             ],
             [
              0.1111111111111111,
              "#46039f"
             ],
             [
              0.2222222222222222,
              "#7201a8"
             ],
             [
              0.3333333333333333,
              "#9c179e"
             ],
             [
              0.4444444444444444,
              "#bd3786"
             ],
             [
              0.5555555555555556,
              "#d8576b"
             ],
             [
              0.6666666666666666,
              "#ed7953"
             ],
             [
              0.7777777777777778,
              "#fb9f3a"
             ],
             [
              0.8888888888888888,
              "#fdca26"
             ],
             [
              1,
              "#f0f921"
             ]
            ],
            "type": "heatmap"
           }
          ],
          "heatmapgl": [
           {
            "colorbar": {
             "outlinewidth": 0,
             "ticks": ""
            },
            "colorscale": [
             [
              0,
              "#0d0887"
             ],
             [
              0.1111111111111111,
              "#46039f"
             ],
             [
              0.2222222222222222,
              "#7201a8"
             ],
             [
              0.3333333333333333,
              "#9c179e"
             ],
             [
              0.4444444444444444,
              "#bd3786"
             ],
             [
              0.5555555555555556,
              "#d8576b"
             ],
             [
              0.6666666666666666,
              "#ed7953"
             ],
             [
              0.7777777777777778,
              "#fb9f3a"
             ],
             [
              0.8888888888888888,
              "#fdca26"
             ],
             [
              1,
              "#f0f921"
             ]
            ],
            "type": "heatmapgl"
           }
          ],
          "histogram": [
           {
            "marker": {
             "pattern": {
              "fillmode": "overlay",
              "size": 10,
              "solidity": 0.2
             }
            },
            "type": "histogram"
           }
          ],
          "histogram2d": [
           {
            "colorbar": {
             "outlinewidth": 0,
             "ticks": ""
            },
            "colorscale": [
             [
              0,
              "#0d0887"
             ],
             [
              0.1111111111111111,
              "#46039f"
             ],
             [
              0.2222222222222222,
              "#7201a8"
             ],
             [
              0.3333333333333333,
              "#9c179e"
             ],
             [
              0.4444444444444444,
              "#bd3786"
             ],
             [
              0.5555555555555556,
              "#d8576b"
             ],
             [
              0.6666666666666666,
              "#ed7953"
             ],
             [
              0.7777777777777778,
              "#fb9f3a"
             ],
             [
              0.8888888888888888,
              "#fdca26"
             ],
             [
              1,
              "#f0f921"
             ]
            ],
            "type": "histogram2d"
           }
          ],
          "histogram2dcontour": [
           {
            "colorbar": {
             "outlinewidth": 0,
             "ticks": ""
            },
            "colorscale": [
             [
              0,
              "#0d0887"
             ],
             [
              0.1111111111111111,
              "#46039f"
             ],
             [
              0.2222222222222222,
              "#7201a8"
             ],
             [
              0.3333333333333333,
              "#9c179e"
             ],
             [
              0.4444444444444444,
              "#bd3786"
             ],
             [
              0.5555555555555556,
              "#d8576b"
             ],
             [
              0.6666666666666666,
              "#ed7953"
             ],
             [
              0.7777777777777778,
              "#fb9f3a"
             ],
             [
              0.8888888888888888,
              "#fdca26"
             ],
             [
              1,
              "#f0f921"
             ]
            ],
            "type": "histogram2dcontour"
           }
          ],
          "mesh3d": [
           {
            "colorbar": {
             "outlinewidth": 0,
             "ticks": ""
            },
            "type": "mesh3d"
           }
          ],
          "parcoords": [
           {
            "line": {
             "colorbar": {
              "outlinewidth": 0,
              "ticks": ""
             }
            },
            "type": "parcoords"
           }
          ],
          "pie": [
           {
            "automargin": true,
            "type": "pie"
           }
          ],
          "scatter": [
           {
            "fillpattern": {
             "fillmode": "overlay",
             "size": 10,
             "solidity": 0.2
            },
            "type": "scatter"
           }
          ],
          "scatter3d": [
           {
            "line": {
             "colorbar": {
              "outlinewidth": 0,
              "ticks": ""
             }
            },
            "marker": {
             "colorbar": {
              "outlinewidth": 0,
              "ticks": ""
             }
            },
            "type": "scatter3d"
           }
          ],
          "scattercarpet": [
           {
            "marker": {
             "colorbar": {
              "outlinewidth": 0,
              "ticks": ""
             }
            },
            "type": "scattercarpet"
           }
          ],
          "scattergeo": [
           {
            "marker": {
             "colorbar": {
              "outlinewidth": 0,
              "ticks": ""
             }
            },
            "type": "scattergeo"
           }
          ],
          "scattergl": [
           {
            "marker": {
             "colorbar": {
              "outlinewidth": 0,
              "ticks": ""
             }
            },
            "type": "scattergl"
           }
          ],
          "scattermapbox": [
           {
            "marker": {
             "colorbar": {
              "outlinewidth": 0,
              "ticks": ""
             }
            },
            "type": "scattermapbox"
           }
          ],
          "scatterpolar": [
           {
            "marker": {
             "colorbar": {
              "outlinewidth": 0,
              "ticks": ""
             }
            },
            "type": "scatterpolar"
           }
          ],
          "scatterpolargl": [
           {
            "marker": {
             "colorbar": {
              "outlinewidth": 0,
              "ticks": ""
             }
            },
            "type": "scatterpolargl"
           }
          ],
          "scatterternary": [
           {
            "marker": {
             "colorbar": {
              "outlinewidth": 0,
              "ticks": ""
             }
            },
            "type": "scatterternary"
           }
          ],
          "surface": [
           {
            "colorbar": {
             "outlinewidth": 0,
             "ticks": ""
            },
            "colorscale": [
             [
              0,
              "#0d0887"
             ],
             [
              0.1111111111111111,
              "#46039f"
             ],
             [
              0.2222222222222222,
              "#7201a8"
             ],
             [
              0.3333333333333333,
              "#9c179e"
             ],
             [
              0.4444444444444444,
              "#bd3786"
             ],
             [
              0.5555555555555556,
              "#d8576b"
             ],
             [
              0.6666666666666666,
              "#ed7953"
             ],
             [
              0.7777777777777778,
              "#fb9f3a"
             ],
             [
              0.8888888888888888,
              "#fdca26"
             ],
             [
              1,
              "#f0f921"
             ]
            ],
            "type": "surface"
           }
          ],
          "table": [
           {
            "cells": {
             "fill": {
              "color": "#EBF0F8"
             },
             "line": {
              "color": "white"
             }
            },
            "header": {
             "fill": {
              "color": "#C8D4E3"
             },
             "line": {
              "color": "white"
             }
            },
            "type": "table"
           }
          ]
         },
         "layout": {
          "annotationdefaults": {
           "arrowcolor": "#2a3f5f",
           "arrowhead": 0,
           "arrowwidth": 1
          },
          "autotypenumbers": "strict",
          "coloraxis": {
           "colorbar": {
            "outlinewidth": 0,
            "ticks": ""
           }
          },
          "colorscale": {
           "diverging": [
            [
             0,
             "#8e0152"
            ],
            [
             0.1,
             "#c51b7d"
            ],
            [
             0.2,
             "#de77ae"
            ],
            [
             0.3,
             "#f1b6da"
            ],
            [
             0.4,
             "#fde0ef"
            ],
            [
             0.5,
             "#f7f7f7"
            ],
            [
             0.6,
             "#e6f5d0"
            ],
            [
             0.7,
             "#b8e186"
            ],
            [
             0.8,
             "#7fbc41"
            ],
            [
             0.9,
             "#4d9221"
            ],
            [
             1,
             "#276419"
            ]
           ],
           "sequential": [
            [
             0,
             "#0d0887"
            ],
            [
             0.1111111111111111,
             "#46039f"
            ],
            [
             0.2222222222222222,
             "#7201a8"
            ],
            [
             0.3333333333333333,
             "#9c179e"
            ],
            [
             0.4444444444444444,
             "#bd3786"
            ],
            [
             0.5555555555555556,
             "#d8576b"
            ],
            [
             0.6666666666666666,
             "#ed7953"
            ],
            [
             0.7777777777777778,
             "#fb9f3a"
            ],
            [
             0.8888888888888888,
             "#fdca26"
            ],
            [
             1,
             "#f0f921"
            ]
           ],
           "sequentialminus": [
            [
             0,
             "#0d0887"
            ],
            [
             0.1111111111111111,
             "#46039f"
            ],
            [
             0.2222222222222222,
             "#7201a8"
            ],
            [
             0.3333333333333333,
             "#9c179e"
            ],
            [
             0.4444444444444444,
             "#bd3786"
            ],
            [
             0.5555555555555556,
             "#d8576b"
            ],
            [
             0.6666666666666666,
             "#ed7953"
            ],
            [
             0.7777777777777778,
             "#fb9f3a"
            ],
            [
             0.8888888888888888,
             "#fdca26"
            ],
            [
             1,
             "#f0f921"
            ]
           ]
          },
          "colorway": [
           "#636efa",
           "#EF553B",
           "#00cc96",
           "#ab63fa",
           "#FFA15A",
           "#19d3f3",
           "#FF6692",
           "#B6E880",
           "#FF97FF",
           "#FECB52"
          ],
          "font": {
           "color": "#2a3f5f"
          },
          "geo": {
           "bgcolor": "white",
           "lakecolor": "white",
           "landcolor": "#E5ECF6",
           "showlakes": true,
           "showland": true,
           "subunitcolor": "white"
          },
          "hoverlabel": {
           "align": "left"
          },
          "hovermode": "closest",
          "mapbox": {
           "style": "light"
          },
          "paper_bgcolor": "white",
          "plot_bgcolor": "#E5ECF6",
          "polar": {
           "angularaxis": {
            "gridcolor": "white",
            "linecolor": "white",
            "ticks": ""
           },
           "bgcolor": "#E5ECF6",
           "radialaxis": {
            "gridcolor": "white",
            "linecolor": "white",
            "ticks": ""
           }
          },
          "scene": {
           "xaxis": {
            "backgroundcolor": "#E5ECF6",
            "gridcolor": "white",
            "gridwidth": 2,
            "linecolor": "white",
            "showbackground": true,
            "ticks": "",
            "zerolinecolor": "white"
           },
           "yaxis": {
            "backgroundcolor": "#E5ECF6",
            "gridcolor": "white",
            "gridwidth": 2,
            "linecolor": "white",
            "showbackground": true,
            "ticks": "",
            "zerolinecolor": "white"
           },
           "zaxis": {
            "backgroundcolor": "#E5ECF6",
            "gridcolor": "white",
            "gridwidth": 2,
            "linecolor": "white",
            "showbackground": true,
            "ticks": "",
            "zerolinecolor": "white"
           }
          },
          "shapedefaults": {
           "line": {
            "color": "#2a3f5f"
           }
          },
          "ternary": {
           "aaxis": {
            "gridcolor": "white",
            "linecolor": "white",
            "ticks": ""
           },
           "baxis": {
            "gridcolor": "white",
            "linecolor": "white",
            "ticks": ""
           },
           "bgcolor": "#E5ECF6",
           "caxis": {
            "gridcolor": "white",
            "linecolor": "white",
            "ticks": ""
           }
          },
          "title": {
           "x": 0.05
          },
          "xaxis": {
           "automargin": true,
           "gridcolor": "white",
           "linecolor": "white",
           "ticks": "",
           "title": {
            "standoff": 15
           },
           "zerolinecolor": "white",
           "zerolinewidth": 2
          },
          "yaxis": {
           "automargin": true,
           "gridcolor": "white",
           "linecolor": "white",
           "ticks": "",
           "title": {
            "standoff": 15
           },
           "zerolinecolor": "white",
           "zerolinewidth": 2
          }
         }
        },
        "title": {
         "text": "Dataset machine 307"
        },
        "width": 1280,
        "xaxis": {
         "anchor": "y",
         "domain": [
          0,
          1
         ],
         "matches": "x3",
         "showticklabels": false
        },
        "xaxis2": {
         "anchor": "y2",
         "domain": [
          0,
          1
         ],
         "matches": "x3",
         "showticklabels": false
        },
        "xaxis3": {
         "anchor": "y3",
         "domain": [
          0,
          1
         ]
        },
        "yaxis": {
         "anchor": "x",
         "domain": [
          0.7066666666666667,
          1
         ]
        },
        "yaxis2": {
         "anchor": "x2",
         "domain": [
          0.35333333333333333,
          0.6466666666666667
         ]
        },
        "yaxis3": {
         "anchor": "x3",
         "domain": [
          0,
          0.29333333333333333
         ]
        }
       }
      }
     },
     "metadata": {},
     "output_type": "display_data"
    },
    {
     "data": {
      "application/vnd.plotly.v1+json": {
       "config": {
        "plotlyServerURL": "https://plot.ly"
       },
       "data": [
        {
         "marker": {
          "color": "blue",
          "size": 10
         },
         "mode": "markers+lines",
         "name": "AVP Energy",
         "text": [
          844.6,
          693,
          818.6,
          589,
          700.8,
          595.3,
          730.9,
          1374.3,
          2069.8,
          2222.2,
          2122.2,
          1810.2,
          1236.8,
          1194.5,
          808.1,
          1540.1,
          1094,
          1049.2,
          662.8,
          706.3,
          2024.1,
          2281,
          1661.3,
          2043.8
         ],
         "type": "scatter",
         "x": [
          "2022-11-28T12:07:30",
          "2022-11-28T12:22:30",
          "2022-11-28T12:37:30",
          "2022-11-28T12:52:30",
          "2022-11-28T13:07:30",
          "2022-11-28T13:22:30",
          "2022-11-28T13:37:30",
          "2022-11-28T13:52:30",
          "2022-11-28T14:07:30",
          "2022-11-28T14:22:30",
          "2022-11-28T14:37:30",
          "2022-11-28T14:52:30",
          "2022-11-28T15:07:30",
          "2022-11-28T15:22:30",
          "2022-11-28T15:37:30",
          "2022-11-28T15:52:30",
          "2022-11-28T16:07:30",
          "2022-11-28T16:22:30",
          "2022-11-28T16:37:30",
          "2022-11-28T16:52:30",
          "2022-11-28T17:07:30",
          "2022-11-28T17:22:30",
          "2022-11-28T17:37:30",
          "2022-11-28T17:52:30"
         ],
         "xaxis": "x",
         "y": [
          844.6,
          693,
          818.6,
          589,
          700.8,
          595.3,
          730.9,
          1374.3,
          2069.8,
          2222.2,
          2122.2,
          1810.2,
          1236.8,
          1194.5,
          808.1,
          1540.1,
          1094,
          1049.2,
          662.8,
          706.3,
          2024.1,
          2281,
          1661.3,
          2043.8
         ],
         "yaxis": "y"
        },
        {
         "marker": {
          "color": "blue",
          "size": 10
         },
         "mode": "markers+lines",
         "name": "AVP Productions",
         "text": [
          37.56730769230769,
          21.307692307692307,
          30,
          16,
          27.571428571428573,
          7.428571428571429,
          0,
          4,
          0,
          0,
          0,
          0,
          3,
          0,
          6.4,
          96,
          93.6,
          10,
          12,
          0,
          0,
          0,
          0,
          0
         ],
         "type": "scatter",
         "x": [
          "2022-11-28T12:07:30",
          "2022-11-28T12:22:30",
          "2022-11-28T12:37:30",
          "2022-11-28T12:52:30",
          "2022-11-28T13:07:30",
          "2022-11-28T13:22:30",
          "2022-11-28T13:37:30",
          "2022-11-28T13:52:30",
          "2022-11-28T14:07:30",
          "2022-11-28T14:22:30",
          "2022-11-28T14:37:30",
          "2022-11-28T14:52:30",
          "2022-11-28T15:07:30",
          "2022-11-28T15:22:30",
          "2022-11-28T15:37:30",
          "2022-11-28T15:52:30",
          "2022-11-28T16:07:30",
          "2022-11-28T16:22:30",
          "2022-11-28T16:37:30",
          "2022-11-28T16:52:30",
          "2022-11-28T17:07:30",
          "2022-11-28T17:22:30",
          "2022-11-28T17:37:30",
          "2022-11-28T17:52:30"
         ],
         "xaxis": "x2",
         "y": [
          37.56730769230769,
          21.307692307692307,
          30,
          16,
          27.571428571428573,
          7.428571428571429,
          0,
          4,
          0,
          0,
          0,
          0,
          3,
          0,
          6.4,
          96,
          93.6,
          10,
          12,
          0,
          0,
          0,
          0,
          0
         ],
         "yaxis": "y2"
        },
        {
         "marker": {
          "color": "blue",
          "size": 10
         },
         "mode": "markers",
         "name": "AVP Stops",
         "type": "scatter",
         "x": [
          "2022-11-28T12:07:30",
          "2022-11-28T12:22:30",
          "2022-11-28T12:37:30",
          "2022-11-28T12:52:30",
          "2022-11-28T13:07:30",
          "2022-11-28T13:22:30",
          "2022-11-28T13:37:30",
          "2022-11-28T13:52:30",
          "2022-11-28T14:07:30",
          "2022-11-28T14:22:30",
          "2022-11-28T14:37:30",
          "2022-11-28T14:52:30",
          "2022-11-28T15:07:30",
          "2022-11-28T15:22:30",
          "2022-11-28T15:37:30",
          "2022-11-28T15:52:30",
          "2022-11-28T16:07:30",
          "2022-11-28T16:22:30",
          "2022-11-28T16:37:30",
          "2022-11-28T16:52:30",
          "2022-11-28T17:07:30",
          "2022-11-28T17:22:30",
          "2022-11-28T17:37:30",
          "2022-11-28T17:52:30"
         ],
         "xaxis": "x3",
         "y": [
          "Running",
          "Running",
          "Running",
          "Running",
          "Running",
          "Manutenzione ordinaria",
          "Running",
          "Manutenzione ordinaria",
          "Running",
          "Running",
          "Running",
          "Running",
          "Running",
          "Running",
          "Running",
          "Running",
          "Running",
          "Running",
          "Manutenzione straordinaria",
          "Running",
          "Running",
          "Running",
          "Running",
          "Running"
         ],
         "yaxis": "y3"
        },
        {
         "marker": {
          "color": "black",
          "size": 10
         },
         "mode": "markers+lines",
         "name": "Unknown Energy",
         "text": [
          1027.2,
          850.8,
          1356,
          1966.8,
          1575.8,
          1307.9,
          1850.1,
          2024.6,
          2118.6,
          2093.6,
          1620,
          1939.6,
          952.8,
          854.9,
          0,
          0,
          0,
          0,
          0,
          0,
          0,
          0,
          0,
          0,
          0,
          0,
          0,
          894.1,
          787.8,
          873.6,
          819.7,
          831.5
         ],
         "type": "scatter",
         "x": [
          "2022-11-28T18:37:30",
          "2022-11-28T18:52:30",
          "2022-11-28T19:07:30",
          "2022-11-28T19:22:30",
          "2022-11-28T19:37:30",
          "2022-11-28T19:52:30",
          "2022-11-28T20:07:30",
          "2022-11-28T20:22:30",
          "2022-11-28T20:37:30",
          "2022-11-28T20:52:30",
          "2022-11-28T21:07:30",
          "2022-11-28T22:22:30",
          "2022-11-28T22:37:30",
          "2022-11-28T22:52:30",
          "2022-11-28T23:07:30",
          "2022-11-28T23:22:30",
          "2022-11-29T06:07:30",
          "2022-11-29T10:52:30",
          "2022-11-29T12:52:30",
          "2022-11-29T14:07:30",
          "2022-11-29T20:07:30",
          "2022-11-30T06:07:30",
          "2022-11-30T11:07:30",
          "2022-11-30T12:37:30",
          "2022-11-30T13:52:30",
          "2022-11-30T16:22:30",
          "2022-11-30T20:22:30",
          "2022-11-30T23:52:30",
          "2022-12-01T00:07:30",
          "2022-12-01T00:22:30",
          "2022-12-01T00:37:30",
          "2022-12-01T00:52:30"
         ],
         "xaxis": "x",
         "y": [
          1027.2,
          850.8,
          1356,
          1966.8,
          1575.8,
          1307.9,
          1850.1,
          2024.6,
          2118.6,
          2093.6,
          1620,
          1939.6,
          952.8,
          854.9,
          0,
          0,
          0,
          0,
          0,
          0,
          0,
          0,
          0,
          0,
          0,
          0,
          0,
          894.1,
          787.8,
          873.6,
          819.7,
          831.5
         ],
         "yaxis": "y"
        },
        {
         "marker": {
          "color": "black",
          "size": 10
         },
         "mode": "markers+lines",
         "name": "Unknown Productions",
         "text": [
          0,
          0,
          0,
          0,
          0,
          0,
          0,
          0,
          0,
          0,
          0,
          0,
          0,
          0,
          0,
          0,
          0,
          0,
          0,
          0,
          0,
          0,
          0,
          0,
          0,
          0,
          0,
          0,
          0,
          0,
          0,
          0
         ],
         "type": "scatter",
         "x": [
          "2022-11-28T18:37:30",
          "2022-11-28T18:52:30",
          "2022-11-28T19:07:30",
          "2022-11-28T19:22:30",
          "2022-11-28T19:37:30",
          "2022-11-28T19:52:30",
          "2022-11-28T20:07:30",
          "2022-11-28T20:22:30",
          "2022-11-28T20:37:30",
          "2022-11-28T20:52:30",
          "2022-11-28T21:07:30",
          "2022-11-28T22:22:30",
          "2022-11-28T22:37:30",
          "2022-11-28T22:52:30",
          "2022-11-28T23:07:30",
          "2022-11-28T23:22:30",
          "2022-11-29T06:07:30",
          "2022-11-29T10:52:30",
          "2022-11-29T12:52:30",
          "2022-11-29T14:07:30",
          "2022-11-29T20:07:30",
          "2022-11-30T06:07:30",
          "2022-11-30T11:07:30",
          "2022-11-30T12:37:30",
          "2022-11-30T13:52:30",
          "2022-11-30T16:22:30",
          "2022-11-30T20:22:30",
          "2022-11-30T23:52:30",
          "2022-12-01T00:07:30",
          "2022-12-01T00:22:30",
          "2022-12-01T00:37:30",
          "2022-12-01T00:52:30"
         ],
         "xaxis": "x2",
         "y": [
          0,
          0,
          0,
          0,
          0,
          0,
          0,
          0,
          0,
          0,
          0,
          0,
          0,
          0,
          0,
          0,
          0,
          0,
          0,
          0,
          0,
          0,
          0,
          0,
          0,
          0,
          0,
          0,
          0,
          0,
          0,
          0
         ],
         "yaxis": "y2"
        },
        {
         "marker": {
          "color": "black",
          "size": 10
         },
         "mode": "markers",
         "name": "Unknown Stops",
         "type": "scatter",
         "x": [
          "2022-11-28T18:37:30",
          "2022-11-28T18:52:30",
          "2022-11-28T19:07:30",
          "2022-11-28T19:22:30",
          "2022-11-28T19:37:30",
          "2022-11-28T19:52:30",
          "2022-11-28T20:07:30",
          "2022-11-28T20:22:30",
          "2022-11-28T20:37:30",
          "2022-11-28T20:52:30",
          "2022-11-28T21:07:30",
          "2022-11-28T22:22:30",
          "2022-11-28T22:37:30",
          "2022-11-28T22:52:30",
          "2022-11-28T23:07:30",
          "2022-11-28T23:22:30",
          "2022-11-29T06:07:30",
          "2022-11-29T10:52:30",
          "2022-11-29T12:52:30",
          "2022-11-29T14:07:30",
          "2022-11-29T20:07:30",
          "2022-11-30T06:07:30",
          "2022-11-30T11:07:30",
          "2022-11-30T12:37:30",
          "2022-11-30T13:52:30",
          "2022-11-30T16:22:30",
          "2022-11-30T20:22:30",
          "2022-11-30T23:52:30",
          "2022-12-01T00:07:30",
          "2022-12-01T00:22:30",
          "2022-12-01T00:37:30",
          "2022-12-01T00:52:30"
         ],
         "xaxis": "x3",
         "y": [
          "Running",
          "Running",
          "Running",
          "Running",
          "Running",
          "Sostituzione utensile",
          "Running",
          "Running",
          "Running",
          "Running",
          "Running",
          "Running",
          "Running",
          "Running",
          "Running",
          "Running",
          "Manutenzione ordinaria",
          "Sostituzione utensile",
          "Sostituzione utensile",
          "Sostituzione utensile",
          "Sostituzione utensile",
          "Affilatura utensile",
          "Sostituzione utensile",
          "Sostituzione utensile",
          "Sostituzione utensile",
          "Sostituzione utensile",
          "Sostituzione utensile",
          "Running",
          "Running",
          "Running",
          "Running",
          "Running"
         ],
         "yaxis": "y3"
        }
       ],
       "layout": {
        "annotations": [
         {
          "font": {
           "size": 16
          },
          "showarrow": false,
          "text": "Energy Consumption",
          "x": 0.5,
          "xanchor": "center",
          "xref": "paper",
          "y": 1,
          "yanchor": "bottom",
          "yref": "paper"
         },
         {
          "font": {
           "size": 16
          },
          "showarrow": false,
          "text": "Productions",
          "x": 0.5,
          "xanchor": "center",
          "xref": "paper",
          "y": 0.6466666666666667,
          "yanchor": "bottom",
          "yref": "paper"
         },
         {
          "font": {
           "size": 16
          },
          "showarrow": false,
          "text": "Stops",
          "x": 0.5,
          "xanchor": "center",
          "xref": "paper",
          "y": 0.29333333333333333,
          "yanchor": "bottom",
          "yref": "paper"
         }
        ],
        "height": 800,
        "template": {
         "data": {
          "bar": [
           {
            "error_x": {
             "color": "#2a3f5f"
            },
            "error_y": {
             "color": "#2a3f5f"
            },
            "marker": {
             "line": {
              "color": "#E5ECF6",
              "width": 0.5
             },
             "pattern": {
              "fillmode": "overlay",
              "size": 10,
              "solidity": 0.2
             }
            },
            "type": "bar"
           }
          ],
          "barpolar": [
           {
            "marker": {
             "line": {
              "color": "#E5ECF6",
              "width": 0.5
             },
             "pattern": {
              "fillmode": "overlay",
              "size": 10,
              "solidity": 0.2
             }
            },
            "type": "barpolar"
           }
          ],
          "carpet": [
           {
            "aaxis": {
             "endlinecolor": "#2a3f5f",
             "gridcolor": "white",
             "linecolor": "white",
             "minorgridcolor": "white",
             "startlinecolor": "#2a3f5f"
            },
            "baxis": {
             "endlinecolor": "#2a3f5f",
             "gridcolor": "white",
             "linecolor": "white",
             "minorgridcolor": "white",
             "startlinecolor": "#2a3f5f"
            },
            "type": "carpet"
           }
          ],
          "choropleth": [
           {
            "colorbar": {
             "outlinewidth": 0,
             "ticks": ""
            },
            "type": "choropleth"
           }
          ],
          "contour": [
           {
            "colorbar": {
             "outlinewidth": 0,
             "ticks": ""
            },
            "colorscale": [
             [
              0,
              "#0d0887"
             ],
             [
              0.1111111111111111,
              "#46039f"
             ],
             [
              0.2222222222222222,
              "#7201a8"
             ],
             [
              0.3333333333333333,
              "#9c179e"
             ],
             [
              0.4444444444444444,
              "#bd3786"
             ],
             [
              0.5555555555555556,
              "#d8576b"
             ],
             [
              0.6666666666666666,
              "#ed7953"
             ],
             [
              0.7777777777777778,
              "#fb9f3a"
             ],
             [
              0.8888888888888888,
              "#fdca26"
             ],
             [
              1,
              "#f0f921"
             ]
            ],
            "type": "contour"
           }
          ],
          "contourcarpet": [
           {
            "colorbar": {
             "outlinewidth": 0,
             "ticks": ""
            },
            "type": "contourcarpet"
           }
          ],
          "heatmap": [
           {
            "colorbar": {
             "outlinewidth": 0,
             "ticks": ""
            },
            "colorscale": [
             [
              0,
              "#0d0887"
             ],
             [
              0.1111111111111111,
              "#46039f"
             ],
             [
              0.2222222222222222,
              "#7201a8"
             ],
             [
              0.3333333333333333,
              "#9c179e"
             ],
             [
              0.4444444444444444,
              "#bd3786"
             ],
             [
              0.5555555555555556,
              "#d8576b"
             ],
             [
              0.6666666666666666,
              "#ed7953"
             ],
             [
              0.7777777777777778,
              "#fb9f3a"
             ],
             [
              0.8888888888888888,
              "#fdca26"
             ],
             [
              1,
              "#f0f921"
             ]
            ],
            "type": "heatmap"
           }
          ],
          "heatmapgl": [
           {
            "colorbar": {
             "outlinewidth": 0,
             "ticks": ""
            },
            "colorscale": [
             [
              0,
              "#0d0887"
             ],
             [
              0.1111111111111111,
              "#46039f"
             ],
             [
              0.2222222222222222,
              "#7201a8"
             ],
             [
              0.3333333333333333,
              "#9c179e"
             ],
             [
              0.4444444444444444,
              "#bd3786"
             ],
             [
              0.5555555555555556,
              "#d8576b"
             ],
             [
              0.6666666666666666,
              "#ed7953"
             ],
             [
              0.7777777777777778,
              "#fb9f3a"
             ],
             [
              0.8888888888888888,
              "#fdca26"
             ],
             [
              1,
              "#f0f921"
             ]
            ],
            "type": "heatmapgl"
           }
          ],
          "histogram": [
           {
            "marker": {
             "pattern": {
              "fillmode": "overlay",
              "size": 10,
              "solidity": 0.2
             }
            },
            "type": "histogram"
           }
          ],
          "histogram2d": [
           {
            "colorbar": {
             "outlinewidth": 0,
             "ticks": ""
            },
            "colorscale": [
             [
              0,
              "#0d0887"
             ],
             [
              0.1111111111111111,
              "#46039f"
             ],
             [
              0.2222222222222222,
              "#7201a8"
             ],
             [
              0.3333333333333333,
              "#9c179e"
             ],
             [
              0.4444444444444444,
              "#bd3786"
             ],
             [
              0.5555555555555556,
              "#d8576b"
             ],
             [
              0.6666666666666666,
              "#ed7953"
             ],
             [
              0.7777777777777778,
              "#fb9f3a"
             ],
             [
              0.8888888888888888,
              "#fdca26"
             ],
             [
              1,
              "#f0f921"
             ]
            ],
            "type": "histogram2d"
           }
          ],
          "histogram2dcontour": [
           {
            "colorbar": {
             "outlinewidth": 0,
             "ticks": ""
            },
            "colorscale": [
             [
              0,
              "#0d0887"
             ],
             [
              0.1111111111111111,
              "#46039f"
             ],
             [
              0.2222222222222222,
              "#7201a8"
             ],
             [
              0.3333333333333333,
              "#9c179e"
             ],
             [
              0.4444444444444444,
              "#bd3786"
             ],
             [
              0.5555555555555556,
              "#d8576b"
             ],
             [
              0.6666666666666666,
              "#ed7953"
             ],
             [
              0.7777777777777778,
              "#fb9f3a"
             ],
             [
              0.8888888888888888,
              "#fdca26"
             ],
             [
              1,
              "#f0f921"
             ]
            ],
            "type": "histogram2dcontour"
           }
          ],
          "mesh3d": [
           {
            "colorbar": {
             "outlinewidth": 0,
             "ticks": ""
            },
            "type": "mesh3d"
           }
          ],
          "parcoords": [
           {
            "line": {
             "colorbar": {
              "outlinewidth": 0,
              "ticks": ""
             }
            },
            "type": "parcoords"
           }
          ],
          "pie": [
           {
            "automargin": true,
            "type": "pie"
           }
          ],
          "scatter": [
           {
            "fillpattern": {
             "fillmode": "overlay",
             "size": 10,
             "solidity": 0.2
            },
            "type": "scatter"
           }
          ],
          "scatter3d": [
           {
            "line": {
             "colorbar": {
              "outlinewidth": 0,
              "ticks": ""
             }
            },
            "marker": {
             "colorbar": {
              "outlinewidth": 0,
              "ticks": ""
             }
            },
            "type": "scatter3d"
           }
          ],
          "scattercarpet": [
           {
            "marker": {
             "colorbar": {
              "outlinewidth": 0,
              "ticks": ""
             }
            },
            "type": "scattercarpet"
           }
          ],
          "scattergeo": [
           {
            "marker": {
             "colorbar": {
              "outlinewidth": 0,
              "ticks": ""
             }
            },
            "type": "scattergeo"
           }
          ],
          "scattergl": [
           {
            "marker": {
             "colorbar": {
              "outlinewidth": 0,
              "ticks": ""
             }
            },
            "type": "scattergl"
           }
          ],
          "scattermapbox": [
           {
            "marker": {
             "colorbar": {
              "outlinewidth": 0,
              "ticks": ""
             }
            },
            "type": "scattermapbox"
           }
          ],
          "scatterpolar": [
           {
            "marker": {
             "colorbar": {
              "outlinewidth": 0,
              "ticks": ""
             }
            },
            "type": "scatterpolar"
           }
          ],
          "scatterpolargl": [
           {
            "marker": {
             "colorbar": {
              "outlinewidth": 0,
              "ticks": ""
             }
            },
            "type": "scatterpolargl"
           }
          ],
          "scatterternary": [
           {
            "marker": {
             "colorbar": {
              "outlinewidth": 0,
              "ticks": ""
             }
            },
            "type": "scatterternary"
           }
          ],
          "surface": [
           {
            "colorbar": {
             "outlinewidth": 0,
             "ticks": ""
            },
            "colorscale": [
             [
              0,
              "#0d0887"
             ],
             [
              0.1111111111111111,
              "#46039f"
             ],
             [
              0.2222222222222222,
              "#7201a8"
             ],
             [
              0.3333333333333333,
              "#9c179e"
             ],
             [
              0.4444444444444444,
              "#bd3786"
             ],
             [
              0.5555555555555556,
              "#d8576b"
             ],
             [
              0.6666666666666666,
              "#ed7953"
             ],
             [
              0.7777777777777778,
              "#fb9f3a"
             ],
             [
              0.8888888888888888,
              "#fdca26"
             ],
             [
              1,
              "#f0f921"
             ]
            ],
            "type": "surface"
           }
          ],
          "table": [
           {
            "cells": {
             "fill": {
              "color": "#EBF0F8"
             },
             "line": {
              "color": "white"
             }
            },
            "header": {
             "fill": {
              "color": "#C8D4E3"
             },
             "line": {
              "color": "white"
             }
            },
            "type": "table"
           }
          ]
         },
         "layout": {
          "annotationdefaults": {
           "arrowcolor": "#2a3f5f",
           "arrowhead": 0,
           "arrowwidth": 1
          },
          "autotypenumbers": "strict",
          "coloraxis": {
           "colorbar": {
            "outlinewidth": 0,
            "ticks": ""
           }
          },
          "colorscale": {
           "diverging": [
            [
             0,
             "#8e0152"
            ],
            [
             0.1,
             "#c51b7d"
            ],
            [
             0.2,
             "#de77ae"
            ],
            [
             0.3,
             "#f1b6da"
            ],
            [
             0.4,
             "#fde0ef"
            ],
            [
             0.5,
             "#f7f7f7"
            ],
            [
             0.6,
             "#e6f5d0"
            ],
            [
             0.7,
             "#b8e186"
            ],
            [
             0.8,
             "#7fbc41"
            ],
            [
             0.9,
             "#4d9221"
            ],
            [
             1,
             "#276419"
            ]
           ],
           "sequential": [
            [
             0,
             "#0d0887"
            ],
            [
             0.1111111111111111,
             "#46039f"
            ],
            [
             0.2222222222222222,
             "#7201a8"
            ],
            [
             0.3333333333333333,
             "#9c179e"
            ],
            [
             0.4444444444444444,
             "#bd3786"
            ],
            [
             0.5555555555555556,
             "#d8576b"
            ],
            [
             0.6666666666666666,
             "#ed7953"
            ],
            [
             0.7777777777777778,
             "#fb9f3a"
            ],
            [
             0.8888888888888888,
             "#fdca26"
            ],
            [
             1,
             "#f0f921"
            ]
           ],
           "sequentialminus": [
            [
             0,
             "#0d0887"
            ],
            [
             0.1111111111111111,
             "#46039f"
            ],
            [
             0.2222222222222222,
             "#7201a8"
            ],
            [
             0.3333333333333333,
             "#9c179e"
            ],
            [
             0.4444444444444444,
             "#bd3786"
            ],
            [
             0.5555555555555556,
             "#d8576b"
            ],
            [
             0.6666666666666666,
             "#ed7953"
            ],
            [
             0.7777777777777778,
             "#fb9f3a"
            ],
            [
             0.8888888888888888,
             "#fdca26"
            ],
            [
             1,
             "#f0f921"
            ]
           ]
          },
          "colorway": [
           "#636efa",
           "#EF553B",
           "#00cc96",
           "#ab63fa",
           "#FFA15A",
           "#19d3f3",
           "#FF6692",
           "#B6E880",
           "#FF97FF",
           "#FECB52"
          ],
          "font": {
           "color": "#2a3f5f"
          },
          "geo": {
           "bgcolor": "white",
           "lakecolor": "white",
           "landcolor": "#E5ECF6",
           "showlakes": true,
           "showland": true,
           "subunitcolor": "white"
          },
          "hoverlabel": {
           "align": "left"
          },
          "hovermode": "closest",
          "mapbox": {
           "style": "light"
          },
          "paper_bgcolor": "white",
          "plot_bgcolor": "#E5ECF6",
          "polar": {
           "angularaxis": {
            "gridcolor": "white",
            "linecolor": "white",
            "ticks": ""
           },
           "bgcolor": "#E5ECF6",
           "radialaxis": {
            "gridcolor": "white",
            "linecolor": "white",
            "ticks": ""
           }
          },
          "scene": {
           "xaxis": {
            "backgroundcolor": "#E5ECF6",
            "gridcolor": "white",
            "gridwidth": 2,
            "linecolor": "white",
            "showbackground": true,
            "ticks": "",
            "zerolinecolor": "white"
           },
           "yaxis": {
            "backgroundcolor": "#E5ECF6",
            "gridcolor": "white",
            "gridwidth": 2,
            "linecolor": "white",
            "showbackground": true,
            "ticks": "",
            "zerolinecolor": "white"
           },
           "zaxis": {
            "backgroundcolor": "#E5ECF6",
            "gridcolor": "white",
            "gridwidth": 2,
            "linecolor": "white",
            "showbackground": true,
            "ticks": "",
            "zerolinecolor": "white"
           }
          },
          "shapedefaults": {
           "line": {
            "color": "#2a3f5f"
           }
          },
          "ternary": {
           "aaxis": {
            "gridcolor": "white",
            "linecolor": "white",
            "ticks": ""
           },
           "baxis": {
            "gridcolor": "white",
            "linecolor": "white",
            "ticks": ""
           },
           "bgcolor": "#E5ECF6",
           "caxis": {
            "gridcolor": "white",
            "linecolor": "white",
            "ticks": ""
           }
          },
          "title": {
           "x": 0.05
          },
          "xaxis": {
           "automargin": true,
           "gridcolor": "white",
           "linecolor": "white",
           "ticks": "",
           "title": {
            "standoff": 15
           },
           "zerolinecolor": "white",
           "zerolinewidth": 2
          },
          "yaxis": {
           "automargin": true,
           "gridcolor": "white",
           "linecolor": "white",
           "ticks": "",
           "title": {
            "standoff": 15
           },
           "zerolinecolor": "white",
           "zerolinewidth": 2
          }
         }
        },
        "title": {
         "text": "Dataset machine 110"
        },
        "width": 1280,
        "xaxis": {
         "anchor": "y",
         "domain": [
          0,
          1
         ],
         "matches": "x3",
         "showticklabels": false
        },
        "xaxis2": {
         "anchor": "y2",
         "domain": [
          0,
          1
         ],
         "matches": "x3",
         "showticklabels": false
        },
        "xaxis3": {
         "anchor": "y3",
         "domain": [
          0,
          1
         ]
        },
        "yaxis": {
         "anchor": "x",
         "domain": [
          0.7066666666666667,
          1
         ]
        },
        "yaxis2": {
         "anchor": "x2",
         "domain": [
          0.35333333333333333,
          0.6466666666666667
         ]
        },
        "yaxis3": {
         "anchor": "x3",
         "domain": [
          0,
          0.29333333333333333
         ]
        }
       }
      }
     },
     "metadata": {},
     "output_type": "display_data"
    },
    {
     "data": {
      "application/vnd.plotly.v1+json": {
       "config": {
        "plotlyServerURL": "https://plot.ly"
       },
       "data": [
        {
         "marker": {
          "color": "blue",
          "size": 10
         },
         "mode": "markers+lines",
         "name": "C45 Energy",
         "text": [
          0,
          0,
          0,
          0,
          0
         ],
         "type": "scatter",
         "x": [
          "2022-11-29T11:07:30",
          "2022-11-29T11:22:30",
          "2022-11-29T11:37:30",
          "2022-11-29T11:52:30",
          "2022-11-29T12:07:30"
         ],
         "xaxis": "x",
         "y": [
          0,
          0,
          0,
          0,
          0
         ],
         "yaxis": "y"
        },
        {
         "marker": {
          "color": "blue",
          "size": 10
         },
         "mode": "markers+lines",
         "name": "C45 Productions",
         "text": [
          5.283333333333333,
          0,
          5.666666666666667,
          10.625,
          10.625
         ],
         "type": "scatter",
         "x": [
          "2022-11-29T11:07:30",
          "2022-11-29T11:22:30",
          "2022-11-29T11:37:30",
          "2022-11-29T11:52:30",
          "2022-11-29T12:07:30"
         ],
         "xaxis": "x2",
         "y": [
          5.283333333333333,
          0,
          5.666666666666667,
          10.625,
          10.625
         ],
         "yaxis": "y2"
        },
        {
         "marker": {
          "color": "blue",
          "size": 10
         },
         "mode": "markers",
         "name": "C45 Stops",
         "type": "scatter",
         "x": [
          "2022-11-29T11:07:30",
          "2022-11-29T11:22:30",
          "2022-11-29T11:37:30",
          "2022-11-29T11:52:30",
          "2022-11-29T12:07:30"
         ],
         "xaxis": "x3",
         "y": [
          "Running",
          "Running",
          "Running",
          "Running",
          "Running"
         ],
         "yaxis": "y3"
        },
        {
         "marker": {
          "color": "black",
          "size": 10
         },
         "mode": "markers+lines",
         "name": "Unknown Energy",
         "text": [
          0,
          3603.7,
          3773.6,
          2998.7,
          3272,
          3563.2,
          3736,
          3618.8,
          1913.4,
          0,
          0,
          0,
          0,
          0,
          0,
          0,
          0
         ],
         "type": "scatter",
         "x": [
          "2022-11-30T02:37:30",
          "2022-11-30T23:52:30",
          "2022-12-01T00:07:30",
          "2022-12-01T00:22:30",
          "2022-12-01T00:37:30",
          "2022-12-01T00:52:30",
          "2022-12-02T22:22:30",
          "2022-12-02T22:37:30",
          "2022-12-02T22:52:30",
          "2022-12-02T23:07:30",
          "2022-12-02T23:22:30",
          "2022-12-03T07:22:30",
          "2022-12-04T23:52:30",
          "2022-12-05T00:07:30",
          "2022-12-05T00:22:30",
          "2022-12-05T00:37:30",
          "2022-12-05T00:52:30"
         ],
         "xaxis": "x",
         "y": [
          0,
          3603.7,
          3773.6,
          2998.7,
          3272,
          3563.2,
          3736,
          3618.8,
          1913.4,
          0,
          0,
          0,
          0,
          0,
          0,
          0,
          0
         ],
         "yaxis": "y"
        },
        {
         "marker": {
          "color": "black",
          "size": 10
         },
         "mode": "markers+lines",
         "name": "Unknown Productions",
         "text": [
          0,
          0,
          0,
          0,
          0,
          0,
          0,
          0,
          0,
          0,
          0,
          0,
          0,
          0,
          0,
          0,
          0
         ],
         "type": "scatter",
         "x": [
          "2022-11-30T02:37:30",
          "2022-11-30T23:52:30",
          "2022-12-01T00:07:30",
          "2022-12-01T00:22:30",
          "2022-12-01T00:37:30",
          "2022-12-01T00:52:30",
          "2022-12-02T22:22:30",
          "2022-12-02T22:37:30",
          "2022-12-02T22:52:30",
          "2022-12-02T23:07:30",
          "2022-12-02T23:22:30",
          "2022-12-03T07:22:30",
          "2022-12-04T23:52:30",
          "2022-12-05T00:07:30",
          "2022-12-05T00:22:30",
          "2022-12-05T00:37:30",
          "2022-12-05T00:52:30"
         ],
         "xaxis": "x2",
         "y": [
          0,
          0,
          0,
          0,
          0,
          0,
          0,
          0,
          0,
          0,
          0,
          0,
          0,
          0,
          0,
          0,
          0
         ],
         "yaxis": "y2"
        },
        {
         "marker": {
          "color": "black",
          "size": 10
         },
         "mode": "markers",
         "name": "Unknown Stops",
         "type": "scatter",
         "x": [
          "2022-11-30T02:37:30",
          "2022-11-30T23:52:30",
          "2022-12-01T00:07:30",
          "2022-12-01T00:22:30",
          "2022-12-01T00:37:30",
          "2022-12-01T00:52:30",
          "2022-12-02T22:22:30",
          "2022-12-02T22:37:30",
          "2022-12-02T22:52:30",
          "2022-12-02T23:07:30",
          "2022-12-02T23:22:30",
          "2022-12-03T07:22:30",
          "2022-12-04T23:52:30",
          "2022-12-05T00:07:30",
          "2022-12-05T00:22:30",
          "2022-12-05T00:37:30",
          "2022-12-05T00:52:30"
         ],
         "xaxis": "x3",
         "y": [
          "Manutenzione ordinaria",
          "Running",
          "Running",
          "Running",
          "Running",
          "Running",
          "Running",
          "Running",
          "Running",
          "Running",
          "Running",
          "Sostituzione utensile",
          "Running",
          "Running",
          "Running",
          "Running",
          "Running"
         ],
         "yaxis": "y3"
        }
       ],
       "layout": {
        "annotations": [
         {
          "font": {
           "size": 16
          },
          "showarrow": false,
          "text": "Energy Consumption",
          "x": 0.5,
          "xanchor": "center",
          "xref": "paper",
          "y": 1,
          "yanchor": "bottom",
          "yref": "paper"
         },
         {
          "font": {
           "size": 16
          },
          "showarrow": false,
          "text": "Productions",
          "x": 0.5,
          "xanchor": "center",
          "xref": "paper",
          "y": 0.6466666666666667,
          "yanchor": "bottom",
          "yref": "paper"
         },
         {
          "font": {
           "size": 16
          },
          "showarrow": false,
          "text": "Stops",
          "x": 0.5,
          "xanchor": "center",
          "xref": "paper",
          "y": 0.29333333333333333,
          "yanchor": "bottom",
          "yref": "paper"
         }
        ],
        "height": 800,
        "template": {
         "data": {
          "bar": [
           {
            "error_x": {
             "color": "#2a3f5f"
            },
            "error_y": {
             "color": "#2a3f5f"
            },
            "marker": {
             "line": {
              "color": "#E5ECF6",
              "width": 0.5
             },
             "pattern": {
              "fillmode": "overlay",
              "size": 10,
              "solidity": 0.2
             }
            },
            "type": "bar"
           }
          ],
          "barpolar": [
           {
            "marker": {
             "line": {
              "color": "#E5ECF6",
              "width": 0.5
             },
             "pattern": {
              "fillmode": "overlay",
              "size": 10,
              "solidity": 0.2
             }
            },
            "type": "barpolar"
           }
          ],
          "carpet": [
           {
            "aaxis": {
             "endlinecolor": "#2a3f5f",
             "gridcolor": "white",
             "linecolor": "white",
             "minorgridcolor": "white",
             "startlinecolor": "#2a3f5f"
            },
            "baxis": {
             "endlinecolor": "#2a3f5f",
             "gridcolor": "white",
             "linecolor": "white",
             "minorgridcolor": "white",
             "startlinecolor": "#2a3f5f"
            },
            "type": "carpet"
           }
          ],
          "choropleth": [
           {
            "colorbar": {
             "outlinewidth": 0,
             "ticks": ""
            },
            "type": "choropleth"
           }
          ],
          "contour": [
           {
            "colorbar": {
             "outlinewidth": 0,
             "ticks": ""
            },
            "colorscale": [
             [
              0,
              "#0d0887"
             ],
             [
              0.1111111111111111,
              "#46039f"
             ],
             [
              0.2222222222222222,
              "#7201a8"
             ],
             [
              0.3333333333333333,
              "#9c179e"
             ],
             [
              0.4444444444444444,
              "#bd3786"
             ],
             [
              0.5555555555555556,
              "#d8576b"
             ],
             [
              0.6666666666666666,
              "#ed7953"
             ],
             [
              0.7777777777777778,
              "#fb9f3a"
             ],
             [
              0.8888888888888888,
              "#fdca26"
             ],
             [
              1,
              "#f0f921"
             ]
            ],
            "type": "contour"
           }
          ],
          "contourcarpet": [
           {
            "colorbar": {
             "outlinewidth": 0,
             "ticks": ""
            },
            "type": "contourcarpet"
           }
          ],
          "heatmap": [
           {
            "colorbar": {
             "outlinewidth": 0,
             "ticks": ""
            },
            "colorscale": [
             [
              0,
              "#0d0887"
             ],
             [
              0.1111111111111111,
              "#46039f"
             ],
             [
              0.2222222222222222,
              "#7201a8"
             ],
             [
              0.3333333333333333,
              "#9c179e"
             ],
             [
              0.4444444444444444,
              "#bd3786"
             ],
             [
              0.5555555555555556,
              "#d8576b"
             ],
             [
              0.6666666666666666,
              "#ed7953"
             ],
             [
              0.7777777777777778,
              "#fb9f3a"
             ],
             [
              0.8888888888888888,
              "#fdca26"
             ],
             [
              1,
              "#f0f921"
             ]
            ],
            "type": "heatmap"
           }
          ],
          "heatmapgl": [
           {
            "colorbar": {
             "outlinewidth": 0,
             "ticks": ""
            },
            "colorscale": [
             [
              0,
              "#0d0887"
             ],
             [
              0.1111111111111111,
              "#46039f"
             ],
             [
              0.2222222222222222,
              "#7201a8"
             ],
             [
              0.3333333333333333,
              "#9c179e"
             ],
             [
              0.4444444444444444,
              "#bd3786"
             ],
             [
              0.5555555555555556,
              "#d8576b"
             ],
             [
              0.6666666666666666,
              "#ed7953"
             ],
             [
              0.7777777777777778,
              "#fb9f3a"
             ],
             [
              0.8888888888888888,
              "#fdca26"
             ],
             [
              1,
              "#f0f921"
             ]
            ],
            "type": "heatmapgl"
           }
          ],
          "histogram": [
           {
            "marker": {
             "pattern": {
              "fillmode": "overlay",
              "size": 10,
              "solidity": 0.2
             }
            },
            "type": "histogram"
           }
          ],
          "histogram2d": [
           {
            "colorbar": {
             "outlinewidth": 0,
             "ticks": ""
            },
            "colorscale": [
             [
              0,
              "#0d0887"
             ],
             [
              0.1111111111111111,
              "#46039f"
             ],
             [
              0.2222222222222222,
              "#7201a8"
             ],
             [
              0.3333333333333333,
              "#9c179e"
             ],
             [
              0.4444444444444444,
              "#bd3786"
             ],
             [
              0.5555555555555556,
              "#d8576b"
             ],
             [
              0.6666666666666666,
              "#ed7953"
             ],
             [
              0.7777777777777778,
              "#fb9f3a"
             ],
             [
              0.8888888888888888,
              "#fdca26"
             ],
             [
              1,
              "#f0f921"
             ]
            ],
            "type": "histogram2d"
           }
          ],
          "histogram2dcontour": [
           {
            "colorbar": {
             "outlinewidth": 0,
             "ticks": ""
            },
            "colorscale": [
             [
              0,
              "#0d0887"
             ],
             [
              0.1111111111111111,
              "#46039f"
             ],
             [
              0.2222222222222222,
              "#7201a8"
             ],
             [
              0.3333333333333333,
              "#9c179e"
             ],
             [
              0.4444444444444444,
              "#bd3786"
             ],
             [
              0.5555555555555556,
              "#d8576b"
             ],
             [
              0.6666666666666666,
              "#ed7953"
             ],
             [
              0.7777777777777778,
              "#fb9f3a"
             ],
             [
              0.8888888888888888,
              "#fdca26"
             ],
             [
              1,
              "#f0f921"
             ]
            ],
            "type": "histogram2dcontour"
           }
          ],
          "mesh3d": [
           {
            "colorbar": {
             "outlinewidth": 0,
             "ticks": ""
            },
            "type": "mesh3d"
           }
          ],
          "parcoords": [
           {
            "line": {
             "colorbar": {
              "outlinewidth": 0,
              "ticks": ""
             }
            },
            "type": "parcoords"
           }
          ],
          "pie": [
           {
            "automargin": true,
            "type": "pie"
           }
          ],
          "scatter": [
           {
            "fillpattern": {
             "fillmode": "overlay",
             "size": 10,
             "solidity": 0.2
            },
            "type": "scatter"
           }
          ],
          "scatter3d": [
           {
            "line": {
             "colorbar": {
              "outlinewidth": 0,
              "ticks": ""
             }
            },
            "marker": {
             "colorbar": {
              "outlinewidth": 0,
              "ticks": ""
             }
            },
            "type": "scatter3d"
           }
          ],
          "scattercarpet": [
           {
            "marker": {
             "colorbar": {
              "outlinewidth": 0,
              "ticks": ""
             }
            },
            "type": "scattercarpet"
           }
          ],
          "scattergeo": [
           {
            "marker": {
             "colorbar": {
              "outlinewidth": 0,
              "ticks": ""
             }
            },
            "type": "scattergeo"
           }
          ],
          "scattergl": [
           {
            "marker": {
             "colorbar": {
              "outlinewidth": 0,
              "ticks": ""
             }
            },
            "type": "scattergl"
           }
          ],
          "scattermapbox": [
           {
            "marker": {
             "colorbar": {
              "outlinewidth": 0,
              "ticks": ""
             }
            },
            "type": "scattermapbox"
           }
          ],
          "scatterpolar": [
           {
            "marker": {
             "colorbar": {
              "outlinewidth": 0,
              "ticks": ""
             }
            },
            "type": "scatterpolar"
           }
          ],
          "scatterpolargl": [
           {
            "marker": {
             "colorbar": {
              "outlinewidth": 0,
              "ticks": ""
             }
            },
            "type": "scatterpolargl"
           }
          ],
          "scatterternary": [
           {
            "marker": {
             "colorbar": {
              "outlinewidth": 0,
              "ticks": ""
             }
            },
            "type": "scatterternary"
           }
          ],
          "surface": [
           {
            "colorbar": {
             "outlinewidth": 0,
             "ticks": ""
            },
            "colorscale": [
             [
              0,
              "#0d0887"
             ],
             [
              0.1111111111111111,
              "#46039f"
             ],
             [
              0.2222222222222222,
              "#7201a8"
             ],
             [
              0.3333333333333333,
              "#9c179e"
             ],
             [
              0.4444444444444444,
              "#bd3786"
             ],
             [
              0.5555555555555556,
              "#d8576b"
             ],
             [
              0.6666666666666666,
              "#ed7953"
             ],
             [
              0.7777777777777778,
              "#fb9f3a"
             ],
             [
              0.8888888888888888,
              "#fdca26"
             ],
             [
              1,
              "#f0f921"
             ]
            ],
            "type": "surface"
           }
          ],
          "table": [
           {
            "cells": {
             "fill": {
              "color": "#EBF0F8"
             },
             "line": {
              "color": "white"
             }
            },
            "header": {
             "fill": {
              "color": "#C8D4E3"
             },
             "line": {
              "color": "white"
             }
            },
            "type": "table"
           }
          ]
         },
         "layout": {
          "annotationdefaults": {
           "arrowcolor": "#2a3f5f",
           "arrowhead": 0,
           "arrowwidth": 1
          },
          "autotypenumbers": "strict",
          "coloraxis": {
           "colorbar": {
            "outlinewidth": 0,
            "ticks": ""
           }
          },
          "colorscale": {
           "diverging": [
            [
             0,
             "#8e0152"
            ],
            [
             0.1,
             "#c51b7d"
            ],
            [
             0.2,
             "#de77ae"
            ],
            [
             0.3,
             "#f1b6da"
            ],
            [
             0.4,
             "#fde0ef"
            ],
            [
             0.5,
             "#f7f7f7"
            ],
            [
             0.6,
             "#e6f5d0"
            ],
            [
             0.7,
             "#b8e186"
            ],
            [
             0.8,
             "#7fbc41"
            ],
            [
             0.9,
             "#4d9221"
            ],
            [
             1,
             "#276419"
            ]
           ],
           "sequential": [
            [
             0,
             "#0d0887"
            ],
            [
             0.1111111111111111,
             "#46039f"
            ],
            [
             0.2222222222222222,
             "#7201a8"
            ],
            [
             0.3333333333333333,
             "#9c179e"
            ],
            [
             0.4444444444444444,
             "#bd3786"
            ],
            [
             0.5555555555555556,
             "#d8576b"
            ],
            [
             0.6666666666666666,
             "#ed7953"
            ],
            [
             0.7777777777777778,
             "#fb9f3a"
            ],
            [
             0.8888888888888888,
             "#fdca26"
            ],
            [
             1,
             "#f0f921"
            ]
           ],
           "sequentialminus": [
            [
             0,
             "#0d0887"
            ],
            [
             0.1111111111111111,
             "#46039f"
            ],
            [
             0.2222222222222222,
             "#7201a8"
            ],
            [
             0.3333333333333333,
             "#9c179e"
            ],
            [
             0.4444444444444444,
             "#bd3786"
            ],
            [
             0.5555555555555556,
             "#d8576b"
            ],
            [
             0.6666666666666666,
             "#ed7953"
            ],
            [
             0.7777777777777778,
             "#fb9f3a"
            ],
            [
             0.8888888888888888,
             "#fdca26"
            ],
            [
             1,
             "#f0f921"
            ]
           ]
          },
          "colorway": [
           "#636efa",
           "#EF553B",
           "#00cc96",
           "#ab63fa",
           "#FFA15A",
           "#19d3f3",
           "#FF6692",
           "#B6E880",
           "#FF97FF",
           "#FECB52"
          ],
          "font": {
           "color": "#2a3f5f"
          },
          "geo": {
           "bgcolor": "white",
           "lakecolor": "white",
           "landcolor": "#E5ECF6",
           "showlakes": true,
           "showland": true,
           "subunitcolor": "white"
          },
          "hoverlabel": {
           "align": "left"
          },
          "hovermode": "closest",
          "mapbox": {
           "style": "light"
          },
          "paper_bgcolor": "white",
          "plot_bgcolor": "#E5ECF6",
          "polar": {
           "angularaxis": {
            "gridcolor": "white",
            "linecolor": "white",
            "ticks": ""
           },
           "bgcolor": "#E5ECF6",
           "radialaxis": {
            "gridcolor": "white",
            "linecolor": "white",
            "ticks": ""
           }
          },
          "scene": {
           "xaxis": {
            "backgroundcolor": "#E5ECF6",
            "gridcolor": "white",
            "gridwidth": 2,
            "linecolor": "white",
            "showbackground": true,
            "ticks": "",
            "zerolinecolor": "white"
           },
           "yaxis": {
            "backgroundcolor": "#E5ECF6",
            "gridcolor": "white",
            "gridwidth": 2,
            "linecolor": "white",
            "showbackground": true,
            "ticks": "",
            "zerolinecolor": "white"
           },
           "zaxis": {
            "backgroundcolor": "#E5ECF6",
            "gridcolor": "white",
            "gridwidth": 2,
            "linecolor": "white",
            "showbackground": true,
            "ticks": "",
            "zerolinecolor": "white"
           }
          },
          "shapedefaults": {
           "line": {
            "color": "#2a3f5f"
           }
          },
          "ternary": {
           "aaxis": {
            "gridcolor": "white",
            "linecolor": "white",
            "ticks": ""
           },
           "baxis": {
            "gridcolor": "white",
            "linecolor": "white",
            "ticks": ""
           },
           "bgcolor": "#E5ECF6",
           "caxis": {
            "gridcolor": "white",
            "linecolor": "white",
            "ticks": ""
           }
          },
          "title": {
           "x": 0.05
          },
          "xaxis": {
           "automargin": true,
           "gridcolor": "white",
           "linecolor": "white",
           "ticks": "",
           "title": {
            "standoff": 15
           },
           "zerolinecolor": "white",
           "zerolinewidth": 2
          },
          "yaxis": {
           "automargin": true,
           "gridcolor": "white",
           "linecolor": "white",
           "ticks": "",
           "title": {
            "standoff": 15
           },
           "zerolinecolor": "white",
           "zerolinewidth": 2
          }
         }
        },
        "title": {
         "text": "Dataset machine 306"
        },
        "width": 1280,
        "xaxis": {
         "anchor": "y",
         "domain": [
          0,
          1
         ],
         "matches": "x3",
         "showticklabels": false
        },
        "xaxis2": {
         "anchor": "y2",
         "domain": [
          0,
          1
         ],
         "matches": "x3",
         "showticklabels": false
        },
        "xaxis3": {
         "anchor": "y3",
         "domain": [
          0,
          1
         ]
        },
        "yaxis": {
         "anchor": "x",
         "domain": [
          0.7066666666666667,
          1
         ]
        },
        "yaxis2": {
         "anchor": "x2",
         "domain": [
          0.35333333333333333,
          0.6466666666666667
         ]
        },
        "yaxis3": {
         "anchor": "x3",
         "domain": [
          0,
          0.29333333333333333
         ]
        }
       }
      }
     },
     "metadata": {},
     "output_type": "display_data"
    },
    {
     "data": {
      "application/vnd.plotly.v1+json": {
       "config": {
        "plotlyServerURL": "https://plot.ly"
       },
       "data": [
        {
         "marker": {
          "color": "blue",
          "size": 10
         },
         "mode": "markers+lines",
         "name": "FE5 Energy",
         "text": [
          0,
          0,
          0,
          0,
          0
         ],
         "type": "scatter",
         "x": [
          "2022-11-29T16:22:30",
          "2022-11-29T16:37:30",
          "2022-11-29T16:52:30",
          "2022-11-29T17:07:30",
          "2022-11-29T17:22:30"
         ],
         "xaxis": "x",
         "y": [
          0,
          0,
          0,
          0,
          0
         ],
         "yaxis": "y"
        },
        {
         "marker": {
          "color": "blue",
          "size": 10
         },
         "mode": "markers+lines",
         "name": "FE5 Productions",
         "text": [
          12.583333333333334,
          2.6666666666666665,
          7.75,
          9.964285714285715,
          15.553571428571429
         ],
         "type": "scatter",
         "x": [
          "2022-11-29T16:22:30",
          "2022-11-29T16:37:30",
          "2022-11-29T16:52:30",
          "2022-11-29T17:07:30",
          "2022-11-29T17:22:30"
         ],
         "xaxis": "x2",
         "y": [
          12.583333333333334,
          2.6666666666666665,
          7.75,
          9.964285714285715,
          15.553571428571429
         ],
         "yaxis": "y2"
        },
        {
         "marker": {
          "color": "blue",
          "size": 10
         },
         "mode": "markers",
         "name": "FE5 Stops",
         "type": "scatter",
         "x": [
          "2022-11-29T16:22:30",
          "2022-11-29T16:37:30",
          "2022-11-29T16:52:30",
          "2022-11-29T17:07:30",
          "2022-11-29T17:22:30"
         ],
         "xaxis": "x3",
         "y": [
          "Running",
          "Running",
          "Running",
          "Running",
          "Running"
         ],
         "yaxis": "y3"
        },
        {
         "marker": {
          "color": "black",
          "size": 10
         },
         "mode": "markers+lines",
         "name": "Unknown Energy",
         "text": [
          0,
          2015.5,
          2003.6,
          1697.9,
          2031,
          2036.2,
          1149.4,
          1988.8,
          2000.2,
          2011.5,
          1992.2,
          2007.7,
          1563.3,
          1357.3,
          2032.1,
          2038.2,
          2023.2,
          1977.9,
          2024,
          2013.9,
          2018.3,
          2012.6,
          2016.3
         ],
         "type": "scatter",
         "x": [
          "2022-11-30T01:07:30",
          "2022-11-30T23:52:30",
          "2022-12-01T00:07:30",
          "2022-12-01T00:22:30",
          "2022-12-01T00:37:30",
          "2022-12-01T00:52:30",
          "2022-12-06T00:07:30",
          "2022-12-06T00:22:30",
          "2022-12-06T00:37:30",
          "2022-12-06T00:52:30",
          "2022-12-06T01:07:30",
          "2022-12-06T01:22:30",
          "2022-12-06T01:37:30",
          "2022-12-06T01:52:30",
          "2022-12-06T02:07:30",
          "2022-12-06T02:22:30",
          "2022-12-06T02:37:30",
          "2022-12-06T02:52:30",
          "2022-12-06T03:07:30",
          "2022-12-06T03:22:30",
          "2022-12-06T03:37:30",
          "2022-12-06T03:52:30",
          "2022-12-06T04:07:30"
         ],
         "xaxis": "x",
         "y": [
          0,
          2015.5,
          2003.6,
          1697.9,
          2031,
          2036.2,
          1149.4,
          1988.8,
          2000.2,
          2011.5,
          1992.2,
          2007.7,
          1563.3,
          1357.3,
          2032.1,
          2038.2,
          2023.2,
          1977.9,
          2024,
          2013.9,
          2018.3,
          2012.6,
          2016.3
         ],
         "yaxis": "y"
        },
        {
         "marker": {
          "color": "black",
          "size": 10
         },
         "mode": "markers+lines",
         "name": "Unknown Productions",
         "text": [
          0,
          0,
          0,
          0,
          0,
          0,
          0,
          0,
          0,
          0,
          0,
          0,
          0,
          0,
          0,
          0,
          0,
          0,
          0,
          0,
          0,
          0,
          0
         ],
         "type": "scatter",
         "x": [
          "2022-11-30T01:07:30",
          "2022-11-30T23:52:30",
          "2022-12-01T00:07:30",
          "2022-12-01T00:22:30",
          "2022-12-01T00:37:30",
          "2022-12-01T00:52:30",
          "2022-12-06T00:07:30",
          "2022-12-06T00:22:30",
          "2022-12-06T00:37:30",
          "2022-12-06T00:52:30",
          "2022-12-06T01:07:30",
          "2022-12-06T01:22:30",
          "2022-12-06T01:37:30",
          "2022-12-06T01:52:30",
          "2022-12-06T02:07:30",
          "2022-12-06T02:22:30",
          "2022-12-06T02:37:30",
          "2022-12-06T02:52:30",
          "2022-12-06T03:07:30",
          "2022-12-06T03:22:30",
          "2022-12-06T03:37:30",
          "2022-12-06T03:52:30",
          "2022-12-06T04:07:30"
         ],
         "xaxis": "x2",
         "y": [
          0,
          0,
          0,
          0,
          0,
          0,
          0,
          0,
          0,
          0,
          0,
          0,
          0,
          0,
          0,
          0,
          0,
          0,
          0,
          0,
          0,
          0,
          0
         ],
         "yaxis": "y2"
        },
        {
         "marker": {
          "color": "black",
          "size": 10
         },
         "mode": "markers",
         "name": "Unknown Stops",
         "type": "scatter",
         "x": [
          "2022-11-30T01:07:30",
          "2022-11-30T23:52:30",
          "2022-12-01T00:07:30",
          "2022-12-01T00:22:30",
          "2022-12-01T00:37:30",
          "2022-12-01T00:52:30",
          "2022-12-06T00:07:30",
          "2022-12-06T00:22:30",
          "2022-12-06T00:37:30",
          "2022-12-06T00:52:30",
          "2022-12-06T01:07:30",
          "2022-12-06T01:22:30",
          "2022-12-06T01:37:30",
          "2022-12-06T01:52:30",
          "2022-12-06T02:07:30",
          "2022-12-06T02:22:30",
          "2022-12-06T02:37:30",
          "2022-12-06T02:52:30",
          "2022-12-06T03:07:30",
          "2022-12-06T03:22:30",
          "2022-12-06T03:37:30",
          "2022-12-06T03:52:30",
          "2022-12-06T04:07:30"
         ],
         "xaxis": "x3",
         "y": [
          "Sostituzione utensile",
          "Running",
          "Running",
          "Running",
          "Running",
          "Running",
          "Running",
          "Running",
          "Running",
          "Running",
          "Running",
          "Sostituzione utensile",
          "Running",
          "Running",
          "Running",
          "Running",
          "Running",
          "Sostituzione utensile",
          "Running",
          "Running",
          "Running",
          "Running",
          "Running"
         ],
         "yaxis": "y3"
        }
       ],
       "layout": {
        "annotations": [
         {
          "font": {
           "size": 16
          },
          "showarrow": false,
          "text": "Energy Consumption",
          "x": 0.5,
          "xanchor": "center",
          "xref": "paper",
          "y": 1,
          "yanchor": "bottom",
          "yref": "paper"
         },
         {
          "font": {
           "size": 16
          },
          "showarrow": false,
          "text": "Productions",
          "x": 0.5,
          "xanchor": "center",
          "xref": "paper",
          "y": 0.6466666666666667,
          "yanchor": "bottom",
          "yref": "paper"
         },
         {
          "font": {
           "size": 16
          },
          "showarrow": false,
          "text": "Stops",
          "x": 0.5,
          "xanchor": "center",
          "xref": "paper",
          "y": 0.29333333333333333,
          "yanchor": "bottom",
          "yref": "paper"
         }
        ],
        "height": 800,
        "template": {
         "data": {
          "bar": [
           {
            "error_x": {
             "color": "#2a3f5f"
            },
            "error_y": {
             "color": "#2a3f5f"
            },
            "marker": {
             "line": {
              "color": "#E5ECF6",
              "width": 0.5
             },
             "pattern": {
              "fillmode": "overlay",
              "size": 10,
              "solidity": 0.2
             }
            },
            "type": "bar"
           }
          ],
          "barpolar": [
           {
            "marker": {
             "line": {
              "color": "#E5ECF6",
              "width": 0.5
             },
             "pattern": {
              "fillmode": "overlay",
              "size": 10,
              "solidity": 0.2
             }
            },
            "type": "barpolar"
           }
          ],
          "carpet": [
           {
            "aaxis": {
             "endlinecolor": "#2a3f5f",
             "gridcolor": "white",
             "linecolor": "white",
             "minorgridcolor": "white",
             "startlinecolor": "#2a3f5f"
            },
            "baxis": {
             "endlinecolor": "#2a3f5f",
             "gridcolor": "white",
             "linecolor": "white",
             "minorgridcolor": "white",
             "startlinecolor": "#2a3f5f"
            },
            "type": "carpet"
           }
          ],
          "choropleth": [
           {
            "colorbar": {
             "outlinewidth": 0,
             "ticks": ""
            },
            "type": "choropleth"
           }
          ],
          "contour": [
           {
            "colorbar": {
             "outlinewidth": 0,
             "ticks": ""
            },
            "colorscale": [
             [
              0,
              "#0d0887"
             ],
             [
              0.1111111111111111,
              "#46039f"
             ],
             [
              0.2222222222222222,
              "#7201a8"
             ],
             [
              0.3333333333333333,
              "#9c179e"
             ],
             [
              0.4444444444444444,
              "#bd3786"
             ],
             [
              0.5555555555555556,
              "#d8576b"
             ],
             [
              0.6666666666666666,
              "#ed7953"
             ],
             [
              0.7777777777777778,
              "#fb9f3a"
             ],
             [
              0.8888888888888888,
              "#fdca26"
             ],
             [
              1,
              "#f0f921"
             ]
            ],
            "type": "contour"
           }
          ],
          "contourcarpet": [
           {
            "colorbar": {
             "outlinewidth": 0,
             "ticks": ""
            },
            "type": "contourcarpet"
           }
          ],
          "heatmap": [
           {
            "colorbar": {
             "outlinewidth": 0,
             "ticks": ""
            },
            "colorscale": [
             [
              0,
              "#0d0887"
             ],
             [
              0.1111111111111111,
              "#46039f"
             ],
             [
              0.2222222222222222,
              "#7201a8"
             ],
             [
              0.3333333333333333,
              "#9c179e"
             ],
             [
              0.4444444444444444,
              "#bd3786"
             ],
             [
              0.5555555555555556,
              "#d8576b"
             ],
             [
              0.6666666666666666,
              "#ed7953"
             ],
             [
              0.7777777777777778,
              "#fb9f3a"
             ],
             [
              0.8888888888888888,
              "#fdca26"
             ],
             [
              1,
              "#f0f921"
             ]
            ],
            "type": "heatmap"
           }
          ],
          "heatmapgl": [
           {
            "colorbar": {
             "outlinewidth": 0,
             "ticks": ""
            },
            "colorscale": [
             [
              0,
              "#0d0887"
             ],
             [
              0.1111111111111111,
              "#46039f"
             ],
             [
              0.2222222222222222,
              "#7201a8"
             ],
             [
              0.3333333333333333,
              "#9c179e"
             ],
             [
              0.4444444444444444,
              "#bd3786"
             ],
             [
              0.5555555555555556,
              "#d8576b"
             ],
             [
              0.6666666666666666,
              "#ed7953"
             ],
             [
              0.7777777777777778,
              "#fb9f3a"
             ],
             [
              0.8888888888888888,
              "#fdca26"
             ],
             [
              1,
              "#f0f921"
             ]
            ],
            "type": "heatmapgl"
           }
          ],
          "histogram": [
           {
            "marker": {
             "pattern": {
              "fillmode": "overlay",
              "size": 10,
              "solidity": 0.2
             }
            },
            "type": "histogram"
           }
          ],
          "histogram2d": [
           {
            "colorbar": {
             "outlinewidth": 0,
             "ticks": ""
            },
            "colorscale": [
             [
              0,
              "#0d0887"
             ],
             [
              0.1111111111111111,
              "#46039f"
             ],
             [
              0.2222222222222222,
              "#7201a8"
             ],
             [
              0.3333333333333333,
              "#9c179e"
             ],
             [
              0.4444444444444444,
              "#bd3786"
             ],
             [
              0.5555555555555556,
              "#d8576b"
             ],
             [
              0.6666666666666666,
              "#ed7953"
             ],
             [
              0.7777777777777778,
              "#fb9f3a"
             ],
             [
              0.8888888888888888,
              "#fdca26"
             ],
             [
              1,
              "#f0f921"
             ]
            ],
            "type": "histogram2d"
           }
          ],
          "histogram2dcontour": [
           {
            "colorbar": {
             "outlinewidth": 0,
             "ticks": ""
            },
            "colorscale": [
             [
              0,
              "#0d0887"
             ],
             [
              0.1111111111111111,
              "#46039f"
             ],
             [
              0.2222222222222222,
              "#7201a8"
             ],
             [
              0.3333333333333333,
              "#9c179e"
             ],
             [
              0.4444444444444444,
              "#bd3786"
             ],
             [
              0.5555555555555556,
              "#d8576b"
             ],
             [
              0.6666666666666666,
              "#ed7953"
             ],
             [
              0.7777777777777778,
              "#fb9f3a"
             ],
             [
              0.8888888888888888,
              "#fdca26"
             ],
             [
              1,
              "#f0f921"
             ]
            ],
            "type": "histogram2dcontour"
           }
          ],
          "mesh3d": [
           {
            "colorbar": {
             "outlinewidth": 0,
             "ticks": ""
            },
            "type": "mesh3d"
           }
          ],
          "parcoords": [
           {
            "line": {
             "colorbar": {
              "outlinewidth": 0,
              "ticks": ""
             }
            },
            "type": "parcoords"
           }
          ],
          "pie": [
           {
            "automargin": true,
            "type": "pie"
           }
          ],
          "scatter": [
           {
            "fillpattern": {
             "fillmode": "overlay",
             "size": 10,
             "solidity": 0.2
            },
            "type": "scatter"
           }
          ],
          "scatter3d": [
           {
            "line": {
             "colorbar": {
              "outlinewidth": 0,
              "ticks": ""
             }
            },
            "marker": {
             "colorbar": {
              "outlinewidth": 0,
              "ticks": ""
             }
            },
            "type": "scatter3d"
           }
          ],
          "scattercarpet": [
           {
            "marker": {
             "colorbar": {
              "outlinewidth": 0,
              "ticks": ""
             }
            },
            "type": "scattercarpet"
           }
          ],
          "scattergeo": [
           {
            "marker": {
             "colorbar": {
              "outlinewidth": 0,
              "ticks": ""
             }
            },
            "type": "scattergeo"
           }
          ],
          "scattergl": [
           {
            "marker": {
             "colorbar": {
              "outlinewidth": 0,
              "ticks": ""
             }
            },
            "type": "scattergl"
           }
          ],
          "scattermapbox": [
           {
            "marker": {
             "colorbar": {
              "outlinewidth": 0,
              "ticks": ""
             }
            },
            "type": "scattermapbox"
           }
          ],
          "scatterpolar": [
           {
            "marker": {
             "colorbar": {
              "outlinewidth": 0,
              "ticks": ""
             }
            },
            "type": "scatterpolar"
           }
          ],
          "scatterpolargl": [
           {
            "marker": {
             "colorbar": {
              "outlinewidth": 0,
              "ticks": ""
             }
            },
            "type": "scatterpolargl"
           }
          ],
          "scatterternary": [
           {
            "marker": {
             "colorbar": {
              "outlinewidth": 0,
              "ticks": ""
             }
            },
            "type": "scatterternary"
           }
          ],
          "surface": [
           {
            "colorbar": {
             "outlinewidth": 0,
             "ticks": ""
            },
            "colorscale": [
             [
              0,
              "#0d0887"
             ],
             [
              0.1111111111111111,
              "#46039f"
             ],
             [
              0.2222222222222222,
              "#7201a8"
             ],
             [
              0.3333333333333333,
              "#9c179e"
             ],
             [
              0.4444444444444444,
              "#bd3786"
             ],
             [
              0.5555555555555556,
              "#d8576b"
             ],
             [
              0.6666666666666666,
              "#ed7953"
             ],
             [
              0.7777777777777778,
              "#fb9f3a"
             ],
             [
              0.8888888888888888,
              "#fdca26"
             ],
             [
              1,
              "#f0f921"
             ]
            ],
            "type": "surface"
           }
          ],
          "table": [
           {
            "cells": {
             "fill": {
              "color": "#EBF0F8"
             },
             "line": {
              "color": "white"
             }
            },
            "header": {
             "fill": {
              "color": "#C8D4E3"
             },
             "line": {
              "color": "white"
             }
            },
            "type": "table"
           }
          ]
         },
         "layout": {
          "annotationdefaults": {
           "arrowcolor": "#2a3f5f",
           "arrowhead": 0,
           "arrowwidth": 1
          },
          "autotypenumbers": "strict",
          "coloraxis": {
           "colorbar": {
            "outlinewidth": 0,
            "ticks": ""
           }
          },
          "colorscale": {
           "diverging": [
            [
             0,
             "#8e0152"
            ],
            [
             0.1,
             "#c51b7d"
            ],
            [
             0.2,
             "#de77ae"
            ],
            [
             0.3,
             "#f1b6da"
            ],
            [
             0.4,
             "#fde0ef"
            ],
            [
             0.5,
             "#f7f7f7"
            ],
            [
             0.6,
             "#e6f5d0"
            ],
            [
             0.7,
             "#b8e186"
            ],
            [
             0.8,
             "#7fbc41"
            ],
            [
             0.9,
             "#4d9221"
            ],
            [
             1,
             "#276419"
            ]
           ],
           "sequential": [
            [
             0,
             "#0d0887"
            ],
            [
             0.1111111111111111,
             "#46039f"
            ],
            [
             0.2222222222222222,
             "#7201a8"
            ],
            [
             0.3333333333333333,
             "#9c179e"
            ],
            [
             0.4444444444444444,
             "#bd3786"
            ],
            [
             0.5555555555555556,
             "#d8576b"
            ],
            [
             0.6666666666666666,
             "#ed7953"
            ],
            [
             0.7777777777777778,
             "#fb9f3a"
            ],
            [
             0.8888888888888888,
             "#fdca26"
            ],
            [
             1,
             "#f0f921"
            ]
           ],
           "sequentialminus": [
            [
             0,
             "#0d0887"
            ],
            [
             0.1111111111111111,
             "#46039f"
            ],
            [
             0.2222222222222222,
             "#7201a8"
            ],
            [
             0.3333333333333333,
             "#9c179e"
            ],
            [
             0.4444444444444444,
             "#bd3786"
            ],
            [
             0.5555555555555556,
             "#d8576b"
            ],
            [
             0.6666666666666666,
             "#ed7953"
            ],
            [
             0.7777777777777778,
             "#fb9f3a"
            ],
            [
             0.8888888888888888,
             "#fdca26"
            ],
            [
             1,
             "#f0f921"
            ]
           ]
          },
          "colorway": [
           "#636efa",
           "#EF553B",
           "#00cc96",
           "#ab63fa",
           "#FFA15A",
           "#19d3f3",
           "#FF6692",
           "#B6E880",
           "#FF97FF",
           "#FECB52"
          ],
          "font": {
           "color": "#2a3f5f"
          },
          "geo": {
           "bgcolor": "white",
           "lakecolor": "white",
           "landcolor": "#E5ECF6",
           "showlakes": true,
           "showland": true,
           "subunitcolor": "white"
          },
          "hoverlabel": {
           "align": "left"
          },
          "hovermode": "closest",
          "mapbox": {
           "style": "light"
          },
          "paper_bgcolor": "white",
          "plot_bgcolor": "#E5ECF6",
          "polar": {
           "angularaxis": {
            "gridcolor": "white",
            "linecolor": "white",
            "ticks": ""
           },
           "bgcolor": "#E5ECF6",
           "radialaxis": {
            "gridcolor": "white",
            "linecolor": "white",
            "ticks": ""
           }
          },
          "scene": {
           "xaxis": {
            "backgroundcolor": "#E5ECF6",
            "gridcolor": "white",
            "gridwidth": 2,
            "linecolor": "white",
            "showbackground": true,
            "ticks": "",
            "zerolinecolor": "white"
           },
           "yaxis": {
            "backgroundcolor": "#E5ECF6",
            "gridcolor": "white",
            "gridwidth": 2,
            "linecolor": "white",
            "showbackground": true,
            "ticks": "",
            "zerolinecolor": "white"
           },
           "zaxis": {
            "backgroundcolor": "#E5ECF6",
            "gridcolor": "white",
            "gridwidth": 2,
            "linecolor": "white",
            "showbackground": true,
            "ticks": "",
            "zerolinecolor": "white"
           }
          },
          "shapedefaults": {
           "line": {
            "color": "#2a3f5f"
           }
          },
          "ternary": {
           "aaxis": {
            "gridcolor": "white",
            "linecolor": "white",
            "ticks": ""
           },
           "baxis": {
            "gridcolor": "white",
            "linecolor": "white",
            "ticks": ""
           },
           "bgcolor": "#E5ECF6",
           "caxis": {
            "gridcolor": "white",
            "linecolor": "white",
            "ticks": ""
           }
          },
          "title": {
           "x": 0.05
          },
          "xaxis": {
           "automargin": true,
           "gridcolor": "white",
           "linecolor": "white",
           "ticks": "",
           "title": {
            "standoff": 15
           },
           "zerolinecolor": "white",
           "zerolinewidth": 2
          },
          "yaxis": {
           "automargin": true,
           "gridcolor": "white",
           "linecolor": "white",
           "ticks": "",
           "title": {
            "standoff": 15
           },
           "zerolinecolor": "white",
           "zerolinewidth": 2
          }
         }
        },
        "title": {
         "text": "Dataset machine 302"
        },
        "width": 1280,
        "xaxis": {
         "anchor": "y",
         "domain": [
          0,
          1
         ],
         "matches": "x3",
         "showticklabels": false
        },
        "xaxis2": {
         "anchor": "y2",
         "domain": [
          0,
          1
         ],
         "matches": "x3",
         "showticklabels": false
        },
        "xaxis3": {
         "anchor": "y3",
         "domain": [
          0,
          1
         ]
        },
        "yaxis": {
         "anchor": "x",
         "domain": [
          0.7066666666666667,
          1
         ]
        },
        "yaxis2": {
         "anchor": "x2",
         "domain": [
          0.35333333333333333,
          0.6466666666666667
         ]
        },
        "yaxis3": {
         "anchor": "x3",
         "domain": [
          0,
          0.29333333333333333
         ]
        }
       }
      }
     },
     "metadata": {},
     "output_type": "display_data"
    },
    {
     "data": {
      "application/vnd.plotly.v1+json": {
       "config": {
        "plotlyServerURL": "https://plot.ly"
       },
       "data": [
        {
         "marker": {
          "color": "black",
          "size": 10
         },
         "mode": "markers+lines",
         "name": "Unknown Energy",
         "text": [
          193.1,
          427.5,
          429.8,
          434.1,
          443.3,
          1300.5,
          727.7,
          951.7,
          1591,
          1888.5,
          1349.2,
          1864.6,
          1191.5,
          1720.4,
          1687.9,
          1360.4,
          766.5,
          734.2,
          1742.3,
          1786.5,
          1251,
          1574,
          1750.8,
          1467.9,
          1699.2,
          1666.6,
          1343.4,
          1251.5,
          1832.8,
          920,
          616.3,
          613.2,
          608.5,
          1773.4,
          1828.6,
          1835.1,
          1406.6,
          1719,
          1568.5,
          1089.7,
          1085.7,
          862.1,
          1833.9,
          1847.4,
          1411.7,
          938.6,
          947,
          1829.4,
          1831.2,
          1827.5,
          1857.4,
          1172.8,
          1789.1,
          1803.5,
          1820.3,
          1296.9,
          1828.9,
          1835.2,
          1806.3,
          921.8,
          725.9,
          862.4,
          1072.3,
          1808.4,
          1818.6,
          1834.2,
          1295.9,
          1861.3,
          1839.2,
          1863.6,
          1861.6,
          1842.7,
          1853.2,
          0,
          0,
          0,
          0.1,
          0,
          0,
          0,
          0,
          890.4,
          739.3,
          1967,
          2303.2,
          2257.2,
          2301.7,
          2324.6,
          2193.5,
          2354,
          2305.1,
          2283.8
         ],
         "type": "scatter",
         "x": [
          "2022-11-28T04:52:30",
          "2022-11-28T05:07:30",
          "2022-11-28T05:22:30",
          "2022-11-28T05:37:30",
          "2022-11-28T05:52:30",
          "2022-12-01T01:07:30",
          "2022-12-01T01:22:30",
          "2022-12-01T01:37:30",
          "2022-12-01T01:52:30",
          "2022-12-01T02:07:30",
          "2022-12-01T02:22:30",
          "2022-12-01T02:37:30",
          "2022-12-01T02:52:30",
          "2022-12-01T03:07:30",
          "2022-12-01T03:22:30",
          "2022-12-01T03:37:30",
          "2022-12-01T05:22:30",
          "2022-12-01T05:37:30",
          "2022-12-01T05:52:30",
          "2022-12-01T06:07:30",
          "2022-12-01T06:22:30",
          "2022-12-01T06:37:30",
          "2022-12-01T06:52:30",
          "2022-12-01T07:07:30",
          "2022-12-01T07:22:30",
          "2022-12-01T07:37:30",
          "2022-12-01T07:52:30",
          "2022-12-01T08:07:30",
          "2022-12-01T08:22:30",
          "2022-12-01T08:37:30",
          "2022-12-01T08:52:30",
          "2022-12-01T09:07:30",
          "2022-12-01T09:22:30",
          "2022-12-01T09:37:30",
          "2022-12-01T09:52:30",
          "2022-12-01T10:07:30",
          "2022-12-01T10:22:30",
          "2022-12-01T10:37:30",
          "2022-12-01T10:52:30",
          "2022-12-01T11:07:30",
          "2022-12-01T12:07:30",
          "2022-12-01T12:22:30",
          "2022-12-01T12:37:30",
          "2022-12-01T12:52:30",
          "2022-12-01T13:07:30",
          "2022-12-01T13:22:30",
          "2022-12-01T13:37:30",
          "2022-12-01T13:52:30",
          "2022-12-01T14:07:30",
          "2022-12-01T14:22:30",
          "2022-12-01T14:37:30",
          "2022-12-02T11:07:30",
          "2022-12-02T11:22:30",
          "2022-12-02T11:37:30",
          "2022-12-02T11:52:30",
          "2022-12-02T12:07:30",
          "2022-12-02T12:22:30",
          "2022-12-02T12:37:30",
          "2022-12-02T12:52:30",
          "2022-12-02T13:07:30",
          "2022-12-02T13:22:30",
          "2022-12-02T13:37:30",
          "2022-12-02T13:52:30",
          "2022-12-02T14:07:30",
          "2022-12-02T14:22:30",
          "2022-12-02T14:37:30",
          "2022-12-02T14:52:30",
          "2022-12-02T15:07:30",
          "2022-12-02T15:22:30",
          "2022-12-02T15:37:30",
          "2022-12-02T22:22:30",
          "2022-12-02T22:37:30",
          "2022-12-02T22:52:30",
          "2022-12-02T23:07:30",
          "2022-12-02T23:22:30",
          "2022-12-03T03:52:30",
          "2022-12-04T23:52:30",
          "2022-12-05T00:07:30",
          "2022-12-05T00:22:30",
          "2022-12-05T00:37:30",
          "2022-12-05T00:52:30",
          "2022-12-06T13:52:30",
          "2022-12-06T14:07:30",
          "2022-12-06T14:22:30",
          "2022-12-06T14:37:30",
          "2022-12-06T14:52:30",
          "2022-12-06T15:07:30",
          "2022-12-06T15:22:30",
          "2022-12-06T15:37:30",
          "2022-12-06T15:52:30",
          "2022-12-06T16:07:30",
          "2022-12-06T16:22:30"
         ],
         "xaxis": "x",
         "y": [
          193.1,
          427.5,
          429.8,
          434.1,
          443.3,
          1300.5,
          727.7,
          951.7,
          1591,
          1888.5,
          1349.2,
          1864.6,
          1191.5,
          1720.4,
          1687.9,
          1360.4,
          766.5,
          734.2,
          1742.3,
          1786.5,
          1251,
          1574,
          1750.8,
          1467.9,
          1699.2,
          1666.6,
          1343.4,
          1251.5,
          1832.8,
          920,
          616.3,
          613.2,
          608.5,
          1773.4,
          1828.6,
          1835.1,
          1406.6,
          1719,
          1568.5,
          1089.7,
          1085.7,
          862.1,
          1833.9,
          1847.4,
          1411.7,
          938.6,
          947,
          1829.4,
          1831.2,
          1827.5,
          1857.4,
          1172.8,
          1789.1,
          1803.5,
          1820.3,
          1296.9,
          1828.9,
          1835.2,
          1806.3,
          921.8,
          725.9,
          862.4,
          1072.3,
          1808.4,
          1818.6,
          1834.2,
          1295.9,
          1861.3,
          1839.2,
          1863.6,
          1861.6,
          1842.7,
          1853.2,
          0,
          0,
          0,
          0.1,
          0,
          0,
          0,
          0,
          890.4,
          739.3,
          1967,
          2303.2,
          2257.2,
          2301.7,
          2324.6,
          2193.5,
          2354,
          2305.1,
          2283.8
         ],
         "yaxis": "y"
        },
        {
         "marker": {
          "color": "black",
          "size": 10
         },
         "mode": "markers+lines",
         "name": "Unknown Productions",
         "text": [
          0,
          0,
          0,
          0,
          0,
          0,
          0,
          0,
          0,
          0,
          0,
          0,
          0,
          0,
          0,
          0,
          0,
          0,
          0,
          0,
          0,
          0,
          0,
          0,
          0,
          0,
          0,
          0,
          0,
          0,
          0,
          0,
          0,
          0,
          0,
          0,
          0,
          0,
          0,
          0,
          0,
          0,
          0,
          0,
          0,
          0,
          0,
          0,
          0,
          0,
          0,
          0,
          0,
          0,
          0,
          0,
          0,
          0,
          0,
          0,
          0,
          0,
          0,
          0,
          0,
          0,
          0,
          0,
          0,
          0,
          0,
          0,
          0,
          0,
          0,
          0,
          0,
          0,
          0,
          0,
          0,
          0,
          0,
          0,
          0,
          0,
          0,
          0,
          0,
          0,
          0,
          0
         ],
         "type": "scatter",
         "x": [
          "2022-11-28T04:52:30",
          "2022-11-28T05:07:30",
          "2022-11-28T05:22:30",
          "2022-11-28T05:37:30",
          "2022-11-28T05:52:30",
          "2022-12-01T01:07:30",
          "2022-12-01T01:22:30",
          "2022-12-01T01:37:30",
          "2022-12-01T01:52:30",
          "2022-12-01T02:07:30",
          "2022-12-01T02:22:30",
          "2022-12-01T02:37:30",
          "2022-12-01T02:52:30",
          "2022-12-01T03:07:30",
          "2022-12-01T03:22:30",
          "2022-12-01T03:37:30",
          "2022-12-01T05:22:30",
          "2022-12-01T05:37:30",
          "2022-12-01T05:52:30",
          "2022-12-01T06:07:30",
          "2022-12-01T06:22:30",
          "2022-12-01T06:37:30",
          "2022-12-01T06:52:30",
          "2022-12-01T07:07:30",
          "2022-12-01T07:22:30",
          "2022-12-01T07:37:30",
          "2022-12-01T07:52:30",
          "2022-12-01T08:07:30",
          "2022-12-01T08:22:30",
          "2022-12-01T08:37:30",
          "2022-12-01T08:52:30",
          "2022-12-01T09:07:30",
          "2022-12-01T09:22:30",
          "2022-12-01T09:37:30",
          "2022-12-01T09:52:30",
          "2022-12-01T10:07:30",
          "2022-12-01T10:22:30",
          "2022-12-01T10:37:30",
          "2022-12-01T10:52:30",
          "2022-12-01T11:07:30",
          "2022-12-01T12:07:30",
          "2022-12-01T12:22:30",
          "2022-12-01T12:37:30",
          "2022-12-01T12:52:30",
          "2022-12-01T13:07:30",
          "2022-12-01T13:22:30",
          "2022-12-01T13:37:30",
          "2022-12-01T13:52:30",
          "2022-12-01T14:07:30",
          "2022-12-01T14:22:30",
          "2022-12-01T14:37:30",
          "2022-12-02T11:07:30",
          "2022-12-02T11:22:30",
          "2022-12-02T11:37:30",
          "2022-12-02T11:52:30",
          "2022-12-02T12:07:30",
          "2022-12-02T12:22:30",
          "2022-12-02T12:37:30",
          "2022-12-02T12:52:30",
          "2022-12-02T13:07:30",
          "2022-12-02T13:22:30",
          "2022-12-02T13:37:30",
          "2022-12-02T13:52:30",
          "2022-12-02T14:07:30",
          "2022-12-02T14:22:30",
          "2022-12-02T14:37:30",
          "2022-12-02T14:52:30",
          "2022-12-02T15:07:30",
          "2022-12-02T15:22:30",
          "2022-12-02T15:37:30",
          "2022-12-02T22:22:30",
          "2022-12-02T22:37:30",
          "2022-12-02T22:52:30",
          "2022-12-02T23:07:30",
          "2022-12-02T23:22:30",
          "2022-12-03T03:52:30",
          "2022-12-04T23:52:30",
          "2022-12-05T00:07:30",
          "2022-12-05T00:22:30",
          "2022-12-05T00:37:30",
          "2022-12-05T00:52:30",
          "2022-12-06T13:52:30",
          "2022-12-06T14:07:30",
          "2022-12-06T14:22:30",
          "2022-12-06T14:37:30",
          "2022-12-06T14:52:30",
          "2022-12-06T15:07:30",
          "2022-12-06T15:22:30",
          "2022-12-06T15:37:30",
          "2022-12-06T15:52:30",
          "2022-12-06T16:07:30",
          "2022-12-06T16:22:30"
         ],
         "xaxis": "x2",
         "y": [
          0,
          0,
          0,
          0,
          0,
          0,
          0,
          0,
          0,
          0,
          0,
          0,
          0,
          0,
          0,
          0,
          0,
          0,
          0,
          0,
          0,
          0,
          0,
          0,
          0,
          0,
          0,
          0,
          0,
          0,
          0,
          0,
          0,
          0,
          0,
          0,
          0,
          0,
          0,
          0,
          0,
          0,
          0,
          0,
          0,
          0,
          0,
          0,
          0,
          0,
          0,
          0,
          0,
          0,
          0,
          0,
          0,
          0,
          0,
          0,
          0,
          0,
          0,
          0,
          0,
          0,
          0,
          0,
          0,
          0,
          0,
          0,
          0,
          0,
          0,
          0,
          0,
          0,
          0,
          0,
          0,
          0,
          0,
          0,
          0,
          0,
          0,
          0,
          0,
          0,
          0,
          0
         ],
         "yaxis": "y2"
        },
        {
         "marker": {
          "color": "black",
          "size": 10
         },
         "mode": "markers",
         "name": "Unknown Stops",
         "type": "scatter",
         "x": [
          "2022-11-28T04:52:30",
          "2022-11-28T05:07:30",
          "2022-11-28T05:22:30",
          "2022-11-28T05:37:30",
          "2022-11-28T05:52:30",
          "2022-12-01T01:07:30",
          "2022-12-01T01:22:30",
          "2022-12-01T01:37:30",
          "2022-12-01T01:52:30",
          "2022-12-01T02:07:30",
          "2022-12-01T02:22:30",
          "2022-12-01T02:37:30",
          "2022-12-01T02:52:30",
          "2022-12-01T03:07:30",
          "2022-12-01T03:22:30",
          "2022-12-01T03:37:30",
          "2022-12-01T05:22:30",
          "2022-12-01T05:37:30",
          "2022-12-01T05:52:30",
          "2022-12-01T06:07:30",
          "2022-12-01T06:22:30",
          "2022-12-01T06:37:30",
          "2022-12-01T06:52:30",
          "2022-12-01T07:07:30",
          "2022-12-01T07:22:30",
          "2022-12-01T07:37:30",
          "2022-12-01T07:52:30",
          "2022-12-01T08:07:30",
          "2022-12-01T08:22:30",
          "2022-12-01T08:37:30",
          "2022-12-01T08:52:30",
          "2022-12-01T09:07:30",
          "2022-12-01T09:22:30",
          "2022-12-01T09:37:30",
          "2022-12-01T09:52:30",
          "2022-12-01T10:07:30",
          "2022-12-01T10:22:30",
          "2022-12-01T10:37:30",
          "2022-12-01T10:52:30",
          "2022-12-01T11:07:30",
          "2022-12-01T12:07:30",
          "2022-12-01T12:22:30",
          "2022-12-01T12:37:30",
          "2022-12-01T12:52:30",
          "2022-12-01T13:07:30",
          "2022-12-01T13:22:30",
          "2022-12-01T13:37:30",
          "2022-12-01T13:52:30",
          "2022-12-01T14:07:30",
          "2022-12-01T14:22:30",
          "2022-12-01T14:37:30",
          "2022-12-02T11:07:30",
          "2022-12-02T11:22:30",
          "2022-12-02T11:37:30",
          "2022-12-02T11:52:30",
          "2022-12-02T12:07:30",
          "2022-12-02T12:22:30",
          "2022-12-02T12:37:30",
          "2022-12-02T12:52:30",
          "2022-12-02T13:07:30",
          "2022-12-02T13:22:30",
          "2022-12-02T13:37:30",
          "2022-12-02T13:52:30",
          "2022-12-02T14:07:30",
          "2022-12-02T14:22:30",
          "2022-12-02T14:37:30",
          "2022-12-02T14:52:30",
          "2022-12-02T15:07:30",
          "2022-12-02T15:22:30",
          "2022-12-02T15:37:30",
          "2022-12-02T22:22:30",
          "2022-12-02T22:37:30",
          "2022-12-02T22:52:30",
          "2022-12-02T23:07:30",
          "2022-12-02T23:22:30",
          "2022-12-03T03:52:30",
          "2022-12-04T23:52:30",
          "2022-12-05T00:07:30",
          "2022-12-05T00:22:30",
          "2022-12-05T00:37:30",
          "2022-12-05T00:52:30",
          "2022-12-06T13:52:30",
          "2022-12-06T14:07:30",
          "2022-12-06T14:22:30",
          "2022-12-06T14:37:30",
          "2022-12-06T14:52:30",
          "2022-12-06T15:07:30",
          "2022-12-06T15:22:30",
          "2022-12-06T15:37:30",
          "2022-12-06T15:52:30",
          "2022-12-06T16:07:30",
          "2022-12-06T16:22:30"
         ],
         "xaxis": "x3",
         "y": [
          "Running",
          "Running",
          "Running",
          "Running",
          "Running",
          "Running",
          "Running",
          "Running",
          "Running",
          "Running",
          "Manutenzione ordinaria",
          "Running",
          "Running",
          "Running",
          "Running",
          "Running",
          "Running",
          "Running",
          "Running",
          "Running",
          "Running",
          "Manutenzione ordinaria",
          "Running",
          "Running",
          "Running",
          "Running",
          "Running",
          "Running",
          "Running",
          "Running",
          "Running",
          "Sostituzione utensile",
          "Running",
          "Running",
          "Manutenzione ordinaria",
          "Running",
          "Running",
          "Running",
          "Running",
          "Running",
          "Running",
          "Running",
          "Running",
          "Running",
          "Running",
          "Sostituzione utensile",
          "Running",
          "Running",
          "Running",
          "Running",
          "Running",
          "Running",
          "Running",
          "Running",
          "Running",
          "Running",
          "Sostituzione utensile",
          "Running",
          "Running",
          "Running",
          "Running",
          "Running",
          "Running",
          "Running",
          "Affilatura utensile",
          "Running",
          "Running",
          "Running",
          "Running",
          "Running",
          "Running",
          "Running",
          "Running",
          "Running",
          "Running",
          "Sostituzione utensile",
          "Running",
          "Running",
          "Running",
          "Running",
          "Running",
          "Running",
          "Running",
          "Running",
          "Running",
          "Running",
          "Sostituzione utensile",
          "Running",
          "Running",
          "Running",
          "Running",
          "Running"
         ],
         "yaxis": "y3"
        },
        {
         "marker": {
          "color": "green",
          "size": 10
         },
         "mode": "markers+lines",
         "name": "PR8 Energy",
         "text": [
          524.4,
          527.5,
          1286,
          992.4,
          1676.3,
          1785
         ],
         "type": "scatter",
         "x": [
          "2022-11-28T06:07:30",
          "2022-11-28T06:22:30",
          "2022-11-28T06:37:30",
          "2022-11-28T06:52:30",
          "2022-11-28T07:07:30",
          "2022-11-28T07:22:30"
         ],
         "xaxis": "x",
         "y": [
          524.4,
          527.5,
          1286,
          992.4,
          1676.3,
          1785
         ],
         "yaxis": "y"
        },
        {
         "marker": {
          "color": "green",
          "size": 10
         },
         "mode": "markers+lines",
         "name": "PR8 Productions",
         "text": [
          0,
          0,
          0,
          0,
          0,
          0
         ],
         "type": "scatter",
         "x": [
          "2022-11-28T06:07:30",
          "2022-11-28T06:22:30",
          "2022-11-28T06:37:30",
          "2022-11-28T06:52:30",
          "2022-11-28T07:07:30",
          "2022-11-28T07:22:30"
         ],
         "xaxis": "x2",
         "y": [
          0,
          0,
          0,
          0,
          0,
          0
         ],
         "yaxis": "y2"
        },
        {
         "marker": {
          "color": "green",
          "size": 10
         },
         "mode": "markers",
         "name": "PR8 Stops",
         "type": "scatter",
         "x": [
          "2022-11-28T06:07:30",
          "2022-11-28T06:22:30",
          "2022-11-28T06:37:30",
          "2022-11-28T06:52:30",
          "2022-11-28T07:07:30",
          "2022-11-28T07:22:30"
         ],
         "xaxis": "x3",
         "y": [
          "Manutenzione ordinaria",
          "Running",
          "Running",
          "Running",
          "Running",
          "Running"
         ],
         "yaxis": "y3"
        }
       ],
       "layout": {
        "annotations": [
         {
          "font": {
           "size": 16
          },
          "showarrow": false,
          "text": "Energy Consumption",
          "x": 0.5,
          "xanchor": "center",
          "xref": "paper",
          "y": 1,
          "yanchor": "bottom",
          "yref": "paper"
         },
         {
          "font": {
           "size": 16
          },
          "showarrow": false,
          "text": "Productions",
          "x": 0.5,
          "xanchor": "center",
          "xref": "paper",
          "y": 0.6466666666666667,
          "yanchor": "bottom",
          "yref": "paper"
         },
         {
          "font": {
           "size": 16
          },
          "showarrow": false,
          "text": "Stops",
          "x": 0.5,
          "xanchor": "center",
          "xref": "paper",
          "y": 0.29333333333333333,
          "yanchor": "bottom",
          "yref": "paper"
         }
        ],
        "height": 800,
        "template": {
         "data": {
          "bar": [
           {
            "error_x": {
             "color": "#2a3f5f"
            },
            "error_y": {
             "color": "#2a3f5f"
            },
            "marker": {
             "line": {
              "color": "#E5ECF6",
              "width": 0.5
             },
             "pattern": {
              "fillmode": "overlay",
              "size": 10,
              "solidity": 0.2
             }
            },
            "type": "bar"
           }
          ],
          "barpolar": [
           {
            "marker": {
             "line": {
              "color": "#E5ECF6",
              "width": 0.5
             },
             "pattern": {
              "fillmode": "overlay",
              "size": 10,
              "solidity": 0.2
             }
            },
            "type": "barpolar"
           }
          ],
          "carpet": [
           {
            "aaxis": {
             "endlinecolor": "#2a3f5f",
             "gridcolor": "white",
             "linecolor": "white",
             "minorgridcolor": "white",
             "startlinecolor": "#2a3f5f"
            },
            "baxis": {
             "endlinecolor": "#2a3f5f",
             "gridcolor": "white",
             "linecolor": "white",
             "minorgridcolor": "white",
             "startlinecolor": "#2a3f5f"
            },
            "type": "carpet"
           }
          ],
          "choropleth": [
           {
            "colorbar": {
             "outlinewidth": 0,
             "ticks": ""
            },
            "type": "choropleth"
           }
          ],
          "contour": [
           {
            "colorbar": {
             "outlinewidth": 0,
             "ticks": ""
            },
            "colorscale": [
             [
              0,
              "#0d0887"
             ],
             [
              0.1111111111111111,
              "#46039f"
             ],
             [
              0.2222222222222222,
              "#7201a8"
             ],
             [
              0.3333333333333333,
              "#9c179e"
             ],
             [
              0.4444444444444444,
              "#bd3786"
             ],
             [
              0.5555555555555556,
              "#d8576b"
             ],
             [
              0.6666666666666666,
              "#ed7953"
             ],
             [
              0.7777777777777778,
              "#fb9f3a"
             ],
             [
              0.8888888888888888,
              "#fdca26"
             ],
             [
              1,
              "#f0f921"
             ]
            ],
            "type": "contour"
           }
          ],
          "contourcarpet": [
           {
            "colorbar": {
             "outlinewidth": 0,
             "ticks": ""
            },
            "type": "contourcarpet"
           }
          ],
          "heatmap": [
           {
            "colorbar": {
             "outlinewidth": 0,
             "ticks": ""
            },
            "colorscale": [
             [
              0,
              "#0d0887"
             ],
             [
              0.1111111111111111,
              "#46039f"
             ],
             [
              0.2222222222222222,
              "#7201a8"
             ],
             [
              0.3333333333333333,
              "#9c179e"
             ],
             [
              0.4444444444444444,
              "#bd3786"
             ],
             [
              0.5555555555555556,
              "#d8576b"
             ],
             [
              0.6666666666666666,
              "#ed7953"
             ],
             [
              0.7777777777777778,
              "#fb9f3a"
             ],
             [
              0.8888888888888888,
              "#fdca26"
             ],
             [
              1,
              "#f0f921"
             ]
            ],
            "type": "heatmap"
           }
          ],
          "heatmapgl": [
           {
            "colorbar": {
             "outlinewidth": 0,
             "ticks": ""
            },
            "colorscale": [
             [
              0,
              "#0d0887"
             ],
             [
              0.1111111111111111,
              "#46039f"
             ],
             [
              0.2222222222222222,
              "#7201a8"
             ],
             [
              0.3333333333333333,
              "#9c179e"
             ],
             [
              0.4444444444444444,
              "#bd3786"
             ],
             [
              0.5555555555555556,
              "#d8576b"
             ],
             [
              0.6666666666666666,
              "#ed7953"
             ],
             [
              0.7777777777777778,
              "#fb9f3a"
             ],
             [
              0.8888888888888888,
              "#fdca26"
             ],
             [
              1,
              "#f0f921"
             ]
            ],
            "type": "heatmapgl"
           }
          ],
          "histogram": [
           {
            "marker": {
             "pattern": {
              "fillmode": "overlay",
              "size": 10,
              "solidity": 0.2
             }
            },
            "type": "histogram"
           }
          ],
          "histogram2d": [
           {
            "colorbar": {
             "outlinewidth": 0,
             "ticks": ""
            },
            "colorscale": [
             [
              0,
              "#0d0887"
             ],
             [
              0.1111111111111111,
              "#46039f"
             ],
             [
              0.2222222222222222,
              "#7201a8"
             ],
             [
              0.3333333333333333,
              "#9c179e"
             ],
             [
              0.4444444444444444,
              "#bd3786"
             ],
             [
              0.5555555555555556,
              "#d8576b"
             ],
             [
              0.6666666666666666,
              "#ed7953"
             ],
             [
              0.7777777777777778,
              "#fb9f3a"
             ],
             [
              0.8888888888888888,
              "#fdca26"
             ],
             [
              1,
              "#f0f921"
             ]
            ],
            "type": "histogram2d"
           }
          ],
          "histogram2dcontour": [
           {
            "colorbar": {
             "outlinewidth": 0,
             "ticks": ""
            },
            "colorscale": [
             [
              0,
              "#0d0887"
             ],
             [
              0.1111111111111111,
              "#46039f"
             ],
             [
              0.2222222222222222,
              "#7201a8"
             ],
             [
              0.3333333333333333,
              "#9c179e"
             ],
             [
              0.4444444444444444,
              "#bd3786"
             ],
             [
              0.5555555555555556,
              "#d8576b"
             ],
             [
              0.6666666666666666,
              "#ed7953"
             ],
             [
              0.7777777777777778,
              "#fb9f3a"
             ],
             [
              0.8888888888888888,
              "#fdca26"
             ],
             [
              1,
              "#f0f921"
             ]
            ],
            "type": "histogram2dcontour"
           }
          ],
          "mesh3d": [
           {
            "colorbar": {
             "outlinewidth": 0,
             "ticks": ""
            },
            "type": "mesh3d"
           }
          ],
          "parcoords": [
           {
            "line": {
             "colorbar": {
              "outlinewidth": 0,
              "ticks": ""
             }
            },
            "type": "parcoords"
           }
          ],
          "pie": [
           {
            "automargin": true,
            "type": "pie"
           }
          ],
          "scatter": [
           {
            "fillpattern": {
             "fillmode": "overlay",
             "size": 10,
             "solidity": 0.2
            },
            "type": "scatter"
           }
          ],
          "scatter3d": [
           {
            "line": {
             "colorbar": {
              "outlinewidth": 0,
              "ticks": ""
             }
            },
            "marker": {
             "colorbar": {
              "outlinewidth": 0,
              "ticks": ""
             }
            },
            "type": "scatter3d"
           }
          ],
          "scattercarpet": [
           {
            "marker": {
             "colorbar": {
              "outlinewidth": 0,
              "ticks": ""
             }
            },
            "type": "scattercarpet"
           }
          ],
          "scattergeo": [
           {
            "marker": {
             "colorbar": {
              "outlinewidth": 0,
              "ticks": ""
             }
            },
            "type": "scattergeo"
           }
          ],
          "scattergl": [
           {
            "marker": {
             "colorbar": {
              "outlinewidth": 0,
              "ticks": ""
             }
            },
            "type": "scattergl"
           }
          ],
          "scattermapbox": [
           {
            "marker": {
             "colorbar": {
              "outlinewidth": 0,
              "ticks": ""
             }
            },
            "type": "scattermapbox"
           }
          ],
          "scatterpolar": [
           {
            "marker": {
             "colorbar": {
              "outlinewidth": 0,
              "ticks": ""
             }
            },
            "type": "scatterpolar"
           }
          ],
          "scatterpolargl": [
           {
            "marker": {
             "colorbar": {
              "outlinewidth": 0,
              "ticks": ""
             }
            },
            "type": "scatterpolargl"
           }
          ],
          "scatterternary": [
           {
            "marker": {
             "colorbar": {
              "outlinewidth": 0,
              "ticks": ""
             }
            },
            "type": "scatterternary"
           }
          ],
          "surface": [
           {
            "colorbar": {
             "outlinewidth": 0,
             "ticks": ""
            },
            "colorscale": [
             [
              0,
              "#0d0887"
             ],
             [
              0.1111111111111111,
              "#46039f"
             ],
             [
              0.2222222222222222,
              "#7201a8"
             ],
             [
              0.3333333333333333,
              "#9c179e"
             ],
             [
              0.4444444444444444,
              "#bd3786"
             ],
             [
              0.5555555555555556,
              "#d8576b"
             ],
             [
              0.6666666666666666,
              "#ed7953"
             ],
             [
              0.7777777777777778,
              "#fb9f3a"
             ],
             [
              0.8888888888888888,
              "#fdca26"
             ],
             [
              1,
              "#f0f921"
             ]
            ],
            "type": "surface"
           }
          ],
          "table": [
           {
            "cells": {
             "fill": {
              "color": "#EBF0F8"
             },
             "line": {
              "color": "white"
             }
            },
            "header": {
             "fill": {
              "color": "#C8D4E3"
             },
             "line": {
              "color": "white"
             }
            },
            "type": "table"
           }
          ]
         },
         "layout": {
          "annotationdefaults": {
           "arrowcolor": "#2a3f5f",
           "arrowhead": 0,
           "arrowwidth": 1
          },
          "autotypenumbers": "strict",
          "coloraxis": {
           "colorbar": {
            "outlinewidth": 0,
            "ticks": ""
           }
          },
          "colorscale": {
           "diverging": [
            [
             0,
             "#8e0152"
            ],
            [
             0.1,
             "#c51b7d"
            ],
            [
             0.2,
             "#de77ae"
            ],
            [
             0.3,
             "#f1b6da"
            ],
            [
             0.4,
             "#fde0ef"
            ],
            [
             0.5,
             "#f7f7f7"
            ],
            [
             0.6,
             "#e6f5d0"
            ],
            [
             0.7,
             "#b8e186"
            ],
            [
             0.8,
             "#7fbc41"
            ],
            [
             0.9,
             "#4d9221"
            ],
            [
             1,
             "#276419"
            ]
           ],
           "sequential": [
            [
             0,
             "#0d0887"
            ],
            [
             0.1111111111111111,
             "#46039f"
            ],
            [
             0.2222222222222222,
             "#7201a8"
            ],
            [
             0.3333333333333333,
             "#9c179e"
            ],
            [
             0.4444444444444444,
             "#bd3786"
            ],
            [
             0.5555555555555556,
             "#d8576b"
            ],
            [
             0.6666666666666666,
             "#ed7953"
            ],
            [
             0.7777777777777778,
             "#fb9f3a"
            ],
            [
             0.8888888888888888,
             "#fdca26"
            ],
            [
             1,
             "#f0f921"
            ]
           ],
           "sequentialminus": [
            [
             0,
             "#0d0887"
            ],
            [
             0.1111111111111111,
             "#46039f"
            ],
            [
             0.2222222222222222,
             "#7201a8"
            ],
            [
             0.3333333333333333,
             "#9c179e"
            ],
            [
             0.4444444444444444,
             "#bd3786"
            ],
            [
             0.5555555555555556,
             "#d8576b"
            ],
            [
             0.6666666666666666,
             "#ed7953"
            ],
            [
             0.7777777777777778,
             "#fb9f3a"
            ],
            [
             0.8888888888888888,
             "#fdca26"
            ],
            [
             1,
             "#f0f921"
            ]
           ]
          },
          "colorway": [
           "#636efa",
           "#EF553B",
           "#00cc96",
           "#ab63fa",
           "#FFA15A",
           "#19d3f3",
           "#FF6692",
           "#B6E880",
           "#FF97FF",
           "#FECB52"
          ],
          "font": {
           "color": "#2a3f5f"
          },
          "geo": {
           "bgcolor": "white",
           "lakecolor": "white",
           "landcolor": "#E5ECF6",
           "showlakes": true,
           "showland": true,
           "subunitcolor": "white"
          },
          "hoverlabel": {
           "align": "left"
          },
          "hovermode": "closest",
          "mapbox": {
           "style": "light"
          },
          "paper_bgcolor": "white",
          "plot_bgcolor": "#E5ECF6",
          "polar": {
           "angularaxis": {
            "gridcolor": "white",
            "linecolor": "white",
            "ticks": ""
           },
           "bgcolor": "#E5ECF6",
           "radialaxis": {
            "gridcolor": "white",
            "linecolor": "white",
            "ticks": ""
           }
          },
          "scene": {
           "xaxis": {
            "backgroundcolor": "#E5ECF6",
            "gridcolor": "white",
            "gridwidth": 2,
            "linecolor": "white",
            "showbackground": true,
            "ticks": "",
            "zerolinecolor": "white"
           },
           "yaxis": {
            "backgroundcolor": "#E5ECF6",
            "gridcolor": "white",
            "gridwidth": 2,
            "linecolor": "white",
            "showbackground": true,
            "ticks": "",
            "zerolinecolor": "white"
           },
           "zaxis": {
            "backgroundcolor": "#E5ECF6",
            "gridcolor": "white",
            "gridwidth": 2,
            "linecolor": "white",
            "showbackground": true,
            "ticks": "",
            "zerolinecolor": "white"
           }
          },
          "shapedefaults": {
           "line": {
            "color": "#2a3f5f"
           }
          },
          "ternary": {
           "aaxis": {
            "gridcolor": "white",
            "linecolor": "white",
            "ticks": ""
           },
           "baxis": {
            "gridcolor": "white",
            "linecolor": "white",
            "ticks": ""
           },
           "bgcolor": "#E5ECF6",
           "caxis": {
            "gridcolor": "white",
            "linecolor": "white",
            "ticks": ""
           }
          },
          "title": {
           "x": 0.05
          },
          "xaxis": {
           "automargin": true,
           "gridcolor": "white",
           "linecolor": "white",
           "ticks": "",
           "title": {
            "standoff": 15
           },
           "zerolinecolor": "white",
           "zerolinewidth": 2
          },
          "yaxis": {
           "automargin": true,
           "gridcolor": "white",
           "linecolor": "white",
           "ticks": "",
           "title": {
            "standoff": 15
           },
           "zerolinecolor": "white",
           "zerolinewidth": 2
          }
         }
        },
        "title": {
         "text": "Dataset machine 303"
        },
        "width": 1280,
        "xaxis": {
         "anchor": "y",
         "domain": [
          0,
          1
         ],
         "matches": "x3",
         "showticklabels": false
        },
        "xaxis2": {
         "anchor": "y2",
         "domain": [
          0,
          1
         ],
         "matches": "x3",
         "showticklabels": false
        },
        "xaxis3": {
         "anchor": "y3",
         "domain": [
          0,
          1
         ]
        },
        "yaxis": {
         "anchor": "x",
         "domain": [
          0.7066666666666667,
          1
         ]
        },
        "yaxis2": {
         "anchor": "x2",
         "domain": [
          0.35333333333333333,
          0.6466666666666667
         ]
        },
        "yaxis3": {
         "anchor": "x3",
         "domain": [
          0,
          0.29333333333333333
         ]
        }
       }
      }
     },
     "metadata": {},
     "output_type": "display_data"
    },
    {
     "data": {
      "application/vnd.plotly.v1+json": {
       "config": {
        "plotlyServerURL": "https://plot.ly"
       },
       "data": [
        {
         "marker": {
          "color": "black",
          "size": 10
         },
         "mode": "markers+lines",
         "name": "Unknown Energy",
         "text": [
          923.5,
          723.2,
          1012.6,
          1149.8,
          1174.7,
          1245.9,
          961.8,
          1227.6,
          970.1,
          1140.4,
          1457.7,
          747.7,
          736.5,
          948.3,
          1257.3,
          1046.4,
          1490.4,
          1481.7,
          1302.5,
          1173.7,
          1506.3,
          1492.6
         ],
         "type": "scatter",
         "x": [
          "2022-12-07T05:52:30",
          "2022-12-07T06:07:30",
          "2022-12-07T06:22:30",
          "2022-12-07T06:37:30",
          "2022-12-07T06:52:30",
          "2022-12-07T07:07:30",
          "2022-12-07T07:22:30",
          "2022-12-07T07:37:30",
          "2022-12-07T07:52:30",
          "2022-12-07T08:07:30",
          "2022-12-07T08:22:30",
          "2022-12-07T12:07:30",
          "2022-12-07T12:22:30",
          "2022-12-07T12:37:30",
          "2022-12-07T12:52:30",
          "2022-12-07T13:07:30",
          "2022-12-07T13:22:30",
          "2022-12-07T13:37:30",
          "2022-12-07T13:52:30",
          "2022-12-07T14:07:30",
          "2022-12-07T14:22:30",
          "2022-12-07T14:37:30"
         ],
         "xaxis": "x",
         "y": [
          923.5,
          723.2,
          1012.6,
          1149.8,
          1174.7,
          1245.9,
          961.8,
          1227.6,
          970.1,
          1140.4,
          1457.7,
          747.7,
          736.5,
          948.3,
          1257.3,
          1046.4,
          1490.4,
          1481.7,
          1302.5,
          1173.7,
          1506.3,
          1492.6
         ],
         "yaxis": "y"
        },
        {
         "marker": {
          "color": "black",
          "size": 10
         },
         "mode": "markers+lines",
         "name": "Unknown Productions",
         "text": [
          0,
          0,
          0,
          0,
          0,
          0,
          0,
          0,
          0,
          0,
          0,
          0,
          0,
          0,
          0,
          0,
          0,
          0,
          0,
          0,
          0,
          0
         ],
         "type": "scatter",
         "x": [
          "2022-12-07T05:52:30",
          "2022-12-07T06:07:30",
          "2022-12-07T06:22:30",
          "2022-12-07T06:37:30",
          "2022-12-07T06:52:30",
          "2022-12-07T07:07:30",
          "2022-12-07T07:22:30",
          "2022-12-07T07:37:30",
          "2022-12-07T07:52:30",
          "2022-12-07T08:07:30",
          "2022-12-07T08:22:30",
          "2022-12-07T12:07:30",
          "2022-12-07T12:22:30",
          "2022-12-07T12:37:30",
          "2022-12-07T12:52:30",
          "2022-12-07T13:07:30",
          "2022-12-07T13:22:30",
          "2022-12-07T13:37:30",
          "2022-12-07T13:52:30",
          "2022-12-07T14:07:30",
          "2022-12-07T14:22:30",
          "2022-12-07T14:37:30"
         ],
         "xaxis": "x2",
         "y": [
          0,
          0,
          0,
          0,
          0,
          0,
          0,
          0,
          0,
          0,
          0,
          0,
          0,
          0,
          0,
          0,
          0,
          0,
          0,
          0,
          0,
          0
         ],
         "yaxis": "y2"
        },
        {
         "marker": {
          "color": "black",
          "size": 10
         },
         "mode": "markers",
         "name": "Unknown Stops",
         "type": "scatter",
         "x": [
          "2022-12-07T05:52:30",
          "2022-12-07T06:07:30",
          "2022-12-07T06:22:30",
          "2022-12-07T06:37:30",
          "2022-12-07T06:52:30",
          "2022-12-07T07:07:30",
          "2022-12-07T07:22:30",
          "2022-12-07T07:37:30",
          "2022-12-07T07:52:30",
          "2022-12-07T08:07:30",
          "2022-12-07T08:22:30",
          "2022-12-07T12:07:30",
          "2022-12-07T12:22:30",
          "2022-12-07T12:37:30",
          "2022-12-07T12:52:30",
          "2022-12-07T13:07:30",
          "2022-12-07T13:22:30",
          "2022-12-07T13:37:30",
          "2022-12-07T13:52:30",
          "2022-12-07T14:07:30",
          "2022-12-07T14:22:30",
          "2022-12-07T14:37:30"
         ],
         "xaxis": "x3",
         "y": [
          "Running",
          "Running",
          "Running",
          "Running",
          "Running",
          "Affilatura utensile",
          "Running",
          "Running",
          "Running",
          "Running",
          "Running",
          "Running",
          "Running",
          "Running",
          "Running",
          "Running",
          "Sostituzione utensile",
          "Running",
          "Running",
          "Running",
          "Running",
          "Running"
         ],
         "yaxis": "y3"
        }
       ],
       "layout": {
        "annotations": [
         {
          "font": {
           "size": 16
          },
          "showarrow": false,
          "text": "Energy Consumption",
          "x": 0.5,
          "xanchor": "center",
          "xref": "paper",
          "y": 1,
          "yanchor": "bottom",
          "yref": "paper"
         },
         {
          "font": {
           "size": 16
          },
          "showarrow": false,
          "text": "Productions",
          "x": 0.5,
          "xanchor": "center",
          "xref": "paper",
          "y": 0.6466666666666667,
          "yanchor": "bottom",
          "yref": "paper"
         },
         {
          "font": {
           "size": 16
          },
          "showarrow": false,
          "text": "Stops",
          "x": 0.5,
          "xanchor": "center",
          "xref": "paper",
          "y": 0.29333333333333333,
          "yanchor": "bottom",
          "yref": "paper"
         }
        ],
        "height": 800,
        "template": {
         "data": {
          "bar": [
           {
            "error_x": {
             "color": "#2a3f5f"
            },
            "error_y": {
             "color": "#2a3f5f"
            },
            "marker": {
             "line": {
              "color": "#E5ECF6",
              "width": 0.5
             },
             "pattern": {
              "fillmode": "overlay",
              "size": 10,
              "solidity": 0.2
             }
            },
            "type": "bar"
           }
          ],
          "barpolar": [
           {
            "marker": {
             "line": {
              "color": "#E5ECF6",
              "width": 0.5
             },
             "pattern": {
              "fillmode": "overlay",
              "size": 10,
              "solidity": 0.2
             }
            },
            "type": "barpolar"
           }
          ],
          "carpet": [
           {
            "aaxis": {
             "endlinecolor": "#2a3f5f",
             "gridcolor": "white",
             "linecolor": "white",
             "minorgridcolor": "white",
             "startlinecolor": "#2a3f5f"
            },
            "baxis": {
             "endlinecolor": "#2a3f5f",
             "gridcolor": "white",
             "linecolor": "white",
             "minorgridcolor": "white",
             "startlinecolor": "#2a3f5f"
            },
            "type": "carpet"
           }
          ],
          "choropleth": [
           {
            "colorbar": {
             "outlinewidth": 0,
             "ticks": ""
            },
            "type": "choropleth"
           }
          ],
          "contour": [
           {
            "colorbar": {
             "outlinewidth": 0,
             "ticks": ""
            },
            "colorscale": [
             [
              0,
              "#0d0887"
             ],
             [
              0.1111111111111111,
              "#46039f"
             ],
             [
              0.2222222222222222,
              "#7201a8"
             ],
             [
              0.3333333333333333,
              "#9c179e"
             ],
             [
              0.4444444444444444,
              "#bd3786"
             ],
             [
              0.5555555555555556,
              "#d8576b"
             ],
             [
              0.6666666666666666,
              "#ed7953"
             ],
             [
              0.7777777777777778,
              "#fb9f3a"
             ],
             [
              0.8888888888888888,
              "#fdca26"
             ],
             [
              1,
              "#f0f921"
             ]
            ],
            "type": "contour"
           }
          ],
          "contourcarpet": [
           {
            "colorbar": {
             "outlinewidth": 0,
             "ticks": ""
            },
            "type": "contourcarpet"
           }
          ],
          "heatmap": [
           {
            "colorbar": {
             "outlinewidth": 0,
             "ticks": ""
            },
            "colorscale": [
             [
              0,
              "#0d0887"
             ],
             [
              0.1111111111111111,
              "#46039f"
             ],
             [
              0.2222222222222222,
              "#7201a8"
             ],
             [
              0.3333333333333333,
              "#9c179e"
             ],
             [
              0.4444444444444444,
              "#bd3786"
             ],
             [
              0.5555555555555556,
              "#d8576b"
             ],
             [
              0.6666666666666666,
              "#ed7953"
             ],
             [
              0.7777777777777778,
              "#fb9f3a"
             ],
             [
              0.8888888888888888,
              "#fdca26"
             ],
             [
              1,
              "#f0f921"
             ]
            ],
            "type": "heatmap"
           }
          ],
          "heatmapgl": [
           {
            "colorbar": {
             "outlinewidth": 0,
             "ticks": ""
            },
            "colorscale": [
             [
              0,
              "#0d0887"
             ],
             [
              0.1111111111111111,
              "#46039f"
             ],
             [
              0.2222222222222222,
              "#7201a8"
             ],
             [
              0.3333333333333333,
              "#9c179e"
             ],
             [
              0.4444444444444444,
              "#bd3786"
             ],
             [
              0.5555555555555556,
              "#d8576b"
             ],
             [
              0.6666666666666666,
              "#ed7953"
             ],
             [
              0.7777777777777778,
              "#fb9f3a"
             ],
             [
              0.8888888888888888,
              "#fdca26"
             ],
             [
              1,
              "#f0f921"
             ]
            ],
            "type": "heatmapgl"
           }
          ],
          "histogram": [
           {
            "marker": {
             "pattern": {
              "fillmode": "overlay",
              "size": 10,
              "solidity": 0.2
             }
            },
            "type": "histogram"
           }
          ],
          "histogram2d": [
           {
            "colorbar": {
             "outlinewidth": 0,
             "ticks": ""
            },
            "colorscale": [
             [
              0,
              "#0d0887"
             ],
             [
              0.1111111111111111,
              "#46039f"
             ],
             [
              0.2222222222222222,
              "#7201a8"
             ],
             [
              0.3333333333333333,
              "#9c179e"
             ],
             [
              0.4444444444444444,
              "#bd3786"
             ],
             [
              0.5555555555555556,
              "#d8576b"
             ],
             [
              0.6666666666666666,
              "#ed7953"
             ],
             [
              0.7777777777777778,
              "#fb9f3a"
             ],
             [
              0.8888888888888888,
              "#fdca26"
             ],
             [
              1,
              "#f0f921"
             ]
            ],
            "type": "histogram2d"
           }
          ],
          "histogram2dcontour": [
           {
            "colorbar": {
             "outlinewidth": 0,
             "ticks": ""
            },
            "colorscale": [
             [
              0,
              "#0d0887"
             ],
             [
              0.1111111111111111,
              "#46039f"
             ],
             [
              0.2222222222222222,
              "#7201a8"
             ],
             [
              0.3333333333333333,
              "#9c179e"
             ],
             [
              0.4444444444444444,
              "#bd3786"
             ],
             [
              0.5555555555555556,
              "#d8576b"
             ],
             [
              0.6666666666666666,
              "#ed7953"
             ],
             [
              0.7777777777777778,
              "#fb9f3a"
             ],
             [
              0.8888888888888888,
              "#fdca26"
             ],
             [
              1,
              "#f0f921"
             ]
            ],
            "type": "histogram2dcontour"
           }
          ],
          "mesh3d": [
           {
            "colorbar": {
             "outlinewidth": 0,
             "ticks": ""
            },
            "type": "mesh3d"
           }
          ],
          "parcoords": [
           {
            "line": {
             "colorbar": {
              "outlinewidth": 0,
              "ticks": ""
             }
            },
            "type": "parcoords"
           }
          ],
          "pie": [
           {
            "automargin": true,
            "type": "pie"
           }
          ],
          "scatter": [
           {
            "fillpattern": {
             "fillmode": "overlay",
             "size": 10,
             "solidity": 0.2
            },
            "type": "scatter"
           }
          ],
          "scatter3d": [
           {
            "line": {
             "colorbar": {
              "outlinewidth": 0,
              "ticks": ""
             }
            },
            "marker": {
             "colorbar": {
              "outlinewidth": 0,
              "ticks": ""
             }
            },
            "type": "scatter3d"
           }
          ],
          "scattercarpet": [
           {
            "marker": {
             "colorbar": {
              "outlinewidth": 0,
              "ticks": ""
             }
            },
            "type": "scattercarpet"
           }
          ],
          "scattergeo": [
           {
            "marker": {
             "colorbar": {
              "outlinewidth": 0,
              "ticks": ""
             }
            },
            "type": "scattergeo"
           }
          ],
          "scattergl": [
           {
            "marker": {
             "colorbar": {
              "outlinewidth": 0,
              "ticks": ""
             }
            },
            "type": "scattergl"
           }
          ],
          "scattermapbox": [
           {
            "marker": {
             "colorbar": {
              "outlinewidth": 0,
              "ticks": ""
             }
            },
            "type": "scattermapbox"
           }
          ],
          "scatterpolar": [
           {
            "marker": {
             "colorbar": {
              "outlinewidth": 0,
              "ticks": ""
             }
            },
            "type": "scatterpolar"
           }
          ],
          "scatterpolargl": [
           {
            "marker": {
             "colorbar": {
              "outlinewidth": 0,
              "ticks": ""
             }
            },
            "type": "scatterpolargl"
           }
          ],
          "scatterternary": [
           {
            "marker": {
             "colorbar": {
              "outlinewidth": 0,
              "ticks": ""
             }
            },
            "type": "scatterternary"
           }
          ],
          "surface": [
           {
            "colorbar": {
             "outlinewidth": 0,
             "ticks": ""
            },
            "colorscale": [
             [
              0,
              "#0d0887"
             ],
             [
              0.1111111111111111,
              "#46039f"
             ],
             [
              0.2222222222222222,
              "#7201a8"
             ],
             [
              0.3333333333333333,
              "#9c179e"
             ],
             [
              0.4444444444444444,
              "#bd3786"
             ],
             [
              0.5555555555555556,
              "#d8576b"
             ],
             [
              0.6666666666666666,
              "#ed7953"
             ],
             [
              0.7777777777777778,
              "#fb9f3a"
             ],
             [
              0.8888888888888888,
              "#fdca26"
             ],
             [
              1,
              "#f0f921"
             ]
            ],
            "type": "surface"
           }
          ],
          "table": [
           {
            "cells": {
             "fill": {
              "color": "#EBF0F8"
             },
             "line": {
              "color": "white"
             }
            },
            "header": {
             "fill": {
              "color": "#C8D4E3"
             },
             "line": {
              "color": "white"
             }
            },
            "type": "table"
           }
          ]
         },
         "layout": {
          "annotationdefaults": {
           "arrowcolor": "#2a3f5f",
           "arrowhead": 0,
           "arrowwidth": 1
          },
          "autotypenumbers": "strict",
          "coloraxis": {
           "colorbar": {
            "outlinewidth": 0,
            "ticks": ""
           }
          },
          "colorscale": {
           "diverging": [
            [
             0,
             "#8e0152"
            ],
            [
             0.1,
             "#c51b7d"
            ],
            [
             0.2,
             "#de77ae"
            ],
            [
             0.3,
             "#f1b6da"
            ],
            [
             0.4,
             "#fde0ef"
            ],
            [
             0.5,
             "#f7f7f7"
            ],
            [
             0.6,
             "#e6f5d0"
            ],
            [
             0.7,
             "#b8e186"
            ],
            [
             0.8,
             "#7fbc41"
            ],
            [
             0.9,
             "#4d9221"
            ],
            [
             1,
             "#276419"
            ]
           ],
           "sequential": [
            [
             0,
             "#0d0887"
            ],
            [
             0.1111111111111111,
             "#46039f"
            ],
            [
             0.2222222222222222,
             "#7201a8"
            ],
            [
             0.3333333333333333,
             "#9c179e"
            ],
            [
             0.4444444444444444,
             "#bd3786"
            ],
            [
             0.5555555555555556,
             "#d8576b"
            ],
            [
             0.6666666666666666,
             "#ed7953"
            ],
            [
             0.7777777777777778,
             "#fb9f3a"
            ],
            [
             0.8888888888888888,
             "#fdca26"
            ],
            [
             1,
             "#f0f921"
            ]
           ],
           "sequentialminus": [
            [
             0,
             "#0d0887"
            ],
            [
             0.1111111111111111,
             "#46039f"
            ],
            [
             0.2222222222222222,
             "#7201a8"
            ],
            [
             0.3333333333333333,
             "#9c179e"
            ],
            [
             0.4444444444444444,
             "#bd3786"
            ],
            [
             0.5555555555555556,
             "#d8576b"
            ],
            [
             0.6666666666666666,
             "#ed7953"
            ],
            [
             0.7777777777777778,
             "#fb9f3a"
            ],
            [
             0.8888888888888888,
             "#fdca26"
            ],
            [
             1,
             "#f0f921"
            ]
           ]
          },
          "colorway": [
           "#636efa",
           "#EF553B",
           "#00cc96",
           "#ab63fa",
           "#FFA15A",
           "#19d3f3",
           "#FF6692",
           "#B6E880",
           "#FF97FF",
           "#FECB52"
          ],
          "font": {
           "color": "#2a3f5f"
          },
          "geo": {
           "bgcolor": "white",
           "lakecolor": "white",
           "landcolor": "#E5ECF6",
           "showlakes": true,
           "showland": true,
           "subunitcolor": "white"
          },
          "hoverlabel": {
           "align": "left"
          },
          "hovermode": "closest",
          "mapbox": {
           "style": "light"
          },
          "paper_bgcolor": "white",
          "plot_bgcolor": "#E5ECF6",
          "polar": {
           "angularaxis": {
            "gridcolor": "white",
            "linecolor": "white",
            "ticks": ""
           },
           "bgcolor": "#E5ECF6",
           "radialaxis": {
            "gridcolor": "white",
            "linecolor": "white",
            "ticks": ""
           }
          },
          "scene": {
           "xaxis": {
            "backgroundcolor": "#E5ECF6",
            "gridcolor": "white",
            "gridwidth": 2,
            "linecolor": "white",
            "showbackground": true,
            "ticks": "",
            "zerolinecolor": "white"
           },
           "yaxis": {
            "backgroundcolor": "#E5ECF6",
            "gridcolor": "white",
            "gridwidth": 2,
            "linecolor": "white",
            "showbackground": true,
            "ticks": "",
            "zerolinecolor": "white"
           },
           "zaxis": {
            "backgroundcolor": "#E5ECF6",
            "gridcolor": "white",
            "gridwidth": 2,
            "linecolor": "white",
            "showbackground": true,
            "ticks": "",
            "zerolinecolor": "white"
           }
          },
          "shapedefaults": {
           "line": {
            "color": "#2a3f5f"
           }
          },
          "ternary": {
           "aaxis": {
            "gridcolor": "white",
            "linecolor": "white",
            "ticks": ""
           },
           "baxis": {
            "gridcolor": "white",
            "linecolor": "white",
            "ticks": ""
           },
           "bgcolor": "#E5ECF6",
           "caxis": {
            "gridcolor": "white",
            "linecolor": "white",
            "ticks": ""
           }
          },
          "title": {
           "x": 0.05
          },
          "xaxis": {
           "automargin": true,
           "gridcolor": "white",
           "linecolor": "white",
           "ticks": "",
           "title": {
            "standoff": 15
           },
           "zerolinecolor": "white",
           "zerolinewidth": 2
          },
          "yaxis": {
           "automargin": true,
           "gridcolor": "white",
           "linecolor": "white",
           "ticks": "",
           "title": {
            "standoff": 15
           },
           "zerolinecolor": "white",
           "zerolinewidth": 2
          }
         }
        },
        "title": {
         "text": "Dataset machine 301"
        },
        "width": 1280,
        "xaxis": {
         "anchor": "y",
         "domain": [
          0,
          1
         ],
         "matches": "x3",
         "showticklabels": false
        },
        "xaxis2": {
         "anchor": "y2",
         "domain": [
          0,
          1
         ],
         "matches": "x3",
         "showticklabels": false
        },
        "xaxis3": {
         "anchor": "y3",
         "domain": [
          0,
          1
         ]
        },
        "yaxis": {
         "anchor": "x",
         "domain": [
          0.7066666666666667,
          1
         ]
        },
        "yaxis2": {
         "anchor": "x2",
         "domain": [
          0.35333333333333333,
          0.6466666666666667
         ]
        },
        "yaxis3": {
         "anchor": "x3",
         "domain": [
          0,
          0.29333333333333333
         ]
        }
       }
      }
     },
     "metadata": {},
     "output_type": "display_data"
    },
    {
     "data": {
      "application/vnd.plotly.v1+json": {
       "config": {
        "plotlyServerURL": "https://plot.ly"
       },
       "data": [
        {
         "marker": {
          "color": "blue",
          "size": 10
         },
         "mode": "markers+lines",
         "name": "PR8 Energy",
         "text": [
          1080.1,
          1070.1,
          1107,
          936.2,
          1436.2,
          1977.1,
          1959.9,
          1722,
          2015.3,
          2036.2,
          2015.5
         ],
         "type": "scatter",
         "x": [
          "2022-11-28T09:37:30",
          "2022-11-28T09:52:30",
          "2022-11-28T10:07:30",
          "2022-11-28T10:22:30",
          "2022-11-28T10:37:30",
          "2022-11-28T10:52:30",
          "2022-11-28T11:07:30",
          "2022-11-28T11:22:30",
          "2022-11-28T11:37:30",
          "2022-11-28T11:52:30",
          "2022-11-28T12:07:30"
         ],
         "xaxis": "x",
         "y": [
          1080.1,
          1070.1,
          1107,
          936.2,
          1436.2,
          1977.1,
          1959.9,
          1722,
          2015.3,
          2036.2,
          2015.5
         ],
         "yaxis": "y"
        },
        {
         "marker": {
          "color": "blue",
          "size": 10
         },
         "mode": "markers+lines",
         "name": "PR8 Productions",
         "text": [
          7.641509433962264,
          7.641509433962264,
          10.12264150943396,
          6.323529411764706,
          5.176470588235294,
          1,
          0,
          0,
          0,
          0,
          0
         ],
         "type": "scatter",
         "x": [
          "2022-11-28T09:37:30",
          "2022-11-28T09:52:30",
          "2022-11-28T10:07:30",
          "2022-11-28T10:22:30",
          "2022-11-28T10:37:30",
          "2022-11-28T10:52:30",
          "2022-11-28T11:07:30",
          "2022-11-28T11:22:30",
          "2022-11-28T11:37:30",
          "2022-11-28T11:52:30",
          "2022-11-28T12:07:30"
         ],
         "xaxis": "x2",
         "y": [
          7.641509433962264,
          7.641509433962264,
          10.12264150943396,
          6.323529411764706,
          5.176470588235294,
          1,
          0,
          0,
          0,
          0,
          0
         ],
         "yaxis": "y2"
        },
        {
         "marker": {
          "color": "blue",
          "size": 10
         },
         "mode": "markers",
         "name": "PR8 Stops",
         "type": "scatter",
         "x": [
          "2022-11-28T09:37:30",
          "2022-11-28T09:52:30",
          "2022-11-28T10:07:30",
          "2022-11-28T10:22:30",
          "2022-11-28T10:37:30",
          "2022-11-28T10:52:30",
          "2022-11-28T11:07:30",
          "2022-11-28T11:22:30",
          "2022-11-28T11:37:30",
          "2022-11-28T11:52:30",
          "2022-11-28T12:07:30"
         ],
         "xaxis": "x3",
         "y": [
          "Running",
          "Running",
          "Running",
          "Running",
          "Running",
          "Manutenzione ordinaria",
          "Running",
          "Running",
          "Running",
          "Running",
          "Running"
         ],
         "yaxis": "y3"
        },
        {
         "marker": {
          "color": "black",
          "size": 10
         },
         "mode": "markers+lines",
         "name": "Unknown Energy",
         "text": [
          762,
          762.3,
          773.8,
          0,
          0,
          0,
          1357.8,
          1057.5,
          2029.1,
          2034,
          2003.6,
          1998.1,
          2013.9,
          1987.5,
          1913.8,
          1508.9,
          1960.6,
          1160.8,
          1971.7,
          1940.2,
          1567.7,
          1474.4,
          1488.4,
          1999,
          1971,
          2004.4,
          1969.7,
          1991.5,
          770.1,
          2014.6,
          1706.7,
          795.6,
          779.6,
          888.7,
          0,
          0,
          0,
          0,
          0,
          772.3,
          1078.7,
          1987.4,
          1958.6,
          1660.4,
          1995.1,
          2007.8,
          1976.7,
          1997.5,
          1965.8,
          2007.2,
          1592.4,
          1869.4,
          1993.4,
          1215.2,
          1111.8,
          1970.9,
          1726.5,
          1988.2,
          2019.2,
          1972.9,
          1981.4,
          1981.7,
          1994.5,
          1979.8,
          1307.8,
          2030.3,
          1997.3,
          0,
          0,
          0,
          0.5,
          0.5,
          0.5,
          0.4,
          0.5,
          770.2,
          1099.6,
          1092.3,
          1439.1,
          2016.8,
          1978.7,
          1997.5,
          1970.7,
          1964,
          1952.6,
          1949.4
         ],
         "type": "scatter",
         "x": [
          "2022-11-28T22:22:30",
          "2022-11-28T22:37:30",
          "2022-11-28T22:52:30",
          "2022-11-28T23:07:30",
          "2022-11-28T23:22:30",
          "2022-11-29T18:52:30",
          "2022-11-30T23:52:30",
          "2022-12-01T00:07:30",
          "2022-12-01T00:22:30",
          "2022-12-01T00:37:30",
          "2022-12-01T00:52:30",
          "2022-12-01T01:07:30",
          "2022-12-01T01:22:30",
          "2022-12-01T01:37:30",
          "2022-12-01T01:52:30",
          "2022-12-01T02:07:30",
          "2022-12-01T02:22:30",
          "2022-12-01T14:07:30",
          "2022-12-01T14:22:30",
          "2022-12-01T14:37:30",
          "2022-12-01T14:52:30",
          "2022-12-01T15:07:30",
          "2022-12-01T15:22:30",
          "2022-12-01T15:37:30",
          "2022-12-01T15:52:30",
          "2022-12-01T16:07:30",
          "2022-12-01T16:22:30",
          "2022-12-01T16:37:30",
          "2022-12-01T20:22:30",
          "2022-12-01T20:37:30",
          "2022-12-01T20:52:30",
          "2022-12-01T21:07:30",
          "2022-12-01T21:22:30",
          "2022-12-01T21:37:30",
          "2022-12-01T21:52:30",
          "2022-12-01T22:07:30",
          "2022-12-01T22:22:30",
          "2022-12-01T22:37:30",
          "2022-12-01T22:52:30",
          "2022-12-02T03:37:30",
          "2022-12-02T03:52:30",
          "2022-12-02T04:07:30",
          "2022-12-02T04:22:30",
          "2022-12-02T04:37:30",
          "2022-12-02T04:52:30",
          "2022-12-02T05:07:30",
          "2022-12-02T05:22:30",
          "2022-12-02T05:37:30",
          "2022-12-02T05:52:30",
          "2022-12-02T06:07:30",
          "2022-12-02T17:52:30",
          "2022-12-02T18:07:30",
          "2022-12-02T18:22:30",
          "2022-12-02T18:37:30",
          "2022-12-02T18:52:30",
          "2022-12-02T19:07:30",
          "2022-12-02T19:22:30",
          "2022-12-02T19:37:30",
          "2022-12-02T19:52:30",
          "2022-12-02T20:07:30",
          "2022-12-02T20:22:30",
          "2022-12-02T20:37:30",
          "2022-12-02T20:52:30",
          "2022-12-02T21:07:30",
          "2022-12-02T22:22:30",
          "2022-12-02T22:37:30",
          "2022-12-02T22:52:30",
          "2022-12-02T23:07:30",
          "2022-12-02T23:22:30",
          "2022-12-03T03:22:30",
          "2022-12-04T23:52:30",
          "2022-12-05T00:07:30",
          "2022-12-05T00:22:30",
          "2022-12-05T00:37:30",
          "2022-12-05T00:52:30",
          "2022-12-05T10:22:30",
          "2022-12-05T10:37:30",
          "2022-12-05T10:52:30",
          "2022-12-05T11:07:30",
          "2022-12-05T11:22:30",
          "2022-12-05T11:37:30",
          "2022-12-05T11:52:30",
          "2022-12-05T12:07:30",
          "2022-12-05T12:22:30",
          "2022-12-05T12:37:30",
          "2022-12-05T12:52:30"
         ],
         "xaxis": "x",
         "y": [
          762,
          762.3,
          773.8,
          0,
          0,
          0,
          1357.8,
          1057.5,
          2029.1,
          2034,
          2003.6,
          1998.1,
          2013.9,
          1987.5,
          1913.8,
          1508.9,
          1960.6,
          1160.8,
          1971.7,
          1940.2,
          1567.7,
          1474.4,
          1488.4,
          1999,
          1971,
          2004.4,
          1969.7,
          1991.5,
          770.1,
          2014.6,
          1706.7,
          795.6,
          779.6,
          888.7,
          0,
          0,
          0,
          0,
          0,
          772.3,
          1078.7,
          1987.4,
          1958.6,
          1660.4,
          1995.1,
          2007.8,
          1976.7,
          1997.5,
          1965.8,
          2007.2,
          1592.4,
          1869.4,
          1993.4,
          1215.2,
          1111.8,
          1970.9,
          1726.5,
          1988.2,
          2019.2,
          1972.9,
          1981.4,
          1981.7,
          1994.5,
          1979.8,
          1307.8,
          2030.3,
          1997.3,
          0,
          0,
          0,
          0.5,
          0.5,
          0.5,
          0.4,
          0.5,
          770.2,
          1099.6,
          1092.3,
          1439.1,
          2016.8,
          1978.7,
          1997.5,
          1970.7,
          1964,
          1952.6,
          1949.4
         ],
         "yaxis": "y"
        },
        {
         "marker": {
          "color": "black",
          "size": 10
         },
         "mode": "markers+lines",
         "name": "Unknown Productions",
         "text": [
          0,
          0,
          0,
          0,
          0,
          0,
          0,
          0,
          0,
          0,
          0,
          0,
          0,
          0,
          0,
          0,
          0,
          0,
          0,
          0,
          0,
          0,
          0,
          0,
          0,
          0,
          0,
          0,
          0,
          0,
          0,
          0,
          0,
          0,
          0,
          0,
          0,
          0,
          0,
          0,
          0,
          0,
          0,
          0,
          0,
          0,
          0,
          0,
          0,
          0,
          0,
          0,
          0,
          0,
          0,
          0,
          0,
          0,
          0,
          0,
          0,
          0,
          0,
          0,
          0,
          0,
          0,
          0,
          0,
          0,
          0,
          0,
          0,
          0,
          0,
          0,
          0,
          0,
          0,
          0,
          0,
          0,
          0,
          0,
          0,
          0
         ],
         "type": "scatter",
         "x": [
          "2022-11-28T22:22:30",
          "2022-11-28T22:37:30",
          "2022-11-28T22:52:30",
          "2022-11-28T23:07:30",
          "2022-11-28T23:22:30",
          "2022-11-29T18:52:30",
          "2022-11-30T23:52:30",
          "2022-12-01T00:07:30",
          "2022-12-01T00:22:30",
          "2022-12-01T00:37:30",
          "2022-12-01T00:52:30",
          "2022-12-01T01:07:30",
          "2022-12-01T01:22:30",
          "2022-12-01T01:37:30",
          "2022-12-01T01:52:30",
          "2022-12-01T02:07:30",
          "2022-12-01T02:22:30",
          "2022-12-01T14:07:30",
          "2022-12-01T14:22:30",
          "2022-12-01T14:37:30",
          "2022-12-01T14:52:30",
          "2022-12-01T15:07:30",
          "2022-12-01T15:22:30",
          "2022-12-01T15:37:30",
          "2022-12-01T15:52:30",
          "2022-12-01T16:07:30",
          "2022-12-01T16:22:30",
          "2022-12-01T16:37:30",
          "2022-12-01T20:22:30",
          "2022-12-01T20:37:30",
          "2022-12-01T20:52:30",
          "2022-12-01T21:07:30",
          "2022-12-01T21:22:30",
          "2022-12-01T21:37:30",
          "2022-12-01T21:52:30",
          "2022-12-01T22:07:30",
          "2022-12-01T22:22:30",
          "2022-12-01T22:37:30",
          "2022-12-01T22:52:30",
          "2022-12-02T03:37:30",
          "2022-12-02T03:52:30",
          "2022-12-02T04:07:30",
          "2022-12-02T04:22:30",
          "2022-12-02T04:37:30",
          "2022-12-02T04:52:30",
          "2022-12-02T05:07:30",
          "2022-12-02T05:22:30",
          "2022-12-02T05:37:30",
          "2022-12-02T05:52:30",
          "2022-12-02T06:07:30",
          "2022-12-02T17:52:30",
          "2022-12-02T18:07:30",
          "2022-12-02T18:22:30",
          "2022-12-02T18:37:30",
          "2022-12-02T18:52:30",
          "2022-12-02T19:07:30",
          "2022-12-02T19:22:30",
          "2022-12-02T19:37:30",
          "2022-12-02T19:52:30",
          "2022-12-02T20:07:30",
          "2022-12-02T20:22:30",
          "2022-12-02T20:37:30",
          "2022-12-02T20:52:30",
          "2022-12-02T21:07:30",
          "2022-12-02T22:22:30",
          "2022-12-02T22:37:30",
          "2022-12-02T22:52:30",
          "2022-12-02T23:07:30",
          "2022-12-02T23:22:30",
          "2022-12-03T03:22:30",
          "2022-12-04T23:52:30",
          "2022-12-05T00:07:30",
          "2022-12-05T00:22:30",
          "2022-12-05T00:37:30",
          "2022-12-05T00:52:30",
          "2022-12-05T10:22:30",
          "2022-12-05T10:37:30",
          "2022-12-05T10:52:30",
          "2022-12-05T11:07:30",
          "2022-12-05T11:22:30",
          "2022-12-05T11:37:30",
          "2022-12-05T11:52:30",
          "2022-12-05T12:07:30",
          "2022-12-05T12:22:30",
          "2022-12-05T12:37:30",
          "2022-12-05T12:52:30"
         ],
         "xaxis": "x2",
         "y": [
          0,
          0,
          0,
          0,
          0,
          0,
          0,
          0,
          0,
          0,
          0,
          0,
          0,
          0,
          0,
          0,
          0,
          0,
          0,
          0,
          0,
          0,
          0,
          0,
          0,
          0,
          0,
          0,
          0,
          0,
          0,
          0,
          0,
          0,
          0,
          0,
          0,
          0,
          0,
          0,
          0,
          0,
          0,
          0,
          0,
          0,
          0,
          0,
          0,
          0,
          0,
          0,
          0,
          0,
          0,
          0,
          0,
          0,
          0,
          0,
          0,
          0,
          0,
          0,
          0,
          0,
          0,
          0,
          0,
          0,
          0,
          0,
          0,
          0,
          0,
          0,
          0,
          0,
          0,
          0,
          0,
          0,
          0,
          0,
          0,
          0
         ],
         "yaxis": "y2"
        },
        {
         "marker": {
          "color": "black",
          "size": 10
         },
         "mode": "markers",
         "name": "Unknown Stops",
         "type": "scatter",
         "x": [
          "2022-11-28T22:22:30",
          "2022-11-28T22:37:30",
          "2022-11-28T22:52:30",
          "2022-11-28T23:07:30",
          "2022-11-28T23:22:30",
          "2022-11-29T18:52:30",
          "2022-11-30T23:52:30",
          "2022-12-01T00:07:30",
          "2022-12-01T00:22:30",
          "2022-12-01T00:37:30",
          "2022-12-01T00:52:30",
          "2022-12-01T01:07:30",
          "2022-12-01T01:22:30",
          "2022-12-01T01:37:30",
          "2022-12-01T01:52:30",
          "2022-12-01T02:07:30",
          "2022-12-01T02:22:30",
          "2022-12-01T14:07:30",
          "2022-12-01T14:22:30",
          "2022-12-01T14:37:30",
          "2022-12-01T14:52:30",
          "2022-12-01T15:07:30",
          "2022-12-01T15:22:30",
          "2022-12-01T15:37:30",
          "2022-12-01T15:52:30",
          "2022-12-01T16:07:30",
          "2022-12-01T16:22:30",
          "2022-12-01T16:37:30",
          "2022-12-01T20:22:30",
          "2022-12-01T20:37:30",
          "2022-12-01T20:52:30",
          "2022-12-01T21:07:30",
          "2022-12-01T21:22:30",
          "2022-12-01T21:37:30",
          "2022-12-01T21:52:30",
          "2022-12-01T22:07:30",
          "2022-12-01T22:22:30",
          "2022-12-01T22:37:30",
          "2022-12-01T22:52:30",
          "2022-12-02T03:37:30",
          "2022-12-02T03:52:30",
          "2022-12-02T04:07:30",
          "2022-12-02T04:22:30",
          "2022-12-02T04:37:30",
          "2022-12-02T04:52:30",
          "2022-12-02T05:07:30",
          "2022-12-02T05:22:30",
          "2022-12-02T05:37:30",
          "2022-12-02T05:52:30",
          "2022-12-02T06:07:30",
          "2022-12-02T17:52:30",
          "2022-12-02T18:07:30",
          "2022-12-02T18:22:30",
          "2022-12-02T18:37:30",
          "2022-12-02T18:52:30",
          "2022-12-02T19:07:30",
          "2022-12-02T19:22:30",
          "2022-12-02T19:37:30",
          "2022-12-02T19:52:30",
          "2022-12-02T20:07:30",
          "2022-12-02T20:22:30",
          "2022-12-02T20:37:30",
          "2022-12-02T20:52:30",
          "2022-12-02T21:07:30",
          "2022-12-02T22:22:30",
          "2022-12-02T22:37:30",
          "2022-12-02T22:52:30",
          "2022-12-02T23:07:30",
          "2022-12-02T23:22:30",
          "2022-12-03T03:22:30",
          "2022-12-04T23:52:30",
          "2022-12-05T00:07:30",
          "2022-12-05T00:22:30",
          "2022-12-05T00:37:30",
          "2022-12-05T00:52:30",
          "2022-12-05T10:22:30",
          "2022-12-05T10:37:30",
          "2022-12-05T10:52:30",
          "2022-12-05T11:07:30",
          "2022-12-05T11:22:30",
          "2022-12-05T11:37:30",
          "2022-12-05T11:52:30",
          "2022-12-05T12:07:30",
          "2022-12-05T12:22:30",
          "2022-12-05T12:37:30",
          "2022-12-05T12:52:30"
         ],
         "xaxis": "x3",
         "y": [
          "Running",
          "Running",
          "Running",
          "Running",
          "Running",
          "Affilatura utensile",
          "Running",
          "Running",
          "Running",
          "Running",
          "Running",
          "Sostituzione utensile",
          "Running",
          "Running",
          "Running",
          "Running",
          "Running",
          "Running",
          "Running",
          "Running",
          "Running",
          "Running",
          "Affilatura utensile",
          "Running",
          "Running",
          "Running",
          "Running",
          "Running",
          "Running",
          "Running",
          "Running",
          "Running",
          "Running",
          "Affilatura utensile",
          "Running",
          "Running",
          "Running",
          "Running",
          "Running",
          "Running",
          "Running",
          "Running",
          "Running",
          "Running",
          "Sostituzione utensile",
          "Running",
          "Running",
          "Running",
          "Running",
          "Running",
          "Running",
          "Running",
          "Running",
          "Running",
          "Running",
          "Affilatura utensile",
          "Running",
          "Running",
          "Affilatura utensile",
          "Running",
          "Running",
          "Running",
          "Running",
          "Running",
          "Running",
          "Running",
          "Running",
          "Running",
          "Running",
          "Sostituzione utensile",
          "Running",
          "Running",
          "Running",
          "Running",
          "Running",
          "Running",
          "Running",
          "Running",
          "Running",
          "Running",
          "Affilatura utensile",
          "Running",
          "Running",
          "Running",
          "Running",
          "Running"
         ],
         "yaxis": "y3"
        }
       ],
       "layout": {
        "annotations": [
         {
          "font": {
           "size": 16
          },
          "showarrow": false,
          "text": "Energy Consumption",
          "x": 0.5,
          "xanchor": "center",
          "xref": "paper",
          "y": 1,
          "yanchor": "bottom",
          "yref": "paper"
         },
         {
          "font": {
           "size": 16
          },
          "showarrow": false,
          "text": "Productions",
          "x": 0.5,
          "xanchor": "center",
          "xref": "paper",
          "y": 0.6466666666666667,
          "yanchor": "bottom",
          "yref": "paper"
         },
         {
          "font": {
           "size": 16
          },
          "showarrow": false,
          "text": "Stops",
          "x": 0.5,
          "xanchor": "center",
          "xref": "paper",
          "y": 0.29333333333333333,
          "yanchor": "bottom",
          "yref": "paper"
         }
        ],
        "height": 800,
        "template": {
         "data": {
          "bar": [
           {
            "error_x": {
             "color": "#2a3f5f"
            },
            "error_y": {
             "color": "#2a3f5f"
            },
            "marker": {
             "line": {
              "color": "#E5ECF6",
              "width": 0.5
             },
             "pattern": {
              "fillmode": "overlay",
              "size": 10,
              "solidity": 0.2
             }
            },
            "type": "bar"
           }
          ],
          "barpolar": [
           {
            "marker": {
             "line": {
              "color": "#E5ECF6",
              "width": 0.5
             },
             "pattern": {
              "fillmode": "overlay",
              "size": 10,
              "solidity": 0.2
             }
            },
            "type": "barpolar"
           }
          ],
          "carpet": [
           {
            "aaxis": {
             "endlinecolor": "#2a3f5f",
             "gridcolor": "white",
             "linecolor": "white",
             "minorgridcolor": "white",
             "startlinecolor": "#2a3f5f"
            },
            "baxis": {
             "endlinecolor": "#2a3f5f",
             "gridcolor": "white",
             "linecolor": "white",
             "minorgridcolor": "white",
             "startlinecolor": "#2a3f5f"
            },
            "type": "carpet"
           }
          ],
          "choropleth": [
           {
            "colorbar": {
             "outlinewidth": 0,
             "ticks": ""
            },
            "type": "choropleth"
           }
          ],
          "contour": [
           {
            "colorbar": {
             "outlinewidth": 0,
             "ticks": ""
            },
            "colorscale": [
             [
              0,
              "#0d0887"
             ],
             [
              0.1111111111111111,
              "#46039f"
             ],
             [
              0.2222222222222222,
              "#7201a8"
             ],
             [
              0.3333333333333333,
              "#9c179e"
             ],
             [
              0.4444444444444444,
              "#bd3786"
             ],
             [
              0.5555555555555556,
              "#d8576b"
             ],
             [
              0.6666666666666666,
              "#ed7953"
             ],
             [
              0.7777777777777778,
              "#fb9f3a"
             ],
             [
              0.8888888888888888,
              "#fdca26"
             ],
             [
              1,
              "#f0f921"
             ]
            ],
            "type": "contour"
           }
          ],
          "contourcarpet": [
           {
            "colorbar": {
             "outlinewidth": 0,
             "ticks": ""
            },
            "type": "contourcarpet"
           }
          ],
          "heatmap": [
           {
            "colorbar": {
             "outlinewidth": 0,
             "ticks": ""
            },
            "colorscale": [
             [
              0,
              "#0d0887"
             ],
             [
              0.1111111111111111,
              "#46039f"
             ],
             [
              0.2222222222222222,
              "#7201a8"
             ],
             [
              0.3333333333333333,
              "#9c179e"
             ],
             [
              0.4444444444444444,
              "#bd3786"
             ],
             [
              0.5555555555555556,
              "#d8576b"
             ],
             [
              0.6666666666666666,
              "#ed7953"
             ],
             [
              0.7777777777777778,
              "#fb9f3a"
             ],
             [
              0.8888888888888888,
              "#fdca26"
             ],
             [
              1,
              "#f0f921"
             ]
            ],
            "type": "heatmap"
           }
          ],
          "heatmapgl": [
           {
            "colorbar": {
             "outlinewidth": 0,
             "ticks": ""
            },
            "colorscale": [
             [
              0,
              "#0d0887"
             ],
             [
              0.1111111111111111,
              "#46039f"
             ],
             [
              0.2222222222222222,
              "#7201a8"
             ],
             [
              0.3333333333333333,
              "#9c179e"
             ],
             [
              0.4444444444444444,
              "#bd3786"
             ],
             [
              0.5555555555555556,
              "#d8576b"
             ],
             [
              0.6666666666666666,
              "#ed7953"
             ],
             [
              0.7777777777777778,
              "#fb9f3a"
             ],
             [
              0.8888888888888888,
              "#fdca26"
             ],
             [
              1,
              "#f0f921"
             ]
            ],
            "type": "heatmapgl"
           }
          ],
          "histogram": [
           {
            "marker": {
             "pattern": {
              "fillmode": "overlay",
              "size": 10,
              "solidity": 0.2
             }
            },
            "type": "histogram"
           }
          ],
          "histogram2d": [
           {
            "colorbar": {
             "outlinewidth": 0,
             "ticks": ""
            },
            "colorscale": [
             [
              0,
              "#0d0887"
             ],
             [
              0.1111111111111111,
              "#46039f"
             ],
             [
              0.2222222222222222,
              "#7201a8"
             ],
             [
              0.3333333333333333,
              "#9c179e"
             ],
             [
              0.4444444444444444,
              "#bd3786"
             ],
             [
              0.5555555555555556,
              "#d8576b"
             ],
             [
              0.6666666666666666,
              "#ed7953"
             ],
             [
              0.7777777777777778,
              "#fb9f3a"
             ],
             [
              0.8888888888888888,
              "#fdca26"
             ],
             [
              1,
              "#f0f921"
             ]
            ],
            "type": "histogram2d"
           }
          ],
          "histogram2dcontour": [
           {
            "colorbar": {
             "outlinewidth": 0,
             "ticks": ""
            },
            "colorscale": [
             [
              0,
              "#0d0887"
             ],
             [
              0.1111111111111111,
              "#46039f"
             ],
             [
              0.2222222222222222,
              "#7201a8"
             ],
             [
              0.3333333333333333,
              "#9c179e"
             ],
             [
              0.4444444444444444,
              "#bd3786"
             ],
             [
              0.5555555555555556,
              "#d8576b"
             ],
             [
              0.6666666666666666,
              "#ed7953"
             ],
             [
              0.7777777777777778,
              "#fb9f3a"
             ],
             [
              0.8888888888888888,
              "#fdca26"
             ],
             [
              1,
              "#f0f921"
             ]
            ],
            "type": "histogram2dcontour"
           }
          ],
          "mesh3d": [
           {
            "colorbar": {
             "outlinewidth": 0,
             "ticks": ""
            },
            "type": "mesh3d"
           }
          ],
          "parcoords": [
           {
            "line": {
             "colorbar": {
              "outlinewidth": 0,
              "ticks": ""
             }
            },
            "type": "parcoords"
           }
          ],
          "pie": [
           {
            "automargin": true,
            "type": "pie"
           }
          ],
          "scatter": [
           {
            "fillpattern": {
             "fillmode": "overlay",
             "size": 10,
             "solidity": 0.2
            },
            "type": "scatter"
           }
          ],
          "scatter3d": [
           {
            "line": {
             "colorbar": {
              "outlinewidth": 0,
              "ticks": ""
             }
            },
            "marker": {
             "colorbar": {
              "outlinewidth": 0,
              "ticks": ""
             }
            },
            "type": "scatter3d"
           }
          ],
          "scattercarpet": [
           {
            "marker": {
             "colorbar": {
              "outlinewidth": 0,
              "ticks": ""
             }
            },
            "type": "scattercarpet"
           }
          ],
          "scattergeo": [
           {
            "marker": {
             "colorbar": {
              "outlinewidth": 0,
              "ticks": ""
             }
            },
            "type": "scattergeo"
           }
          ],
          "scattergl": [
           {
            "marker": {
             "colorbar": {
              "outlinewidth": 0,
              "ticks": ""
             }
            },
            "type": "scattergl"
           }
          ],
          "scattermapbox": [
           {
            "marker": {
             "colorbar": {
              "outlinewidth": 0,
              "ticks": ""
             }
            },
            "type": "scattermapbox"
           }
          ],
          "scatterpolar": [
           {
            "marker": {
             "colorbar": {
              "outlinewidth": 0,
              "ticks": ""
             }
            },
            "type": "scatterpolar"
           }
          ],
          "scatterpolargl": [
           {
            "marker": {
             "colorbar": {
              "outlinewidth": 0,
              "ticks": ""
             }
            },
            "type": "scatterpolargl"
           }
          ],
          "scatterternary": [
           {
            "marker": {
             "colorbar": {
              "outlinewidth": 0,
              "ticks": ""
             }
            },
            "type": "scatterternary"
           }
          ],
          "surface": [
           {
            "colorbar": {
             "outlinewidth": 0,
             "ticks": ""
            },
            "colorscale": [
             [
              0,
              "#0d0887"
             ],
             [
              0.1111111111111111,
              "#46039f"
             ],
             [
              0.2222222222222222,
              "#7201a8"
             ],
             [
              0.3333333333333333,
              "#9c179e"
             ],
             [
              0.4444444444444444,
              "#bd3786"
             ],
             [
              0.5555555555555556,
              "#d8576b"
             ],
             [
              0.6666666666666666,
              "#ed7953"
             ],
             [
              0.7777777777777778,
              "#fb9f3a"
             ],
             [
              0.8888888888888888,
              "#fdca26"
             ],
             [
              1,
              "#f0f921"
             ]
            ],
            "type": "surface"
           }
          ],
          "table": [
           {
            "cells": {
             "fill": {
              "color": "#EBF0F8"
             },
             "line": {
              "color": "white"
             }
            },
            "header": {
             "fill": {
              "color": "#C8D4E3"
             },
             "line": {
              "color": "white"
             }
            },
            "type": "table"
           }
          ]
         },
         "layout": {
          "annotationdefaults": {
           "arrowcolor": "#2a3f5f",
           "arrowhead": 0,
           "arrowwidth": 1
          },
          "autotypenumbers": "strict",
          "coloraxis": {
           "colorbar": {
            "outlinewidth": 0,
            "ticks": ""
           }
          },
          "colorscale": {
           "diverging": [
            [
             0,
             "#8e0152"
            ],
            [
             0.1,
             "#c51b7d"
            ],
            [
             0.2,
             "#de77ae"
            ],
            [
             0.3,
             "#f1b6da"
            ],
            [
             0.4,
             "#fde0ef"
            ],
            [
             0.5,
             "#f7f7f7"
            ],
            [
             0.6,
             "#e6f5d0"
            ],
            [
             0.7,
             "#b8e186"
            ],
            [
             0.8,
             "#7fbc41"
            ],
            [
             0.9,
             "#4d9221"
            ],
            [
             1,
             "#276419"
            ]
           ],
           "sequential": [
            [
             0,
             "#0d0887"
            ],
            [
             0.1111111111111111,
             "#46039f"
            ],
            [
             0.2222222222222222,
             "#7201a8"
            ],
            [
             0.3333333333333333,
             "#9c179e"
            ],
            [
             0.4444444444444444,
             "#bd3786"
            ],
            [
             0.5555555555555556,
             "#d8576b"
            ],
            [
             0.6666666666666666,
             "#ed7953"
            ],
            [
             0.7777777777777778,
             "#fb9f3a"
            ],
            [
             0.8888888888888888,
             "#fdca26"
            ],
            [
             1,
             "#f0f921"
            ]
           ],
           "sequentialminus": [
            [
             0,
             "#0d0887"
            ],
            [
             0.1111111111111111,
             "#46039f"
            ],
            [
             0.2222222222222222,
             "#7201a8"
            ],
            [
             0.3333333333333333,
             "#9c179e"
            ],
            [
             0.4444444444444444,
             "#bd3786"
            ],
            [
             0.5555555555555556,
             "#d8576b"
            ],
            [
             0.6666666666666666,
             "#ed7953"
            ],
            [
             0.7777777777777778,
             "#fb9f3a"
            ],
            [
             0.8888888888888888,
             "#fdca26"
            ],
            [
             1,
             "#f0f921"
            ]
           ]
          },
          "colorway": [
           "#636efa",
           "#EF553B",
           "#00cc96",
           "#ab63fa",
           "#FFA15A",
           "#19d3f3",
           "#FF6692",
           "#B6E880",
           "#FF97FF",
           "#FECB52"
          ],
          "font": {
           "color": "#2a3f5f"
          },
          "geo": {
           "bgcolor": "white",
           "lakecolor": "white",
           "landcolor": "#E5ECF6",
           "showlakes": true,
           "showland": true,
           "subunitcolor": "white"
          },
          "hoverlabel": {
           "align": "left"
          },
          "hovermode": "closest",
          "mapbox": {
           "style": "light"
          },
          "paper_bgcolor": "white",
          "plot_bgcolor": "#E5ECF6",
          "polar": {
           "angularaxis": {
            "gridcolor": "white",
            "linecolor": "white",
            "ticks": ""
           },
           "bgcolor": "#E5ECF6",
           "radialaxis": {
            "gridcolor": "white",
            "linecolor": "white",
            "ticks": ""
           }
          },
          "scene": {
           "xaxis": {
            "backgroundcolor": "#E5ECF6",
            "gridcolor": "white",
            "gridwidth": 2,
            "linecolor": "white",
            "showbackground": true,
            "ticks": "",
            "zerolinecolor": "white"
           },
           "yaxis": {
            "backgroundcolor": "#E5ECF6",
            "gridcolor": "white",
            "gridwidth": 2,
            "linecolor": "white",
            "showbackground": true,
            "ticks": "",
            "zerolinecolor": "white"
           },
           "zaxis": {
            "backgroundcolor": "#E5ECF6",
            "gridcolor": "white",
            "gridwidth": 2,
            "linecolor": "white",
            "showbackground": true,
            "ticks": "",
            "zerolinecolor": "white"
           }
          },
          "shapedefaults": {
           "line": {
            "color": "#2a3f5f"
           }
          },
          "ternary": {
           "aaxis": {
            "gridcolor": "white",
            "linecolor": "white",
            "ticks": ""
           },
           "baxis": {
            "gridcolor": "white",
            "linecolor": "white",
            "ticks": ""
           },
           "bgcolor": "#E5ECF6",
           "caxis": {
            "gridcolor": "white",
            "linecolor": "white",
            "ticks": ""
           }
          },
          "title": {
           "x": 0.05
          },
          "xaxis": {
           "automargin": true,
           "gridcolor": "white",
           "linecolor": "white",
           "ticks": "",
           "title": {
            "standoff": 15
           },
           "zerolinecolor": "white",
           "zerolinewidth": 2
          },
          "yaxis": {
           "automargin": true,
           "gridcolor": "white",
           "linecolor": "white",
           "ticks": "",
           "title": {
            "standoff": 15
           },
           "zerolinecolor": "white",
           "zerolinewidth": 2
          }
         }
        },
        "title": {
         "text": "Dataset machine 315"
        },
        "width": 1280,
        "xaxis": {
         "anchor": "y",
         "domain": [
          0,
          1
         ],
         "matches": "x3",
         "showticklabels": false
        },
        "xaxis2": {
         "anchor": "y2",
         "domain": [
          0,
          1
         ],
         "matches": "x3",
         "showticklabels": false
        },
        "xaxis3": {
         "anchor": "y3",
         "domain": [
          0,
          1
         ]
        },
        "yaxis": {
         "anchor": "x",
         "domain": [
          0.7066666666666667,
          1
         ]
        },
        "yaxis2": {
         "anchor": "x2",
         "domain": [
          0.35333333333333333,
          0.6466666666666667
         ]
        },
        "yaxis3": {
         "anchor": "x3",
         "domain": [
          0,
          0.29333333333333333
         ]
        }
       }
      }
     },
     "metadata": {},
     "output_type": "display_data"
    },
    {
     "data": {
      "application/vnd.plotly.v1+json": {
       "config": {
        "plotlyServerURL": "https://plot.ly"
       },
       "data": [
        {
         "marker": {
          "color": "black",
          "size": 10
         },
         "mode": "markers+lines",
         "name": "Unknown Energy",
         "text": [
          996.3,
          1061.1,
          1761.8,
          1838.6,
          1853.8,
          1856.8,
          1854,
          1851.3,
          1841.4,
          1845.5,
          1839,
          893.2,
          2253.7,
          2698.3,
          2610.5,
          1830.9,
          2434,
          1402.1,
          713.8,
          524.2,
          0,
          0,
          1101.7,
          866.3,
          1240.9,
          1464.9,
          1365.6,
          1431,
          1260.9,
          1258.6,
          986.5,
          1339,
          1887.2,
          2035.9,
          1883.7,
          1310.1,
          1328.1,
          1650.7,
          762.4,
          695.4,
          686.3,
          1551.3,
          735.6,
          138,
          138.7,
          139.3,
          139.3,
          138.7,
          140.6,
          298.3,
          752.5,
          835.4,
          953.1,
          576.7,
          1661.7,
          1455.3,
          1438.5,
          1529.6,
          1922.9,
          1918.9
         ],
         "type": "scatter",
         "x": [
          "2022-12-01T12:37:30",
          "2022-12-01T12:52:30",
          "2022-12-01T13:07:30",
          "2022-12-01T13:22:30",
          "2022-12-01T13:37:30",
          "2022-12-01T13:52:30",
          "2022-12-01T14:07:30",
          "2022-12-01T14:22:30",
          "2022-12-01T14:37:30",
          "2022-12-01T14:52:30",
          "2022-12-01T15:07:30",
          "2022-12-05T14:52:30",
          "2022-12-05T15:07:30",
          "2022-12-05T15:22:30",
          "2022-12-05T15:37:30",
          "2022-12-05T15:52:30",
          "2022-12-05T16:07:30",
          "2022-12-05T16:22:30",
          "2022-12-05T16:37:30",
          "2022-12-05T16:52:30",
          "2022-12-05T17:07:30",
          "2022-12-05T17:22:30",
          "2022-12-13T15:07:30",
          "2022-12-13T15:22:30",
          "2022-12-13T15:37:30",
          "2022-12-13T15:52:30",
          "2022-12-13T16:07:30",
          "2022-12-13T16:22:30",
          "2022-12-13T16:37:30",
          "2022-12-13T16:52:30",
          "2022-12-13T17:07:30",
          "2022-12-13T17:22:30",
          "2022-12-13T17:37:30",
          "2022-12-13T17:52:30",
          "2022-12-13T18:07:30",
          "2022-12-13T18:22:30",
          "2022-12-13T18:37:30",
          "2022-12-13T18:52:30",
          "2022-12-13T19:07:30",
          "2022-12-13T19:22:30",
          "2022-12-13T19:37:30",
          "2022-12-13T19:52:30",
          "2022-12-13T20:07:30",
          "2022-12-13T20:22:30",
          "2022-12-13T20:37:30",
          "2022-12-13T20:52:30",
          "2022-12-13T21:07:30",
          "2022-12-13T21:22:30",
          "2022-12-13T21:37:30",
          "2022-12-14T04:52:30",
          "2022-12-14T05:07:30",
          "2022-12-14T05:22:30",
          "2022-12-14T05:37:30",
          "2022-12-14T05:52:30",
          "2022-12-14T06:07:30",
          "2022-12-14T06:22:30",
          "2022-12-14T06:37:30",
          "2022-12-14T06:52:30",
          "2022-12-14T07:07:30",
          "2022-12-14T07:22:30"
         ],
         "xaxis": "x",
         "y": [
          996.3,
          1061.1,
          1761.8,
          1838.6,
          1853.8,
          1856.8,
          1854,
          1851.3,
          1841.4,
          1845.5,
          1839,
          893.2,
          2253.7,
          2698.3,
          2610.5,
          1830.9,
          2434,
          1402.1,
          713.8,
          524.2,
          0,
          0,
          1101.7,
          866.3,
          1240.9,
          1464.9,
          1365.6,
          1431,
          1260.9,
          1258.6,
          986.5,
          1339,
          1887.2,
          2035.9,
          1883.7,
          1310.1,
          1328.1,
          1650.7,
          762.4,
          695.4,
          686.3,
          1551.3,
          735.6,
          138,
          138.7,
          139.3,
          139.3,
          138.7,
          140.6,
          298.3,
          752.5,
          835.4,
          953.1,
          576.7,
          1661.7,
          1455.3,
          1438.5,
          1529.6,
          1922.9,
          1918.9
         ],
         "yaxis": "y"
        },
        {
         "marker": {
          "color": "black",
          "size": 10
         },
         "mode": "markers+lines",
         "name": "Unknown Productions",
         "text": [
          0,
          0,
          0,
          0,
          0,
          0,
          0,
          0,
          0,
          0,
          0,
          0,
          0,
          0,
          0,
          0,
          0,
          0,
          0,
          0,
          0,
          0,
          0,
          0,
          0,
          0,
          0,
          0,
          0,
          0,
          0,
          0,
          0,
          0,
          0,
          0,
          0,
          0,
          0,
          0,
          0,
          0,
          0,
          0,
          0,
          0,
          0,
          0,
          0,
          0,
          0,
          0,
          0,
          0,
          0,
          0,
          0,
          0,
          0,
          0
         ],
         "type": "scatter",
         "x": [
          "2022-12-01T12:37:30",
          "2022-12-01T12:52:30",
          "2022-12-01T13:07:30",
          "2022-12-01T13:22:30",
          "2022-12-01T13:37:30",
          "2022-12-01T13:52:30",
          "2022-12-01T14:07:30",
          "2022-12-01T14:22:30",
          "2022-12-01T14:37:30",
          "2022-12-01T14:52:30",
          "2022-12-01T15:07:30",
          "2022-12-05T14:52:30",
          "2022-12-05T15:07:30",
          "2022-12-05T15:22:30",
          "2022-12-05T15:37:30",
          "2022-12-05T15:52:30",
          "2022-12-05T16:07:30",
          "2022-12-05T16:22:30",
          "2022-12-05T16:37:30",
          "2022-12-05T16:52:30",
          "2022-12-05T17:07:30",
          "2022-12-05T17:22:30",
          "2022-12-13T15:07:30",
          "2022-12-13T15:22:30",
          "2022-12-13T15:37:30",
          "2022-12-13T15:52:30",
          "2022-12-13T16:07:30",
          "2022-12-13T16:22:30",
          "2022-12-13T16:37:30",
          "2022-12-13T16:52:30",
          "2022-12-13T17:07:30",
          "2022-12-13T17:22:30",
          "2022-12-13T17:37:30",
          "2022-12-13T17:52:30",
          "2022-12-13T18:07:30",
          "2022-12-13T18:22:30",
          "2022-12-13T18:37:30",
          "2022-12-13T18:52:30",
          "2022-12-13T19:07:30",
          "2022-12-13T19:22:30",
          "2022-12-13T19:37:30",
          "2022-12-13T19:52:30",
          "2022-12-13T20:07:30",
          "2022-12-13T20:22:30",
          "2022-12-13T20:37:30",
          "2022-12-13T20:52:30",
          "2022-12-13T21:07:30",
          "2022-12-13T21:22:30",
          "2022-12-13T21:37:30",
          "2022-12-14T04:52:30",
          "2022-12-14T05:07:30",
          "2022-12-14T05:22:30",
          "2022-12-14T05:37:30",
          "2022-12-14T05:52:30",
          "2022-12-14T06:07:30",
          "2022-12-14T06:22:30",
          "2022-12-14T06:37:30",
          "2022-12-14T06:52:30",
          "2022-12-14T07:07:30",
          "2022-12-14T07:22:30"
         ],
         "xaxis": "x2",
         "y": [
          0,
          0,
          0,
          0,
          0,
          0,
          0,
          0,
          0,
          0,
          0,
          0,
          0,
          0,
          0,
          0,
          0,
          0,
          0,
          0,
          0,
          0,
          0,
          0,
          0,
          0,
          0,
          0,
          0,
          0,
          0,
          0,
          0,
          0,
          0,
          0,
          0,
          0,
          0,
          0,
          0,
          0,
          0,
          0,
          0,
          0,
          0,
          0,
          0,
          0,
          0,
          0,
          0,
          0,
          0,
          0,
          0,
          0,
          0,
          0
         ],
         "yaxis": "y2"
        },
        {
         "marker": {
          "color": "black",
          "size": 10
         },
         "mode": "markers",
         "name": "Unknown Stops",
         "type": "scatter",
         "x": [
          "2022-12-01T12:37:30",
          "2022-12-01T12:52:30",
          "2022-12-01T13:07:30",
          "2022-12-01T13:22:30",
          "2022-12-01T13:37:30",
          "2022-12-01T13:52:30",
          "2022-12-01T14:07:30",
          "2022-12-01T14:22:30",
          "2022-12-01T14:37:30",
          "2022-12-01T14:52:30",
          "2022-12-01T15:07:30",
          "2022-12-05T14:52:30",
          "2022-12-05T15:07:30",
          "2022-12-05T15:22:30",
          "2022-12-05T15:37:30",
          "2022-12-05T15:52:30",
          "2022-12-05T16:07:30",
          "2022-12-05T16:22:30",
          "2022-12-05T16:37:30",
          "2022-12-05T16:52:30",
          "2022-12-05T17:07:30",
          "2022-12-05T17:22:30",
          "2022-12-13T15:07:30",
          "2022-12-13T15:22:30",
          "2022-12-13T15:37:30",
          "2022-12-13T15:52:30",
          "2022-12-13T16:07:30",
          "2022-12-13T16:22:30",
          "2022-12-13T16:37:30",
          "2022-12-13T16:52:30",
          "2022-12-13T17:07:30",
          "2022-12-13T17:22:30",
          "2022-12-13T17:37:30",
          "2022-12-13T17:52:30",
          "2022-12-13T18:07:30",
          "2022-12-13T18:22:30",
          "2022-12-13T18:37:30",
          "2022-12-13T18:52:30",
          "2022-12-13T19:07:30",
          "2022-12-13T19:22:30",
          "2022-12-13T19:37:30",
          "2022-12-13T19:52:30",
          "2022-12-13T20:07:30",
          "2022-12-13T20:22:30",
          "2022-12-13T20:37:30",
          "2022-12-13T20:52:30",
          "2022-12-13T21:07:30",
          "2022-12-13T21:22:30",
          "2022-12-13T21:37:30",
          "2022-12-14T04:52:30",
          "2022-12-14T05:07:30",
          "2022-12-14T05:22:30",
          "2022-12-14T05:37:30",
          "2022-12-14T05:52:30",
          "2022-12-14T06:07:30",
          "2022-12-14T06:22:30",
          "2022-12-14T06:37:30",
          "2022-12-14T06:52:30",
          "2022-12-14T07:07:30",
          "2022-12-14T07:22:30"
         ],
         "xaxis": "x3",
         "y": [
          "Running",
          "Running",
          "Running",
          "Running",
          "Running",
          "Affilatura utensile",
          "Running",
          "Running",
          "Running",
          "Running",
          "Running",
          "Running",
          "Running",
          "Running",
          "Running",
          "Running",
          "Manutenzione ordinaria",
          "Running",
          "Running",
          "Running",
          "Running",
          "Running",
          "Running",
          "Running",
          "Running",
          "Running",
          "Running",
          "Sostituzione utensile",
          "Running",
          "Running",
          "Running",
          "Running",
          "Running",
          "Sostituzione utensile",
          "Running",
          "Running",
          "Running",
          "Running",
          "Running",
          "Running",
          "Running",
          "Running",
          "Running",
          "Manutenzione ordinaria",
          "Running",
          "Running",
          "Running",
          "Running",
          "Running",
          "Running",
          "Running",
          "Running",
          "Running",
          "Running",
          "Manutenzione ordinaria",
          "Running",
          "Running",
          "Running",
          "Running",
          "Running"
         ],
         "yaxis": "y3"
        }
       ],
       "layout": {
        "annotations": [
         {
          "font": {
           "size": 16
          },
          "showarrow": false,
          "text": "Energy Consumption",
          "x": 0.5,
          "xanchor": "center",
          "xref": "paper",
          "y": 1,
          "yanchor": "bottom",
          "yref": "paper"
         },
         {
          "font": {
           "size": 16
          },
          "showarrow": false,
          "text": "Productions",
          "x": 0.5,
          "xanchor": "center",
          "xref": "paper",
          "y": 0.6466666666666667,
          "yanchor": "bottom",
          "yref": "paper"
         },
         {
          "font": {
           "size": 16
          },
          "showarrow": false,
          "text": "Stops",
          "x": 0.5,
          "xanchor": "center",
          "xref": "paper",
          "y": 0.29333333333333333,
          "yanchor": "bottom",
          "yref": "paper"
         }
        ],
        "height": 800,
        "template": {
         "data": {
          "bar": [
           {
            "error_x": {
             "color": "#2a3f5f"
            },
            "error_y": {
             "color": "#2a3f5f"
            },
            "marker": {
             "line": {
              "color": "#E5ECF6",
              "width": 0.5
             },
             "pattern": {
              "fillmode": "overlay",
              "size": 10,
              "solidity": 0.2
             }
            },
            "type": "bar"
           }
          ],
          "barpolar": [
           {
            "marker": {
             "line": {
              "color": "#E5ECF6",
              "width": 0.5
             },
             "pattern": {
              "fillmode": "overlay",
              "size": 10,
              "solidity": 0.2
             }
            },
            "type": "barpolar"
           }
          ],
          "carpet": [
           {
            "aaxis": {
             "endlinecolor": "#2a3f5f",
             "gridcolor": "white",
             "linecolor": "white",
             "minorgridcolor": "white",
             "startlinecolor": "#2a3f5f"
            },
            "baxis": {
             "endlinecolor": "#2a3f5f",
             "gridcolor": "white",
             "linecolor": "white",
             "minorgridcolor": "white",
             "startlinecolor": "#2a3f5f"
            },
            "type": "carpet"
           }
          ],
          "choropleth": [
           {
            "colorbar": {
             "outlinewidth": 0,
             "ticks": ""
            },
            "type": "choropleth"
           }
          ],
          "contour": [
           {
            "colorbar": {
             "outlinewidth": 0,
             "ticks": ""
            },
            "colorscale": [
             [
              0,
              "#0d0887"
             ],
             [
              0.1111111111111111,
              "#46039f"
             ],
             [
              0.2222222222222222,
              "#7201a8"
             ],
             [
              0.3333333333333333,
              "#9c179e"
             ],
             [
              0.4444444444444444,
              "#bd3786"
             ],
             [
              0.5555555555555556,
              "#d8576b"
             ],
             [
              0.6666666666666666,
              "#ed7953"
             ],
             [
              0.7777777777777778,
              "#fb9f3a"
             ],
             [
              0.8888888888888888,
              "#fdca26"
             ],
             [
              1,
              "#f0f921"
             ]
            ],
            "type": "contour"
           }
          ],
          "contourcarpet": [
           {
            "colorbar": {
             "outlinewidth": 0,
             "ticks": ""
            },
            "type": "contourcarpet"
           }
          ],
          "heatmap": [
           {
            "colorbar": {
             "outlinewidth": 0,
             "ticks": ""
            },
            "colorscale": [
             [
              0,
              "#0d0887"
             ],
             [
              0.1111111111111111,
              "#46039f"
             ],
             [
              0.2222222222222222,
              "#7201a8"
             ],
             [
              0.3333333333333333,
              "#9c179e"
             ],
             [
              0.4444444444444444,
              "#bd3786"
             ],
             [
              0.5555555555555556,
              "#d8576b"
             ],
             [
              0.6666666666666666,
              "#ed7953"
             ],
             [
              0.7777777777777778,
              "#fb9f3a"
             ],
             [
              0.8888888888888888,
              "#fdca26"
             ],
             [
              1,
              "#f0f921"
             ]
            ],
            "type": "heatmap"
           }
          ],
          "heatmapgl": [
           {
            "colorbar": {
             "outlinewidth": 0,
             "ticks": ""
            },
            "colorscale": [
             [
              0,
              "#0d0887"
             ],
             [
              0.1111111111111111,
              "#46039f"
             ],
             [
              0.2222222222222222,
              "#7201a8"
             ],
             [
              0.3333333333333333,
              "#9c179e"
             ],
             [
              0.4444444444444444,
              "#bd3786"
             ],
             [
              0.5555555555555556,
              "#d8576b"
             ],
             [
              0.6666666666666666,
              "#ed7953"
             ],
             [
              0.7777777777777778,
              "#fb9f3a"
             ],
             [
              0.8888888888888888,
              "#fdca26"
             ],
             [
              1,
              "#f0f921"
             ]
            ],
            "type": "heatmapgl"
           }
          ],
          "histogram": [
           {
            "marker": {
             "pattern": {
              "fillmode": "overlay",
              "size": 10,
              "solidity": 0.2
             }
            },
            "type": "histogram"
           }
          ],
          "histogram2d": [
           {
            "colorbar": {
             "outlinewidth": 0,
             "ticks": ""
            },
            "colorscale": [
             [
              0,
              "#0d0887"
             ],
             [
              0.1111111111111111,
              "#46039f"
             ],
             [
              0.2222222222222222,
              "#7201a8"
             ],
             [
              0.3333333333333333,
              "#9c179e"
             ],
             [
              0.4444444444444444,
              "#bd3786"
             ],
             [
              0.5555555555555556,
              "#d8576b"
             ],
             [
              0.6666666666666666,
              "#ed7953"
             ],
             [
              0.7777777777777778,
              "#fb9f3a"
             ],
             [
              0.8888888888888888,
              "#fdca26"
             ],
             [
              1,
              "#f0f921"
             ]
            ],
            "type": "histogram2d"
           }
          ],
          "histogram2dcontour": [
           {
            "colorbar": {
             "outlinewidth": 0,
             "ticks": ""
            },
            "colorscale": [
             [
              0,
              "#0d0887"
             ],
             [
              0.1111111111111111,
              "#46039f"
             ],
             [
              0.2222222222222222,
              "#7201a8"
             ],
             [
              0.3333333333333333,
              "#9c179e"
             ],
             [
              0.4444444444444444,
              "#bd3786"
             ],
             [
              0.5555555555555556,
              "#d8576b"
             ],
             [
              0.6666666666666666,
              "#ed7953"
             ],
             [
              0.7777777777777778,
              "#fb9f3a"
             ],
             [
              0.8888888888888888,
              "#fdca26"
             ],
             [
              1,
              "#f0f921"
             ]
            ],
            "type": "histogram2dcontour"
           }
          ],
          "mesh3d": [
           {
            "colorbar": {
             "outlinewidth": 0,
             "ticks": ""
            },
            "type": "mesh3d"
           }
          ],
          "parcoords": [
           {
            "line": {
             "colorbar": {
              "outlinewidth": 0,
              "ticks": ""
             }
            },
            "type": "parcoords"
           }
          ],
          "pie": [
           {
            "automargin": true,
            "type": "pie"
           }
          ],
          "scatter": [
           {
            "fillpattern": {
             "fillmode": "overlay",
             "size": 10,
             "solidity": 0.2
            },
            "type": "scatter"
           }
          ],
          "scatter3d": [
           {
            "line": {
             "colorbar": {
              "outlinewidth": 0,
              "ticks": ""
             }
            },
            "marker": {
             "colorbar": {
              "outlinewidth": 0,
              "ticks": ""
             }
            },
            "type": "scatter3d"
           }
          ],
          "scattercarpet": [
           {
            "marker": {
             "colorbar": {
              "outlinewidth": 0,
              "ticks": ""
             }
            },
            "type": "scattercarpet"
           }
          ],
          "scattergeo": [
           {
            "marker": {
             "colorbar": {
              "outlinewidth": 0,
              "ticks": ""
             }
            },
            "type": "scattergeo"
           }
          ],
          "scattergl": [
           {
            "marker": {
             "colorbar": {
              "outlinewidth": 0,
              "ticks": ""
             }
            },
            "type": "scattergl"
           }
          ],
          "scattermapbox": [
           {
            "marker": {
             "colorbar": {
              "outlinewidth": 0,
              "ticks": ""
             }
            },
            "type": "scattermapbox"
           }
          ],
          "scatterpolar": [
           {
            "marker": {
             "colorbar": {
              "outlinewidth": 0,
              "ticks": ""
             }
            },
            "type": "scatterpolar"
           }
          ],
          "scatterpolargl": [
           {
            "marker": {
             "colorbar": {
              "outlinewidth": 0,
              "ticks": ""
             }
            },
            "type": "scatterpolargl"
           }
          ],
          "scatterternary": [
           {
            "marker": {
             "colorbar": {
              "outlinewidth": 0,
              "ticks": ""
             }
            },
            "type": "scatterternary"
           }
          ],
          "surface": [
           {
            "colorbar": {
             "outlinewidth": 0,
             "ticks": ""
            },
            "colorscale": [
             [
              0,
              "#0d0887"
             ],
             [
              0.1111111111111111,
              "#46039f"
             ],
             [
              0.2222222222222222,
              "#7201a8"
             ],
             [
              0.3333333333333333,
              "#9c179e"
             ],
             [
              0.4444444444444444,
              "#bd3786"
             ],
             [
              0.5555555555555556,
              "#d8576b"
             ],
             [
              0.6666666666666666,
              "#ed7953"
             ],
             [
              0.7777777777777778,
              "#fb9f3a"
             ],
             [
              0.8888888888888888,
              "#fdca26"
             ],
             [
              1,
              "#f0f921"
             ]
            ],
            "type": "surface"
           }
          ],
          "table": [
           {
            "cells": {
             "fill": {
              "color": "#EBF0F8"
             },
             "line": {
              "color": "white"
             }
            },
            "header": {
             "fill": {
              "color": "#C8D4E3"
             },
             "line": {
              "color": "white"
             }
            },
            "type": "table"
           }
          ]
         },
         "layout": {
          "annotationdefaults": {
           "arrowcolor": "#2a3f5f",
           "arrowhead": 0,
           "arrowwidth": 1
          },
          "autotypenumbers": "strict",
          "coloraxis": {
           "colorbar": {
            "outlinewidth": 0,
            "ticks": ""
           }
          },
          "colorscale": {
           "diverging": [
            [
             0,
             "#8e0152"
            ],
            [
             0.1,
             "#c51b7d"
            ],
            [
             0.2,
             "#de77ae"
            ],
            [
             0.3,
             "#f1b6da"
            ],
            [
             0.4,
             "#fde0ef"
            ],
            [
             0.5,
             "#f7f7f7"
            ],
            [
             0.6,
             "#e6f5d0"
            ],
            [
             0.7,
             "#b8e186"
            ],
            [
             0.8,
             "#7fbc41"
            ],
            [
             0.9,
             "#4d9221"
            ],
            [
             1,
             "#276419"
            ]
           ],
           "sequential": [
            [
             0,
             "#0d0887"
            ],
            [
             0.1111111111111111,
             "#46039f"
            ],
            [
             0.2222222222222222,
             "#7201a8"
            ],
            [
             0.3333333333333333,
             "#9c179e"
            ],
            [
             0.4444444444444444,
             "#bd3786"
            ],
            [
             0.5555555555555556,
             "#d8576b"
            ],
            [
             0.6666666666666666,
             "#ed7953"
            ],
            [
             0.7777777777777778,
             "#fb9f3a"
            ],
            [
             0.8888888888888888,
             "#fdca26"
            ],
            [
             1,
             "#f0f921"
            ]
           ],
           "sequentialminus": [
            [
             0,
             "#0d0887"
            ],
            [
             0.1111111111111111,
             "#46039f"
            ],
            [
             0.2222222222222222,
             "#7201a8"
            ],
            [
             0.3333333333333333,
             "#9c179e"
            ],
            [
             0.4444444444444444,
             "#bd3786"
            ],
            [
             0.5555555555555556,
             "#d8576b"
            ],
            [
             0.6666666666666666,
             "#ed7953"
            ],
            [
             0.7777777777777778,
             "#fb9f3a"
            ],
            [
             0.8888888888888888,
             "#fdca26"
            ],
            [
             1,
             "#f0f921"
            ]
           ]
          },
          "colorway": [
           "#636efa",
           "#EF553B",
           "#00cc96",
           "#ab63fa",
           "#FFA15A",
           "#19d3f3",
           "#FF6692",
           "#B6E880",
           "#FF97FF",
           "#FECB52"
          ],
          "font": {
           "color": "#2a3f5f"
          },
          "geo": {
           "bgcolor": "white",
           "lakecolor": "white",
           "landcolor": "#E5ECF6",
           "showlakes": true,
           "showland": true,
           "subunitcolor": "white"
          },
          "hoverlabel": {
           "align": "left"
          },
          "hovermode": "closest",
          "mapbox": {
           "style": "light"
          },
          "paper_bgcolor": "white",
          "plot_bgcolor": "#E5ECF6",
          "polar": {
           "angularaxis": {
            "gridcolor": "white",
            "linecolor": "white",
            "ticks": ""
           },
           "bgcolor": "#E5ECF6",
           "radialaxis": {
            "gridcolor": "white",
            "linecolor": "white",
            "ticks": ""
           }
          },
          "scene": {
           "xaxis": {
            "backgroundcolor": "#E5ECF6",
            "gridcolor": "white",
            "gridwidth": 2,
            "linecolor": "white",
            "showbackground": true,
            "ticks": "",
            "zerolinecolor": "white"
           },
           "yaxis": {
            "backgroundcolor": "#E5ECF6",
            "gridcolor": "white",
            "gridwidth": 2,
            "linecolor": "white",
            "showbackground": true,
            "ticks": "",
            "zerolinecolor": "white"
           },
           "zaxis": {
            "backgroundcolor": "#E5ECF6",
            "gridcolor": "white",
            "gridwidth": 2,
            "linecolor": "white",
            "showbackground": true,
            "ticks": "",
            "zerolinecolor": "white"
           }
          },
          "shapedefaults": {
           "line": {
            "color": "#2a3f5f"
           }
          },
          "ternary": {
           "aaxis": {
            "gridcolor": "white",
            "linecolor": "white",
            "ticks": ""
           },
           "baxis": {
            "gridcolor": "white",
            "linecolor": "white",
            "ticks": ""
           },
           "bgcolor": "#E5ECF6",
           "caxis": {
            "gridcolor": "white",
            "linecolor": "white",
            "ticks": ""
           }
          },
          "title": {
           "x": 0.05
          },
          "xaxis": {
           "automargin": true,
           "gridcolor": "white",
           "linecolor": "white",
           "ticks": "",
           "title": {
            "standoff": 15
           },
           "zerolinecolor": "white",
           "zerolinewidth": 2
          },
          "yaxis": {
           "automargin": true,
           "gridcolor": "white",
           "linecolor": "white",
           "ticks": "",
           "title": {
            "standoff": 15
           },
           "zerolinecolor": "white",
           "zerolinewidth": 2
          }
         }
        },
        "title": {
         "text": "Dataset machine 314"
        },
        "width": 1280,
        "xaxis": {
         "anchor": "y",
         "domain": [
          0,
          1
         ],
         "matches": "x3",
         "showticklabels": false
        },
        "xaxis2": {
         "anchor": "y2",
         "domain": [
          0,
          1
         ],
         "matches": "x3",
         "showticklabels": false
        },
        "xaxis3": {
         "anchor": "y3",
         "domain": [
          0,
          1
         ]
        },
        "yaxis": {
         "anchor": "x",
         "domain": [
          0.7066666666666667,
          1
         ]
        },
        "yaxis2": {
         "anchor": "x2",
         "domain": [
          0.35333333333333333,
          0.6466666666666667
         ]
        },
        "yaxis3": {
         "anchor": "x3",
         "domain": [
          0,
          0.29333333333333333
         ]
        }
       }
      }
     },
     "metadata": {},
     "output_type": "display_data"
    },
    {
     "data": {
      "application/vnd.plotly.v1+json": {
       "config": {
        "plotlyServerURL": "https://plot.ly"
       },
       "data": [
        {
         "marker": {
          "color": "blue",
          "size": 10
         },
         "mode": "markers+lines",
         "name": "PR8 Energy",
         "text": [
          6421.6,
          9131.3,
          12660.2,
          12779,
          13645.2,
          13286.9,
          13269.8,
          13772.2,
          13655.3,
          12701.7,
          12628.1,
          8361.3,
          12861.7,
          11010.2,
          13108.6,
          13598.6,
          13852.2,
          13670.5,
          13196.3,
          13496.4,
          13476.6,
          9964.9,
          9792.4,
          8379.9,
          12491,
          13506.2,
          13607.6,
          13874.8,
          13882.4,
          13685.7,
          13506.7,
          12161.8,
          13584
         ],
         "type": "scatter",
         "x": [
          "2022-11-28T06:22:30",
          "2022-11-28T06:37:30",
          "2022-11-28T06:52:30",
          "2022-11-28T07:07:30",
          "2022-11-28T07:22:30",
          "2022-11-28T07:37:30",
          "2022-11-28T07:52:30",
          "2022-11-28T08:07:30",
          "2022-11-28T08:22:30",
          "2022-11-28T08:37:30",
          "2022-11-28T08:52:30",
          "2022-11-28T10:37:30",
          "2022-11-28T10:52:30",
          "2022-11-28T11:07:30",
          "2022-11-28T11:22:30",
          "2022-11-28T11:37:30",
          "2022-11-28T11:52:30",
          "2022-11-28T12:07:30",
          "2022-11-28T12:22:30",
          "2022-11-28T12:37:30",
          "2022-11-28T12:52:30",
          "2022-11-28T13:07:30",
          "2022-11-28T15:52:30",
          "2022-11-28T16:07:30",
          "2022-11-28T16:22:30",
          "2022-11-28T16:37:30",
          "2022-11-28T16:52:30",
          "2022-11-28T17:07:30",
          "2022-11-28T17:22:30",
          "2022-11-28T17:37:30",
          "2022-11-28T17:52:30",
          "2022-11-28T18:07:30",
          "2022-11-28T18:22:30"
         ],
         "xaxis": "x",
         "y": [
          6421.6,
          9131.3,
          12660.2,
          12779,
          13645.2,
          13286.9,
          13269.8,
          13772.2,
          13655.3,
          12701.7,
          12628.1,
          8361.3,
          12861.7,
          11010.2,
          13108.6,
          13598.6,
          13852.2,
          13670.5,
          13196.3,
          13496.4,
          13476.6,
          9964.9,
          9792.4,
          8379.9,
          12491,
          13506.2,
          13607.6,
          13874.8,
          13882.4,
          13685.7,
          13506.7,
          12161.8,
          13584
         ],
         "yaxis": "y"
        },
        {
         "marker": {
          "color": "blue",
          "size": 10
         },
         "mode": "markers+lines",
         "name": "PR8 Productions",
         "text": [
          0.25,
          0.25,
          0.25,
          0.1666666666666666,
          14.833333333333334,
          0.1666666666666666,
          21,
          40.23076923076923,
          43.25024342745862,
          22.21518987341772,
          22.21518987341772,
          0,
          39.57142857142857,
          197.85714285714283,
          65.66233766233766,
          55.90909090909091,
          0,
          23.363636363636363,
          23.63636363636364,
          23.75,
          26.25,
          26.25,
          46.38157894736842,
          43.28947368421053,
          70,
          99,
          36,
          16,
          0,
          0,
          17.085714285714285,
          19.714285714285715,
          14.474509803921569
         ],
         "type": "scatter",
         "x": [
          "2022-11-28T06:22:30",
          "2022-11-28T06:37:30",
          "2022-11-28T06:52:30",
          "2022-11-28T07:07:30",
          "2022-11-28T07:22:30",
          "2022-11-28T07:37:30",
          "2022-11-28T07:52:30",
          "2022-11-28T08:07:30",
          "2022-11-28T08:22:30",
          "2022-11-28T08:37:30",
          "2022-11-28T08:52:30",
          "2022-11-28T10:37:30",
          "2022-11-28T10:52:30",
          "2022-11-28T11:07:30",
          "2022-11-28T11:22:30",
          "2022-11-28T11:37:30",
          "2022-11-28T11:52:30",
          "2022-11-28T12:07:30",
          "2022-11-28T12:22:30",
          "2022-11-28T12:37:30",
          "2022-11-28T12:52:30",
          "2022-11-28T13:07:30",
          "2022-11-28T15:52:30",
          "2022-11-28T16:07:30",
          "2022-11-28T16:22:30",
          "2022-11-28T16:37:30",
          "2022-11-28T16:52:30",
          "2022-11-28T17:07:30",
          "2022-11-28T17:22:30",
          "2022-11-28T17:37:30",
          "2022-11-28T17:52:30",
          "2022-11-28T18:07:30",
          "2022-11-28T18:22:30"
         ],
         "xaxis": "x2",
         "y": [
          0.25,
          0.25,
          0.25,
          0.1666666666666666,
          14.833333333333334,
          0.1666666666666666,
          21,
          40.23076923076923,
          43.25024342745862,
          22.21518987341772,
          22.21518987341772,
          0,
          39.57142857142857,
          197.85714285714283,
          65.66233766233766,
          55.90909090909091,
          0,
          23.363636363636363,
          23.63636363636364,
          23.75,
          26.25,
          26.25,
          46.38157894736842,
          43.28947368421053,
          70,
          99,
          36,
          16,
          0,
          0,
          17.085714285714285,
          19.714285714285715,
          14.474509803921569
         ],
         "yaxis": "y2"
        },
        {
         "marker": {
          "color": "blue",
          "size": 10
         },
         "mode": "markers",
         "name": "PR8 Stops",
         "type": "scatter",
         "x": [
          "2022-11-28T06:22:30",
          "2022-11-28T06:37:30",
          "2022-11-28T06:52:30",
          "2022-11-28T07:07:30",
          "2022-11-28T07:22:30",
          "2022-11-28T07:37:30",
          "2022-11-28T07:52:30",
          "2022-11-28T08:07:30",
          "2022-11-28T08:22:30",
          "2022-11-28T08:37:30",
          "2022-11-28T08:52:30",
          "2022-11-28T10:37:30",
          "2022-11-28T10:52:30",
          "2022-11-28T11:07:30",
          "2022-11-28T11:22:30",
          "2022-11-28T11:37:30",
          "2022-11-28T11:52:30",
          "2022-11-28T12:07:30",
          "2022-11-28T12:22:30",
          "2022-11-28T12:37:30",
          "2022-11-28T12:52:30",
          "2022-11-28T13:07:30",
          "2022-11-28T15:52:30",
          "2022-11-28T16:07:30",
          "2022-11-28T16:22:30",
          "2022-11-28T16:37:30",
          "2022-11-28T16:52:30",
          "2022-11-28T17:07:30",
          "2022-11-28T17:22:30",
          "2022-11-28T17:37:30",
          "2022-11-28T17:52:30",
          "2022-11-28T18:07:30",
          "2022-11-28T18:22:30"
         ],
         "xaxis": "x3",
         "y": [
          "Running",
          "Running",
          "Running",
          "Running",
          "Running",
          "Manutenzione ordinaria",
          "Running",
          "Running",
          "Running",
          "Running",
          "Running",
          "Running",
          "Running",
          "Running",
          "Running",
          "Running",
          "Sostituzione utensile",
          "Running",
          "Running",
          "Running",
          "Running",
          "Running",
          "Running",
          "Running",
          "Running",
          "Running",
          "Running",
          "Sostituzione utensile",
          "Running",
          "Running",
          "Running",
          "Running",
          "Running"
         ],
         "yaxis": "y3"
        },
        {
         "marker": {
          "color": "black",
          "size": 10
         },
         "mode": "markers+lines",
         "name": "Unknown Energy",
         "text": [
          10458.9,
          11907.5,
          13542.2,
          13562.9,
          13541,
          13553.8,
          13848,
          13574.7,
          13521.3,
          10126.4,
          13559.7,
          0,
          0,
          0,
          0,
          0,
          0,
          0,
          0,
          0,
          0,
          12348.4,
          13918.1,
          10243.2,
          6852.8,
          12902.2,
          13538.3,
          13533.3,
          13980.7,
          13948.1,
          13998.8,
          8587.7,
          9980.2,
          13390.6
         ],
         "type": "scatter",
         "x": [
          "2022-11-28T20:22:30",
          "2022-11-28T20:37:30",
          "2022-11-28T20:52:30",
          "2022-11-28T21:07:30",
          "2022-11-28T21:22:30",
          "2022-11-28T21:37:30",
          "2022-11-28T21:52:30",
          "2022-11-28T22:07:30",
          "2022-11-28T22:22:30",
          "2022-11-28T22:37:30",
          "2022-11-28T22:52:30",
          "2022-11-28T23:07:30",
          "2022-11-28T23:22:30",
          "2022-11-29T04:07:30",
          "2022-11-29T11:22:30",
          "2022-11-29T15:22:30",
          "2022-11-29T23:07:30",
          "2022-11-30T00:07:30",
          "2022-11-30T00:37:30",
          "2022-11-30T07:37:30",
          "2022-11-30T15:07:30",
          "2022-11-30T23:52:30",
          "2022-12-01T00:07:30",
          "2022-12-01T00:22:30",
          "2022-12-01T00:37:30",
          "2022-12-01T00:52:30",
          "2022-12-01T01:07:30",
          "2022-12-01T01:22:30",
          "2022-12-01T01:37:30",
          "2022-12-01T01:52:30",
          "2022-12-01T02:07:30",
          "2022-12-01T02:22:30",
          "2022-12-01T02:37:30",
          "2022-12-01T02:52:30"
         ],
         "xaxis": "x",
         "y": [
          10458.9,
          11907.5,
          13542.2,
          13562.9,
          13541,
          13553.8,
          13848,
          13574.7,
          13521.3,
          10126.4,
          13559.7,
          0,
          0,
          0,
          0,
          0,
          0,
          0,
          0,
          0,
          0,
          12348.4,
          13918.1,
          10243.2,
          6852.8,
          12902.2,
          13538.3,
          13533.3,
          13980.7,
          13948.1,
          13998.8,
          8587.7,
          9980.2,
          13390.6
         ],
         "yaxis": "y"
        },
        {
         "marker": {
          "color": "black",
          "size": 10
         },
         "mode": "markers+lines",
         "name": "Unknown Productions",
         "text": [
          0,
          0,
          0,
          0,
          0,
          0,
          0,
          0,
          0,
          0,
          0,
          0,
          0,
          0,
          0,
          0,
          0,
          0,
          0,
          0,
          0,
          0,
          0,
          0,
          0,
          0,
          0,
          0,
          0,
          0,
          0,
          0,
          0,
          0
         ],
         "type": "scatter",
         "x": [
          "2022-11-28T20:22:30",
          "2022-11-28T20:37:30",
          "2022-11-28T20:52:30",
          "2022-11-28T21:07:30",
          "2022-11-28T21:22:30",
          "2022-11-28T21:37:30",
          "2022-11-28T21:52:30",
          "2022-11-28T22:07:30",
          "2022-11-28T22:22:30",
          "2022-11-28T22:37:30",
          "2022-11-28T22:52:30",
          "2022-11-28T23:07:30",
          "2022-11-28T23:22:30",
          "2022-11-29T04:07:30",
          "2022-11-29T11:22:30",
          "2022-11-29T15:22:30",
          "2022-11-29T23:07:30",
          "2022-11-30T00:07:30",
          "2022-11-30T00:37:30",
          "2022-11-30T07:37:30",
          "2022-11-30T15:07:30",
          "2022-11-30T23:52:30",
          "2022-12-01T00:07:30",
          "2022-12-01T00:22:30",
          "2022-12-01T00:37:30",
          "2022-12-01T00:52:30",
          "2022-12-01T01:07:30",
          "2022-12-01T01:22:30",
          "2022-12-01T01:37:30",
          "2022-12-01T01:52:30",
          "2022-12-01T02:07:30",
          "2022-12-01T02:22:30",
          "2022-12-01T02:37:30",
          "2022-12-01T02:52:30"
         ],
         "xaxis": "x2",
         "y": [
          0,
          0,
          0,
          0,
          0,
          0,
          0,
          0,
          0,
          0,
          0,
          0,
          0,
          0,
          0,
          0,
          0,
          0,
          0,
          0,
          0,
          0,
          0,
          0,
          0,
          0,
          0,
          0,
          0,
          0,
          0,
          0,
          0,
          0
         ],
         "yaxis": "y2"
        },
        {
         "marker": {
          "color": "black",
          "size": 10
         },
         "mode": "markers",
         "name": "Unknown Stops",
         "type": "scatter",
         "x": [
          "2022-11-28T20:22:30",
          "2022-11-28T20:37:30",
          "2022-11-28T20:52:30",
          "2022-11-28T21:07:30",
          "2022-11-28T21:22:30",
          "2022-11-28T21:37:30",
          "2022-11-28T21:52:30",
          "2022-11-28T22:07:30",
          "2022-11-28T22:22:30",
          "2022-11-28T22:37:30",
          "2022-11-28T22:52:30",
          "2022-11-28T23:07:30",
          "2022-11-28T23:22:30",
          "2022-11-29T04:07:30",
          "2022-11-29T11:22:30",
          "2022-11-29T15:22:30",
          "2022-11-29T23:07:30",
          "2022-11-30T00:07:30",
          "2022-11-30T00:37:30",
          "2022-11-30T07:37:30",
          "2022-11-30T15:07:30",
          "2022-11-30T23:52:30",
          "2022-12-01T00:07:30",
          "2022-12-01T00:22:30",
          "2022-12-01T00:37:30",
          "2022-12-01T00:52:30",
          "2022-12-01T01:07:30",
          "2022-12-01T01:22:30",
          "2022-12-01T01:37:30",
          "2022-12-01T01:52:30",
          "2022-12-01T02:07:30",
          "2022-12-01T02:22:30",
          "2022-12-01T02:37:30",
          "2022-12-01T02:52:30"
         ],
         "xaxis": "x3",
         "y": [
          "Running",
          "Running",
          "Running",
          "Running",
          "Running",
          "Sostituzione utensile",
          "Running",
          "Running",
          "Running",
          "Running",
          "Running",
          "Running",
          "Running",
          "Sostituzione utensile",
          "Sostituzione utensile",
          "Manutenzione ordinaria",
          "Sostituzione utensile",
          "Sostituzione utensile",
          "Manutenzione ordinaria",
          "Sostituzione utensile",
          "Sostituzione utensile",
          "Running",
          "Running",
          "Running",
          "Running",
          "Running",
          "Running",
          "Running",
          "Sostituzione utensile",
          "Running",
          "Running",
          "Running",
          "Running",
          "Running"
         ],
         "yaxis": "y3"
        }
       ],
       "layout": {
        "annotations": [
         {
          "font": {
           "size": 16
          },
          "showarrow": false,
          "text": "Energy Consumption",
          "x": 0.5,
          "xanchor": "center",
          "xref": "paper",
          "y": 1,
          "yanchor": "bottom",
          "yref": "paper"
         },
         {
          "font": {
           "size": 16
          },
          "showarrow": false,
          "text": "Productions",
          "x": 0.5,
          "xanchor": "center",
          "xref": "paper",
          "y": 0.6466666666666667,
          "yanchor": "bottom",
          "yref": "paper"
         },
         {
          "font": {
           "size": 16
          },
          "showarrow": false,
          "text": "Stops",
          "x": 0.5,
          "xanchor": "center",
          "xref": "paper",
          "y": 0.29333333333333333,
          "yanchor": "bottom",
          "yref": "paper"
         }
        ],
        "height": 800,
        "template": {
         "data": {
          "bar": [
           {
            "error_x": {
             "color": "#2a3f5f"
            },
            "error_y": {
             "color": "#2a3f5f"
            },
            "marker": {
             "line": {
              "color": "#E5ECF6",
              "width": 0.5
             },
             "pattern": {
              "fillmode": "overlay",
              "size": 10,
              "solidity": 0.2
             }
            },
            "type": "bar"
           }
          ],
          "barpolar": [
           {
            "marker": {
             "line": {
              "color": "#E5ECF6",
              "width": 0.5
             },
             "pattern": {
              "fillmode": "overlay",
              "size": 10,
              "solidity": 0.2
             }
            },
            "type": "barpolar"
           }
          ],
          "carpet": [
           {
            "aaxis": {
             "endlinecolor": "#2a3f5f",
             "gridcolor": "white",
             "linecolor": "white",
             "minorgridcolor": "white",
             "startlinecolor": "#2a3f5f"
            },
            "baxis": {
             "endlinecolor": "#2a3f5f",
             "gridcolor": "white",
             "linecolor": "white",
             "minorgridcolor": "white",
             "startlinecolor": "#2a3f5f"
            },
            "type": "carpet"
           }
          ],
          "choropleth": [
           {
            "colorbar": {
             "outlinewidth": 0,
             "ticks": ""
            },
            "type": "choropleth"
           }
          ],
          "contour": [
           {
            "colorbar": {
             "outlinewidth": 0,
             "ticks": ""
            },
            "colorscale": [
             [
              0,
              "#0d0887"
             ],
             [
              0.1111111111111111,
              "#46039f"
             ],
             [
              0.2222222222222222,
              "#7201a8"
             ],
             [
              0.3333333333333333,
              "#9c179e"
             ],
             [
              0.4444444444444444,
              "#bd3786"
             ],
             [
              0.5555555555555556,
              "#d8576b"
             ],
             [
              0.6666666666666666,
              "#ed7953"
             ],
             [
              0.7777777777777778,
              "#fb9f3a"
             ],
             [
              0.8888888888888888,
              "#fdca26"
             ],
             [
              1,
              "#f0f921"
             ]
            ],
            "type": "contour"
           }
          ],
          "contourcarpet": [
           {
            "colorbar": {
             "outlinewidth": 0,
             "ticks": ""
            },
            "type": "contourcarpet"
           }
          ],
          "heatmap": [
           {
            "colorbar": {
             "outlinewidth": 0,
             "ticks": ""
            },
            "colorscale": [
             [
              0,
              "#0d0887"
             ],
             [
              0.1111111111111111,
              "#46039f"
             ],
             [
              0.2222222222222222,
              "#7201a8"
             ],
             [
              0.3333333333333333,
              "#9c179e"
             ],
             [
              0.4444444444444444,
              "#bd3786"
             ],
             [
              0.5555555555555556,
              "#d8576b"
             ],
             [
              0.6666666666666666,
              "#ed7953"
             ],
             [
              0.7777777777777778,
              "#fb9f3a"
             ],
             [
              0.8888888888888888,
              "#fdca26"
             ],
             [
              1,
              "#f0f921"
             ]
            ],
            "type": "heatmap"
           }
          ],
          "heatmapgl": [
           {
            "colorbar": {
             "outlinewidth": 0,
             "ticks": ""
            },
            "colorscale": [
             [
              0,
              "#0d0887"
             ],
             [
              0.1111111111111111,
              "#46039f"
             ],
             [
              0.2222222222222222,
              "#7201a8"
             ],
             [
              0.3333333333333333,
              "#9c179e"
             ],
             [
              0.4444444444444444,
              "#bd3786"
             ],
             [
              0.5555555555555556,
              "#d8576b"
             ],
             [
              0.6666666666666666,
              "#ed7953"
             ],
             [
              0.7777777777777778,
              "#fb9f3a"
             ],
             [
              0.8888888888888888,
              "#fdca26"
             ],
             [
              1,
              "#f0f921"
             ]
            ],
            "type": "heatmapgl"
           }
          ],
          "histogram": [
           {
            "marker": {
             "pattern": {
              "fillmode": "overlay",
              "size": 10,
              "solidity": 0.2
             }
            },
            "type": "histogram"
           }
          ],
          "histogram2d": [
           {
            "colorbar": {
             "outlinewidth": 0,
             "ticks": ""
            },
            "colorscale": [
             [
              0,
              "#0d0887"
             ],
             [
              0.1111111111111111,
              "#46039f"
             ],
             [
              0.2222222222222222,
              "#7201a8"
             ],
             [
              0.3333333333333333,
              "#9c179e"
             ],
             [
              0.4444444444444444,
              "#bd3786"
             ],
             [
              0.5555555555555556,
              "#d8576b"
             ],
             [
              0.6666666666666666,
              "#ed7953"
             ],
             [
              0.7777777777777778,
              "#fb9f3a"
             ],
             [
              0.8888888888888888,
              "#fdca26"
             ],
             [
              1,
              "#f0f921"
             ]
            ],
            "type": "histogram2d"
           }
          ],
          "histogram2dcontour": [
           {
            "colorbar": {
             "outlinewidth": 0,
             "ticks": ""
            },
            "colorscale": [
             [
              0,
              "#0d0887"
             ],
             [
              0.1111111111111111,
              "#46039f"
             ],
             [
              0.2222222222222222,
              "#7201a8"
             ],
             [
              0.3333333333333333,
              "#9c179e"
             ],
             [
              0.4444444444444444,
              "#bd3786"
             ],
             [
              0.5555555555555556,
              "#d8576b"
             ],
             [
              0.6666666666666666,
              "#ed7953"
             ],
             [
              0.7777777777777778,
              "#fb9f3a"
             ],
             [
              0.8888888888888888,
              "#fdca26"
             ],
             [
              1,
              "#f0f921"
             ]
            ],
            "type": "histogram2dcontour"
           }
          ],
          "mesh3d": [
           {
            "colorbar": {
             "outlinewidth": 0,
             "ticks": ""
            },
            "type": "mesh3d"
           }
          ],
          "parcoords": [
           {
            "line": {
             "colorbar": {
              "outlinewidth": 0,
              "ticks": ""
             }
            },
            "type": "parcoords"
           }
          ],
          "pie": [
           {
            "automargin": true,
            "type": "pie"
           }
          ],
          "scatter": [
           {
            "fillpattern": {
             "fillmode": "overlay",
             "size": 10,
             "solidity": 0.2
            },
            "type": "scatter"
           }
          ],
          "scatter3d": [
           {
            "line": {
             "colorbar": {
              "outlinewidth": 0,
              "ticks": ""
             }
            },
            "marker": {
             "colorbar": {
              "outlinewidth": 0,
              "ticks": ""
             }
            },
            "type": "scatter3d"
           }
          ],
          "scattercarpet": [
           {
            "marker": {
             "colorbar": {
              "outlinewidth": 0,
              "ticks": ""
             }
            },
            "type": "scattercarpet"
           }
          ],
          "scattergeo": [
           {
            "marker": {
             "colorbar": {
              "outlinewidth": 0,
              "ticks": ""
             }
            },
            "type": "scattergeo"
           }
          ],
          "scattergl": [
           {
            "marker": {
             "colorbar": {
              "outlinewidth": 0,
              "ticks": ""
             }
            },
            "type": "scattergl"
           }
          ],
          "scattermapbox": [
           {
            "marker": {
             "colorbar": {
              "outlinewidth": 0,
              "ticks": ""
             }
            },
            "type": "scattermapbox"
           }
          ],
          "scatterpolar": [
           {
            "marker": {
             "colorbar": {
              "outlinewidth": 0,
              "ticks": ""
             }
            },
            "type": "scatterpolar"
           }
          ],
          "scatterpolargl": [
           {
            "marker": {
             "colorbar": {
              "outlinewidth": 0,
              "ticks": ""
             }
            },
            "type": "scatterpolargl"
           }
          ],
          "scatterternary": [
           {
            "marker": {
             "colorbar": {
              "outlinewidth": 0,
              "ticks": ""
             }
            },
            "type": "scatterternary"
           }
          ],
          "surface": [
           {
            "colorbar": {
             "outlinewidth": 0,
             "ticks": ""
            },
            "colorscale": [
             [
              0,
              "#0d0887"
             ],
             [
              0.1111111111111111,
              "#46039f"
             ],
             [
              0.2222222222222222,
              "#7201a8"
             ],
             [
              0.3333333333333333,
              "#9c179e"
             ],
             [
              0.4444444444444444,
              "#bd3786"
             ],
             [
              0.5555555555555556,
              "#d8576b"
             ],
             [
              0.6666666666666666,
              "#ed7953"
             ],
             [
              0.7777777777777778,
              "#fb9f3a"
             ],
             [
              0.8888888888888888,
              "#fdca26"
             ],
             [
              1,
              "#f0f921"
             ]
            ],
            "type": "surface"
           }
          ],
          "table": [
           {
            "cells": {
             "fill": {
              "color": "#EBF0F8"
             },
             "line": {
              "color": "white"
             }
            },
            "header": {
             "fill": {
              "color": "#C8D4E3"
             },
             "line": {
              "color": "white"
             }
            },
            "type": "table"
           }
          ]
         },
         "layout": {
          "annotationdefaults": {
           "arrowcolor": "#2a3f5f",
           "arrowhead": 0,
           "arrowwidth": 1
          },
          "autotypenumbers": "strict",
          "coloraxis": {
           "colorbar": {
            "outlinewidth": 0,
            "ticks": ""
           }
          },
          "colorscale": {
           "diverging": [
            [
             0,
             "#8e0152"
            ],
            [
             0.1,
             "#c51b7d"
            ],
            [
             0.2,
             "#de77ae"
            ],
            [
             0.3,
             "#f1b6da"
            ],
            [
             0.4,
             "#fde0ef"
            ],
            [
             0.5,
             "#f7f7f7"
            ],
            [
             0.6,
             "#e6f5d0"
            ],
            [
             0.7,
             "#b8e186"
            ],
            [
             0.8,
             "#7fbc41"
            ],
            [
             0.9,
             "#4d9221"
            ],
            [
             1,
             "#276419"
            ]
           ],
           "sequential": [
            [
             0,
             "#0d0887"
            ],
            [
             0.1111111111111111,
             "#46039f"
            ],
            [
             0.2222222222222222,
             "#7201a8"
            ],
            [
             0.3333333333333333,
             "#9c179e"
            ],
            [
             0.4444444444444444,
             "#bd3786"
            ],
            [
             0.5555555555555556,
             "#d8576b"
            ],
            [
             0.6666666666666666,
             "#ed7953"
            ],
            [
             0.7777777777777778,
             "#fb9f3a"
            ],
            [
             0.8888888888888888,
             "#fdca26"
            ],
            [
             1,
             "#f0f921"
            ]
           ],
           "sequentialminus": [
            [
             0,
             "#0d0887"
            ],
            [
             0.1111111111111111,
             "#46039f"
            ],
            [
             0.2222222222222222,
             "#7201a8"
            ],
            [
             0.3333333333333333,
             "#9c179e"
            ],
            [
             0.4444444444444444,
             "#bd3786"
            ],
            [
             0.5555555555555556,
             "#d8576b"
            ],
            [
             0.6666666666666666,
             "#ed7953"
            ],
            [
             0.7777777777777778,
             "#fb9f3a"
            ],
            [
             0.8888888888888888,
             "#fdca26"
            ],
            [
             1,
             "#f0f921"
            ]
           ]
          },
          "colorway": [
           "#636efa",
           "#EF553B",
           "#00cc96",
           "#ab63fa",
           "#FFA15A",
           "#19d3f3",
           "#FF6692",
           "#B6E880",
           "#FF97FF",
           "#FECB52"
          ],
          "font": {
           "color": "#2a3f5f"
          },
          "geo": {
           "bgcolor": "white",
           "lakecolor": "white",
           "landcolor": "#E5ECF6",
           "showlakes": true,
           "showland": true,
           "subunitcolor": "white"
          },
          "hoverlabel": {
           "align": "left"
          },
          "hovermode": "closest",
          "mapbox": {
           "style": "light"
          },
          "paper_bgcolor": "white",
          "plot_bgcolor": "#E5ECF6",
          "polar": {
           "angularaxis": {
            "gridcolor": "white",
            "linecolor": "white",
            "ticks": ""
           },
           "bgcolor": "#E5ECF6",
           "radialaxis": {
            "gridcolor": "white",
            "linecolor": "white",
            "ticks": ""
           }
          },
          "scene": {
           "xaxis": {
            "backgroundcolor": "#E5ECF6",
            "gridcolor": "white",
            "gridwidth": 2,
            "linecolor": "white",
            "showbackground": true,
            "ticks": "",
            "zerolinecolor": "white"
           },
           "yaxis": {
            "backgroundcolor": "#E5ECF6",
            "gridcolor": "white",
            "gridwidth": 2,
            "linecolor": "white",
            "showbackground": true,
            "ticks": "",
            "zerolinecolor": "white"
           },
           "zaxis": {
            "backgroundcolor": "#E5ECF6",
            "gridcolor": "white",
            "gridwidth": 2,
            "linecolor": "white",
            "showbackground": true,
            "ticks": "",
            "zerolinecolor": "white"
           }
          },
          "shapedefaults": {
           "line": {
            "color": "#2a3f5f"
           }
          },
          "ternary": {
           "aaxis": {
            "gridcolor": "white",
            "linecolor": "white",
            "ticks": ""
           },
           "baxis": {
            "gridcolor": "white",
            "linecolor": "white",
            "ticks": ""
           },
           "bgcolor": "#E5ECF6",
           "caxis": {
            "gridcolor": "white",
            "linecolor": "white",
            "ticks": ""
           }
          },
          "title": {
           "x": 0.05
          },
          "xaxis": {
           "automargin": true,
           "gridcolor": "white",
           "linecolor": "white",
           "ticks": "",
           "title": {
            "standoff": 15
           },
           "zerolinecolor": "white",
           "zerolinewidth": 2
          },
          "yaxis": {
           "automargin": true,
           "gridcolor": "white",
           "linecolor": "white",
           "ticks": "",
           "title": {
            "standoff": 15
           },
           "zerolinecolor": "white",
           "zerolinewidth": 2
          }
         }
        },
        "title": {
         "text": "Dataset machine 614"
        },
        "width": 1280,
        "xaxis": {
         "anchor": "y",
         "domain": [
          0,
          1
         ],
         "matches": "x3",
         "showticklabels": false
        },
        "xaxis2": {
         "anchor": "y2",
         "domain": [
          0,
          1
         ],
         "matches": "x3",
         "showticklabels": false
        },
        "xaxis3": {
         "anchor": "y3",
         "domain": [
          0,
          1
         ]
        },
        "yaxis": {
         "anchor": "x",
         "domain": [
          0.7066666666666667,
          1
         ]
        },
        "yaxis2": {
         "anchor": "x2",
         "domain": [
          0.35333333333333333,
          0.6466666666666667
         ]
        },
        "yaxis3": {
         "anchor": "x3",
         "domain": [
          0,
          0.29333333333333333
         ]
        }
       }
      }
     },
     "metadata": {},
     "output_type": "display_data"
    },
    {
     "data": {
      "application/vnd.plotly.v1+json": {
       "config": {
        "plotlyServerURL": "https://plot.ly"
       },
       "data": [
        {
         "marker": {
          "color": "black",
          "size": 10
         },
         "mode": "markers+lines",
         "name": "Unknown Energy",
         "text": [
          2026.4,
          1875.7,
          2608.4,
          2169.2,
          3029,
          3144.6,
          3024.5,
          2761.8,
          2931.2,
          3079,
          3087.4,
          1851.7,
          881.1,
          914.7,
          964.5,
          840.4,
          871.3,
          958.2,
          811.3,
          865,
          864.7,
          807.5,
          2500,
          2570.3,
          3136.1,
          2919.8,
          1447.3,
          2922.7,
          2682.5,
          1702.2,
          1604.8,
          1645,
          0,
          2317,
          1421.2,
          1381.9,
          1258.6,
          2985.7,
          3035.9,
          2948.7,
          2913.9,
          2928.7,
          3132.3,
          2922.9,
          2446,
          843.6,
          2581.7,
          3004.9,
          2907,
          2554.1,
          1417.7,
          2878.1,
          2891.9,
          2897.7,
          3071.3,
          3029.5,
          2779.4,
          2871.2,
          2202.4,
          2970.2,
          2792.4,
          1797.5,
          1355.6,
          3107.8,
          3029.9,
          3126.1,
          2757,
          2654.3,
          2314.4,
          2446,
          3009.3,
          3175.4,
          2767.8,
          2961.2,
          3042.8,
          2986.6,
          3125.1,
          2970,
          3148.5,
          3026.1,
          3163.8,
          2557.6,
          2838.1,
          0,
          0,
          0,
          0,
          0,
          0,
          0,
          0,
          2397.1,
          2824.2,
          2993.3,
          2623.7,
          2967.8,
          2959.4,
          2823.7,
          3043,
          3096.3,
          2776.7,
          2589.7,
          1043.8,
          2176.4,
          2700.4,
          1541.6,
          966.1,
          924.1,
          1021.3,
          1021.7,
          2382.6,
          3052,
          3073.3,
          1014.5,
          2090.2,
          2977.6,
          3017.5,
          2484.5,
          1013,
          2428.7,
          2948.8,
          3112.9,
          3090.7,
          3003.6,
          3075.9,
          3178.4,
          3035.9,
          2672.4
         ],
         "type": "scatter",
         "x": [
          "2022-12-01T09:22:30",
          "2022-12-01T09:37:30",
          "2022-12-01T09:52:30",
          "2022-12-01T10:07:30",
          "2022-12-01T10:22:30",
          "2022-12-01T10:37:30",
          "2022-12-01T10:52:30",
          "2022-12-01T11:07:30",
          "2022-12-01T11:22:30",
          "2022-12-01T11:37:30",
          "2022-12-01T11:52:30",
          "2022-12-01T15:22:30",
          "2022-12-01T15:37:30",
          "2022-12-01T15:52:30",
          "2022-12-01T16:07:30",
          "2022-12-01T16:22:30",
          "2022-12-01T16:37:30",
          "2022-12-01T16:52:30",
          "2022-12-01T17:07:30",
          "2022-12-01T17:22:30",
          "2022-12-01T17:37:30",
          "2022-12-01T17:52:30",
          "2022-12-01T19:22:30",
          "2022-12-01T19:37:30",
          "2022-12-01T19:52:30",
          "2022-12-01T20:07:30",
          "2022-12-01T20:22:30",
          "2022-12-01T20:37:30",
          "2022-12-01T20:52:30",
          "2022-12-01T21:07:30",
          "2022-12-01T21:22:30",
          "2022-12-01T21:37:30",
          "2022-12-01T21:52:30",
          "2022-12-02T00:22:30",
          "2022-12-02T00:37:30",
          "2022-12-02T00:52:30",
          "2022-12-02T01:07:30",
          "2022-12-02T01:22:30",
          "2022-12-02T01:37:30",
          "2022-12-02T01:52:30",
          "2022-12-02T02:07:30",
          "2022-12-02T02:22:30",
          "2022-12-02T02:37:30",
          "2022-12-02T02:52:30",
          "2022-12-02T04:07:30",
          "2022-12-02T04:22:30",
          "2022-12-02T04:37:30",
          "2022-12-02T04:52:30",
          "2022-12-02T05:07:30",
          "2022-12-02T05:22:30",
          "2022-12-02T05:37:30",
          "2022-12-02T05:52:30",
          "2022-12-02T06:07:30",
          "2022-12-02T06:22:30",
          "2022-12-02T06:37:30",
          "2022-12-02T06:52:30",
          "2022-12-02T07:07:30",
          "2022-12-02T07:22:30",
          "2022-12-02T07:37:30",
          "2022-12-02T07:52:30",
          "2022-12-02T08:07:30",
          "2022-12-02T14:52:30",
          "2022-12-02T15:07:30",
          "2022-12-02T15:22:30",
          "2022-12-02T15:37:30",
          "2022-12-02T15:52:30",
          "2022-12-02T16:07:30",
          "2022-12-02T16:22:30",
          "2022-12-02T16:37:30",
          "2022-12-02T16:52:30",
          "2022-12-02T17:07:30",
          "2022-12-02T17:22:30",
          "2022-12-02T20:22:30",
          "2022-12-02T20:37:30",
          "2022-12-02T20:52:30",
          "2022-12-02T21:07:30",
          "2022-12-02T21:22:30",
          "2022-12-02T21:37:30",
          "2022-12-02T21:52:30",
          "2022-12-02T22:07:30",
          "2022-12-02T22:22:30",
          "2022-12-02T22:37:30",
          "2022-12-02T22:52:30",
          "2022-12-02T23:07:30",
          "2022-12-02T23:22:30",
          "2022-12-03T01:22:30",
          "2022-12-04T23:52:30",
          "2022-12-05T00:07:30",
          "2022-12-05T00:22:30",
          "2022-12-05T00:37:30",
          "2022-12-05T00:52:30",
          "2022-12-05T05:37:30",
          "2022-12-05T05:52:30",
          "2022-12-05T06:07:30",
          "2022-12-05T06:22:30",
          "2022-12-05T06:37:30",
          "2022-12-05T06:52:30",
          "2022-12-05T07:07:30",
          "2022-12-05T07:22:30",
          "2022-12-05T07:37:30",
          "2022-12-05T07:52:30",
          "2022-12-05T08:07:30",
          "2022-12-05T09:07:30",
          "2022-12-05T09:22:30",
          "2022-12-05T09:37:30",
          "2022-12-05T09:52:30",
          "2022-12-05T10:07:30",
          "2022-12-05T10:22:30",
          "2022-12-05T10:37:30",
          "2022-12-05T10:52:30",
          "2022-12-05T11:07:30",
          "2022-12-05T11:22:30",
          "2022-12-05T11:37:30",
          "2022-12-05T17:37:30",
          "2022-12-05T17:52:30",
          "2022-12-05T18:07:30",
          "2022-12-05T18:22:30",
          "2022-12-05T18:37:30",
          "2022-12-05T18:52:30",
          "2022-12-05T19:07:30",
          "2022-12-05T19:22:30",
          "2022-12-05T19:37:30",
          "2022-12-05T19:52:30",
          "2022-12-05T20:07:30",
          "2022-12-05T20:22:30",
          "2022-12-05T20:37:30",
          "2022-12-05T20:52:30",
          "2022-12-05T21:07:30"
         ],
         "xaxis": "x",
         "y": [
          2026.4,
          1875.7,
          2608.4,
          2169.2,
          3029,
          3144.6,
          3024.5,
          2761.8,
          2931.2,
          3079,
          3087.4,
          1851.7,
          881.1,
          914.7,
          964.5,
          840.4,
          871.3,
          958.2,
          811.3,
          865,
          864.7,
          807.5,
          2500,
          2570.3,
          3136.1,
          2919.8,
          1447.3,
          2922.7,
          2682.5,
          1702.2,
          1604.8,
          1645,
          0,
          2317,
          1421.2,
          1381.9,
          1258.6,
          2985.7,
          3035.9,
          2948.7,
          2913.9,
          2928.7,
          3132.3,
          2922.9,
          2446,
          843.6,
          2581.7,
          3004.9,
          2907,
          2554.1,
          1417.7,
          2878.1,
          2891.9,
          2897.7,
          3071.3,
          3029.5,
          2779.4,
          2871.2,
          2202.4,
          2970.2,
          2792.4,
          1797.5,
          1355.6,
          3107.8,
          3029.9,
          3126.1,
          2757,
          2654.3,
          2314.4,
          2446,
          3009.3,
          3175.4,
          2767.8,
          2961.2,
          3042.8,
          2986.6,
          3125.1,
          2970,
          3148.5,
          3026.1,
          3163.8,
          2557.6,
          2838.1,
          0,
          0,
          0,
          0,
          0,
          0,
          0,
          0,
          2397.1,
          2824.2,
          2993.3,
          2623.7,
          2967.8,
          2959.4,
          2823.7,
          3043,
          3096.3,
          2776.7,
          2589.7,
          1043.8,
          2176.4,
          2700.4,
          1541.6,
          966.1,
          924.1,
          1021.3,
          1021.7,
          2382.6,
          3052,
          3073.3,
          1014.5,
          2090.2,
          2977.6,
          3017.5,
          2484.5,
          1013,
          2428.7,
          2948.8,
          3112.9,
          3090.7,
          3003.6,
          3075.9,
          3178.4,
          3035.9,
          2672.4
         ],
         "yaxis": "y"
        },
        {
         "marker": {
          "color": "black",
          "size": 10
         },
         "mode": "markers+lines",
         "name": "Unknown Productions",
         "text": [
          0,
          0,
          0,
          0,
          0,
          0,
          0,
          0,
          0,
          0,
          0,
          0,
          0,
          0,
          0,
          0,
          0,
          0,
          0,
          0,
          0,
          0,
          0,
          0,
          0,
          0,
          0,
          0,
          0,
          0,
          0,
          0,
          0,
          0,
          0,
          0,
          0,
          0,
          0,
          0,
          0,
          0,
          0,
          0,
          0,
          0,
          0,
          0,
          0,
          0,
          0,
          0,
          0,
          0,
          0,
          0,
          0,
          0,
          0,
          0,
          0,
          0,
          0,
          0,
          0,
          0,
          0,
          0,
          0,
          0,
          0,
          0,
          0,
          0,
          0,
          0,
          0,
          0,
          0,
          0,
          0,
          0,
          0,
          0,
          0,
          0,
          0,
          0,
          0,
          0,
          0,
          0,
          0,
          0,
          0,
          0,
          0,
          0,
          0,
          0,
          0,
          0,
          0,
          0,
          0,
          0,
          0,
          0,
          0,
          0,
          0,
          0,
          0,
          0,
          0,
          0,
          0,
          0,
          0,
          0,
          0,
          0,
          0,
          0,
          0,
          0,
          0,
          0
         ],
         "type": "scatter",
         "x": [
          "2022-12-01T09:22:30",
          "2022-12-01T09:37:30",
          "2022-12-01T09:52:30",
          "2022-12-01T10:07:30",
          "2022-12-01T10:22:30",
          "2022-12-01T10:37:30",
          "2022-12-01T10:52:30",
          "2022-12-01T11:07:30",
          "2022-12-01T11:22:30",
          "2022-12-01T11:37:30",
          "2022-12-01T11:52:30",
          "2022-12-01T15:22:30",
          "2022-12-01T15:37:30",
          "2022-12-01T15:52:30",
          "2022-12-01T16:07:30",
          "2022-12-01T16:22:30",
          "2022-12-01T16:37:30",
          "2022-12-01T16:52:30",
          "2022-12-01T17:07:30",
          "2022-12-01T17:22:30",
          "2022-12-01T17:37:30",
          "2022-12-01T17:52:30",
          "2022-12-01T19:22:30",
          "2022-12-01T19:37:30",
          "2022-12-01T19:52:30",
          "2022-12-01T20:07:30",
          "2022-12-01T20:22:30",
          "2022-12-01T20:37:30",
          "2022-12-01T20:52:30",
          "2022-12-01T21:07:30",
          "2022-12-01T21:22:30",
          "2022-12-01T21:37:30",
          "2022-12-01T21:52:30",
          "2022-12-02T00:22:30",
          "2022-12-02T00:37:30",
          "2022-12-02T00:52:30",
          "2022-12-02T01:07:30",
          "2022-12-02T01:22:30",
          "2022-12-02T01:37:30",
          "2022-12-02T01:52:30",
          "2022-12-02T02:07:30",
          "2022-12-02T02:22:30",
          "2022-12-02T02:37:30",
          "2022-12-02T02:52:30",
          "2022-12-02T04:07:30",
          "2022-12-02T04:22:30",
          "2022-12-02T04:37:30",
          "2022-12-02T04:52:30",
          "2022-12-02T05:07:30",
          "2022-12-02T05:22:30",
          "2022-12-02T05:37:30",
          "2022-12-02T05:52:30",
          "2022-12-02T06:07:30",
          "2022-12-02T06:22:30",
          "2022-12-02T06:37:30",
          "2022-12-02T06:52:30",
          "2022-12-02T07:07:30",
          "2022-12-02T07:22:30",
          "2022-12-02T07:37:30",
          "2022-12-02T07:52:30",
          "2022-12-02T08:07:30",
          "2022-12-02T14:52:30",
          "2022-12-02T15:07:30",
          "2022-12-02T15:22:30",
          "2022-12-02T15:37:30",
          "2022-12-02T15:52:30",
          "2022-12-02T16:07:30",
          "2022-12-02T16:22:30",
          "2022-12-02T16:37:30",
          "2022-12-02T16:52:30",
          "2022-12-02T17:07:30",
          "2022-12-02T17:22:30",
          "2022-12-02T20:22:30",
          "2022-12-02T20:37:30",
          "2022-12-02T20:52:30",
          "2022-12-02T21:07:30",
          "2022-12-02T21:22:30",
          "2022-12-02T21:37:30",
          "2022-12-02T21:52:30",
          "2022-12-02T22:07:30",
          "2022-12-02T22:22:30",
          "2022-12-02T22:37:30",
          "2022-12-02T22:52:30",
          "2022-12-02T23:07:30",
          "2022-12-02T23:22:30",
          "2022-12-03T01:22:30",
          "2022-12-04T23:52:30",
          "2022-12-05T00:07:30",
          "2022-12-05T00:22:30",
          "2022-12-05T00:37:30",
          "2022-12-05T00:52:30",
          "2022-12-05T05:37:30",
          "2022-12-05T05:52:30",
          "2022-12-05T06:07:30",
          "2022-12-05T06:22:30",
          "2022-12-05T06:37:30",
          "2022-12-05T06:52:30",
          "2022-12-05T07:07:30",
          "2022-12-05T07:22:30",
          "2022-12-05T07:37:30",
          "2022-12-05T07:52:30",
          "2022-12-05T08:07:30",
          "2022-12-05T09:07:30",
          "2022-12-05T09:22:30",
          "2022-12-05T09:37:30",
          "2022-12-05T09:52:30",
          "2022-12-05T10:07:30",
          "2022-12-05T10:22:30",
          "2022-12-05T10:37:30",
          "2022-12-05T10:52:30",
          "2022-12-05T11:07:30",
          "2022-12-05T11:22:30",
          "2022-12-05T11:37:30",
          "2022-12-05T17:37:30",
          "2022-12-05T17:52:30",
          "2022-12-05T18:07:30",
          "2022-12-05T18:22:30",
          "2022-12-05T18:37:30",
          "2022-12-05T18:52:30",
          "2022-12-05T19:07:30",
          "2022-12-05T19:22:30",
          "2022-12-05T19:37:30",
          "2022-12-05T19:52:30",
          "2022-12-05T20:07:30",
          "2022-12-05T20:22:30",
          "2022-12-05T20:37:30",
          "2022-12-05T20:52:30",
          "2022-12-05T21:07:30"
         ],
         "xaxis": "x2",
         "y": [
          0,
          0,
          0,
          0,
          0,
          0,
          0,
          0,
          0,
          0,
          0,
          0,
          0,
          0,
          0,
          0,
          0,
          0,
          0,
          0,
          0,
          0,
          0,
          0,
          0,
          0,
          0,
          0,
          0,
          0,
          0,
          0,
          0,
          0,
          0,
          0,
          0,
          0,
          0,
          0,
          0,
          0,
          0,
          0,
          0,
          0,
          0,
          0,
          0,
          0,
          0,
          0,
          0,
          0,
          0,
          0,
          0,
          0,
          0,
          0,
          0,
          0,
          0,
          0,
          0,
          0,
          0,
          0,
          0,
          0,
          0,
          0,
          0,
          0,
          0,
          0,
          0,
          0,
          0,
          0,
          0,
          0,
          0,
          0,
          0,
          0,
          0,
          0,
          0,
          0,
          0,
          0,
          0,
          0,
          0,
          0,
          0,
          0,
          0,
          0,
          0,
          0,
          0,
          0,
          0,
          0,
          0,
          0,
          0,
          0,
          0,
          0,
          0,
          0,
          0,
          0,
          0,
          0,
          0,
          0,
          0,
          0,
          0,
          0,
          0,
          0,
          0,
          0
         ],
         "yaxis": "y2"
        },
        {
         "marker": {
          "color": "black",
          "size": 10
         },
         "mode": "markers",
         "name": "Unknown Stops",
         "type": "scatter",
         "x": [
          "2022-12-01T09:22:30",
          "2022-12-01T09:37:30",
          "2022-12-01T09:52:30",
          "2022-12-01T10:07:30",
          "2022-12-01T10:22:30",
          "2022-12-01T10:37:30",
          "2022-12-01T10:52:30",
          "2022-12-01T11:07:30",
          "2022-12-01T11:22:30",
          "2022-12-01T11:37:30",
          "2022-12-01T11:52:30",
          "2022-12-01T15:22:30",
          "2022-12-01T15:37:30",
          "2022-12-01T15:52:30",
          "2022-12-01T16:07:30",
          "2022-12-01T16:22:30",
          "2022-12-01T16:37:30",
          "2022-12-01T16:52:30",
          "2022-12-01T17:07:30",
          "2022-12-01T17:22:30",
          "2022-12-01T17:37:30",
          "2022-12-01T17:52:30",
          "2022-12-01T19:22:30",
          "2022-12-01T19:37:30",
          "2022-12-01T19:52:30",
          "2022-12-01T20:07:30",
          "2022-12-01T20:22:30",
          "2022-12-01T20:37:30",
          "2022-12-01T20:52:30",
          "2022-12-01T21:07:30",
          "2022-12-01T21:22:30",
          "2022-12-01T21:37:30",
          "2022-12-01T21:52:30",
          "2022-12-02T00:22:30",
          "2022-12-02T00:37:30",
          "2022-12-02T00:52:30",
          "2022-12-02T01:07:30",
          "2022-12-02T01:22:30",
          "2022-12-02T01:37:30",
          "2022-12-02T01:52:30",
          "2022-12-02T02:07:30",
          "2022-12-02T02:22:30",
          "2022-12-02T02:37:30",
          "2022-12-02T02:52:30",
          "2022-12-02T04:07:30",
          "2022-12-02T04:22:30",
          "2022-12-02T04:37:30",
          "2022-12-02T04:52:30",
          "2022-12-02T05:07:30",
          "2022-12-02T05:22:30",
          "2022-12-02T05:37:30",
          "2022-12-02T05:52:30",
          "2022-12-02T06:07:30",
          "2022-12-02T06:22:30",
          "2022-12-02T06:37:30",
          "2022-12-02T06:52:30",
          "2022-12-02T07:07:30",
          "2022-12-02T07:22:30",
          "2022-12-02T07:37:30",
          "2022-12-02T07:52:30",
          "2022-12-02T08:07:30",
          "2022-12-02T14:52:30",
          "2022-12-02T15:07:30",
          "2022-12-02T15:22:30",
          "2022-12-02T15:37:30",
          "2022-12-02T15:52:30",
          "2022-12-02T16:07:30",
          "2022-12-02T16:22:30",
          "2022-12-02T16:37:30",
          "2022-12-02T16:52:30",
          "2022-12-02T17:07:30",
          "2022-12-02T17:22:30",
          "2022-12-02T20:22:30",
          "2022-12-02T20:37:30",
          "2022-12-02T20:52:30",
          "2022-12-02T21:07:30",
          "2022-12-02T21:22:30",
          "2022-12-02T21:37:30",
          "2022-12-02T21:52:30",
          "2022-12-02T22:07:30",
          "2022-12-02T22:22:30",
          "2022-12-02T22:37:30",
          "2022-12-02T22:52:30",
          "2022-12-02T23:07:30",
          "2022-12-02T23:22:30",
          "2022-12-03T01:22:30",
          "2022-12-04T23:52:30",
          "2022-12-05T00:07:30",
          "2022-12-05T00:22:30",
          "2022-12-05T00:37:30",
          "2022-12-05T00:52:30",
          "2022-12-05T05:37:30",
          "2022-12-05T05:52:30",
          "2022-12-05T06:07:30",
          "2022-12-05T06:22:30",
          "2022-12-05T06:37:30",
          "2022-12-05T06:52:30",
          "2022-12-05T07:07:30",
          "2022-12-05T07:22:30",
          "2022-12-05T07:37:30",
          "2022-12-05T07:52:30",
          "2022-12-05T08:07:30",
          "2022-12-05T09:07:30",
          "2022-12-05T09:22:30",
          "2022-12-05T09:37:30",
          "2022-12-05T09:52:30",
          "2022-12-05T10:07:30",
          "2022-12-05T10:22:30",
          "2022-12-05T10:37:30",
          "2022-12-05T10:52:30",
          "2022-12-05T11:07:30",
          "2022-12-05T11:22:30",
          "2022-12-05T11:37:30",
          "2022-12-05T17:37:30",
          "2022-12-05T17:52:30",
          "2022-12-05T18:07:30",
          "2022-12-05T18:22:30",
          "2022-12-05T18:37:30",
          "2022-12-05T18:52:30",
          "2022-12-05T19:07:30",
          "2022-12-05T19:22:30",
          "2022-12-05T19:37:30",
          "2022-12-05T19:52:30",
          "2022-12-05T20:07:30",
          "2022-12-05T20:22:30",
          "2022-12-05T20:37:30",
          "2022-12-05T20:52:30",
          "2022-12-05T21:07:30"
         ],
         "xaxis": "x3",
         "y": [
          "Running",
          "Running",
          "Running",
          "Running",
          "Running",
          "Sostituzione utensile",
          "Running",
          "Running",
          "Running",
          "Running",
          "Running",
          "Running",
          "Running",
          "Running",
          "Running",
          "Running",
          "Manutenzione straordinaria",
          "Running",
          "Running",
          "Running",
          "Running",
          "Running",
          "Running",
          "Running",
          "Running",
          "Running",
          "Running",
          "Affilatura utensile",
          "Running",
          "Running",
          "Running",
          "Running",
          "Running",
          "Running",
          "Running",
          "Running",
          "Running",
          "Running",
          "Manutenzione ordinaria",
          "Running",
          "Running",
          "Running",
          "Running",
          "Running",
          "Running",
          "Running",
          "Running",
          "Running",
          "Running",
          "Sostituzione utensile",
          "Running",
          "Running",
          "Running",
          "Running",
          "Sostituzione utensile",
          "Sostituzione utensile",
          "Running",
          "Running",
          "Running",
          "Running",
          "Running",
          "Running",
          "Running",
          "Running",
          "Running",
          "Running",
          "Affilatura utensile",
          "Running",
          "Running",
          "Running",
          "Running",
          "Running",
          "Running",
          "Running",
          "Running",
          "Running",
          "Running",
          "Manutenzione ordinaria",
          "Running",
          "Running",
          "Running",
          "Running",
          "Running",
          "Running",
          "Running",
          "Sostituzione utensile",
          "Running",
          "Running",
          "Running",
          "Running",
          "Running",
          "Running",
          "Running",
          "Running",
          "Running",
          "Running",
          "Affilatura utensile",
          "Running",
          "Running",
          "Running",
          "Running",
          "Running",
          "Running",
          "Running",
          "Running",
          "Running",
          "Running",
          "Affilatura utensile",
          "Running",
          "Running",
          "Running",
          "Running",
          "Running",
          "Running",
          "Running",
          "Running",
          "Running",
          "Running",
          "Sostituzione utensile",
          "Running",
          "Running",
          "Running",
          "Sostituzione utensile",
          "Running",
          "Running",
          "Running",
          "Running",
          "Running"
         ],
         "yaxis": "y3"
        }
       ],
       "layout": {
        "annotations": [
         {
          "font": {
           "size": 16
          },
          "showarrow": false,
          "text": "Energy Consumption",
          "x": 0.5,
          "xanchor": "center",
          "xref": "paper",
          "y": 1,
          "yanchor": "bottom",
          "yref": "paper"
         },
         {
          "font": {
           "size": 16
          },
          "showarrow": false,
          "text": "Productions",
          "x": 0.5,
          "xanchor": "center",
          "xref": "paper",
          "y": 0.6466666666666667,
          "yanchor": "bottom",
          "yref": "paper"
         },
         {
          "font": {
           "size": 16
          },
          "showarrow": false,
          "text": "Stops",
          "x": 0.5,
          "xanchor": "center",
          "xref": "paper",
          "y": 0.29333333333333333,
          "yanchor": "bottom",
          "yref": "paper"
         }
        ],
        "height": 800,
        "template": {
         "data": {
          "bar": [
           {
            "error_x": {
             "color": "#2a3f5f"
            },
            "error_y": {
             "color": "#2a3f5f"
            },
            "marker": {
             "line": {
              "color": "#E5ECF6",
              "width": 0.5
             },
             "pattern": {
              "fillmode": "overlay",
              "size": 10,
              "solidity": 0.2
             }
            },
            "type": "bar"
           }
          ],
          "barpolar": [
           {
            "marker": {
             "line": {
              "color": "#E5ECF6",
              "width": 0.5
             },
             "pattern": {
              "fillmode": "overlay",
              "size": 10,
              "solidity": 0.2
             }
            },
            "type": "barpolar"
           }
          ],
          "carpet": [
           {
            "aaxis": {
             "endlinecolor": "#2a3f5f",
             "gridcolor": "white",
             "linecolor": "white",
             "minorgridcolor": "white",
             "startlinecolor": "#2a3f5f"
            },
            "baxis": {
             "endlinecolor": "#2a3f5f",
             "gridcolor": "white",
             "linecolor": "white",
             "minorgridcolor": "white",
             "startlinecolor": "#2a3f5f"
            },
            "type": "carpet"
           }
          ],
          "choropleth": [
           {
            "colorbar": {
             "outlinewidth": 0,
             "ticks": ""
            },
            "type": "choropleth"
           }
          ],
          "contour": [
           {
            "colorbar": {
             "outlinewidth": 0,
             "ticks": ""
            },
            "colorscale": [
             [
              0,
              "#0d0887"
             ],
             [
              0.1111111111111111,
              "#46039f"
             ],
             [
              0.2222222222222222,
              "#7201a8"
             ],
             [
              0.3333333333333333,
              "#9c179e"
             ],
             [
              0.4444444444444444,
              "#bd3786"
             ],
             [
              0.5555555555555556,
              "#d8576b"
             ],
             [
              0.6666666666666666,
              "#ed7953"
             ],
             [
              0.7777777777777778,
              "#fb9f3a"
             ],
             [
              0.8888888888888888,
              "#fdca26"
             ],
             [
              1,
              "#f0f921"
             ]
            ],
            "type": "contour"
           }
          ],
          "contourcarpet": [
           {
            "colorbar": {
             "outlinewidth": 0,
             "ticks": ""
            },
            "type": "contourcarpet"
           }
          ],
          "heatmap": [
           {
            "colorbar": {
             "outlinewidth": 0,
             "ticks": ""
            },
            "colorscale": [
             [
              0,
              "#0d0887"
             ],
             [
              0.1111111111111111,
              "#46039f"
             ],
             [
              0.2222222222222222,
              "#7201a8"
             ],
             [
              0.3333333333333333,
              "#9c179e"
             ],
             [
              0.4444444444444444,
              "#bd3786"
             ],
             [
              0.5555555555555556,
              "#d8576b"
             ],
             [
              0.6666666666666666,
              "#ed7953"
             ],
             [
              0.7777777777777778,
              "#fb9f3a"
             ],
             [
              0.8888888888888888,
              "#fdca26"
             ],
             [
              1,
              "#f0f921"
             ]
            ],
            "type": "heatmap"
           }
          ],
          "heatmapgl": [
           {
            "colorbar": {
             "outlinewidth": 0,
             "ticks": ""
            },
            "colorscale": [
             [
              0,
              "#0d0887"
             ],
             [
              0.1111111111111111,
              "#46039f"
             ],
             [
              0.2222222222222222,
              "#7201a8"
             ],
             [
              0.3333333333333333,
              "#9c179e"
             ],
             [
              0.4444444444444444,
              "#bd3786"
             ],
             [
              0.5555555555555556,
              "#d8576b"
             ],
             [
              0.6666666666666666,
              "#ed7953"
             ],
             [
              0.7777777777777778,
              "#fb9f3a"
             ],
             [
              0.8888888888888888,
              "#fdca26"
             ],
             [
              1,
              "#f0f921"
             ]
            ],
            "type": "heatmapgl"
           }
          ],
          "histogram": [
           {
            "marker": {
             "pattern": {
              "fillmode": "overlay",
              "size": 10,
              "solidity": 0.2
             }
            },
            "type": "histogram"
           }
          ],
          "histogram2d": [
           {
            "colorbar": {
             "outlinewidth": 0,
             "ticks": ""
            },
            "colorscale": [
             [
              0,
              "#0d0887"
             ],
             [
              0.1111111111111111,
              "#46039f"
             ],
             [
              0.2222222222222222,
              "#7201a8"
             ],
             [
              0.3333333333333333,
              "#9c179e"
             ],
             [
              0.4444444444444444,
              "#bd3786"
             ],
             [
              0.5555555555555556,
              "#d8576b"
             ],
             [
              0.6666666666666666,
              "#ed7953"
             ],
             [
              0.7777777777777778,
              "#fb9f3a"
             ],
             [
              0.8888888888888888,
              "#fdca26"
             ],
             [
              1,
              "#f0f921"
             ]
            ],
            "type": "histogram2d"
           }
          ],
          "histogram2dcontour": [
           {
            "colorbar": {
             "outlinewidth": 0,
             "ticks": ""
            },
            "colorscale": [
             [
              0,
              "#0d0887"
             ],
             [
              0.1111111111111111,
              "#46039f"
             ],
             [
              0.2222222222222222,
              "#7201a8"
             ],
             [
              0.3333333333333333,
              "#9c179e"
             ],
             [
              0.4444444444444444,
              "#bd3786"
             ],
             [
              0.5555555555555556,
              "#d8576b"
             ],
             [
              0.6666666666666666,
              "#ed7953"
             ],
             [
              0.7777777777777778,
              "#fb9f3a"
             ],
             [
              0.8888888888888888,
              "#fdca26"
             ],
             [
              1,
              "#f0f921"
             ]
            ],
            "type": "histogram2dcontour"
           }
          ],
          "mesh3d": [
           {
            "colorbar": {
             "outlinewidth": 0,
             "ticks": ""
            },
            "type": "mesh3d"
           }
          ],
          "parcoords": [
           {
            "line": {
             "colorbar": {
              "outlinewidth": 0,
              "ticks": ""
             }
            },
            "type": "parcoords"
           }
          ],
          "pie": [
           {
            "automargin": true,
            "type": "pie"
           }
          ],
          "scatter": [
           {
            "fillpattern": {
             "fillmode": "overlay",
             "size": 10,
             "solidity": 0.2
            },
            "type": "scatter"
           }
          ],
          "scatter3d": [
           {
            "line": {
             "colorbar": {
              "outlinewidth": 0,
              "ticks": ""
             }
            },
            "marker": {
             "colorbar": {
              "outlinewidth": 0,
              "ticks": ""
             }
            },
            "type": "scatter3d"
           }
          ],
          "scattercarpet": [
           {
            "marker": {
             "colorbar": {
              "outlinewidth": 0,
              "ticks": ""
             }
            },
            "type": "scattercarpet"
           }
          ],
          "scattergeo": [
           {
            "marker": {
             "colorbar": {
              "outlinewidth": 0,
              "ticks": ""
             }
            },
            "type": "scattergeo"
           }
          ],
          "scattergl": [
           {
            "marker": {
             "colorbar": {
              "outlinewidth": 0,
              "ticks": ""
             }
            },
            "type": "scattergl"
           }
          ],
          "scattermapbox": [
           {
            "marker": {
             "colorbar": {
              "outlinewidth": 0,
              "ticks": ""
             }
            },
            "type": "scattermapbox"
           }
          ],
          "scatterpolar": [
           {
            "marker": {
             "colorbar": {
              "outlinewidth": 0,
              "ticks": ""
             }
            },
            "type": "scatterpolar"
           }
          ],
          "scatterpolargl": [
           {
            "marker": {
             "colorbar": {
              "outlinewidth": 0,
              "ticks": ""
             }
            },
            "type": "scatterpolargl"
           }
          ],
          "scatterternary": [
           {
            "marker": {
             "colorbar": {
              "outlinewidth": 0,
              "ticks": ""
             }
            },
            "type": "scatterternary"
           }
          ],
          "surface": [
           {
            "colorbar": {
             "outlinewidth": 0,
             "ticks": ""
            },
            "colorscale": [
             [
              0,
              "#0d0887"
             ],
             [
              0.1111111111111111,
              "#46039f"
             ],
             [
              0.2222222222222222,
              "#7201a8"
             ],
             [
              0.3333333333333333,
              "#9c179e"
             ],
             [
              0.4444444444444444,
              "#bd3786"
             ],
             [
              0.5555555555555556,
              "#d8576b"
             ],
             [
              0.6666666666666666,
              "#ed7953"
             ],
             [
              0.7777777777777778,
              "#fb9f3a"
             ],
             [
              0.8888888888888888,
              "#fdca26"
             ],
             [
              1,
              "#f0f921"
             ]
            ],
            "type": "surface"
           }
          ],
          "table": [
           {
            "cells": {
             "fill": {
              "color": "#EBF0F8"
             },
             "line": {
              "color": "white"
             }
            },
            "header": {
             "fill": {
              "color": "#C8D4E3"
             },
             "line": {
              "color": "white"
             }
            },
            "type": "table"
           }
          ]
         },
         "layout": {
          "annotationdefaults": {
           "arrowcolor": "#2a3f5f",
           "arrowhead": 0,
           "arrowwidth": 1
          },
          "autotypenumbers": "strict",
          "coloraxis": {
           "colorbar": {
            "outlinewidth": 0,
            "ticks": ""
           }
          },
          "colorscale": {
           "diverging": [
            [
             0,
             "#8e0152"
            ],
            [
             0.1,
             "#c51b7d"
            ],
            [
             0.2,
             "#de77ae"
            ],
            [
             0.3,
             "#f1b6da"
            ],
            [
             0.4,
             "#fde0ef"
            ],
            [
             0.5,
             "#f7f7f7"
            ],
            [
             0.6,
             "#e6f5d0"
            ],
            [
             0.7,
             "#b8e186"
            ],
            [
             0.8,
             "#7fbc41"
            ],
            [
             0.9,
             "#4d9221"
            ],
            [
             1,
             "#276419"
            ]
           ],
           "sequential": [
            [
             0,
             "#0d0887"
            ],
            [
             0.1111111111111111,
             "#46039f"
            ],
            [
             0.2222222222222222,
             "#7201a8"
            ],
            [
             0.3333333333333333,
             "#9c179e"
            ],
            [
             0.4444444444444444,
             "#bd3786"
            ],
            [
             0.5555555555555556,
             "#d8576b"
            ],
            [
             0.6666666666666666,
             "#ed7953"
            ],
            [
             0.7777777777777778,
             "#fb9f3a"
            ],
            [
             0.8888888888888888,
             "#fdca26"
            ],
            [
             1,
             "#f0f921"
            ]
           ],
           "sequentialminus": [
            [
             0,
             "#0d0887"
            ],
            [
             0.1111111111111111,
             "#46039f"
            ],
            [
             0.2222222222222222,
             "#7201a8"
            ],
            [
             0.3333333333333333,
             "#9c179e"
            ],
            [
             0.4444444444444444,
             "#bd3786"
            ],
            [
             0.5555555555555556,
             "#d8576b"
            ],
            [
             0.6666666666666666,
             "#ed7953"
            ],
            [
             0.7777777777777778,
             "#fb9f3a"
            ],
            [
             0.8888888888888888,
             "#fdca26"
            ],
            [
             1,
             "#f0f921"
            ]
           ]
          },
          "colorway": [
           "#636efa",
           "#EF553B",
           "#00cc96",
           "#ab63fa",
           "#FFA15A",
           "#19d3f3",
           "#FF6692",
           "#B6E880",
           "#FF97FF",
           "#FECB52"
          ],
          "font": {
           "color": "#2a3f5f"
          },
          "geo": {
           "bgcolor": "white",
           "lakecolor": "white",
           "landcolor": "#E5ECF6",
           "showlakes": true,
           "showland": true,
           "subunitcolor": "white"
          },
          "hoverlabel": {
           "align": "left"
          },
          "hovermode": "closest",
          "mapbox": {
           "style": "light"
          },
          "paper_bgcolor": "white",
          "plot_bgcolor": "#E5ECF6",
          "polar": {
           "angularaxis": {
            "gridcolor": "white",
            "linecolor": "white",
            "ticks": ""
           },
           "bgcolor": "#E5ECF6",
           "radialaxis": {
            "gridcolor": "white",
            "linecolor": "white",
            "ticks": ""
           }
          },
          "scene": {
           "xaxis": {
            "backgroundcolor": "#E5ECF6",
            "gridcolor": "white",
            "gridwidth": 2,
            "linecolor": "white",
            "showbackground": true,
            "ticks": "",
            "zerolinecolor": "white"
           },
           "yaxis": {
            "backgroundcolor": "#E5ECF6",
            "gridcolor": "white",
            "gridwidth": 2,
            "linecolor": "white",
            "showbackground": true,
            "ticks": "",
            "zerolinecolor": "white"
           },
           "zaxis": {
            "backgroundcolor": "#E5ECF6",
            "gridcolor": "white",
            "gridwidth": 2,
            "linecolor": "white",
            "showbackground": true,
            "ticks": "",
            "zerolinecolor": "white"
           }
          },
          "shapedefaults": {
           "line": {
            "color": "#2a3f5f"
           }
          },
          "ternary": {
           "aaxis": {
            "gridcolor": "white",
            "linecolor": "white",
            "ticks": ""
           },
           "baxis": {
            "gridcolor": "white",
            "linecolor": "white",
            "ticks": ""
           },
           "bgcolor": "#E5ECF6",
           "caxis": {
            "gridcolor": "white",
            "linecolor": "white",
            "ticks": ""
           }
          },
          "title": {
           "x": 0.05
          },
          "xaxis": {
           "automargin": true,
           "gridcolor": "white",
           "linecolor": "white",
           "ticks": "",
           "title": {
            "standoff": 15
           },
           "zerolinecolor": "white",
           "zerolinewidth": 2
          },
          "yaxis": {
           "automargin": true,
           "gridcolor": "white",
           "linecolor": "white",
           "ticks": "",
           "title": {
            "standoff": 15
           },
           "zerolinecolor": "white",
           "zerolinewidth": 2
          }
         }
        },
        "title": {
         "text": "Dataset machine 611"
        },
        "width": 1280,
        "xaxis": {
         "anchor": "y",
         "domain": [
          0,
          1
         ],
         "matches": "x3",
         "showticklabels": false
        },
        "xaxis2": {
         "anchor": "y2",
         "domain": [
          0,
          1
         ],
         "matches": "x3",
         "showticklabels": false
        },
        "xaxis3": {
         "anchor": "y3",
         "domain": [
          0,
          1
         ]
        },
        "yaxis": {
         "anchor": "x",
         "domain": [
          0.7066666666666667,
          1
         ]
        },
        "yaxis2": {
         "anchor": "x2",
         "domain": [
          0.35333333333333333,
          0.6466666666666667
         ]
        },
        "yaxis3": {
         "anchor": "x3",
         "domain": [
          0,
          0.29333333333333333
         ]
        }
       }
      }
     },
     "metadata": {},
     "output_type": "display_data"
    },
    {
     "data": {
      "application/vnd.plotly.v1+json": {
       "config": {
        "plotlyServerURL": "https://plot.ly"
       },
       "data": [
        {
         "marker": {
          "color": "blue",
          "size": 10
         },
         "mode": "markers+lines",
         "name": "AVP Energy",
         "text": [
          0,
          0,
          0,
          0,
          0
         ],
         "type": "scatter",
         "x": [
          "2022-11-29T18:37:30",
          "2022-11-29T18:52:30",
          "2022-11-29T19:07:30",
          "2022-11-29T19:22:30",
          "2022-11-29T19:37:30"
         ],
         "xaxis": "x",
         "y": [
          0,
          0,
          0,
          0,
          0
         ],
         "yaxis": "y"
        },
        {
         "marker": {
          "color": "blue",
          "size": 10
         },
         "mode": "markers+lines",
         "name": "AVP Productions",
         "text": [
          0,
          0,
          0,
          0,
          0
         ],
         "type": "scatter",
         "x": [
          "2022-11-29T18:37:30",
          "2022-11-29T18:52:30",
          "2022-11-29T19:07:30",
          "2022-11-29T19:22:30",
          "2022-11-29T19:37:30"
         ],
         "xaxis": "x2",
         "y": [
          0,
          0,
          0,
          0,
          0
         ],
         "yaxis": "y2"
        },
        {
         "marker": {
          "color": "blue",
          "size": 10
         },
         "mode": "markers",
         "name": "AVP Stops",
         "type": "scatter",
         "x": [
          "2022-11-29T18:37:30",
          "2022-11-29T18:52:30",
          "2022-11-29T19:07:30",
          "2022-11-29T19:22:30",
          "2022-11-29T19:37:30"
         ],
         "xaxis": "x3",
         "y": [
          "Running",
          "Running",
          "Running",
          "Running",
          "Running"
         ],
         "yaxis": "y3"
        },
        {
         "marker": {
          "color": "black",
          "size": 10
         },
         "mode": "markers+lines",
         "name": "Unknown Energy",
         "text": [
          0,
          0,
          0,
          5253.2,
          5688.7,
          6404.1,
          6178.7,
          6103.5,
          14287.4,
          13425.7,
          13661.6,
          13621.9,
          14172.1,
          13817.2,
          14645.3,
          12840.6,
          11662.6,
          13918.6,
          10600.1,
          8584.5,
          12638.2,
          13227.5,
          13603.2,
          10830.9,
          12741.6,
          13014.4,
          13776.3,
          12386.8,
          12195.3,
          11621.9,
          9071.9,
          13835.9,
          14490.6,
          15261.5,
          13585.2,
          13154.4,
          15300.6,
          15237.9,
          0,
          0,
          10399,
          10637.7,
          13617,
          14253.3,
          15328.6,
          14353.7,
          14051.9,
          15364.9,
          15419.2,
          15222.4,
          15203.4,
          12325.9,
          13617,
          14667,
          15142.8,
          13971.6,
          14268.4,
          10282.5,
          12329.5,
          15200.9,
          15292.5,
          14956,
          14553.4,
          7436.5,
          10363.8,
          13066.9,
          15086.8,
          15268.1,
          14919.8,
          15296.6,
          14827,
          15218.1,
          13033.2
         ],
         "type": "scatter",
         "x": [
          "2022-11-30T14:37:30",
          "2022-11-30T16:07:30",
          "2022-11-30T23:07:30",
          "2022-11-30T23:52:30",
          "2022-12-01T00:07:30",
          "2022-12-01T00:22:30",
          "2022-12-01T00:37:30",
          "2022-12-01T00:52:30",
          "2022-12-01T10:07:30",
          "2022-12-01T10:22:30",
          "2022-12-01T10:37:30",
          "2022-12-01T10:52:30",
          "2022-12-01T11:07:30",
          "2022-12-01T11:22:30",
          "2022-12-01T11:37:30",
          "2022-12-01T11:52:30",
          "2022-12-01T12:07:30",
          "2022-12-01T12:22:30",
          "2022-12-01T12:37:30",
          "2022-12-01T12:52:30",
          "2022-12-01T13:07:30",
          "2022-12-01T13:22:30",
          "2022-12-01T13:37:30",
          "2022-12-01T13:52:30",
          "2022-12-01T14:07:30",
          "2022-12-01T14:22:30",
          "2022-12-01T14:37:30",
          "2022-12-01T14:52:30",
          "2022-12-01T15:07:30",
          "2022-12-01T19:37:30",
          "2022-12-01T19:52:30",
          "2022-12-01T20:07:30",
          "2022-12-01T20:22:30",
          "2022-12-01T20:37:30",
          "2022-12-01T20:52:30",
          "2022-12-01T21:07:30",
          "2022-12-01T21:22:30",
          "2022-12-01T21:37:30",
          "2022-12-01T21:52:30",
          "2022-12-01T22:07:30",
          "2022-12-01T23:52:30",
          "2022-12-02T00:07:30",
          "2022-12-02T00:22:30",
          "2022-12-02T00:37:30",
          "2022-12-02T00:52:30",
          "2022-12-02T01:07:30",
          "2022-12-02T01:22:30",
          "2022-12-02T01:37:30",
          "2022-12-02T01:52:30",
          "2022-12-02T02:07:30",
          "2022-12-02T02:22:30",
          "2022-12-02T03:52:30",
          "2022-12-02T04:07:30",
          "2022-12-02T04:22:30",
          "2022-12-02T04:37:30",
          "2022-12-02T04:52:30",
          "2022-12-02T05:07:30",
          "2022-12-02T05:22:30",
          "2022-12-02T05:37:30",
          "2022-12-02T05:52:30",
          "2022-12-02T06:07:30",
          "2022-12-02T06:22:30",
          "2022-12-02T11:22:30",
          "2022-12-02T11:37:30",
          "2022-12-02T11:52:30",
          "2022-12-02T12:07:30",
          "2022-12-02T12:22:30",
          "2022-12-02T12:37:30",
          "2022-12-02T12:52:30",
          "2022-12-02T13:07:30",
          "2022-12-02T13:22:30",
          "2022-12-02T13:37:30",
          "2022-12-02T13:52:30"
         ],
         "xaxis": "x",
         "y": [
          0,
          0,
          0,
          5253.2,
          5688.7,
          6404.1,
          6178.7,
          6103.5,
          14287.4,
          13425.7,
          13661.6,
          13621.9,
          14172.1,
          13817.2,
          14645.3,
          12840.6,
          11662.6,
          13918.6,
          10600.1,
          8584.5,
          12638.2,
          13227.5,
          13603.2,
          10830.9,
          12741.6,
          13014.4,
          13776.3,
          12386.8,
          12195.3,
          11621.9,
          9071.9,
          13835.9,
          14490.6,
          15261.5,
          13585.2,
          13154.4,
          15300.6,
          15237.9,
          0,
          0,
          10399,
          10637.7,
          13617,
          14253.3,
          15328.6,
          14353.7,
          14051.9,
          15364.9,
          15419.2,
          15222.4,
          15203.4,
          12325.9,
          13617,
          14667,
          15142.8,
          13971.6,
          14268.4,
          10282.5,
          12329.5,
          15200.9,
          15292.5,
          14956,
          14553.4,
          7436.5,
          10363.8,
          13066.9,
          15086.8,
          15268.1,
          14919.8,
          15296.6,
          14827,
          15218.1,
          13033.2
         ],
         "yaxis": "y"
        },
        {
         "marker": {
          "color": "black",
          "size": 10
         },
         "mode": "markers+lines",
         "name": "Unknown Productions",
         "text": [
          0,
          0,
          0,
          0,
          0,
          0,
          0,
          0,
          0,
          0,
          0,
          0,
          0,
          0,
          0,
          0,
          0,
          0,
          0,
          0,
          0,
          0,
          0,
          0,
          0,
          0,
          0,
          0,
          0,
          0,
          0,
          0,
          0,
          0,
          0,
          0,
          0,
          0,
          0,
          0,
          0,
          0,
          0,
          0,
          0,
          0,
          0,
          0,
          0,
          0,
          0,
          0,
          0,
          0,
          0,
          0,
          0,
          0,
          0,
          0,
          0,
          0,
          0,
          0,
          0,
          0,
          0,
          0,
          0,
          0,
          0,
          0,
          0
         ],
         "type": "scatter",
         "x": [
          "2022-11-30T14:37:30",
          "2022-11-30T16:07:30",
          "2022-11-30T23:07:30",
          "2022-11-30T23:52:30",
          "2022-12-01T00:07:30",
          "2022-12-01T00:22:30",
          "2022-12-01T00:37:30",
          "2022-12-01T00:52:30",
          "2022-12-01T10:07:30",
          "2022-12-01T10:22:30",
          "2022-12-01T10:37:30",
          "2022-12-01T10:52:30",
          "2022-12-01T11:07:30",
          "2022-12-01T11:22:30",
          "2022-12-01T11:37:30",
          "2022-12-01T11:52:30",
          "2022-12-01T12:07:30",
          "2022-12-01T12:22:30",
          "2022-12-01T12:37:30",
          "2022-12-01T12:52:30",
          "2022-12-01T13:07:30",
          "2022-12-01T13:22:30",
          "2022-12-01T13:37:30",
          "2022-12-01T13:52:30",
          "2022-12-01T14:07:30",
          "2022-12-01T14:22:30",
          "2022-12-01T14:37:30",
          "2022-12-01T14:52:30",
          "2022-12-01T15:07:30",
          "2022-12-01T19:37:30",
          "2022-12-01T19:52:30",
          "2022-12-01T20:07:30",
          "2022-12-01T20:22:30",
          "2022-12-01T20:37:30",
          "2022-12-01T20:52:30",
          "2022-12-01T21:07:30",
          "2022-12-01T21:22:30",
          "2022-12-01T21:37:30",
          "2022-12-01T21:52:30",
          "2022-12-01T22:07:30",
          "2022-12-01T23:52:30",
          "2022-12-02T00:07:30",
          "2022-12-02T00:22:30",
          "2022-12-02T00:37:30",
          "2022-12-02T00:52:30",
          "2022-12-02T01:07:30",
          "2022-12-02T01:22:30",
          "2022-12-02T01:37:30",
          "2022-12-02T01:52:30",
          "2022-12-02T02:07:30",
          "2022-12-02T02:22:30",
          "2022-12-02T03:52:30",
          "2022-12-02T04:07:30",
          "2022-12-02T04:22:30",
          "2022-12-02T04:37:30",
          "2022-12-02T04:52:30",
          "2022-12-02T05:07:30",
          "2022-12-02T05:22:30",
          "2022-12-02T05:37:30",
          "2022-12-02T05:52:30",
          "2022-12-02T06:07:30",
          "2022-12-02T06:22:30",
          "2022-12-02T11:22:30",
          "2022-12-02T11:37:30",
          "2022-12-02T11:52:30",
          "2022-12-02T12:07:30",
          "2022-12-02T12:22:30",
          "2022-12-02T12:37:30",
          "2022-12-02T12:52:30",
          "2022-12-02T13:07:30",
          "2022-12-02T13:22:30",
          "2022-12-02T13:37:30",
          "2022-12-02T13:52:30"
         ],
         "xaxis": "x2",
         "y": [
          0,
          0,
          0,
          0,
          0,
          0,
          0,
          0,
          0,
          0,
          0,
          0,
          0,
          0,
          0,
          0,
          0,
          0,
          0,
          0,
          0,
          0,
          0,
          0,
          0,
          0,
          0,
          0,
          0,
          0,
          0,
          0,
          0,
          0,
          0,
          0,
          0,
          0,
          0,
          0,
          0,
          0,
          0,
          0,
          0,
          0,
          0,
          0,
          0,
          0,
          0,
          0,
          0,
          0,
          0,
          0,
          0,
          0,
          0,
          0,
          0,
          0,
          0,
          0,
          0,
          0,
          0,
          0,
          0,
          0,
          0,
          0,
          0
         ],
         "yaxis": "y2"
        },
        {
         "marker": {
          "color": "black",
          "size": 10
         },
         "mode": "markers",
         "name": "Unknown Stops",
         "type": "scatter",
         "x": [
          "2022-11-30T14:37:30",
          "2022-11-30T16:07:30",
          "2022-11-30T23:07:30",
          "2022-11-30T23:52:30",
          "2022-12-01T00:07:30",
          "2022-12-01T00:22:30",
          "2022-12-01T00:37:30",
          "2022-12-01T00:52:30",
          "2022-12-01T10:07:30",
          "2022-12-01T10:22:30",
          "2022-12-01T10:37:30",
          "2022-12-01T10:52:30",
          "2022-12-01T11:07:30",
          "2022-12-01T11:22:30",
          "2022-12-01T11:37:30",
          "2022-12-01T11:52:30",
          "2022-12-01T12:07:30",
          "2022-12-01T12:22:30",
          "2022-12-01T12:37:30",
          "2022-12-01T12:52:30",
          "2022-12-01T13:07:30",
          "2022-12-01T13:22:30",
          "2022-12-01T13:37:30",
          "2022-12-01T13:52:30",
          "2022-12-01T14:07:30",
          "2022-12-01T14:22:30",
          "2022-12-01T14:37:30",
          "2022-12-01T14:52:30",
          "2022-12-01T15:07:30",
          "2022-12-01T19:37:30",
          "2022-12-01T19:52:30",
          "2022-12-01T20:07:30",
          "2022-12-01T20:22:30",
          "2022-12-01T20:37:30",
          "2022-12-01T20:52:30",
          "2022-12-01T21:07:30",
          "2022-12-01T21:22:30",
          "2022-12-01T21:37:30",
          "2022-12-01T21:52:30",
          "2022-12-01T22:07:30",
          "2022-12-01T23:52:30",
          "2022-12-02T00:07:30",
          "2022-12-02T00:22:30",
          "2022-12-02T00:37:30",
          "2022-12-02T00:52:30",
          "2022-12-02T01:07:30",
          "2022-12-02T01:22:30",
          "2022-12-02T01:37:30",
          "2022-12-02T01:52:30",
          "2022-12-02T02:07:30",
          "2022-12-02T02:22:30",
          "2022-12-02T03:52:30",
          "2022-12-02T04:07:30",
          "2022-12-02T04:22:30",
          "2022-12-02T04:37:30",
          "2022-12-02T04:52:30",
          "2022-12-02T05:07:30",
          "2022-12-02T05:22:30",
          "2022-12-02T05:37:30",
          "2022-12-02T05:52:30",
          "2022-12-02T06:07:30",
          "2022-12-02T06:22:30",
          "2022-12-02T11:22:30",
          "2022-12-02T11:37:30",
          "2022-12-02T11:52:30",
          "2022-12-02T12:07:30",
          "2022-12-02T12:22:30",
          "2022-12-02T12:37:30",
          "2022-12-02T12:52:30",
          "2022-12-02T13:07:30",
          "2022-12-02T13:22:30",
          "2022-12-02T13:37:30",
          "2022-12-02T13:52:30"
         ],
         "xaxis": "x3",
         "y": [
          "Manutenzione ordinaria",
          "Manutenzione straordinaria",
          "Sostituzione utensile",
          "Running",
          "Running",
          "Running",
          "Running",
          "Running",
          "Running",
          "Running",
          "Running",
          "Running",
          "Running",
          "Sostituzione utensile",
          "Running",
          "Running",
          "Running",
          "Running",
          "Running",
          "Running",
          "Running",
          "Running",
          "Manutenzione ordinaria",
          "Manutenzione ordinaria",
          "Running",
          "Running",
          "Running",
          "Running",
          "Running",
          "Running",
          "Running",
          "Running",
          "Running",
          "Running",
          "Sostituzione utensile",
          "Running",
          "Running",
          "Running",
          "Running",
          "Running",
          "Running",
          "Running",
          "Running",
          "Running",
          "Running",
          "Sostituzione utensile",
          "Running",
          "Running",
          "Running",
          "Running",
          "Running",
          "Running",
          "Running",
          "Running",
          "Running",
          "Running",
          "Sostituzione utensile",
          "Running",
          "Running",
          "Running",
          "Running",
          "Running",
          "Running",
          "Running",
          "Running",
          "Running",
          "Running",
          "Sostituzione utensile",
          "Running",
          "Running",
          "Running",
          "Running",
          "Running"
         ],
         "yaxis": "y3"
        }
       ],
       "layout": {
        "annotations": [
         {
          "font": {
           "size": 16
          },
          "showarrow": false,
          "text": "Energy Consumption",
          "x": 0.5,
          "xanchor": "center",
          "xref": "paper",
          "y": 1,
          "yanchor": "bottom",
          "yref": "paper"
         },
         {
          "font": {
           "size": 16
          },
          "showarrow": false,
          "text": "Productions",
          "x": 0.5,
          "xanchor": "center",
          "xref": "paper",
          "y": 0.6466666666666667,
          "yanchor": "bottom",
          "yref": "paper"
         },
         {
          "font": {
           "size": 16
          },
          "showarrow": false,
          "text": "Stops",
          "x": 0.5,
          "xanchor": "center",
          "xref": "paper",
          "y": 0.29333333333333333,
          "yanchor": "bottom",
          "yref": "paper"
         }
        ],
        "height": 800,
        "template": {
         "data": {
          "bar": [
           {
            "error_x": {
             "color": "#2a3f5f"
            },
            "error_y": {
             "color": "#2a3f5f"
            },
            "marker": {
             "line": {
              "color": "#E5ECF6",
              "width": 0.5
             },
             "pattern": {
              "fillmode": "overlay",
              "size": 10,
              "solidity": 0.2
             }
            },
            "type": "bar"
           }
          ],
          "barpolar": [
           {
            "marker": {
             "line": {
              "color": "#E5ECF6",
              "width": 0.5
             },
             "pattern": {
              "fillmode": "overlay",
              "size": 10,
              "solidity": 0.2
             }
            },
            "type": "barpolar"
           }
          ],
          "carpet": [
           {
            "aaxis": {
             "endlinecolor": "#2a3f5f",
             "gridcolor": "white",
             "linecolor": "white",
             "minorgridcolor": "white",
             "startlinecolor": "#2a3f5f"
            },
            "baxis": {
             "endlinecolor": "#2a3f5f",
             "gridcolor": "white",
             "linecolor": "white",
             "minorgridcolor": "white",
             "startlinecolor": "#2a3f5f"
            },
            "type": "carpet"
           }
          ],
          "choropleth": [
           {
            "colorbar": {
             "outlinewidth": 0,
             "ticks": ""
            },
            "type": "choropleth"
           }
          ],
          "contour": [
           {
            "colorbar": {
             "outlinewidth": 0,
             "ticks": ""
            },
            "colorscale": [
             [
              0,
              "#0d0887"
             ],
             [
              0.1111111111111111,
              "#46039f"
             ],
             [
              0.2222222222222222,
              "#7201a8"
             ],
             [
              0.3333333333333333,
              "#9c179e"
             ],
             [
              0.4444444444444444,
              "#bd3786"
             ],
             [
              0.5555555555555556,
              "#d8576b"
             ],
             [
              0.6666666666666666,
              "#ed7953"
             ],
             [
              0.7777777777777778,
              "#fb9f3a"
             ],
             [
              0.8888888888888888,
              "#fdca26"
             ],
             [
              1,
              "#f0f921"
             ]
            ],
            "type": "contour"
           }
          ],
          "contourcarpet": [
           {
            "colorbar": {
             "outlinewidth": 0,
             "ticks": ""
            },
            "type": "contourcarpet"
           }
          ],
          "heatmap": [
           {
            "colorbar": {
             "outlinewidth": 0,
             "ticks": ""
            },
            "colorscale": [
             [
              0,
              "#0d0887"
             ],
             [
              0.1111111111111111,
              "#46039f"
             ],
             [
              0.2222222222222222,
              "#7201a8"
             ],
             [
              0.3333333333333333,
              "#9c179e"
             ],
             [
              0.4444444444444444,
              "#bd3786"
             ],
             [
              0.5555555555555556,
              "#d8576b"
             ],
             [
              0.6666666666666666,
              "#ed7953"
             ],
             [
              0.7777777777777778,
              "#fb9f3a"
             ],
             [
              0.8888888888888888,
              "#fdca26"
             ],
             [
              1,
              "#f0f921"
             ]
            ],
            "type": "heatmap"
           }
          ],
          "heatmapgl": [
           {
            "colorbar": {
             "outlinewidth": 0,
             "ticks": ""
            },
            "colorscale": [
             [
              0,
              "#0d0887"
             ],
             [
              0.1111111111111111,
              "#46039f"
             ],
             [
              0.2222222222222222,
              "#7201a8"
             ],
             [
              0.3333333333333333,
              "#9c179e"
             ],
             [
              0.4444444444444444,
              "#bd3786"
             ],
             [
              0.5555555555555556,
              "#d8576b"
             ],
             [
              0.6666666666666666,
              "#ed7953"
             ],
             [
              0.7777777777777778,
              "#fb9f3a"
             ],
             [
              0.8888888888888888,
              "#fdca26"
             ],
             [
              1,
              "#f0f921"
             ]
            ],
            "type": "heatmapgl"
           }
          ],
          "histogram": [
           {
            "marker": {
             "pattern": {
              "fillmode": "overlay",
              "size": 10,
              "solidity": 0.2
             }
            },
            "type": "histogram"
           }
          ],
          "histogram2d": [
           {
            "colorbar": {
             "outlinewidth": 0,
             "ticks": ""
            },
            "colorscale": [
             [
              0,
              "#0d0887"
             ],
             [
              0.1111111111111111,
              "#46039f"
             ],
             [
              0.2222222222222222,
              "#7201a8"
             ],
             [
              0.3333333333333333,
              "#9c179e"
             ],
             [
              0.4444444444444444,
              "#bd3786"
             ],
             [
              0.5555555555555556,
              "#d8576b"
             ],
             [
              0.6666666666666666,
              "#ed7953"
             ],
             [
              0.7777777777777778,
              "#fb9f3a"
             ],
             [
              0.8888888888888888,
              "#fdca26"
             ],
             [
              1,
              "#f0f921"
             ]
            ],
            "type": "histogram2d"
           }
          ],
          "histogram2dcontour": [
           {
            "colorbar": {
             "outlinewidth": 0,
             "ticks": ""
            },
            "colorscale": [
             [
              0,
              "#0d0887"
             ],
             [
              0.1111111111111111,
              "#46039f"
             ],
             [
              0.2222222222222222,
              "#7201a8"
             ],
             [
              0.3333333333333333,
              "#9c179e"
             ],
             [
              0.4444444444444444,
              "#bd3786"
             ],
             [
              0.5555555555555556,
              "#d8576b"
             ],
             [
              0.6666666666666666,
              "#ed7953"
             ],
             [
              0.7777777777777778,
              "#fb9f3a"
             ],
             [
              0.8888888888888888,
              "#fdca26"
             ],
             [
              1,
              "#f0f921"
             ]
            ],
            "type": "histogram2dcontour"
           }
          ],
          "mesh3d": [
           {
            "colorbar": {
             "outlinewidth": 0,
             "ticks": ""
            },
            "type": "mesh3d"
           }
          ],
          "parcoords": [
           {
            "line": {
             "colorbar": {
              "outlinewidth": 0,
              "ticks": ""
             }
            },
            "type": "parcoords"
           }
          ],
          "pie": [
           {
            "automargin": true,
            "type": "pie"
           }
          ],
          "scatter": [
           {
            "fillpattern": {
             "fillmode": "overlay",
             "size": 10,
             "solidity": 0.2
            },
            "type": "scatter"
           }
          ],
          "scatter3d": [
           {
            "line": {
             "colorbar": {
              "outlinewidth": 0,
              "ticks": ""
             }
            },
            "marker": {
             "colorbar": {
              "outlinewidth": 0,
              "ticks": ""
             }
            },
            "type": "scatter3d"
           }
          ],
          "scattercarpet": [
           {
            "marker": {
             "colorbar": {
              "outlinewidth": 0,
              "ticks": ""
             }
            },
            "type": "scattercarpet"
           }
          ],
          "scattergeo": [
           {
            "marker": {
             "colorbar": {
              "outlinewidth": 0,
              "ticks": ""
             }
            },
            "type": "scattergeo"
           }
          ],
          "scattergl": [
           {
            "marker": {
             "colorbar": {
              "outlinewidth": 0,
              "ticks": ""
             }
            },
            "type": "scattergl"
           }
          ],
          "scattermapbox": [
           {
            "marker": {
             "colorbar": {
              "outlinewidth": 0,
              "ticks": ""
             }
            },
            "type": "scattermapbox"
           }
          ],
          "scatterpolar": [
           {
            "marker": {
             "colorbar": {
              "outlinewidth": 0,
              "ticks": ""
             }
            },
            "type": "scatterpolar"
           }
          ],
          "scatterpolargl": [
           {
            "marker": {
             "colorbar": {
              "outlinewidth": 0,
              "ticks": ""
             }
            },
            "type": "scatterpolargl"
           }
          ],
          "scatterternary": [
           {
            "marker": {
             "colorbar": {
              "outlinewidth": 0,
              "ticks": ""
             }
            },
            "type": "scatterternary"
           }
          ],
          "surface": [
           {
            "colorbar": {
             "outlinewidth": 0,
             "ticks": ""
            },
            "colorscale": [
             [
              0,
              "#0d0887"
             ],
             [
              0.1111111111111111,
              "#46039f"
             ],
             [
              0.2222222222222222,
              "#7201a8"
             ],
             [
              0.3333333333333333,
              "#9c179e"
             ],
             [
              0.4444444444444444,
              "#bd3786"
             ],
             [
              0.5555555555555556,
              "#d8576b"
             ],
             [
              0.6666666666666666,
              "#ed7953"
             ],
             [
              0.7777777777777778,
              "#fb9f3a"
             ],
             [
              0.8888888888888888,
              "#fdca26"
             ],
             [
              1,
              "#f0f921"
             ]
            ],
            "type": "surface"
           }
          ],
          "table": [
           {
            "cells": {
             "fill": {
              "color": "#EBF0F8"
             },
             "line": {
              "color": "white"
             }
            },
            "header": {
             "fill": {
              "color": "#C8D4E3"
             },
             "line": {
              "color": "white"
             }
            },
            "type": "table"
           }
          ]
         },
         "layout": {
          "annotationdefaults": {
           "arrowcolor": "#2a3f5f",
           "arrowhead": 0,
           "arrowwidth": 1
          },
          "autotypenumbers": "strict",
          "coloraxis": {
           "colorbar": {
            "outlinewidth": 0,
            "ticks": ""
           }
          },
          "colorscale": {
           "diverging": [
            [
             0,
             "#8e0152"
            ],
            [
             0.1,
             "#c51b7d"
            ],
            [
             0.2,
             "#de77ae"
            ],
            [
             0.3,
             "#f1b6da"
            ],
            [
             0.4,
             "#fde0ef"
            ],
            [
             0.5,
             "#f7f7f7"
            ],
            [
             0.6,
             "#e6f5d0"
            ],
            [
             0.7,
             "#b8e186"
            ],
            [
             0.8,
             "#7fbc41"
            ],
            [
             0.9,
             "#4d9221"
            ],
            [
             1,
             "#276419"
            ]
           ],
           "sequential": [
            [
             0,
             "#0d0887"
            ],
            [
             0.1111111111111111,
             "#46039f"
            ],
            [
             0.2222222222222222,
             "#7201a8"
            ],
            [
             0.3333333333333333,
             "#9c179e"
            ],
            [
             0.4444444444444444,
             "#bd3786"
            ],
            [
             0.5555555555555556,
             "#d8576b"
            ],
            [
             0.6666666666666666,
             "#ed7953"
            ],
            [
             0.7777777777777778,
             "#fb9f3a"
            ],
            [
             0.8888888888888888,
             "#fdca26"
            ],
            [
             1,
             "#f0f921"
            ]
           ],
           "sequentialminus": [
            [
             0,
             "#0d0887"
            ],
            [
             0.1111111111111111,
             "#46039f"
            ],
            [
             0.2222222222222222,
             "#7201a8"
            ],
            [
             0.3333333333333333,
             "#9c179e"
            ],
            [
             0.4444444444444444,
             "#bd3786"
            ],
            [
             0.5555555555555556,
             "#d8576b"
            ],
            [
             0.6666666666666666,
             "#ed7953"
            ],
            [
             0.7777777777777778,
             "#fb9f3a"
            ],
            [
             0.8888888888888888,
             "#fdca26"
            ],
            [
             1,
             "#f0f921"
            ]
           ]
          },
          "colorway": [
           "#636efa",
           "#EF553B",
           "#00cc96",
           "#ab63fa",
           "#FFA15A",
           "#19d3f3",
           "#FF6692",
           "#B6E880",
           "#FF97FF",
           "#FECB52"
          ],
          "font": {
           "color": "#2a3f5f"
          },
          "geo": {
           "bgcolor": "white",
           "lakecolor": "white",
           "landcolor": "#E5ECF6",
           "showlakes": true,
           "showland": true,
           "subunitcolor": "white"
          },
          "hoverlabel": {
           "align": "left"
          },
          "hovermode": "closest",
          "mapbox": {
           "style": "light"
          },
          "paper_bgcolor": "white",
          "plot_bgcolor": "#E5ECF6",
          "polar": {
           "angularaxis": {
            "gridcolor": "white",
            "linecolor": "white",
            "ticks": ""
           },
           "bgcolor": "#E5ECF6",
           "radialaxis": {
            "gridcolor": "white",
            "linecolor": "white",
            "ticks": ""
           }
          },
          "scene": {
           "xaxis": {
            "backgroundcolor": "#E5ECF6",
            "gridcolor": "white",
            "gridwidth": 2,
            "linecolor": "white",
            "showbackground": true,
            "ticks": "",
            "zerolinecolor": "white"
           },
           "yaxis": {
            "backgroundcolor": "#E5ECF6",
            "gridcolor": "white",
            "gridwidth": 2,
            "linecolor": "white",
            "showbackground": true,
            "ticks": "",
            "zerolinecolor": "white"
           },
           "zaxis": {
            "backgroundcolor": "#E5ECF6",
            "gridcolor": "white",
            "gridwidth": 2,
            "linecolor": "white",
            "showbackground": true,
            "ticks": "",
            "zerolinecolor": "white"
           }
          },
          "shapedefaults": {
           "line": {
            "color": "#2a3f5f"
           }
          },
          "ternary": {
           "aaxis": {
            "gridcolor": "white",
            "linecolor": "white",
            "ticks": ""
           },
           "baxis": {
            "gridcolor": "white",
            "linecolor": "white",
            "ticks": ""
           },
           "bgcolor": "#E5ECF6",
           "caxis": {
            "gridcolor": "white",
            "linecolor": "white",
            "ticks": ""
           }
          },
          "title": {
           "x": 0.05
          },
          "xaxis": {
           "automargin": true,
           "gridcolor": "white",
           "linecolor": "white",
           "ticks": "",
           "title": {
            "standoff": 15
           },
           "zerolinecolor": "white",
           "zerolinewidth": 2
          },
          "yaxis": {
           "automargin": true,
           "gridcolor": "white",
           "linecolor": "white",
           "ticks": "",
           "title": {
            "standoff": 15
           },
           "zerolinecolor": "white",
           "zerolinewidth": 2
          }
         }
        },
        "title": {
         "text": "Dataset machine 610"
        },
        "width": 1280,
        "xaxis": {
         "anchor": "y",
         "domain": [
          0,
          1
         ],
         "matches": "x3",
         "showticklabels": false
        },
        "xaxis2": {
         "anchor": "y2",
         "domain": [
          0,
          1
         ],
         "matches": "x3",
         "showticklabels": false
        },
        "xaxis3": {
         "anchor": "y3",
         "domain": [
          0,
          1
         ]
        },
        "yaxis": {
         "anchor": "x",
         "domain": [
          0.7066666666666667,
          1
         ]
        },
        "yaxis2": {
         "anchor": "x2",
         "domain": [
          0.35333333333333333,
          0.6466666666666667
         ]
        },
        "yaxis3": {
         "anchor": "x3",
         "domain": [
          0,
          0.29333333333333333
         ]
        }
       }
      }
     },
     "metadata": {},
     "output_type": "display_data"
    },
    {
     "data": {
      "application/vnd.plotly.v1+json": {
       "config": {
        "plotlyServerURL": "https://plot.ly"
       },
       "data": [
        {
         "marker": {
          "color": "black",
          "size": 10
         },
         "mode": "markers+lines",
         "name": "Unknown Energy",
         "text": [
          2854.9,
          480.3,
          481.9,
          0,
          0,
          0,
          0,
          0,
          0,
          0,
          0,
          0,
          0,
          0,
          0,
          2784.5,
          3432.1,
          1688.7,
          3465.5,
          2721.1
         ],
         "type": "scatter",
         "x": [
          "2022-11-28T22:22:30",
          "2022-11-28T22:37:30",
          "2022-11-28T22:52:30",
          "2022-11-28T23:07:30",
          "2022-11-28T23:22:30",
          "2022-11-29T00:07:30",
          "2022-11-29T02:52:30",
          "2022-11-29T05:07:30",
          "2022-11-29T11:22:30",
          "2022-11-29T13:07:30",
          "2022-11-30T00:07:30",
          "2022-11-30T02:07:30",
          "2022-11-30T06:52:30",
          "2022-11-30T11:37:30",
          "2022-11-30T13:52:30",
          "2022-11-30T23:52:30",
          "2022-12-01T00:07:30",
          "2022-12-01T00:22:30",
          "2022-12-01T00:37:30",
          "2022-12-01T00:52:30"
         ],
         "xaxis": "x",
         "y": [
          2854.9,
          480.3,
          481.9,
          0,
          0,
          0,
          0,
          0,
          0,
          0,
          0,
          0,
          0,
          0,
          0,
          2784.5,
          3432.1,
          1688.7,
          3465.5,
          2721.1
         ],
         "yaxis": "y"
        },
        {
         "marker": {
          "color": "black",
          "size": 10
         },
         "mode": "markers+lines",
         "name": "Unknown Productions",
         "text": [
          0,
          0,
          0,
          0,
          0,
          0,
          0,
          0,
          0,
          0,
          0,
          0,
          0,
          0,
          0,
          0,
          0,
          0,
          0,
          0
         ],
         "type": "scatter",
         "x": [
          "2022-11-28T22:22:30",
          "2022-11-28T22:37:30",
          "2022-11-28T22:52:30",
          "2022-11-28T23:07:30",
          "2022-11-28T23:22:30",
          "2022-11-29T00:07:30",
          "2022-11-29T02:52:30",
          "2022-11-29T05:07:30",
          "2022-11-29T11:22:30",
          "2022-11-29T13:07:30",
          "2022-11-30T00:07:30",
          "2022-11-30T02:07:30",
          "2022-11-30T06:52:30",
          "2022-11-30T11:37:30",
          "2022-11-30T13:52:30",
          "2022-11-30T23:52:30",
          "2022-12-01T00:07:30",
          "2022-12-01T00:22:30",
          "2022-12-01T00:37:30",
          "2022-12-01T00:52:30"
         ],
         "xaxis": "x2",
         "y": [
          0,
          0,
          0,
          0,
          0,
          0,
          0,
          0,
          0,
          0,
          0,
          0,
          0,
          0,
          0,
          0,
          0,
          0,
          0,
          0
         ],
         "yaxis": "y2"
        },
        {
         "marker": {
          "color": "black",
          "size": 10
         },
         "mode": "markers",
         "name": "Unknown Stops",
         "type": "scatter",
         "x": [
          "2022-11-28T22:22:30",
          "2022-11-28T22:37:30",
          "2022-11-28T22:52:30",
          "2022-11-28T23:07:30",
          "2022-11-28T23:22:30",
          "2022-11-29T00:07:30",
          "2022-11-29T02:52:30",
          "2022-11-29T05:07:30",
          "2022-11-29T11:22:30",
          "2022-11-29T13:07:30",
          "2022-11-30T00:07:30",
          "2022-11-30T02:07:30",
          "2022-11-30T06:52:30",
          "2022-11-30T11:37:30",
          "2022-11-30T13:52:30",
          "2022-11-30T23:52:30",
          "2022-12-01T00:07:30",
          "2022-12-01T00:22:30",
          "2022-12-01T00:37:30",
          "2022-12-01T00:52:30"
         ],
         "xaxis": "x3",
         "y": [
          "Running",
          "Running",
          "Running",
          "Running",
          "Running",
          "Sostituzione utensile",
          "Sostituzione utensile",
          "Sostituzione utensile",
          "Manutenzione ordinaria",
          "Manutenzione ordinaria",
          "Sostituzione utensile",
          "Sostituzione utensile",
          "Manutenzione ordinaria",
          "Sostituzione utensile",
          "Manutenzione ordinaria",
          "Running",
          "Running",
          "Running",
          "Running",
          "Running"
         ],
         "yaxis": "y3"
        }
       ],
       "layout": {
        "annotations": [
         {
          "font": {
           "size": 16
          },
          "showarrow": false,
          "text": "Energy Consumption",
          "x": 0.5,
          "xanchor": "center",
          "xref": "paper",
          "y": 1,
          "yanchor": "bottom",
          "yref": "paper"
         },
         {
          "font": {
           "size": 16
          },
          "showarrow": false,
          "text": "Productions",
          "x": 0.5,
          "xanchor": "center",
          "xref": "paper",
          "y": 0.6466666666666667,
          "yanchor": "bottom",
          "yref": "paper"
         },
         {
          "font": {
           "size": 16
          },
          "showarrow": false,
          "text": "Stops",
          "x": 0.5,
          "xanchor": "center",
          "xref": "paper",
          "y": 0.29333333333333333,
          "yanchor": "bottom",
          "yref": "paper"
         }
        ],
        "height": 800,
        "template": {
         "data": {
          "bar": [
           {
            "error_x": {
             "color": "#2a3f5f"
            },
            "error_y": {
             "color": "#2a3f5f"
            },
            "marker": {
             "line": {
              "color": "#E5ECF6",
              "width": 0.5
             },
             "pattern": {
              "fillmode": "overlay",
              "size": 10,
              "solidity": 0.2
             }
            },
            "type": "bar"
           }
          ],
          "barpolar": [
           {
            "marker": {
             "line": {
              "color": "#E5ECF6",
              "width": 0.5
             },
             "pattern": {
              "fillmode": "overlay",
              "size": 10,
              "solidity": 0.2
             }
            },
            "type": "barpolar"
           }
          ],
          "carpet": [
           {
            "aaxis": {
             "endlinecolor": "#2a3f5f",
             "gridcolor": "white",
             "linecolor": "white",
             "minorgridcolor": "white",
             "startlinecolor": "#2a3f5f"
            },
            "baxis": {
             "endlinecolor": "#2a3f5f",
             "gridcolor": "white",
             "linecolor": "white",
             "minorgridcolor": "white",
             "startlinecolor": "#2a3f5f"
            },
            "type": "carpet"
           }
          ],
          "choropleth": [
           {
            "colorbar": {
             "outlinewidth": 0,
             "ticks": ""
            },
            "type": "choropleth"
           }
          ],
          "contour": [
           {
            "colorbar": {
             "outlinewidth": 0,
             "ticks": ""
            },
            "colorscale": [
             [
              0,
              "#0d0887"
             ],
             [
              0.1111111111111111,
              "#46039f"
             ],
             [
              0.2222222222222222,
              "#7201a8"
             ],
             [
              0.3333333333333333,
              "#9c179e"
             ],
             [
              0.4444444444444444,
              "#bd3786"
             ],
             [
              0.5555555555555556,
              "#d8576b"
             ],
             [
              0.6666666666666666,
              "#ed7953"
             ],
             [
              0.7777777777777778,
              "#fb9f3a"
             ],
             [
              0.8888888888888888,
              "#fdca26"
             ],
             [
              1,
              "#f0f921"
             ]
            ],
            "type": "contour"
           }
          ],
          "contourcarpet": [
           {
            "colorbar": {
             "outlinewidth": 0,
             "ticks": ""
            },
            "type": "contourcarpet"
           }
          ],
          "heatmap": [
           {
            "colorbar": {
             "outlinewidth": 0,
             "ticks": ""
            },
            "colorscale": [
             [
              0,
              "#0d0887"
             ],
             [
              0.1111111111111111,
              "#46039f"
             ],
             [
              0.2222222222222222,
              "#7201a8"
             ],
             [
              0.3333333333333333,
              "#9c179e"
             ],
             [
              0.4444444444444444,
              "#bd3786"
             ],
             [
              0.5555555555555556,
              "#d8576b"
             ],
             [
              0.6666666666666666,
              "#ed7953"
             ],
             [
              0.7777777777777778,
              "#fb9f3a"
             ],
             [
              0.8888888888888888,
              "#fdca26"
             ],
             [
              1,
              "#f0f921"
             ]
            ],
            "type": "heatmap"
           }
          ],
          "heatmapgl": [
           {
            "colorbar": {
             "outlinewidth": 0,
             "ticks": ""
            },
            "colorscale": [
             [
              0,
              "#0d0887"
             ],
             [
              0.1111111111111111,
              "#46039f"
             ],
             [
              0.2222222222222222,
              "#7201a8"
             ],
             [
              0.3333333333333333,
              "#9c179e"
             ],
             [
              0.4444444444444444,
              "#bd3786"
             ],
             [
              0.5555555555555556,
              "#d8576b"
             ],
             [
              0.6666666666666666,
              "#ed7953"
             ],
             [
              0.7777777777777778,
              "#fb9f3a"
             ],
             [
              0.8888888888888888,
              "#fdca26"
             ],
             [
              1,
              "#f0f921"
             ]
            ],
            "type": "heatmapgl"
           }
          ],
          "histogram": [
           {
            "marker": {
             "pattern": {
              "fillmode": "overlay",
              "size": 10,
              "solidity": 0.2
             }
            },
            "type": "histogram"
           }
          ],
          "histogram2d": [
           {
            "colorbar": {
             "outlinewidth": 0,
             "ticks": ""
            },
            "colorscale": [
             [
              0,
              "#0d0887"
             ],
             [
              0.1111111111111111,
              "#46039f"
             ],
             [
              0.2222222222222222,
              "#7201a8"
             ],
             [
              0.3333333333333333,
              "#9c179e"
             ],
             [
              0.4444444444444444,
              "#bd3786"
             ],
             [
              0.5555555555555556,
              "#d8576b"
             ],
             [
              0.6666666666666666,
              "#ed7953"
             ],
             [
              0.7777777777777778,
              "#fb9f3a"
             ],
             [
              0.8888888888888888,
              "#fdca26"
             ],
             [
              1,
              "#f0f921"
             ]
            ],
            "type": "histogram2d"
           }
          ],
          "histogram2dcontour": [
           {
            "colorbar": {
             "outlinewidth": 0,
             "ticks": ""
            },
            "colorscale": [
             [
              0,
              "#0d0887"
             ],
             [
              0.1111111111111111,
              "#46039f"
             ],
             [
              0.2222222222222222,
              "#7201a8"
             ],
             [
              0.3333333333333333,
              "#9c179e"
             ],
             [
              0.4444444444444444,
              "#bd3786"
             ],
             [
              0.5555555555555556,
              "#d8576b"
             ],
             [
              0.6666666666666666,
              "#ed7953"
             ],
             [
              0.7777777777777778,
              "#fb9f3a"
             ],
             [
              0.8888888888888888,
              "#fdca26"
             ],
             [
              1,
              "#f0f921"
             ]
            ],
            "type": "histogram2dcontour"
           }
          ],
          "mesh3d": [
           {
            "colorbar": {
             "outlinewidth": 0,
             "ticks": ""
            },
            "type": "mesh3d"
           }
          ],
          "parcoords": [
           {
            "line": {
             "colorbar": {
              "outlinewidth": 0,
              "ticks": ""
             }
            },
            "type": "parcoords"
           }
          ],
          "pie": [
           {
            "automargin": true,
            "type": "pie"
           }
          ],
          "scatter": [
           {
            "fillpattern": {
             "fillmode": "overlay",
             "size": 10,
             "solidity": 0.2
            },
            "type": "scatter"
           }
          ],
          "scatter3d": [
           {
            "line": {
             "colorbar": {
              "outlinewidth": 0,
              "ticks": ""
             }
            },
            "marker": {
             "colorbar": {
              "outlinewidth": 0,
              "ticks": ""
             }
            },
            "type": "scatter3d"
           }
          ],
          "scattercarpet": [
           {
            "marker": {
             "colorbar": {
              "outlinewidth": 0,
              "ticks": ""
             }
            },
            "type": "scattercarpet"
           }
          ],
          "scattergeo": [
           {
            "marker": {
             "colorbar": {
              "outlinewidth": 0,
              "ticks": ""
             }
            },
            "type": "scattergeo"
           }
          ],
          "scattergl": [
           {
            "marker": {
             "colorbar": {
              "outlinewidth": 0,
              "ticks": ""
             }
            },
            "type": "scattergl"
           }
          ],
          "scattermapbox": [
           {
            "marker": {
             "colorbar": {
              "outlinewidth": 0,
              "ticks": ""
             }
            },
            "type": "scattermapbox"
           }
          ],
          "scatterpolar": [
           {
            "marker": {
             "colorbar": {
              "outlinewidth": 0,
              "ticks": ""
             }
            },
            "type": "scatterpolar"
           }
          ],
          "scatterpolargl": [
           {
            "marker": {
             "colorbar": {
              "outlinewidth": 0,
              "ticks": ""
             }
            },
            "type": "scatterpolargl"
           }
          ],
          "scatterternary": [
           {
            "marker": {
             "colorbar": {
              "outlinewidth": 0,
              "ticks": ""
             }
            },
            "type": "scatterternary"
           }
          ],
          "surface": [
           {
            "colorbar": {
             "outlinewidth": 0,
             "ticks": ""
            },
            "colorscale": [
             [
              0,
              "#0d0887"
             ],
             [
              0.1111111111111111,
              "#46039f"
             ],
             [
              0.2222222222222222,
              "#7201a8"
             ],
             [
              0.3333333333333333,
              "#9c179e"
             ],
             [
              0.4444444444444444,
              "#bd3786"
             ],
             [
              0.5555555555555556,
              "#d8576b"
             ],
             [
              0.6666666666666666,
              "#ed7953"
             ],
             [
              0.7777777777777778,
              "#fb9f3a"
             ],
             [
              0.8888888888888888,
              "#fdca26"
             ],
             [
              1,
              "#f0f921"
             ]
            ],
            "type": "surface"
           }
          ],
          "table": [
           {
            "cells": {
             "fill": {
              "color": "#EBF0F8"
             },
             "line": {
              "color": "white"
             }
            },
            "header": {
             "fill": {
              "color": "#C8D4E3"
             },
             "line": {
              "color": "white"
             }
            },
            "type": "table"
           }
          ]
         },
         "layout": {
          "annotationdefaults": {
           "arrowcolor": "#2a3f5f",
           "arrowhead": 0,
           "arrowwidth": 1
          },
          "autotypenumbers": "strict",
          "coloraxis": {
           "colorbar": {
            "outlinewidth": 0,
            "ticks": ""
           }
          },
          "colorscale": {
           "diverging": [
            [
             0,
             "#8e0152"
            ],
            [
             0.1,
             "#c51b7d"
            ],
            [
             0.2,
             "#de77ae"
            ],
            [
             0.3,
             "#f1b6da"
            ],
            [
             0.4,
             "#fde0ef"
            ],
            [
             0.5,
             "#f7f7f7"
            ],
            [
             0.6,
             "#e6f5d0"
            ],
            [
             0.7,
             "#b8e186"
            ],
            [
             0.8,
             "#7fbc41"
            ],
            [
             0.9,
             "#4d9221"
            ],
            [
             1,
             "#276419"
            ]
           ],
           "sequential": [
            [
             0,
             "#0d0887"
            ],
            [
             0.1111111111111111,
             "#46039f"
            ],
            [
             0.2222222222222222,
             "#7201a8"
            ],
            [
             0.3333333333333333,
             "#9c179e"
            ],
            [
             0.4444444444444444,
             "#bd3786"
            ],
            [
             0.5555555555555556,
             "#d8576b"
            ],
            [
             0.6666666666666666,
             "#ed7953"
            ],
            [
             0.7777777777777778,
             "#fb9f3a"
            ],
            [
             0.8888888888888888,
             "#fdca26"
            ],
            [
             1,
             "#f0f921"
            ]
           ],
           "sequentialminus": [
            [
             0,
             "#0d0887"
            ],
            [
             0.1111111111111111,
             "#46039f"
            ],
            [
             0.2222222222222222,
             "#7201a8"
            ],
            [
             0.3333333333333333,
             "#9c179e"
            ],
            [
             0.4444444444444444,
             "#bd3786"
            ],
            [
             0.5555555555555556,
             "#d8576b"
            ],
            [
             0.6666666666666666,
             "#ed7953"
            ],
            [
             0.7777777777777778,
             "#fb9f3a"
            ],
            [
             0.8888888888888888,
             "#fdca26"
            ],
            [
             1,
             "#f0f921"
            ]
           ]
          },
          "colorway": [
           "#636efa",
           "#EF553B",
           "#00cc96",
           "#ab63fa",
           "#FFA15A",
           "#19d3f3",
           "#FF6692",
           "#B6E880",
           "#FF97FF",
           "#FECB52"
          ],
          "font": {
           "color": "#2a3f5f"
          },
          "geo": {
           "bgcolor": "white",
           "lakecolor": "white",
           "landcolor": "#E5ECF6",
           "showlakes": true,
           "showland": true,
           "subunitcolor": "white"
          },
          "hoverlabel": {
           "align": "left"
          },
          "hovermode": "closest",
          "mapbox": {
           "style": "light"
          },
          "paper_bgcolor": "white",
          "plot_bgcolor": "#E5ECF6",
          "polar": {
           "angularaxis": {
            "gridcolor": "white",
            "linecolor": "white",
            "ticks": ""
           },
           "bgcolor": "#E5ECF6",
           "radialaxis": {
            "gridcolor": "white",
            "linecolor": "white",
            "ticks": ""
           }
          },
          "scene": {
           "xaxis": {
            "backgroundcolor": "#E5ECF6",
            "gridcolor": "white",
            "gridwidth": 2,
            "linecolor": "white",
            "showbackground": true,
            "ticks": "",
            "zerolinecolor": "white"
           },
           "yaxis": {
            "backgroundcolor": "#E5ECF6",
            "gridcolor": "white",
            "gridwidth": 2,
            "linecolor": "white",
            "showbackground": true,
            "ticks": "",
            "zerolinecolor": "white"
           },
           "zaxis": {
            "backgroundcolor": "#E5ECF6",
            "gridcolor": "white",
            "gridwidth": 2,
            "linecolor": "white",
            "showbackground": true,
            "ticks": "",
            "zerolinecolor": "white"
           }
          },
          "shapedefaults": {
           "line": {
            "color": "#2a3f5f"
           }
          },
          "ternary": {
           "aaxis": {
            "gridcolor": "white",
            "linecolor": "white",
            "ticks": ""
           },
           "baxis": {
            "gridcolor": "white",
            "linecolor": "white",
            "ticks": ""
           },
           "bgcolor": "#E5ECF6",
           "caxis": {
            "gridcolor": "white",
            "linecolor": "white",
            "ticks": ""
           }
          },
          "title": {
           "x": 0.05
          },
          "xaxis": {
           "automargin": true,
           "gridcolor": "white",
           "linecolor": "white",
           "ticks": "",
           "title": {
            "standoff": 15
           },
           "zerolinecolor": "white",
           "zerolinewidth": 2
          },
          "yaxis": {
           "automargin": true,
           "gridcolor": "white",
           "linecolor": "white",
           "ticks": "",
           "title": {
            "standoff": 15
           },
           "zerolinecolor": "white",
           "zerolinewidth": 2
          }
         }
        },
        "title": {
         "text": "Dataset machine 612"
        },
        "width": 1280,
        "xaxis": {
         "anchor": "y",
         "domain": [
          0,
          1
         ],
         "matches": "x3",
         "showticklabels": false
        },
        "xaxis2": {
         "anchor": "y2",
         "domain": [
          0,
          1
         ],
         "matches": "x3",
         "showticklabels": false
        },
        "xaxis3": {
         "anchor": "y3",
         "domain": [
          0,
          1
         ]
        },
        "yaxis": {
         "anchor": "x",
         "domain": [
          0.7066666666666667,
          1
         ]
        },
        "yaxis2": {
         "anchor": "x2",
         "domain": [
          0.35333333333333333,
          0.6466666666666667
         ]
        },
        "yaxis3": {
         "anchor": "x3",
         "domain": [
          0,
          0.29333333333333333
         ]
        }
       }
      }
     },
     "metadata": {},
     "output_type": "display_data"
    },
    {
     "data": {
      "application/vnd.plotly.v1+json": {
       "config": {
        "plotlyServerURL": "https://plot.ly"
       },
       "data": [
        {
         "marker": {
          "color": "black",
          "size": 10
         },
         "mode": "markers+lines",
         "name": "Unknown Energy",
         "text": [
          2308,
          711.6,
          1304.5,
          2746.8,
          2976.6,
          2929.9,
          2876.2,
          2881.9,
          2901.4,
          2768.9,
          2522.8,
          1416.9,
          1200.1,
          2887.1,
          2500,
          601.7,
          2583.9,
          2770.6,
          2825.8,
          1664.9,
          1233.4,
          593.1,
          621,
          603.8,
          568.8,
          1631.6,
          2125.3,
          2771.3,
          2799.8,
          2728,
          2719.6,
          2864.5,
          1858.8,
          1156.2,
          1979.4,
          2834,
          2781.1,
          2756.5,
          2759.3,
          2753.9,
          2911.2,
          2716.4,
          1372.1,
          1715.3,
          677,
          2936.6,
          2821,
          2556.1,
          3008.5,
          2996.4,
          2798.5,
          3012.5,
          2938.7,
          1913.9,
          1403.8,
          2885.3,
          3005.1,
          2479.9,
          1844.1,
          2998.6,
          2938.1,
          2122.3,
          596.6,
          578.4,
          586.3,
          598.2,
          575.7,
          571.2,
          2960.1,
          2888.8,
          2952.7,
          2204.1,
          3036.3,
          0,
          0.2,
          0.1,
          0.2,
          0.1,
          0.1,
          568.8,
          917.5,
          1015.3,
          597,
          597,
          603.1,
          588.8,
          606.9,
          631.1,
          1036.8,
          1661.9,
          1651.5,
          1263.2,
          583.6,
          557,
          580.9,
          567.7,
          522.2,
          593.6,
          543.6,
          901.7,
          537.4,
          1128.3,
          1451.3,
          1595.6,
          838.1,
          759.7,
          1299.4,
          2973.2,
          2934.4,
          2940,
          2947.5,
          2960.2,
          2928.5,
          1913.1,
          2462.6,
          2844.8,
          2760.1,
          2889.7,
          2883.8,
          2845.6,
          2761.5,
          1917.6,
          1238.2,
          1242.6,
          2040.1,
          2892.8,
          2862.1,
          2935.7,
          2949.8,
          2954.4,
          2936.9,
          2412,
          2923.9,
          1810.7,
          3017.1,
          2972.5,
          2937,
          2953.7,
          2914,
          2975.7,
          2353.6,
          3028.8,
          3003.6,
          2981
         ],
         "type": "scatter",
         "x": [
          "2022-12-06T14:37:30",
          "2022-12-06T14:52:30",
          "2022-12-06T15:07:30",
          "2022-12-06T15:22:30",
          "2022-12-06T15:37:30",
          "2022-12-06T15:52:30",
          "2022-12-06T16:07:30",
          "2022-12-06T16:22:30",
          "2022-12-06T16:37:30",
          "2022-12-06T16:52:30",
          "2022-12-06T17:07:30",
          "2022-12-06T18:37:30",
          "2022-12-06T18:52:30",
          "2022-12-06T19:07:30",
          "2022-12-06T19:22:30",
          "2022-12-06T19:37:30",
          "2022-12-06T19:52:30",
          "2022-12-06T20:07:30",
          "2022-12-06T20:22:30",
          "2022-12-06T20:37:30",
          "2022-12-06T20:52:30",
          "2022-12-06T21:07:30",
          "2022-12-06T21:22:30",
          "2022-12-06T21:37:30",
          "2022-12-06T21:52:30",
          "2022-12-07T05:52:30",
          "2022-12-07T06:07:30",
          "2022-12-07T06:22:30",
          "2022-12-07T06:37:30",
          "2022-12-07T06:52:30",
          "2022-12-07T07:07:30",
          "2022-12-07T07:22:30",
          "2022-12-07T07:37:30",
          "2022-12-07T07:52:30",
          "2022-12-07T08:07:30",
          "2022-12-07T08:22:30",
          "2022-12-07T08:37:30",
          "2022-12-07T08:52:30",
          "2022-12-07T09:07:30",
          "2022-12-07T09:22:30",
          "2022-12-07T09:37:30",
          "2022-12-07T09:52:30",
          "2022-12-07T10:07:30",
          "2022-12-07T13:52:30",
          "2022-12-07T14:07:30",
          "2022-12-07T14:22:30",
          "2022-12-07T14:37:30",
          "2022-12-07T14:52:30",
          "2022-12-07T15:07:30",
          "2022-12-07T15:22:30",
          "2022-12-07T15:37:30",
          "2022-12-07T15:52:30",
          "2022-12-07T16:07:30",
          "2022-12-07T16:22:30",
          "2022-12-07T16:37:30",
          "2022-12-07T16:52:30",
          "2022-12-07T17:07:30",
          "2022-12-07T17:22:30",
          "2022-12-07T17:37:30",
          "2022-12-07T17:52:30",
          "2022-12-07T18:07:30",
          "2022-12-07T18:22:30",
          "2022-12-07T18:37:30",
          "2022-12-07T18:52:30",
          "2022-12-07T19:07:30",
          "2022-12-07T19:22:30",
          "2022-12-07T19:37:30",
          "2022-12-07T19:52:30",
          "2022-12-07T22:22:30",
          "2022-12-07T22:37:30",
          "2022-12-07T22:52:30",
          "2022-12-07T23:07:30",
          "2022-12-07T23:22:30",
          "2022-12-08T03:07:30",
          "2022-12-08T23:52:30",
          "2022-12-09T00:07:30",
          "2022-12-09T00:22:30",
          "2022-12-09T00:37:30",
          "2022-12-09T00:52:30",
          "2022-12-12T08:07:30",
          "2022-12-12T08:22:30",
          "2022-12-12T08:37:30",
          "2022-12-12T08:52:30",
          "2022-12-12T09:07:30",
          "2022-12-12T09:22:30",
          "2022-12-12T09:37:30",
          "2022-12-12T09:52:30",
          "2022-12-12T10:07:30",
          "2022-12-12T10:22:30",
          "2022-12-12T10:37:30",
          "2022-12-12T10:52:30",
          "2022-12-12T11:07:30",
          "2022-12-12T11:22:30",
          "2022-12-12T11:37:30",
          "2022-12-12T11:52:30",
          "2022-12-12T12:07:30",
          "2022-12-12T12:22:30",
          "2022-12-12T12:37:30",
          "2022-12-12T12:52:30",
          "2022-12-12T13:07:30",
          "2022-12-12T13:22:30",
          "2022-12-12T13:37:30",
          "2022-12-12T14:22:30",
          "2022-12-12T14:37:30",
          "2022-12-12T14:52:30",
          "2022-12-12T15:07:30",
          "2022-12-12T15:22:30",
          "2022-12-12T15:37:30",
          "2022-12-12T15:52:30",
          "2022-12-12T16:07:30",
          "2022-12-12T16:22:30",
          "2022-12-12T16:37:30",
          "2022-12-12T16:52:30",
          "2022-12-13T00:52:30",
          "2022-12-13T01:07:30",
          "2022-12-13T01:22:30",
          "2022-12-13T01:37:30",
          "2022-12-13T01:52:30",
          "2022-12-13T02:07:30",
          "2022-12-13T02:22:30",
          "2022-12-13T02:37:30",
          "2022-12-13T02:52:30",
          "2022-12-13T03:07:30",
          "2022-12-13T03:22:30",
          "2022-12-13T03:37:30",
          "2022-12-13T03:52:30",
          "2022-12-13T04:07:30",
          "2022-12-13T04:22:30",
          "2022-12-13T04:37:30",
          "2022-12-13T04:52:30",
          "2022-12-13T05:07:30",
          "2022-12-13T05:22:30",
          "2022-12-13T05:37:30",
          "2022-12-13T08:52:30",
          "2022-12-13T09:07:30",
          "2022-12-13T09:22:30",
          "2022-12-13T09:37:30",
          "2022-12-13T09:52:30",
          "2022-12-13T10:07:30",
          "2022-12-13T10:22:30",
          "2022-12-13T10:37:30",
          "2022-12-13T10:52:30",
          "2022-12-13T11:07:30",
          "2022-12-13T11:22:30"
         ],
         "xaxis": "x",
         "y": [
          2308,
          711.6,
          1304.5,
          2746.8,
          2976.6,
          2929.9,
          2876.2,
          2881.9,
          2901.4,
          2768.9,
          2522.8,
          1416.9,
          1200.1,
          2887.1,
          2500,
          601.7,
          2583.9,
          2770.6,
          2825.8,
          1664.9,
          1233.4,
          593.1,
          621,
          603.8,
          568.8,
          1631.6,
          2125.3,
          2771.3,
          2799.8,
          2728,
          2719.6,
          2864.5,
          1858.8,
          1156.2,
          1979.4,
          2834,
          2781.1,
          2756.5,
          2759.3,
          2753.9,
          2911.2,
          2716.4,
          1372.1,
          1715.3,
          677,
          2936.6,
          2821,
          2556.1,
          3008.5,
          2996.4,
          2798.5,
          3012.5,
          2938.7,
          1913.9,
          1403.8,
          2885.3,
          3005.1,
          2479.9,
          1844.1,
          2998.6,
          2938.1,
          2122.3,
          596.6,
          578.4,
          586.3,
          598.2,
          575.7,
          571.2,
          2960.1,
          2888.8,
          2952.7,
          2204.1,
          3036.3,
          0,
          0.2,
          0.1,
          0.2,
          0.1,
          0.1,
          568.8,
          917.5,
          1015.3,
          597,
          597,
          603.1,
          588.8,
          606.9,
          631.1,
          1036.8,
          1661.9,
          1651.5,
          1263.2,
          583.6,
          557,
          580.9,
          567.7,
          522.2,
          593.6,
          543.6,
          901.7,
          537.4,
          1128.3,
          1451.3,
          1595.6,
          838.1,
          759.7,
          1299.4,
          2973.2,
          2934.4,
          2940,
          2947.5,
          2960.2,
          2928.5,
          1913.1,
          2462.6,
          2844.8,
          2760.1,
          2889.7,
          2883.8,
          2845.6,
          2761.5,
          1917.6,
          1238.2,
          1242.6,
          2040.1,
          2892.8,
          2862.1,
          2935.7,
          2949.8,
          2954.4,
          2936.9,
          2412,
          2923.9,
          1810.7,
          3017.1,
          2972.5,
          2937,
          2953.7,
          2914,
          2975.7,
          2353.6,
          3028.8,
          3003.6,
          2981
         ],
         "yaxis": "y"
        },
        {
         "marker": {
          "color": "black",
          "size": 10
         },
         "mode": "markers+lines",
         "name": "Unknown Productions",
         "text": [
          0,
          0,
          0,
          0,
          0,
          0,
          0,
          0,
          0,
          0,
          0,
          0,
          0,
          0,
          0,
          0,
          0,
          0,
          0,
          0,
          0,
          0,
          0,
          0,
          0,
          0,
          0,
          0,
          0,
          0,
          0,
          0,
          0,
          0,
          0,
          0,
          0,
          0,
          0,
          0,
          0,
          0,
          0,
          0,
          0,
          0,
          0,
          0,
          0,
          0,
          0,
          0,
          0,
          0,
          0,
          0,
          0,
          0,
          0,
          0,
          0,
          0,
          0,
          0,
          0,
          0,
          0,
          0,
          0,
          0,
          0,
          0,
          0,
          0,
          0,
          0,
          0,
          0,
          0,
          0,
          0,
          0,
          0,
          0,
          0,
          0,
          0,
          0,
          0,
          0,
          0,
          0,
          0,
          0,
          0,
          0,
          0,
          0,
          0,
          0,
          0,
          0,
          0,
          0,
          0,
          0,
          0,
          0,
          0,
          0,
          0,
          0,
          0,
          0,
          0,
          0,
          0,
          0,
          0,
          0,
          0,
          0,
          0,
          0,
          0,
          0,
          0,
          0,
          0,
          0,
          0,
          0,
          0,
          0,
          0,
          0,
          0,
          0,
          0,
          0,
          0,
          0,
          0,
          0
         ],
         "type": "scatter",
         "x": [
          "2022-12-06T14:37:30",
          "2022-12-06T14:52:30",
          "2022-12-06T15:07:30",
          "2022-12-06T15:22:30",
          "2022-12-06T15:37:30",
          "2022-12-06T15:52:30",
          "2022-12-06T16:07:30",
          "2022-12-06T16:22:30",
          "2022-12-06T16:37:30",
          "2022-12-06T16:52:30",
          "2022-12-06T17:07:30",
          "2022-12-06T18:37:30",
          "2022-12-06T18:52:30",
          "2022-12-06T19:07:30",
          "2022-12-06T19:22:30",
          "2022-12-06T19:37:30",
          "2022-12-06T19:52:30",
          "2022-12-06T20:07:30",
          "2022-12-06T20:22:30",
          "2022-12-06T20:37:30",
          "2022-12-06T20:52:30",
          "2022-12-06T21:07:30",
          "2022-12-06T21:22:30",
          "2022-12-06T21:37:30",
          "2022-12-06T21:52:30",
          "2022-12-07T05:52:30",
          "2022-12-07T06:07:30",
          "2022-12-07T06:22:30",
          "2022-12-07T06:37:30",
          "2022-12-07T06:52:30",
          "2022-12-07T07:07:30",
          "2022-12-07T07:22:30",
          "2022-12-07T07:37:30",
          "2022-12-07T07:52:30",
          "2022-12-07T08:07:30",
          "2022-12-07T08:22:30",
          "2022-12-07T08:37:30",
          "2022-12-07T08:52:30",
          "2022-12-07T09:07:30",
          "2022-12-07T09:22:30",
          "2022-12-07T09:37:30",
          "2022-12-07T09:52:30",
          "2022-12-07T10:07:30",
          "2022-12-07T13:52:30",
          "2022-12-07T14:07:30",
          "2022-12-07T14:22:30",
          "2022-12-07T14:37:30",
          "2022-12-07T14:52:30",
          "2022-12-07T15:07:30",
          "2022-12-07T15:22:30",
          "2022-12-07T15:37:30",
          "2022-12-07T15:52:30",
          "2022-12-07T16:07:30",
          "2022-12-07T16:22:30",
          "2022-12-07T16:37:30",
          "2022-12-07T16:52:30",
          "2022-12-07T17:07:30",
          "2022-12-07T17:22:30",
          "2022-12-07T17:37:30",
          "2022-12-07T17:52:30",
          "2022-12-07T18:07:30",
          "2022-12-07T18:22:30",
          "2022-12-07T18:37:30",
          "2022-12-07T18:52:30",
          "2022-12-07T19:07:30",
          "2022-12-07T19:22:30",
          "2022-12-07T19:37:30",
          "2022-12-07T19:52:30",
          "2022-12-07T22:22:30",
          "2022-12-07T22:37:30",
          "2022-12-07T22:52:30",
          "2022-12-07T23:07:30",
          "2022-12-07T23:22:30",
          "2022-12-08T03:07:30",
          "2022-12-08T23:52:30",
          "2022-12-09T00:07:30",
          "2022-12-09T00:22:30",
          "2022-12-09T00:37:30",
          "2022-12-09T00:52:30",
          "2022-12-12T08:07:30",
          "2022-12-12T08:22:30",
          "2022-12-12T08:37:30",
          "2022-12-12T08:52:30",
          "2022-12-12T09:07:30",
          "2022-12-12T09:22:30",
          "2022-12-12T09:37:30",
          "2022-12-12T09:52:30",
          "2022-12-12T10:07:30",
          "2022-12-12T10:22:30",
          "2022-12-12T10:37:30",
          "2022-12-12T10:52:30",
          "2022-12-12T11:07:30",
          "2022-12-12T11:22:30",
          "2022-12-12T11:37:30",
          "2022-12-12T11:52:30",
          "2022-12-12T12:07:30",
          "2022-12-12T12:22:30",
          "2022-12-12T12:37:30",
          "2022-12-12T12:52:30",
          "2022-12-12T13:07:30",
          "2022-12-12T13:22:30",
          "2022-12-12T13:37:30",
          "2022-12-12T14:22:30",
          "2022-12-12T14:37:30",
          "2022-12-12T14:52:30",
          "2022-12-12T15:07:30",
          "2022-12-12T15:22:30",
          "2022-12-12T15:37:30",
          "2022-12-12T15:52:30",
          "2022-12-12T16:07:30",
          "2022-12-12T16:22:30",
          "2022-12-12T16:37:30",
          "2022-12-12T16:52:30",
          "2022-12-13T00:52:30",
          "2022-12-13T01:07:30",
          "2022-12-13T01:22:30",
          "2022-12-13T01:37:30",
          "2022-12-13T01:52:30",
          "2022-12-13T02:07:30",
          "2022-12-13T02:22:30",
          "2022-12-13T02:37:30",
          "2022-12-13T02:52:30",
          "2022-12-13T03:07:30",
          "2022-12-13T03:22:30",
          "2022-12-13T03:37:30",
          "2022-12-13T03:52:30",
          "2022-12-13T04:07:30",
          "2022-12-13T04:22:30",
          "2022-12-13T04:37:30",
          "2022-12-13T04:52:30",
          "2022-12-13T05:07:30",
          "2022-12-13T05:22:30",
          "2022-12-13T05:37:30",
          "2022-12-13T08:52:30",
          "2022-12-13T09:07:30",
          "2022-12-13T09:22:30",
          "2022-12-13T09:37:30",
          "2022-12-13T09:52:30",
          "2022-12-13T10:07:30",
          "2022-12-13T10:22:30",
          "2022-12-13T10:37:30",
          "2022-12-13T10:52:30",
          "2022-12-13T11:07:30",
          "2022-12-13T11:22:30"
         ],
         "xaxis": "x2",
         "y": [
          0,
          0,
          0,
          0,
          0,
          0,
          0,
          0,
          0,
          0,
          0,
          0,
          0,
          0,
          0,
          0,
          0,
          0,
          0,
          0,
          0,
          0,
          0,
          0,
          0,
          0,
          0,
          0,
          0,
          0,
          0,
          0,
          0,
          0,
          0,
          0,
          0,
          0,
          0,
          0,
          0,
          0,
          0,
          0,
          0,
          0,
          0,
          0,
          0,
          0,
          0,
          0,
          0,
          0,
          0,
          0,
          0,
          0,
          0,
          0,
          0,
          0,
          0,
          0,
          0,
          0,
          0,
          0,
          0,
          0,
          0,
          0,
          0,
          0,
          0,
          0,
          0,
          0,
          0,
          0,
          0,
          0,
          0,
          0,
          0,
          0,
          0,
          0,
          0,
          0,
          0,
          0,
          0,
          0,
          0,
          0,
          0,
          0,
          0,
          0,
          0,
          0,
          0,
          0,
          0,
          0,
          0,
          0,
          0,
          0,
          0,
          0,
          0,
          0,
          0,
          0,
          0,
          0,
          0,
          0,
          0,
          0,
          0,
          0,
          0,
          0,
          0,
          0,
          0,
          0,
          0,
          0,
          0,
          0,
          0,
          0,
          0,
          0,
          0,
          0,
          0,
          0,
          0,
          0
         ],
         "yaxis": "y2"
        },
        {
         "marker": {
          "color": "black",
          "size": 10
         },
         "mode": "markers",
         "name": "Unknown Stops",
         "type": "scatter",
         "x": [
          "2022-12-06T14:37:30",
          "2022-12-06T14:52:30",
          "2022-12-06T15:07:30",
          "2022-12-06T15:22:30",
          "2022-12-06T15:37:30",
          "2022-12-06T15:52:30",
          "2022-12-06T16:07:30",
          "2022-12-06T16:22:30",
          "2022-12-06T16:37:30",
          "2022-12-06T16:52:30",
          "2022-12-06T17:07:30",
          "2022-12-06T18:37:30",
          "2022-12-06T18:52:30",
          "2022-12-06T19:07:30",
          "2022-12-06T19:22:30",
          "2022-12-06T19:37:30",
          "2022-12-06T19:52:30",
          "2022-12-06T20:07:30",
          "2022-12-06T20:22:30",
          "2022-12-06T20:37:30",
          "2022-12-06T20:52:30",
          "2022-12-06T21:07:30",
          "2022-12-06T21:22:30",
          "2022-12-06T21:37:30",
          "2022-12-06T21:52:30",
          "2022-12-07T05:52:30",
          "2022-12-07T06:07:30",
          "2022-12-07T06:22:30",
          "2022-12-07T06:37:30",
          "2022-12-07T06:52:30",
          "2022-12-07T07:07:30",
          "2022-12-07T07:22:30",
          "2022-12-07T07:37:30",
          "2022-12-07T07:52:30",
          "2022-12-07T08:07:30",
          "2022-12-07T08:22:30",
          "2022-12-07T08:37:30",
          "2022-12-07T08:52:30",
          "2022-12-07T09:07:30",
          "2022-12-07T09:22:30",
          "2022-12-07T09:37:30",
          "2022-12-07T09:52:30",
          "2022-12-07T10:07:30",
          "2022-12-07T13:52:30",
          "2022-12-07T14:07:30",
          "2022-12-07T14:22:30",
          "2022-12-07T14:37:30",
          "2022-12-07T14:52:30",
          "2022-12-07T15:07:30",
          "2022-12-07T15:22:30",
          "2022-12-07T15:37:30",
          "2022-12-07T15:52:30",
          "2022-12-07T16:07:30",
          "2022-12-07T16:22:30",
          "2022-12-07T16:37:30",
          "2022-12-07T16:52:30",
          "2022-12-07T17:07:30",
          "2022-12-07T17:22:30",
          "2022-12-07T17:37:30",
          "2022-12-07T17:52:30",
          "2022-12-07T18:07:30",
          "2022-12-07T18:22:30",
          "2022-12-07T18:37:30",
          "2022-12-07T18:52:30",
          "2022-12-07T19:07:30",
          "2022-12-07T19:22:30",
          "2022-12-07T19:37:30",
          "2022-12-07T19:52:30",
          "2022-12-07T22:22:30",
          "2022-12-07T22:37:30",
          "2022-12-07T22:52:30",
          "2022-12-07T23:07:30",
          "2022-12-07T23:22:30",
          "2022-12-08T03:07:30",
          "2022-12-08T23:52:30",
          "2022-12-09T00:07:30",
          "2022-12-09T00:22:30",
          "2022-12-09T00:37:30",
          "2022-12-09T00:52:30",
          "2022-12-12T08:07:30",
          "2022-12-12T08:22:30",
          "2022-12-12T08:37:30",
          "2022-12-12T08:52:30",
          "2022-12-12T09:07:30",
          "2022-12-12T09:22:30",
          "2022-12-12T09:37:30",
          "2022-12-12T09:52:30",
          "2022-12-12T10:07:30",
          "2022-12-12T10:22:30",
          "2022-12-12T10:37:30",
          "2022-12-12T10:52:30",
          "2022-12-12T11:07:30",
          "2022-12-12T11:22:30",
          "2022-12-12T11:37:30",
          "2022-12-12T11:52:30",
          "2022-12-12T12:07:30",
          "2022-12-12T12:22:30",
          "2022-12-12T12:37:30",
          "2022-12-12T12:52:30",
          "2022-12-12T13:07:30",
          "2022-12-12T13:22:30",
          "2022-12-12T13:37:30",
          "2022-12-12T14:22:30",
          "2022-12-12T14:37:30",
          "2022-12-12T14:52:30",
          "2022-12-12T15:07:30",
          "2022-12-12T15:22:30",
          "2022-12-12T15:37:30",
          "2022-12-12T15:52:30",
          "2022-12-12T16:07:30",
          "2022-12-12T16:22:30",
          "2022-12-12T16:37:30",
          "2022-12-12T16:52:30",
          "2022-12-13T00:52:30",
          "2022-12-13T01:07:30",
          "2022-12-13T01:22:30",
          "2022-12-13T01:37:30",
          "2022-12-13T01:52:30",
          "2022-12-13T02:07:30",
          "2022-12-13T02:22:30",
          "2022-12-13T02:37:30",
          "2022-12-13T02:52:30",
          "2022-12-13T03:07:30",
          "2022-12-13T03:22:30",
          "2022-12-13T03:37:30",
          "2022-12-13T03:52:30",
          "2022-12-13T04:07:30",
          "2022-12-13T04:22:30",
          "2022-12-13T04:37:30",
          "2022-12-13T04:52:30",
          "2022-12-13T05:07:30",
          "2022-12-13T05:22:30",
          "2022-12-13T05:37:30",
          "2022-12-13T08:52:30",
          "2022-12-13T09:07:30",
          "2022-12-13T09:22:30",
          "2022-12-13T09:37:30",
          "2022-12-13T09:52:30",
          "2022-12-13T10:07:30",
          "2022-12-13T10:22:30",
          "2022-12-13T10:37:30",
          "2022-12-13T10:52:30",
          "2022-12-13T11:07:30",
          "2022-12-13T11:22:30"
         ],
         "xaxis": "x3",
         "y": [
          "Running",
          "Running",
          "Running",
          "Running",
          "Running",
          "Manutenzione ordinaria",
          "Running",
          "Running",
          "Running",
          "Running",
          "Running",
          "Running",
          "Running",
          "Running",
          "Running",
          "Running",
          "Sostituzione utensile",
          "Running",
          "Running",
          "Sostituzione utensile",
          "Running",
          "Running",
          "Running",
          "Running",
          "Running",
          "Running",
          "Running",
          "Running",
          "Running",
          "Running",
          "Affilatura utensile",
          "Running",
          "Running",
          "Running",
          "Running",
          "Running",
          "Running",
          "Sostituzione utensile",
          "Running",
          "Running",
          "Running",
          "Running",
          "Running",
          "Running",
          "Running",
          "Running",
          "Running",
          "Running",
          "Manutenzione ordinaria",
          "Sostituzione utensile",
          "Running",
          "Running",
          "Running",
          "Running",
          "Running",
          "Running",
          "Running",
          "Running",
          "Sostituzione utensile",
          "Running",
          "Running",
          "Running",
          "Sostituzione utensile",
          "Running",
          "Running",
          "Running",
          "Running",
          "Running",
          "Running",
          "Running",
          "Running",
          "Running",
          "Running",
          "Sostituzione utensile",
          "Running",
          "Running",
          "Running",
          "Running",
          "Running",
          "Running",
          "Running",
          "Running",
          "Running",
          "Running",
          "Sostituzione utensile",
          "Running",
          "Manutenzione ordinaria",
          "Running",
          "Running",
          "Running",
          "Running",
          "Running",
          "Running",
          "Running",
          "Sostituzione utensile",
          "Running",
          "Manutenzione ordinaria",
          "Running",
          "Running",
          "Running",
          "Running",
          "Running",
          "Running",
          "Running",
          "Running",
          "Running",
          "Running",
          "Manutenzione ordinaria",
          "Running",
          "Running",
          "Running",
          "Running",
          "Running",
          "Running",
          "Running",
          "Running",
          "Running",
          "Running",
          "Sostituzione utensile",
          "Running",
          "Running",
          "Running",
          "Running",
          "Running",
          "Running",
          "Running",
          "Affilatura utensile",
          "Affilatura utensile",
          "Running",
          "Running",
          "Running",
          "Running",
          "Running",
          "Running",
          "Running",
          "Running",
          "Running",
          "Running",
          "Sostituzione utensile",
          "Running",
          "Running",
          "Running",
          "Running",
          "Running"
         ],
         "yaxis": "y3"
        }
       ],
       "layout": {
        "annotations": [
         {
          "font": {
           "size": 16
          },
          "showarrow": false,
          "text": "Energy Consumption",
          "x": 0.5,
          "xanchor": "center",
          "xref": "paper",
          "y": 1,
          "yanchor": "bottom",
          "yref": "paper"
         },
         {
          "font": {
           "size": 16
          },
          "showarrow": false,
          "text": "Productions",
          "x": 0.5,
          "xanchor": "center",
          "xref": "paper",
          "y": 0.6466666666666667,
          "yanchor": "bottom",
          "yref": "paper"
         },
         {
          "font": {
           "size": 16
          },
          "showarrow": false,
          "text": "Stops",
          "x": 0.5,
          "xanchor": "center",
          "xref": "paper",
          "y": 0.29333333333333333,
          "yanchor": "bottom",
          "yref": "paper"
         }
        ],
        "height": 800,
        "template": {
         "data": {
          "bar": [
           {
            "error_x": {
             "color": "#2a3f5f"
            },
            "error_y": {
             "color": "#2a3f5f"
            },
            "marker": {
             "line": {
              "color": "#E5ECF6",
              "width": 0.5
             },
             "pattern": {
              "fillmode": "overlay",
              "size": 10,
              "solidity": 0.2
             }
            },
            "type": "bar"
           }
          ],
          "barpolar": [
           {
            "marker": {
             "line": {
              "color": "#E5ECF6",
              "width": 0.5
             },
             "pattern": {
              "fillmode": "overlay",
              "size": 10,
              "solidity": 0.2
             }
            },
            "type": "barpolar"
           }
          ],
          "carpet": [
           {
            "aaxis": {
             "endlinecolor": "#2a3f5f",
             "gridcolor": "white",
             "linecolor": "white",
             "minorgridcolor": "white",
             "startlinecolor": "#2a3f5f"
            },
            "baxis": {
             "endlinecolor": "#2a3f5f",
             "gridcolor": "white",
             "linecolor": "white",
             "minorgridcolor": "white",
             "startlinecolor": "#2a3f5f"
            },
            "type": "carpet"
           }
          ],
          "choropleth": [
           {
            "colorbar": {
             "outlinewidth": 0,
             "ticks": ""
            },
            "type": "choropleth"
           }
          ],
          "contour": [
           {
            "colorbar": {
             "outlinewidth": 0,
             "ticks": ""
            },
            "colorscale": [
             [
              0,
              "#0d0887"
             ],
             [
              0.1111111111111111,
              "#46039f"
             ],
             [
              0.2222222222222222,
              "#7201a8"
             ],
             [
              0.3333333333333333,
              "#9c179e"
             ],
             [
              0.4444444444444444,
              "#bd3786"
             ],
             [
              0.5555555555555556,
              "#d8576b"
             ],
             [
              0.6666666666666666,
              "#ed7953"
             ],
             [
              0.7777777777777778,
              "#fb9f3a"
             ],
             [
              0.8888888888888888,
              "#fdca26"
             ],
             [
              1,
              "#f0f921"
             ]
            ],
            "type": "contour"
           }
          ],
          "contourcarpet": [
           {
            "colorbar": {
             "outlinewidth": 0,
             "ticks": ""
            },
            "type": "contourcarpet"
           }
          ],
          "heatmap": [
           {
            "colorbar": {
             "outlinewidth": 0,
             "ticks": ""
            },
            "colorscale": [
             [
              0,
              "#0d0887"
             ],
             [
              0.1111111111111111,
              "#46039f"
             ],
             [
              0.2222222222222222,
              "#7201a8"
             ],
             [
              0.3333333333333333,
              "#9c179e"
             ],
             [
              0.4444444444444444,
              "#bd3786"
             ],
             [
              0.5555555555555556,
              "#d8576b"
             ],
             [
              0.6666666666666666,
              "#ed7953"
             ],
             [
              0.7777777777777778,
              "#fb9f3a"
             ],
             [
              0.8888888888888888,
              "#fdca26"
             ],
             [
              1,
              "#f0f921"
             ]
            ],
            "type": "heatmap"
           }
          ],
          "heatmapgl": [
           {
            "colorbar": {
             "outlinewidth": 0,
             "ticks": ""
            },
            "colorscale": [
             [
              0,
              "#0d0887"
             ],
             [
              0.1111111111111111,
              "#46039f"
             ],
             [
              0.2222222222222222,
              "#7201a8"
             ],
             [
              0.3333333333333333,
              "#9c179e"
             ],
             [
              0.4444444444444444,
              "#bd3786"
             ],
             [
              0.5555555555555556,
              "#d8576b"
             ],
             [
              0.6666666666666666,
              "#ed7953"
             ],
             [
              0.7777777777777778,
              "#fb9f3a"
             ],
             [
              0.8888888888888888,
              "#fdca26"
             ],
             [
              1,
              "#f0f921"
             ]
            ],
            "type": "heatmapgl"
           }
          ],
          "histogram": [
           {
            "marker": {
             "pattern": {
              "fillmode": "overlay",
              "size": 10,
              "solidity": 0.2
             }
            },
            "type": "histogram"
           }
          ],
          "histogram2d": [
           {
            "colorbar": {
             "outlinewidth": 0,
             "ticks": ""
            },
            "colorscale": [
             [
              0,
              "#0d0887"
             ],
             [
              0.1111111111111111,
              "#46039f"
             ],
             [
              0.2222222222222222,
              "#7201a8"
             ],
             [
              0.3333333333333333,
              "#9c179e"
             ],
             [
              0.4444444444444444,
              "#bd3786"
             ],
             [
              0.5555555555555556,
              "#d8576b"
             ],
             [
              0.6666666666666666,
              "#ed7953"
             ],
             [
              0.7777777777777778,
              "#fb9f3a"
             ],
             [
              0.8888888888888888,
              "#fdca26"
             ],
             [
              1,
              "#f0f921"
             ]
            ],
            "type": "histogram2d"
           }
          ],
          "histogram2dcontour": [
           {
            "colorbar": {
             "outlinewidth": 0,
             "ticks": ""
            },
            "colorscale": [
             [
              0,
              "#0d0887"
             ],
             [
              0.1111111111111111,
              "#46039f"
             ],
             [
              0.2222222222222222,
              "#7201a8"
             ],
             [
              0.3333333333333333,
              "#9c179e"
             ],
             [
              0.4444444444444444,
              "#bd3786"
             ],
             [
              0.5555555555555556,
              "#d8576b"
             ],
             [
              0.6666666666666666,
              "#ed7953"
             ],
             [
              0.7777777777777778,
              "#fb9f3a"
             ],
             [
              0.8888888888888888,
              "#fdca26"
             ],
             [
              1,
              "#f0f921"
             ]
            ],
            "type": "histogram2dcontour"
           }
          ],
          "mesh3d": [
           {
            "colorbar": {
             "outlinewidth": 0,
             "ticks": ""
            },
            "type": "mesh3d"
           }
          ],
          "parcoords": [
           {
            "line": {
             "colorbar": {
              "outlinewidth": 0,
              "ticks": ""
             }
            },
            "type": "parcoords"
           }
          ],
          "pie": [
           {
            "automargin": true,
            "type": "pie"
           }
          ],
          "scatter": [
           {
            "fillpattern": {
             "fillmode": "overlay",
             "size": 10,
             "solidity": 0.2
            },
            "type": "scatter"
           }
          ],
          "scatter3d": [
           {
            "line": {
             "colorbar": {
              "outlinewidth": 0,
              "ticks": ""
             }
            },
            "marker": {
             "colorbar": {
              "outlinewidth": 0,
              "ticks": ""
             }
            },
            "type": "scatter3d"
           }
          ],
          "scattercarpet": [
           {
            "marker": {
             "colorbar": {
              "outlinewidth": 0,
              "ticks": ""
             }
            },
            "type": "scattercarpet"
           }
          ],
          "scattergeo": [
           {
            "marker": {
             "colorbar": {
              "outlinewidth": 0,
              "ticks": ""
             }
            },
            "type": "scattergeo"
           }
          ],
          "scattergl": [
           {
            "marker": {
             "colorbar": {
              "outlinewidth": 0,
              "ticks": ""
             }
            },
            "type": "scattergl"
           }
          ],
          "scattermapbox": [
           {
            "marker": {
             "colorbar": {
              "outlinewidth": 0,
              "ticks": ""
             }
            },
            "type": "scattermapbox"
           }
          ],
          "scatterpolar": [
           {
            "marker": {
             "colorbar": {
              "outlinewidth": 0,
              "ticks": ""
             }
            },
            "type": "scatterpolar"
           }
          ],
          "scatterpolargl": [
           {
            "marker": {
             "colorbar": {
              "outlinewidth": 0,
              "ticks": ""
             }
            },
            "type": "scatterpolargl"
           }
          ],
          "scatterternary": [
           {
            "marker": {
             "colorbar": {
              "outlinewidth": 0,
              "ticks": ""
             }
            },
            "type": "scatterternary"
           }
          ],
          "surface": [
           {
            "colorbar": {
             "outlinewidth": 0,
             "ticks": ""
            },
            "colorscale": [
             [
              0,
              "#0d0887"
             ],
             [
              0.1111111111111111,
              "#46039f"
             ],
             [
              0.2222222222222222,
              "#7201a8"
             ],
             [
              0.3333333333333333,
              "#9c179e"
             ],
             [
              0.4444444444444444,
              "#bd3786"
             ],
             [
              0.5555555555555556,
              "#d8576b"
             ],
             [
              0.6666666666666666,
              "#ed7953"
             ],
             [
              0.7777777777777778,
              "#fb9f3a"
             ],
             [
              0.8888888888888888,
              "#fdca26"
             ],
             [
              1,
              "#f0f921"
             ]
            ],
            "type": "surface"
           }
          ],
          "table": [
           {
            "cells": {
             "fill": {
              "color": "#EBF0F8"
             },
             "line": {
              "color": "white"
             }
            },
            "header": {
             "fill": {
              "color": "#C8D4E3"
             },
             "line": {
              "color": "white"
             }
            },
            "type": "table"
           }
          ]
         },
         "layout": {
          "annotationdefaults": {
           "arrowcolor": "#2a3f5f",
           "arrowhead": 0,
           "arrowwidth": 1
          },
          "autotypenumbers": "strict",
          "coloraxis": {
           "colorbar": {
            "outlinewidth": 0,
            "ticks": ""
           }
          },
          "colorscale": {
           "diverging": [
            [
             0,
             "#8e0152"
            ],
            [
             0.1,
             "#c51b7d"
            ],
            [
             0.2,
             "#de77ae"
            ],
            [
             0.3,
             "#f1b6da"
            ],
            [
             0.4,
             "#fde0ef"
            ],
            [
             0.5,
             "#f7f7f7"
            ],
            [
             0.6,
             "#e6f5d0"
            ],
            [
             0.7,
             "#b8e186"
            ],
            [
             0.8,
             "#7fbc41"
            ],
            [
             0.9,
             "#4d9221"
            ],
            [
             1,
             "#276419"
            ]
           ],
           "sequential": [
            [
             0,
             "#0d0887"
            ],
            [
             0.1111111111111111,
             "#46039f"
            ],
            [
             0.2222222222222222,
             "#7201a8"
            ],
            [
             0.3333333333333333,
             "#9c179e"
            ],
            [
             0.4444444444444444,
             "#bd3786"
            ],
            [
             0.5555555555555556,
             "#d8576b"
            ],
            [
             0.6666666666666666,
             "#ed7953"
            ],
            [
             0.7777777777777778,
             "#fb9f3a"
            ],
            [
             0.8888888888888888,
             "#fdca26"
            ],
            [
             1,
             "#f0f921"
            ]
           ],
           "sequentialminus": [
            [
             0,
             "#0d0887"
            ],
            [
             0.1111111111111111,
             "#46039f"
            ],
            [
             0.2222222222222222,
             "#7201a8"
            ],
            [
             0.3333333333333333,
             "#9c179e"
            ],
            [
             0.4444444444444444,
             "#bd3786"
            ],
            [
             0.5555555555555556,
             "#d8576b"
            ],
            [
             0.6666666666666666,
             "#ed7953"
            ],
            [
             0.7777777777777778,
             "#fb9f3a"
            ],
            [
             0.8888888888888888,
             "#fdca26"
            ],
            [
             1,
             "#f0f921"
            ]
           ]
          },
          "colorway": [
           "#636efa",
           "#EF553B",
           "#00cc96",
           "#ab63fa",
           "#FFA15A",
           "#19d3f3",
           "#FF6692",
           "#B6E880",
           "#FF97FF",
           "#FECB52"
          ],
          "font": {
           "color": "#2a3f5f"
          },
          "geo": {
           "bgcolor": "white",
           "lakecolor": "white",
           "landcolor": "#E5ECF6",
           "showlakes": true,
           "showland": true,
           "subunitcolor": "white"
          },
          "hoverlabel": {
           "align": "left"
          },
          "hovermode": "closest",
          "mapbox": {
           "style": "light"
          },
          "paper_bgcolor": "white",
          "plot_bgcolor": "#E5ECF6",
          "polar": {
           "angularaxis": {
            "gridcolor": "white",
            "linecolor": "white",
            "ticks": ""
           },
           "bgcolor": "#E5ECF6",
           "radialaxis": {
            "gridcolor": "white",
            "linecolor": "white",
            "ticks": ""
           }
          },
          "scene": {
           "xaxis": {
            "backgroundcolor": "#E5ECF6",
            "gridcolor": "white",
            "gridwidth": 2,
            "linecolor": "white",
            "showbackground": true,
            "ticks": "",
            "zerolinecolor": "white"
           },
           "yaxis": {
            "backgroundcolor": "#E5ECF6",
            "gridcolor": "white",
            "gridwidth": 2,
            "linecolor": "white",
            "showbackground": true,
            "ticks": "",
            "zerolinecolor": "white"
           },
           "zaxis": {
            "backgroundcolor": "#E5ECF6",
            "gridcolor": "white",
            "gridwidth": 2,
            "linecolor": "white",
            "showbackground": true,
            "ticks": "",
            "zerolinecolor": "white"
           }
          },
          "shapedefaults": {
           "line": {
            "color": "#2a3f5f"
           }
          },
          "ternary": {
           "aaxis": {
            "gridcolor": "white",
            "linecolor": "white",
            "ticks": ""
           },
           "baxis": {
            "gridcolor": "white",
            "linecolor": "white",
            "ticks": ""
           },
           "bgcolor": "#E5ECF6",
           "caxis": {
            "gridcolor": "white",
            "linecolor": "white",
            "ticks": ""
           }
          },
          "title": {
           "x": 0.05
          },
          "xaxis": {
           "automargin": true,
           "gridcolor": "white",
           "linecolor": "white",
           "ticks": "",
           "title": {
            "standoff": 15
           },
           "zerolinecolor": "white",
           "zerolinewidth": 2
          },
          "yaxis": {
           "automargin": true,
           "gridcolor": "white",
           "linecolor": "white",
           "ticks": "",
           "title": {
            "standoff": 15
           },
           "zerolinecolor": "white",
           "zerolinewidth": 2
          }
         }
        },
        "title": {
         "text": "Dataset machine 618"
        },
        "width": 1280,
        "xaxis": {
         "anchor": "y",
         "domain": [
          0,
          1
         ],
         "matches": "x3",
         "showticklabels": false
        },
        "xaxis2": {
         "anchor": "y2",
         "domain": [
          0,
          1
         ],
         "matches": "x3",
         "showticklabels": false
        },
        "xaxis3": {
         "anchor": "y3",
         "domain": [
          0,
          1
         ]
        },
        "yaxis": {
         "anchor": "x",
         "domain": [
          0.7066666666666667,
          1
         ]
        },
        "yaxis2": {
         "anchor": "x2",
         "domain": [
          0.35333333333333333,
          0.6466666666666667
         ]
        },
        "yaxis3": {
         "anchor": "x3",
         "domain": [
          0,
          0.29333333333333333
         ]
        }
       }
      }
     },
     "metadata": {},
     "output_type": "display_data"
    },
    {
     "data": {
      "application/vnd.plotly.v1+json": {
       "config": {
        "plotlyServerURL": "https://plot.ly"
       },
       "data": [
        {
         "marker": {
          "color": "black",
          "size": 10
         },
         "mode": "markers+lines",
         "name": "Unknown Energy",
         "text": [
          2585.1,
          2265.7,
          334.7,
          0,
          0,
          0,
          0,
          0,
          2637.2,
          2572.4,
          2567.6,
          2635,
          2574.8,
          92.4,
          92.4,
          91.7,
          91.7,
          92.4,
          92.8,
          92.2,
          91.7,
          92,
          92.8,
          91.1,
          860.6,
          2119.6,
          2556.7,
          2616.8,
          2549.2,
          1095,
          2568.8,
          2545.2,
          2588.4,
          2559.5,
          1883.7,
          1445.6,
          2023.4,
          2609.6,
          2574.1,
          1861.9,
          2122,
          2551.2,
          2547,
          2589.2,
          2551.4,
          1962.7,
          2286.7,
          955.7,
          2095.4,
          1907.2,
          1772.1,
          2555.3,
          2611.9,
          859.8,
          290.4,
          279.2,
          278.6,
          276.8,
          276.2,
          278.3,
          278.9,
          277.9,
          279.8,
          282.8,
          284,
          282.8,
          277.9,
          281.6,
          282.6
         ],
         "type": "scatter",
         "x": [
          "2022-11-28T22:22:30",
          "2022-11-28T22:37:30",
          "2022-11-28T22:52:30",
          "2022-11-28T23:07:30",
          "2022-11-28T23:22:30",
          "2022-11-29T00:07:30",
          "2022-11-29T04:52:30",
          "2022-11-30T03:07:30",
          "2022-11-30T23:52:30",
          "2022-12-01T00:07:30",
          "2022-12-01T00:22:30",
          "2022-12-01T00:37:30",
          "2022-12-01T00:52:30",
          "2022-12-01T05:07:30",
          "2022-12-01T05:22:30",
          "2022-12-01T05:37:30",
          "2022-12-01T05:52:30",
          "2022-12-01T06:07:30",
          "2022-12-01T06:22:30",
          "2022-12-01T06:37:30",
          "2022-12-01T06:52:30",
          "2022-12-01T07:07:30",
          "2022-12-01T07:22:30",
          "2022-12-01T07:37:30",
          "2022-12-01T09:22:30",
          "2022-12-01T09:37:30",
          "2022-12-01T09:52:30",
          "2022-12-01T10:07:30",
          "2022-12-01T10:22:30",
          "2022-12-01T10:37:30",
          "2022-12-01T10:52:30",
          "2022-12-01T11:07:30",
          "2022-12-01T11:22:30",
          "2022-12-01T11:37:30",
          "2022-12-01T11:52:30",
          "2022-12-01T17:52:30",
          "2022-12-01T18:07:30",
          "2022-12-01T18:22:30",
          "2022-12-01T18:37:30",
          "2022-12-01T18:52:30",
          "2022-12-01T19:07:30",
          "2022-12-01T19:22:30",
          "2022-12-01T19:37:30",
          "2022-12-01T19:52:30",
          "2022-12-01T20:07:30",
          "2022-12-01T20:22:30",
          "2022-12-02T01:52:30",
          "2022-12-02T02:07:30",
          "2022-12-02T02:22:30",
          "2022-12-02T02:37:30",
          "2022-12-02T02:52:30",
          "2022-12-02T03:07:30",
          "2022-12-02T03:22:30",
          "2022-12-02T03:37:30",
          "2022-12-02T03:52:30",
          "2022-12-02T04:07:30",
          "2022-12-02T04:22:30",
          "2022-12-02T04:37:30",
          "2022-12-02T04:52:30",
          "2022-12-02T05:07:30",
          "2022-12-02T05:22:30",
          "2022-12-02T05:37:30",
          "2022-12-02T05:52:30",
          "2022-12-02T06:07:30",
          "2022-12-02T06:22:30",
          "2022-12-02T06:37:30",
          "2022-12-02T06:52:30",
          "2022-12-02T07:07:30",
          "2022-12-02T07:22:30"
         ],
         "xaxis": "x",
         "y": [
          2585.1,
          2265.7,
          334.7,
          0,
          0,
          0,
          0,
          0,
          2637.2,
          2572.4,
          2567.6,
          2635,
          2574.8,
          92.4,
          92.4,
          91.7,
          91.7,
          92.4,
          92.8,
          92.2,
          91.7,
          92,
          92.8,
          91.1,
          860.6,
          2119.6,
          2556.7,
          2616.8,
          2549.2,
          1095,
          2568.8,
          2545.2,
          2588.4,
          2559.5,
          1883.7,
          1445.6,
          2023.4,
          2609.6,
          2574.1,
          1861.9,
          2122,
          2551.2,
          2547,
          2589.2,
          2551.4,
          1962.7,
          2286.7,
          955.7,
          2095.4,
          1907.2,
          1772.1,
          2555.3,
          2611.9,
          859.8,
          290.4,
          279.2,
          278.6,
          276.8,
          276.2,
          278.3,
          278.9,
          277.9,
          279.8,
          282.8,
          284,
          282.8,
          277.9,
          281.6,
          282.6
         ],
         "yaxis": "y"
        },
        {
         "marker": {
          "color": "black",
          "size": 10
         },
         "mode": "markers+lines",
         "name": "Unknown Productions",
         "text": [
          0,
          0,
          0,
          0,
          0,
          0,
          0,
          0,
          0,
          0,
          0,
          0,
          0,
          0,
          0,
          0,
          0,
          0,
          0,
          0,
          0,
          0,
          0,
          0,
          0,
          0,
          0,
          0,
          0,
          0,
          0,
          0,
          0,
          0,
          0,
          0,
          0,
          0,
          0,
          0,
          0,
          0,
          0,
          0,
          0,
          0,
          0,
          0,
          0,
          0,
          0,
          0,
          0,
          0,
          0,
          0,
          0,
          0,
          0,
          0,
          0,
          0,
          0,
          0,
          0,
          0,
          0,
          0,
          0
         ],
         "type": "scatter",
         "x": [
          "2022-11-28T22:22:30",
          "2022-11-28T22:37:30",
          "2022-11-28T22:52:30",
          "2022-11-28T23:07:30",
          "2022-11-28T23:22:30",
          "2022-11-29T00:07:30",
          "2022-11-29T04:52:30",
          "2022-11-30T03:07:30",
          "2022-11-30T23:52:30",
          "2022-12-01T00:07:30",
          "2022-12-01T00:22:30",
          "2022-12-01T00:37:30",
          "2022-12-01T00:52:30",
          "2022-12-01T05:07:30",
          "2022-12-01T05:22:30",
          "2022-12-01T05:37:30",
          "2022-12-01T05:52:30",
          "2022-12-01T06:07:30",
          "2022-12-01T06:22:30",
          "2022-12-01T06:37:30",
          "2022-12-01T06:52:30",
          "2022-12-01T07:07:30",
          "2022-12-01T07:22:30",
          "2022-12-01T07:37:30",
          "2022-12-01T09:22:30",
          "2022-12-01T09:37:30",
          "2022-12-01T09:52:30",
          "2022-12-01T10:07:30",
          "2022-12-01T10:22:30",
          "2022-12-01T10:37:30",
          "2022-12-01T10:52:30",
          "2022-12-01T11:07:30",
          "2022-12-01T11:22:30",
          "2022-12-01T11:37:30",
          "2022-12-01T11:52:30",
          "2022-12-01T17:52:30",
          "2022-12-01T18:07:30",
          "2022-12-01T18:22:30",
          "2022-12-01T18:37:30",
          "2022-12-01T18:52:30",
          "2022-12-01T19:07:30",
          "2022-12-01T19:22:30",
          "2022-12-01T19:37:30",
          "2022-12-01T19:52:30",
          "2022-12-01T20:07:30",
          "2022-12-01T20:22:30",
          "2022-12-02T01:52:30",
          "2022-12-02T02:07:30",
          "2022-12-02T02:22:30",
          "2022-12-02T02:37:30",
          "2022-12-02T02:52:30",
          "2022-12-02T03:07:30",
          "2022-12-02T03:22:30",
          "2022-12-02T03:37:30",
          "2022-12-02T03:52:30",
          "2022-12-02T04:07:30",
          "2022-12-02T04:22:30",
          "2022-12-02T04:37:30",
          "2022-12-02T04:52:30",
          "2022-12-02T05:07:30",
          "2022-12-02T05:22:30",
          "2022-12-02T05:37:30",
          "2022-12-02T05:52:30",
          "2022-12-02T06:07:30",
          "2022-12-02T06:22:30",
          "2022-12-02T06:37:30",
          "2022-12-02T06:52:30",
          "2022-12-02T07:07:30",
          "2022-12-02T07:22:30"
         ],
         "xaxis": "x2",
         "y": [
          0,
          0,
          0,
          0,
          0,
          0,
          0,
          0,
          0,
          0,
          0,
          0,
          0,
          0,
          0,
          0,
          0,
          0,
          0,
          0,
          0,
          0,
          0,
          0,
          0,
          0,
          0,
          0,
          0,
          0,
          0,
          0,
          0,
          0,
          0,
          0,
          0,
          0,
          0,
          0,
          0,
          0,
          0,
          0,
          0,
          0,
          0,
          0,
          0,
          0,
          0,
          0,
          0,
          0,
          0,
          0,
          0,
          0,
          0,
          0,
          0,
          0,
          0,
          0,
          0,
          0,
          0,
          0,
          0
         ],
         "yaxis": "y2"
        },
        {
         "marker": {
          "color": "black",
          "size": 10
         },
         "mode": "markers",
         "name": "Unknown Stops",
         "type": "scatter",
         "x": [
          "2022-11-28T22:22:30",
          "2022-11-28T22:37:30",
          "2022-11-28T22:52:30",
          "2022-11-28T23:07:30",
          "2022-11-28T23:22:30",
          "2022-11-29T00:07:30",
          "2022-11-29T04:52:30",
          "2022-11-30T03:07:30",
          "2022-11-30T23:52:30",
          "2022-12-01T00:07:30",
          "2022-12-01T00:22:30",
          "2022-12-01T00:37:30",
          "2022-12-01T00:52:30",
          "2022-12-01T05:07:30",
          "2022-12-01T05:22:30",
          "2022-12-01T05:37:30",
          "2022-12-01T05:52:30",
          "2022-12-01T06:07:30",
          "2022-12-01T06:22:30",
          "2022-12-01T06:37:30",
          "2022-12-01T06:52:30",
          "2022-12-01T07:07:30",
          "2022-12-01T07:22:30",
          "2022-12-01T07:37:30",
          "2022-12-01T09:22:30",
          "2022-12-01T09:37:30",
          "2022-12-01T09:52:30",
          "2022-12-01T10:07:30",
          "2022-12-01T10:22:30",
          "2022-12-01T10:37:30",
          "2022-12-01T10:52:30",
          "2022-12-01T11:07:30",
          "2022-12-01T11:22:30",
          "2022-12-01T11:37:30",
          "2022-12-01T11:52:30",
          "2022-12-01T17:52:30",
          "2022-12-01T18:07:30",
          "2022-12-01T18:22:30",
          "2022-12-01T18:37:30",
          "2022-12-01T18:52:30",
          "2022-12-01T19:07:30",
          "2022-12-01T19:22:30",
          "2022-12-01T19:37:30",
          "2022-12-01T19:52:30",
          "2022-12-01T20:07:30",
          "2022-12-01T20:22:30",
          "2022-12-02T01:52:30",
          "2022-12-02T02:07:30",
          "2022-12-02T02:22:30",
          "2022-12-02T02:37:30",
          "2022-12-02T02:52:30",
          "2022-12-02T03:07:30",
          "2022-12-02T03:22:30",
          "2022-12-02T03:37:30",
          "2022-12-02T03:52:30",
          "2022-12-02T04:07:30",
          "2022-12-02T04:22:30",
          "2022-12-02T04:37:30",
          "2022-12-02T04:52:30",
          "2022-12-02T05:07:30",
          "2022-12-02T05:22:30",
          "2022-12-02T05:37:30",
          "2022-12-02T05:52:30",
          "2022-12-02T06:07:30",
          "2022-12-02T06:22:30",
          "2022-12-02T06:37:30",
          "2022-12-02T06:52:30",
          "2022-12-02T07:07:30",
          "2022-12-02T07:22:30"
         ],
         "xaxis": "x3",
         "y": [
          "Running",
          "Running",
          "Running",
          "Running",
          "Running",
          "Sostituzione utensile",
          "Sostituzione utensile",
          "Manutenzione ordinaria",
          "Running",
          "Running",
          "Running",
          "Running",
          "Running",
          "Running",
          "Running",
          "Running",
          "Running",
          "Running",
          "Sostituzione utensile",
          "Running",
          "Running",
          "Running",
          "Running",
          "Running",
          "Running",
          "Running",
          "Running",
          "Running",
          "Running",
          "Sostituzione utensile",
          "Running",
          "Running",
          "Running",
          "Running",
          "Running",
          "Running",
          "Running",
          "Running",
          "Running",
          "Running",
          "Affilatura utensile",
          "Running",
          "Running",
          "Running",
          "Running",
          "Running",
          "Running",
          "Running",
          "Running",
          "Running",
          "Running",
          "Sostituzione utensile",
          "Running",
          "Running",
          "Sostituzione utensile",
          "Running",
          "Running",
          "Running",
          "Running",
          "Running",
          "Running",
          "Running",
          "Running",
          "Sostituzione utensile",
          "Running",
          "Running",
          "Running",
          "Running",
          "Running"
         ],
         "yaxis": "y3"
        }
       ],
       "layout": {
        "annotations": [
         {
          "font": {
           "size": 16
          },
          "showarrow": false,
          "text": "Energy Consumption",
          "x": 0.5,
          "xanchor": "center",
          "xref": "paper",
          "y": 1,
          "yanchor": "bottom",
          "yref": "paper"
         },
         {
          "font": {
           "size": 16
          },
          "showarrow": false,
          "text": "Productions",
          "x": 0.5,
          "xanchor": "center",
          "xref": "paper",
          "y": 0.6466666666666667,
          "yanchor": "bottom",
          "yref": "paper"
         },
         {
          "font": {
           "size": 16
          },
          "showarrow": false,
          "text": "Stops",
          "x": 0.5,
          "xanchor": "center",
          "xref": "paper",
          "y": 0.29333333333333333,
          "yanchor": "bottom",
          "yref": "paper"
         }
        ],
        "height": 800,
        "template": {
         "data": {
          "bar": [
           {
            "error_x": {
             "color": "#2a3f5f"
            },
            "error_y": {
             "color": "#2a3f5f"
            },
            "marker": {
             "line": {
              "color": "#E5ECF6",
              "width": 0.5
             },
             "pattern": {
              "fillmode": "overlay",
              "size": 10,
              "solidity": 0.2
             }
            },
            "type": "bar"
           }
          ],
          "barpolar": [
           {
            "marker": {
             "line": {
              "color": "#E5ECF6",
              "width": 0.5
             },
             "pattern": {
              "fillmode": "overlay",
              "size": 10,
              "solidity": 0.2
             }
            },
            "type": "barpolar"
           }
          ],
          "carpet": [
           {
            "aaxis": {
             "endlinecolor": "#2a3f5f",
             "gridcolor": "white",
             "linecolor": "white",
             "minorgridcolor": "white",
             "startlinecolor": "#2a3f5f"
            },
            "baxis": {
             "endlinecolor": "#2a3f5f",
             "gridcolor": "white",
             "linecolor": "white",
             "minorgridcolor": "white",
             "startlinecolor": "#2a3f5f"
            },
            "type": "carpet"
           }
          ],
          "choropleth": [
           {
            "colorbar": {
             "outlinewidth": 0,
             "ticks": ""
            },
            "type": "choropleth"
           }
          ],
          "contour": [
           {
            "colorbar": {
             "outlinewidth": 0,
             "ticks": ""
            },
            "colorscale": [
             [
              0,
              "#0d0887"
             ],
             [
              0.1111111111111111,
              "#46039f"
             ],
             [
              0.2222222222222222,
              "#7201a8"
             ],
             [
              0.3333333333333333,
              "#9c179e"
             ],
             [
              0.4444444444444444,
              "#bd3786"
             ],
             [
              0.5555555555555556,
              "#d8576b"
             ],
             [
              0.6666666666666666,
              "#ed7953"
             ],
             [
              0.7777777777777778,
              "#fb9f3a"
             ],
             [
              0.8888888888888888,
              "#fdca26"
             ],
             [
              1,
              "#f0f921"
             ]
            ],
            "type": "contour"
           }
          ],
          "contourcarpet": [
           {
            "colorbar": {
             "outlinewidth": 0,
             "ticks": ""
            },
            "type": "contourcarpet"
           }
          ],
          "heatmap": [
           {
            "colorbar": {
             "outlinewidth": 0,
             "ticks": ""
            },
            "colorscale": [
             [
              0,
              "#0d0887"
             ],
             [
              0.1111111111111111,
              "#46039f"
             ],
             [
              0.2222222222222222,
              "#7201a8"
             ],
             [
              0.3333333333333333,
              "#9c179e"
             ],
             [
              0.4444444444444444,
              "#bd3786"
             ],
             [
              0.5555555555555556,
              "#d8576b"
             ],
             [
              0.6666666666666666,
              "#ed7953"
             ],
             [
              0.7777777777777778,
              "#fb9f3a"
             ],
             [
              0.8888888888888888,
              "#fdca26"
             ],
             [
              1,
              "#f0f921"
             ]
            ],
            "type": "heatmap"
           }
          ],
          "heatmapgl": [
           {
            "colorbar": {
             "outlinewidth": 0,
             "ticks": ""
            },
            "colorscale": [
             [
              0,
              "#0d0887"
             ],
             [
              0.1111111111111111,
              "#46039f"
             ],
             [
              0.2222222222222222,
              "#7201a8"
             ],
             [
              0.3333333333333333,
              "#9c179e"
             ],
             [
              0.4444444444444444,
              "#bd3786"
             ],
             [
              0.5555555555555556,
              "#d8576b"
             ],
             [
              0.6666666666666666,
              "#ed7953"
             ],
             [
              0.7777777777777778,
              "#fb9f3a"
             ],
             [
              0.8888888888888888,
              "#fdca26"
             ],
             [
              1,
              "#f0f921"
             ]
            ],
            "type": "heatmapgl"
           }
          ],
          "histogram": [
           {
            "marker": {
             "pattern": {
              "fillmode": "overlay",
              "size": 10,
              "solidity": 0.2
             }
            },
            "type": "histogram"
           }
          ],
          "histogram2d": [
           {
            "colorbar": {
             "outlinewidth": 0,
             "ticks": ""
            },
            "colorscale": [
             [
              0,
              "#0d0887"
             ],
             [
              0.1111111111111111,
              "#46039f"
             ],
             [
              0.2222222222222222,
              "#7201a8"
             ],
             [
              0.3333333333333333,
              "#9c179e"
             ],
             [
              0.4444444444444444,
              "#bd3786"
             ],
             [
              0.5555555555555556,
              "#d8576b"
             ],
             [
              0.6666666666666666,
              "#ed7953"
             ],
             [
              0.7777777777777778,
              "#fb9f3a"
             ],
             [
              0.8888888888888888,
              "#fdca26"
             ],
             [
              1,
              "#f0f921"
             ]
            ],
            "type": "histogram2d"
           }
          ],
          "histogram2dcontour": [
           {
            "colorbar": {
             "outlinewidth": 0,
             "ticks": ""
            },
            "colorscale": [
             [
              0,
              "#0d0887"
             ],
             [
              0.1111111111111111,
              "#46039f"
             ],
             [
              0.2222222222222222,
              "#7201a8"
             ],
             [
              0.3333333333333333,
              "#9c179e"
             ],
             [
              0.4444444444444444,
              "#bd3786"
             ],
             [
              0.5555555555555556,
              "#d8576b"
             ],
             [
              0.6666666666666666,
              "#ed7953"
             ],
             [
              0.7777777777777778,
              "#fb9f3a"
             ],
             [
              0.8888888888888888,
              "#fdca26"
             ],
             [
              1,
              "#f0f921"
             ]
            ],
            "type": "histogram2dcontour"
           }
          ],
          "mesh3d": [
           {
            "colorbar": {
             "outlinewidth": 0,
             "ticks": ""
            },
            "type": "mesh3d"
           }
          ],
          "parcoords": [
           {
            "line": {
             "colorbar": {
              "outlinewidth": 0,
              "ticks": ""
             }
            },
            "type": "parcoords"
           }
          ],
          "pie": [
           {
            "automargin": true,
            "type": "pie"
           }
          ],
          "scatter": [
           {
            "fillpattern": {
             "fillmode": "overlay",
             "size": 10,
             "solidity": 0.2
            },
            "type": "scatter"
           }
          ],
          "scatter3d": [
           {
            "line": {
             "colorbar": {
              "outlinewidth": 0,
              "ticks": ""
             }
            },
            "marker": {
             "colorbar": {
              "outlinewidth": 0,
              "ticks": ""
             }
            },
            "type": "scatter3d"
           }
          ],
          "scattercarpet": [
           {
            "marker": {
             "colorbar": {
              "outlinewidth": 0,
              "ticks": ""
             }
            },
            "type": "scattercarpet"
           }
          ],
          "scattergeo": [
           {
            "marker": {
             "colorbar": {
              "outlinewidth": 0,
              "ticks": ""
             }
            },
            "type": "scattergeo"
           }
          ],
          "scattergl": [
           {
            "marker": {
             "colorbar": {
              "outlinewidth": 0,
              "ticks": ""
             }
            },
            "type": "scattergl"
           }
          ],
          "scattermapbox": [
           {
            "marker": {
             "colorbar": {
              "outlinewidth": 0,
              "ticks": ""
             }
            },
            "type": "scattermapbox"
           }
          ],
          "scatterpolar": [
           {
            "marker": {
             "colorbar": {
              "outlinewidth": 0,
              "ticks": ""
             }
            },
            "type": "scatterpolar"
           }
          ],
          "scatterpolargl": [
           {
            "marker": {
             "colorbar": {
              "outlinewidth": 0,
              "ticks": ""
             }
            },
            "type": "scatterpolargl"
           }
          ],
          "scatterternary": [
           {
            "marker": {
             "colorbar": {
              "outlinewidth": 0,
              "ticks": ""
             }
            },
            "type": "scatterternary"
           }
          ],
          "surface": [
           {
            "colorbar": {
             "outlinewidth": 0,
             "ticks": ""
            },
            "colorscale": [
             [
              0,
              "#0d0887"
             ],
             [
              0.1111111111111111,
              "#46039f"
             ],
             [
              0.2222222222222222,
              "#7201a8"
             ],
             [
              0.3333333333333333,
              "#9c179e"
             ],
             [
              0.4444444444444444,
              "#bd3786"
             ],
             [
              0.5555555555555556,
              "#d8576b"
             ],
             [
              0.6666666666666666,
              "#ed7953"
             ],
             [
              0.7777777777777778,
              "#fb9f3a"
             ],
             [
              0.8888888888888888,
              "#fdca26"
             ],
             [
              1,
              "#f0f921"
             ]
            ],
            "type": "surface"
           }
          ],
          "table": [
           {
            "cells": {
             "fill": {
              "color": "#EBF0F8"
             },
             "line": {
              "color": "white"
             }
            },
            "header": {
             "fill": {
              "color": "#C8D4E3"
             },
             "line": {
              "color": "white"
             }
            },
            "type": "table"
           }
          ]
         },
         "layout": {
          "annotationdefaults": {
           "arrowcolor": "#2a3f5f",
           "arrowhead": 0,
           "arrowwidth": 1
          },
          "autotypenumbers": "strict",
          "coloraxis": {
           "colorbar": {
            "outlinewidth": 0,
            "ticks": ""
           }
          },
          "colorscale": {
           "diverging": [
            [
             0,
             "#8e0152"
            ],
            [
             0.1,
             "#c51b7d"
            ],
            [
             0.2,
             "#de77ae"
            ],
            [
             0.3,
             "#f1b6da"
            ],
            [
             0.4,
             "#fde0ef"
            ],
            [
             0.5,
             "#f7f7f7"
            ],
            [
             0.6,
             "#e6f5d0"
            ],
            [
             0.7,
             "#b8e186"
            ],
            [
             0.8,
             "#7fbc41"
            ],
            [
             0.9,
             "#4d9221"
            ],
            [
             1,
             "#276419"
            ]
           ],
           "sequential": [
            [
             0,
             "#0d0887"
            ],
            [
             0.1111111111111111,
             "#46039f"
            ],
            [
             0.2222222222222222,
             "#7201a8"
            ],
            [
             0.3333333333333333,
             "#9c179e"
            ],
            [
             0.4444444444444444,
             "#bd3786"
            ],
            [
             0.5555555555555556,
             "#d8576b"
            ],
            [
             0.6666666666666666,
             "#ed7953"
            ],
            [
             0.7777777777777778,
             "#fb9f3a"
            ],
            [
             0.8888888888888888,
             "#fdca26"
            ],
            [
             1,
             "#f0f921"
            ]
           ],
           "sequentialminus": [
            [
             0,
             "#0d0887"
            ],
            [
             0.1111111111111111,
             "#46039f"
            ],
            [
             0.2222222222222222,
             "#7201a8"
            ],
            [
             0.3333333333333333,
             "#9c179e"
            ],
            [
             0.4444444444444444,
             "#bd3786"
            ],
            [
             0.5555555555555556,
             "#d8576b"
            ],
            [
             0.6666666666666666,
             "#ed7953"
            ],
            [
             0.7777777777777778,
             "#fb9f3a"
            ],
            [
             0.8888888888888888,
             "#fdca26"
            ],
            [
             1,
             "#f0f921"
            ]
           ]
          },
          "colorway": [
           "#636efa",
           "#EF553B",
           "#00cc96",
           "#ab63fa",
           "#FFA15A",
           "#19d3f3",
           "#FF6692",
           "#B6E880",
           "#FF97FF",
           "#FECB52"
          ],
          "font": {
           "color": "#2a3f5f"
          },
          "geo": {
           "bgcolor": "white",
           "lakecolor": "white",
           "landcolor": "#E5ECF6",
           "showlakes": true,
           "showland": true,
           "subunitcolor": "white"
          },
          "hoverlabel": {
           "align": "left"
          },
          "hovermode": "closest",
          "mapbox": {
           "style": "light"
          },
          "paper_bgcolor": "white",
          "plot_bgcolor": "#E5ECF6",
          "polar": {
           "angularaxis": {
            "gridcolor": "white",
            "linecolor": "white",
            "ticks": ""
           },
           "bgcolor": "#E5ECF6",
           "radialaxis": {
            "gridcolor": "white",
            "linecolor": "white",
            "ticks": ""
           }
          },
          "scene": {
           "xaxis": {
            "backgroundcolor": "#E5ECF6",
            "gridcolor": "white",
            "gridwidth": 2,
            "linecolor": "white",
            "showbackground": true,
            "ticks": "",
            "zerolinecolor": "white"
           },
           "yaxis": {
            "backgroundcolor": "#E5ECF6",
            "gridcolor": "white",
            "gridwidth": 2,
            "linecolor": "white",
            "showbackground": true,
            "ticks": "",
            "zerolinecolor": "white"
           },
           "zaxis": {
            "backgroundcolor": "#E5ECF6",
            "gridcolor": "white",
            "gridwidth": 2,
            "linecolor": "white",
            "showbackground": true,
            "ticks": "",
            "zerolinecolor": "white"
           }
          },
          "shapedefaults": {
           "line": {
            "color": "#2a3f5f"
           }
          },
          "ternary": {
           "aaxis": {
            "gridcolor": "white",
            "linecolor": "white",
            "ticks": ""
           },
           "baxis": {
            "gridcolor": "white",
            "linecolor": "white",
            "ticks": ""
           },
           "bgcolor": "#E5ECF6",
           "caxis": {
            "gridcolor": "white",
            "linecolor": "white",
            "ticks": ""
           }
          },
          "title": {
           "x": 0.05
          },
          "xaxis": {
           "automargin": true,
           "gridcolor": "white",
           "linecolor": "white",
           "ticks": "",
           "title": {
            "standoff": 15
           },
           "zerolinecolor": "white",
           "zerolinewidth": 2
          },
          "yaxis": {
           "automargin": true,
           "gridcolor": "white",
           "linecolor": "white",
           "ticks": "",
           "title": {
            "standoff": 15
           },
           "zerolinecolor": "white",
           "zerolinewidth": 2
          }
         }
        },
        "title": {
         "text": "Dataset machine 319"
        },
        "width": 1280,
        "xaxis": {
         "anchor": "y",
         "domain": [
          0,
          1
         ],
         "matches": "x3",
         "showticklabels": false
        },
        "xaxis2": {
         "anchor": "y2",
         "domain": [
          0,
          1
         ],
         "matches": "x3",
         "showticklabels": false
        },
        "xaxis3": {
         "anchor": "y3",
         "domain": [
          0,
          1
         ]
        },
        "yaxis": {
         "anchor": "x",
         "domain": [
          0.7066666666666667,
          1
         ]
        },
        "yaxis2": {
         "anchor": "x2",
         "domain": [
          0.35333333333333333,
          0.6466666666666667
         ]
        },
        "yaxis3": {
         "anchor": "x3",
         "domain": [
          0,
          0.29333333333333333
         ]
        }
       }
      }
     },
     "metadata": {},
     "output_type": "display_data"
    },
    {
     "data": {
      "application/vnd.plotly.v1+json": {
       "config": {
        "plotlyServerURL": "https://plot.ly"
       },
       "data": [
        {
         "marker": {
          "color": "blue",
          "size": 10
         },
         "mode": "markers+lines",
         "name": "AIS Energy",
         "text": [
          0,
          0,
          0,
          0,
          0
         ],
         "type": "scatter",
         "x": [
          "2022-11-29T17:52:30",
          "2022-11-29T18:07:30",
          "2022-11-29T18:22:30",
          "2022-11-29T18:37:30",
          "2022-11-29T18:52:30"
         ],
         "xaxis": "x",
         "y": [
          0,
          0,
          0,
          0,
          0
         ],
         "yaxis": "y"
        },
        {
         "marker": {
          "color": "blue",
          "size": 10
         },
         "mode": "markers+lines",
         "name": "AIS Productions",
         "text": [
          0,
          0,
          0,
          0.125,
          42.125
         ],
         "type": "scatter",
         "x": [
          "2022-11-29T17:52:30",
          "2022-11-29T18:07:30",
          "2022-11-29T18:22:30",
          "2022-11-29T18:37:30",
          "2022-11-29T18:52:30"
         ],
         "xaxis": "x2",
         "y": [
          0,
          0,
          0,
          0.125,
          42.125
         ],
         "yaxis": "y2"
        },
        {
         "marker": {
          "color": "blue",
          "size": 10
         },
         "mode": "markers",
         "name": "AIS Stops",
         "type": "scatter",
         "x": [
          "2022-11-29T17:52:30",
          "2022-11-29T18:07:30",
          "2022-11-29T18:22:30",
          "2022-11-29T18:37:30",
          "2022-11-29T18:52:30"
         ],
         "xaxis": "x3",
         "y": [
          "Running",
          "Running",
          "Running",
          "Running",
          "Running"
         ],
         "yaxis": "y3"
        },
        {
         "marker": {
          "color": "black",
          "size": 10
         },
         "mode": "markers+lines",
         "name": "Unknown Energy",
         "text": [
          0,
          0,
          0,
          0,
          0,
          0,
          0,
          0,
          0,
          93.6,
          63.8,
          87,
          110.1,
          80,
          5.6,
          0,
          0,
          0,
          0,
          0,
          0,
          0,
          0,
          0,
          0,
          0,
          0,
          0,
          0,
          0,
          0,
          0,
          0,
          0,
          0,
          0,
          0,
          0,
          0,
          0,
          0,
          0,
          0,
          0,
          0,
          0,
          0,
          0,
          0,
          0,
          0,
          0,
          0,
          0,
          0,
          0,
          0,
          0,
          0,
          0,
          0,
          0,
          0,
          0,
          0,
          0,
          0,
          0,
          0,
          0,
          0,
          0,
          0,
          0,
          0,
          0,
          0,
          0
         ],
         "type": "scatter",
         "x": [
          "2022-11-29T20:52:30",
          "2022-11-30T06:07:30",
          "2022-11-30T07:37:30",
          "2022-11-30T10:52:30",
          "2022-11-30T14:22:30",
          "2022-11-30T15:22:30",
          "2022-11-30T18:37:30",
          "2022-11-30T19:37:30",
          "2022-11-30T20:52:30",
          "2022-11-30T23:52:30",
          "2022-12-01T00:07:30",
          "2022-12-01T00:22:30",
          "2022-12-01T00:37:30",
          "2022-12-01T00:52:30",
          "2022-12-01T05:37:30",
          "2022-12-01T05:52:30",
          "2022-12-01T06:07:30",
          "2022-12-01T06:22:30",
          "2022-12-01T06:37:30",
          "2022-12-01T06:52:30",
          "2022-12-01T07:07:30",
          "2022-12-01T07:22:30",
          "2022-12-01T07:37:30",
          "2022-12-01T07:52:30",
          "2022-12-01T08:07:30",
          "2022-12-01T08:22:30",
          "2022-12-01T08:37:30",
          "2022-12-01T08:52:30",
          "2022-12-01T09:07:30",
          "2022-12-01T09:22:30",
          "2022-12-01T09:37:30",
          "2022-12-01T09:52:30",
          "2022-12-01T10:07:30",
          "2022-12-01T10:22:30",
          "2022-12-01T12:07:30",
          "2022-12-01T12:22:30",
          "2022-12-01T12:37:30",
          "2022-12-01T12:52:30",
          "2022-12-01T13:07:30",
          "2022-12-01T13:22:30",
          "2022-12-01T13:37:30",
          "2022-12-01T13:52:30",
          "2022-12-01T14:07:30",
          "2022-12-01T14:22:30",
          "2022-12-01T14:37:30",
          "2022-12-02T04:52:30",
          "2022-12-02T05:07:30",
          "2022-12-02T05:22:30",
          "2022-12-02T05:37:30",
          "2022-12-02T05:52:30",
          "2022-12-02T06:07:30",
          "2022-12-02T06:22:30",
          "2022-12-02T06:37:30",
          "2022-12-02T06:52:30",
          "2022-12-02T07:07:30",
          "2022-12-02T07:22:30",
          "2022-12-02T10:52:30",
          "2022-12-02T11:07:30",
          "2022-12-02T11:22:30",
          "2022-12-02T11:37:30",
          "2022-12-02T11:52:30",
          "2022-12-02T12:07:30",
          "2022-12-02T12:22:30",
          "2022-12-02T12:37:30",
          "2022-12-02T12:52:30",
          "2022-12-02T13:07:30",
          "2022-12-02T13:22:30",
          "2022-12-02T15:07:30",
          "2022-12-02T15:22:30",
          "2022-12-02T15:37:30",
          "2022-12-02T15:52:30",
          "2022-12-02T16:07:30",
          "2022-12-02T16:22:30",
          "2022-12-02T16:37:30",
          "2022-12-02T16:52:30",
          "2022-12-02T17:07:30",
          "2022-12-02T17:22:30",
          "2022-12-02T17:37:30"
         ],
         "xaxis": "x",
         "y": [
          0,
          0,
          0,
          0,
          0,
          0,
          0,
          0,
          0,
          93.6,
          63.8,
          87,
          110.1,
          80,
          5.6,
          0,
          0,
          0,
          0,
          0,
          0,
          0,
          0,
          0,
          0,
          0,
          0,
          0,
          0,
          0,
          0,
          0,
          0,
          0,
          0,
          0,
          0,
          0,
          0,
          0,
          0,
          0,
          0,
          0,
          0,
          0,
          0,
          0,
          0,
          0,
          0,
          0,
          0,
          0,
          0,
          0,
          0,
          0,
          0,
          0,
          0,
          0,
          0,
          0,
          0,
          0,
          0,
          0,
          0,
          0,
          0,
          0,
          0,
          0,
          0,
          0,
          0,
          0
         ],
         "yaxis": "y"
        },
        {
         "marker": {
          "color": "black",
          "size": 10
         },
         "mode": "markers+lines",
         "name": "Unknown Productions",
         "text": [
          0,
          0,
          0,
          0,
          0,
          0,
          0,
          0,
          0,
          0,
          0,
          0,
          0,
          0,
          0,
          0,
          0,
          0,
          0,
          0,
          0,
          0,
          0,
          0,
          0,
          0,
          0,
          0,
          0,
          0,
          0,
          0,
          0,
          0,
          0,
          0,
          0,
          0,
          0,
          0,
          0,
          0,
          0,
          0,
          0,
          0,
          0,
          0,
          0,
          0,
          0,
          0,
          0,
          0,
          0,
          0,
          0,
          0,
          0,
          0,
          0,
          0,
          0,
          0,
          0,
          0,
          0,
          0,
          0,
          0,
          0,
          0,
          0,
          0,
          0,
          0,
          0,
          0
         ],
         "type": "scatter",
         "x": [
          "2022-11-29T20:52:30",
          "2022-11-30T06:07:30",
          "2022-11-30T07:37:30",
          "2022-11-30T10:52:30",
          "2022-11-30T14:22:30",
          "2022-11-30T15:22:30",
          "2022-11-30T18:37:30",
          "2022-11-30T19:37:30",
          "2022-11-30T20:52:30",
          "2022-11-30T23:52:30",
          "2022-12-01T00:07:30",
          "2022-12-01T00:22:30",
          "2022-12-01T00:37:30",
          "2022-12-01T00:52:30",
          "2022-12-01T05:37:30",
          "2022-12-01T05:52:30",
          "2022-12-01T06:07:30",
          "2022-12-01T06:22:30",
          "2022-12-01T06:37:30",
          "2022-12-01T06:52:30",
          "2022-12-01T07:07:30",
          "2022-12-01T07:22:30",
          "2022-12-01T07:37:30",
          "2022-12-01T07:52:30",
          "2022-12-01T08:07:30",
          "2022-12-01T08:22:30",
          "2022-12-01T08:37:30",
          "2022-12-01T08:52:30",
          "2022-12-01T09:07:30",
          "2022-12-01T09:22:30",
          "2022-12-01T09:37:30",
          "2022-12-01T09:52:30",
          "2022-12-01T10:07:30",
          "2022-12-01T10:22:30",
          "2022-12-01T12:07:30",
          "2022-12-01T12:22:30",
          "2022-12-01T12:37:30",
          "2022-12-01T12:52:30",
          "2022-12-01T13:07:30",
          "2022-12-01T13:22:30",
          "2022-12-01T13:37:30",
          "2022-12-01T13:52:30",
          "2022-12-01T14:07:30",
          "2022-12-01T14:22:30",
          "2022-12-01T14:37:30",
          "2022-12-02T04:52:30",
          "2022-12-02T05:07:30",
          "2022-12-02T05:22:30",
          "2022-12-02T05:37:30",
          "2022-12-02T05:52:30",
          "2022-12-02T06:07:30",
          "2022-12-02T06:22:30",
          "2022-12-02T06:37:30",
          "2022-12-02T06:52:30",
          "2022-12-02T07:07:30",
          "2022-12-02T07:22:30",
          "2022-12-02T10:52:30",
          "2022-12-02T11:07:30",
          "2022-12-02T11:22:30",
          "2022-12-02T11:37:30",
          "2022-12-02T11:52:30",
          "2022-12-02T12:07:30",
          "2022-12-02T12:22:30",
          "2022-12-02T12:37:30",
          "2022-12-02T12:52:30",
          "2022-12-02T13:07:30",
          "2022-12-02T13:22:30",
          "2022-12-02T15:07:30",
          "2022-12-02T15:22:30",
          "2022-12-02T15:37:30",
          "2022-12-02T15:52:30",
          "2022-12-02T16:07:30",
          "2022-12-02T16:22:30",
          "2022-12-02T16:37:30",
          "2022-12-02T16:52:30",
          "2022-12-02T17:07:30",
          "2022-12-02T17:22:30",
          "2022-12-02T17:37:30"
         ],
         "xaxis": "x2",
         "y": [
          0,
          0,
          0,
          0,
          0,
          0,
          0,
          0,
          0,
          0,
          0,
          0,
          0,
          0,
          0,
          0,
          0,
          0,
          0,
          0,
          0,
          0,
          0,
          0,
          0,
          0,
          0,
          0,
          0,
          0,
          0,
          0,
          0,
          0,
          0,
          0,
          0,
          0,
          0,
          0,
          0,
          0,
          0,
          0,
          0,
          0,
          0,
          0,
          0,
          0,
          0,
          0,
          0,
          0,
          0,
          0,
          0,
          0,
          0,
          0,
          0,
          0,
          0,
          0,
          0,
          0,
          0,
          0,
          0,
          0,
          0,
          0,
          0,
          0,
          0,
          0,
          0,
          0
         ],
         "yaxis": "y2"
        },
        {
         "marker": {
          "color": "black",
          "size": 10
         },
         "mode": "markers",
         "name": "Unknown Stops",
         "type": "scatter",
         "x": [
          "2022-11-29T20:52:30",
          "2022-11-30T06:07:30",
          "2022-11-30T07:37:30",
          "2022-11-30T10:52:30",
          "2022-11-30T14:22:30",
          "2022-11-30T15:22:30",
          "2022-11-30T18:37:30",
          "2022-11-30T19:37:30",
          "2022-11-30T20:52:30",
          "2022-11-30T23:52:30",
          "2022-12-01T00:07:30",
          "2022-12-01T00:22:30",
          "2022-12-01T00:37:30",
          "2022-12-01T00:52:30",
          "2022-12-01T05:37:30",
          "2022-12-01T05:52:30",
          "2022-12-01T06:07:30",
          "2022-12-01T06:22:30",
          "2022-12-01T06:37:30",
          "2022-12-01T06:52:30",
          "2022-12-01T07:07:30",
          "2022-12-01T07:22:30",
          "2022-12-01T07:37:30",
          "2022-12-01T07:52:30",
          "2022-12-01T08:07:30",
          "2022-12-01T08:22:30",
          "2022-12-01T08:37:30",
          "2022-12-01T08:52:30",
          "2022-12-01T09:07:30",
          "2022-12-01T09:22:30",
          "2022-12-01T09:37:30",
          "2022-12-01T09:52:30",
          "2022-12-01T10:07:30",
          "2022-12-01T10:22:30",
          "2022-12-01T12:07:30",
          "2022-12-01T12:22:30",
          "2022-12-01T12:37:30",
          "2022-12-01T12:52:30",
          "2022-12-01T13:07:30",
          "2022-12-01T13:22:30",
          "2022-12-01T13:37:30",
          "2022-12-01T13:52:30",
          "2022-12-01T14:07:30",
          "2022-12-01T14:22:30",
          "2022-12-01T14:37:30",
          "2022-12-02T04:52:30",
          "2022-12-02T05:07:30",
          "2022-12-02T05:22:30",
          "2022-12-02T05:37:30",
          "2022-12-02T05:52:30",
          "2022-12-02T06:07:30",
          "2022-12-02T06:22:30",
          "2022-12-02T06:37:30",
          "2022-12-02T06:52:30",
          "2022-12-02T07:07:30",
          "2022-12-02T07:22:30",
          "2022-12-02T10:52:30",
          "2022-12-02T11:07:30",
          "2022-12-02T11:22:30",
          "2022-12-02T11:37:30",
          "2022-12-02T11:52:30",
          "2022-12-02T12:07:30",
          "2022-12-02T12:22:30",
          "2022-12-02T12:37:30",
          "2022-12-02T12:52:30",
          "2022-12-02T13:07:30",
          "2022-12-02T13:22:30",
          "2022-12-02T15:07:30",
          "2022-12-02T15:22:30",
          "2022-12-02T15:37:30",
          "2022-12-02T15:52:30",
          "2022-12-02T16:07:30",
          "2022-12-02T16:22:30",
          "2022-12-02T16:37:30",
          "2022-12-02T16:52:30",
          "2022-12-02T17:07:30",
          "2022-12-02T17:22:30",
          "2022-12-02T17:37:30"
         ],
         "xaxis": "x3",
         "y": [
          "Sostituzione utensile",
          "Manutenzione ordinaria",
          "Manutenzione ordinaria",
          "Manutenzione ordinaria",
          "Sostituzione utensile",
          "Sostituzione utensile",
          "Sostituzione utensile",
          "Sostituzione utensile",
          "Sostituzione utensile",
          "Running",
          "Running",
          "Running",
          "Running",
          "Running",
          "Running",
          "Running",
          "Running",
          "Running",
          "Running",
          "Sostituzione utensile",
          "Running",
          "Running",
          "Running",
          "Running",
          "Running",
          "Running",
          "Running",
          "Running",
          "Manutenzione ordinaria",
          "Running",
          "Running",
          "Running",
          "Running",
          "Running",
          "Running",
          "Running",
          "Running",
          "Running",
          "Running",
          "Sostituzione utensile",
          "Running",
          "Running",
          "Running",
          "Running",
          "Running",
          "Running",
          "Running",
          "Running",
          "Running",
          "Running",
          "Manutenzione ordinaria",
          "Running",
          "Running",
          "Running",
          "Running",
          "Running",
          "Running",
          "Running",
          "Running",
          "Running",
          "Running",
          "Sostituzione utensile",
          "Running",
          "Running",
          "Running",
          "Running",
          "Running",
          "Running",
          "Running",
          "Running",
          "Running",
          "Running",
          "Sostituzione utensile",
          "Running",
          "Running",
          "Running",
          "Running",
          "Running"
         ],
         "yaxis": "y3"
        }
       ],
       "layout": {
        "annotations": [
         {
          "font": {
           "size": 16
          },
          "showarrow": false,
          "text": "Energy Consumption",
          "x": 0.5,
          "xanchor": "center",
          "xref": "paper",
          "y": 1,
          "yanchor": "bottom",
          "yref": "paper"
         },
         {
          "font": {
           "size": 16
          },
          "showarrow": false,
          "text": "Productions",
          "x": 0.5,
          "xanchor": "center",
          "xref": "paper",
          "y": 0.6466666666666667,
          "yanchor": "bottom",
          "yref": "paper"
         },
         {
          "font": {
           "size": 16
          },
          "showarrow": false,
          "text": "Stops",
          "x": 0.5,
          "xanchor": "center",
          "xref": "paper",
          "y": 0.29333333333333333,
          "yanchor": "bottom",
          "yref": "paper"
         }
        ],
        "height": 800,
        "template": {
         "data": {
          "bar": [
           {
            "error_x": {
             "color": "#2a3f5f"
            },
            "error_y": {
             "color": "#2a3f5f"
            },
            "marker": {
             "line": {
              "color": "#E5ECF6",
              "width": 0.5
             },
             "pattern": {
              "fillmode": "overlay",
              "size": 10,
              "solidity": 0.2
             }
            },
            "type": "bar"
           }
          ],
          "barpolar": [
           {
            "marker": {
             "line": {
              "color": "#E5ECF6",
              "width": 0.5
             },
             "pattern": {
              "fillmode": "overlay",
              "size": 10,
              "solidity": 0.2
             }
            },
            "type": "barpolar"
           }
          ],
          "carpet": [
           {
            "aaxis": {
             "endlinecolor": "#2a3f5f",
             "gridcolor": "white",
             "linecolor": "white",
             "minorgridcolor": "white",
             "startlinecolor": "#2a3f5f"
            },
            "baxis": {
             "endlinecolor": "#2a3f5f",
             "gridcolor": "white",
             "linecolor": "white",
             "minorgridcolor": "white",
             "startlinecolor": "#2a3f5f"
            },
            "type": "carpet"
           }
          ],
          "choropleth": [
           {
            "colorbar": {
             "outlinewidth": 0,
             "ticks": ""
            },
            "type": "choropleth"
           }
          ],
          "contour": [
           {
            "colorbar": {
             "outlinewidth": 0,
             "ticks": ""
            },
            "colorscale": [
             [
              0,
              "#0d0887"
             ],
             [
              0.1111111111111111,
              "#46039f"
             ],
             [
              0.2222222222222222,
              "#7201a8"
             ],
             [
              0.3333333333333333,
              "#9c179e"
             ],
             [
              0.4444444444444444,
              "#bd3786"
             ],
             [
              0.5555555555555556,
              "#d8576b"
             ],
             [
              0.6666666666666666,
              "#ed7953"
             ],
             [
              0.7777777777777778,
              "#fb9f3a"
             ],
             [
              0.8888888888888888,
              "#fdca26"
             ],
             [
              1,
              "#f0f921"
             ]
            ],
            "type": "contour"
           }
          ],
          "contourcarpet": [
           {
            "colorbar": {
             "outlinewidth": 0,
             "ticks": ""
            },
            "type": "contourcarpet"
           }
          ],
          "heatmap": [
           {
            "colorbar": {
             "outlinewidth": 0,
             "ticks": ""
            },
            "colorscale": [
             [
              0,
              "#0d0887"
             ],
             [
              0.1111111111111111,
              "#46039f"
             ],
             [
              0.2222222222222222,
              "#7201a8"
             ],
             [
              0.3333333333333333,
              "#9c179e"
             ],
             [
              0.4444444444444444,
              "#bd3786"
             ],
             [
              0.5555555555555556,
              "#d8576b"
             ],
             [
              0.6666666666666666,
              "#ed7953"
             ],
             [
              0.7777777777777778,
              "#fb9f3a"
             ],
             [
              0.8888888888888888,
              "#fdca26"
             ],
             [
              1,
              "#f0f921"
             ]
            ],
            "type": "heatmap"
           }
          ],
          "heatmapgl": [
           {
            "colorbar": {
             "outlinewidth": 0,
             "ticks": ""
            },
            "colorscale": [
             [
              0,
              "#0d0887"
             ],
             [
              0.1111111111111111,
              "#46039f"
             ],
             [
              0.2222222222222222,
              "#7201a8"
             ],
             [
              0.3333333333333333,
              "#9c179e"
             ],
             [
              0.4444444444444444,
              "#bd3786"
             ],
             [
              0.5555555555555556,
              "#d8576b"
             ],
             [
              0.6666666666666666,
              "#ed7953"
             ],
             [
              0.7777777777777778,
              "#fb9f3a"
             ],
             [
              0.8888888888888888,
              "#fdca26"
             ],
             [
              1,
              "#f0f921"
             ]
            ],
            "type": "heatmapgl"
           }
          ],
          "histogram": [
           {
            "marker": {
             "pattern": {
              "fillmode": "overlay",
              "size": 10,
              "solidity": 0.2
             }
            },
            "type": "histogram"
           }
          ],
          "histogram2d": [
           {
            "colorbar": {
             "outlinewidth": 0,
             "ticks": ""
            },
            "colorscale": [
             [
              0,
              "#0d0887"
             ],
             [
              0.1111111111111111,
              "#46039f"
             ],
             [
              0.2222222222222222,
              "#7201a8"
             ],
             [
              0.3333333333333333,
              "#9c179e"
             ],
             [
              0.4444444444444444,
              "#bd3786"
             ],
             [
              0.5555555555555556,
              "#d8576b"
             ],
             [
              0.6666666666666666,
              "#ed7953"
             ],
             [
              0.7777777777777778,
              "#fb9f3a"
             ],
             [
              0.8888888888888888,
              "#fdca26"
             ],
             [
              1,
              "#f0f921"
             ]
            ],
            "type": "histogram2d"
           }
          ],
          "histogram2dcontour": [
           {
            "colorbar": {
             "outlinewidth": 0,
             "ticks": ""
            },
            "colorscale": [
             [
              0,
              "#0d0887"
             ],
             [
              0.1111111111111111,
              "#46039f"
             ],
             [
              0.2222222222222222,
              "#7201a8"
             ],
             [
              0.3333333333333333,
              "#9c179e"
             ],
             [
              0.4444444444444444,
              "#bd3786"
             ],
             [
              0.5555555555555556,
              "#d8576b"
             ],
             [
              0.6666666666666666,
              "#ed7953"
             ],
             [
              0.7777777777777778,
              "#fb9f3a"
             ],
             [
              0.8888888888888888,
              "#fdca26"
             ],
             [
              1,
              "#f0f921"
             ]
            ],
            "type": "histogram2dcontour"
           }
          ],
          "mesh3d": [
           {
            "colorbar": {
             "outlinewidth": 0,
             "ticks": ""
            },
            "type": "mesh3d"
           }
          ],
          "parcoords": [
           {
            "line": {
             "colorbar": {
              "outlinewidth": 0,
              "ticks": ""
             }
            },
            "type": "parcoords"
           }
          ],
          "pie": [
           {
            "automargin": true,
            "type": "pie"
           }
          ],
          "scatter": [
           {
            "fillpattern": {
             "fillmode": "overlay",
             "size": 10,
             "solidity": 0.2
            },
            "type": "scatter"
           }
          ],
          "scatter3d": [
           {
            "line": {
             "colorbar": {
              "outlinewidth": 0,
              "ticks": ""
             }
            },
            "marker": {
             "colorbar": {
              "outlinewidth": 0,
              "ticks": ""
             }
            },
            "type": "scatter3d"
           }
          ],
          "scattercarpet": [
           {
            "marker": {
             "colorbar": {
              "outlinewidth": 0,
              "ticks": ""
             }
            },
            "type": "scattercarpet"
           }
          ],
          "scattergeo": [
           {
            "marker": {
             "colorbar": {
              "outlinewidth": 0,
              "ticks": ""
             }
            },
            "type": "scattergeo"
           }
          ],
          "scattergl": [
           {
            "marker": {
             "colorbar": {
              "outlinewidth": 0,
              "ticks": ""
             }
            },
            "type": "scattergl"
           }
          ],
          "scattermapbox": [
           {
            "marker": {
             "colorbar": {
              "outlinewidth": 0,
              "ticks": ""
             }
            },
            "type": "scattermapbox"
           }
          ],
          "scatterpolar": [
           {
            "marker": {
             "colorbar": {
              "outlinewidth": 0,
              "ticks": ""
             }
            },
            "type": "scatterpolar"
           }
          ],
          "scatterpolargl": [
           {
            "marker": {
             "colorbar": {
              "outlinewidth": 0,
              "ticks": ""
             }
            },
            "type": "scatterpolargl"
           }
          ],
          "scatterternary": [
           {
            "marker": {
             "colorbar": {
              "outlinewidth": 0,
              "ticks": ""
             }
            },
            "type": "scatterternary"
           }
          ],
          "surface": [
           {
            "colorbar": {
             "outlinewidth": 0,
             "ticks": ""
            },
            "colorscale": [
             [
              0,
              "#0d0887"
             ],
             [
              0.1111111111111111,
              "#46039f"
             ],
             [
              0.2222222222222222,
              "#7201a8"
             ],
             [
              0.3333333333333333,
              "#9c179e"
             ],
             [
              0.4444444444444444,
              "#bd3786"
             ],
             [
              0.5555555555555556,
              "#d8576b"
             ],
             [
              0.6666666666666666,
              "#ed7953"
             ],
             [
              0.7777777777777778,
              "#fb9f3a"
             ],
             [
              0.8888888888888888,
              "#fdca26"
             ],
             [
              1,
              "#f0f921"
             ]
            ],
            "type": "surface"
           }
          ],
          "table": [
           {
            "cells": {
             "fill": {
              "color": "#EBF0F8"
             },
             "line": {
              "color": "white"
             }
            },
            "header": {
             "fill": {
              "color": "#C8D4E3"
             },
             "line": {
              "color": "white"
             }
            },
            "type": "table"
           }
          ]
         },
         "layout": {
          "annotationdefaults": {
           "arrowcolor": "#2a3f5f",
           "arrowhead": 0,
           "arrowwidth": 1
          },
          "autotypenumbers": "strict",
          "coloraxis": {
           "colorbar": {
            "outlinewidth": 0,
            "ticks": ""
           }
          },
          "colorscale": {
           "diverging": [
            [
             0,
             "#8e0152"
            ],
            [
             0.1,
             "#c51b7d"
            ],
            [
             0.2,
             "#de77ae"
            ],
            [
             0.3,
             "#f1b6da"
            ],
            [
             0.4,
             "#fde0ef"
            ],
            [
             0.5,
             "#f7f7f7"
            ],
            [
             0.6,
             "#e6f5d0"
            ],
            [
             0.7,
             "#b8e186"
            ],
            [
             0.8,
             "#7fbc41"
            ],
            [
             0.9,
             "#4d9221"
            ],
            [
             1,
             "#276419"
            ]
           ],
           "sequential": [
            [
             0,
             "#0d0887"
            ],
            [
             0.1111111111111111,
             "#46039f"
            ],
            [
             0.2222222222222222,
             "#7201a8"
            ],
            [
             0.3333333333333333,
             "#9c179e"
            ],
            [
             0.4444444444444444,
             "#bd3786"
            ],
            [
             0.5555555555555556,
             "#d8576b"
            ],
            [
             0.6666666666666666,
             "#ed7953"
            ],
            [
             0.7777777777777778,
             "#fb9f3a"
            ],
            [
             0.8888888888888888,
             "#fdca26"
            ],
            [
             1,
             "#f0f921"
            ]
           ],
           "sequentialminus": [
            [
             0,
             "#0d0887"
            ],
            [
             0.1111111111111111,
             "#46039f"
            ],
            [
             0.2222222222222222,
             "#7201a8"
            ],
            [
             0.3333333333333333,
             "#9c179e"
            ],
            [
             0.4444444444444444,
             "#bd3786"
            ],
            [
             0.5555555555555556,
             "#d8576b"
            ],
            [
             0.6666666666666666,
             "#ed7953"
            ],
            [
             0.7777777777777778,
             "#fb9f3a"
            ],
            [
             0.8888888888888888,
             "#fdca26"
            ],
            [
             1,
             "#f0f921"
            ]
           ]
          },
          "colorway": [
           "#636efa",
           "#EF553B",
           "#00cc96",
           "#ab63fa",
           "#FFA15A",
           "#19d3f3",
           "#FF6692",
           "#B6E880",
           "#FF97FF",
           "#FECB52"
          ],
          "font": {
           "color": "#2a3f5f"
          },
          "geo": {
           "bgcolor": "white",
           "lakecolor": "white",
           "landcolor": "#E5ECF6",
           "showlakes": true,
           "showland": true,
           "subunitcolor": "white"
          },
          "hoverlabel": {
           "align": "left"
          },
          "hovermode": "closest",
          "mapbox": {
           "style": "light"
          },
          "paper_bgcolor": "white",
          "plot_bgcolor": "#E5ECF6",
          "polar": {
           "angularaxis": {
            "gridcolor": "white",
            "linecolor": "white",
            "ticks": ""
           },
           "bgcolor": "#E5ECF6",
           "radialaxis": {
            "gridcolor": "white",
            "linecolor": "white",
            "ticks": ""
           }
          },
          "scene": {
           "xaxis": {
            "backgroundcolor": "#E5ECF6",
            "gridcolor": "white",
            "gridwidth": 2,
            "linecolor": "white",
            "showbackground": true,
            "ticks": "",
            "zerolinecolor": "white"
           },
           "yaxis": {
            "backgroundcolor": "#E5ECF6",
            "gridcolor": "white",
            "gridwidth": 2,
            "linecolor": "white",
            "showbackground": true,
            "ticks": "",
            "zerolinecolor": "white"
           },
           "zaxis": {
            "backgroundcolor": "#E5ECF6",
            "gridcolor": "white",
            "gridwidth": 2,
            "linecolor": "white",
            "showbackground": true,
            "ticks": "",
            "zerolinecolor": "white"
           }
          },
          "shapedefaults": {
           "line": {
            "color": "#2a3f5f"
           }
          },
          "ternary": {
           "aaxis": {
            "gridcolor": "white",
            "linecolor": "white",
            "ticks": ""
           },
           "baxis": {
            "gridcolor": "white",
            "linecolor": "white",
            "ticks": ""
           },
           "bgcolor": "#E5ECF6",
           "caxis": {
            "gridcolor": "white",
            "linecolor": "white",
            "ticks": ""
           }
          },
          "title": {
           "x": 0.05
          },
          "xaxis": {
           "automargin": true,
           "gridcolor": "white",
           "linecolor": "white",
           "ticks": "",
           "title": {
            "standoff": 15
           },
           "zerolinecolor": "white",
           "zerolinewidth": 2
          },
          "yaxis": {
           "automargin": true,
           "gridcolor": "white",
           "linecolor": "white",
           "ticks": "",
           "title": {
            "standoff": 15
           },
           "zerolinecolor": "white",
           "zerolinewidth": 2
          }
         }
        },
        "title": {
         "text": "Dataset machine 108"
        },
        "width": 1280,
        "xaxis": {
         "anchor": "y",
         "domain": [
          0,
          1
         ],
         "matches": "x3",
         "showticklabels": false
        },
        "xaxis2": {
         "anchor": "y2",
         "domain": [
          0,
          1
         ],
         "matches": "x3",
         "showticklabels": false
        },
        "xaxis3": {
         "anchor": "y3",
         "domain": [
          0,
          1
         ]
        },
        "yaxis": {
         "anchor": "x",
         "domain": [
          0.7066666666666667,
          1
         ]
        },
        "yaxis2": {
         "anchor": "x2",
         "domain": [
          0.35333333333333333,
          0.6466666666666667
         ]
        },
        "yaxis3": {
         "anchor": "x3",
         "domain": [
          0,
          0.29333333333333333
         ]
        }
       }
      }
     },
     "metadata": {},
     "output_type": "display_data"
    },
    {
     "data": {
      "application/vnd.plotly.v1+json": {
       "config": {
        "plotlyServerURL": "https://plot.ly"
       },
       "data": [
        {
         "marker": {
          "color": "black",
          "size": 10
         },
         "mode": "markers+lines",
         "name": "Unknown Energy",
         "text": [
          134.3,
          133.8,
          134.5,
          0,
          0,
          0,
          539,
          534.2,
          536,
          536.2,
          534.3,
          568,
          585.8,
          595.3,
          725.3,
          1176.7,
          1204,
          1992.2,
          1996.1,
          1962.6,
          1969.6,
          1968.3
         ],
         "type": "scatter",
         "x": [
          "2022-11-28T22:22:30",
          "2022-11-28T22:37:30",
          "2022-11-28T22:52:30",
          "2022-11-28T23:07:30",
          "2022-11-28T23:22:30",
          "2022-11-29T07:22:30",
          "2022-11-30T23:52:30",
          "2022-12-01T00:07:30",
          "2022-12-01T00:22:30",
          "2022-12-01T00:37:30",
          "2022-12-01T00:52:30",
          "2022-12-12T05:07:30",
          "2022-12-12T05:22:30",
          "2022-12-12T05:37:30",
          "2022-12-12T05:52:30",
          "2022-12-12T06:07:30",
          "2022-12-12T06:22:30",
          "2022-12-12T06:37:30",
          "2022-12-12T06:52:30",
          "2022-12-12T07:07:30",
          "2022-12-12T07:22:30",
          "2022-12-12T07:37:30"
         ],
         "xaxis": "x",
         "y": [
          134.3,
          133.8,
          134.5,
          0,
          0,
          0,
          539,
          534.2,
          536,
          536.2,
          534.3,
          568,
          585.8,
          595.3,
          725.3,
          1176.7,
          1204,
          1992.2,
          1996.1,
          1962.6,
          1969.6,
          1968.3
         ],
         "yaxis": "y"
        },
        {
         "marker": {
          "color": "black",
          "size": 10
         },
         "mode": "markers+lines",
         "name": "Unknown Productions",
         "text": [
          0,
          0,
          0,
          0,
          0,
          0,
          0,
          0,
          0,
          0,
          0,
          0,
          0,
          0,
          0,
          0,
          0,
          0,
          0,
          0,
          0,
          0
         ],
         "type": "scatter",
         "x": [
          "2022-11-28T22:22:30",
          "2022-11-28T22:37:30",
          "2022-11-28T22:52:30",
          "2022-11-28T23:07:30",
          "2022-11-28T23:22:30",
          "2022-11-29T07:22:30",
          "2022-11-30T23:52:30",
          "2022-12-01T00:07:30",
          "2022-12-01T00:22:30",
          "2022-12-01T00:37:30",
          "2022-12-01T00:52:30",
          "2022-12-12T05:07:30",
          "2022-12-12T05:22:30",
          "2022-12-12T05:37:30",
          "2022-12-12T05:52:30",
          "2022-12-12T06:07:30",
          "2022-12-12T06:22:30",
          "2022-12-12T06:37:30",
          "2022-12-12T06:52:30",
          "2022-12-12T07:07:30",
          "2022-12-12T07:22:30",
          "2022-12-12T07:37:30"
         ],
         "xaxis": "x2",
         "y": [
          0,
          0,
          0,
          0,
          0,
          0,
          0,
          0,
          0,
          0,
          0,
          0,
          0,
          0,
          0,
          0,
          0,
          0,
          0,
          0,
          0,
          0
         ],
         "yaxis": "y2"
        },
        {
         "marker": {
          "color": "black",
          "size": 10
         },
         "mode": "markers",
         "name": "Unknown Stops",
         "type": "scatter",
         "x": [
          "2022-11-28T22:22:30",
          "2022-11-28T22:37:30",
          "2022-11-28T22:52:30",
          "2022-11-28T23:07:30",
          "2022-11-28T23:22:30",
          "2022-11-29T07:22:30",
          "2022-11-30T23:52:30",
          "2022-12-01T00:07:30",
          "2022-12-01T00:22:30",
          "2022-12-01T00:37:30",
          "2022-12-01T00:52:30",
          "2022-12-12T05:07:30",
          "2022-12-12T05:22:30",
          "2022-12-12T05:37:30",
          "2022-12-12T05:52:30",
          "2022-12-12T06:07:30",
          "2022-12-12T06:22:30",
          "2022-12-12T06:37:30",
          "2022-12-12T06:52:30",
          "2022-12-12T07:07:30",
          "2022-12-12T07:22:30",
          "2022-12-12T07:37:30"
         ],
         "xaxis": "x3",
         "y": [
          "Running",
          "Running",
          "Running",
          "Running",
          "Running",
          "Manutenzione ordinaria",
          "Running",
          "Running",
          "Running",
          "Running",
          "Running",
          "Running",
          "Running",
          "Running",
          "Running",
          "Running",
          "Affilatura utensile",
          "Running",
          "Running",
          "Running",
          "Running",
          "Running"
         ],
         "yaxis": "y3"
        }
       ],
       "layout": {
        "annotations": [
         {
          "font": {
           "size": 16
          },
          "showarrow": false,
          "text": "Energy Consumption",
          "x": 0.5,
          "xanchor": "center",
          "xref": "paper",
          "y": 1,
          "yanchor": "bottom",
          "yref": "paper"
         },
         {
          "font": {
           "size": 16
          },
          "showarrow": false,
          "text": "Productions",
          "x": 0.5,
          "xanchor": "center",
          "xref": "paper",
          "y": 0.6466666666666667,
          "yanchor": "bottom",
          "yref": "paper"
         },
         {
          "font": {
           "size": 16
          },
          "showarrow": false,
          "text": "Stops",
          "x": 0.5,
          "xanchor": "center",
          "xref": "paper",
          "y": 0.29333333333333333,
          "yanchor": "bottom",
          "yref": "paper"
         }
        ],
        "height": 800,
        "template": {
         "data": {
          "bar": [
           {
            "error_x": {
             "color": "#2a3f5f"
            },
            "error_y": {
             "color": "#2a3f5f"
            },
            "marker": {
             "line": {
              "color": "#E5ECF6",
              "width": 0.5
             },
             "pattern": {
              "fillmode": "overlay",
              "size": 10,
              "solidity": 0.2
             }
            },
            "type": "bar"
           }
          ],
          "barpolar": [
           {
            "marker": {
             "line": {
              "color": "#E5ECF6",
              "width": 0.5
             },
             "pattern": {
              "fillmode": "overlay",
              "size": 10,
              "solidity": 0.2
             }
            },
            "type": "barpolar"
           }
          ],
          "carpet": [
           {
            "aaxis": {
             "endlinecolor": "#2a3f5f",
             "gridcolor": "white",
             "linecolor": "white",
             "minorgridcolor": "white",
             "startlinecolor": "#2a3f5f"
            },
            "baxis": {
             "endlinecolor": "#2a3f5f",
             "gridcolor": "white",
             "linecolor": "white",
             "minorgridcolor": "white",
             "startlinecolor": "#2a3f5f"
            },
            "type": "carpet"
           }
          ],
          "choropleth": [
           {
            "colorbar": {
             "outlinewidth": 0,
             "ticks": ""
            },
            "type": "choropleth"
           }
          ],
          "contour": [
           {
            "colorbar": {
             "outlinewidth": 0,
             "ticks": ""
            },
            "colorscale": [
             [
              0,
              "#0d0887"
             ],
             [
              0.1111111111111111,
              "#46039f"
             ],
             [
              0.2222222222222222,
              "#7201a8"
             ],
             [
              0.3333333333333333,
              "#9c179e"
             ],
             [
              0.4444444444444444,
              "#bd3786"
             ],
             [
              0.5555555555555556,
              "#d8576b"
             ],
             [
              0.6666666666666666,
              "#ed7953"
             ],
             [
              0.7777777777777778,
              "#fb9f3a"
             ],
             [
              0.8888888888888888,
              "#fdca26"
             ],
             [
              1,
              "#f0f921"
             ]
            ],
            "type": "contour"
           }
          ],
          "contourcarpet": [
           {
            "colorbar": {
             "outlinewidth": 0,
             "ticks": ""
            },
            "type": "contourcarpet"
           }
          ],
          "heatmap": [
           {
            "colorbar": {
             "outlinewidth": 0,
             "ticks": ""
            },
            "colorscale": [
             [
              0,
              "#0d0887"
             ],
             [
              0.1111111111111111,
              "#46039f"
             ],
             [
              0.2222222222222222,
              "#7201a8"
             ],
             [
              0.3333333333333333,
              "#9c179e"
             ],
             [
              0.4444444444444444,
              "#bd3786"
             ],
             [
              0.5555555555555556,
              "#d8576b"
             ],
             [
              0.6666666666666666,
              "#ed7953"
             ],
             [
              0.7777777777777778,
              "#fb9f3a"
             ],
             [
              0.8888888888888888,
              "#fdca26"
             ],
             [
              1,
              "#f0f921"
             ]
            ],
            "type": "heatmap"
           }
          ],
          "heatmapgl": [
           {
            "colorbar": {
             "outlinewidth": 0,
             "ticks": ""
            },
            "colorscale": [
             [
              0,
              "#0d0887"
             ],
             [
              0.1111111111111111,
              "#46039f"
             ],
             [
              0.2222222222222222,
              "#7201a8"
             ],
             [
              0.3333333333333333,
              "#9c179e"
             ],
             [
              0.4444444444444444,
              "#bd3786"
             ],
             [
              0.5555555555555556,
              "#d8576b"
             ],
             [
              0.6666666666666666,
              "#ed7953"
             ],
             [
              0.7777777777777778,
              "#fb9f3a"
             ],
             [
              0.8888888888888888,
              "#fdca26"
             ],
             [
              1,
              "#f0f921"
             ]
            ],
            "type": "heatmapgl"
           }
          ],
          "histogram": [
           {
            "marker": {
             "pattern": {
              "fillmode": "overlay",
              "size": 10,
              "solidity": 0.2
             }
            },
            "type": "histogram"
           }
          ],
          "histogram2d": [
           {
            "colorbar": {
             "outlinewidth": 0,
             "ticks": ""
            },
            "colorscale": [
             [
              0,
              "#0d0887"
             ],
             [
              0.1111111111111111,
              "#46039f"
             ],
             [
              0.2222222222222222,
              "#7201a8"
             ],
             [
              0.3333333333333333,
              "#9c179e"
             ],
             [
              0.4444444444444444,
              "#bd3786"
             ],
             [
              0.5555555555555556,
              "#d8576b"
             ],
             [
              0.6666666666666666,
              "#ed7953"
             ],
             [
              0.7777777777777778,
              "#fb9f3a"
             ],
             [
              0.8888888888888888,
              "#fdca26"
             ],
             [
              1,
              "#f0f921"
             ]
            ],
            "type": "histogram2d"
           }
          ],
          "histogram2dcontour": [
           {
            "colorbar": {
             "outlinewidth": 0,
             "ticks": ""
            },
            "colorscale": [
             [
              0,
              "#0d0887"
             ],
             [
              0.1111111111111111,
              "#46039f"
             ],
             [
              0.2222222222222222,
              "#7201a8"
             ],
             [
              0.3333333333333333,
              "#9c179e"
             ],
             [
              0.4444444444444444,
              "#bd3786"
             ],
             [
              0.5555555555555556,
              "#d8576b"
             ],
             [
              0.6666666666666666,
              "#ed7953"
             ],
             [
              0.7777777777777778,
              "#fb9f3a"
             ],
             [
              0.8888888888888888,
              "#fdca26"
             ],
             [
              1,
              "#f0f921"
             ]
            ],
            "type": "histogram2dcontour"
           }
          ],
          "mesh3d": [
           {
            "colorbar": {
             "outlinewidth": 0,
             "ticks": ""
            },
            "type": "mesh3d"
           }
          ],
          "parcoords": [
           {
            "line": {
             "colorbar": {
              "outlinewidth": 0,
              "ticks": ""
             }
            },
            "type": "parcoords"
           }
          ],
          "pie": [
           {
            "automargin": true,
            "type": "pie"
           }
          ],
          "scatter": [
           {
            "fillpattern": {
             "fillmode": "overlay",
             "size": 10,
             "solidity": 0.2
            },
            "type": "scatter"
           }
          ],
          "scatter3d": [
           {
            "line": {
             "colorbar": {
              "outlinewidth": 0,
              "ticks": ""
             }
            },
            "marker": {
             "colorbar": {
              "outlinewidth": 0,
              "ticks": ""
             }
            },
            "type": "scatter3d"
           }
          ],
          "scattercarpet": [
           {
            "marker": {
             "colorbar": {
              "outlinewidth": 0,
              "ticks": ""
             }
            },
            "type": "scattercarpet"
           }
          ],
          "scattergeo": [
           {
            "marker": {
             "colorbar": {
              "outlinewidth": 0,
              "ticks": ""
             }
            },
            "type": "scattergeo"
           }
          ],
          "scattergl": [
           {
            "marker": {
             "colorbar": {
              "outlinewidth": 0,
              "ticks": ""
             }
            },
            "type": "scattergl"
           }
          ],
          "scattermapbox": [
           {
            "marker": {
             "colorbar": {
              "outlinewidth": 0,
              "ticks": ""
             }
            },
            "type": "scattermapbox"
           }
          ],
          "scatterpolar": [
           {
            "marker": {
             "colorbar": {
              "outlinewidth": 0,
              "ticks": ""
             }
            },
            "type": "scatterpolar"
           }
          ],
          "scatterpolargl": [
           {
            "marker": {
             "colorbar": {
              "outlinewidth": 0,
              "ticks": ""
             }
            },
            "type": "scatterpolargl"
           }
          ],
          "scatterternary": [
           {
            "marker": {
             "colorbar": {
              "outlinewidth": 0,
              "ticks": ""
             }
            },
            "type": "scatterternary"
           }
          ],
          "surface": [
           {
            "colorbar": {
             "outlinewidth": 0,
             "ticks": ""
            },
            "colorscale": [
             [
              0,
              "#0d0887"
             ],
             [
              0.1111111111111111,
              "#46039f"
             ],
             [
              0.2222222222222222,
              "#7201a8"
             ],
             [
              0.3333333333333333,
              "#9c179e"
             ],
             [
              0.4444444444444444,
              "#bd3786"
             ],
             [
              0.5555555555555556,
              "#d8576b"
             ],
             [
              0.6666666666666666,
              "#ed7953"
             ],
             [
              0.7777777777777778,
              "#fb9f3a"
             ],
             [
              0.8888888888888888,
              "#fdca26"
             ],
             [
              1,
              "#f0f921"
             ]
            ],
            "type": "surface"
           }
          ],
          "table": [
           {
            "cells": {
             "fill": {
              "color": "#EBF0F8"
             },
             "line": {
              "color": "white"
             }
            },
            "header": {
             "fill": {
              "color": "#C8D4E3"
             },
             "line": {
              "color": "white"
             }
            },
            "type": "table"
           }
          ]
         },
         "layout": {
          "annotationdefaults": {
           "arrowcolor": "#2a3f5f",
           "arrowhead": 0,
           "arrowwidth": 1
          },
          "autotypenumbers": "strict",
          "coloraxis": {
           "colorbar": {
            "outlinewidth": 0,
            "ticks": ""
           }
          },
          "colorscale": {
           "diverging": [
            [
             0,
             "#8e0152"
            ],
            [
             0.1,
             "#c51b7d"
            ],
            [
             0.2,
             "#de77ae"
            ],
            [
             0.3,
             "#f1b6da"
            ],
            [
             0.4,
             "#fde0ef"
            ],
            [
             0.5,
             "#f7f7f7"
            ],
            [
             0.6,
             "#e6f5d0"
            ],
            [
             0.7,
             "#b8e186"
            ],
            [
             0.8,
             "#7fbc41"
            ],
            [
             0.9,
             "#4d9221"
            ],
            [
             1,
             "#276419"
            ]
           ],
           "sequential": [
            [
             0,
             "#0d0887"
            ],
            [
             0.1111111111111111,
             "#46039f"
            ],
            [
             0.2222222222222222,
             "#7201a8"
            ],
            [
             0.3333333333333333,
             "#9c179e"
            ],
            [
             0.4444444444444444,
             "#bd3786"
            ],
            [
             0.5555555555555556,
             "#d8576b"
            ],
            [
             0.6666666666666666,
             "#ed7953"
            ],
            [
             0.7777777777777778,
             "#fb9f3a"
            ],
            [
             0.8888888888888888,
             "#fdca26"
            ],
            [
             1,
             "#f0f921"
            ]
           ],
           "sequentialminus": [
            [
             0,
             "#0d0887"
            ],
            [
             0.1111111111111111,
             "#46039f"
            ],
            [
             0.2222222222222222,
             "#7201a8"
            ],
            [
             0.3333333333333333,
             "#9c179e"
            ],
            [
             0.4444444444444444,
             "#bd3786"
            ],
            [
             0.5555555555555556,
             "#d8576b"
            ],
            [
             0.6666666666666666,
             "#ed7953"
            ],
            [
             0.7777777777777778,
             "#fb9f3a"
            ],
            [
             0.8888888888888888,
             "#fdca26"
            ],
            [
             1,
             "#f0f921"
            ]
           ]
          },
          "colorway": [
           "#636efa",
           "#EF553B",
           "#00cc96",
           "#ab63fa",
           "#FFA15A",
           "#19d3f3",
           "#FF6692",
           "#B6E880",
           "#FF97FF",
           "#FECB52"
          ],
          "font": {
           "color": "#2a3f5f"
          },
          "geo": {
           "bgcolor": "white",
           "lakecolor": "white",
           "landcolor": "#E5ECF6",
           "showlakes": true,
           "showland": true,
           "subunitcolor": "white"
          },
          "hoverlabel": {
           "align": "left"
          },
          "hovermode": "closest",
          "mapbox": {
           "style": "light"
          },
          "paper_bgcolor": "white",
          "plot_bgcolor": "#E5ECF6",
          "polar": {
           "angularaxis": {
            "gridcolor": "white",
            "linecolor": "white",
            "ticks": ""
           },
           "bgcolor": "#E5ECF6",
           "radialaxis": {
            "gridcolor": "white",
            "linecolor": "white",
            "ticks": ""
           }
          },
          "scene": {
           "xaxis": {
            "backgroundcolor": "#E5ECF6",
            "gridcolor": "white",
            "gridwidth": 2,
            "linecolor": "white",
            "showbackground": true,
            "ticks": "",
            "zerolinecolor": "white"
           },
           "yaxis": {
            "backgroundcolor": "#E5ECF6",
            "gridcolor": "white",
            "gridwidth": 2,
            "linecolor": "white",
            "showbackground": true,
            "ticks": "",
            "zerolinecolor": "white"
           },
           "zaxis": {
            "backgroundcolor": "#E5ECF6",
            "gridcolor": "white",
            "gridwidth": 2,
            "linecolor": "white",
            "showbackground": true,
            "ticks": "",
            "zerolinecolor": "white"
           }
          },
          "shapedefaults": {
           "line": {
            "color": "#2a3f5f"
           }
          },
          "ternary": {
           "aaxis": {
            "gridcolor": "white",
            "linecolor": "white",
            "ticks": ""
           },
           "baxis": {
            "gridcolor": "white",
            "linecolor": "white",
            "ticks": ""
           },
           "bgcolor": "#E5ECF6",
           "caxis": {
            "gridcolor": "white",
            "linecolor": "white",
            "ticks": ""
           }
          },
          "title": {
           "x": 0.05
          },
          "xaxis": {
           "automargin": true,
           "gridcolor": "white",
           "linecolor": "white",
           "ticks": "",
           "title": {
            "standoff": 15
           },
           "zerolinecolor": "white",
           "zerolinewidth": 2
          },
          "yaxis": {
           "automargin": true,
           "gridcolor": "white",
           "linecolor": "white",
           "ticks": "",
           "title": {
            "standoff": 15
           },
           "zerolinecolor": "white",
           "zerolinewidth": 2
          }
         }
        },
        "title": {
         "text": "Dataset machine 308"
        },
        "width": 1280,
        "xaxis": {
         "anchor": "y",
         "domain": [
          0,
          1
         ],
         "matches": "x3",
         "showticklabels": false
        },
        "xaxis2": {
         "anchor": "y2",
         "domain": [
          0,
          1
         ],
         "matches": "x3",
         "showticklabels": false
        },
        "xaxis3": {
         "anchor": "y3",
         "domain": [
          0,
          1
         ]
        },
        "yaxis": {
         "anchor": "x",
         "domain": [
          0.7066666666666667,
          1
         ]
        },
        "yaxis2": {
         "anchor": "x2",
         "domain": [
          0.35333333333333333,
          0.6466666666666667
         ]
        },
        "yaxis3": {
         "anchor": "x3",
         "domain": [
          0,
          0.29333333333333333
         ]
        }
       }
      }
     },
     "metadata": {},
     "output_type": "display_data"
    },
    {
     "data": {
      "application/vnd.plotly.v1+json": {
       "config": {
        "plotlyServerURL": "https://plot.ly"
       },
       "data": [
        {
         "marker": {
          "color": "black",
          "size": 10
         },
         "mode": "markers+lines",
         "name": "Unknown Energy",
         "text": [
          2413.6,
          2413.2,
          2403.1,
          0,
          0,
          0,
          0,
          0,
          133.4,
          132,
          132.5,
          132.4,
          131.8,
          130.2,
          130.3,
          129.8,
          149.6,
          160.5,
          0.1,
          0,
          0,
          0,
          0,
          0,
          0,
          2473.8,
          2466.3,
          2459.8,
          0,
          0,
          0,
          0,
          0,
          0,
          0,
          0,
          0,
          0
         ],
         "type": "scatter",
         "x": [
          "2022-11-28T22:22:30",
          "2022-11-28T22:37:30",
          "2022-11-28T22:52:30",
          "2022-11-28T23:07:30",
          "2022-11-28T23:22:30",
          "2022-11-29T04:52:30",
          "2022-11-30T14:07:30",
          "2022-11-30T20:07:30",
          "2022-11-30T23:52:30",
          "2022-12-01T00:07:30",
          "2022-12-01T00:22:30",
          "2022-12-01T00:37:30",
          "2022-12-01T00:52:30",
          "2022-12-01T05:07:30",
          "2022-12-01T05:22:30",
          "2022-12-01T05:37:30",
          "2022-12-01T05:52:30",
          "2022-12-01T06:07:30",
          "2022-12-01T06:22:30",
          "2022-12-01T06:37:30",
          "2022-12-01T06:52:30",
          "2022-12-01T07:07:30",
          "2022-12-01T07:22:30",
          "2022-12-01T07:37:30",
          "2022-12-01T07:52:30",
          "2022-12-02T22:22:30",
          "2022-12-02T22:37:30",
          "2022-12-02T22:52:30",
          "2022-12-02T23:07:30",
          "2022-12-02T23:22:30",
          "2022-12-03T02:52:30",
          "2022-12-03T05:22:30",
          "2022-12-03T06:07:30",
          "2022-12-04T23:52:30",
          "2022-12-05T00:07:30",
          "2022-12-05T00:22:30",
          "2022-12-05T00:37:30",
          "2022-12-05T00:52:30"
         ],
         "xaxis": "x",
         "y": [
          2413.6,
          2413.2,
          2403.1,
          0,
          0,
          0,
          0,
          0,
          133.4,
          132,
          132.5,
          132.4,
          131.8,
          130.2,
          130.3,
          129.8,
          149.6,
          160.5,
          0.1,
          0,
          0,
          0,
          0,
          0,
          0,
          2473.8,
          2466.3,
          2459.8,
          0,
          0,
          0,
          0,
          0,
          0,
          0,
          0,
          0,
          0
         ],
         "yaxis": "y"
        },
        {
         "marker": {
          "color": "black",
          "size": 10
         },
         "mode": "markers+lines",
         "name": "Unknown Productions",
         "text": [
          0,
          0,
          0,
          0,
          0,
          0,
          0,
          0,
          0,
          0,
          0,
          0,
          0,
          0,
          0,
          0,
          0,
          0,
          0,
          0,
          0,
          0,
          0,
          0,
          0,
          0,
          0,
          0,
          0,
          0,
          0,
          0,
          0,
          0,
          0,
          0,
          0,
          0
         ],
         "type": "scatter",
         "x": [
          "2022-11-28T22:22:30",
          "2022-11-28T22:37:30",
          "2022-11-28T22:52:30",
          "2022-11-28T23:07:30",
          "2022-11-28T23:22:30",
          "2022-11-29T04:52:30",
          "2022-11-30T14:07:30",
          "2022-11-30T20:07:30",
          "2022-11-30T23:52:30",
          "2022-12-01T00:07:30",
          "2022-12-01T00:22:30",
          "2022-12-01T00:37:30",
          "2022-12-01T00:52:30",
          "2022-12-01T05:07:30",
          "2022-12-01T05:22:30",
          "2022-12-01T05:37:30",
          "2022-12-01T05:52:30",
          "2022-12-01T06:07:30",
          "2022-12-01T06:22:30",
          "2022-12-01T06:37:30",
          "2022-12-01T06:52:30",
          "2022-12-01T07:07:30",
          "2022-12-01T07:22:30",
          "2022-12-01T07:37:30",
          "2022-12-01T07:52:30",
          "2022-12-02T22:22:30",
          "2022-12-02T22:37:30",
          "2022-12-02T22:52:30",
          "2022-12-02T23:07:30",
          "2022-12-02T23:22:30",
          "2022-12-03T02:52:30",
          "2022-12-03T05:22:30",
          "2022-12-03T06:07:30",
          "2022-12-04T23:52:30",
          "2022-12-05T00:07:30",
          "2022-12-05T00:22:30",
          "2022-12-05T00:37:30",
          "2022-12-05T00:52:30"
         ],
         "xaxis": "x2",
         "y": [
          0,
          0,
          0,
          0,
          0,
          0,
          0,
          0,
          0,
          0,
          0,
          0,
          0,
          0,
          0,
          0,
          0,
          0,
          0,
          0,
          0,
          0,
          0,
          0,
          0,
          0,
          0,
          0,
          0,
          0,
          0,
          0,
          0,
          0,
          0,
          0,
          0,
          0
         ],
         "yaxis": "y2"
        },
        {
         "marker": {
          "color": "black",
          "size": 10
         },
         "mode": "markers",
         "name": "Unknown Stops",
         "type": "scatter",
         "x": [
          "2022-11-28T22:22:30",
          "2022-11-28T22:37:30",
          "2022-11-28T22:52:30",
          "2022-11-28T23:07:30",
          "2022-11-28T23:22:30",
          "2022-11-29T04:52:30",
          "2022-11-30T14:07:30",
          "2022-11-30T20:07:30",
          "2022-11-30T23:52:30",
          "2022-12-01T00:07:30",
          "2022-12-01T00:22:30",
          "2022-12-01T00:37:30",
          "2022-12-01T00:52:30",
          "2022-12-01T05:07:30",
          "2022-12-01T05:22:30",
          "2022-12-01T05:37:30",
          "2022-12-01T05:52:30",
          "2022-12-01T06:07:30",
          "2022-12-01T06:22:30",
          "2022-12-01T06:37:30",
          "2022-12-01T06:52:30",
          "2022-12-01T07:07:30",
          "2022-12-01T07:22:30",
          "2022-12-01T07:37:30",
          "2022-12-01T07:52:30",
          "2022-12-02T22:22:30",
          "2022-12-02T22:37:30",
          "2022-12-02T22:52:30",
          "2022-12-02T23:07:30",
          "2022-12-02T23:22:30",
          "2022-12-03T02:52:30",
          "2022-12-03T05:22:30",
          "2022-12-03T06:07:30",
          "2022-12-04T23:52:30",
          "2022-12-05T00:07:30",
          "2022-12-05T00:22:30",
          "2022-12-05T00:37:30",
          "2022-12-05T00:52:30"
         ],
         "xaxis": "x3",
         "y": [
          "Running",
          "Running",
          "Running",
          "Running",
          "Running",
          "Sostituzione utensile",
          "Sostituzione utensile",
          "Manutenzione ordinaria",
          "Running",
          "Running",
          "Running",
          "Running",
          "Running",
          "Running",
          "Running",
          "Running",
          "Running",
          "Running",
          "Manutenzione ordinaria",
          "Manutenzione ordinaria",
          "Running",
          "Running",
          "Running",
          "Running",
          "Running",
          "Running",
          "Running",
          "Running",
          "Running",
          "Running",
          "Sostituzione utensile",
          "Sostituzione utensile",
          "Manutenzione ordinaria",
          "Running",
          "Running",
          "Running",
          "Running",
          "Running"
         ],
         "yaxis": "y3"
        }
       ],
       "layout": {
        "annotations": [
         {
          "font": {
           "size": 16
          },
          "showarrow": false,
          "text": "Energy Consumption",
          "x": 0.5,
          "xanchor": "center",
          "xref": "paper",
          "y": 1,
          "yanchor": "bottom",
          "yref": "paper"
         },
         {
          "font": {
           "size": 16
          },
          "showarrow": false,
          "text": "Productions",
          "x": 0.5,
          "xanchor": "center",
          "xref": "paper",
          "y": 0.6466666666666667,
          "yanchor": "bottom",
          "yref": "paper"
         },
         {
          "font": {
           "size": 16
          },
          "showarrow": false,
          "text": "Stops",
          "x": 0.5,
          "xanchor": "center",
          "xref": "paper",
          "y": 0.29333333333333333,
          "yanchor": "bottom",
          "yref": "paper"
         }
        ],
        "height": 800,
        "template": {
         "data": {
          "bar": [
           {
            "error_x": {
             "color": "#2a3f5f"
            },
            "error_y": {
             "color": "#2a3f5f"
            },
            "marker": {
             "line": {
              "color": "#E5ECF6",
              "width": 0.5
             },
             "pattern": {
              "fillmode": "overlay",
              "size": 10,
              "solidity": 0.2
             }
            },
            "type": "bar"
           }
          ],
          "barpolar": [
           {
            "marker": {
             "line": {
              "color": "#E5ECF6",
              "width": 0.5
             },
             "pattern": {
              "fillmode": "overlay",
              "size": 10,
              "solidity": 0.2
             }
            },
            "type": "barpolar"
           }
          ],
          "carpet": [
           {
            "aaxis": {
             "endlinecolor": "#2a3f5f",
             "gridcolor": "white",
             "linecolor": "white",
             "minorgridcolor": "white",
             "startlinecolor": "#2a3f5f"
            },
            "baxis": {
             "endlinecolor": "#2a3f5f",
             "gridcolor": "white",
             "linecolor": "white",
             "minorgridcolor": "white",
             "startlinecolor": "#2a3f5f"
            },
            "type": "carpet"
           }
          ],
          "choropleth": [
           {
            "colorbar": {
             "outlinewidth": 0,
             "ticks": ""
            },
            "type": "choropleth"
           }
          ],
          "contour": [
           {
            "colorbar": {
             "outlinewidth": 0,
             "ticks": ""
            },
            "colorscale": [
             [
              0,
              "#0d0887"
             ],
             [
              0.1111111111111111,
              "#46039f"
             ],
             [
              0.2222222222222222,
              "#7201a8"
             ],
             [
              0.3333333333333333,
              "#9c179e"
             ],
             [
              0.4444444444444444,
              "#bd3786"
             ],
             [
              0.5555555555555556,
              "#d8576b"
             ],
             [
              0.6666666666666666,
              "#ed7953"
             ],
             [
              0.7777777777777778,
              "#fb9f3a"
             ],
             [
              0.8888888888888888,
              "#fdca26"
             ],
             [
              1,
              "#f0f921"
             ]
            ],
            "type": "contour"
           }
          ],
          "contourcarpet": [
           {
            "colorbar": {
             "outlinewidth": 0,
             "ticks": ""
            },
            "type": "contourcarpet"
           }
          ],
          "heatmap": [
           {
            "colorbar": {
             "outlinewidth": 0,
             "ticks": ""
            },
            "colorscale": [
             [
              0,
              "#0d0887"
             ],
             [
              0.1111111111111111,
              "#46039f"
             ],
             [
              0.2222222222222222,
              "#7201a8"
             ],
             [
              0.3333333333333333,
              "#9c179e"
             ],
             [
              0.4444444444444444,
              "#bd3786"
             ],
             [
              0.5555555555555556,
              "#d8576b"
             ],
             [
              0.6666666666666666,
              "#ed7953"
             ],
             [
              0.7777777777777778,
              "#fb9f3a"
             ],
             [
              0.8888888888888888,
              "#fdca26"
             ],
             [
              1,
              "#f0f921"
             ]
            ],
            "type": "heatmap"
           }
          ],
          "heatmapgl": [
           {
            "colorbar": {
             "outlinewidth": 0,
             "ticks": ""
            },
            "colorscale": [
             [
              0,
              "#0d0887"
             ],
             [
              0.1111111111111111,
              "#46039f"
             ],
             [
              0.2222222222222222,
              "#7201a8"
             ],
             [
              0.3333333333333333,
              "#9c179e"
             ],
             [
              0.4444444444444444,
              "#bd3786"
             ],
             [
              0.5555555555555556,
              "#d8576b"
             ],
             [
              0.6666666666666666,
              "#ed7953"
             ],
             [
              0.7777777777777778,
              "#fb9f3a"
             ],
             [
              0.8888888888888888,
              "#fdca26"
             ],
             [
              1,
              "#f0f921"
             ]
            ],
            "type": "heatmapgl"
           }
          ],
          "histogram": [
           {
            "marker": {
             "pattern": {
              "fillmode": "overlay",
              "size": 10,
              "solidity": 0.2
             }
            },
            "type": "histogram"
           }
          ],
          "histogram2d": [
           {
            "colorbar": {
             "outlinewidth": 0,
             "ticks": ""
            },
            "colorscale": [
             [
              0,
              "#0d0887"
             ],
             [
              0.1111111111111111,
              "#46039f"
             ],
             [
              0.2222222222222222,
              "#7201a8"
             ],
             [
              0.3333333333333333,
              "#9c179e"
             ],
             [
              0.4444444444444444,
              "#bd3786"
             ],
             [
              0.5555555555555556,
              "#d8576b"
             ],
             [
              0.6666666666666666,
              "#ed7953"
             ],
             [
              0.7777777777777778,
              "#fb9f3a"
             ],
             [
              0.8888888888888888,
              "#fdca26"
             ],
             [
              1,
              "#f0f921"
             ]
            ],
            "type": "histogram2d"
           }
          ],
          "histogram2dcontour": [
           {
            "colorbar": {
             "outlinewidth": 0,
             "ticks": ""
            },
            "colorscale": [
             [
              0,
              "#0d0887"
             ],
             [
              0.1111111111111111,
              "#46039f"
             ],
             [
              0.2222222222222222,
              "#7201a8"
             ],
             [
              0.3333333333333333,
              "#9c179e"
             ],
             [
              0.4444444444444444,
              "#bd3786"
             ],
             [
              0.5555555555555556,
              "#d8576b"
             ],
             [
              0.6666666666666666,
              "#ed7953"
             ],
             [
              0.7777777777777778,
              "#fb9f3a"
             ],
             [
              0.8888888888888888,
              "#fdca26"
             ],
             [
              1,
              "#f0f921"
             ]
            ],
            "type": "histogram2dcontour"
           }
          ],
          "mesh3d": [
           {
            "colorbar": {
             "outlinewidth": 0,
             "ticks": ""
            },
            "type": "mesh3d"
           }
          ],
          "parcoords": [
           {
            "line": {
             "colorbar": {
              "outlinewidth": 0,
              "ticks": ""
             }
            },
            "type": "parcoords"
           }
          ],
          "pie": [
           {
            "automargin": true,
            "type": "pie"
           }
          ],
          "scatter": [
           {
            "fillpattern": {
             "fillmode": "overlay",
             "size": 10,
             "solidity": 0.2
            },
            "type": "scatter"
           }
          ],
          "scatter3d": [
           {
            "line": {
             "colorbar": {
              "outlinewidth": 0,
              "ticks": ""
             }
            },
            "marker": {
             "colorbar": {
              "outlinewidth": 0,
              "ticks": ""
             }
            },
            "type": "scatter3d"
           }
          ],
          "scattercarpet": [
           {
            "marker": {
             "colorbar": {
              "outlinewidth": 0,
              "ticks": ""
             }
            },
            "type": "scattercarpet"
           }
          ],
          "scattergeo": [
           {
            "marker": {
             "colorbar": {
              "outlinewidth": 0,
              "ticks": ""
             }
            },
            "type": "scattergeo"
           }
          ],
          "scattergl": [
           {
            "marker": {
             "colorbar": {
              "outlinewidth": 0,
              "ticks": ""
             }
            },
            "type": "scattergl"
           }
          ],
          "scattermapbox": [
           {
            "marker": {
             "colorbar": {
              "outlinewidth": 0,
              "ticks": ""
             }
            },
            "type": "scattermapbox"
           }
          ],
          "scatterpolar": [
           {
            "marker": {
             "colorbar": {
              "outlinewidth": 0,
              "ticks": ""
             }
            },
            "type": "scatterpolar"
           }
          ],
          "scatterpolargl": [
           {
            "marker": {
             "colorbar": {
              "outlinewidth": 0,
              "ticks": ""
             }
            },
            "type": "scatterpolargl"
           }
          ],
          "scatterternary": [
           {
            "marker": {
             "colorbar": {
              "outlinewidth": 0,
              "ticks": ""
             }
            },
            "type": "scatterternary"
           }
          ],
          "surface": [
           {
            "colorbar": {
             "outlinewidth": 0,
             "ticks": ""
            },
            "colorscale": [
             [
              0,
              "#0d0887"
             ],
             [
              0.1111111111111111,
              "#46039f"
             ],
             [
              0.2222222222222222,
              "#7201a8"
             ],
             [
              0.3333333333333333,
              "#9c179e"
             ],
             [
              0.4444444444444444,
              "#bd3786"
             ],
             [
              0.5555555555555556,
              "#d8576b"
             ],
             [
              0.6666666666666666,
              "#ed7953"
             ],
             [
              0.7777777777777778,
              "#fb9f3a"
             ],
             [
              0.8888888888888888,
              "#fdca26"
             ],
             [
              1,
              "#f0f921"
             ]
            ],
            "type": "surface"
           }
          ],
          "table": [
           {
            "cells": {
             "fill": {
              "color": "#EBF0F8"
             },
             "line": {
              "color": "white"
             }
            },
            "header": {
             "fill": {
              "color": "#C8D4E3"
             },
             "line": {
              "color": "white"
             }
            },
            "type": "table"
           }
          ]
         },
         "layout": {
          "annotationdefaults": {
           "arrowcolor": "#2a3f5f",
           "arrowhead": 0,
           "arrowwidth": 1
          },
          "autotypenumbers": "strict",
          "coloraxis": {
           "colorbar": {
            "outlinewidth": 0,
            "ticks": ""
           }
          },
          "colorscale": {
           "diverging": [
            [
             0,
             "#8e0152"
            ],
            [
             0.1,
             "#c51b7d"
            ],
            [
             0.2,
             "#de77ae"
            ],
            [
             0.3,
             "#f1b6da"
            ],
            [
             0.4,
             "#fde0ef"
            ],
            [
             0.5,
             "#f7f7f7"
            ],
            [
             0.6,
             "#e6f5d0"
            ],
            [
             0.7,
             "#b8e186"
            ],
            [
             0.8,
             "#7fbc41"
            ],
            [
             0.9,
             "#4d9221"
            ],
            [
             1,
             "#276419"
            ]
           ],
           "sequential": [
            [
             0,
             "#0d0887"
            ],
            [
             0.1111111111111111,
             "#46039f"
            ],
            [
             0.2222222222222222,
             "#7201a8"
            ],
            [
             0.3333333333333333,
             "#9c179e"
            ],
            [
             0.4444444444444444,
             "#bd3786"
            ],
            [
             0.5555555555555556,
             "#d8576b"
            ],
            [
             0.6666666666666666,
             "#ed7953"
            ],
            [
             0.7777777777777778,
             "#fb9f3a"
            ],
            [
             0.8888888888888888,
             "#fdca26"
            ],
            [
             1,
             "#f0f921"
            ]
           ],
           "sequentialminus": [
            [
             0,
             "#0d0887"
            ],
            [
             0.1111111111111111,
             "#46039f"
            ],
            [
             0.2222222222222222,
             "#7201a8"
            ],
            [
             0.3333333333333333,
             "#9c179e"
            ],
            [
             0.4444444444444444,
             "#bd3786"
            ],
            [
             0.5555555555555556,
             "#d8576b"
            ],
            [
             0.6666666666666666,
             "#ed7953"
            ],
            [
             0.7777777777777778,
             "#fb9f3a"
            ],
            [
             0.8888888888888888,
             "#fdca26"
            ],
            [
             1,
             "#f0f921"
            ]
           ]
          },
          "colorway": [
           "#636efa",
           "#EF553B",
           "#00cc96",
           "#ab63fa",
           "#FFA15A",
           "#19d3f3",
           "#FF6692",
           "#B6E880",
           "#FF97FF",
           "#FECB52"
          ],
          "font": {
           "color": "#2a3f5f"
          },
          "geo": {
           "bgcolor": "white",
           "lakecolor": "white",
           "landcolor": "#E5ECF6",
           "showlakes": true,
           "showland": true,
           "subunitcolor": "white"
          },
          "hoverlabel": {
           "align": "left"
          },
          "hovermode": "closest",
          "mapbox": {
           "style": "light"
          },
          "paper_bgcolor": "white",
          "plot_bgcolor": "#E5ECF6",
          "polar": {
           "angularaxis": {
            "gridcolor": "white",
            "linecolor": "white",
            "ticks": ""
           },
           "bgcolor": "#E5ECF6",
           "radialaxis": {
            "gridcolor": "white",
            "linecolor": "white",
            "ticks": ""
           }
          },
          "scene": {
           "xaxis": {
            "backgroundcolor": "#E5ECF6",
            "gridcolor": "white",
            "gridwidth": 2,
            "linecolor": "white",
            "showbackground": true,
            "ticks": "",
            "zerolinecolor": "white"
           },
           "yaxis": {
            "backgroundcolor": "#E5ECF6",
            "gridcolor": "white",
            "gridwidth": 2,
            "linecolor": "white",
            "showbackground": true,
            "ticks": "",
            "zerolinecolor": "white"
           },
           "zaxis": {
            "backgroundcolor": "#E5ECF6",
            "gridcolor": "white",
            "gridwidth": 2,
            "linecolor": "white",
            "showbackground": true,
            "ticks": "",
            "zerolinecolor": "white"
           }
          },
          "shapedefaults": {
           "line": {
            "color": "#2a3f5f"
           }
          },
          "ternary": {
           "aaxis": {
            "gridcolor": "white",
            "linecolor": "white",
            "ticks": ""
           },
           "baxis": {
            "gridcolor": "white",
            "linecolor": "white",
            "ticks": ""
           },
           "bgcolor": "#E5ECF6",
           "caxis": {
            "gridcolor": "white",
            "linecolor": "white",
            "ticks": ""
           }
          },
          "title": {
           "x": 0.05
          },
          "xaxis": {
           "automargin": true,
           "gridcolor": "white",
           "linecolor": "white",
           "ticks": "",
           "title": {
            "standoff": 15
           },
           "zerolinecolor": "white",
           "zerolinewidth": 2
          },
          "yaxis": {
           "automargin": true,
           "gridcolor": "white",
           "linecolor": "white",
           "ticks": "",
           "title": {
            "standoff": 15
           },
           "zerolinecolor": "white",
           "zerolinewidth": 2
          }
         }
        },
        "title": {
         "text": "Dataset machine 309"
        },
        "width": 1280,
        "xaxis": {
         "anchor": "y",
         "domain": [
          0,
          1
         ],
         "matches": "x3",
         "showticklabels": false
        },
        "xaxis2": {
         "anchor": "y2",
         "domain": [
          0,
          1
         ],
         "matches": "x3",
         "showticklabels": false
        },
        "xaxis3": {
         "anchor": "y3",
         "domain": [
          0,
          1
         ]
        },
        "yaxis": {
         "anchor": "x",
         "domain": [
          0.7066666666666667,
          1
         ]
        },
        "yaxis2": {
         "anchor": "x2",
         "domain": [
          0.35333333333333333,
          0.6466666666666667
         ]
        },
        "yaxis3": {
         "anchor": "x3",
         "domain": [
          0,
          0.29333333333333333
         ]
        }
       }
      }
     },
     "metadata": {},
     "output_type": "display_data"
    }
   ],
   "source": [
    "# Plot the data\n",
    "import os\n",
    "from scripts.plots import plot, correlation_plot\n",
    "from scripts.getSingleDataset.utils import getCleanDataset\n",
    "from scripts.getSingleDataset.utils import takeRange\n",
    "\n",
    "\n",
    "for file in os.listdir(\"dataset/results/it2\"):\n",
    "    df = getCleanDataset(f\"dataset/results/it2/{file}\")\n",
    "    machineId = int(file.replace(\".csv\", \"\").split(\"-\")[1])\n",
    "\n",
    "    df = takeRange(df, 5)\n",
    "    plot(df, machineId)\n",
    "    # correlation_plot(df, machineId)\n",
    "\n",
    "    # if \"x\" == input(\"Press Enter to continue, x to close...\"):\n",
    "    #     break"
   ]
  },
  {
   "cell_type": "markdown",
   "metadata": {},
   "source": [
    "Now we will use a Machine learning model to predict when a machine will stop"
   ]
  },
  {
   "cell_type": "code",
   "execution_count": 15,
   "metadata": {},
   "outputs": [
    {
     "name": "stdout",
     "output_type": "stream",
     "text": [
      "Machine 304\n",
      "\tTotal rows: 25110\n",
      "\tError: Data is not correctly distributed test have only 'Running'\n",
      "Machine 310\n",
      "\tTotal rows: 25676\n",
      "\tError: Data is not correctly distributed test have only 'Running'\n",
      "Machine 305\n",
      "\tTotal rows: 15528\n",
      "\tError: Data is not correctly distributed test have only 'Running'\n",
      "Machine 515\n",
      "\tTotal rows: 24010\n",
      "\tError: Data is not correctly distributed test have only 'Running'\n",
      "Machine 313\n",
      "\tTotal rows: 25579\n",
      "\tError: Data is not correctly distributed test have only 'Running'\n",
      "Machine 307\n",
      "\tTotal rows: 25537\n",
      "\tError: Data is not correctly distributed test have only 'Running'\n",
      "Machine 110\n",
      "\tTotal rows: 20015\n",
      "\tError: Data is not correctly distributed test have only 'Running'\n",
      "Machine 306\n",
      "\tTotal rows: 25527\n",
      "\tError: Data is not correctly distributed test have only 'Running'\n",
      "Machine 302\n",
      "\tTotal rows: 25490\n",
      "\tError: Data is not correctly distributed test have only 'Running'\n",
      "Machine 303\n",
      "\tTotal rows: 25523\n",
      "\tError: Data is not correctly distributed test have only 'Running'\n",
      "Machine 301\n",
      "\tTotal rows: 25513\n",
      "\tError: Data is not correctly distributed test have only 'Running'\n",
      "Machine 315\n",
      "\tTotal rows: 25550\n",
      "\tError: Data is not correctly distributed test have only 'Running'\n",
      "Machine 314\n",
      "\tTotal rows: 25594\n",
      "\tError: Data is not correctly distributed test have only 'Running'\n",
      "Machine 614\n",
      "\tTotal rows: 25573\n",
      "\tError: Data is not correctly distributed test have only 'Running'\n",
      "Machine 611\n",
      "\tTotal rows: 25532\n",
      "\tError: Data is not correctly distributed test have only 'Running'\n",
      "Machine 610\n",
      "\tTotal rows: 25031\n",
      "\tError: Data is not correctly distributed train have only 'Running'\n",
      "Machine 612\n",
      "\tTotal rows: 25582\n",
      "\tError: Data is not correctly distributed test have only 'Running'\n",
      "Machine 618\n",
      "\tTotal rows: 25705\n",
      "\tError: Data is not correctly distributed test have only 'Running'\n",
      "Machine 319\n",
      "\tTotal rows: 25559\n",
      "\tError: Data is not correctly distributed test have only 'Running'\n",
      "Machine 108\n",
      "\tTotal rows: 19984\n",
      "\tError: Data is not correctly distributed test have only 'Running'\n",
      "Machine 308\n",
      "\tTotal rows: 18803\n",
      "\tError: Data is not correctly distributed test have only 'Running'\n",
      "Machine 309\n",
      "\tTotal rows: 25613\n",
      "\tError: Data is not correctly distributed test have only 'Running'\n",
      "No usable dataset found\n",
      "--- Complete model ---\n",
      "\tTotal rows: 534188\n",
      "\tTraining rows: 320512\n",
      "\tPrediction errors 0%\n",
      "---------\n",
      "Error: 0%\n"
     ]
    }
   ],
   "source": [
    "# Classic ML analysis\n",
    "\n",
    "import os\n",
    "import pandas as pd\n",
    "from sklearn.ensemble import HistGradientBoostingClassifier\n",
    "pd.set_option(\"display.max_rows\", None)\n",
    "\n",
    "SHIFT_VALUE = 2\n",
    "BASE_COLUMNS_TO_SHIFT = {\n",
    "    \"Productions\": \"Productions_prev\",\n",
    "    \"EnergyConsumption\": \"EnergyConsumption_prev\"\n",
    "}\n",
    "\n",
    "shift_columns = [\n",
    "    f\"{c}_{s}\"\n",
    "    for c in BASE_COLUMNS_TO_SHIFT.values()\n",
    "    for s in range(1, SHIFT_VALUE + 1)\n",
    "]\n",
    "\n",
    "COLUMNS = [\n",
    "    \"MachineId\",\n",
    "    \"Productions\",\n",
    "    \"EnergyConsumption\",\n",
    "    \"COD_ART_HASH\",\n",
    "    \"Material_HASH\",\n",
    "] + shift_columns\n",
    "\n",
    "\n",
    "train_data = pd.DataFrame()\n",
    "for file in os.listdir(\"dataset/results/it2\"):\n",
    "    data = pd.read_csv(f\"dataset/results/it2/{file}\")\n",
    "\n",
    "    data.sort_values(by=\"START_DATE\", inplace=True)\n",
    "\n",
    "    data[\"Material_HASH\"] = data[\"Material\"].apply(hash)\n",
    "\n",
    "    data[\"COD_ART_HASH\"] = data[\"COD_ART\"].apply(hash)\n",
    "\n",
    "    data[\"MachineId\"] = int(file.replace(\".csv\", \"\").split(\"-\")[1])\n",
    "\n",
    "    data.dropna()\n",
    "\n",
    "    previous_size = data.shape[0]\n",
    "\n",
    "    for s in range(1, SHIFT_VALUE + 1):\n",
    "        for c in BASE_COLUMNS_TO_SHIFT.keys():\n",
    "            data[f\"{BASE_COLUMNS_TO_SHIFT[c]}_{s}\"] = data[c].shift(s)\n",
    "\n",
    "    assert previous_size == data.shape[0]\n",
    "\n",
    "    train_data = pd.concat([train_data, data])\n",
    "\n",
    "\n",
    "# train_data[:10000].to_csv(\"dataset/results/complete.csv\", mode=\"w\", index=False)\n",
    "# print(train_data.columns)\n",
    "\n",
    "def calculateModel(dataset: pd.DataFrame, model: HistGradientBoostingClassifier):\n",
    "    print(\"\\tTotal rows:\", dataset.shape[0])\n",
    "    dataset[\"Stop_index\"] = dataset[\"Stop\"].apply(lambda x: 1 if x == \"Running\" else 0)\n",
    "\n",
    "    rows = int(dataset.shape[0] * 0.6)\n",
    "    train_d = dataset[:rows]\n",
    "    test_d = dataset[rows:]\n",
    "\n",
    "    if train_d[\"Stop\"].value_counts()[\"Running\"] == train_d.shape[0]:\n",
    "        raise Exception(\"Data is not correctly distributed train have only 'Running'\")\n",
    "    if test_d[\"Stop\"].value_counts()[\"Running\"] == test_d.shape[0]:\n",
    "        raise Exception(\"Data is not correctly distributed test have only 'Running'\")\n",
    "\n",
    "    if train_d.shape[0] == 0 or test_d.shape[0] == 0:\n",
    "        raise Exception(\n",
    "            f\"\\tNot enough data, dataset: {dataset.shape[0]},  train: {train_d.shape[0]}, test: {test_d.shape[0]}\"\n",
    "        )\n",
    "\n",
    "    print(\"\\tTraining rows:\", train_d.shape[0])\n",
    "\n",
    "    model.fit(train_d[COLUMNS], train_d[\"Stop_index\"])\n",
    "\n",
    "    # Valutare il modello utilizzando i dati di test\n",
    "    prediction = model.predict(test_d[COLUMNS])\n",
    "\n",
    "    df = pd.DataFrame(\n",
    "        {\n",
    "            \"Prediction\": prediction,\n",
    "            \"Real\": test_d[\"Stop\"],\n",
    "            \"Correct\": prediction == test_d[\"Stop_index\"],\n",
    "        }\n",
    "    )\n",
    "\n",
    "    assert df.shape[0] == test_d.shape[0]\n",
    "\n",
    "    if df.shape[0] == 0:\n",
    "        raise Exception(\"Dataset is not usable\")\n",
    "\n",
    "    # this is only useful to remove the \"Running\" values from the calculations of the percentile\n",
    "    # print(df.drop_duplicates())\n",
    "    # print(df[df[\"Real\"] != \"Running\"])\n",
    "    df = df[df[\"Real\"] != \"Running\"]\n",
    "\n",
    "    if df.shape[0] == 0:\n",
    "        raise Exception(\"No data to calculate\")\n",
    "\n",
    "    res = df[\"Real\"].value_counts()\n",
    "\n",
    "    errors = res[False] if False in res else 0\n",
    "    percentile = int(errors / df.shape[0] * 100)\n",
    "\n",
    "    print(f\"\\tPrediction errors {percentile}%\")\n",
    "    if percentile == 0:\n",
    "        print(\"---------\")\n",
    "        print(errors)#, df.shape[0])\n",
    "\n",
    "        print(df[df[\"Correct\"] == True].count())\n",
    "        print(res)\n",
    "\n",
    "    return percentile\n",
    "\n",
    "model = HistGradientBoostingClassifier()\n",
    "\n",
    "average = 0\n",
    "usables = 0\n",
    "for machine_id in train_data[\"MachineId\"].unique():\n",
    "    print(\"Machine\", machine_id)\n",
    "\n",
    "    dataset = train_data[train_data[\"MachineId\"] == machine_id]\n",
    "\n",
    "    try:\n",
    "        dataset = dataset.dropna()\n",
    "        average += calculateModel(dataset, model)\n",
    "        usables += 1\n",
    "    except Exception as e:\n",
    "        print(\"\\tError:\", e)\n",
    "if usables == 0:\n",
    "    print(\"No usable dataset found\")\n",
    "else:\n",
    "    average = average / usables\n",
    "    print(f\"Avg Error: {average:.2f}%\")\n",
    "\n",
    "print(\"--- Complete model ---\")\n",
    "print(f\"Error: {calculateModel(train_data, model)}%\")"
   ]
  },
  {
   "cell_type": "markdown",
   "metadata": {},
   "source": [
    "Now I will use PySpark to implement MlLib and train a model to predict when a machine will stop"
   ]
  },
  {
   "cell_type": "code",
   "execution_count": 1,
   "metadata": {},
   "outputs": [
    {
     "name": "stderr",
     "output_type": "stream",
     "text": [
      "24/03/20 14:19:05 WARN Utils: Your hostname, MacBook-Pro.local resolves to a loopback address: 127.0.0.1; using 10.0.25.147 instead (on interface en0)\n",
      "24/03/20 14:19:05 WARN Utils: Set SPARK_LOCAL_IP if you need to bind to another address\n",
      "Setting default log level to \"WARN\".\n",
      "To adjust logging level use sc.setLogLevel(newLevel). For SparkR, use setLogLevel(newLevel).\n",
      "24/03/20 14:19:05 WARN NativeCodeLoader: Unable to load native-hadoop library for your platform... using builtin-java classes where applicable\n"
     ]
    },
    {
     "name": "stdout",
     "output_type": "stream",
     "text": [
      "Machine 304\n"
     ]
    },
    {
     "name": "stderr",
     "output_type": "stream",
     "text": [
      "                                                                                \r"
     ]
    },
    {
     "name": "stdout",
     "output_type": "stream",
     "text": [
      "\tTotal rows: 25112\n",
      "\tPrediction errors 0.0399%\n",
      "Machine 310\n",
      "\tTotal rows: 25678\n",
      "\tPrediction errors 0.0389%\n",
      "Machine 305\n",
      "\tTotal rows: 15530\n",
      "\tPrediction errors 0.0958%\n",
      "Machine 515\n",
      "\tTotal rows: 25542\n",
      "\tPrediction errors 0.0197%\n",
      "Machine 313\n",
      "\tTotal rows: 25581\n",
      "\tPrediction errors 0.0000%\n",
      "Machine 307\n",
      "\tTotal rows: 25539\n",
      "\tPrediction errors 0.0586%\n",
      "Machine 110\n",
      "\tTotal rows: 20017\n",
      "\tPrediction errors 0.0993%\n",
      "Machine 306\n",
      "\tTotal rows: 25529\n",
      "\tPrediction errors 0.0201%\n",
      "Machine 302\n",
      "\tTotal rows: 25492\n",
      "\tPrediction errors 0.0000%\n",
      "Machine 303\n",
      "\tTotal rows: 25525\n",
      "\tPrediction errors 0.0586%\n",
      "Machine 301\n",
      "\tTotal rows: 25515\n",
      "\tPrediction errors 0.0196%\n",
      "Machine 315\n",
      "\tTotal rows: 25552\n",
      "\tPrediction errors 0.0390%\n",
      "Machine 314\n",
      "\tTotal rows: 25596\n",
      "\tPrediction errors 0.0193%\n",
      "Machine 614\n",
      "\tTotal rows: 25575\n",
      "\tPrediction errors 0.1171%\n",
      "Machine 611\n",
      "\tTotal rows: 25534\n",
      "\tPrediction errors 0.0984%\n",
      "Machine 610\n",
      "\tTotal rows: 25613\n",
      "\tPrediction errors 0.0000%\n",
      "Machine 612\n",
      "\tTotal rows: 25584\n",
      "\tPrediction errors 0.0398%\n",
      "Machine 618\n",
      "\tTotal rows: 25707\n",
      "\tPrediction errors 0.1126%\n",
      "Machine 319\n",
      "\tTotal rows: 25561\n",
      "\tPrediction errors 0.0772%\n",
      "Machine 108\n",
      "\tTotal rows: 19986\n",
      "\tPrediction errors 0.1255%\n",
      "Machine 308\n",
      "\tTotal rows: 18805\n",
      "\tPrediction errors 0.0000%\n",
      "Machine 309\n",
      "\tTotal rows: 25615\n",
      "\tPrediction errors 0.0396%\n",
      "Avg Error: 0.05%\n"
     ]
    }
   ],
   "source": [
    "# Big Data ML analysis\n",
    "import os\n",
    "import pandas as pd\n",
    "\n",
    "from pyspark.ml import Pipeline\n",
    "from pyspark.ml.classification import GBTClassifier\n",
    "from pyspark.ml.feature import StringIndexer, VectorIndexer, VectorAssembler\n",
    "from pyspark.ml.evaluation import MulticlassClassificationEvaluator\n",
    "from pyspark.sql import SparkSession, DataFrame\n",
    "from pyspark.sql.functions import when, isnan, isnull\n",
    "\n",
    "pd.set_option(\"display.max_rows\", None)\n",
    "\n",
    "spark = SparkSession.builder.getOrCreate()\n",
    "\n",
    "sc = spark.sparkContext\n",
    "sc.setLogLevel(\"ERROR\")\n",
    "\n",
    "\n",
    "SHIFT_VALUE = 4\n",
    "BASE_COLUMNS_TO_SHIFT = {\n",
    "    \"Productions\": \"Productions_prev\",\n",
    "    \"EnergyConsumption\": \"EnergyConsumption_prev\",\n",
    "    \"Material_HASH\": \"Material_Previous\",\n",
    "    \"COD_ART_HASH\": \"COD_ART_Previous\",\n",
    "}\n",
    "\n",
    "shift_columns = [\n",
    "    f\"{c}_{s}\"\n",
    "    for c in BASE_COLUMNS_TO_SHIFT.values()\n",
    "    for s in range(1, SHIFT_VALUE + 1)\n",
    "]\n",
    "\n",
    "COLUMNS = [\n",
    "    \"MachineId\",\n",
    "    \"Productions\",\n",
    "    \"EnergyConsumption\",\n",
    "    \"COD_ART_HASH\",\n",
    "    \"Material_HASH\",\n",
    "] + shift_columns\n",
    "\n",
    "train_data = pd.DataFrame()\n",
    "for file in os.listdir(\"dataset/results/it2\"):\n",
    "    data = pd.read_csv(f\"dataset/results/it2/{file}\")\n",
    "\n",
    "    data.sort_values(by=\"START_DATE\", inplace=True)\n",
    "\n",
    "    data[\"Material_HASH\"] = data[\"Material\"].apply(hash)\n",
    "\n",
    "    data[\"COD_ART_HASH\"] = data[\"COD_ART\"].apply(hash)\n",
    "\n",
    "    data[\"Stop_index\"] = data[\"Stop\"].apply(lambda x: 1 if x == \"Running\" else 0)\n",
    "\n",
    "    data[\"MachineId\"] = int(file.replace(\".csv\", \"\").split(\"-\")[1])\n",
    "\n",
    "    data.dropna()\n",
    "\n",
    "    previous_size = data.shape[0]\n",
    "\n",
    "    for s in range(1, SHIFT_VALUE + 1):\n",
    "        for c in BASE_COLUMNS_TO_SHIFT.keys():\n",
    "            data[f\"{BASE_COLUMNS_TO_SHIFT[c]}_{s}\"] = data[c].shift(s)\n",
    "\n",
    "    assert previous_size == data.shape[0]\n",
    "\n",
    "    train_data = pd.concat([train_data, data])\n",
    "\n",
    "train_data.to_csv(\"dataset/results/complete.csv\", mode=\"w\", index=False)\n",
    "\n",
    "assembler = VectorAssembler(inputCols=COLUMNS,outputCol=\"features\", handleInvalid=\"keep\")\n",
    "labelIndexer = StringIndexer(\n",
    "    inputCol=\"Stop_index\", outputCol=\"indexedLabel\", handleInvalid=\"keep\"\n",
    ")\n",
    "featureIndexer = VectorIndexer(inputCol=\"features\", outputCol=\"indexedFeatures\", maxCategories=4, handleInvalid=\"keep\")\n",
    "gbt = GBTClassifier(labelCol=\"indexedLabel\",featuresCol=\"indexedFeatures\",maxIter=10)\n",
    "evaluator = MulticlassClassificationEvaluator(\n",
    "    labelCol=\"indexedLabel\", predictionCol=\"prediction\", metricName=\"accuracy\"\n",
    ")\n",
    "\n",
    "# MlLib\n",
    "def calculateModel(dataset: pd.DataFrame):\n",
    "    dataset = spark.createDataFrame(dataset)\n",
    "\n",
    "    print(\"\\tTotal rows:\", dataset.count())\n",
    "\n",
    "    for col in dataset.columns:\n",
    "        dataset = dataset.withColumn(\n",
    "            col, when(isnan(dataset[col]), 0).otherwise(dataset[col])\n",
    "        )\n",
    "\n",
    "    dataset = assembler.transform(dataset)\n",
    "    dataset = dataset.na.fill(0)\n",
    "\n",
    "    train_d, test_d = dataset.randomSplit([0.8, 0.2])\n",
    "\n",
    "    if train_d.count() == 0 or test_d.count() == 0:\n",
    "        raise Exception(\n",
    "            \"Not enough data\", dataset.count(), train_d.count(), test_d.count()\n",
    "        )\n",
    "\n",
    "    pipeline = Pipeline(\n",
    "        stages=[labelIndexer.fit(train_d), featureIndexer.fit(train_d), gbt],\n",
    "    )\n",
    "\n",
    "    model = pipeline.fit(train_d)\n",
    "\n",
    "    prediction = model.transform(test_d)\n",
    "\n",
    "    accuracy = evaluator.evaluate(prediction)\n",
    "\n",
    "    percentile = (1-accuracy) * 100\n",
    "    print(f\"\\tPrediction errors {percentile:.4f}%\")\n",
    "\n",
    "    return percentile\n",
    "\n",
    "average = 0\n",
    "usables = 0\n",
    "for machine_id in train_data[\"MachineId\"].unique():\n",
    "    print(\"Machine\", machine_id)\n",
    "\n",
    "    dataset = train_data[train_data[\"MachineId\"] == machine_id]\n",
    "\n",
    "    try:\n",
    "        average += calculateModel(dataset)\n",
    "        usables += 1\n",
    "    except Exception as e:\n",
    "        print(\"\\t\", e)\n",
    "\n",
    "if usables == 0:\n",
    "    print(\"No usable data\")\n",
    "else:\n",
    "    average = average / usables\n",
    "    print(f\"Avg Error: {average:.2f}%\")\n",
    "\n",
    "# print(f\"Complete model\\n\\tError: {calculateModel(train_data)}%\")\n",
    "    "
   ]
  }
 ],
 "metadata": {
  "kernelspec": {
   "display_name": "Python 3",
   "language": "python",
   "name": "python3"
  },
  "language_info": {
   "codemirror_mode": {
    "name": "ipython",
    "version": 3
   },
   "file_extension": ".py",
   "mimetype": "text/x-python",
   "name": "python",
   "nbconvert_exporter": "python",
   "pygments_lexer": "ipython3",
   "version": "3.11.6"
  }
 },
 "nbformat": 4,
 "nbformat_minor": 2
}
