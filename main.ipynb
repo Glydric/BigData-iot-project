{
 "cells": [
  {
   "cell_type": "markdown",
   "metadata": {},
   "source": [
    "The project is about merging 3 dataset Energy, Productions, and Fermate"
   ]
  },
  {
   "cell_type": "code",
   "execution_count": null,
   "metadata": {},
   "outputs": [],
   "source": [
    "from scripts.getDataset import getEntireDataset\n",
    "from scripts.plots import plot\n",
    "import pandas as pd\n",
    "\n",
    "pd.set_option(\"display.max_rows\", None)\n",
    "pd.options.mode.copy_on_write = False\n",
    "\n",
    "dataset = getEntireDataset(306, 2023, 1)\n",
    "\n",
    "plot(dataset)"
   ]
  },
  {
   "cell_type": "markdown",
   "metadata": {},
   "source": [
    "Now I iterate for every machine to get the data from the 3 datasets and merge them into one dataset, removing the ones that are not useful for the analysis."
   ]
  },
  {
   "cell_type": "markdown",
   "metadata": {},
   "source": [
    "Now we can check for all the dataset and see what we can do with them"
   ]
  },
  {
   "cell_type": "code",
   "execution_count": 3,
   "metadata": {},
   "outputs": [
    {
     "name": "stderr",
     "output_type": "stream",
     "text": [
      "Exception ignored in: <bound method IPythonKernel._clean_thread_parent_frames of <ipykernel.ipkernel.IPythonKernel object at 0x107e7c5d0>>\n",
      "Traceback (most recent call last):\n",
      "  File \"/Users/leonardomigliorelli/.pyenv/versions/3.11.6/lib/python3.11/site-packages/ipykernel/ipkernel.py\", line 770, in _clean_thread_parent_frames\n",
      "    def _clean_thread_parent_frames(\n",
      "\n",
      "KeyboardInterrupt: \n"
     ]
    },
    {
     "ename": "KeyboardInterrupt",
     "evalue": "",
     "output_type": "error",
     "traceback": [
      "\u001b[0;31m---------------------------------------------------------------------------\u001b[0m",
      "\u001b[0;31mKeyboardInterrupt\u001b[0m                         Traceback (most recent call last)",
      "Cell \u001b[0;32mIn[3], line 44\u001b[0m\n\u001b[1;32m     40\u001b[0m         \u001b[38;5;28;01mreturn\u001b[39;00m\n\u001b[1;32m     42\u001b[0m     most_interesting\u001b[38;5;241m.\u001b[39mappend((cleanDataset(dataset), machineId, year, month))\n\u001b[0;32m---> 44\u001b[0m \u001b[43mforEveryMachine\u001b[49m\u001b[43m(\u001b[49m\u001b[43mfn\u001b[49m\u001b[43m)\u001b[49m\n\u001b[1;32m     46\u001b[0m \u001b[38;5;28mprint\u001b[39m(\u001b[38;5;124m\"\u001b[39m\u001b[38;5;130;01m\\n\u001b[39;00m\u001b[38;5;130;01m\\n\u001b[39;00m\u001b[38;5;130;01m\\n\u001b[39;00m\u001b[38;5;124mThe most interesting are the followings:\u001b[39m\u001b[38;5;124m\"\u001b[39m)\n\u001b[1;32m     47\u001b[0m \u001b[38;5;28;01mfor\u001b[39;00m dataset, machineId, year, month \u001b[38;5;129;01min\u001b[39;00m most_interesting:\n",
      "File \u001b[0;32m~/Desktop/Unicam/Master Degree/Year 1/First Semester/Technologies for Big Data/BigData-iot-project/scripts/getDataset.py:113\u001b[0m, in \u001b[0;36mforEveryMachine\u001b[0;34m(fn)\u001b[0m\n\u001b[1;32m    111\u001b[0m \u001b[38;5;28;01mfor\u001b[39;00m year \u001b[38;5;129;01min\u001b[39;00m machines[machineId]\u001b[38;5;241m.\u001b[39mkeys():\n\u001b[1;32m    112\u001b[0m     \u001b[38;5;28;01mfor\u001b[39;00m month \u001b[38;5;129;01min\u001b[39;00m machines[machineId][year]:\n\u001b[0;32m--> 113\u001b[0m         \u001b[43mfn\u001b[49m\u001b[43m(\u001b[49m\u001b[43mmachineId\u001b[49m\u001b[43m,\u001b[49m\u001b[43m \u001b[49m\u001b[43myear\u001b[49m\u001b[43m,\u001b[49m\u001b[43m \u001b[49m\u001b[43mmonth\u001b[49m\u001b[43m)\u001b[49m\n",
      "Cell \u001b[0;32mIn[3], line 12\u001b[0m, in \u001b[0;36mfn\u001b[0;34m(machineId, year, month)\u001b[0m\n\u001b[1;32m     11\u001b[0m \u001b[38;5;28;01mdef\u001b[39;00m \u001b[38;5;21mfn\u001b[39m(machineId, year, month):\n\u001b[0;32m---> 12\u001b[0m     dataset \u001b[38;5;241m=\u001b[39m \u001b[43mgetEntireDataset\u001b[49m\u001b[43m(\u001b[49m\u001b[43mmachineId\u001b[49m\u001b[43m,\u001b[49m\u001b[43m \u001b[49m\u001b[43myear\u001b[49m\u001b[43m,\u001b[49m\u001b[43m \u001b[49m\u001b[43mmonth\u001b[49m\u001b[43m,\u001b[49m\u001b[43m \u001b[49m\u001b[38;5;28;43;01mFalse\u001b[39;49;00m\u001b[43m)\u001b[49m\n\u001b[1;32m     14\u001b[0m     \u001b[38;5;28;01mif\u001b[39;00m dataset\u001b[38;5;241m.\u001b[39mempty:\n\u001b[1;32m     15\u001b[0m         \u001b[38;5;28;01mreturn\u001b[39;00m\n",
      "File \u001b[0;32m~/Desktop/Unicam/Master Degree/Year 1/First Semester/Technologies for Big Data/BigData-iot-project/scripts/getDataset.py:75\u001b[0m, in \u001b[0;36mgetEntireDataset\u001b[0;34m(id, year_int, month_int, debug)\u001b[0m\n\u001b[1;32m     72\u001b[0m \u001b[38;5;28;01mif\u001b[39;00m (debug):\n\u001b[1;32m     73\u001b[0m     \u001b[38;5;28mprint\u001b[39m(\u001b[38;5;124m\"\u001b[39m\u001b[38;5;124m__Getting Fermate__\u001b[39m\u001b[38;5;124m\"\u001b[39m)\n\u001b[0;32m---> 75\u001b[0m fermate \u001b[38;5;241m=\u001b[39m \u001b[43mgetFermate\u001b[49m\u001b[43m(\u001b[49m\u001b[38;5;28;43mid\u001b[39;49m\u001b[43m,\u001b[49m\u001b[43m \u001b[49m\u001b[43myear\u001b[49m\u001b[43m,\u001b[49m\u001b[43m \u001b[49m\u001b[43mmonth\u001b[49m\u001b[43m)\u001b[49m\n\u001b[1;32m     76\u001b[0m \u001b[38;5;28;01mif\u001b[39;00m fermate\u001b[38;5;241m.\u001b[39mempty:\n\u001b[1;32m     77\u001b[0m     \u001b[38;5;28;01mif\u001b[39;00m (debug):\n",
      "File \u001b[0;32m~/Desktop/Unicam/Master Degree/Year 1/First Semester/Technologies for Big Data/BigData-iot-project/scripts/getSingleDataset/getFermate.py:80\u001b[0m, in \u001b[0;36mgetFermate\u001b[0;34m(id, year, month)\u001b[0m\n\u001b[1;32m     78\u001b[0m \u001b[38;5;28;01mif\u001b[39;00m \u001b[38;5;129;01mnot\u001b[39;00m f\u001b[38;5;241m.\u001b[39mstartswith(\u001b[38;5;124mf\u001b[39m\u001b[38;5;124m\"\u001b[39m\u001b[38;5;124mFERMATE \u001b[39m\u001b[38;5;124m\"\u001b[39m):\n\u001b[1;32m     79\u001b[0m     \u001b[38;5;28;01mcontinue\u001b[39;00m\n\u001b[0;32m---> 80\u001b[0m df \u001b[38;5;241m=\u001b[39m \u001b[43mgetCleanDataset\u001b[49m\u001b[43m(\u001b[49m\u001b[38;5;124;43mf\u001b[39;49m\u001b[38;5;124;43m\"\u001b[39;49m\u001b[38;5;132;43;01m{\u001b[39;49;00m\u001b[43mbase_dir\u001b[49m\u001b[38;5;132;43;01m}\u001b[39;49;00m\u001b[38;5;124;43m/\u001b[39;49m\u001b[38;5;132;43;01m{\u001b[39;49;00m\u001b[43mf\u001b[49m\u001b[38;5;132;43;01m}\u001b[39;49;00m\u001b[38;5;124;43m\"\u001b[39;49m\u001b[43m)\u001b[49m\n\u001b[1;32m     82\u001b[0m \u001b[38;5;66;03m# this automatically handles the \"0101\" -> \"101\" conversion as df[\"RESOURCE\"].dtypes is int64\u001b[39;00m\n\u001b[1;32m     83\u001b[0m df \u001b[38;5;241m=\u001b[39m df[df[\u001b[38;5;124m\"\u001b[39m\u001b[38;5;124mRESOURCE\u001b[39m\u001b[38;5;124m\"\u001b[39m] \u001b[38;5;241m==\u001b[39m \u001b[38;5;28mint\u001b[39m(\u001b[38;5;28mid\u001b[39m)]\n",
      "File \u001b[0;32m~/Desktop/Unicam/Master Degree/Year 1/First Semester/Technologies for Big Data/BigData-iot-project/scripts/getSingleDataset/utils.py:17\u001b[0m, in \u001b[0;36mgetCleanDataset\u001b[0;34m(file, dtypes)\u001b[0m\n\u001b[1;32m     16\u001b[0m \u001b[38;5;28;01mdef\u001b[39;00m \u001b[38;5;21mgetCleanDataset\u001b[39m(file: \u001b[38;5;28mstr\u001b[39m, dtypes \u001b[38;5;241m=\u001b[39m \u001b[38;5;28;01mNone\u001b[39;00m):\n\u001b[0;32m---> 17\u001b[0m     df \u001b[38;5;241m=\u001b[39m \u001b[43mpd\u001b[49m\u001b[38;5;241;43m.\u001b[39;49m\u001b[43mread_csv\u001b[49m\u001b[43m(\u001b[49m\u001b[43mfile\u001b[49m\u001b[43m,\u001b[49m\u001b[43m \u001b[49m\u001b[43mdelimiter\u001b[49m\u001b[38;5;241;43m=\u001b[39;49m\u001b[38;5;124;43m\"\u001b[39;49m\u001b[38;5;124;43m,\u001b[39;49m\u001b[38;5;124;43m\"\u001b[39;49m\u001b[43m,\u001b[49m\u001b[43m \u001b[49m\u001b[43mdtype\u001b[49m\u001b[38;5;241;43m=\u001b[39;49m\u001b[43mdtypes\u001b[49m\u001b[43m)\u001b[49m\n\u001b[1;32m     18\u001b[0m     \u001b[38;5;28;01mreturn\u001b[39;00m cleanDataset(df)\n",
      "File \u001b[0;32m~/.pyenv/versions/3.11.6/lib/python3.11/site-packages/pandas/io/parsers/readers.py:1024\u001b[0m, in \u001b[0;36mread_csv\u001b[0;34m(filepath_or_buffer, sep, delimiter, header, names, index_col, usecols, dtype, engine, converters, true_values, false_values, skipinitialspace, skiprows, skipfooter, nrows, na_values, keep_default_na, na_filter, verbose, skip_blank_lines, parse_dates, infer_datetime_format, keep_date_col, date_parser, date_format, dayfirst, cache_dates, iterator, chunksize, compression, thousands, decimal, lineterminator, quotechar, quoting, doublequote, escapechar, comment, encoding, encoding_errors, dialect, on_bad_lines, delim_whitespace, low_memory, memory_map, float_precision, storage_options, dtype_backend)\u001b[0m\n\u001b[1;32m   1011\u001b[0m kwds_defaults \u001b[38;5;241m=\u001b[39m _refine_defaults_read(\n\u001b[1;32m   1012\u001b[0m     dialect,\n\u001b[1;32m   1013\u001b[0m     delimiter,\n\u001b[0;32m   (...)\u001b[0m\n\u001b[1;32m   1020\u001b[0m     dtype_backend\u001b[38;5;241m=\u001b[39mdtype_backend,\n\u001b[1;32m   1021\u001b[0m )\n\u001b[1;32m   1022\u001b[0m kwds\u001b[38;5;241m.\u001b[39mupdate(kwds_defaults)\n\u001b[0;32m-> 1024\u001b[0m \u001b[38;5;28;01mreturn\u001b[39;00m \u001b[43m_read\u001b[49m\u001b[43m(\u001b[49m\u001b[43mfilepath_or_buffer\u001b[49m\u001b[43m,\u001b[49m\u001b[43m \u001b[49m\u001b[43mkwds\u001b[49m\u001b[43m)\u001b[49m\n",
      "File \u001b[0;32m~/.pyenv/versions/3.11.6/lib/python3.11/site-packages/pandas/io/parsers/readers.py:624\u001b[0m, in \u001b[0;36m_read\u001b[0;34m(filepath_or_buffer, kwds)\u001b[0m\n\u001b[1;32m    621\u001b[0m     \u001b[38;5;28;01mreturn\u001b[39;00m parser\n\u001b[1;32m    623\u001b[0m \u001b[38;5;28;01mwith\u001b[39;00m parser:\n\u001b[0;32m--> 624\u001b[0m     \u001b[38;5;28;01mreturn\u001b[39;00m \u001b[43mparser\u001b[49m\u001b[38;5;241;43m.\u001b[39;49m\u001b[43mread\u001b[49m\u001b[43m(\u001b[49m\u001b[43mnrows\u001b[49m\u001b[43m)\u001b[49m\n",
      "File \u001b[0;32m~/.pyenv/versions/3.11.6/lib/python3.11/site-packages/pandas/io/parsers/readers.py:1966\u001b[0m, in \u001b[0;36mTextFileReader.read\u001b[0;34m(self, nrows)\u001b[0m\n\u001b[1;32m   1963\u001b[0m     \u001b[38;5;28;01melse\u001b[39;00m:\n\u001b[1;32m   1964\u001b[0m         new_col_dict \u001b[38;5;241m=\u001b[39m col_dict\n\u001b[0;32m-> 1966\u001b[0m     df \u001b[38;5;241m=\u001b[39m \u001b[43mDataFrame\u001b[49m\u001b[43m(\u001b[49m\n\u001b[1;32m   1967\u001b[0m \u001b[43m        \u001b[49m\u001b[43mnew_col_dict\u001b[49m\u001b[43m,\u001b[49m\n\u001b[1;32m   1968\u001b[0m \u001b[43m        \u001b[49m\u001b[43mcolumns\u001b[49m\u001b[38;5;241;43m=\u001b[39;49m\u001b[43mcolumns\u001b[49m\u001b[43m,\u001b[49m\n\u001b[1;32m   1969\u001b[0m \u001b[43m        \u001b[49m\u001b[43mindex\u001b[49m\u001b[38;5;241;43m=\u001b[39;49m\u001b[43mindex\u001b[49m\u001b[43m,\u001b[49m\n\u001b[1;32m   1970\u001b[0m \u001b[43m        \u001b[49m\u001b[43mcopy\u001b[49m\u001b[38;5;241;43m=\u001b[39;49m\u001b[38;5;129;43;01mnot\u001b[39;49;00m\u001b[43m \u001b[49m\u001b[43musing_copy_on_write\u001b[49m\u001b[43m(\u001b[49m\u001b[43m)\u001b[49m\u001b[43m,\u001b[49m\n\u001b[1;32m   1971\u001b[0m \u001b[43m    \u001b[49m\u001b[43m)\u001b[49m\n\u001b[1;32m   1973\u001b[0m     \u001b[38;5;28mself\u001b[39m\u001b[38;5;241m.\u001b[39m_currow \u001b[38;5;241m+\u001b[39m\u001b[38;5;241m=\u001b[39m new_rows\n\u001b[1;32m   1974\u001b[0m \u001b[38;5;28;01mreturn\u001b[39;00m df\n",
      "File \u001b[0;32m~/.pyenv/versions/3.11.6/lib/python3.11/site-packages/pandas/core/frame.py:767\u001b[0m, in \u001b[0;36mDataFrame.__init__\u001b[0;34m(self, data, index, columns, dtype, copy)\u001b[0m\n\u001b[1;32m    761\u001b[0m     mgr \u001b[38;5;241m=\u001b[39m \u001b[38;5;28mself\u001b[39m\u001b[38;5;241m.\u001b[39m_init_mgr(\n\u001b[1;32m    762\u001b[0m         data, axes\u001b[38;5;241m=\u001b[39m{\u001b[38;5;124m\"\u001b[39m\u001b[38;5;124mindex\u001b[39m\u001b[38;5;124m\"\u001b[39m: index, \u001b[38;5;124m\"\u001b[39m\u001b[38;5;124mcolumns\u001b[39m\u001b[38;5;124m\"\u001b[39m: columns}, dtype\u001b[38;5;241m=\u001b[39mdtype, copy\u001b[38;5;241m=\u001b[39mcopy\n\u001b[1;32m    763\u001b[0m     )\n\u001b[1;32m    765\u001b[0m \u001b[38;5;28;01melif\u001b[39;00m \u001b[38;5;28misinstance\u001b[39m(data, \u001b[38;5;28mdict\u001b[39m):\n\u001b[1;32m    766\u001b[0m     \u001b[38;5;66;03m# GH#38939 de facto copy defaults to False only in non-dict cases\u001b[39;00m\n\u001b[0;32m--> 767\u001b[0m     mgr \u001b[38;5;241m=\u001b[39m \u001b[43mdict_to_mgr\u001b[49m\u001b[43m(\u001b[49m\u001b[43mdata\u001b[49m\u001b[43m,\u001b[49m\u001b[43m \u001b[49m\u001b[43mindex\u001b[49m\u001b[43m,\u001b[49m\u001b[43m \u001b[49m\u001b[43mcolumns\u001b[49m\u001b[43m,\u001b[49m\u001b[43m \u001b[49m\u001b[43mdtype\u001b[49m\u001b[38;5;241;43m=\u001b[39;49m\u001b[43mdtype\u001b[49m\u001b[43m,\u001b[49m\u001b[43m \u001b[49m\u001b[43mcopy\u001b[49m\u001b[38;5;241;43m=\u001b[39;49m\u001b[43mcopy\u001b[49m\u001b[43m,\u001b[49m\u001b[43m \u001b[49m\u001b[43mtyp\u001b[49m\u001b[38;5;241;43m=\u001b[39;49m\u001b[43mmanager\u001b[49m\u001b[43m)\u001b[49m\n\u001b[1;32m    768\u001b[0m \u001b[38;5;28;01melif\u001b[39;00m \u001b[38;5;28misinstance\u001b[39m(data, ma\u001b[38;5;241m.\u001b[39mMaskedArray):\n\u001b[1;32m    769\u001b[0m     \u001b[38;5;28;01mfrom\u001b[39;00m \u001b[38;5;21;01mnumpy\u001b[39;00m\u001b[38;5;21;01m.\u001b[39;00m\u001b[38;5;21;01mma\u001b[39;00m \u001b[38;5;28;01mimport\u001b[39;00m mrecords\n",
      "File \u001b[0;32m~/.pyenv/versions/3.11.6/lib/python3.11/site-packages/pandas/core/internals/construction.py:503\u001b[0m, in \u001b[0;36mdict_to_mgr\u001b[0;34m(data, index, columns, dtype, typ, copy)\u001b[0m\n\u001b[1;32m    499\u001b[0m     \u001b[38;5;28;01melse\u001b[39;00m:\n\u001b[1;32m    500\u001b[0m         \u001b[38;5;66;03m# dtype check to exclude e.g. range objects, scalars\u001b[39;00m\n\u001b[1;32m    501\u001b[0m         arrays \u001b[38;5;241m=\u001b[39m [x\u001b[38;5;241m.\u001b[39mcopy() \u001b[38;5;28;01mif\u001b[39;00m \u001b[38;5;28mhasattr\u001b[39m(x, \u001b[38;5;124m\"\u001b[39m\u001b[38;5;124mdtype\u001b[39m\u001b[38;5;124m\"\u001b[39m) \u001b[38;5;28;01melse\u001b[39;00m x \u001b[38;5;28;01mfor\u001b[39;00m x \u001b[38;5;129;01min\u001b[39;00m arrays]\n\u001b[0;32m--> 503\u001b[0m \u001b[38;5;28;01mreturn\u001b[39;00m \u001b[43marrays_to_mgr\u001b[49m\u001b[43m(\u001b[49m\u001b[43marrays\u001b[49m\u001b[43m,\u001b[49m\u001b[43m \u001b[49m\u001b[43mcolumns\u001b[49m\u001b[43m,\u001b[49m\u001b[43m \u001b[49m\u001b[43mindex\u001b[49m\u001b[43m,\u001b[49m\u001b[43m \u001b[49m\u001b[43mdtype\u001b[49m\u001b[38;5;241;43m=\u001b[39;49m\u001b[43mdtype\u001b[49m\u001b[43m,\u001b[49m\u001b[43m \u001b[49m\u001b[43mtyp\u001b[49m\u001b[38;5;241;43m=\u001b[39;49m\u001b[43mtyp\u001b[49m\u001b[43m,\u001b[49m\u001b[43m \u001b[49m\u001b[43mconsolidate\u001b[49m\u001b[38;5;241;43m=\u001b[39;49m\u001b[43mcopy\u001b[49m\u001b[43m)\u001b[49m\n",
      "File \u001b[0;32m~/.pyenv/versions/3.11.6/lib/python3.11/site-packages/pandas/core/internals/construction.py:152\u001b[0m, in \u001b[0;36marrays_to_mgr\u001b[0;34m(arrays, columns, index, dtype, verify_integrity, typ, consolidate)\u001b[0m\n\u001b[1;32m    149\u001b[0m axes \u001b[38;5;241m=\u001b[39m [columns, index]\n\u001b[1;32m    151\u001b[0m \u001b[38;5;28;01mif\u001b[39;00m typ \u001b[38;5;241m==\u001b[39m \u001b[38;5;124m\"\u001b[39m\u001b[38;5;124mblock\u001b[39m\u001b[38;5;124m\"\u001b[39m:\n\u001b[0;32m--> 152\u001b[0m     \u001b[38;5;28;01mreturn\u001b[39;00m \u001b[43mcreate_block_manager_from_column_arrays\u001b[49m\u001b[43m(\u001b[49m\n\u001b[1;32m    153\u001b[0m \u001b[43m        \u001b[49m\u001b[43marrays\u001b[49m\u001b[43m,\u001b[49m\u001b[43m \u001b[49m\u001b[43maxes\u001b[49m\u001b[43m,\u001b[49m\u001b[43m \u001b[49m\u001b[43mconsolidate\u001b[49m\u001b[38;5;241;43m=\u001b[39;49m\u001b[43mconsolidate\u001b[49m\u001b[43m,\u001b[49m\u001b[43m \u001b[49m\u001b[43mrefs\u001b[49m\u001b[38;5;241;43m=\u001b[39;49m\u001b[43mrefs\u001b[49m\n\u001b[1;32m    154\u001b[0m \u001b[43m    \u001b[49m\u001b[43m)\u001b[49m\n\u001b[1;32m    155\u001b[0m \u001b[38;5;28;01melif\u001b[39;00m typ \u001b[38;5;241m==\u001b[39m \u001b[38;5;124m\"\u001b[39m\u001b[38;5;124marray\u001b[39m\u001b[38;5;124m\"\u001b[39m:\n\u001b[1;32m    156\u001b[0m     \u001b[38;5;28;01mreturn\u001b[39;00m ArrayManager(arrays, [index, columns])\n",
      "File \u001b[0;32m~/.pyenv/versions/3.11.6/lib/python3.11/site-packages/pandas/core/internals/managers.py:2143\u001b[0m, in \u001b[0;36mcreate_block_manager_from_column_arrays\u001b[0;34m(arrays, axes, consolidate, refs)\u001b[0m\n\u001b[1;32m   2141\u001b[0m     raise_construction_error(\u001b[38;5;28mlen\u001b[39m(arrays), arrays[\u001b[38;5;241m0\u001b[39m]\u001b[38;5;241m.\u001b[39mshape, axes, e)\n\u001b[1;32m   2142\u001b[0m \u001b[38;5;28;01mif\u001b[39;00m consolidate:\n\u001b[0;32m-> 2143\u001b[0m     \u001b[43mmgr\u001b[49m\u001b[38;5;241;43m.\u001b[39;49m\u001b[43m_consolidate_inplace\u001b[49m\u001b[43m(\u001b[49m\u001b[43m)\u001b[49m\n\u001b[1;32m   2144\u001b[0m \u001b[38;5;28;01mreturn\u001b[39;00m mgr\n",
      "File \u001b[0;32m~/.pyenv/versions/3.11.6/lib/python3.11/site-packages/pandas/core/internals/managers.py:1787\u001b[0m, in \u001b[0;36mBlockManager._consolidate_inplace\u001b[0;34m(self)\u001b[0m\n\u001b[1;32m   1781\u001b[0m \u001b[38;5;28;01mdef\u001b[39;00m \u001b[38;5;21m_consolidate_inplace\u001b[39m(\u001b[38;5;28mself\u001b[39m) \u001b[38;5;241m-\u001b[39m\u001b[38;5;241m>\u001b[39m \u001b[38;5;28;01mNone\u001b[39;00m:\n\u001b[1;32m   1782\u001b[0m     \u001b[38;5;66;03m# In general, _consolidate_inplace should only be called via\u001b[39;00m\n\u001b[1;32m   1783\u001b[0m     \u001b[38;5;66;03m#  DataFrame._consolidate_inplace, otherwise we will fail to invalidate\u001b[39;00m\n\u001b[1;32m   1784\u001b[0m     \u001b[38;5;66;03m#  the DataFrame's _item_cache. The exception is for newly-created\u001b[39;00m\n\u001b[1;32m   1785\u001b[0m     \u001b[38;5;66;03m#  BlockManager objects not yet attached to a DataFrame.\u001b[39;00m\n\u001b[1;32m   1786\u001b[0m     \u001b[38;5;28;01mif\u001b[39;00m \u001b[38;5;129;01mnot\u001b[39;00m \u001b[38;5;28mself\u001b[39m\u001b[38;5;241m.\u001b[39mis_consolidated():\n\u001b[0;32m-> 1787\u001b[0m         \u001b[38;5;28mself\u001b[39m\u001b[38;5;241m.\u001b[39mblocks \u001b[38;5;241m=\u001b[39m \u001b[43m_consolidate\u001b[49m\u001b[43m(\u001b[49m\u001b[38;5;28;43mself\u001b[39;49m\u001b[38;5;241;43m.\u001b[39;49m\u001b[43mblocks\u001b[49m\u001b[43m)\u001b[49m\n\u001b[1;32m   1788\u001b[0m         \u001b[38;5;28mself\u001b[39m\u001b[38;5;241m.\u001b[39m_is_consolidated \u001b[38;5;241m=\u001b[39m \u001b[38;5;28;01mTrue\u001b[39;00m\n\u001b[1;32m   1789\u001b[0m         \u001b[38;5;28mself\u001b[39m\u001b[38;5;241m.\u001b[39m_known_consolidated \u001b[38;5;241m=\u001b[39m \u001b[38;5;28;01mTrue\u001b[39;00m\n",
      "File \u001b[0;32m~/.pyenv/versions/3.11.6/lib/python3.11/site-packages/pandas/core/internals/managers.py:2268\u001b[0m, in \u001b[0;36m_consolidate\u001b[0;34m(blocks)\u001b[0m\n\u001b[1;32m   2266\u001b[0m new_blocks: \u001b[38;5;28mlist\u001b[39m[Block] \u001b[38;5;241m=\u001b[39m []\n\u001b[1;32m   2267\u001b[0m \u001b[38;5;28;01mfor\u001b[39;00m (_can_consolidate, dtype), group_blocks \u001b[38;5;129;01min\u001b[39;00m grouper:\n\u001b[0;32m-> 2268\u001b[0m     merged_blocks, _ \u001b[38;5;241m=\u001b[39m \u001b[43m_merge_blocks\u001b[49m\u001b[43m(\u001b[49m\n\u001b[1;32m   2269\u001b[0m \u001b[43m        \u001b[49m\u001b[38;5;28;43mlist\u001b[39;49m\u001b[43m(\u001b[49m\u001b[43mgroup_blocks\u001b[49m\u001b[43m)\u001b[49m\u001b[43m,\u001b[49m\u001b[43m \u001b[49m\u001b[43mdtype\u001b[49m\u001b[38;5;241;43m=\u001b[39;49m\u001b[43mdtype\u001b[49m\u001b[43m,\u001b[49m\u001b[43m \u001b[49m\u001b[43mcan_consolidate\u001b[49m\u001b[38;5;241;43m=\u001b[39;49m\u001b[43m_can_consolidate\u001b[49m\n\u001b[1;32m   2270\u001b[0m \u001b[43m    \u001b[49m\u001b[43m)\u001b[49m\n\u001b[1;32m   2271\u001b[0m     new_blocks \u001b[38;5;241m=\u001b[39m extend_blocks(merged_blocks, new_blocks)\n\u001b[1;32m   2272\u001b[0m \u001b[38;5;28;01mreturn\u001b[39;00m \u001b[38;5;28mtuple\u001b[39m(new_blocks)\n",
      "File \u001b[0;32m~/.pyenv/versions/3.11.6/lib/python3.11/site-packages/pandas/core/internals/managers.py:2303\u001b[0m, in \u001b[0;36m_merge_blocks\u001b[0;34m(blocks, dtype, can_consolidate)\u001b[0m\n\u001b[1;32m   2300\u001b[0m     new_values \u001b[38;5;241m=\u001b[39m new_values[argsort]\n\u001b[1;32m   2301\u001b[0m     new_mgr_locs \u001b[38;5;241m=\u001b[39m new_mgr_locs[argsort]\n\u001b[0;32m-> 2303\u001b[0m     bp \u001b[38;5;241m=\u001b[39m \u001b[43mBlockPlacement\u001b[49m\u001b[43m(\u001b[49m\u001b[43mnew_mgr_locs\u001b[49m\u001b[43m)\u001b[49m\n\u001b[1;32m   2304\u001b[0m     \u001b[38;5;28;01mreturn\u001b[39;00m [new_block_2d(new_values, placement\u001b[38;5;241m=\u001b[39mbp)], \u001b[38;5;28;01mTrue\u001b[39;00m\n\u001b[1;32m   2306\u001b[0m \u001b[38;5;66;03m# can't consolidate --> no merge\u001b[39;00m\n",
      "\u001b[0;31mKeyboardInterrupt\u001b[0m: "
     ]
    }
   ],
   "source": [
    "from scripts.plots import plot\n",
    "from scripts.getDataset import getEntireDataset, forEveryMachine, cleanDataset\n",
    "import pandas as pd\n",
    "\n",
    "DEBUG = False\n",
    "pd.set_option(\"display.max_rows\", None)\n",
    "pd.options.mode.copy_on_write = False\n",
    "\n",
    "most_interesting = []\n",
    "\n",
    "def fn(machineId, year, month):\n",
    "    dataset = getEntireDataset(machineId, year, month, False)\n",
    "\n",
    "    if dataset.empty:\n",
    "        return\n",
    "\n",
    "    if dataset[\"EnergyConsumption\"].dropna().eq(0).all():\n",
    "        if DEBUG:\n",
    "            print(\"Skipping as EnergyConsumption is all 0\")\n",
    "        return\n",
    "    if dataset[\"Fermate\"].dropna().eq(0).all():\n",
    "        if DEBUG:\n",
    "            print(\"Skipping as Fermate is all 0\")\n",
    "        return\n",
    "\n",
    "    EC_na = dataset[\"EnergyConsumption\"].isna().sum()\n",
    "    EC_len = dataset[\"EnergyConsumption\"].shape[0]\n",
    "\n",
    "    ST_na = dataset[\"Fermate\"].isna().sum()\n",
    "    ST_len = dataset[\"Fermate\"].shape[0]\n",
    "\n",
    "    energyRate = EC_na/ EC_len\n",
    "    stopsRate = ST_na/ ST_len\n",
    "\n",
    "    if energyRate > 0.5 or stopsRate > 0.5:\n",
    "        if DEBUG:\n",
    "            print(\"Skipping as too many NaN values\")\n",
    "            print(\"\\tEnergy Rate:\", energyRate)\n",
    "            print(\"\\tStops Rate:\", stopsRate)\n",
    "        return\n",
    "\n",
    "    most_interesting.append((cleanDataset(dataset), machineId, year, month))\n",
    "\n",
    "forEveryMachine(fn)\n",
    "\n",
    "print(\"\\n\\n\\nThe most interesting are the followings:\")\n",
    "for dataset, machineId, year, month in most_interesting:\n",
    "    dataset.to_csv(f\"dataset/results/it1/id-{machineId}_{year}-{month}.csv\")\n",
    "    print(f\"- Machine {machineId} - {year}/{month}\")\n",
    "\n",
    "for dataset, machineId, year, month in most_interesting:\n",
    "    plot(dataset, machineId, year, month)"
   ]
  },
  {
   "cell_type": "markdown",
   "metadata": {},
   "source": [
    "It took 20 minutes to compute everything but now I want to look at the lifetime of the machines and see if I can find something interesting, merging the data into one file for machine"
   ]
  },
  {
   "cell_type": "code",
   "execution_count": 4,
   "metadata": {},
   "outputs": [],
   "source": [
    "from scripts.getSingleDataset.utils import getCleanDataset\n",
    "import pandas as pd\n",
    "import os\n",
    "\n",
    "files = [p for p in os.listdir(\"dataset/results/it1\") if p.endswith(\".csv\")]\n",
    "\n",
    "compete_dataset = {}\n",
    "\n",
    "for path in files:\n",
    "    # dataset.to_csv(f\"dataset/results/it1/id-{machineId}_{year}-{month}.csv\")\n",
    "\n",
    "    splitted_filename = [p.split(\"-\") for p in path.replace(\".csv\", \"\").split(\"_\")]\n",
    "\n",
    "    machineId = int(splitted_filename[0][1])\n",
    "    year = int(splitted_filename[1][0])\n",
    "    month = int(splitted_filename[1][1])\n",
    "\n",
    "    d = getCleanDataset(f\"dataset/results/it1/id-{machineId}_{year}-{month}.csv\")\n",
    "\n",
    "    # plot(d)\n",
    "    value = [d]\n",
    "\n",
    "    if machineId in compete_dataset:\n",
    "        old_data = compete_dataset.get(machineId)\n",
    "        \n",
    "        for old in old_data:\n",
    "            value.append(old)\n",
    "        \n",
    "\n",
    "    compete_dataset.update({machineId: value})\n",
    "\n",
    "for machineId in compete_dataset.keys():\n",
    "    d = pd.concat(compete_dataset.get(machineId))\n",
    "\n",
    "    d.to_csv(f\"dataset/results/it2/id-{machineId}.csv\", mode=\"w\", index=False)"
   ]
  },
  {
   "cell_type": "markdown",
   "metadata": {},
   "source": [
    "Now I use the pearson correlation to see the correlation between datsets"
   ]
  },
  {
   "cell_type": "code",
   "execution_count": 5,
   "metadata": {},
   "outputs": [
    {
     "name": "stdout",
     "output_type": "stream",
     "text": [
      "Machine 304\n",
      "\tCorrelation between Energy Consumption and Productions\n",
      "\t\t0.59\n",
      "\t\tP-Value:0.00\n",
      "\t\tSignificant\n",
      "\tCorrelation between Energy Consumption and Stops\n",
      "\t\t0.14\n",
      "\t\tP-Value:0.50\n",
      "\tCorrelation between Productions and Stops\n",
      "\t\t0.36\n",
      "\t\tP-Value:0.08\n",
      "Machine 310\n",
      "\tCorrelation between Energy Consumption and Productions\n",
      "\t\t0.27\n",
      "\t\tP-Value:0.40\n",
      "\tCorrelation between Energy Consumption and Stops\n",
      "\t\t0.43\n",
      "\t\tP-Value:0.16\n",
      "\tCorrelation between Productions and Stops\n",
      "\t\t0.29\n",
      "\t\tP-Value:0.37\n",
      "Machine 515\n",
      "\tCorrelation between Energy Consumption and Productions\n",
      "\t\t0.13\n",
      "\t\tP-Value:0.26\n",
      "\tCorrelation between Energy Consumption and Stops\n",
      "\t\t0.08\n",
      "\t\tP-Value:0.52\n",
      "\tCorrelation between Productions and Stops\n",
      "\t\t0.38\n",
      "\t\tP-Value:0.00\n",
      "\t\tSignificant\n",
      "Machine 313\n",
      "\tCorrelation between Energy Consumption and Productions\n",
      "\t\t0.19\n",
      "\t\tP-Value:0.44\n",
      "\tCorrelation between Energy Consumption and Stops\n",
      "\t\t0.24\n",
      "\t\tP-Value:0.32\n",
      "\tCorrelation between Productions and Stops\n",
      "\t\t0.24\n",
      "\t\tP-Value:0.32\n",
      "Machine 307\n",
      "\tCorrelation between Energy Consumption and Productions\n",
      "\t\t0.32\n",
      "\t\tP-Value:0.34\n",
      "\tCorrelation between Energy Consumption and Stops\n",
      "\t\t0.47\n",
      "\t\tP-Value:0.14\n",
      "\tCorrelation between Productions and Stops\n",
      "\t\t0.43\n",
      "\t\tP-Value:0.18\n",
      "Machine 110\n",
      "\tCorrelation between Energy Consumption and Productions\n",
      "\t\t0.48\n",
      "\t\tP-Value:0.00\n",
      "\t\tSignificant\n",
      "\tCorrelation between Energy Consumption and Stops\n",
      "\t\t0.07\n",
      "\t\tP-Value:0.59\n",
      "\tCorrelation between Productions and Stops\n",
      "\t\t0.13\n",
      "\t\tP-Value:0.29\n",
      "Machine 306\n",
      "\tCorrelation between Energy Consumption and Productions\n",
      "\t\t0.52\n",
      "\t\tP-Value:0.00\n",
      "\t\tSignificant\n",
      "\tCorrelation between Energy Consumption and Stops\n",
      "\t\t0.13\n",
      "\t\tP-Value:0.33\n",
      "\tCorrelation between Productions and Stops\n",
      "\t\t0.26\n",
      "\t\tP-Value:0.05\n",
      "\t\tSignificant\n",
      "Machine 302\n",
      "\tCorrelation between Energy Consumption and Productions\n",
      "\t\t0.49\n",
      "\t\tP-Value:0.00\n",
      "\t\tSignificant\n",
      "\tCorrelation between Energy Consumption and Stops\n",
      "\t\t0.25\n",
      "\t\tP-Value:0.13\n",
      "\tCorrelation between Productions and Stops\n",
      "\t\t0.02\n",
      "\t\tP-Value:0.91\n",
      "Machine 303\n",
      "\tCorrelation between Energy Consumption and Productions\n",
      "\t\t0.52\n",
      "\t\tP-Value:0.00\n",
      "\t\tSignificant\n",
      "\tCorrelation between Energy Consumption and Stops\n",
      "\t\t0.27\n",
      "\t\tP-Value:0.14\n",
      "\tCorrelation between Productions and Stops\n",
      "\t\t-0.02\n",
      "\t\tP-Value:0.92\n",
      "Machine 301\n",
      "\tCorrelation between Energy Consumption and Productions\n",
      "\t\t0.31\n",
      "\t\tP-Value:0.03\n",
      "\t\tSignificant\n",
      "\tCorrelation between Energy Consumption and Stops\n",
      "\t\t0.33\n",
      "\t\tP-Value:0.02\n",
      "\t\tSignificant\n",
      "\tCorrelation between Productions and Stops\n",
      "\t\t0.18\n",
      "\t\tP-Value:0.22\n",
      "Machine 315\n",
      "\tCorrelation between Energy Consumption and Productions\n",
      "\t\t0.49\n",
      "\t\tP-Value:0.01\n",
      "\t\tSignificant\n",
      "\tCorrelation between Energy Consumption and Stops\n",
      "\t\t-0.13\n",
      "\t\tP-Value:0.53\n",
      "\tCorrelation between Productions and Stops\n",
      "\t\t0.24\n",
      "\t\tP-Value:0.22\n",
      "Machine 314\n",
      "\tCorrelation between Energy Consumption and Productions\n",
      "\t\t0.52\n",
      "\t\tP-Value:0.03\n",
      "\t\tSignificant\n",
      "\tCorrelation between Energy Consumption and Stops\n",
      "\t\tnan\n",
      "\t\tP-Value:nan\n",
      "\tCorrelation between Productions and Stops\n",
      "\t\tnan\n",
      "\t\tP-Value:nan\n",
      "Machine 614\n",
      "\tCorrelation between Energy Consumption and Productions\n",
      "\t\t0.02\n",
      "\t\tP-Value:0.84\n",
      "\tCorrelation between Energy Consumption and Stops\n",
      "\t\t0.18\n",
      "\t\tP-Value:0.14\n",
      "\tCorrelation between Productions and Stops\n",
      "\t\t0.14\n",
      "\t\tP-Value:0.27\n",
      "Machine 611\n",
      "\tCorrelation between Energy Consumption and Productions\n",
      "\t\t0.52\n",
      "\t\tP-Value:0.00\n",
      "\t\tSignificant\n",
      "\tCorrelation between Energy Consumption and Stops\n",
      "\t\t0.18\n",
      "\t\tP-Value:0.16\n",
      "\tCorrelation between Productions and Stops\n",
      "\t\t0.17\n",
      "\t\tP-Value:0.20\n",
      "Machine 610\n",
      "\tCorrelation between Energy Consumption and Productions\n",
      "\t\t0.38\n",
      "\t\tP-Value:0.00\n",
      "\t\tSignificant\n",
      "\tCorrelation between Energy Consumption and Stops\n",
      "\t\t0.15\n",
      "\t\tP-Value:0.18\n",
      "\tCorrelation between Productions and Stops\n",
      "\t\t0.41\n",
      "\t\tP-Value:0.00\n",
      "\t\tSignificant\n",
      "Machine 612\n",
      "\tCorrelation between Energy Consumption and Productions\n",
      "\t\t0.70\n",
      "\t\tP-Value:0.00\n",
      "\t\tSignificant\n",
      "\tCorrelation between Energy Consumption and Stops\n",
      "\t\t0.19\n",
      "\t\tP-Value:0.18\n",
      "\tCorrelation between Productions and Stops\n",
      "\t\t0.01\n",
      "\t\tP-Value:0.96\n",
      "Machine 618\n",
      "\tCorrelation between Energy Consumption and Productions\n",
      "\t\t0.93\n",
      "\t\tP-Value:0.02\n",
      "\t\tSignificant\n",
      "\tCorrelation between Energy Consumption and Stops\n",
      "\t\t0.74\n",
      "\t\tP-Value:0.15\n",
      "\tCorrelation between Productions and Stops\n",
      "\t\t0.74\n",
      "\t\tP-Value:0.15\n",
      "Machine 319\n",
      "\tCorrelation between Energy Consumption and Productions\n",
      "\t\t0.27\n",
      "\t\tP-Value:0.08\n",
      "\tCorrelation between Energy Consumption and Stops\n",
      "\t\t-0.12\n",
      "\t\tP-Value:0.42\n",
      "\tCorrelation between Productions and Stops\n",
      "\t\t-0.05\n",
      "\t\tP-Value:0.76\n",
      "Machine 108\n",
      "\tCorrelation between Energy Consumption and Productions\n",
      "\t\t-0.73\n",
      "\t\tP-Value:0.00\n",
      "\t\tSignificant\n",
      "\tCorrelation between Energy Consumption and Stops\n",
      "\t\t0.36\n",
      "\t\tP-Value:0.07\n",
      "\tCorrelation between Productions and Stops\n",
      "\t\t-0.03\n",
      "\t\tP-Value:0.90\n",
      "Machine 308\n",
      "\tCorrelation between Energy Consumption and Productions\n",
      "\t\t0.47\n",
      "\t\tP-Value:0.05\n",
      "\tCorrelation between Energy Consumption and Stops\n",
      "\t\t-0.21\n",
      "\t\tP-Value:0.41\n",
      "\tCorrelation between Productions and Stops\n",
      "\t\t0.13\n",
      "\t\tP-Value:0.61\n",
      "Machine 309\n",
      "\tCorrelation between Energy Consumption and Productions\n",
      "\t\t0.74\n",
      "\t\tP-Value:0.00\n",
      "\t\tSignificant\n",
      "\tCorrelation between Energy Consumption and Stops\n",
      "\t\t0.32\n",
      "\t\tP-Value:0.23\n",
      "\tCorrelation between Productions and Stops\n",
      "\t\t0.34\n",
      "\t\tP-Value:0.20\n",
      "Usable datasets:  15\n",
      "- Macine 304\n",
      "- Macine 515\n",
      "- Macine 110\n",
      "- Macine 306\n",
      "- Macine 302\n",
      "- Macine 303\n",
      "- Macine 301\n",
      "- Macine 315\n",
      "- Macine 314\n",
      "- Macine 611\n",
      "- Macine 610\n",
      "- Macine 612\n",
      "- Macine 618\n",
      "- Macine 108\n",
      "- Macine 309\n"
     ]
    },
    {
     "name": "stderr",
     "output_type": "stream",
     "text": [
      "/var/folders/8b/pr_5nfyx79x9nz4pw899j4wm0000gn/T/ipykernel_19808/3917665905.py:24: ConstantInputWarning: An input array is constant; the correlation coefficient is not defined.\n",
      "  energy_stops_corr, energy_stops_pvalue = stats.pearsonr(\n",
      "/var/folders/8b/pr_5nfyx79x9nz4pw899j4wm0000gn/T/ipykernel_19808/3917665905.py:33: ConstantInputWarning: An input array is constant; the correlation coefficient is not defined.\n",
      "  productions_stops_corr, productions_stops_pvalue = stats.pearsonr(\n"
     ]
    },
    {
     "data": {
      "application/vnd.plotly.v1+json": {
       "config": {
        "plotlyServerURL": "https://plot.ly"
       },
       "data": [
        {
         "marker": {
          "color": "blue",
          "size": 10
         },
         "mode": "markers+lines",
         "name": "1122100C45C1604235 Energy",
         "text": [
          null
         ],
         "type": "scatter",
         "x": [
          "2023-05-30"
         ],
         "xaxis": "x",
         "y": [
          null
         ],
         "yaxis": "y"
        },
        {
         "marker": {
          "color": "blue",
          "size": 10
         },
         "mode": "markers+lines",
         "name": "1122100C45C1604235 Productions",
         "text": [
          2097
         ],
         "type": "scatter",
         "x": [
          "2023-05-30"
         ],
         "xaxis": "x3",
         "y": [
          2097
         ],
         "yaxis": "y3"
        },
        {
         "marker": {
          "color": "blue",
          "size": 10
         },
         "mode": "markers+lines",
         "name": "1122100C45C1604235 Stops",
         "text": [
          "Unknown"
         ],
         "type": "scatter",
         "x": [
          "2023-05-30"
         ],
         "xaxis": "x2",
         "y": [
          null
         ],
         "yaxis": "y2"
        },
        {
         "marker": {
          "color": "green",
          "size": 10
         },
         "mode": "markers+lines",
         "name": "1103000FE5107370250 Energy",
         "text": [
          null,
          null,
          null,
          null,
          null,
          null,
          41175.9,
          null,
          null,
          null,
          28114.3,
          79445.9
         ],
         "type": "scatter",
         "x": [
          "2023-05-31",
          "2023-06-01",
          "2023-06-02",
          "2023-06-05",
          "2023-06-06",
          "2023-06-06",
          "2023-06-07",
          "2023-06-09",
          "2023-06-09",
          "2023-06-09",
          "2023-06-10",
          "2023-06-12"
         ],
         "xaxis": "x",
         "y": [
          null,
          null,
          null,
          null,
          null,
          null,
          41175.9,
          null,
          null,
          null,
          28114.3,
          79445.9
         ],
         "yaxis": "y"
        },
        {
         "marker": {
          "color": "green",
          "size": 10
         },
         "mode": "markers+lines",
         "name": "1103000FE5107370250 Productions",
         "text": [
          169,
          835,
          270,
          1076,
          732,
          732,
          0,
          467,
          467,
          467,
          216,
          66
         ],
         "type": "scatter",
         "x": [
          "2023-05-31",
          "2023-06-01",
          "2023-06-02",
          "2023-06-05",
          "2023-06-06",
          "2023-06-06",
          "2023-06-07",
          "2023-06-09",
          "2023-06-09",
          "2023-06-09",
          "2023-06-10",
          "2023-06-12"
         ],
         "xaxis": "x3",
         "y": [
          169,
          835,
          270,
          1076,
          732,
          732,
          0,
          467,
          467,
          467,
          216,
          66
         ],
         "yaxis": "y3"
        },
        {
         "marker": {
          "color": "green",
          "size": 10
         },
         "mode": "markers+lines",
         "name": "1103000FE5107370250 Stops",
         "text": [
          "Unknown",
          "Unknown",
          "Unknown",
          "Sostituzione utensile",
          "Manutenzione ordinaria",
          "Sostituzione utensile",
          "Manutenzione straordinaria",
          "Manutenzione ordinaria",
          "Manutenzione straordinaria",
          "Sostituzione utensile",
          "Sostituzione utensile",
          "Sostituzione utensile"
         ],
         "type": "scatter",
         "x": [
          "2023-05-31",
          "2023-06-01",
          "2023-06-02",
          "2023-06-05",
          "2023-06-06",
          "2023-06-06",
          "2023-06-07",
          "2023-06-09",
          "2023-06-09",
          "2023-06-09",
          "2023-06-10",
          "2023-06-12"
         ],
         "xaxis": "x2",
         "y": [
          null,
          null,
          null,
          1,
          1,
          1,
          1,
          1,
          1,
          1,
          1,
          1
         ],
         "yaxis": "y2"
        },
        {
         "marker": {
          "color": "black",
          "size": 10
         },
         "mode": "markers+lines",
         "name": "Unknown Energy",
         "text": [
          38493.6,
          0.2,
          13108.5,
          0.2,
          null,
          0,
          0.2,
          0.3,
          0.2,
          0.3,
          0.2,
          0.2,
          0.2,
          0.2,
          4739.1,
          0.3,
          148202,
          52425.6,
          14346.8,
          0.2,
          0,
          151300.5,
          149358.9,
          null,
          null,
          null,
          null,
          159766.3,
          157624.4,
          157634.6,
          0,
          0,
          null,
          null,
          null,
          null,
          42491.3,
          null,
          null
         ],
         "type": "scatter",
         "x": [
          "2023-06-08",
          "2023-06-11",
          "2023-06-17",
          "2023-06-18",
          "2023-06-26",
          "2023-06-30",
          "2023-01-01",
          "2023-01-02",
          "2023-01-03",
          "2023-01-04",
          "2023-01-05",
          "2023-01-06",
          "2023-01-07",
          "2023-01-08",
          "2023-01-09",
          "2023-01-22",
          "2023-01-31",
          "2023-03-01",
          "2023-03-04",
          "2023-03-05",
          "2023-03-11",
          "2023-03-14",
          "2023-03-15",
          "2023-03-16",
          "2023-03-17",
          "2023-03-18",
          "2023-03-20",
          "2023-03-21",
          "2023-03-22",
          "2023-03-23",
          "2023-03-24",
          "2023-03-25",
          "2023-03-27",
          "2023-03-27",
          "2023-03-28",
          "2023-03-28",
          "2023-03-30",
          "2023-03-31",
          "2023-03-31"
         ],
         "xaxis": "x",
         "y": [
          38493.6,
          0.2,
          13108.5,
          0.2,
          null,
          0,
          0.2,
          0.3,
          0.2,
          0.3,
          0.2,
          0.2,
          0.2,
          0.2,
          4739.1,
          0.3,
          148202,
          52425.6,
          14346.8,
          0.2,
          0,
          151300.5,
          149358.9,
          null,
          null,
          null,
          null,
          159766.3,
          157624.4,
          157634.6,
          0,
          0,
          null,
          null,
          null,
          null,
          42491.3,
          null,
          null
         ],
         "yaxis": "y"
        },
        {
         "marker": {
          "color": "black",
          "size": 10
         },
         "mode": "markers+lines",
         "name": "Unknown Productions",
         "text": [
          null,
          null,
          null,
          null,
          null,
          null,
          null,
          null,
          null,
          null,
          null,
          null,
          null,
          null,
          null,
          null,
          null,
          null,
          null,
          null,
          null,
          null,
          null,
          null,
          null,
          null,
          null,
          null,
          null,
          null,
          null,
          null,
          null,
          null,
          null,
          null,
          null,
          null,
          null
         ],
         "type": "scatter",
         "x": [
          "2023-06-08",
          "2023-06-11",
          "2023-06-17",
          "2023-06-18",
          "2023-06-26",
          "2023-06-30",
          "2023-01-01",
          "2023-01-02",
          "2023-01-03",
          "2023-01-04",
          "2023-01-05",
          "2023-01-06",
          "2023-01-07",
          "2023-01-08",
          "2023-01-09",
          "2023-01-22",
          "2023-01-31",
          "2023-03-01",
          "2023-03-04",
          "2023-03-05",
          "2023-03-11",
          "2023-03-14",
          "2023-03-15",
          "2023-03-16",
          "2023-03-17",
          "2023-03-18",
          "2023-03-20",
          "2023-03-21",
          "2023-03-22",
          "2023-03-23",
          "2023-03-24",
          "2023-03-25",
          "2023-03-27",
          "2023-03-27",
          "2023-03-28",
          "2023-03-28",
          "2023-03-30",
          "2023-03-31",
          "2023-03-31"
         ],
         "xaxis": "x3",
         "y": [
          null,
          null,
          null,
          null,
          null,
          null,
          null,
          null,
          null,
          null,
          null,
          null,
          null,
          null,
          null,
          null,
          null,
          null,
          null,
          null,
          null,
          null,
          null,
          null,
          null,
          null,
          null,
          null,
          null,
          null,
          null,
          null,
          null,
          null,
          null,
          null,
          null,
          null,
          null
         ],
         "yaxis": "y3"
        },
        {
         "marker": {
          "color": "black",
          "size": 10
         },
         "mode": "markers+lines",
         "name": "Unknown Stops",
         "text": [
          "Unknown",
          "Unknown",
          "Unknown",
          "Unknown",
          "Sostituzione utensile",
          "Unknown",
          "Unknown",
          "Unknown",
          "Unknown",
          "Unknown",
          "Unknown",
          "Unknown",
          "Unknown",
          "Unknown",
          "Unknown",
          "Unknown",
          "Sostituzione utensile",
          "Unknown",
          "Unknown",
          "Unknown",
          "Unknown",
          "Sostituzione utensile",
          "Sostituzione utensile",
          "Sostituzione utensile",
          "Sostituzione utensile",
          "Sostituzione utensile",
          "Sostituzione utensile",
          "Sostituzione utensile",
          "Sostituzione utensile",
          "Sostituzione utensile",
          "Sostituzione utensile",
          "Manutenzione ordinaria",
          "Manutenzione ordinaria",
          "Sostituzione utensile",
          "Manutenzione ordinaria",
          "Sostituzione utensile",
          "Unknown",
          "Manutenzione ordinaria",
          "Sostituzione utensile"
         ],
         "type": "scatter",
         "x": [
          "2023-06-08",
          "2023-06-11",
          "2023-06-17",
          "2023-06-18",
          "2023-06-26",
          "2023-06-30",
          "2023-01-01",
          "2023-01-02",
          "2023-01-03",
          "2023-01-04",
          "2023-01-05",
          "2023-01-06",
          "2023-01-07",
          "2023-01-08",
          "2023-01-09",
          "2023-01-22",
          "2023-01-31",
          "2023-03-01",
          "2023-03-04",
          "2023-03-05",
          "2023-03-11",
          "2023-03-14",
          "2023-03-15",
          "2023-03-16",
          "2023-03-17",
          "2023-03-18",
          "2023-03-20",
          "2023-03-21",
          "2023-03-22",
          "2023-03-23",
          "2023-03-24",
          "2023-03-25",
          "2023-03-27",
          "2023-03-27",
          "2023-03-28",
          "2023-03-28",
          "2023-03-30",
          "2023-03-31",
          "2023-03-31"
         ],
         "xaxis": "x2",
         "y": [
          null,
          null,
          null,
          null,
          1,
          null,
          null,
          null,
          null,
          null,
          null,
          null,
          null,
          null,
          null,
          null,
          3,
          null,
          null,
          null,
          null,
          5,
          2,
          1,
          2,
          2,
          1,
          4,
          4,
          3,
          3,
          1,
          1,
          4,
          1,
          2,
          null,
          1,
          5
         ],
         "yaxis": "y2"
        },
        {
         "marker": {
          "color": "#00FFFF",
          "size": 10
         },
         "mode": "markers+lines",
         "name": "1103000FE3117050740 Energy",
         "text": [
          79445.9,
          141810.6,
          141810.6,
          124711.1,
          null,
          87330.7
         ],
         "type": "scatter",
         "x": [
          "2023-06-12",
          "2023-06-13",
          "2023-06-13",
          "2023-06-14",
          "2023-06-15",
          "2023-06-16"
         ],
         "xaxis": "x",
         "y": [
          79445.9,
          141810.6,
          141810.6,
          124711.1,
          null,
          87330.7
         ],
         "yaxis": "y"
        },
        {
         "marker": {
          "color": "#00FFFF",
          "size": 10
         },
         "mode": "markers+lines",
         "name": "1103000FE3117050740 Productions",
         "text": [
          260,
          2820,
          2820,
          710,
          821,
          846
         ],
         "type": "scatter",
         "x": [
          "2023-06-12",
          "2023-06-13",
          "2023-06-13",
          "2023-06-14",
          "2023-06-15",
          "2023-06-16"
         ],
         "xaxis": "x3",
         "y": [
          260,
          2820,
          2820,
          710,
          821,
          846
         ],
         "yaxis": "y3"
        },
        {
         "marker": {
          "color": "#00FFFF",
          "size": 10
         },
         "mode": "markers+lines",
         "name": "1103000FE3117050740 Stops",
         "text": [
          "Sostituzione utensile",
          "Manutenzione ordinaria",
          "Sostituzione utensile",
          "Sostituzione utensile",
          "Unknown",
          "Sostituzione utensile"
         ],
         "type": "scatter",
         "x": [
          "2023-06-12",
          "2023-06-13",
          "2023-06-13",
          "2023-06-14",
          "2023-06-15",
          "2023-06-16"
         ],
         "xaxis": "x2",
         "y": [
          1,
          1,
          2,
          1,
          null,
          1
         ],
         "yaxis": "y2"
        },
        {
         "marker": {
          "color": "#FFFF00",
          "size": 10
         },
         "mode": "markers+lines",
         "name": "1149500FE54000691.010 Energy",
         "text": [
          87330.7,
          67632.5,
          95920.5,
          0,
          97250.4,
          null,
          44509.4
         ],
         "type": "scatter",
         "x": [
          "2023-06-16",
          "2023-06-19",
          "2023-06-20",
          "2023-06-21",
          "2023-06-22",
          "2023-02-27",
          "2023-03-03"
         ],
         "xaxis": "x",
         "y": [
          87330.7,
          67632.5,
          95920.5,
          0,
          97250.4,
          null,
          44509.4
         ],
         "yaxis": "y"
        },
        {
         "marker": {
          "color": "#FFFF00",
          "size": 10
         },
         "mode": "markers+lines",
         "name": "1149500FE54000691.010 Productions",
         "text": [
          0,
          324,
          490,
          510,
          252,
          171,
          0
         ],
         "type": "scatter",
         "x": [
          "2023-06-16",
          "2023-06-19",
          "2023-06-20",
          "2023-06-21",
          "2023-06-22",
          "2023-02-27",
          "2023-03-03"
         ],
         "xaxis": "x3",
         "y": [
          0,
          324,
          490,
          510,
          252,
          171,
          0
         ],
         "yaxis": "y3"
        },
        {
         "marker": {
          "color": "#FFFF00",
          "size": 10
         },
         "mode": "markers+lines",
         "name": "1149500FE54000691.010 Stops",
         "text": [
          "Sostituzione utensile",
          "Unknown",
          "Unknown",
          "Unknown",
          "Unknown",
          "Unknown",
          "Unknown"
         ],
         "type": "scatter",
         "x": [
          "2023-06-16",
          "2023-06-19",
          "2023-06-20",
          "2023-06-21",
          "2023-06-22",
          "2023-02-27",
          "2023-03-03"
         ],
         "xaxis": "x2",
         "y": [
          1,
          null,
          null,
          null,
          null,
          null,
          null
         ],
         "yaxis": "y2"
        },
        {
         "marker": {
          "color": "#880000",
          "size": 10
         },
         "mode": "markers+lines",
         "name": "114330042C0/9998/999013715 Energy",
         "text": [
          null
         ],
         "type": "scatter",
         "x": [
          "2022-12-30"
         ],
         "xaxis": "x",
         "y": [
          null
         ],
         "yaxis": "y"
        },
        {
         "marker": {
          "color": "#880000",
          "size": 10
         },
         "mode": "markers+lines",
         "name": "114330042C0/9998/999013715 Productions",
         "text": [
          510
         ],
         "type": "scatter",
         "x": [
          "2022-12-30"
         ],
         "xaxis": "x3",
         "y": [
          510
         ],
         "yaxis": "y3"
        },
        {
         "marker": {
          "color": "#880000",
          "size": 10
         },
         "mode": "markers+lines",
         "name": "114330042C0/9998/999013715 Stops",
         "text": [
          "Unknown"
         ],
         "type": "scatter",
         "x": [
          "2022-12-30"
         ],
         "xaxis": "x2",
         "y": [
          null
         ],
         "yaxis": "y2"
        },
        {
         "marker": {
          "color": "blue",
          "size": 10
         },
         "mode": "markers+lines",
         "name": "1083900AVP413120016-02 Energy",
         "text": [
          55816.1,
          0
         ],
         "type": "scatter",
         "x": [
          "2023-01-10",
          "2023-01-11"
         ],
         "xaxis": "x",
         "y": [
          55816.1,
          0
         ],
         "yaxis": "y"
        },
        {
         "marker": {
          "color": "blue",
          "size": 10
         },
         "mode": "markers+lines",
         "name": "1083900AVP413120016-02 Productions",
         "text": [
          536,
          816
         ],
         "type": "scatter",
         "x": [
          "2023-01-10",
          "2023-01-11"
         ],
         "xaxis": "x3",
         "y": [
          536,
          816
         ],
         "yaxis": "y3"
        },
        {
         "marker": {
          "color": "blue",
          "size": 10
         },
         "mode": "markers+lines",
         "name": "1083900AVP413120016-02 Stops",
         "text": [
          "Unknown",
          "Sostituzione utensile"
         ],
         "type": "scatter",
         "x": [
          "2023-01-10",
          "2023-01-11"
         ],
         "xaxis": "x2",
         "y": [
          null,
          2
         ],
         "yaxis": "y2"
        },
        {
         "marker": {
          "color": "green",
          "size": 10
         },
         "mode": "markers+lines",
         "name": "1103000PR8160220180 Energy",
         "text": [
          0,
          null,
          155416.5,
          null,
          null,
          null,
          0,
          154561.7,
          157285.8,
          68944.1,
          114587,
          152829.2,
          144785.5,
          144785.5,
          153002.7,
          112584.1,
          112584.1,
          73336.9,
          0.2,
          124744.6
         ],
         "type": "scatter",
         "x": [
          "2023-01-11",
          "2023-01-12",
          "2023-01-13",
          "2023-01-14",
          "2023-01-16",
          "2023-01-17",
          "2023-01-18",
          "2023-01-19",
          "2023-01-20",
          "2023-01-21",
          "2023-01-23",
          "2023-01-24",
          "2023-01-25",
          "2023-01-25",
          "2023-01-26",
          "2023-01-27",
          "2023-01-27",
          "2023-01-28",
          "2023-01-29",
          "2023-01-30"
         ],
         "xaxis": "x",
         "y": [
          0,
          null,
          155416.5,
          null,
          null,
          null,
          0,
          154561.7,
          157285.8,
          68944.1,
          114587,
          152829.2,
          144785.5,
          144785.5,
          153002.7,
          112584.1,
          112584.1,
          73336.9,
          0.2,
          124744.6
         ],
         "yaxis": "y"
        },
        {
         "marker": {
          "color": "green",
          "size": 10
         },
         "mode": "markers+lines",
         "name": "1103000PR8160220180 Productions",
         "text": [
          0,
          1007,
          1751,
          1257,
          1237,
          1844,
          1713,
          1787,
          1776,
          764,
          1204,
          1711,
          1508,
          1508,
          1676,
          661,
          661,
          848,
          0,
          602
         ],
         "type": "scatter",
         "x": [
          "2023-01-11",
          "2023-01-12",
          "2023-01-13",
          "2023-01-14",
          "2023-01-16",
          "2023-01-17",
          "2023-01-18",
          "2023-01-19",
          "2023-01-20",
          "2023-01-21",
          "2023-01-23",
          "2023-01-24",
          "2023-01-25",
          "2023-01-25",
          "2023-01-26",
          "2023-01-27",
          "2023-01-27",
          "2023-01-28",
          "2023-01-29",
          "2023-01-30"
         ],
         "xaxis": "x3",
         "y": [
          0,
          1007,
          1751,
          1257,
          1237,
          1844,
          1713,
          1787,
          1776,
          764,
          1204,
          1711,
          1508,
          1508,
          1676,
          661,
          661,
          848,
          0,
          602
         ],
         "yaxis": "y3"
        },
        {
         "marker": {
          "color": "green",
          "size": 10
         },
         "mode": "markers+lines",
         "name": "1103000PR8160220180 Stops",
         "text": [
          "Sostituzione utensile",
          "Sostituzione utensile",
          "Sostituzione utensile",
          "Unknown",
          "Unknown",
          "Sostituzione utensile",
          "Sostituzione utensile",
          "Sostituzione utensile",
          "Sostituzione utensile",
          "Sostituzione utensile",
          "Sostituzione utensile",
          "Sostituzione utensile",
          "Manutenzione ordinaria",
          "Sostituzione utensile",
          "Sostituzione utensile",
          "Manutenzione ordinaria",
          "Sostituzione utensile",
          "Unknown",
          "Unknown",
          "Sostituzione utensile"
         ],
         "type": "scatter",
         "x": [
          "2023-01-11",
          "2023-01-12",
          "2023-01-13",
          "2023-01-14",
          "2023-01-16",
          "2023-01-17",
          "2023-01-18",
          "2023-01-19",
          "2023-01-20",
          "2023-01-21",
          "2023-01-23",
          "2023-01-24",
          "2023-01-25",
          "2023-01-25",
          "2023-01-26",
          "2023-01-27",
          "2023-01-27",
          "2023-01-28",
          "2023-01-29",
          "2023-01-30"
         ],
         "xaxis": "x2",
         "y": [
          2,
          2,
          2,
          null,
          null,
          1,
          2,
          2,
          3,
          2,
          1,
          2,
          1,
          1,
          3,
          2,
          2,
          null,
          null,
          1
         ],
         "yaxis": "y2"
        },
        {
         "marker": {
          "color": "#FF0000",
          "size": 10
         },
         "mode": "markers+lines",
         "name": "1139000AVP505000142A Energy",
         "text": [
          44509.4,
          53145.5,
          null
         ],
         "type": "scatter",
         "x": [
          "2023-03-03",
          "2023-03-06",
          "2023-03-10"
         ],
         "xaxis": "x",
         "y": [
          44509.4,
          53145.5,
          null
         ],
         "yaxis": "y"
        },
        {
         "marker": {
          "color": "#FF0000",
          "size": 10
         },
         "mode": "markers+lines",
         "name": "1139000AVP505000142A Productions",
         "text": [
          0,
          0,
          0
         ],
         "type": "scatter",
         "x": [
          "2023-03-03",
          "2023-03-06",
          "2023-03-10"
         ],
         "xaxis": "x3",
         "y": [
          0,
          0,
          0
         ],
         "yaxis": "y3"
        },
        {
         "marker": {
          "color": "#FF0000",
          "size": 10
         },
         "mode": "markers+lines",
         "name": "1139000AVP505000142A Stops",
         "text": [
          "Unknown",
          "Unknown",
          "Unknown"
         ],
         "type": "scatter",
         "x": [
          "2023-03-03",
          "2023-03-06",
          "2023-03-10"
         ],
         "xaxis": "x2",
         "y": [
          null,
          null,
          null
         ],
         "yaxis": "y2"
        },
        {
         "marker": {
          "color": "#00FFFF",
          "size": 10
         },
         "mode": "markers+lines",
         "name": "1180100FE5BD 50 Energy",
         "text": [
          53145.5,
          64473.8
         ],
         "type": "scatter",
         "x": [
          "2023-03-06",
          "2023-03-07"
         ],
         "xaxis": "x",
         "y": [
          53145.5,
          64473.8
         ],
         "yaxis": "y"
        },
        {
         "marker": {
          "color": "#00FFFF",
          "size": 10
         },
         "mode": "markers+lines",
         "name": "1180100FE5BD 50 Productions",
         "text": [
          310,
          544
         ],
         "type": "scatter",
         "x": [
          "2023-03-06",
          "2023-03-07"
         ],
         "xaxis": "x3",
         "y": [
          310,
          544
         ],
         "yaxis": "y3"
        },
        {
         "marker": {
          "color": "#00FFFF",
          "size": 10
         },
         "mode": "markers+lines",
         "name": "1180100FE5BD 50 Stops",
         "text": [
          "Unknown",
          "Unknown"
         ],
         "type": "scatter",
         "x": [
          "2023-03-06",
          "2023-03-07"
         ],
         "xaxis": "x2",
         "y": [
          null,
          null
         ],
         "yaxis": "y2"
        },
        {
         "marker": {
          "color": "#FFFF00",
          "size": 10
         },
         "mode": "markers+lines",
         "name": "1166700FE31A13345-00 Energy",
         "text": [
          71654.1,
          null,
          null
         ],
         "type": "scatter",
         "x": [
          "2023-03-08",
          "2023-03-09",
          "2023-03-10"
         ],
         "xaxis": "x",
         "y": [
          71654.1,
          null,
          null
         ],
         "yaxis": "y"
        },
        {
         "marker": {
          "color": "#FFFF00",
          "size": 10
         },
         "mode": "markers+lines",
         "name": "1166700FE31A13345-00 Productions",
         "text": [
          482,
          2300,
          1746
         ],
         "type": "scatter",
         "x": [
          "2023-03-08",
          "2023-03-09",
          "2023-03-10"
         ],
         "xaxis": "x3",
         "y": [
          482,
          2300,
          1746
         ],
         "yaxis": "y3"
        },
        {
         "marker": {
          "color": "#FFFF00",
          "size": 10
         },
         "mode": "markers+lines",
         "name": "1166700FE31A13345-00 Stops",
         "text": [
          "Unknown",
          "Sostituzione utensile",
          "Unknown"
         ],
         "type": "scatter",
         "x": [
          "2023-03-08",
          "2023-03-09",
          "2023-03-10"
         ],
         "xaxis": "x2",
         "y": [
          null,
          2,
          null
         ],
         "yaxis": "y2"
        }
       ],
       "layout": {
        "annotations": [
         {
          "font": {
           "size": 16
          },
          "showarrow": false,
          "text": "Energy Consumption",
          "x": 0.5,
          "xanchor": "center",
          "xref": "paper",
          "y": 1,
          "yanchor": "bottom",
          "yref": "paper"
         },
         {
          "font": {
           "size": 16
          },
          "showarrow": false,
          "text": "Stops",
          "x": 0.5,
          "xanchor": "center",
          "xref": "paper",
          "y": 0.6466666666666667,
          "yanchor": "bottom",
          "yref": "paper"
         },
         {
          "font": {
           "size": 16
          },
          "showarrow": false,
          "text": "Productions",
          "x": 0.5,
          "xanchor": "center",
          "xref": "paper",
          "y": 0.29333333333333333,
          "yanchor": "bottom",
          "yref": "paper"
         }
        ],
        "height": 800,
        "template": {
         "data": {
          "bar": [
           {
            "error_x": {
             "color": "#2a3f5f"
            },
            "error_y": {
             "color": "#2a3f5f"
            },
            "marker": {
             "line": {
              "color": "#E5ECF6",
              "width": 0.5
             },
             "pattern": {
              "fillmode": "overlay",
              "size": 10,
              "solidity": 0.2
             }
            },
            "type": "bar"
           }
          ],
          "barpolar": [
           {
            "marker": {
             "line": {
              "color": "#E5ECF6",
              "width": 0.5
             },
             "pattern": {
              "fillmode": "overlay",
              "size": 10,
              "solidity": 0.2
             }
            },
            "type": "barpolar"
           }
          ],
          "carpet": [
           {
            "aaxis": {
             "endlinecolor": "#2a3f5f",
             "gridcolor": "white",
             "linecolor": "white",
             "minorgridcolor": "white",
             "startlinecolor": "#2a3f5f"
            },
            "baxis": {
             "endlinecolor": "#2a3f5f",
             "gridcolor": "white",
             "linecolor": "white",
             "minorgridcolor": "white",
             "startlinecolor": "#2a3f5f"
            },
            "type": "carpet"
           }
          ],
          "choropleth": [
           {
            "colorbar": {
             "outlinewidth": 0,
             "ticks": ""
            },
            "type": "choropleth"
           }
          ],
          "contour": [
           {
            "colorbar": {
             "outlinewidth": 0,
             "ticks": ""
            },
            "colorscale": [
             [
              0,
              "#0d0887"
             ],
             [
              0.1111111111111111,
              "#46039f"
             ],
             [
              0.2222222222222222,
              "#7201a8"
             ],
             [
              0.3333333333333333,
              "#9c179e"
             ],
             [
              0.4444444444444444,
              "#bd3786"
             ],
             [
              0.5555555555555556,
              "#d8576b"
             ],
             [
              0.6666666666666666,
              "#ed7953"
             ],
             [
              0.7777777777777778,
              "#fb9f3a"
             ],
             [
              0.8888888888888888,
              "#fdca26"
             ],
             [
              1,
              "#f0f921"
             ]
            ],
            "type": "contour"
           }
          ],
          "contourcarpet": [
           {
            "colorbar": {
             "outlinewidth": 0,
             "ticks": ""
            },
            "type": "contourcarpet"
           }
          ],
          "heatmap": [
           {
            "colorbar": {
             "outlinewidth": 0,
             "ticks": ""
            },
            "colorscale": [
             [
              0,
              "#0d0887"
             ],
             [
              0.1111111111111111,
              "#46039f"
             ],
             [
              0.2222222222222222,
              "#7201a8"
             ],
             [
              0.3333333333333333,
              "#9c179e"
             ],
             [
              0.4444444444444444,
              "#bd3786"
             ],
             [
              0.5555555555555556,
              "#d8576b"
             ],
             [
              0.6666666666666666,
              "#ed7953"
             ],
             [
              0.7777777777777778,
              "#fb9f3a"
             ],
             [
              0.8888888888888888,
              "#fdca26"
             ],
             [
              1,
              "#f0f921"
             ]
            ],
            "type": "heatmap"
           }
          ],
          "heatmapgl": [
           {
            "colorbar": {
             "outlinewidth": 0,
             "ticks": ""
            },
            "colorscale": [
             [
              0,
              "#0d0887"
             ],
             [
              0.1111111111111111,
              "#46039f"
             ],
             [
              0.2222222222222222,
              "#7201a8"
             ],
             [
              0.3333333333333333,
              "#9c179e"
             ],
             [
              0.4444444444444444,
              "#bd3786"
             ],
             [
              0.5555555555555556,
              "#d8576b"
             ],
             [
              0.6666666666666666,
              "#ed7953"
             ],
             [
              0.7777777777777778,
              "#fb9f3a"
             ],
             [
              0.8888888888888888,
              "#fdca26"
             ],
             [
              1,
              "#f0f921"
             ]
            ],
            "type": "heatmapgl"
           }
          ],
          "histogram": [
           {
            "marker": {
             "pattern": {
              "fillmode": "overlay",
              "size": 10,
              "solidity": 0.2
             }
            },
            "type": "histogram"
           }
          ],
          "histogram2d": [
           {
            "colorbar": {
             "outlinewidth": 0,
             "ticks": ""
            },
            "colorscale": [
             [
              0,
              "#0d0887"
             ],
             [
              0.1111111111111111,
              "#46039f"
             ],
             [
              0.2222222222222222,
              "#7201a8"
             ],
             [
              0.3333333333333333,
              "#9c179e"
             ],
             [
              0.4444444444444444,
              "#bd3786"
             ],
             [
              0.5555555555555556,
              "#d8576b"
             ],
             [
              0.6666666666666666,
              "#ed7953"
             ],
             [
              0.7777777777777778,
              "#fb9f3a"
             ],
             [
              0.8888888888888888,
              "#fdca26"
             ],
             [
              1,
              "#f0f921"
             ]
            ],
            "type": "histogram2d"
           }
          ],
          "histogram2dcontour": [
           {
            "colorbar": {
             "outlinewidth": 0,
             "ticks": ""
            },
            "colorscale": [
             [
              0,
              "#0d0887"
             ],
             [
              0.1111111111111111,
              "#46039f"
             ],
             [
              0.2222222222222222,
              "#7201a8"
             ],
             [
              0.3333333333333333,
              "#9c179e"
             ],
             [
              0.4444444444444444,
              "#bd3786"
             ],
             [
              0.5555555555555556,
              "#d8576b"
             ],
             [
              0.6666666666666666,
              "#ed7953"
             ],
             [
              0.7777777777777778,
              "#fb9f3a"
             ],
             [
              0.8888888888888888,
              "#fdca26"
             ],
             [
              1,
              "#f0f921"
             ]
            ],
            "type": "histogram2dcontour"
           }
          ],
          "mesh3d": [
           {
            "colorbar": {
             "outlinewidth": 0,
             "ticks": ""
            },
            "type": "mesh3d"
           }
          ],
          "parcoords": [
           {
            "line": {
             "colorbar": {
              "outlinewidth": 0,
              "ticks": ""
             }
            },
            "type": "parcoords"
           }
          ],
          "pie": [
           {
            "automargin": true,
            "type": "pie"
           }
          ],
          "scatter": [
           {
            "fillpattern": {
             "fillmode": "overlay",
             "size": 10,
             "solidity": 0.2
            },
            "type": "scatter"
           }
          ],
          "scatter3d": [
           {
            "line": {
             "colorbar": {
              "outlinewidth": 0,
              "ticks": ""
             }
            },
            "marker": {
             "colorbar": {
              "outlinewidth": 0,
              "ticks": ""
             }
            },
            "type": "scatter3d"
           }
          ],
          "scattercarpet": [
           {
            "marker": {
             "colorbar": {
              "outlinewidth": 0,
              "ticks": ""
             }
            },
            "type": "scattercarpet"
           }
          ],
          "scattergeo": [
           {
            "marker": {
             "colorbar": {
              "outlinewidth": 0,
              "ticks": ""
             }
            },
            "type": "scattergeo"
           }
          ],
          "scattergl": [
           {
            "marker": {
             "colorbar": {
              "outlinewidth": 0,
              "ticks": ""
             }
            },
            "type": "scattergl"
           }
          ],
          "scattermapbox": [
           {
            "marker": {
             "colorbar": {
              "outlinewidth": 0,
              "ticks": ""
             }
            },
            "type": "scattermapbox"
           }
          ],
          "scatterpolar": [
           {
            "marker": {
             "colorbar": {
              "outlinewidth": 0,
              "ticks": ""
             }
            },
            "type": "scatterpolar"
           }
          ],
          "scatterpolargl": [
           {
            "marker": {
             "colorbar": {
              "outlinewidth": 0,
              "ticks": ""
             }
            },
            "type": "scatterpolargl"
           }
          ],
          "scatterternary": [
           {
            "marker": {
             "colorbar": {
              "outlinewidth": 0,
              "ticks": ""
             }
            },
            "type": "scatterternary"
           }
          ],
          "surface": [
           {
            "colorbar": {
             "outlinewidth": 0,
             "ticks": ""
            },
            "colorscale": [
             [
              0,
              "#0d0887"
             ],
             [
              0.1111111111111111,
              "#46039f"
             ],
             [
              0.2222222222222222,
              "#7201a8"
             ],
             [
              0.3333333333333333,
              "#9c179e"
             ],
             [
              0.4444444444444444,
              "#bd3786"
             ],
             [
              0.5555555555555556,
              "#d8576b"
             ],
             [
              0.6666666666666666,
              "#ed7953"
             ],
             [
              0.7777777777777778,
              "#fb9f3a"
             ],
             [
              0.8888888888888888,
              "#fdca26"
             ],
             [
              1,
              "#f0f921"
             ]
            ],
            "type": "surface"
           }
          ],
          "table": [
           {
            "cells": {
             "fill": {
              "color": "#EBF0F8"
             },
             "line": {
              "color": "white"
             }
            },
            "header": {
             "fill": {
              "color": "#C8D4E3"
             },
             "line": {
              "color": "white"
             }
            },
            "type": "table"
           }
          ]
         },
         "layout": {
          "annotationdefaults": {
           "arrowcolor": "#2a3f5f",
           "arrowhead": 0,
           "arrowwidth": 1
          },
          "autotypenumbers": "strict",
          "coloraxis": {
           "colorbar": {
            "outlinewidth": 0,
            "ticks": ""
           }
          },
          "colorscale": {
           "diverging": [
            [
             0,
             "#8e0152"
            ],
            [
             0.1,
             "#c51b7d"
            ],
            [
             0.2,
             "#de77ae"
            ],
            [
             0.3,
             "#f1b6da"
            ],
            [
             0.4,
             "#fde0ef"
            ],
            [
             0.5,
             "#f7f7f7"
            ],
            [
             0.6,
             "#e6f5d0"
            ],
            [
             0.7,
             "#b8e186"
            ],
            [
             0.8,
             "#7fbc41"
            ],
            [
             0.9,
             "#4d9221"
            ],
            [
             1,
             "#276419"
            ]
           ],
           "sequential": [
            [
             0,
             "#0d0887"
            ],
            [
             0.1111111111111111,
             "#46039f"
            ],
            [
             0.2222222222222222,
             "#7201a8"
            ],
            [
             0.3333333333333333,
             "#9c179e"
            ],
            [
             0.4444444444444444,
             "#bd3786"
            ],
            [
             0.5555555555555556,
             "#d8576b"
            ],
            [
             0.6666666666666666,
             "#ed7953"
            ],
            [
             0.7777777777777778,
             "#fb9f3a"
            ],
            [
             0.8888888888888888,
             "#fdca26"
            ],
            [
             1,
             "#f0f921"
            ]
           ],
           "sequentialminus": [
            [
             0,
             "#0d0887"
            ],
            [
             0.1111111111111111,
             "#46039f"
            ],
            [
             0.2222222222222222,
             "#7201a8"
            ],
            [
             0.3333333333333333,
             "#9c179e"
            ],
            [
             0.4444444444444444,
             "#bd3786"
            ],
            [
             0.5555555555555556,
             "#d8576b"
            ],
            [
             0.6666666666666666,
             "#ed7953"
            ],
            [
             0.7777777777777778,
             "#fb9f3a"
            ],
            [
             0.8888888888888888,
             "#fdca26"
            ],
            [
             1,
             "#f0f921"
            ]
           ]
          },
          "colorway": [
           "#636efa",
           "#EF553B",
           "#00cc96",
           "#ab63fa",
           "#FFA15A",
           "#19d3f3",
           "#FF6692",
           "#B6E880",
           "#FF97FF",
           "#FECB52"
          ],
          "font": {
           "color": "#2a3f5f"
          },
          "geo": {
           "bgcolor": "white",
           "lakecolor": "white",
           "landcolor": "#E5ECF6",
           "showlakes": true,
           "showland": true,
           "subunitcolor": "white"
          },
          "hoverlabel": {
           "align": "left"
          },
          "hovermode": "closest",
          "mapbox": {
           "style": "light"
          },
          "paper_bgcolor": "white",
          "plot_bgcolor": "#E5ECF6",
          "polar": {
           "angularaxis": {
            "gridcolor": "white",
            "linecolor": "white",
            "ticks": ""
           },
           "bgcolor": "#E5ECF6",
           "radialaxis": {
            "gridcolor": "white",
            "linecolor": "white",
            "ticks": ""
           }
          },
          "scene": {
           "xaxis": {
            "backgroundcolor": "#E5ECF6",
            "gridcolor": "white",
            "gridwidth": 2,
            "linecolor": "white",
            "showbackground": true,
            "ticks": "",
            "zerolinecolor": "white"
           },
           "yaxis": {
            "backgroundcolor": "#E5ECF6",
            "gridcolor": "white",
            "gridwidth": 2,
            "linecolor": "white",
            "showbackground": true,
            "ticks": "",
            "zerolinecolor": "white"
           },
           "zaxis": {
            "backgroundcolor": "#E5ECF6",
            "gridcolor": "white",
            "gridwidth": 2,
            "linecolor": "white",
            "showbackground": true,
            "ticks": "",
            "zerolinecolor": "white"
           }
          },
          "shapedefaults": {
           "line": {
            "color": "#2a3f5f"
           }
          },
          "ternary": {
           "aaxis": {
            "gridcolor": "white",
            "linecolor": "white",
            "ticks": ""
           },
           "baxis": {
            "gridcolor": "white",
            "linecolor": "white",
            "ticks": ""
           },
           "bgcolor": "#E5ECF6",
           "caxis": {
            "gridcolor": "white",
            "linecolor": "white",
            "ticks": ""
           }
          },
          "title": {
           "x": 0.05
          },
          "xaxis": {
           "automargin": true,
           "gridcolor": "white",
           "linecolor": "white",
           "ticks": "",
           "title": {
            "standoff": 15
           },
           "zerolinecolor": "white",
           "zerolinewidth": 2
          },
          "yaxis": {
           "automargin": true,
           "gridcolor": "white",
           "linecolor": "white",
           "ticks": "",
           "title": {
            "standoff": 15
           },
           "zerolinecolor": "white",
           "zerolinewidth": 2
          }
         }
        },
        "title": {
         "text": "Dataset machine 304"
        },
        "width": 1280,
        "xaxis": {
         "anchor": "y",
         "domain": [
          0,
          1
         ],
         "matches": "x3",
         "showticklabels": false
        },
        "xaxis2": {
         "anchor": "y2",
         "domain": [
          0,
          1
         ],
         "matches": "x3",
         "showticklabels": false
        },
        "xaxis3": {
         "anchor": "y3",
         "domain": [
          0,
          1
         ]
        },
        "yaxis": {
         "anchor": "x",
         "domain": [
          0.7066666666666667,
          1
         ]
        },
        "yaxis2": {
         "anchor": "x2",
         "domain": [
          0.35333333333333333,
          0.6466666666666667
         ]
        },
        "yaxis3": {
         "anchor": "x3",
         "domain": [
          0,
          0.29333333333333333
         ]
        }
       }
      }
     },
     "metadata": {},
     "output_type": "display_data"
    },
    {
     "data": {
      "application/vnd.plotly.v1+json": {
       "config": {
        "plotlyServerURL": "https://plot.ly"
       },
       "data": [
        {
         "marker": {
          "color": "blue",
          "size": 10
         },
         "mode": "markers+lines",
         "name": "1151800AIS16902238 Energy",
         "text": [
          null,
          null,
          null,
          1033861.5,
          1033861.5,
          1022211.2,
          1022211.2,
          null,
          null,
          null,
          null,
          null,
          null,
          null,
          null,
          0,
          180423.3,
          333453.5,
          73707.2,
          0,
          null,
          0,
          null,
          930639.4,
          930639.4,
          null,
          1056838.6,
          1056838.6,
          1043819.1,
          1043819.1,
          125269.1,
          867169.6,
          1012485.3,
          1012485.3,
          1001673.6,
          1001673.6,
          997018.4,
          1026104.7,
          159212.3
         ],
         "type": "scatter",
         "x": [
          "2023-07-29",
          "2023-07-31",
          "2023-08-01",
          "2023-08-02",
          "2023-08-02",
          "2023-08-03",
          "2023-08-03",
          "2023-08-04",
          "2023-08-04",
          "2023-08-07",
          "2023-08-08",
          "2023-08-09",
          "2023-08-10",
          "2023-08-11",
          "2023-08-28",
          "2023-08-29",
          "2023-07-03",
          "2023-07-04",
          "2023-07-05",
          "2023-07-06",
          "2023-07-14",
          "2023-07-15",
          "2023-07-17",
          "2023-07-18",
          "2023-07-18",
          "2023-07-19",
          "2023-07-20",
          "2023-07-20",
          "2023-07-21",
          "2023-07-21",
          "2023-07-22",
          "2023-07-24",
          "2023-07-25",
          "2023-07-25",
          "2023-07-26",
          "2023-07-26",
          "2023-07-27",
          "2023-07-28",
          "2023-07-29"
         ],
         "xaxis": "x",
         "y": [
          null,
          null,
          null,
          1033861.5,
          1033861.5,
          1022211.2,
          1022211.2,
          null,
          null,
          null,
          null,
          null,
          null,
          null,
          null,
          0,
          180423.3,
          333453.5,
          73707.2,
          0,
          null,
          0,
          null,
          930639.4,
          930639.4,
          null,
          1056838.6,
          1056838.6,
          1043819.1,
          1043819.1,
          125269.1,
          867169.6,
          1012485.3,
          1012485.3,
          1001673.6,
          1001673.6,
          997018.4,
          1026104.7,
          159212.3
         ],
         "yaxis": "y"
        },
        {
         "marker": {
          "color": "blue",
          "size": 10
         },
         "mode": "markers+lines",
         "name": "1151800AIS16902238 Productions",
         "text": [
          615,
          2550,
          3713,
          5753,
          5753,
          5133,
          5133,
          4076,
          4076,
          2494,
          3308,
          3474,
          2940,
          8310,
          2130,
          2409,
          0,
          0,
          0,
          0,
          1265,
          1662,
          2405,
          3925,
          3925,
          4072,
          5489,
          5489,
          3143,
          3143,
          1305,
          3669,
          5495,
          5495,
          5460,
          5460,
          4803,
          5707,
          1230
         ],
         "type": "scatter",
         "x": [
          "2023-07-29",
          "2023-07-31",
          "2023-08-01",
          "2023-08-02",
          "2023-08-02",
          "2023-08-03",
          "2023-08-03",
          "2023-08-04",
          "2023-08-04",
          "2023-08-07",
          "2023-08-08",
          "2023-08-09",
          "2023-08-10",
          "2023-08-11",
          "2023-08-28",
          "2023-08-29",
          "2023-07-03",
          "2023-07-04",
          "2023-07-05",
          "2023-07-06",
          "2023-07-14",
          "2023-07-15",
          "2023-07-17",
          "2023-07-18",
          "2023-07-18",
          "2023-07-19",
          "2023-07-20",
          "2023-07-20",
          "2023-07-21",
          "2023-07-21",
          "2023-07-22",
          "2023-07-24",
          "2023-07-25",
          "2023-07-25",
          "2023-07-26",
          "2023-07-26",
          "2023-07-27",
          "2023-07-28",
          "2023-07-29"
         ],
         "xaxis": "x3",
         "y": [
          615,
          2550,
          3713,
          5753,
          5753,
          5133,
          5133,
          4076,
          4076,
          2494,
          3308,
          3474,
          2940,
          8310,
          2130,
          2409,
          0,
          0,
          0,
          0,
          1265,
          1662,
          2405,
          3925,
          3925,
          4072,
          5489,
          5489,
          3143,
          3143,
          1305,
          3669,
          5495,
          5495,
          5460,
          5460,
          4803,
          5707,
          1230
         ],
         "yaxis": "y3"
        },
        {
         "marker": {
          "color": "blue",
          "size": 10
         },
         "mode": "markers+lines",
         "name": "1151800AIS16902238 Stops",
         "text": [
          "Unknown",
          "Unknown",
          "Sostituzione utensile",
          "Manutenzione ordinaria",
          "Sostituzione utensile",
          "Manutenzione ordinaria",
          "Sostituzione utensile",
          "Manutenzione ordinaria",
          "Sostituzione utensile",
          "Sostituzione utensile",
          "Sostituzione utensile",
          "Sostituzione utensile",
          "Sostituzione utensile",
          "Sostituzione utensile",
          "Sostituzione utensile",
          "Sostituzione utensile",
          "Unknown",
          "Unknown",
          "Unknown",
          "Unknown",
          "Unknown",
          "Sostituzione utensile",
          "Sostituzione utensile",
          "Manutenzione ordinaria",
          "Sostituzione utensile",
          "Sostituzione utensile",
          "Manutenzione ordinaria",
          "Sostituzione utensile",
          "Manutenzione ordinaria",
          "Sostituzione utensile",
          "Sostituzione utensile",
          "Sostituzione utensile",
          "Manutenzione ordinaria",
          "Sostituzione utensile",
          "Manutenzione ordinaria",
          "Sostituzione utensile",
          "Sostituzione utensile",
          "Sostituzione utensile",
          "Sostituzione utensile"
         ],
         "type": "scatter",
         "x": [
          "2023-07-29",
          "2023-07-31",
          "2023-08-01",
          "2023-08-02",
          "2023-08-02",
          "2023-08-03",
          "2023-08-03",
          "2023-08-04",
          "2023-08-04",
          "2023-08-07",
          "2023-08-08",
          "2023-08-09",
          "2023-08-10",
          "2023-08-11",
          "2023-08-28",
          "2023-08-29",
          "2023-07-03",
          "2023-07-04",
          "2023-07-05",
          "2023-07-06",
          "2023-07-14",
          "2023-07-15",
          "2023-07-17",
          "2023-07-18",
          "2023-07-18",
          "2023-07-19",
          "2023-07-20",
          "2023-07-20",
          "2023-07-21",
          "2023-07-21",
          "2023-07-22",
          "2023-07-24",
          "2023-07-25",
          "2023-07-25",
          "2023-07-26",
          "2023-07-26",
          "2023-07-27",
          "2023-07-28",
          "2023-07-29"
         ],
         "xaxis": "x2",
         "y": [
          null,
          null,
          4,
          2,
          3,
          1,
          3,
          1,
          3,
          2,
          3,
          4,
          3,
          1,
          3,
          8,
          null,
          null,
          null,
          null,
          null,
          2,
          2,
          1,
          2,
          4,
          1,
          3,
          1,
          5,
          2,
          3,
          1,
          4,
          1,
          4,
          5,
          6,
          2
         ],
         "yaxis": "y2"
        },
        {
         "marker": {
          "color": "black",
          "size": 10
         },
         "mode": "markers+lines",
         "name": "Unknown Energy",
         "text": [
          695.3,
          711.2,
          735.2,
          736.5,
          735.6,
          734.5,
          713.9,
          693.1,
          null,
          0,
          679,
          659.6,
          0,
          1132.3,
          325378.5,
          291691.4,
          200712.3,
          0,
          621.4,
          340.4,
          257.8,
          254.1,
          0,
          184.1,
          147043.9,
          522154.8,
          688234.8,
          688234.8,
          170607.1,
          0,
          0,
          null,
          null,
          null,
          null,
          null,
          null,
          795916,
          null,
          282394.2,
          10761.5,
          1150,
          667.9,
          676490.3,
          676490.3,
          1200.3,
          1170.2,
          null,
          null,
          null,
          null,
          null,
          null,
          null,
          null,
          null,
          0,
          634.1,
          696.3,
          646.1,
          0,
          0
         ],
         "type": "scatter",
         "x": [
          "2023-08-15",
          "2023-08-16",
          "2023-08-17",
          "2023-08-18",
          "2023-08-19",
          "2023-08-20",
          "2023-08-21",
          "2023-08-22",
          "2023-08-30",
          "2023-08-31",
          "2022-12-09",
          "2022-12-10",
          "2022-12-11",
          "2022-12-18",
          "2022-12-21",
          "2022-12-22",
          "2022-12-27",
          "2022-12-31",
          "2023-03-05",
          "2023-03-06",
          "2023-03-07",
          "2023-03-08",
          "2023-03-11",
          "2023-03-14",
          "2023-03-15",
          "2023-03-21",
          "2023-03-22",
          "2023-03-22",
          "2023-03-23",
          "2023-03-24",
          "2023-03-25",
          "2023-03-27",
          "2023-03-27",
          "2023-03-28",
          "2023-03-28",
          "2023-03-29",
          "2023-03-29",
          "2023-03-30",
          "2023-03-31",
          "2023-01-20",
          "2023-01-21",
          "2023-01-22",
          "2023-01-29",
          "2023-01-31",
          "2023-01-31",
          "2023-06-11",
          "2023-06-18",
          "2023-06-23",
          "2023-06-24",
          "2023-06-24",
          "2023-06-26",
          "2023-06-26",
          "2023-06-27",
          "2023-06-27",
          "2023-06-28",
          "2023-06-29",
          "2023-06-30",
          "2023-07-16",
          "2023-07-23",
          "2023-07-30",
          "2023-07-31",
          "2023-07-31"
         ],
         "xaxis": "x",
         "y": [
          695.3,
          711.2,
          735.2,
          736.5,
          735.6,
          734.5,
          713.9,
          693.1,
          null,
          0,
          679,
          659.6,
          0,
          1132.3,
          325378.5,
          291691.4,
          200712.3,
          0,
          621.4,
          340.4,
          257.8,
          254.1,
          0,
          184.1,
          147043.9,
          522154.8,
          688234.8,
          688234.8,
          170607.1,
          0,
          0,
          null,
          null,
          null,
          null,
          null,
          null,
          795916,
          null,
          282394.2,
          10761.5,
          1150,
          667.9,
          676490.3,
          676490.3,
          1200.3,
          1170.2,
          null,
          null,
          null,
          null,
          null,
          null,
          null,
          null,
          null,
          0,
          634.1,
          696.3,
          646.1,
          0,
          0
         ],
         "yaxis": "y"
        },
        {
         "marker": {
          "color": "black",
          "size": 10
         },
         "mode": "markers+lines",
         "name": "Unknown Productions",
         "text": [
          null,
          null,
          null,
          null,
          null,
          null,
          null,
          null,
          null,
          null,
          null,
          null,
          null,
          null,
          null,
          null,
          null,
          null,
          null,
          null,
          null,
          null,
          null,
          null,
          null,
          null,
          null,
          null,
          null,
          null,
          null,
          null,
          null,
          null,
          null,
          null,
          null,
          null,
          null,
          null,
          null,
          null,
          null,
          null,
          null,
          null,
          null,
          null,
          null,
          null,
          null,
          null,
          null,
          null,
          null,
          null,
          null,
          null,
          null,
          null,
          null,
          null
         ],
         "type": "scatter",
         "x": [
          "2023-08-15",
          "2023-08-16",
          "2023-08-17",
          "2023-08-18",
          "2023-08-19",
          "2023-08-20",
          "2023-08-21",
          "2023-08-22",
          "2023-08-30",
          "2023-08-31",
          "2022-12-09",
          "2022-12-10",
          "2022-12-11",
          "2022-12-18",
          "2022-12-21",
          "2022-12-22",
          "2022-12-27",
          "2022-12-31",
          "2023-03-05",
          "2023-03-06",
          "2023-03-07",
          "2023-03-08",
          "2023-03-11",
          "2023-03-14",
          "2023-03-15",
          "2023-03-21",
          "2023-03-22",
          "2023-03-22",
          "2023-03-23",
          "2023-03-24",
          "2023-03-25",
          "2023-03-27",
          "2023-03-27",
          "2023-03-28",
          "2023-03-28",
          "2023-03-29",
          "2023-03-29",
          "2023-03-30",
          "2023-03-31",
          "2023-01-20",
          "2023-01-21",
          "2023-01-22",
          "2023-01-29",
          "2023-01-31",
          "2023-01-31",
          "2023-06-11",
          "2023-06-18",
          "2023-06-23",
          "2023-06-24",
          "2023-06-24",
          "2023-06-26",
          "2023-06-26",
          "2023-06-27",
          "2023-06-27",
          "2023-06-28",
          "2023-06-29",
          "2023-06-30",
          "2023-07-16",
          "2023-07-23",
          "2023-07-30",
          "2023-07-31",
          "2023-07-31"
         ],
         "xaxis": "x3",
         "y": [
          null,
          null,
          null,
          null,
          null,
          null,
          null,
          null,
          null,
          null,
          null,
          null,
          null,
          null,
          null,
          null,
          null,
          null,
          null,
          null,
          null,
          null,
          null,
          null,
          null,
          null,
          null,
          null,
          null,
          null,
          null,
          null,
          null,
          null,
          null,
          null,
          null,
          null,
          null,
          null,
          null,
          null,
          null,
          null,
          null,
          null,
          null,
          null,
          null,
          null,
          null,
          null,
          null,
          null,
          null,
          null,
          null,
          null,
          null,
          null,
          null,
          null
         ],
         "yaxis": "y3"
        },
        {
         "marker": {
          "color": "black",
          "size": 10
         },
         "mode": "markers+lines",
         "name": "Unknown Stops",
         "text": [
          "Unknown",
          "Unknown",
          "Unknown",
          "Unknown",
          "Unknown",
          "Unknown",
          "Unknown",
          "Unknown",
          "Sostituzione utensile",
          "Sostituzione utensile",
          "Unknown",
          "Unknown",
          "Unknown",
          "Unknown",
          "Unknown",
          "Unknown",
          "Unknown",
          "Unknown",
          "Unknown",
          "Unknown",
          "Unknown",
          "Unknown",
          "Unknown",
          "Unknown",
          "Unknown",
          "Sostituzione utensile",
          "Manutenzione ordinaria",
          "Sostituzione utensile",
          "Manutenzione ordinaria",
          "Sostituzione utensile",
          "Sostituzione utensile",
          "Manutenzione ordinaria",
          "Sostituzione utensile",
          "Manutenzione ordinaria",
          "Sostituzione utensile",
          "Manutenzione ordinaria",
          "Sostituzione utensile",
          "Sostituzione utensile",
          "Sostituzione utensile",
          "Unknown",
          "Unknown",
          "Unknown",
          "Unknown",
          "Manutenzione ordinaria",
          "Sostituzione utensile",
          "Unknown",
          "Unknown",
          "Sostituzione utensile",
          "Manutenzione ordinaria",
          "Sostituzione utensile",
          "Manutenzione ordinaria",
          "Sostituzione utensile",
          "Manutenzione ordinaria",
          "Sostituzione utensile",
          "Sostituzione utensile",
          "Sostituzione utensile",
          "Unknown",
          "Unknown",
          "Unknown",
          "Unknown",
          "Manutenzione ordinaria",
          "Sostituzione utensile"
         ],
         "type": "scatter",
         "x": [
          "2023-08-15",
          "2023-08-16",
          "2023-08-17",
          "2023-08-18",
          "2023-08-19",
          "2023-08-20",
          "2023-08-21",
          "2023-08-22",
          "2023-08-30",
          "2023-08-31",
          "2022-12-09",
          "2022-12-10",
          "2022-12-11",
          "2022-12-18",
          "2022-12-21",
          "2022-12-22",
          "2022-12-27",
          "2022-12-31",
          "2023-03-05",
          "2023-03-06",
          "2023-03-07",
          "2023-03-08",
          "2023-03-11",
          "2023-03-14",
          "2023-03-15",
          "2023-03-21",
          "2023-03-22",
          "2023-03-22",
          "2023-03-23",
          "2023-03-24",
          "2023-03-25",
          "2023-03-27",
          "2023-03-27",
          "2023-03-28",
          "2023-03-28",
          "2023-03-29",
          "2023-03-29",
          "2023-03-30",
          "2023-03-31",
          "2023-01-20",
          "2023-01-21",
          "2023-01-22",
          "2023-01-29",
          "2023-01-31",
          "2023-01-31",
          "2023-06-11",
          "2023-06-18",
          "2023-06-23",
          "2023-06-24",
          "2023-06-24",
          "2023-06-26",
          "2023-06-26",
          "2023-06-27",
          "2023-06-27",
          "2023-06-28",
          "2023-06-29",
          "2023-06-30",
          "2023-07-16",
          "2023-07-23",
          "2023-07-30",
          "2023-07-31",
          "2023-07-31"
         ],
         "xaxis": "x2",
         "y": [
          null,
          null,
          null,
          null,
          null,
          null,
          null,
          null,
          7,
          6,
          null,
          null,
          null,
          null,
          null,
          null,
          null,
          null,
          null,
          null,
          null,
          null,
          null,
          null,
          null,
          1,
          4,
          3,
          1,
          1,
          3,
          1,
          4,
          1,
          6,
          3,
          5,
          5,
          5,
          null,
          null,
          null,
          null,
          2,
          1,
          null,
          null,
          3,
          1,
          1,
          1,
          2,
          1,
          3,
          3,
          4,
          null,
          null,
          null,
          null,
          1,
          2
         ],
         "yaxis": "y2"
        },
        {
         "marker": {
          "color": "#FF0000",
          "size": 10
         },
         "mode": "markers+lines",
         "name": "1155900PR8TP.AS.023-L Energy",
         "text": [
          null,
          null,
          null,
          768840.5,
          706650.5,
          null,
          562409,
          562409,
          816507.1,
          797705.7,
          797705.7,
          null,
          618507.5,
          741727.3,
          741727.3,
          283627.2,
          283627.2,
          0,
          678986.8,
          678986.8,
          91504.5,
          518561.8,
          543076.2,
          543076.2
         ],
         "type": "scatter",
         "x": [
          "2022-11-28",
          "2022-11-29",
          "2022-11-30",
          "2022-12-01",
          "2022-12-02",
          "2022-12-03",
          "2022-12-05",
          "2022-12-05",
          "2022-12-06",
          "2022-12-07",
          "2022-12-07",
          "2022-12-08",
          "2022-12-12",
          "2022-12-13",
          "2022-12-13",
          "2022-12-14",
          "2022-12-14",
          "2022-12-15",
          "2022-12-16",
          "2022-12-16",
          "2022-12-17",
          "2022-12-19",
          "2022-12-20",
          "2022-12-20"
         ],
         "xaxis": "x",
         "y": [
          null,
          null,
          null,
          768840.5,
          706650.5,
          null,
          562409,
          562409,
          816507.1,
          797705.7,
          797705.7,
          null,
          618507.5,
          741727.3,
          741727.3,
          283627.2,
          283627.2,
          0,
          678986.8,
          678986.8,
          91504.5,
          518561.8,
          543076.2,
          543076.2
         ],
         "yaxis": "y"
        },
        {
         "marker": {
          "color": "#FF0000",
          "size": 10
         },
         "mode": "markers+lines",
         "name": "1155900PR8TP.AS.023-L Productions",
         "text": [
          4005,
          11159,
          8046,
          11279,
          7191,
          0,
          4157,
          4157,
          11816,
          10749,
          10749,
          2522,
          7409,
          11055,
          11055,
          11567,
          11567,
          11332,
          5128,
          5128,
          0,
          6124,
          4962,
          4962
         ],
         "type": "scatter",
         "x": [
          "2022-11-28",
          "2022-11-29",
          "2022-11-30",
          "2022-12-01",
          "2022-12-02",
          "2022-12-03",
          "2022-12-05",
          "2022-12-05",
          "2022-12-06",
          "2022-12-07",
          "2022-12-07",
          "2022-12-08",
          "2022-12-12",
          "2022-12-13",
          "2022-12-13",
          "2022-12-14",
          "2022-12-14",
          "2022-12-15",
          "2022-12-16",
          "2022-12-16",
          "2022-12-17",
          "2022-12-19",
          "2022-12-20",
          "2022-12-20"
         ],
         "xaxis": "x3",
         "y": [
          4005,
          11159,
          8046,
          11279,
          7191,
          0,
          4157,
          4157,
          11816,
          10749,
          10749,
          2522,
          7409,
          11055,
          11055,
          11567,
          11567,
          11332,
          5128,
          5128,
          0,
          6124,
          4962,
          4962
         ],
         "yaxis": "y3"
        },
        {
         "marker": {
          "color": "#FF0000",
          "size": 10
         },
         "mode": "markers+lines",
         "name": "1155900PR8TP.AS.023-L Stops",
         "text": [
          "Unknown",
          "Unknown",
          "Unknown",
          "Sostituzione utensile",
          "Sostituzione utensile",
          "Unknown",
          "Manutenzione ordinaria",
          "Sostituzione utensile",
          "Sostituzione utensile",
          "Manutenzione ordinaria",
          "Sostituzione utensile",
          "Manutenzione ordinaria",
          "Sostituzione utensile",
          "Manutenzione ordinaria",
          "Sostituzione utensile",
          "Manutenzione ordinaria",
          "Sostituzione utensile",
          "Sostituzione utensile",
          "Manutenzione ordinaria",
          "Sostituzione utensile",
          "Sostituzione utensile",
          "Sostituzione utensile",
          "Manutenzione ordinaria",
          "Sostituzione utensile"
         ],
         "type": "scatter",
         "x": [
          "2022-11-28",
          "2022-11-29",
          "2022-11-30",
          "2022-12-01",
          "2022-12-02",
          "2022-12-03",
          "2022-12-05",
          "2022-12-05",
          "2022-12-06",
          "2022-12-07",
          "2022-12-07",
          "2022-12-08",
          "2022-12-12",
          "2022-12-13",
          "2022-12-13",
          "2022-12-14",
          "2022-12-14",
          "2022-12-15",
          "2022-12-16",
          "2022-12-16",
          "2022-12-17",
          "2022-12-19",
          "2022-12-20",
          "2022-12-20"
         ],
         "xaxis": "x2",
         "y": [
          null,
          null,
          null,
          2,
          2,
          null,
          3,
          2,
          5,
          1,
          6,
          1,
          3,
          2,
          4,
          1,
          2,
          3,
          1,
          3,
          1,
          4,
          1,
          3
         ],
         "yaxis": "y2"
        },
        {
         "marker": {
          "color": "#00FFFF",
          "size": 10
         },
         "mode": "markers+lines",
         "name": "1103000FE3117050380 Energy",
         "text": [
          853.2,
          856.7,
          844.9,
          null,
          null,
          824.6,
          814.6,
          816.5,
          814.4,
          812.5,
          810.3,
          811.4,
          239694.5,
          669208.3,
          669208.3,
          624620.9,
          624620.9,
          0,
          0,
          null,
          null,
          716835.7,
          716835.7,
          null,
          null,
          null,
          null,
          0
         ],
         "type": "scatter",
         "x": [
          "2022-12-28",
          "2022-12-29",
          "2022-12-30",
          "2022-12-30",
          "2022-12-31",
          "2023-01-01",
          "2023-01-02",
          "2023-01-03",
          "2023-01-04",
          "2023-01-05",
          "2023-01-06",
          "2023-01-07",
          "2023-01-08",
          "2023-01-09",
          "2023-01-09",
          "2023-01-10",
          "2023-01-10",
          "2023-01-11",
          "2023-01-11",
          "2023-01-12",
          "2023-01-12",
          "2023-01-13",
          "2023-01-13",
          "2023-01-14",
          "2023-01-16",
          "2023-01-17",
          "2023-01-17",
          "2023-01-18"
         ],
         "xaxis": "x",
         "y": [
          853.2,
          856.7,
          844.9,
          null,
          null,
          824.6,
          814.6,
          816.5,
          814.4,
          812.5,
          810.3,
          811.4,
          239694.5,
          669208.3,
          669208.3,
          624620.9,
          624620.9,
          0,
          0,
          null,
          null,
          716835.7,
          716835.7,
          null,
          null,
          null,
          null,
          0
         ],
         "yaxis": "y"
        },
        {
         "marker": {
          "color": "#00FFFF",
          "size": 10
         },
         "mode": "markers+lines",
         "name": "1103000FE3117050380 Productions",
         "text": [
          0,
          0,
          0,
          0,
          0,
          0,
          0,
          0,
          0,
          0,
          0,
          0,
          0,
          6711,
          6711,
          6802,
          6802,
          10065,
          10065,
          9214,
          9214,
          8917,
          8917,
          2604,
          6218,
          10570,
          10570,
          766
         ],
         "type": "scatter",
         "x": [
          "2022-12-28",
          "2022-12-29",
          "2022-12-30",
          "2022-12-30",
          "2022-12-31",
          "2023-01-01",
          "2023-01-02",
          "2023-01-03",
          "2023-01-04",
          "2023-01-05",
          "2023-01-06",
          "2023-01-07",
          "2023-01-08",
          "2023-01-09",
          "2023-01-09",
          "2023-01-10",
          "2023-01-10",
          "2023-01-11",
          "2023-01-11",
          "2023-01-12",
          "2023-01-12",
          "2023-01-13",
          "2023-01-13",
          "2023-01-14",
          "2023-01-16",
          "2023-01-17",
          "2023-01-17",
          "2023-01-18"
         ],
         "xaxis": "x3",
         "y": [
          0,
          0,
          0,
          0,
          0,
          0,
          0,
          0,
          0,
          0,
          0,
          0,
          0,
          6711,
          6711,
          6802,
          6802,
          10065,
          10065,
          9214,
          9214,
          8917,
          8917,
          2604,
          6218,
          10570,
          10570,
          766
         ],
         "yaxis": "y3"
        },
        {
         "marker": {
          "color": "#00FFFF",
          "size": 10
         },
         "mode": "markers+lines",
         "name": "1103000FE3117050380 Stops",
         "text": [
          "Unknown",
          "Unknown",
          "Unknown",
          "Unknown",
          "Unknown",
          "Unknown",
          "Unknown",
          "Unknown",
          "Unknown",
          "Unknown",
          "Unknown",
          "Unknown",
          "Unknown",
          "Manutenzione ordinaria",
          "Sostituzione utensile",
          "Manutenzione ordinaria",
          "Sostituzione utensile",
          "Manutenzione ordinaria",
          "Sostituzione utensile",
          "Manutenzione straordinaria",
          "Sostituzione utensile",
          "Manutenzione ordinaria",
          "Sostituzione utensile",
          "Sostituzione utensile",
          "Sostituzione utensile",
          "Manutenzione ordinaria",
          "Sostituzione utensile",
          "Unknown"
         ],
         "type": "scatter",
         "x": [
          "2022-12-28",
          "2022-12-29",
          "2022-12-30",
          "2022-12-30",
          "2022-12-31",
          "2023-01-01",
          "2023-01-02",
          "2023-01-03",
          "2023-01-04",
          "2023-01-05",
          "2023-01-06",
          "2023-01-07",
          "2023-01-08",
          "2023-01-09",
          "2023-01-09",
          "2023-01-10",
          "2023-01-10",
          "2023-01-11",
          "2023-01-11",
          "2023-01-12",
          "2023-01-12",
          "2023-01-13",
          "2023-01-13",
          "2023-01-14",
          "2023-01-16",
          "2023-01-17",
          "2023-01-17",
          "2023-01-18"
         ],
         "xaxis": "x2",
         "y": [
          null,
          null,
          null,
          null,
          null,
          null,
          null,
          null,
          null,
          null,
          null,
          null,
          null,
          1,
          2,
          1,
          7,
          1,
          6,
          1,
          7,
          1,
          5,
          1,
          6,
          1,
          5,
          null
         ],
         "yaxis": "y2"
        },
        {
         "marker": {
          "color": "#FFFF00",
          "size": 10
         },
         "mode": "markers+lines",
         "name": "11518001005032309001 Energy",
         "text": [
          null,
          null,
          702786.7,
          null,
          null,
          714479.8,
          160187.3
         ],
         "type": "scatter",
         "x": [
          "2023-02-27",
          "2023-02-28",
          "2023-03-01",
          "2023-03-02",
          "2023-03-02",
          "2023-03-03",
          "2023-03-04"
         ],
         "xaxis": "x",
         "y": [
          null,
          null,
          702786.7,
          null,
          null,
          714479.8,
          160187.3
         ],
         "yaxis": "y"
        },
        {
         "marker": {
          "color": "#FFFF00",
          "size": 10
         },
         "mode": "markers+lines",
         "name": "11518001005032309001 Productions",
         "text": [
          4086,
          12081,
          11446,
          11228,
          11228,
          11058,
          1299
         ],
         "type": "scatter",
         "x": [
          "2023-02-27",
          "2023-02-28",
          "2023-03-01",
          "2023-03-02",
          "2023-03-02",
          "2023-03-03",
          "2023-03-04"
         ],
         "xaxis": "x3",
         "y": [
          4086,
          12081,
          11446,
          11228,
          11228,
          11058,
          1299
         ],
         "yaxis": "y3"
        },
        {
         "marker": {
          "color": "#FFFF00",
          "size": 10
         },
         "mode": "markers+lines",
         "name": "11518001005032309001 Stops",
         "text": [
          "Unknown",
          "Unknown",
          "Unknown",
          "Manutenzione ordinaria",
          "Sostituzione utensile",
          "Sostituzione utensile",
          "Unknown"
         ],
         "type": "scatter",
         "x": [
          "2023-02-27",
          "2023-02-28",
          "2023-03-01",
          "2023-03-02",
          "2023-03-02",
          "2023-03-03",
          "2023-03-04"
         ],
         "xaxis": "x2",
         "y": [
          null,
          null,
          null,
          1,
          9,
          8,
          null
         ],
         "yaxis": "y2"
        },
        {
         "marker": {
          "color": "#880000",
          "size": 10
         },
         "mode": "markers+lines",
         "name": "1156200FE3117051650 Energy",
         "text": [
          510708.7
         ],
         "type": "scatter",
         "x": [
          "2023-01-19"
         ],
         "xaxis": "x",
         "y": [
          510708.7
         ],
         "yaxis": "y"
        },
        {
         "marker": {
          "color": "#880000",
          "size": 10
         },
         "mode": "markers+lines",
         "name": "1156200FE3117051650 Productions",
         "text": [
          2220
         ],
         "type": "scatter",
         "x": [
          "2023-01-19"
         ],
         "xaxis": "x3",
         "y": [
          2220
         ],
         "yaxis": "y3"
        },
        {
         "marker": {
          "color": "#880000",
          "size": 10
         },
         "mode": "markers+lines",
         "name": "1156200FE3117051650 Stops",
         "text": [
          "Sostituzione utensile"
         ],
         "type": "scatter",
         "x": [
          "2023-01-19"
         ],
         "xaxis": "x2",
         "y": [
          2
         ],
         "yaxis": "y2"
        },
        {
         "marker": {
          "color": "blue",
          "size": 10
         },
         "mode": "markers+lines",
         "name": "1156200FE3117051660 Energy",
         "text": [
          510708.7
         ],
         "type": "scatter",
         "x": [
          "2023-01-19"
         ],
         "xaxis": "x",
         "y": [
          510708.7
         ],
         "yaxis": "y"
        },
        {
         "marker": {
          "color": "blue",
          "size": 10
         },
         "mode": "markers+lines",
         "name": "1156200FE3117051660 Productions",
         "text": [
          2503
         ],
         "type": "scatter",
         "x": [
          "2023-01-19"
         ],
         "xaxis": "x3",
         "y": [
          2503
         ],
         "yaxis": "y3"
        },
        {
         "marker": {
          "color": "blue",
          "size": 10
         },
         "mode": "markers+lines",
         "name": "1156200FE3117051660 Stops",
         "text": [
          "Sostituzione utensile"
         ],
         "type": "scatter",
         "x": [
          "2023-01-19"
         ],
         "xaxis": "x2",
         "y": [
          2
         ],
         "yaxis": "y2"
        },
        {
         "marker": {
          "color": "green",
          "size": 10
         },
         "mode": "markers+lines",
         "name": "1103000FE3117020080 Energy",
         "text": [
          242573.8,
          242573.8,
          723374,
          717351.4,
          724637.1,
          653286.9,
          653286.9
         ],
         "type": "scatter",
         "x": [
          "2023-01-23",
          "2023-01-23",
          "2023-01-24",
          "2023-01-25",
          "2023-01-26",
          "2023-01-27",
          "2023-01-27"
         ],
         "xaxis": "x",
         "y": [
          242573.8,
          242573.8,
          723374,
          717351.4,
          724637.1,
          653286.9,
          653286.9
         ],
         "yaxis": "y"
        },
        {
         "marker": {
          "color": "green",
          "size": 10
         },
         "mode": "markers+lines",
         "name": "1103000FE3117020080 Productions",
         "text": [
          1256,
          1256,
          11682,
          11175,
          11172,
          5326,
          5326
         ],
         "type": "scatter",
         "x": [
          "2023-01-23",
          "2023-01-23",
          "2023-01-24",
          "2023-01-25",
          "2023-01-26",
          "2023-01-27",
          "2023-01-27"
         ],
         "xaxis": "x3",
         "y": [
          1256,
          1256,
          11682,
          11175,
          11172,
          5326,
          5326
         ],
         "yaxis": "y3"
        },
        {
         "marker": {
          "color": "green",
          "size": 10
         },
         "mode": "markers+lines",
         "name": "1103000FE3117020080 Stops",
         "text": [
          "Manutenzione ordinaria",
          "Sostituzione utensile",
          "Sostituzione utensile",
          "Sostituzione utensile",
          "Sostituzione utensile",
          "Manutenzione ordinaria",
          "Sostituzione utensile"
         ],
         "type": "scatter",
         "x": [
          "2023-01-23",
          "2023-01-23",
          "2023-01-24",
          "2023-01-25",
          "2023-01-26",
          "2023-01-27",
          "2023-01-27"
         ],
         "xaxis": "x2",
         "y": [
          1,
          1,
          9,
          5,
          6,
          1,
          3
         ],
         "yaxis": "y2"
        },
        {
         "marker": {
          "color": "#FF0000",
          "size": 10
         },
         "mode": "markers+lines",
         "name": "1139000ALL507200048 Energy",
         "text": [
          653286.9,
          653286.9,
          154076.1,
          583989.3
         ],
         "type": "scatter",
         "x": [
          "2023-01-27",
          "2023-01-27",
          "2023-01-28",
          "2023-01-30"
         ],
         "xaxis": "x",
         "y": [
          653286.9,
          653286.9,
          154076.1,
          583989.3
         ],
         "yaxis": "y"
        },
        {
         "marker": {
          "color": "#FF0000",
          "size": 10
         },
         "mode": "markers+lines",
         "name": "1139000ALL507200048 Productions",
         "text": [
          1940,
          1940,
          3756,
          5300
         ],
         "type": "scatter",
         "x": [
          "2023-01-27",
          "2023-01-27",
          "2023-01-28",
          "2023-01-30"
         ],
         "xaxis": "x3",
         "y": [
          1940,
          1940,
          3756,
          5300
         ],
         "yaxis": "y3"
        },
        {
         "marker": {
          "color": "#FF0000",
          "size": 10
         },
         "mode": "markers+lines",
         "name": "1139000ALL507200048 Stops",
         "text": [
          "Manutenzione ordinaria",
          "Sostituzione utensile",
          "Unknown",
          "Unknown"
         ],
         "type": "scatter",
         "x": [
          "2023-01-27",
          "2023-01-27",
          "2023-01-28",
          "2023-01-30"
         ],
         "xaxis": "x2",
         "y": [
          1,
          3,
          null,
          null
         ],
         "yaxis": "y2"
        },
        {
         "marker": {
          "color": "#00FFFF",
          "size": 10
         },
         "mode": "markers+lines",
         "name": "1139000AVP515300050A Energy",
         "text": [
          null,
          null,
          null,
          null,
          null,
          null,
          720819.8,
          345756.8,
          null
         ],
         "type": "scatter",
         "x": [
          "2023-05-30",
          "2023-05-31",
          "2023-06-01",
          "2023-06-02",
          "2023-06-05",
          "2023-06-06",
          "2023-06-07",
          "2023-06-08",
          "2023-06-09"
         ],
         "xaxis": "x",
         "y": [
          null,
          null,
          null,
          null,
          null,
          null,
          720819.8,
          345756.8,
          null
         ],
         "yaxis": "y"
        },
        {
         "marker": {
          "color": "#00FFFF",
          "size": 10
         },
         "mode": "markers+lines",
         "name": "1139000AVP515300050A Productions",
         "text": [
          5344,
          1834,
          2041,
          1112,
          3360,
          4726,
          3649,
          1213,
          69
         ],
         "type": "scatter",
         "x": [
          "2023-05-30",
          "2023-05-31",
          "2023-06-01",
          "2023-06-02",
          "2023-06-05",
          "2023-06-06",
          "2023-06-07",
          "2023-06-08",
          "2023-06-09"
         ],
         "xaxis": "x3",
         "y": [
          5344,
          1834,
          2041,
          1112,
          3360,
          4726,
          3649,
          1213,
          69
         ],
         "yaxis": "y3"
        },
        {
         "marker": {
          "color": "#00FFFF",
          "size": 10
         },
         "mode": "markers+lines",
         "name": "1139000AVP515300050A Stops",
         "text": [
          "Unknown",
          "Unknown",
          "Unknown",
          "Unknown",
          "Sostituzione utensile",
          "Sostituzione utensile",
          "Sostituzione utensile",
          "Unknown",
          "Manutenzione ordinaria"
         ],
         "type": "scatter",
         "x": [
          "2023-05-30",
          "2023-05-31",
          "2023-06-01",
          "2023-06-02",
          "2023-06-05",
          "2023-06-06",
          "2023-06-07",
          "2023-06-08",
          "2023-06-09"
         ],
         "xaxis": "x2",
         "y": [
          null,
          null,
          null,
          null,
          2,
          2,
          4,
          null,
          3
         ],
         "yaxis": "y2"
        },
        {
         "marker": {
          "color": "#FFFF00",
          "size": 10
         },
         "mode": "markers+lines",
         "name": "1139000AVP515300065A Energy",
         "text": [
          null,
          323946.3,
          323946.3,
          648760.8,
          738916.4,
          738916.4,
          776033.3,
          776033.3,
          null,
          null,
          799187.2,
          301687.4
         ],
         "type": "scatter",
         "x": [
          "2023-06-09",
          "2023-06-10",
          "2023-06-10",
          "2023-06-12",
          "2023-06-13",
          "2023-06-13",
          "2023-06-14",
          "2023-06-14",
          "2023-06-15",
          "2023-06-15",
          "2023-06-16",
          "2023-06-17"
         ],
         "xaxis": "x",
         "y": [
          null,
          323946.3,
          323946.3,
          648760.8,
          738916.4,
          738916.4,
          776033.3,
          776033.3,
          null,
          null,
          799187.2,
          301687.4
         ],
         "yaxis": "y"
        },
        {
         "marker": {
          "color": "#FFFF00",
          "size": 10
         },
         "mode": "markers+lines",
         "name": "1139000AVP515300065A Productions",
         "text": [
          992,
          998,
          998,
          1462,
          7192,
          7192,
          2430,
          2430,
          1665,
          1665,
          4822,
          2490
         ],
         "type": "scatter",
         "x": [
          "2023-06-09",
          "2023-06-10",
          "2023-06-10",
          "2023-06-12",
          "2023-06-13",
          "2023-06-13",
          "2023-06-14",
          "2023-06-14",
          "2023-06-15",
          "2023-06-15",
          "2023-06-16",
          "2023-06-17"
         ],
         "xaxis": "x3",
         "y": [
          992,
          998,
          998,
          1462,
          7192,
          7192,
          2430,
          2430,
          1665,
          1665,
          4822,
          2490
         ],
         "yaxis": "y3"
        },
        {
         "marker": {
          "color": "#FFFF00",
          "size": 10
         },
         "mode": "markers+lines",
         "name": "1139000AVP515300065A Stops",
         "text": [
          "Manutenzione ordinaria",
          "Manutenzione ordinaria",
          "Sostituzione utensile",
          "Unknown",
          "Manutenzione ordinaria",
          "Sostituzione utensile",
          "Manutenzione ordinaria",
          "Sostituzione utensile",
          "Manutenzione ordinaria",
          "Sostituzione utensile",
          "Sostituzione utensile",
          "Sostituzione utensile"
         ],
         "type": "scatter",
         "x": [
          "2023-06-09",
          "2023-06-10",
          "2023-06-10",
          "2023-06-12",
          "2023-06-13",
          "2023-06-13",
          "2023-06-14",
          "2023-06-14",
          "2023-06-15",
          "2023-06-15",
          "2023-06-16",
          "2023-06-17"
         ],
         "xaxis": "x2",
         "y": [
          3,
          1,
          1,
          null,
          1,
          2,
          1,
          2,
          2,
          1,
          2,
          1
         ],
         "yaxis": "y2"
        },
        {
         "marker": {
          "color": "#880000",
          "size": 10
         },
         "mode": "markers+lines",
         "name": "1139000AVP515300066A Energy",
         "text": [
          301687.4,
          670988.2,
          853570.3,
          0,
          895689,
          null,
          null,
          null,
          null,
          null,
          null,
          null,
          null
         ],
         "type": "scatter",
         "x": [
          "2023-06-17",
          "2023-06-19",
          "2023-06-20",
          "2023-06-21",
          "2023-06-22",
          "2023-06-22",
          "2023-06-23",
          "2023-06-24",
          "2023-06-26",
          "2023-06-27",
          "2023-06-28",
          "2023-06-29",
          "2023-06-30"
         ],
         "xaxis": "x",
         "y": [
          301687.4,
          670988.2,
          853570.3,
          0,
          895689,
          null,
          null,
          null,
          null,
          null,
          null,
          null,
          null
         ],
         "yaxis": "y"
        },
        {
         "marker": {
          "color": "#880000",
          "size": 10
         },
         "mode": "markers+lines",
         "name": "1139000AVP515300066A Productions",
         "text": [
          0,
          3308,
          5211,
          5039,
          2499,
          2709,
          5345,
          3465,
          3422,
          4967,
          4748,
          4145,
          414
         ],
         "type": "scatter",
         "x": [
          "2023-06-17",
          "2023-06-19",
          "2023-06-20",
          "2023-06-21",
          "2023-06-22",
          "2023-06-22",
          "2023-06-23",
          "2023-06-24",
          "2023-06-26",
          "2023-06-27",
          "2023-06-28",
          "2023-06-29",
          "2023-06-30"
         ],
         "xaxis": "x3",
         "y": [
          0,
          3308,
          5211,
          5039,
          2499,
          2709,
          5345,
          3465,
          3422,
          4967,
          4748,
          4145,
          414
         ],
         "yaxis": "y3"
        },
        {
         "marker": {
          "color": "#880000",
          "size": 10
         },
         "mode": "markers+lines",
         "name": "1139000AVP515300066A Stops",
         "text": [
          "Sostituzione utensile",
          "Sostituzione utensile",
          "Sostituzione utensile",
          "Sostituzione utensile",
          "Sostituzione utensile",
          "Unknown",
          "Unknown",
          "Unknown",
          "Unknown",
          "Unknown",
          "Unknown",
          "Unknown",
          "Unknown"
         ],
         "type": "scatter",
         "x": [
          "2023-06-17",
          "2023-06-19",
          "2023-06-20",
          "2023-06-21",
          "2023-06-22",
          "2023-06-22",
          "2023-06-23",
          "2023-06-24",
          "2023-06-26",
          "2023-06-27",
          "2023-06-28",
          "2023-06-29",
          "2023-06-30"
         ],
         "xaxis": "x2",
         "y": [
          1,
          1,
          3,
          3,
          3,
          null,
          null,
          null,
          null,
          null,
          null,
          null,
          null
         ],
         "yaxis": "y2"
        }
       ],
       "layout": {
        "annotations": [
         {
          "font": {
           "size": 16
          },
          "showarrow": false,
          "text": "Energy Consumption",
          "x": 0.5,
          "xanchor": "center",
          "xref": "paper",
          "y": 1,
          "yanchor": "bottom",
          "yref": "paper"
         },
         {
          "font": {
           "size": 16
          },
          "showarrow": false,
          "text": "Stops",
          "x": 0.5,
          "xanchor": "center",
          "xref": "paper",
          "y": 0.6466666666666667,
          "yanchor": "bottom",
          "yref": "paper"
         },
         {
          "font": {
           "size": 16
          },
          "showarrow": false,
          "text": "Productions",
          "x": 0.5,
          "xanchor": "center",
          "xref": "paper",
          "y": 0.29333333333333333,
          "yanchor": "bottom",
          "yref": "paper"
         }
        ],
        "height": 800,
        "template": {
         "data": {
          "bar": [
           {
            "error_x": {
             "color": "#2a3f5f"
            },
            "error_y": {
             "color": "#2a3f5f"
            },
            "marker": {
             "line": {
              "color": "#E5ECF6",
              "width": 0.5
             },
             "pattern": {
              "fillmode": "overlay",
              "size": 10,
              "solidity": 0.2
             }
            },
            "type": "bar"
           }
          ],
          "barpolar": [
           {
            "marker": {
             "line": {
              "color": "#E5ECF6",
              "width": 0.5
             },
             "pattern": {
              "fillmode": "overlay",
              "size": 10,
              "solidity": 0.2
             }
            },
            "type": "barpolar"
           }
          ],
          "carpet": [
           {
            "aaxis": {
             "endlinecolor": "#2a3f5f",
             "gridcolor": "white",
             "linecolor": "white",
             "minorgridcolor": "white",
             "startlinecolor": "#2a3f5f"
            },
            "baxis": {
             "endlinecolor": "#2a3f5f",
             "gridcolor": "white",
             "linecolor": "white",
             "minorgridcolor": "white",
             "startlinecolor": "#2a3f5f"
            },
            "type": "carpet"
           }
          ],
          "choropleth": [
           {
            "colorbar": {
             "outlinewidth": 0,
             "ticks": ""
            },
            "type": "choropleth"
           }
          ],
          "contour": [
           {
            "colorbar": {
             "outlinewidth": 0,
             "ticks": ""
            },
            "colorscale": [
             [
              0,
              "#0d0887"
             ],
             [
              0.1111111111111111,
              "#46039f"
             ],
             [
              0.2222222222222222,
              "#7201a8"
             ],
             [
              0.3333333333333333,
              "#9c179e"
             ],
             [
              0.4444444444444444,
              "#bd3786"
             ],
             [
              0.5555555555555556,
              "#d8576b"
             ],
             [
              0.6666666666666666,
              "#ed7953"
             ],
             [
              0.7777777777777778,
              "#fb9f3a"
             ],
             [
              0.8888888888888888,
              "#fdca26"
             ],
             [
              1,
              "#f0f921"
             ]
            ],
            "type": "contour"
           }
          ],
          "contourcarpet": [
           {
            "colorbar": {
             "outlinewidth": 0,
             "ticks": ""
            },
            "type": "contourcarpet"
           }
          ],
          "heatmap": [
           {
            "colorbar": {
             "outlinewidth": 0,
             "ticks": ""
            },
            "colorscale": [
             [
              0,
              "#0d0887"
             ],
             [
              0.1111111111111111,
              "#46039f"
             ],
             [
              0.2222222222222222,
              "#7201a8"
             ],
             [
              0.3333333333333333,
              "#9c179e"
             ],
             [
              0.4444444444444444,
              "#bd3786"
             ],
             [
              0.5555555555555556,
              "#d8576b"
             ],
             [
              0.6666666666666666,
              "#ed7953"
             ],
             [
              0.7777777777777778,
              "#fb9f3a"
             ],
             [
              0.8888888888888888,
              "#fdca26"
             ],
             [
              1,
              "#f0f921"
             ]
            ],
            "type": "heatmap"
           }
          ],
          "heatmapgl": [
           {
            "colorbar": {
             "outlinewidth": 0,
             "ticks": ""
            },
            "colorscale": [
             [
              0,
              "#0d0887"
             ],
             [
              0.1111111111111111,
              "#46039f"
             ],
             [
              0.2222222222222222,
              "#7201a8"
             ],
             [
              0.3333333333333333,
              "#9c179e"
             ],
             [
              0.4444444444444444,
              "#bd3786"
             ],
             [
              0.5555555555555556,
              "#d8576b"
             ],
             [
              0.6666666666666666,
              "#ed7953"
             ],
             [
              0.7777777777777778,
              "#fb9f3a"
             ],
             [
              0.8888888888888888,
              "#fdca26"
             ],
             [
              1,
              "#f0f921"
             ]
            ],
            "type": "heatmapgl"
           }
          ],
          "histogram": [
           {
            "marker": {
             "pattern": {
              "fillmode": "overlay",
              "size": 10,
              "solidity": 0.2
             }
            },
            "type": "histogram"
           }
          ],
          "histogram2d": [
           {
            "colorbar": {
             "outlinewidth": 0,
             "ticks": ""
            },
            "colorscale": [
             [
              0,
              "#0d0887"
             ],
             [
              0.1111111111111111,
              "#46039f"
             ],
             [
              0.2222222222222222,
              "#7201a8"
             ],
             [
              0.3333333333333333,
              "#9c179e"
             ],
             [
              0.4444444444444444,
              "#bd3786"
             ],
             [
              0.5555555555555556,
              "#d8576b"
             ],
             [
              0.6666666666666666,
              "#ed7953"
             ],
             [
              0.7777777777777778,
              "#fb9f3a"
             ],
             [
              0.8888888888888888,
              "#fdca26"
             ],
             [
              1,
              "#f0f921"
             ]
            ],
            "type": "histogram2d"
           }
          ],
          "histogram2dcontour": [
           {
            "colorbar": {
             "outlinewidth": 0,
             "ticks": ""
            },
            "colorscale": [
             [
              0,
              "#0d0887"
             ],
             [
              0.1111111111111111,
              "#46039f"
             ],
             [
              0.2222222222222222,
              "#7201a8"
             ],
             [
              0.3333333333333333,
              "#9c179e"
             ],
             [
              0.4444444444444444,
              "#bd3786"
             ],
             [
              0.5555555555555556,
              "#d8576b"
             ],
             [
              0.6666666666666666,
              "#ed7953"
             ],
             [
              0.7777777777777778,
              "#fb9f3a"
             ],
             [
              0.8888888888888888,
              "#fdca26"
             ],
             [
              1,
              "#f0f921"
             ]
            ],
            "type": "histogram2dcontour"
           }
          ],
          "mesh3d": [
           {
            "colorbar": {
             "outlinewidth": 0,
             "ticks": ""
            },
            "type": "mesh3d"
           }
          ],
          "parcoords": [
           {
            "line": {
             "colorbar": {
              "outlinewidth": 0,
              "ticks": ""
             }
            },
            "type": "parcoords"
           }
          ],
          "pie": [
           {
            "automargin": true,
            "type": "pie"
           }
          ],
          "scatter": [
           {
            "fillpattern": {
             "fillmode": "overlay",
             "size": 10,
             "solidity": 0.2
            },
            "type": "scatter"
           }
          ],
          "scatter3d": [
           {
            "line": {
             "colorbar": {
              "outlinewidth": 0,
              "ticks": ""
             }
            },
            "marker": {
             "colorbar": {
              "outlinewidth": 0,
              "ticks": ""
             }
            },
            "type": "scatter3d"
           }
          ],
          "scattercarpet": [
           {
            "marker": {
             "colorbar": {
              "outlinewidth": 0,
              "ticks": ""
             }
            },
            "type": "scattercarpet"
           }
          ],
          "scattergeo": [
           {
            "marker": {
             "colorbar": {
              "outlinewidth": 0,
              "ticks": ""
             }
            },
            "type": "scattergeo"
           }
          ],
          "scattergl": [
           {
            "marker": {
             "colorbar": {
              "outlinewidth": 0,
              "ticks": ""
             }
            },
            "type": "scattergl"
           }
          ],
          "scattermapbox": [
           {
            "marker": {
             "colorbar": {
              "outlinewidth": 0,
              "ticks": ""
             }
            },
            "type": "scattermapbox"
           }
          ],
          "scatterpolar": [
           {
            "marker": {
             "colorbar": {
              "outlinewidth": 0,
              "ticks": ""
             }
            },
            "type": "scatterpolar"
           }
          ],
          "scatterpolargl": [
           {
            "marker": {
             "colorbar": {
              "outlinewidth": 0,
              "ticks": ""
             }
            },
            "type": "scatterpolargl"
           }
          ],
          "scatterternary": [
           {
            "marker": {
             "colorbar": {
              "outlinewidth": 0,
              "ticks": ""
             }
            },
            "type": "scatterternary"
           }
          ],
          "surface": [
           {
            "colorbar": {
             "outlinewidth": 0,
             "ticks": ""
            },
            "colorscale": [
             [
              0,
              "#0d0887"
             ],
             [
              0.1111111111111111,
              "#46039f"
             ],
             [
              0.2222222222222222,
              "#7201a8"
             ],
             [
              0.3333333333333333,
              "#9c179e"
             ],
             [
              0.4444444444444444,
              "#bd3786"
             ],
             [
              0.5555555555555556,
              "#d8576b"
             ],
             [
              0.6666666666666666,
              "#ed7953"
             ],
             [
              0.7777777777777778,
              "#fb9f3a"
             ],
             [
              0.8888888888888888,
              "#fdca26"
             ],
             [
              1,
              "#f0f921"
             ]
            ],
            "type": "surface"
           }
          ],
          "table": [
           {
            "cells": {
             "fill": {
              "color": "#EBF0F8"
             },
             "line": {
              "color": "white"
             }
            },
            "header": {
             "fill": {
              "color": "#C8D4E3"
             },
             "line": {
              "color": "white"
             }
            },
            "type": "table"
           }
          ]
         },
         "layout": {
          "annotationdefaults": {
           "arrowcolor": "#2a3f5f",
           "arrowhead": 0,
           "arrowwidth": 1
          },
          "autotypenumbers": "strict",
          "coloraxis": {
           "colorbar": {
            "outlinewidth": 0,
            "ticks": ""
           }
          },
          "colorscale": {
           "diverging": [
            [
             0,
             "#8e0152"
            ],
            [
             0.1,
             "#c51b7d"
            ],
            [
             0.2,
             "#de77ae"
            ],
            [
             0.3,
             "#f1b6da"
            ],
            [
             0.4,
             "#fde0ef"
            ],
            [
             0.5,
             "#f7f7f7"
            ],
            [
             0.6,
             "#e6f5d0"
            ],
            [
             0.7,
             "#b8e186"
            ],
            [
             0.8,
             "#7fbc41"
            ],
            [
             0.9,
             "#4d9221"
            ],
            [
             1,
             "#276419"
            ]
           ],
           "sequential": [
            [
             0,
             "#0d0887"
            ],
            [
             0.1111111111111111,
             "#46039f"
            ],
            [
             0.2222222222222222,
             "#7201a8"
            ],
            [
             0.3333333333333333,
             "#9c179e"
            ],
            [
             0.4444444444444444,
             "#bd3786"
            ],
            [
             0.5555555555555556,
             "#d8576b"
            ],
            [
             0.6666666666666666,
             "#ed7953"
            ],
            [
             0.7777777777777778,
             "#fb9f3a"
            ],
            [
             0.8888888888888888,
             "#fdca26"
            ],
            [
             1,
             "#f0f921"
            ]
           ],
           "sequentialminus": [
            [
             0,
             "#0d0887"
            ],
            [
             0.1111111111111111,
             "#46039f"
            ],
            [
             0.2222222222222222,
             "#7201a8"
            ],
            [
             0.3333333333333333,
             "#9c179e"
            ],
            [
             0.4444444444444444,
             "#bd3786"
            ],
            [
             0.5555555555555556,
             "#d8576b"
            ],
            [
             0.6666666666666666,
             "#ed7953"
            ],
            [
             0.7777777777777778,
             "#fb9f3a"
            ],
            [
             0.8888888888888888,
             "#fdca26"
            ],
            [
             1,
             "#f0f921"
            ]
           ]
          },
          "colorway": [
           "#636efa",
           "#EF553B",
           "#00cc96",
           "#ab63fa",
           "#FFA15A",
           "#19d3f3",
           "#FF6692",
           "#B6E880",
           "#FF97FF",
           "#FECB52"
          ],
          "font": {
           "color": "#2a3f5f"
          },
          "geo": {
           "bgcolor": "white",
           "lakecolor": "white",
           "landcolor": "#E5ECF6",
           "showlakes": true,
           "showland": true,
           "subunitcolor": "white"
          },
          "hoverlabel": {
           "align": "left"
          },
          "hovermode": "closest",
          "mapbox": {
           "style": "light"
          },
          "paper_bgcolor": "white",
          "plot_bgcolor": "#E5ECF6",
          "polar": {
           "angularaxis": {
            "gridcolor": "white",
            "linecolor": "white",
            "ticks": ""
           },
           "bgcolor": "#E5ECF6",
           "radialaxis": {
            "gridcolor": "white",
            "linecolor": "white",
            "ticks": ""
           }
          },
          "scene": {
           "xaxis": {
            "backgroundcolor": "#E5ECF6",
            "gridcolor": "white",
            "gridwidth": 2,
            "linecolor": "white",
            "showbackground": true,
            "ticks": "",
            "zerolinecolor": "white"
           },
           "yaxis": {
            "backgroundcolor": "#E5ECF6",
            "gridcolor": "white",
            "gridwidth": 2,
            "linecolor": "white",
            "showbackground": true,
            "ticks": "",
            "zerolinecolor": "white"
           },
           "zaxis": {
            "backgroundcolor": "#E5ECF6",
            "gridcolor": "white",
            "gridwidth": 2,
            "linecolor": "white",
            "showbackground": true,
            "ticks": "",
            "zerolinecolor": "white"
           }
          },
          "shapedefaults": {
           "line": {
            "color": "#2a3f5f"
           }
          },
          "ternary": {
           "aaxis": {
            "gridcolor": "white",
            "linecolor": "white",
            "ticks": ""
           },
           "baxis": {
            "gridcolor": "white",
            "linecolor": "white",
            "ticks": ""
           },
           "bgcolor": "#E5ECF6",
           "caxis": {
            "gridcolor": "white",
            "linecolor": "white",
            "ticks": ""
           }
          },
          "title": {
           "x": 0.05
          },
          "xaxis": {
           "automargin": true,
           "gridcolor": "white",
           "linecolor": "white",
           "ticks": "",
           "title": {
            "standoff": 15
           },
           "zerolinecolor": "white",
           "zerolinewidth": 2
          },
          "yaxis": {
           "automargin": true,
           "gridcolor": "white",
           "linecolor": "white",
           "ticks": "",
           "title": {
            "standoff": 15
           },
           "zerolinecolor": "white",
           "zerolinewidth": 2
          }
         }
        },
        "title": {
         "text": "Dataset machine 515"
        },
        "width": 1280,
        "xaxis": {
         "anchor": "y",
         "domain": [
          0,
          1
         ],
         "matches": "x3",
         "showticklabels": false
        },
        "xaxis2": {
         "anchor": "y2",
         "domain": [
          0,
          1
         ],
         "matches": "x3",
         "showticklabels": false
        },
        "xaxis3": {
         "anchor": "y3",
         "domain": [
          0,
          1
         ]
        },
        "yaxis": {
         "anchor": "x",
         "domain": [
          0.7066666666666667,
          1
         ]
        },
        "yaxis2": {
         "anchor": "x2",
         "domain": [
          0.35333333333333333,
          0.6466666666666667
         ]
        },
        "yaxis3": {
         "anchor": "x3",
         "domain": [
          0,
          0.29333333333333333
         ]
        }
       }
      }
     },
     "metadata": {},
     "output_type": "display_data"
    },
    {
     "data": {
      "application/vnd.plotly.v1+json": {
       "config": {
        "plotlyServerURL": "https://plot.ly"
       },
       "data": [
        {
         "marker": {
          "color": "blue",
          "size": 10
         },
         "mode": "markers+lines",
         "name": "1134500OTT5120032100 Energy",
         "text": [
          null,
          null,
          null,
          null,
          74391.9,
          159950.6,
          null,
          0,
          null,
          null,
          null,
          null,
          null,
          46285,
          56085.4,
          0
         ],
         "type": "scatter",
         "x": [
          "2023-06-28",
          "2023-06-29",
          "2023-06-30",
          "2023-07-01",
          "2023-07-03",
          "2023-07-04",
          "2023-07-05",
          "2023-07-06",
          "2023-07-07",
          "2023-07-08",
          "2023-07-10",
          "2023-07-11",
          "2023-07-12",
          "2023-06-19",
          "2023-06-20",
          "2023-06-21"
         ],
         "xaxis": "x",
         "y": [
          null,
          null,
          null,
          null,
          74391.9,
          159950.6,
          null,
          0,
          null,
          null,
          null,
          null,
          null,
          46285,
          56085.4,
          0
         ],
         "yaxis": "y"
        },
        {
         "marker": {
          "color": "blue",
          "size": 10
         },
         "mode": "markers+lines",
         "name": "1134500OTT5120032100 Productions",
         "text": [
          1412,
          7218,
          7435,
          2466,
          5302,
          7414,
          7905,
          7744,
          11388,
          927,
          4642,
          4746,
          260,
          0,
          0,
          0
         ],
         "type": "scatter",
         "x": [
          "2023-06-28",
          "2023-06-29",
          "2023-06-30",
          "2023-07-01",
          "2023-07-03",
          "2023-07-04",
          "2023-07-05",
          "2023-07-06",
          "2023-07-07",
          "2023-07-08",
          "2023-07-10",
          "2023-07-11",
          "2023-07-12",
          "2023-06-19",
          "2023-06-20",
          "2023-06-21"
         ],
         "xaxis": "x3",
         "y": [
          1412,
          7218,
          7435,
          2466,
          5302,
          7414,
          7905,
          7744,
          11388,
          927,
          4642,
          4746,
          260,
          0,
          0,
          0
         ],
         "yaxis": "y3"
        },
        {
         "marker": {
          "color": "blue",
          "size": 10
         },
         "mode": "markers+lines",
         "name": "1134500OTT5120032100 Stops",
         "text": [
          "Unknown",
          "Unknown",
          "Unknown",
          "Unknown",
          "Manutenzione ordinaria",
          "Unknown",
          "Unknown",
          "Unknown",
          "Unknown",
          "Unknown",
          "Unknown",
          "Unknown",
          "Sostituzione utensile",
          "Unknown",
          "Unknown",
          "Unknown"
         ],
         "type": "scatter",
         "x": [
          "2023-06-28",
          "2023-06-29",
          "2023-06-30",
          "2023-07-01",
          "2023-07-03",
          "2023-07-04",
          "2023-07-05",
          "2023-07-06",
          "2023-07-07",
          "2023-07-08",
          "2023-07-10",
          "2023-07-11",
          "2023-07-12",
          "2023-06-19",
          "2023-06-20",
          "2023-06-21"
         ],
         "xaxis": "x2",
         "y": [
          null,
          null,
          null,
          null,
          1,
          null,
          null,
          null,
          null,
          null,
          null,
          null,
          1,
          null,
          null,
          null
         ],
         "yaxis": "y2"
        },
        {
         "marker": {
          "color": "green",
          "size": 10
         },
         "mode": "markers+lines",
         "name": "1134500OTT5120500600 Energy",
         "text": [
          null,
          null,
          null,
          0,
          null,
          156201,
          null,
          137457.2
         ],
         "type": "scatter",
         "x": [
          "2023-07-12",
          "2023-07-13",
          "2023-07-14",
          "2023-07-15",
          "2023-07-17",
          "2023-07-18",
          "2023-07-19",
          "2023-07-20"
         ],
         "xaxis": "x",
         "y": [
          null,
          null,
          null,
          0,
          null,
          156201,
          null,
          137457.2
         ],
         "yaxis": "y"
        },
        {
         "marker": {
          "color": "green",
          "size": 10
         },
         "mode": "markers+lines",
         "name": "1134500OTT5120500600 Productions",
         "text": [
          556,
          2980,
          7853,
          2604,
          2961,
          8057,
          7942,
          7062
         ],
         "type": "scatter",
         "x": [
          "2023-07-12",
          "2023-07-13",
          "2023-07-14",
          "2023-07-15",
          "2023-07-17",
          "2023-07-18",
          "2023-07-19",
          "2023-07-20"
         ],
         "xaxis": "x3",
         "y": [
          556,
          2980,
          7853,
          2604,
          2961,
          8057,
          7942,
          7062
         ],
         "yaxis": "y3"
        },
        {
         "marker": {
          "color": "green",
          "size": 10
         },
         "mode": "markers+lines",
         "name": "1134500OTT5120500600 Stops",
         "text": [
          "Sostituzione utensile",
          "Sostituzione utensile",
          "Sostituzione utensile",
          "Unknown",
          "Unknown",
          "Manutenzione ordinaria",
          "Unknown",
          "Unknown"
         ],
         "type": "scatter",
         "x": [
          "2023-07-12",
          "2023-07-13",
          "2023-07-14",
          "2023-07-15",
          "2023-07-17",
          "2023-07-18",
          "2023-07-19",
          "2023-07-20"
         ],
         "xaxis": "x2",
         "y": [
          1,
          1,
          1,
          null,
          null,
          1,
          null,
          null
         ],
         "yaxis": "y2"
        },
        {
         "marker": {
          "color": "black",
          "size": 10
         },
         "mode": "markers+lines",
         "name": "Unknown Energy",
         "text": [
          14708.1,
          178.8,
          13317.2,
          0,
          0,
          24397.6,
          13043.5,
          37448.2,
          4908.4,
          177.6,
          26048.9,
          null,
          0,
          187.6,
          183.3,
          0,
          21272.4,
          11784.4,
          174.5,
          174.5,
          174.8,
          173.7,
          0,
          174.8,
          174.1,
          175.3,
          174.9,
          174.5,
          174.3,
          174.9,
          172.4,
          608.5,
          182.2,
          166018,
          11709.1,
          0,
          57815.4,
          84104,
          null,
          null,
          null,
          null,
          null,
          null,
          136895.5,
          136895.5,
          142609.3,
          142609.3,
          145662.6,
          0,
          0,
          0,
          0,
          null,
          null,
          null,
          117147.3,
          null,
          null,
          null,
          79412.1,
          175.79999999999998,
          180,
          186,
          186.5,
          186,
          185.7,
          181.5,
          177.2,
          null,
          0,
          0
         ],
         "type": "scatter",
         "x": [
          "2023-07-16",
          "2023-07-23",
          "2023-07-30",
          "2023-07-31",
          "2023-07-31",
          "2023-06-10",
          "2023-06-11",
          "2023-06-16",
          "2023-06-17",
          "2023-06-18",
          "2023-06-22",
          "2023-06-29",
          "2023-06-30",
          "2022-12-09",
          "2022-12-10",
          "2022-12-11",
          "2022-12-17",
          "2022-12-18",
          "2022-12-27",
          "2022-12-28",
          "2022-12-29",
          "2022-12-30",
          "2022-12-31",
          "2023-01-01",
          "2023-01-02",
          "2023-01-03",
          "2023-01-04",
          "2023-01-05",
          "2023-01-06",
          "2023-01-07",
          "2023-01-08",
          "2023-01-22",
          "2023-01-29",
          "2023-01-31",
          "2023-03-05",
          "2023-03-11",
          "2023-03-14",
          "2023-03-15",
          "2023-03-16",
          "2023-03-16",
          "2023-03-17",
          "2023-03-17",
          "2023-03-18",
          "2023-03-20",
          "2023-03-21",
          "2023-03-21",
          "2023-03-22",
          "2023-03-22",
          "2023-03-23",
          "2023-03-24",
          "2023-03-24",
          "2023-03-25",
          "2023-03-25",
          "2023-03-27",
          "2023-03-28",
          "2023-03-29",
          "2023-03-30",
          "2023-03-31",
          "2023-03-31",
          "2023-03-31",
          "2023-08-02",
          "2023-08-15",
          "2023-08-16",
          "2023-08-17",
          "2023-08-18",
          "2023-08-19",
          "2023-08-20",
          "2023-08-21",
          "2023-08-22",
          "2023-08-30",
          "2023-08-31",
          "2023-08-31"
         ],
         "xaxis": "x",
         "y": [
          14708.1,
          178.8,
          13317.2,
          0,
          0,
          24397.6,
          13043.5,
          37448.2,
          4908.4,
          177.6,
          26048.9,
          null,
          0,
          187.6,
          183.3,
          0,
          21272.4,
          11784.4,
          174.5,
          174.5,
          174.8,
          173.7,
          0,
          174.8,
          174.1,
          175.3,
          174.9,
          174.5,
          174.3,
          174.9,
          172.4,
          608.5,
          182.2,
          166018,
          11709.1,
          0,
          57815.4,
          84104,
          null,
          null,
          null,
          null,
          null,
          null,
          136895.5,
          136895.5,
          142609.3,
          142609.3,
          145662.6,
          0,
          0,
          0,
          0,
          null,
          null,
          null,
          117147.3,
          null,
          null,
          null,
          79412.1,
          175.79999999999998,
          180,
          186,
          186.5,
          186,
          185.7,
          181.5,
          177.2,
          null,
          0,
          0
         ],
         "yaxis": "y"
        },
        {
         "marker": {
          "color": "black",
          "size": 10
         },
         "mode": "markers+lines",
         "name": "Unknown Productions",
         "text": [
          null,
          null,
          null,
          null,
          null,
          null,
          null,
          null,
          null,
          null,
          null,
          null,
          null,
          null,
          null,
          null,
          null,
          null,
          null,
          null,
          null,
          null,
          null,
          null,
          null,
          null,
          null,
          null,
          null,
          null,
          null,
          null,
          null,
          null,
          null,
          null,
          null,
          null,
          null,
          null,
          null,
          null,
          null,
          null,
          null,
          null,
          null,
          null,
          null,
          null,
          null,
          null,
          null,
          null,
          null,
          null,
          null,
          null,
          null,
          null,
          null,
          null,
          null,
          null,
          null,
          null,
          null,
          null,
          null,
          null,
          null,
          null
         ],
         "type": "scatter",
         "x": [
          "2023-07-16",
          "2023-07-23",
          "2023-07-30",
          "2023-07-31",
          "2023-07-31",
          "2023-06-10",
          "2023-06-11",
          "2023-06-16",
          "2023-06-17",
          "2023-06-18",
          "2023-06-22",
          "2023-06-29",
          "2023-06-30",
          "2022-12-09",
          "2022-12-10",
          "2022-12-11",
          "2022-12-17",
          "2022-12-18",
          "2022-12-27",
          "2022-12-28",
          "2022-12-29",
          "2022-12-30",
          "2022-12-31",
          "2023-01-01",
          "2023-01-02",
          "2023-01-03",
          "2023-01-04",
          "2023-01-05",
          "2023-01-06",
          "2023-01-07",
          "2023-01-08",
          "2023-01-22",
          "2023-01-29",
          "2023-01-31",
          "2023-03-05",
          "2023-03-11",
          "2023-03-14",
          "2023-03-15",
          "2023-03-16",
          "2023-03-16",
          "2023-03-17",
          "2023-03-17",
          "2023-03-18",
          "2023-03-20",
          "2023-03-21",
          "2023-03-21",
          "2023-03-22",
          "2023-03-22",
          "2023-03-23",
          "2023-03-24",
          "2023-03-24",
          "2023-03-25",
          "2023-03-25",
          "2023-03-27",
          "2023-03-28",
          "2023-03-29",
          "2023-03-30",
          "2023-03-31",
          "2023-03-31",
          "2023-03-31",
          "2023-08-02",
          "2023-08-15",
          "2023-08-16",
          "2023-08-17",
          "2023-08-18",
          "2023-08-19",
          "2023-08-20",
          "2023-08-21",
          "2023-08-22",
          "2023-08-30",
          "2023-08-31",
          "2023-08-31"
         ],
         "xaxis": "x3",
         "y": [
          null,
          null,
          null,
          null,
          null,
          null,
          null,
          null,
          null,
          null,
          null,
          null,
          null,
          null,
          null,
          null,
          null,
          null,
          null,
          null,
          null,
          null,
          null,
          null,
          null,
          null,
          null,
          null,
          null,
          null,
          null,
          null,
          null,
          null,
          null,
          null,
          null,
          null,
          null,
          null,
          null,
          null,
          null,
          null,
          null,
          null,
          null,
          null,
          null,
          null,
          null,
          null,
          null,
          null,
          null,
          null,
          null,
          null,
          null,
          null,
          null,
          null,
          null,
          null,
          null,
          null,
          null,
          null,
          null,
          null,
          null,
          null
         ],
         "yaxis": "y3"
        },
        {
         "marker": {
          "color": "black",
          "size": 10
         },
         "mode": "markers+lines",
         "name": "Unknown Stops",
         "text": [
          "Unknown",
          "Unknown",
          "Unknown",
          "Manutenzione ordinaria",
          "Sostituzione utensile",
          "Unknown",
          "Unknown",
          "Unknown",
          "Unknown",
          "Unknown",
          "Unknown",
          "Manutenzione ordinaria",
          "Manutenzione ordinaria",
          "Unknown",
          "Unknown",
          "Unknown",
          "Unknown",
          "Unknown",
          "Unknown",
          "Unknown",
          "Unknown",
          "Unknown",
          "Unknown",
          "Unknown",
          "Unknown",
          "Unknown",
          "Unknown",
          "Unknown",
          "Unknown",
          "Unknown",
          "Unknown",
          "Unknown",
          "Unknown",
          "Sostituzione utensile",
          "Unknown",
          "Unknown",
          "Unknown",
          "Manutenzione ordinaria",
          "Manutenzione ordinaria",
          "Sostituzione utensile",
          "Manutenzione ordinaria",
          "Sostituzione utensile",
          "Sostituzione utensile",
          "Manutenzione ordinaria",
          "Manutenzione ordinaria",
          "Sostituzione utensile",
          "Manutenzione ordinaria",
          "Sostituzione utensile",
          "Sostituzione utensile",
          "Manutenzione ordinaria",
          "Sostituzione utensile",
          "Manutenzione ordinaria",
          "Sostituzione utensile",
          "Manutenzione ordinaria",
          "Sostituzione utensile",
          "Sostituzione utensile",
          "Manutenzione ordinaria",
          "Manutenzione ordinaria",
          "Manutenzione straordinaria",
          "Sostituzione utensile",
          "Unknown",
          "Unknown",
          "Unknown",
          "Unknown",
          "Unknown",
          "Unknown",
          "Unknown",
          "Unknown",
          "Unknown",
          "Manutenzione ordinaria",
          "Manutenzione ordinaria",
          "Sostituzione utensile"
         ],
         "type": "scatter",
         "x": [
          "2023-07-16",
          "2023-07-23",
          "2023-07-30",
          "2023-07-31",
          "2023-07-31",
          "2023-06-10",
          "2023-06-11",
          "2023-06-16",
          "2023-06-17",
          "2023-06-18",
          "2023-06-22",
          "2023-06-29",
          "2023-06-30",
          "2022-12-09",
          "2022-12-10",
          "2022-12-11",
          "2022-12-17",
          "2022-12-18",
          "2022-12-27",
          "2022-12-28",
          "2022-12-29",
          "2022-12-30",
          "2022-12-31",
          "2023-01-01",
          "2023-01-02",
          "2023-01-03",
          "2023-01-04",
          "2023-01-05",
          "2023-01-06",
          "2023-01-07",
          "2023-01-08",
          "2023-01-22",
          "2023-01-29",
          "2023-01-31",
          "2023-03-05",
          "2023-03-11",
          "2023-03-14",
          "2023-03-15",
          "2023-03-16",
          "2023-03-16",
          "2023-03-17",
          "2023-03-17",
          "2023-03-18",
          "2023-03-20",
          "2023-03-21",
          "2023-03-21",
          "2023-03-22",
          "2023-03-22",
          "2023-03-23",
          "2023-03-24",
          "2023-03-24",
          "2023-03-25",
          "2023-03-25",
          "2023-03-27",
          "2023-03-28",
          "2023-03-29",
          "2023-03-30",
          "2023-03-31",
          "2023-03-31",
          "2023-03-31",
          "2023-08-02",
          "2023-08-15",
          "2023-08-16",
          "2023-08-17",
          "2023-08-18",
          "2023-08-19",
          "2023-08-20",
          "2023-08-21",
          "2023-08-22",
          "2023-08-30",
          "2023-08-31",
          "2023-08-31"
         ],
         "xaxis": "x2",
         "y": [
          null,
          null,
          null,
          4,
          2,
          null,
          null,
          null,
          null,
          null,
          null,
          1,
          1,
          null,
          null,
          null,
          null,
          null,
          null,
          null,
          null,
          null,
          null,
          null,
          null,
          null,
          null,
          null,
          null,
          null,
          null,
          null,
          null,
          8,
          null,
          null,
          null,
          2,
          4,
          1,
          1,
          1,
          2,
          1,
          4,
          2,
          1,
          2,
          1,
          2,
          1,
          2,
          1,
          4,
          5,
          1,
          1,
          4,
          2,
          2,
          null,
          null,
          null,
          null,
          null,
          null,
          null,
          null,
          null,
          1,
          3,
          3
         ],
         "yaxis": "y2"
        },
        {
         "marker": {
          "color": "#00FFFF",
          "size": 10
         },
         "mode": "markers+lines",
         "name": "1177300AVP9/010862/11 Energy",
         "text": [
          102679.1,
          22230.7,
          129331,
          129331,
          151917.3,
          151917.3,
          153984.2,
          153984.2,
          160037.3,
          160037.3,
          162290.6,
          162290.6,
          43493.4,
          null,
          null,
          null
         ],
         "type": "scatter",
         "x": [
          "2023-07-21",
          "2023-07-22",
          "2023-07-24",
          "2023-07-24",
          "2023-07-25",
          "2023-07-25",
          "2023-07-26",
          "2023-07-26",
          "2023-07-27",
          "2023-07-27",
          "2023-07-28",
          "2023-07-28",
          "2023-07-29",
          "2023-07-29",
          "2023-07-31",
          "2023-08-01"
         ],
         "xaxis": "x",
         "y": [
          102679.1,
          22230.7,
          129331,
          129331,
          151917.3,
          151917.3,
          153984.2,
          153984.2,
          160037.3,
          160037.3,
          162290.6,
          162290.6,
          43493.4,
          null,
          null,
          null
         ],
         "yaxis": "y"
        },
        {
         "marker": {
          "color": "#00FFFF",
          "size": 10
         },
         "mode": "markers+lines",
         "name": "1177300AVP9/010862/11 Productions",
         "text": [
          2710,
          3598,
          8664,
          8664,
          11786,
          11786,
          10691,
          10691,
          11747,
          11747,
          10773,
          10773,
          2129,
          1181,
          8517,
          1520
         ],
         "type": "scatter",
         "x": [
          "2023-07-21",
          "2023-07-22",
          "2023-07-24",
          "2023-07-24",
          "2023-07-25",
          "2023-07-25",
          "2023-07-26",
          "2023-07-26",
          "2023-07-27",
          "2023-07-27",
          "2023-07-28",
          "2023-07-28",
          "2023-07-29",
          "2023-07-29",
          "2023-07-31",
          "2023-08-01"
         ],
         "xaxis": "x3",
         "y": [
          2710,
          3598,
          8664,
          8664,
          11786,
          11786,
          10691,
          10691,
          11747,
          11747,
          10773,
          10773,
          2129,
          1181,
          8517,
          1520
         ],
         "yaxis": "y3"
        },
        {
         "marker": {
          "color": "#00FFFF",
          "size": 10
         },
         "mode": "markers+lines",
         "name": "1177300AVP9/010862/11 Stops",
         "text": [
          "Manutenzione ordinaria",
          "Unknown",
          "Manutenzione ordinaria",
          "Sostituzione utensile",
          "Manutenzione ordinaria",
          "Sostituzione utensile",
          "Manutenzione ordinaria",
          "Sostituzione utensile",
          "Manutenzione ordinaria",
          "Sostituzione utensile",
          "Manutenzione ordinaria",
          "Sostituzione utensile",
          "Sostituzione utensile",
          "Unknown",
          "Unknown",
          "Manutenzione ordinaria"
         ],
         "type": "scatter",
         "x": [
          "2023-07-21",
          "2023-07-22",
          "2023-07-24",
          "2023-07-24",
          "2023-07-25",
          "2023-07-25",
          "2023-07-26",
          "2023-07-26",
          "2023-07-27",
          "2023-07-27",
          "2023-07-28",
          "2023-07-28",
          "2023-07-29",
          "2023-07-29",
          "2023-07-31",
          "2023-08-01"
         ],
         "xaxis": "x2",
         "y": [
          2,
          null,
          2,
          1,
          3,
          5,
          1,
          1,
          4,
          2,
          2,
          1,
          2,
          null,
          null,
          1
         ],
         "yaxis": "y2"
        },
        {
         "marker": {
          "color": "#FFFF00",
          "size": 10
         },
         "mode": "markers+lines",
         "name": "1180400AVP1003500030-03 Energy",
         "text": [
          null,
          null,
          null,
          null,
          null,
          null,
          138181.8,
          81014.1,
          null,
          null,
          80036.9,
          142955.3,
          142955.3,
          121048.2,
          121048.2
         ],
         "type": "scatter",
         "x": [
          "2023-05-30",
          "2023-05-31",
          "2023-06-01",
          "2023-06-05",
          "2023-06-05",
          "2023-06-06",
          "2023-06-07",
          "2023-06-08",
          "2023-06-09",
          "2023-06-09",
          "2023-06-12",
          "2023-06-13",
          "2023-06-13",
          "2023-06-14",
          "2023-06-14"
         ],
         "xaxis": "x",
         "y": [
          null,
          null,
          null,
          null,
          null,
          null,
          138181.8,
          81014.1,
          null,
          null,
          80036.9,
          142955.3,
          142955.3,
          121048.2,
          121048.2
         ],
         "yaxis": "y"
        },
        {
         "marker": {
          "color": "#FFFF00",
          "size": 10
         },
         "mode": "markers+lines",
         "name": "1180400AVP1003500030-03 Productions",
         "text": [
          4396,
          2306,
          1759,
          1622,
          1622,
          3956,
          5789,
          4428,
          351,
          351,
          835,
          8358,
          8358,
          1640,
          1640
         ],
         "type": "scatter",
         "x": [
          "2023-05-30",
          "2023-05-31",
          "2023-06-01",
          "2023-06-05",
          "2023-06-05",
          "2023-06-06",
          "2023-06-07",
          "2023-06-08",
          "2023-06-09",
          "2023-06-09",
          "2023-06-12",
          "2023-06-13",
          "2023-06-13",
          "2023-06-14",
          "2023-06-14"
         ],
         "xaxis": "x3",
         "y": [
          4396,
          2306,
          1759,
          1622,
          1622,
          3956,
          5789,
          4428,
          351,
          351,
          835,
          8358,
          8358,
          1640,
          1640
         ],
         "yaxis": "y3"
        },
        {
         "marker": {
          "color": "#FFFF00",
          "size": 10
         },
         "mode": "markers+lines",
         "name": "1180400AVP1003500030-03 Stops",
         "text": [
          "Unknown",
          "Unknown",
          "Unknown",
          "Manutenzione ordinaria",
          "Sostituzione utensile",
          "Sostituzione utensile",
          "Unknown",
          "Sostituzione utensile",
          "Manutenzione ordinaria",
          "Sostituzione utensile",
          "Manutenzione ordinaria",
          "Manutenzione ordinaria",
          "Sostituzione utensile",
          "Manutenzione ordinaria",
          "Sostituzione utensile"
         ],
         "type": "scatter",
         "x": [
          "2023-05-30",
          "2023-05-31",
          "2023-06-01",
          "2023-06-05",
          "2023-06-05",
          "2023-06-06",
          "2023-06-07",
          "2023-06-08",
          "2023-06-09",
          "2023-06-09",
          "2023-06-12",
          "2023-06-13",
          "2023-06-13",
          "2023-06-14",
          "2023-06-14"
         ],
         "xaxis": "x2",
         "y": [
          null,
          null,
          null,
          2,
          2,
          1,
          null,
          1,
          3,
          1,
          6,
          1,
          1,
          4,
          1
         ],
         "yaxis": "y2"
        },
        {
         "marker": {
          "color": "#880000",
          "size": 10
         },
         "mode": "markers+lines",
         "name": "0001700AVPWA16FDJ21/32MSPY Energy",
         "text": [
          null,
          null,
          null,
          135260.6,
          135260.6,
          153154.7,
          153154.7,
          null,
          94384.4,
          165111.5,
          165111.5,
          127837.6,
          55129.2
         ],
         "type": "scatter",
         "x": [
          "2022-11-28",
          "2022-11-29",
          "2022-11-30",
          "2022-12-01",
          "2022-12-01",
          "2022-12-02",
          "2022-12-02",
          "2022-12-03",
          "2022-12-05",
          "2022-12-06",
          "2022-12-06",
          "2022-12-07",
          "2022-12-12"
         ],
         "xaxis": "x",
         "y": [
          null,
          null,
          null,
          135260.6,
          135260.6,
          153154.7,
          153154.7,
          null,
          94384.4,
          165111.5,
          165111.5,
          127837.6,
          55129.2
         ],
         "yaxis": "y"
        },
        {
         "marker": {
          "color": "#880000",
          "size": 10
         },
         "mode": "markers+lines",
         "name": "0001700AVPWA16FDJ21/32MSPY Productions",
         "text": [
          1096,
          2906,
          3684,
          3799,
          3799,
          4686,
          4686,
          1485,
          2318,
          5243,
          5243,
          3946,
          794
         ],
         "type": "scatter",
         "x": [
          "2022-11-28",
          "2022-11-29",
          "2022-11-30",
          "2022-12-01",
          "2022-12-01",
          "2022-12-02",
          "2022-12-02",
          "2022-12-03",
          "2022-12-05",
          "2022-12-06",
          "2022-12-06",
          "2022-12-07",
          "2022-12-12"
         ],
         "xaxis": "x3",
         "y": [
          1096,
          2906,
          3684,
          3799,
          3799,
          4686,
          4686,
          1485,
          2318,
          5243,
          5243,
          3946,
          794
         ],
         "yaxis": "y3"
        },
        {
         "marker": {
          "color": "#880000",
          "size": 10
         },
         "mode": "markers+lines",
         "name": "0001700AVPWA16FDJ21/32MSPY Stops",
         "text": [
          "Unknown",
          "Unknown",
          "Unknown",
          "Manutenzione ordinaria",
          "Sostituzione utensile",
          "Manutenzione ordinaria",
          "Sostituzione utensile",
          "Unknown",
          "Sostituzione utensile",
          "Manutenzione ordinaria",
          "Sostituzione utensile",
          "Sostituzione utensile",
          "Unknown"
         ],
         "type": "scatter",
         "x": [
          "2022-11-28",
          "2022-11-29",
          "2022-11-30",
          "2022-12-01",
          "2022-12-01",
          "2022-12-02",
          "2022-12-02",
          "2022-12-03",
          "2022-12-05",
          "2022-12-06",
          "2022-12-06",
          "2022-12-07",
          "2022-12-12"
         ],
         "xaxis": "x2",
         "y": [
          null,
          null,
          null,
          2,
          2,
          1,
          4,
          null,
          2,
          1,
          5,
          2,
          null
         ],
         "yaxis": "y2"
        },
        {
         "marker": {
          "color": "blue",
          "size": 10
         },
         "mode": "markers+lines",
         "name": "1122100C45C1604235 Energy",
         "text": [
          55129.2,
          96317.9,
          30102.3,
          30102.3,
          0,
          82356.4
         ],
         "type": "scatter",
         "x": [
          "2022-12-12",
          "2022-12-13",
          "2022-12-14",
          "2022-12-14",
          "2022-12-15",
          "2022-12-16"
         ],
         "xaxis": "x",
         "y": [
          55129.2,
          96317.9,
          30102.3,
          30102.3,
          0,
          82356.4
         ],
         "yaxis": "y"
        },
        {
         "marker": {
          "color": "blue",
          "size": 10
         },
         "mode": "markers+lines",
         "name": "1122100C45C1604235 Productions",
         "text": [
          0,
          5196,
          6093,
          6093,
          7880,
          2646
         ],
         "type": "scatter",
         "x": [
          "2022-12-12",
          "2022-12-13",
          "2022-12-14",
          "2022-12-14",
          "2022-12-15",
          "2022-12-16"
         ],
         "xaxis": "x3",
         "y": [
          0,
          5196,
          6093,
          6093,
          7880,
          2646
         ],
         "yaxis": "y3"
        },
        {
         "marker": {
          "color": "blue",
          "size": 10
         },
         "mode": "markers+lines",
         "name": "1122100C45C1604235 Stops",
         "text": [
          "Unknown",
          "Sostituzione utensile",
          "Manutenzione ordinaria",
          "Sostituzione utensile",
          "Sostituzione utensile",
          "Unknown"
         ],
         "type": "scatter",
         "x": [
          "2022-12-12",
          "2022-12-13",
          "2022-12-14",
          "2022-12-14",
          "2022-12-15",
          "2022-12-16"
         ],
         "xaxis": "x2",
         "y": [
          null,
          1,
          2,
          3,
          4,
          null
         ],
         "yaxis": "y2"
        },
        {
         "marker": {
          "color": "green",
          "size": 10
         },
         "mode": "markers+lines",
         "name": "1139000AVP515300053B Energy",
         "text": [
          49413.4,
          119335.5,
          133944.5,
          132890,
          132890,
          null,
          null,
          null,
          112643.9,
          112643.9,
          122766.2,
          122766.2,
          0,
          0,
          null,
          null
         ],
         "type": "scatter",
         "x": [
          "2022-12-19",
          "2022-12-20",
          "2022-12-21",
          "2022-12-22",
          "2022-12-22",
          "2022-12-23",
          "2022-12-23",
          "2022-12-23",
          "2023-01-09",
          "2023-01-09",
          "2023-01-10",
          "2023-01-10",
          "2023-01-11",
          "2023-01-11",
          "2023-01-12",
          "2023-01-12"
         ],
         "xaxis": "x",
         "y": [
          49413.4,
          119335.5,
          133944.5,
          132890,
          132890,
          null,
          null,
          null,
          112643.9,
          112643.9,
          122766.2,
          122766.2,
          0,
          0,
          null,
          null
         ],
         "yaxis": "y"
        },
        {
         "marker": {
          "color": "green",
          "size": 10
         },
         "mode": "markers+lines",
         "name": "1139000AVP515300053B Productions",
         "text": [
          320,
          4484,
          5616,
          5332,
          5332,
          4406,
          4406,
          4406,
          4091,
          4091,
          4374,
          4374,
          5645,
          5645,
          5694,
          5694
         ],
         "type": "scatter",
         "x": [
          "2022-12-19",
          "2022-12-20",
          "2022-12-21",
          "2022-12-22",
          "2022-12-22",
          "2022-12-23",
          "2022-12-23",
          "2022-12-23",
          "2023-01-09",
          "2023-01-09",
          "2023-01-10",
          "2023-01-10",
          "2023-01-11",
          "2023-01-11",
          "2023-01-12",
          "2023-01-12"
         ],
         "xaxis": "x3",
         "y": [
          320,
          4484,
          5616,
          5332,
          5332,
          4406,
          4406,
          4406,
          4091,
          4091,
          4374,
          4374,
          5645,
          5645,
          5694,
          5694
         ],
         "yaxis": "y3"
        },
        {
         "marker": {
          "color": "green",
          "size": 10
         },
         "mode": "markers+lines",
         "name": "1139000AVP515300053B Stops",
         "text": [
          "Unknown",
          "Manutenzione ordinaria",
          "Sostituzione utensile",
          "Manutenzione straordinaria",
          "Sostituzione utensile",
          "Manutenzione ordinaria",
          "Manutenzione straordinaria",
          "Sostituzione utensile",
          "Manutenzione straordinaria",
          "Sostituzione utensile",
          "Manutenzione straordinaria",
          "Sostituzione utensile",
          "Manutenzione ordinaria",
          "Sostituzione utensile",
          "Manutenzione straordinaria",
          "Sostituzione utensile"
         ],
         "type": "scatter",
         "x": [
          "2022-12-19",
          "2022-12-20",
          "2022-12-21",
          "2022-12-22",
          "2022-12-22",
          "2022-12-23",
          "2022-12-23",
          "2022-12-23",
          "2023-01-09",
          "2023-01-09",
          "2023-01-10",
          "2023-01-10",
          "2023-01-11",
          "2023-01-11",
          "2023-01-12",
          "2023-01-12"
         ],
         "xaxis": "x2",
         "y": [
          null,
          1,
          2,
          2,
          1,
          1,
          1,
          1,
          1,
          6,
          1,
          7,
          2,
          4,
          1,
          1
         ],
         "yaxis": "y2"
        },
        {
         "marker": {
          "color": "#FF0000",
          "size": 10
         },
         "mode": "markers+lines",
         "name": "1139000AVP515300096B Energy",
         "text": [
          95234.5,
          null,
          null,
          null,
          null,
          null,
          0,
          0,
          0,
          104257.9
         ],
         "type": "scatter",
         "x": [
          "2023-01-13",
          "2023-01-14",
          "2023-01-16",
          "2023-01-17",
          "2023-01-17",
          "2023-01-17",
          "2023-01-18",
          "2023-01-18",
          "2023-01-18",
          "2023-01-19"
         ],
         "xaxis": "x",
         "y": [
          95234.5,
          null,
          null,
          null,
          null,
          null,
          0,
          0,
          0,
          104257.9
         ],
         "yaxis": "y"
        },
        {
         "marker": {
          "color": "#FF0000",
          "size": 10
         },
         "mode": "markers+lines",
         "name": "1139000AVP515300096B Productions",
         "text": [
          3779,
          1956,
          4229,
          3845,
          3845,
          3845,
          6111,
          6111,
          6111,
          1174
         ],
         "type": "scatter",
         "x": [
          "2023-01-13",
          "2023-01-14",
          "2023-01-16",
          "2023-01-17",
          "2023-01-17",
          "2023-01-17",
          "2023-01-18",
          "2023-01-18",
          "2023-01-18",
          "2023-01-19"
         ],
         "xaxis": "x3",
         "y": [
          3779,
          1956,
          4229,
          3845,
          3845,
          3845,
          6111,
          6111,
          6111,
          1174
         ],
         "yaxis": "y3"
        },
        {
         "marker": {
          "color": "#FF0000",
          "size": 10
         },
         "mode": "markers+lines",
         "name": "1139000AVP515300096B Stops",
         "text": [
          "Sostituzione utensile",
          "Manutenzione ordinaria",
          "Sostituzione utensile",
          "Manutenzione ordinaria",
          "Manutenzione straordinaria",
          "Sostituzione utensile",
          "Manutenzione ordinaria",
          "Manutenzione straordinaria",
          "Sostituzione utensile",
          "Sostituzione utensile"
         ],
         "type": "scatter",
         "x": [
          "2023-01-13",
          "2023-01-14",
          "2023-01-16",
          "2023-01-17",
          "2023-01-17",
          "2023-01-17",
          "2023-01-18",
          "2023-01-18",
          "2023-01-18",
          "2023-01-19"
         ],
         "xaxis": "x2",
         "y": [
          1,
          1,
          2,
          2,
          1,
          3,
          1,
          1,
          3,
          1
         ],
         "yaxis": "y2"
        },
        {
         "marker": {
          "color": "#00FFFF",
          "size": 10
         },
         "mode": "markers+lines",
         "name": "1162000AVP125.015-05 Energy",
         "text": [
          104257.9,
          163740.5,
          35687.5,
          121122.5,
          121122.5,
          162535.3,
          159078.7,
          156656.3,
          156656.3,
          168781.5,
          168781.5,
          31052.4,
          124092.4,
          124092.4
         ],
         "type": "scatter",
         "x": [
          "2023-01-19",
          "2023-01-20",
          "2023-01-21",
          "2023-01-23",
          "2023-01-23",
          "2023-01-24",
          "2023-01-25",
          "2023-01-26",
          "2023-01-26",
          "2023-01-27",
          "2023-01-27",
          "2023-01-28",
          "2023-01-30",
          "2023-01-30"
         ],
         "xaxis": "x",
         "y": [
          104257.9,
          163740.5,
          35687.5,
          121122.5,
          121122.5,
          162535.3,
          159078.7,
          156656.3,
          156656.3,
          168781.5,
          168781.5,
          31052.4,
          124092.4,
          124092.4
         ],
         "yaxis": "y"
        },
        {
         "marker": {
          "color": "#00FFFF",
          "size": 10
         },
         "mode": "markers+lines",
         "name": "1162000AVP125.015-05 Productions",
         "text": [
          4096,
          12226,
          3454,
          9108,
          9108,
          13672,
          13899,
          13498,
          13498,
          12006,
          12006,
          2717,
          4284,
          4284
         ],
         "type": "scatter",
         "x": [
          "2023-01-19",
          "2023-01-20",
          "2023-01-21",
          "2023-01-23",
          "2023-01-23",
          "2023-01-24",
          "2023-01-25",
          "2023-01-26",
          "2023-01-26",
          "2023-01-27",
          "2023-01-27",
          "2023-01-28",
          "2023-01-30",
          "2023-01-30"
         ],
         "xaxis": "x3",
         "y": [
          4096,
          12226,
          3454,
          9108,
          9108,
          13672,
          13899,
          13498,
          13498,
          12006,
          12006,
          2717,
          4284,
          4284
         ],
         "yaxis": "y3"
        },
        {
         "marker": {
          "color": "#00FFFF",
          "size": 10
         },
         "mode": "markers+lines",
         "name": "1162000AVP125.015-05 Stops",
         "text": [
          "Sostituzione utensile",
          "Sostituzione utensile",
          "Unknown",
          "Manutenzione ordinaria",
          "Sostituzione utensile",
          "Sostituzione utensile",
          "Sostituzione utensile",
          "Manutenzione straordinaria",
          "Sostituzione utensile",
          "Manutenzione ordinaria",
          "Sostituzione utensile",
          "Sostituzione utensile",
          "Manutenzione ordinaria",
          "Sostituzione utensile"
         ],
         "type": "scatter",
         "x": [
          "2023-01-19",
          "2023-01-20",
          "2023-01-21",
          "2023-01-23",
          "2023-01-23",
          "2023-01-24",
          "2023-01-25",
          "2023-01-26",
          "2023-01-26",
          "2023-01-27",
          "2023-01-27",
          "2023-01-28",
          "2023-01-30",
          "2023-01-30"
         ],
         "xaxis": "x2",
         "y": [
          1,
          4,
          null,
          1,
          5,
          4,
          3,
          1,
          5,
          1,
          6,
          1,
          1,
          2
         ],
         "yaxis": "y2"
        },
        {
         "marker": {
          "color": "#FFFF00",
          "size": 10
         },
         "mode": "markers+lines",
         "name": "1168100ALLS119007-12 Energy",
         "text": [
          null,
          null,
          143749.5,
          null,
          150229.7,
          74664.6,
          116365.7,
          145355.7,
          145355.7,
          145355.7,
          110758.8,
          null,
          null,
          null
         ],
         "type": "scatter",
         "x": [
          "2023-02-27",
          "2023-02-28",
          "2023-03-01",
          "2023-03-02",
          "2023-03-03",
          "2023-03-04",
          "2023-03-06",
          "2023-03-07",
          "2023-03-07",
          "2023-03-07",
          "2023-03-08",
          "2023-03-09",
          "2023-03-09",
          "2023-03-10"
         ],
         "xaxis": "x",
         "y": [
          null,
          null,
          143749.5,
          null,
          150229.7,
          74664.6,
          116365.7,
          145355.7,
          145355.7,
          145355.7,
          110758.8,
          null,
          null,
          null
         ],
         "yaxis": "y"
        },
        {
         "marker": {
          "color": "#FFFF00",
          "size": 10
         },
         "mode": "markers+lines",
         "name": "1168100ALLS119007-12 Productions",
         "text": [
          3615,
          9293,
          9556,
          10640,
          10190,
          5061,
          7514,
          9369,
          9369,
          9369,
          5180,
          9786,
          9786,
          7354
         ],
         "type": "scatter",
         "x": [
          "2023-02-27",
          "2023-02-28",
          "2023-03-01",
          "2023-03-02",
          "2023-03-03",
          "2023-03-04",
          "2023-03-06",
          "2023-03-07",
          "2023-03-07",
          "2023-03-07",
          "2023-03-08",
          "2023-03-09",
          "2023-03-09",
          "2023-03-10"
         ],
         "xaxis": "x3",
         "y": [
          3615,
          9293,
          9556,
          10640,
          10190,
          5061,
          7514,
          9369,
          9369,
          9369,
          5180,
          9786,
          9786,
          7354
         ],
         "yaxis": "y3"
        },
        {
         "marker": {
          "color": "#FFFF00",
          "size": 10
         },
         "mode": "markers+lines",
         "name": "1168100ALLS119007-12 Stops",
         "text": [
          "Unknown",
          "Unknown",
          "Unknown",
          "Unknown",
          "Sostituzione utensile",
          "Unknown",
          "Manutenzione ordinaria",
          "Manutenzione ordinaria",
          "Manutenzione straordinaria",
          "Sostituzione utensile",
          "Manutenzione ordinaria",
          "Manutenzione ordinaria",
          "Sostituzione utensile",
          "Manutenzione ordinaria"
         ],
         "type": "scatter",
         "x": [
          "2023-02-27",
          "2023-02-28",
          "2023-03-01",
          "2023-03-02",
          "2023-03-03",
          "2023-03-04",
          "2023-03-06",
          "2023-03-07",
          "2023-03-07",
          "2023-03-07",
          "2023-03-08",
          "2023-03-09",
          "2023-03-09",
          "2023-03-10"
         ],
         "xaxis": "x2",
         "y": [
          null,
          null,
          null,
          null,
          3,
          null,
          1,
          1,
          1,
          1,
          3,
          1,
          1,
          1
         ],
         "yaxis": "y2"
        },
        {
         "marker": {
          "color": "#880000",
          "size": 10
         },
         "mode": "markers+lines",
         "name": "1168100ALLS119007-7 Energy",
         "text": [
          116016.3,
          null,
          null,
          null,
          null,
          0,
          0
         ],
         "type": "scatter",
         "x": [
          "2023-08-03",
          "2023-08-04",
          "2023-08-04",
          "2023-08-28",
          "2023-08-28",
          "2023-08-29",
          "2023-08-29"
         ],
         "xaxis": "x",
         "y": [
          116016.3,
          null,
          null,
          null,
          null,
          0,
          0
         ],
         "yaxis": "y"
        },
        {
         "marker": {
          "color": "#880000",
          "size": 10
         },
         "mode": "markers+lines",
         "name": "1168100ALLS119007-7 Productions",
         "text": [
          5948,
          6626,
          6626,
          5067,
          5067,
          3537,
          3537
         ],
         "type": "scatter",
         "x": [
          "2023-08-03",
          "2023-08-04",
          "2023-08-04",
          "2023-08-28",
          "2023-08-28",
          "2023-08-29",
          "2023-08-29"
         ],
         "xaxis": "x3",
         "y": [
          5948,
          6626,
          6626,
          5067,
          5067,
          3537,
          3537
         ],
         "yaxis": "y3"
        },
        {
         "marker": {
          "color": "#880000",
          "size": 10
         },
         "mode": "markers+lines",
         "name": "1168100ALLS119007-7 Stops",
         "text": [
          "Manutenzione straordinaria",
          "Manutenzione ordinaria",
          "Sostituzione utensile",
          "Manutenzione ordinaria",
          "Sostituzione utensile",
          "Manutenzione ordinaria",
          "Sostituzione utensile"
         ],
         "type": "scatter",
         "x": [
          "2023-08-03",
          "2023-08-04",
          "2023-08-04",
          "2023-08-28",
          "2023-08-28",
          "2023-08-29",
          "2023-08-29"
         ],
         "xaxis": "x2",
         "y": [
          1,
          1,
          2,
          2,
          1,
          1,
          2
         ],
         "yaxis": "y2"
        }
       ],
       "layout": {
        "annotations": [
         {
          "font": {
           "size": 16
          },
          "showarrow": false,
          "text": "Energy Consumption",
          "x": 0.5,
          "xanchor": "center",
          "xref": "paper",
          "y": 1,
          "yanchor": "bottom",
          "yref": "paper"
         },
         {
          "font": {
           "size": 16
          },
          "showarrow": false,
          "text": "Stops",
          "x": 0.5,
          "xanchor": "center",
          "xref": "paper",
          "y": 0.6466666666666667,
          "yanchor": "bottom",
          "yref": "paper"
         },
         {
          "font": {
           "size": 16
          },
          "showarrow": false,
          "text": "Productions",
          "x": 0.5,
          "xanchor": "center",
          "xref": "paper",
          "y": 0.29333333333333333,
          "yanchor": "bottom",
          "yref": "paper"
         }
        ],
        "height": 800,
        "template": {
         "data": {
          "bar": [
           {
            "error_x": {
             "color": "#2a3f5f"
            },
            "error_y": {
             "color": "#2a3f5f"
            },
            "marker": {
             "line": {
              "color": "#E5ECF6",
              "width": 0.5
             },
             "pattern": {
              "fillmode": "overlay",
              "size": 10,
              "solidity": 0.2
             }
            },
            "type": "bar"
           }
          ],
          "barpolar": [
           {
            "marker": {
             "line": {
              "color": "#E5ECF6",
              "width": 0.5
             },
             "pattern": {
              "fillmode": "overlay",
              "size": 10,
              "solidity": 0.2
             }
            },
            "type": "barpolar"
           }
          ],
          "carpet": [
           {
            "aaxis": {
             "endlinecolor": "#2a3f5f",
             "gridcolor": "white",
             "linecolor": "white",
             "minorgridcolor": "white",
             "startlinecolor": "#2a3f5f"
            },
            "baxis": {
             "endlinecolor": "#2a3f5f",
             "gridcolor": "white",
             "linecolor": "white",
             "minorgridcolor": "white",
             "startlinecolor": "#2a3f5f"
            },
            "type": "carpet"
           }
          ],
          "choropleth": [
           {
            "colorbar": {
             "outlinewidth": 0,
             "ticks": ""
            },
            "type": "choropleth"
           }
          ],
          "contour": [
           {
            "colorbar": {
             "outlinewidth": 0,
             "ticks": ""
            },
            "colorscale": [
             [
              0,
              "#0d0887"
             ],
             [
              0.1111111111111111,
              "#46039f"
             ],
             [
              0.2222222222222222,
              "#7201a8"
             ],
             [
              0.3333333333333333,
              "#9c179e"
             ],
             [
              0.4444444444444444,
              "#bd3786"
             ],
             [
              0.5555555555555556,
              "#d8576b"
             ],
             [
              0.6666666666666666,
              "#ed7953"
             ],
             [
              0.7777777777777778,
              "#fb9f3a"
             ],
             [
              0.8888888888888888,
              "#fdca26"
             ],
             [
              1,
              "#f0f921"
             ]
            ],
            "type": "contour"
           }
          ],
          "contourcarpet": [
           {
            "colorbar": {
             "outlinewidth": 0,
             "ticks": ""
            },
            "type": "contourcarpet"
           }
          ],
          "heatmap": [
           {
            "colorbar": {
             "outlinewidth": 0,
             "ticks": ""
            },
            "colorscale": [
             [
              0,
              "#0d0887"
             ],
             [
              0.1111111111111111,
              "#46039f"
             ],
             [
              0.2222222222222222,
              "#7201a8"
             ],
             [
              0.3333333333333333,
              "#9c179e"
             ],
             [
              0.4444444444444444,
              "#bd3786"
             ],
             [
              0.5555555555555556,
              "#d8576b"
             ],
             [
              0.6666666666666666,
              "#ed7953"
             ],
             [
              0.7777777777777778,
              "#fb9f3a"
             ],
             [
              0.8888888888888888,
              "#fdca26"
             ],
             [
              1,
              "#f0f921"
             ]
            ],
            "type": "heatmap"
           }
          ],
          "heatmapgl": [
           {
            "colorbar": {
             "outlinewidth": 0,
             "ticks": ""
            },
            "colorscale": [
             [
              0,
              "#0d0887"
             ],
             [
              0.1111111111111111,
              "#46039f"
             ],
             [
              0.2222222222222222,
              "#7201a8"
             ],
             [
              0.3333333333333333,
              "#9c179e"
             ],
             [
              0.4444444444444444,
              "#bd3786"
             ],
             [
              0.5555555555555556,
              "#d8576b"
             ],
             [
              0.6666666666666666,
              "#ed7953"
             ],
             [
              0.7777777777777778,
              "#fb9f3a"
             ],
             [
              0.8888888888888888,
              "#fdca26"
             ],
             [
              1,
              "#f0f921"
             ]
            ],
            "type": "heatmapgl"
           }
          ],
          "histogram": [
           {
            "marker": {
             "pattern": {
              "fillmode": "overlay",
              "size": 10,
              "solidity": 0.2
             }
            },
            "type": "histogram"
           }
          ],
          "histogram2d": [
           {
            "colorbar": {
             "outlinewidth": 0,
             "ticks": ""
            },
            "colorscale": [
             [
              0,
              "#0d0887"
             ],
             [
              0.1111111111111111,
              "#46039f"
             ],
             [
              0.2222222222222222,
              "#7201a8"
             ],
             [
              0.3333333333333333,
              "#9c179e"
             ],
             [
              0.4444444444444444,
              "#bd3786"
             ],
             [
              0.5555555555555556,
              "#d8576b"
             ],
             [
              0.6666666666666666,
              "#ed7953"
             ],
             [
              0.7777777777777778,
              "#fb9f3a"
             ],
             [
              0.8888888888888888,
              "#fdca26"
             ],
             [
              1,
              "#f0f921"
             ]
            ],
            "type": "histogram2d"
           }
          ],
          "histogram2dcontour": [
           {
            "colorbar": {
             "outlinewidth": 0,
             "ticks": ""
            },
            "colorscale": [
             [
              0,
              "#0d0887"
             ],
             [
              0.1111111111111111,
              "#46039f"
             ],
             [
              0.2222222222222222,
              "#7201a8"
             ],
             [
              0.3333333333333333,
              "#9c179e"
             ],
             [
              0.4444444444444444,
              "#bd3786"
             ],
             [
              0.5555555555555556,
              "#d8576b"
             ],
             [
              0.6666666666666666,
              "#ed7953"
             ],
             [
              0.7777777777777778,
              "#fb9f3a"
             ],
             [
              0.8888888888888888,
              "#fdca26"
             ],
             [
              1,
              "#f0f921"
             ]
            ],
            "type": "histogram2dcontour"
           }
          ],
          "mesh3d": [
           {
            "colorbar": {
             "outlinewidth": 0,
             "ticks": ""
            },
            "type": "mesh3d"
           }
          ],
          "parcoords": [
           {
            "line": {
             "colorbar": {
              "outlinewidth": 0,
              "ticks": ""
             }
            },
            "type": "parcoords"
           }
          ],
          "pie": [
           {
            "automargin": true,
            "type": "pie"
           }
          ],
          "scatter": [
           {
            "fillpattern": {
             "fillmode": "overlay",
             "size": 10,
             "solidity": 0.2
            },
            "type": "scatter"
           }
          ],
          "scatter3d": [
           {
            "line": {
             "colorbar": {
              "outlinewidth": 0,
              "ticks": ""
             }
            },
            "marker": {
             "colorbar": {
              "outlinewidth": 0,
              "ticks": ""
             }
            },
            "type": "scatter3d"
           }
          ],
          "scattercarpet": [
           {
            "marker": {
             "colorbar": {
              "outlinewidth": 0,
              "ticks": ""
             }
            },
            "type": "scattercarpet"
           }
          ],
          "scattergeo": [
           {
            "marker": {
             "colorbar": {
              "outlinewidth": 0,
              "ticks": ""
             }
            },
            "type": "scattergeo"
           }
          ],
          "scattergl": [
           {
            "marker": {
             "colorbar": {
              "outlinewidth": 0,
              "ticks": ""
             }
            },
            "type": "scattergl"
           }
          ],
          "scattermapbox": [
           {
            "marker": {
             "colorbar": {
              "outlinewidth": 0,
              "ticks": ""
             }
            },
            "type": "scattermapbox"
           }
          ],
          "scatterpolar": [
           {
            "marker": {
             "colorbar": {
              "outlinewidth": 0,
              "ticks": ""
             }
            },
            "type": "scatterpolar"
           }
          ],
          "scatterpolargl": [
           {
            "marker": {
             "colorbar": {
              "outlinewidth": 0,
              "ticks": ""
             }
            },
            "type": "scatterpolargl"
           }
          ],
          "scatterternary": [
           {
            "marker": {
             "colorbar": {
              "outlinewidth": 0,
              "ticks": ""
             }
            },
            "type": "scatterternary"
           }
          ],
          "surface": [
           {
            "colorbar": {
             "outlinewidth": 0,
             "ticks": ""
            },
            "colorscale": [
             [
              0,
              "#0d0887"
             ],
             [
              0.1111111111111111,
              "#46039f"
             ],
             [
              0.2222222222222222,
              "#7201a8"
             ],
             [
              0.3333333333333333,
              "#9c179e"
             ],
             [
              0.4444444444444444,
              "#bd3786"
             ],
             [
              0.5555555555555556,
              "#d8576b"
             ],
             [
              0.6666666666666666,
              "#ed7953"
             ],
             [
              0.7777777777777778,
              "#fb9f3a"
             ],
             [
              0.8888888888888888,
              "#fdca26"
             ],
             [
              1,
              "#f0f921"
             ]
            ],
            "type": "surface"
           }
          ],
          "table": [
           {
            "cells": {
             "fill": {
              "color": "#EBF0F8"
             },
             "line": {
              "color": "white"
             }
            },
            "header": {
             "fill": {
              "color": "#C8D4E3"
             },
             "line": {
              "color": "white"
             }
            },
            "type": "table"
           }
          ]
         },
         "layout": {
          "annotationdefaults": {
           "arrowcolor": "#2a3f5f",
           "arrowhead": 0,
           "arrowwidth": 1
          },
          "autotypenumbers": "strict",
          "coloraxis": {
           "colorbar": {
            "outlinewidth": 0,
            "ticks": ""
           }
          },
          "colorscale": {
           "diverging": [
            [
             0,
             "#8e0152"
            ],
            [
             0.1,
             "#c51b7d"
            ],
            [
             0.2,
             "#de77ae"
            ],
            [
             0.3,
             "#f1b6da"
            ],
            [
             0.4,
             "#fde0ef"
            ],
            [
             0.5,
             "#f7f7f7"
            ],
            [
             0.6,
             "#e6f5d0"
            ],
            [
             0.7,
             "#b8e186"
            ],
            [
             0.8,
             "#7fbc41"
            ],
            [
             0.9,
             "#4d9221"
            ],
            [
             1,
             "#276419"
            ]
           ],
           "sequential": [
            [
             0,
             "#0d0887"
            ],
            [
             0.1111111111111111,
             "#46039f"
            ],
            [
             0.2222222222222222,
             "#7201a8"
            ],
            [
             0.3333333333333333,
             "#9c179e"
            ],
            [
             0.4444444444444444,
             "#bd3786"
            ],
            [
             0.5555555555555556,
             "#d8576b"
            ],
            [
             0.6666666666666666,
             "#ed7953"
            ],
            [
             0.7777777777777778,
             "#fb9f3a"
            ],
            [
             0.8888888888888888,
             "#fdca26"
            ],
            [
             1,
             "#f0f921"
            ]
           ],
           "sequentialminus": [
            [
             0,
             "#0d0887"
            ],
            [
             0.1111111111111111,
             "#46039f"
            ],
            [
             0.2222222222222222,
             "#7201a8"
            ],
            [
             0.3333333333333333,
             "#9c179e"
            ],
            [
             0.4444444444444444,
             "#bd3786"
            ],
            [
             0.5555555555555556,
             "#d8576b"
            ],
            [
             0.6666666666666666,
             "#ed7953"
            ],
            [
             0.7777777777777778,
             "#fb9f3a"
            ],
            [
             0.8888888888888888,
             "#fdca26"
            ],
            [
             1,
             "#f0f921"
            ]
           ]
          },
          "colorway": [
           "#636efa",
           "#EF553B",
           "#00cc96",
           "#ab63fa",
           "#FFA15A",
           "#19d3f3",
           "#FF6692",
           "#B6E880",
           "#FF97FF",
           "#FECB52"
          ],
          "font": {
           "color": "#2a3f5f"
          },
          "geo": {
           "bgcolor": "white",
           "lakecolor": "white",
           "landcolor": "#E5ECF6",
           "showlakes": true,
           "showland": true,
           "subunitcolor": "white"
          },
          "hoverlabel": {
           "align": "left"
          },
          "hovermode": "closest",
          "mapbox": {
           "style": "light"
          },
          "paper_bgcolor": "white",
          "plot_bgcolor": "#E5ECF6",
          "polar": {
           "angularaxis": {
            "gridcolor": "white",
            "linecolor": "white",
            "ticks": ""
           },
           "bgcolor": "#E5ECF6",
           "radialaxis": {
            "gridcolor": "white",
            "linecolor": "white",
            "ticks": ""
           }
          },
          "scene": {
           "xaxis": {
            "backgroundcolor": "#E5ECF6",
            "gridcolor": "white",
            "gridwidth": 2,
            "linecolor": "white",
            "showbackground": true,
            "ticks": "",
            "zerolinecolor": "white"
           },
           "yaxis": {
            "backgroundcolor": "#E5ECF6",
            "gridcolor": "white",
            "gridwidth": 2,
            "linecolor": "white",
            "showbackground": true,
            "ticks": "",
            "zerolinecolor": "white"
           },
           "zaxis": {
            "backgroundcolor": "#E5ECF6",
            "gridcolor": "white",
            "gridwidth": 2,
            "linecolor": "white",
            "showbackground": true,
            "ticks": "",
            "zerolinecolor": "white"
           }
          },
          "shapedefaults": {
           "line": {
            "color": "#2a3f5f"
           }
          },
          "ternary": {
           "aaxis": {
            "gridcolor": "white",
            "linecolor": "white",
            "ticks": ""
           },
           "baxis": {
            "gridcolor": "white",
            "linecolor": "white",
            "ticks": ""
           },
           "bgcolor": "#E5ECF6",
           "caxis": {
            "gridcolor": "white",
            "linecolor": "white",
            "ticks": ""
           }
          },
          "title": {
           "x": 0.05
          },
          "xaxis": {
           "automargin": true,
           "gridcolor": "white",
           "linecolor": "white",
           "ticks": "",
           "title": {
            "standoff": 15
           },
           "zerolinecolor": "white",
           "zerolinewidth": 2
          },
          "yaxis": {
           "automargin": true,
           "gridcolor": "white",
           "linecolor": "white",
           "ticks": "",
           "title": {
            "standoff": 15
           },
           "zerolinecolor": "white",
           "zerolinewidth": 2
          }
         }
        },
        "title": {
         "text": "Dataset machine 110"
        },
        "width": 1280,
        "xaxis": {
         "anchor": "y",
         "domain": [
          0,
          1
         ],
         "matches": "x3",
         "showticklabels": false
        },
        "xaxis2": {
         "anchor": "y2",
         "domain": [
          0,
          1
         ],
         "matches": "x3",
         "showticklabels": false
        },
        "xaxis3": {
         "anchor": "y3",
         "domain": [
          0,
          1
         ]
        },
        "yaxis": {
         "anchor": "x",
         "domain": [
          0.7066666666666667,
          1
         ]
        },
        "yaxis2": {
         "anchor": "x2",
         "domain": [
          0.35333333333333333,
          0.6466666666666667
         ]
        },
        "yaxis3": {
         "anchor": "x3",
         "domain": [
          0,
          0.29333333333333333
         ]
        }
       }
      }
     },
     "metadata": {},
     "output_type": "display_data"
    },
    {
     "data": {
      "application/vnd.plotly.v1+json": {
       "config": {
        "plotlyServerURL": "https://plot.ly"
       },
       "data": [
        {
         "marker": {
          "color": "blue",
          "size": 10
         },
         "mode": "markers+lines",
         "name": "1178000C45P05BI Energy",
         "text": [
          null,
          null,
          null,
          229163.5,
          229163.5,
          274006.9,
          274006.9,
          null,
          null,
          null,
          null,
          null,
          null,
          null,
          null,
          null,
          0,
          null,
          0,
          null,
          null,
          null,
          null,
          null,
          null,
          null,
          null,
          0,
          null,
          276374.9,
          276374.9,
          null,
          null,
          266187.9,
          172819.6,
          172819.6,
          49891.4,
          92932.8,
          212187.1,
          263651.8,
          263651.8,
          239422.5,
          239422.5,
          286115.8,
          51678,
          null,
          128423.8,
          228715,
          235909.6,
          161555.5
         ],
         "type": "scatter",
         "x": [
          "2023-07-29",
          "2023-07-31",
          "2023-08-01",
          "2023-08-02",
          "2023-08-02",
          "2023-08-03",
          "2023-08-03",
          "2023-08-04",
          "2023-08-05",
          "2023-08-05",
          "2023-08-07",
          "2023-08-08",
          "2023-08-09",
          "2023-08-10",
          "2023-08-11",
          "2023-08-28",
          "2023-08-29",
          "2023-07-05",
          "2023-07-06",
          "2023-07-07",
          "2023-07-08",
          "2023-07-10",
          "2023-07-11",
          "2023-07-12",
          "2023-07-12",
          "2023-07-13",
          "2023-07-14",
          "2023-07-15",
          "2023-07-17",
          "2023-07-18",
          "2023-07-18",
          "2023-07-19",
          "2023-07-19",
          "2023-07-20",
          "2023-07-21",
          "2023-07-21",
          "2023-07-22",
          "2023-07-24",
          "2023-07-25",
          "2023-07-26",
          "2023-07-26",
          "2023-07-27",
          "2023-07-27",
          "2023-07-28",
          "2023-07-29",
          "2022-12-23",
          "2022-12-27",
          "2022-12-28",
          "2022-12-29",
          "2022-12-30"
         ],
         "xaxis": "x",
         "y": [
          null,
          null,
          null,
          229163.5,
          229163.5,
          274006.9,
          274006.9,
          null,
          null,
          null,
          null,
          null,
          null,
          null,
          null,
          null,
          0,
          null,
          0,
          null,
          null,
          null,
          null,
          null,
          null,
          null,
          null,
          0,
          null,
          276374.9,
          276374.9,
          null,
          null,
          266187.9,
          172819.6,
          172819.6,
          49891.4,
          92932.8,
          212187.1,
          263651.8,
          263651.8,
          239422.5,
          239422.5,
          286115.8,
          51678,
          null,
          128423.8,
          228715,
          235909.6,
          161555.5
         ],
         "yaxis": "y"
        },
        {
         "marker": {
          "color": "blue",
          "size": 10
         },
         "mode": "markers+lines",
         "name": "1178000C45P05BI Productions",
         "text": [
          71,
          403,
          326,
          366,
          366,
          495,
          495,
          229,
          144,
          144,
          214,
          350,
          254,
          308,
          660,
          328,
          259,
          97,
          505,
          641,
          59,
          309,
          467,
          456,
          456,
          516,
          431,
          174,
          231,
          427,
          427,
          482,
          482,
          486,
          147,
          147,
          225,
          36,
          259,
          453,
          453,
          438,
          438,
          549,
          142,
          0,
          238,
          551,
          571,
          195
         ],
         "type": "scatter",
         "x": [
          "2023-07-29",
          "2023-07-31",
          "2023-08-01",
          "2023-08-02",
          "2023-08-02",
          "2023-08-03",
          "2023-08-03",
          "2023-08-04",
          "2023-08-05",
          "2023-08-05",
          "2023-08-07",
          "2023-08-08",
          "2023-08-09",
          "2023-08-10",
          "2023-08-11",
          "2023-08-28",
          "2023-08-29",
          "2023-07-05",
          "2023-07-06",
          "2023-07-07",
          "2023-07-08",
          "2023-07-10",
          "2023-07-11",
          "2023-07-12",
          "2023-07-12",
          "2023-07-13",
          "2023-07-14",
          "2023-07-15",
          "2023-07-17",
          "2023-07-18",
          "2023-07-18",
          "2023-07-19",
          "2023-07-19",
          "2023-07-20",
          "2023-07-21",
          "2023-07-21",
          "2023-07-22",
          "2023-07-24",
          "2023-07-25",
          "2023-07-26",
          "2023-07-26",
          "2023-07-27",
          "2023-07-27",
          "2023-07-28",
          "2023-07-29",
          "2022-12-23",
          "2022-12-27",
          "2022-12-28",
          "2022-12-29",
          "2022-12-30"
         ],
         "xaxis": "x3",
         "y": [
          71,
          403,
          326,
          366,
          366,
          495,
          495,
          229,
          144,
          144,
          214,
          350,
          254,
          308,
          660,
          328,
          259,
          97,
          505,
          641,
          59,
          309,
          467,
          456,
          456,
          516,
          431,
          174,
          231,
          427,
          427,
          482,
          482,
          486,
          147,
          147,
          225,
          36,
          259,
          453,
          453,
          438,
          438,
          549,
          142,
          0,
          238,
          551,
          571,
          195
         ],
         "yaxis": "y3"
        },
        {
         "marker": {
          "color": "blue",
          "size": 10
         },
         "mode": "markers+lines",
         "name": "1178000C45P05BI Stops",
         "text": [
          "Unknown",
          "Unknown",
          "Manutenzione ordinaria",
          "Manutenzione ordinaria",
          "Sostituzione utensile",
          "Manutenzione ordinaria",
          "Sostituzione utensile",
          "Manutenzione ordinaria",
          "Manutenzione ordinaria",
          "Sostituzione utensile",
          "Manutenzione ordinaria",
          "Unknown",
          "Manutenzione ordinaria",
          "Sostituzione utensile",
          "Sostituzione utensile",
          "Unknown",
          "Sostituzione utensile",
          "Sostituzione utensile",
          "Sostituzione utensile",
          "Sostituzione utensile",
          "Sostituzione utensile",
          "Sostituzione utensile",
          "Sostituzione utensile",
          "Manutenzione ordinaria",
          "Sostituzione utensile",
          "Sostituzione utensile",
          "Sostituzione utensile",
          "Unknown",
          "Unknown",
          "Manutenzione ordinaria",
          "Sostituzione utensile",
          "Manutenzione ordinaria",
          "Sostituzione utensile",
          "Unknown",
          "Manutenzione ordinaria",
          "Sostituzione utensile",
          "Unknown",
          "Manutenzione ordinaria",
          "Manutenzione ordinaria",
          "Manutenzione ordinaria",
          "Sostituzione utensile",
          "Manutenzione ordinaria",
          "Sostituzione utensile",
          "Sostituzione utensile",
          "Sostituzione utensile",
          "Sostituzione utensile",
          "Sostituzione utensile",
          "Sostituzione utensile",
          "Sostituzione utensile",
          "Sostituzione utensile"
         ],
         "type": "scatter",
         "x": [
          "2023-07-29",
          "2023-07-31",
          "2023-08-01",
          "2023-08-02",
          "2023-08-02",
          "2023-08-03",
          "2023-08-03",
          "2023-08-04",
          "2023-08-05",
          "2023-08-05",
          "2023-08-07",
          "2023-08-08",
          "2023-08-09",
          "2023-08-10",
          "2023-08-11",
          "2023-08-28",
          "2023-08-29",
          "2023-07-05",
          "2023-07-06",
          "2023-07-07",
          "2023-07-08",
          "2023-07-10",
          "2023-07-11",
          "2023-07-12",
          "2023-07-12",
          "2023-07-13",
          "2023-07-14",
          "2023-07-15",
          "2023-07-17",
          "2023-07-18",
          "2023-07-18",
          "2023-07-19",
          "2023-07-19",
          "2023-07-20",
          "2023-07-21",
          "2023-07-21",
          "2023-07-22",
          "2023-07-24",
          "2023-07-25",
          "2023-07-26",
          "2023-07-26",
          "2023-07-27",
          "2023-07-27",
          "2023-07-28",
          "2023-07-29",
          "2022-12-23",
          "2022-12-27",
          "2022-12-28",
          "2022-12-29",
          "2022-12-30"
         ],
         "xaxis": "x2",
         "y": [
          null,
          null,
          2,
          1,
          1,
          2,
          1,
          1,
          1,
          1,
          1,
          null,
          1,
          1,
          2,
          null,
          1,
          3,
          2,
          2,
          1,
          2,
          1,
          1,
          1,
          2,
          3,
          null,
          null,
          1,
          5,
          1,
          2,
          null,
          4,
          1,
          null,
          4,
          1,
          3,
          1,
          1,
          1,
          1,
          1,
          4,
          2,
          5,
          5,
          3
         ],
         "yaxis": "y2"
        },
        {
         "marker": {
          "color": "black",
          "size": 10
         },
         "mode": "markers+lines",
         "name": "Unknown Energy",
         "text": [
          0.1,
          0.1,
          0.1,
          0.1,
          0.1,
          0.1,
          0.1,
          0.1,
          null,
          0,
          0.1,
          0.1,
          0.1,
          0,
          3430.5,
          0.1,
          0.1,
          null,
          null,
          null,
          null,
          0,
          0.1,
          0.1,
          0,
          3848,
          0.1,
          0,
          0.1,
          0,
          74398.6,
          139658.9,
          null,
          null,
          null,
          106541,
          106541,
          31120,
          87249.2,
          0,
          0,
          0,
          null,
          null,
          null,
          225892.6,
          null
         ],
         "type": "scatter",
         "x": [
          "2023-08-15",
          "2023-08-16",
          "2023-08-17",
          "2023-08-18",
          "2023-08-19",
          "2023-08-20",
          "2023-08-21",
          "2023-08-22",
          "2023-08-30",
          "2023-08-31",
          "2023-07-16",
          "2023-07-23",
          "2023-07-30",
          "2023-07-31",
          "2023-06-10",
          "2023-06-11",
          "2023-06-18",
          "2023-06-26",
          "2023-06-27",
          "2023-06-28",
          "2023-06-29",
          "2023-06-30",
          "2022-12-09",
          "2022-12-10",
          "2022-12-11",
          "2022-12-17",
          "2022-12-18",
          "2022-12-31",
          "2023-03-05",
          "2023-03-11",
          "2023-03-14",
          "2023-03-15",
          "2023-03-20",
          "2023-03-20",
          "2023-03-20",
          "2023-03-21",
          "2023-03-21",
          "2023-03-22",
          "2023-03-23",
          "2023-03-24",
          "2023-03-24",
          "2023-03-25",
          "2023-03-27",
          "2023-03-28",
          "2023-03-29",
          "2023-03-30",
          "2023-03-31"
         ],
         "xaxis": "x",
         "y": [
          0.1,
          0.1,
          0.1,
          0.1,
          0.1,
          0.1,
          0.1,
          0.1,
          null,
          0,
          0.1,
          0.1,
          0.1,
          0,
          3430.5,
          0.1,
          0.1,
          null,
          null,
          null,
          null,
          0,
          0.1,
          0.1,
          0,
          3848,
          0.1,
          0,
          0.1,
          0,
          74398.6,
          139658.9,
          null,
          null,
          null,
          106541,
          106541,
          31120,
          87249.2,
          0,
          0,
          0,
          null,
          null,
          null,
          225892.6,
          null
         ],
         "yaxis": "y"
        },
        {
         "marker": {
          "color": "black",
          "size": 10
         },
         "mode": "markers+lines",
         "name": "Unknown Productions",
         "text": [
          null,
          null,
          null,
          null,
          null,
          null,
          null,
          null,
          null,
          null,
          null,
          null,
          null,
          null,
          null,
          null,
          null,
          null,
          null,
          null,
          null,
          null,
          null,
          null,
          null,
          null,
          null,
          null,
          null,
          null,
          null,
          null,
          null,
          null,
          null,
          null,
          null,
          null,
          null,
          null,
          null,
          null,
          null,
          null,
          null,
          null,
          null
         ],
         "type": "scatter",
         "x": [
          "2023-08-15",
          "2023-08-16",
          "2023-08-17",
          "2023-08-18",
          "2023-08-19",
          "2023-08-20",
          "2023-08-21",
          "2023-08-22",
          "2023-08-30",
          "2023-08-31",
          "2023-07-16",
          "2023-07-23",
          "2023-07-30",
          "2023-07-31",
          "2023-06-10",
          "2023-06-11",
          "2023-06-18",
          "2023-06-26",
          "2023-06-27",
          "2023-06-28",
          "2023-06-29",
          "2023-06-30",
          "2022-12-09",
          "2022-12-10",
          "2022-12-11",
          "2022-12-17",
          "2022-12-18",
          "2022-12-31",
          "2023-03-05",
          "2023-03-11",
          "2023-03-14",
          "2023-03-15",
          "2023-03-20",
          "2023-03-20",
          "2023-03-20",
          "2023-03-21",
          "2023-03-21",
          "2023-03-22",
          "2023-03-23",
          "2023-03-24",
          "2023-03-24",
          "2023-03-25",
          "2023-03-27",
          "2023-03-28",
          "2023-03-29",
          "2023-03-30",
          "2023-03-31"
         ],
         "xaxis": "x3",
         "y": [
          null,
          null,
          null,
          null,
          null,
          null,
          null,
          null,
          null,
          null,
          null,
          null,
          null,
          null,
          null,
          null,
          null,
          null,
          null,
          null,
          null,
          null,
          null,
          null,
          null,
          null,
          null,
          null,
          null,
          null,
          null,
          null,
          null,
          null,
          null,
          null,
          null,
          null,
          null,
          null,
          null,
          null,
          null,
          null,
          null,
          null,
          null
         ],
         "yaxis": "y3"
        },
        {
         "marker": {
          "color": "black",
          "size": 10
         },
         "mode": "markers+lines",
         "name": "Unknown Stops",
         "text": [
          "Unknown",
          "Unknown",
          "Unknown",
          "Unknown",
          "Unknown",
          "Unknown",
          "Unknown",
          "Unknown",
          "Sostituzione utensile",
          "Sostituzione utensile",
          "Unknown",
          "Unknown",
          "Unknown",
          "Unknown",
          "Unknown",
          "Unknown",
          "Unknown",
          "Sostituzione utensile",
          "Sostituzione utensile",
          "Manutenzione ordinaria",
          "Manutenzione ordinaria",
          "Sostituzione utensile",
          "Unknown",
          "Unknown",
          "Unknown",
          "Unknown",
          "Unknown",
          "Unknown",
          "Unknown",
          "Unknown",
          "Unknown",
          "Sostituzione utensile",
          "Manutenzione ordinaria",
          "Manutenzione straordinaria",
          "Sostituzione utensile",
          "Manutenzione ordinaria",
          "Sostituzione utensile",
          "Unknown",
          "Sostituzione utensile",
          "Manutenzione ordinaria",
          "Sostituzione utensile",
          "Unknown",
          "Sostituzione utensile",
          "Sostituzione utensile",
          "Sostituzione utensile",
          "Sostituzione utensile",
          "Sostituzione utensile"
         ],
         "type": "scatter",
         "x": [
          "2023-08-15",
          "2023-08-16",
          "2023-08-17",
          "2023-08-18",
          "2023-08-19",
          "2023-08-20",
          "2023-08-21",
          "2023-08-22",
          "2023-08-30",
          "2023-08-31",
          "2023-07-16",
          "2023-07-23",
          "2023-07-30",
          "2023-07-31",
          "2023-06-10",
          "2023-06-11",
          "2023-06-18",
          "2023-06-26",
          "2023-06-27",
          "2023-06-28",
          "2023-06-29",
          "2023-06-30",
          "2022-12-09",
          "2022-12-10",
          "2022-12-11",
          "2022-12-17",
          "2022-12-18",
          "2022-12-31",
          "2023-03-05",
          "2023-03-11",
          "2023-03-14",
          "2023-03-15",
          "2023-03-20",
          "2023-03-20",
          "2023-03-20",
          "2023-03-21",
          "2023-03-21",
          "2023-03-22",
          "2023-03-23",
          "2023-03-24",
          "2023-03-24",
          "2023-03-25",
          "2023-03-27",
          "2023-03-28",
          "2023-03-29",
          "2023-03-30",
          "2023-03-31"
         ],
         "xaxis": "x2",
         "y": [
          null,
          null,
          null,
          null,
          null,
          null,
          null,
          null,
          1,
          1,
          null,
          null,
          null,
          null,
          null,
          null,
          null,
          2,
          1,
          4,
          1,
          1,
          null,
          null,
          null,
          null,
          null,
          null,
          null,
          null,
          null,
          3,
          2,
          1,
          3,
          2,
          5,
          null,
          2,
          1,
          3,
          null,
          10,
          1,
          1,
          7,
          7
         ],
         "yaxis": "y2"
        },
        {
         "marker": {
          "color": "#FF0000",
          "size": 10
         },
         "mode": "markers+lines",
         "name": "1163700100VAE1600214 Energy",
         "text": [
          null,
          null,
          null,
          null,
          null,
          null,
          null,
          null,
          24292,
          13071.5,
          null,
          167926.1,
          243298.9,
          239668.2,
          null,
          189740.2,
          189740.2,
          20439.5,
          153603.5,
          215117.9,
          0,
          117664.2
         ],
         "type": "scatter",
         "x": [
          "2023-06-22",
          "2023-06-23",
          "2023-06-24",
          "2023-06-26",
          "2023-06-27",
          "2023-06-28",
          "2023-06-29",
          "2023-06-30",
          "2023-06-07",
          "2023-06-08",
          "2023-06-09",
          "2023-06-12",
          "2023-06-13",
          "2023-06-14",
          "2023-06-15",
          "2023-06-16",
          "2023-06-16",
          "2023-06-17",
          "2023-06-19",
          "2023-06-20",
          "2023-06-21",
          "2023-06-22"
         ],
         "xaxis": "x",
         "y": [
          null,
          null,
          null,
          null,
          null,
          null,
          null,
          null,
          24292,
          13071.5,
          null,
          167926.1,
          243298.9,
          239668.2,
          null,
          189740.2,
          189740.2,
          20439.5,
          153603.5,
          215117.9,
          0,
          117664.2
         ],
         "yaxis": "y"
        },
        {
         "marker": {
          "color": "#FF0000",
          "size": 10
         },
         "mode": "markers+lines",
         "name": "1163700100VAE1600214 Productions",
         "text": [
          1,
          87,
          63,
          89,
          184,
          97,
          61,
          120,
          0,
          0,
          0,
          36,
          244,
          70,
          74,
          84,
          84,
          30,
          64,
          119,
          102,
          1
         ],
         "type": "scatter",
         "x": [
          "2023-06-22",
          "2023-06-23",
          "2023-06-24",
          "2023-06-26",
          "2023-06-27",
          "2023-06-28",
          "2023-06-29",
          "2023-06-30",
          "2023-06-07",
          "2023-06-08",
          "2023-06-09",
          "2023-06-12",
          "2023-06-13",
          "2023-06-14",
          "2023-06-15",
          "2023-06-16",
          "2023-06-16",
          "2023-06-17",
          "2023-06-19",
          "2023-06-20",
          "2023-06-21",
          "2023-06-22"
         ],
         "xaxis": "x3",
         "y": [
          1,
          87,
          63,
          89,
          184,
          97,
          61,
          120,
          0,
          0,
          0,
          36,
          244,
          70,
          74,
          84,
          84,
          30,
          64,
          119,
          102,
          1
         ],
         "yaxis": "y3"
        },
        {
         "marker": {
          "color": "#FF0000",
          "size": 10
         },
         "mode": "markers+lines",
         "name": "1163700100VAE1600214 Stops",
         "text": [
          "Unknown",
          "Unknown",
          "Unknown",
          "Unknown",
          "Unknown",
          "Unknown",
          "Unknown",
          "Unknown",
          "Unknown",
          "Unknown",
          "Unknown",
          "Unknown",
          "Sostituzione utensile",
          "Sostituzione utensile",
          "Sostituzione utensile",
          "Manutenzione ordinaria",
          "Sostituzione utensile",
          "Sostituzione utensile",
          "Sostituzione utensile",
          "Sostituzione utensile",
          "Manutenzione ordinaria",
          "Unknown"
         ],
         "type": "scatter",
         "x": [
          "2023-06-22",
          "2023-06-23",
          "2023-06-24",
          "2023-06-26",
          "2023-06-27",
          "2023-06-28",
          "2023-06-29",
          "2023-06-30",
          "2023-06-07",
          "2023-06-08",
          "2023-06-09",
          "2023-06-12",
          "2023-06-13",
          "2023-06-14",
          "2023-06-15",
          "2023-06-16",
          "2023-06-16",
          "2023-06-17",
          "2023-06-19",
          "2023-06-20",
          "2023-06-21",
          "2023-06-22"
         ],
         "xaxis": "x2",
         "y": [
          null,
          null,
          null,
          null,
          null,
          null,
          null,
          null,
          null,
          null,
          null,
          null,
          2,
          2,
          1,
          1,
          2,
          1,
          5,
          1,
          2,
          null
         ],
         "yaxis": "y2"
        },
        {
         "marker": {
          "color": "#00FFFF",
          "size": 10
         },
         "mode": "markers+lines",
         "name": "1084600FE32063155 Energy",
         "text": [
          null,
          72942.4,
          72942.4,
          211642.8,
          null
         ],
         "type": "scatter",
         "x": [
          "2023-06-30",
          "2023-07-03",
          "2023-07-03",
          "2023-07-04",
          "2023-07-05"
         ],
         "xaxis": "x",
         "y": [
          null,
          72942.4,
          72942.4,
          211642.8,
          null
         ],
         "yaxis": "y"
        },
        {
         "marker": {
          "color": "#00FFFF",
          "size": 10
         },
         "mode": "markers+lines",
         "name": "1084600FE32063155 Productions",
         "text": [
          0,
          598,
          598,
          1350,
          496
         ],
         "type": "scatter",
         "x": [
          "2023-06-30",
          "2023-07-03",
          "2023-07-03",
          "2023-07-04",
          "2023-07-05"
         ],
         "xaxis": "x3",
         "y": [
          0,
          598,
          598,
          1350,
          496
         ],
         "yaxis": "y3"
        },
        {
         "marker": {
          "color": "#00FFFF",
          "size": 10
         },
         "mode": "markers+lines",
         "name": "1084600FE32063155 Stops",
         "text": [
          "Unknown",
          "Manutenzione ordinaria",
          "Sostituzione utensile",
          "Unknown",
          "Sostituzione utensile"
         ],
         "type": "scatter",
         "x": [
          "2023-06-30",
          "2023-07-03",
          "2023-07-03",
          "2023-07-04",
          "2023-07-05"
         ],
         "xaxis": "x2",
         "y": [
          null,
          2,
          3,
          null,
          3
         ],
         "yaxis": "y2"
        },
        {
         "marker": {
          "color": "#FFFF00",
          "size": 10
         },
         "mode": "markers+lines",
         "name": "0003200AISPLTX.050.200-A2 Energy",
         "text": [
          null,
          null
         ],
         "type": "scatter",
         "x": [
          "2023-05-30",
          "2023-05-31"
         ],
         "xaxis": "x",
         "y": [
          null,
          null
         ],
         "yaxis": "y"
        },
        {
         "marker": {
          "color": "#FFFF00",
          "size": 10
         },
         "mode": "markers+lines",
         "name": "0003200AISPLTX.050.200-A2 Productions",
         "text": [
          56,
          50
         ],
         "type": "scatter",
         "x": [
          "2023-05-30",
          "2023-05-31"
         ],
         "xaxis": "x3",
         "y": [
          56,
          50
         ],
         "yaxis": "y3"
        },
        {
         "marker": {
          "color": "#FFFF00",
          "size": 10
         },
         "mode": "markers+lines",
         "name": "0003200AISPLTX.050.200-A2 Stops",
         "text": [
          "Unknown",
          "Unknown"
         ],
         "type": "scatter",
         "x": [
          "2023-05-30",
          "2023-05-31"
         ],
         "xaxis": "x2",
         "y": [
          null,
          null
         ],
         "yaxis": "y2"
        },
        {
         "marker": {
          "color": "#880000",
          "size": 10
         },
         "mode": "markers+lines",
         "name": "1139000PR8510000375A Energy",
         "text": [
          null,
          null,
          null
         ],
         "type": "scatter",
         "x": [
          "2023-06-01",
          "2023-06-05",
          "2023-06-06"
         ],
         "xaxis": "x",
         "y": [
          null,
          null,
          null
         ],
         "yaxis": "y"
        },
        {
         "marker": {
          "color": "#880000",
          "size": 10
         },
         "mode": "markers+lines",
         "name": "1139000PR8510000375A Productions",
         "text": [
          0,
          195,
          96
         ],
         "type": "scatter",
         "x": [
          "2023-06-01",
          "2023-06-05",
          "2023-06-06"
         ],
         "xaxis": "x3",
         "y": [
          0,
          195,
          96
         ],
         "yaxis": "y3"
        },
        {
         "marker": {
          "color": "#880000",
          "size": 10
         },
         "mode": "markers+lines",
         "name": "1139000PR8510000375A Stops",
         "text": [
          "Unknown",
          "Unknown",
          "Unknown"
         ],
         "type": "scatter",
         "x": [
          "2023-06-01",
          "2023-06-05",
          "2023-06-06"
         ],
         "xaxis": "x2",
         "y": [
          null,
          null,
          null
         ],
         "yaxis": "y2"
        },
        {
         "marker": {
          "color": "blue",
          "size": 10
         },
         "mode": "markers+lines",
         "name": "1178000C45T06BM Energy",
         "text": [
          null,
          null,
          null,
          281896.8,
          218649.4,
          null,
          206638.1,
          319862.5,
          314007,
          null,
          223110.1,
          269379.7,
          55289.1
         ],
         "type": "scatter",
         "x": [
          "2022-11-28",
          "2022-11-29",
          "2022-11-30",
          "2022-12-01",
          "2022-12-02",
          "2022-12-03",
          "2022-12-05",
          "2022-12-06",
          "2022-12-07",
          "2022-12-08",
          "2022-12-12",
          "2022-12-13",
          "2022-12-14"
         ],
         "xaxis": "x",
         "y": [
          null,
          null,
          null,
          281896.8,
          218649.4,
          null,
          206638.1,
          319862.5,
          314007,
          null,
          223110.1,
          269379.7,
          55289.1
         ],
         "yaxis": "y"
        },
        {
         "marker": {
          "color": "blue",
          "size": 10
         },
         "mode": "markers+lines",
         "name": "1178000C45T06BM Productions",
         "text": [
          0,
          277,
          579,
          658,
          455,
          456,
          464,
          711,
          664,
          172,
          462,
          640,
          94
         ],
         "type": "scatter",
         "x": [
          "2022-11-28",
          "2022-11-29",
          "2022-11-30",
          "2022-12-01",
          "2022-12-02",
          "2022-12-03",
          "2022-12-05",
          "2022-12-06",
          "2022-12-07",
          "2022-12-08",
          "2022-12-12",
          "2022-12-13",
          "2022-12-14"
         ],
         "xaxis": "x3",
         "y": [
          0,
          277,
          579,
          658,
          455,
          456,
          464,
          711,
          664,
          172,
          462,
          640,
          94
         ],
         "yaxis": "y3"
        },
        {
         "marker": {
          "color": "blue",
          "size": 10
         },
         "mode": "markers+lines",
         "name": "1178000C45T06BM Stops",
         "text": [
          "Unknown",
          "Unknown",
          "Unknown",
          "Sostituzione utensile",
          "Sostituzione utensile",
          "Sostituzione utensile",
          "Unknown",
          "Sostituzione utensile",
          "Sostituzione utensile",
          "Sostituzione utensile",
          "Sostituzione utensile",
          "Sostituzione utensile",
          "Sostituzione utensile"
         ],
         "type": "scatter",
         "x": [
          "2022-11-28",
          "2022-11-29",
          "2022-11-30",
          "2022-12-01",
          "2022-12-02",
          "2022-12-03",
          "2022-12-05",
          "2022-12-06",
          "2022-12-07",
          "2022-12-08",
          "2022-12-12",
          "2022-12-13",
          "2022-12-14"
         ],
         "xaxis": "x2",
         "y": [
          null,
          null,
          null,
          1,
          1,
          1,
          null,
          2,
          1,
          1,
          2,
          3,
          1
         ],
         "yaxis": "y2"
        },
        {
         "marker": {
          "color": "green",
          "size": 10
         },
         "mode": "markers+lines",
         "name": "1164800AIS450245 Energy",
         "text": [
          55289.1,
          0
         ],
         "type": "scatter",
         "x": [
          "2022-12-14",
          "2022-12-15"
         ],
         "xaxis": "x",
         "y": [
          55289.1,
          0
         ],
         "yaxis": "y"
        },
        {
         "marker": {
          "color": "green",
          "size": 10
         },
         "mode": "markers+lines",
         "name": "1164800AIS450245 Productions",
         "text": [
          370,
          546
         ],
         "type": "scatter",
         "x": [
          "2022-12-14",
          "2022-12-15"
         ],
         "xaxis": "x3",
         "y": [
          370,
          546
         ],
         "yaxis": "y3"
        },
        {
         "marker": {
          "color": "green",
          "size": 10
         },
         "mode": "markers+lines",
         "name": "1164800AIS450245 Stops",
         "text": [
          "Sostituzione utensile",
          "Sostituzione utensile"
         ],
         "type": "scatter",
         "x": [
          "2022-12-14",
          "2022-12-15"
         ],
         "xaxis": "x2",
         "y": [
          1,
          1
         ],
         "yaxis": "y2"
        },
        {
         "marker": {
          "color": "#FF0000",
          "size": 10
         },
         "mode": "markers+lines",
         "name": "114950020M469111.019 Energy",
         "text": [
          0,
          109908.9,
          57138.6,
          55289.9,
          13297.5,
          108861.8,
          92280.4,
          92280.4
         ],
         "type": "scatter",
         "x": [
          "2022-12-15",
          "2022-12-16",
          "2022-12-19",
          "2023-03-03",
          "2023-03-04",
          "2023-03-06",
          "2023-03-07",
          "2023-03-07"
         ],
         "xaxis": "x",
         "y": [
          0,
          109908.9,
          57138.6,
          55289.9,
          13297.5,
          108861.8,
          92280.4,
          92280.4
         ],
         "yaxis": "y"
        },
        {
         "marker": {
          "color": "#FF0000",
          "size": 10
         },
         "mode": "markers+lines",
         "name": "114950020M469111.019 Productions",
         "text": [
          0,
          550,
          198,
          0,
          0,
          638,
          132,
          132
         ],
         "type": "scatter",
         "x": [
          "2022-12-15",
          "2022-12-16",
          "2022-12-19",
          "2023-03-03",
          "2023-03-04",
          "2023-03-06",
          "2023-03-07",
          "2023-03-07"
         ],
         "xaxis": "x3",
         "y": [
          0,
          550,
          198,
          0,
          0,
          638,
          132,
          132
         ],
         "yaxis": "y3"
        },
        {
         "marker": {
          "color": "#FF0000",
          "size": 10
         },
         "mode": "markers+lines",
         "name": "114950020M469111.019 Stops",
         "text": [
          "Sostituzione utensile",
          "Sostituzione utensile",
          "Sostituzione utensile",
          "Sostituzione utensile",
          "Unknown",
          "Sostituzione utensile",
          "Manutenzione ordinaria",
          "Sostituzione utensile"
         ],
         "type": "scatter",
         "x": [
          "2022-12-15",
          "2022-12-16",
          "2022-12-19",
          "2023-03-03",
          "2023-03-04",
          "2023-03-06",
          "2023-03-07",
          "2023-03-07"
         ],
         "xaxis": "x2",
         "y": [
          1,
          2,
          1,
          1,
          null,
          6,
          1,
          6
         ],
         "yaxis": "y2"
        },
        {
         "marker": {
          "color": "#00FFFF",
          "size": 10
         },
         "mode": "markers+lines",
         "name": "1139000AVP505000708A Energy",
         "text": [
          57138.6,
          115852.7,
          120574.3
         ],
         "type": "scatter",
         "x": [
          "2022-12-19",
          "2022-12-20",
          "2022-12-21"
         ],
         "xaxis": "x",
         "y": [
          57138.6,
          115852.7,
          120574.3
         ],
         "yaxis": "y"
        },
        {
         "marker": {
          "color": "#00FFFF",
          "size": 10
         },
         "mode": "markers+lines",
         "name": "1139000AVP505000708A Productions",
         "text": [
          0,
          237,
          42
         ],
         "type": "scatter",
         "x": [
          "2022-12-19",
          "2022-12-20",
          "2022-12-21"
         ],
         "xaxis": "x3",
         "y": [
          0,
          237,
          42
         ],
         "yaxis": "y3"
        },
        {
         "marker": {
          "color": "#00FFFF",
          "size": 10
         },
         "mode": "markers+lines",
         "name": "1139000AVP505000708A Stops",
         "text": [
          "Sostituzione utensile",
          "Unknown",
          "Sostituzione utensile"
         ],
         "type": "scatter",
         "x": [
          "2022-12-19",
          "2022-12-20",
          "2022-12-21"
         ],
         "xaxis": "x2",
         "y": [
          1,
          null,
          1
         ],
         "yaxis": "y2"
        },
        {
         "marker": {
          "color": "#FFFF00",
          "size": 10
         },
         "mode": "markers+lines",
         "name": "1139000AVP510100003A Energy",
         "text": [
          120574.3,
          279359.2,
          null
         ],
         "type": "scatter",
         "x": [
          "2022-12-21",
          "2022-12-22",
          "2022-12-23"
         ],
         "xaxis": "x",
         "y": [
          120574.3,
          279359.2,
          null
         ],
         "yaxis": "y"
        },
        {
         "marker": {
          "color": "#FFFF00",
          "size": 10
         },
         "mode": "markers+lines",
         "name": "1139000AVP510100003A Productions",
         "text": [
          278,
          886,
          548
         ],
         "type": "scatter",
         "x": [
          "2022-12-21",
          "2022-12-22",
          "2022-12-23"
         ],
         "xaxis": "x3",
         "y": [
          278,
          886,
          548
         ],
         "yaxis": "y3"
        },
        {
         "marker": {
          "color": "#FFFF00",
          "size": 10
         },
         "mode": "markers+lines",
         "name": "1139000AVP510100003A Stops",
         "text": [
          "Sostituzione utensile",
          "Sostituzione utensile",
          "Sostituzione utensile"
         ],
         "type": "scatter",
         "x": [
          "2022-12-21",
          "2022-12-22",
          "2022-12-23"
         ],
         "xaxis": "x2",
         "y": [
          1,
          7,
          4
         ],
         "yaxis": "y2"
        },
        {
         "marker": {
          "color": "#880000",
          "size": 10
         },
         "mode": "markers+lines",
         "name": "116710010063184-10 Energy",
         "text": [
          null,
          null,
          120065.2,
          null,
          null,
          55289.9
         ],
         "type": "scatter",
         "x": [
          "2023-02-27",
          "2023-02-28",
          "2023-03-01",
          "2023-03-02",
          "2023-03-02",
          "2023-03-03"
         ],
         "xaxis": "x",
         "y": [
          null,
          null,
          120065.2,
          null,
          null,
          55289.9
         ],
         "yaxis": "y"
        },
        {
         "marker": {
          "color": "#880000",
          "size": 10
         },
         "mode": "markers+lines",
         "name": "116710010063184-10 Productions",
         "text": [
          357,
          672,
          578,
          672,
          672,
          128
         ],
         "type": "scatter",
         "x": [
          "2023-02-27",
          "2023-02-28",
          "2023-03-01",
          "2023-03-02",
          "2023-03-02",
          "2023-03-03"
         ],
         "xaxis": "x3",
         "y": [
          357,
          672,
          578,
          672,
          672,
          128
         ],
         "yaxis": "y3"
        },
        {
         "marker": {
          "color": "#880000",
          "size": 10
         },
         "mode": "markers+lines",
         "name": "116710010063184-10 Stops",
         "text": [
          "Unknown",
          "Unknown",
          "Unknown",
          "Manutenzione ordinaria",
          "Sostituzione utensile",
          "Sostituzione utensile"
         ],
         "type": "scatter",
         "x": [
          "2023-02-27",
          "2023-02-28",
          "2023-03-01",
          "2023-03-02",
          "2023-03-02",
          "2023-03-03"
         ],
         "xaxis": "x2",
         "y": [
          null,
          null,
          null,
          1,
          6,
          1
         ],
         "yaxis": "y2"
        },
        {
         "marker": {
          "color": "blue",
          "size": 10
         },
         "mode": "markers+lines",
         "name": "1146400FE3CBSC223200 Energy",
         "text": [
          92280.4,
          92280.4,
          57639
         ],
         "type": "scatter",
         "x": [
          "2023-03-07",
          "2023-03-07",
          "2023-03-08"
         ],
         "xaxis": "x",
         "y": [
          92280.4,
          92280.4,
          57639
         ],
         "yaxis": "y"
        },
        {
         "marker": {
          "color": "blue",
          "size": 10
         },
         "mode": "markers+lines",
         "name": "1146400FE3CBSC223200 Productions",
         "text": [
          262,
          262,
          190
         ],
         "type": "scatter",
         "x": [
          "2023-03-07",
          "2023-03-07",
          "2023-03-08"
         ],
         "xaxis": "x3",
         "y": [
          262,
          262,
          190
         ],
         "yaxis": "y3"
        },
        {
         "marker": {
          "color": "blue",
          "size": 10
         },
         "mode": "markers+lines",
         "name": "1146400FE3CBSC223200 Stops",
         "text": [
          "Manutenzione ordinaria",
          "Sostituzione utensile",
          "Sostituzione utensile"
         ],
         "type": "scatter",
         "x": [
          "2023-03-07",
          "2023-03-07",
          "2023-03-08"
         ],
         "xaxis": "x2",
         "y": [
          1,
          6,
          1
         ],
         "yaxis": "y2"
        },
        {
         "marker": {
          "color": "green",
          "size": 10
         },
         "mode": "markers+lines",
         "name": "1180100FE5ZD 50 Energy",
         "text": [
          57639,
          null,
          null,
          null
         ],
         "type": "scatter",
         "x": [
          "2023-03-08",
          "2023-03-09",
          "2023-03-10",
          "2023-03-10"
         ],
         "xaxis": "x",
         "y": [
          57639,
          null,
          null,
          null
         ],
         "yaxis": "y"
        },
        {
         "marker": {
          "color": "green",
          "size": 10
         },
         "mode": "markers+lines",
         "name": "1180100FE5ZD 50 Productions",
         "text": [
          0,
          162,
          346,
          346
         ],
         "type": "scatter",
         "x": [
          "2023-03-08",
          "2023-03-09",
          "2023-03-10",
          "2023-03-10"
         ],
         "xaxis": "x3",
         "y": [
          0,
          162,
          346,
          346
         ],
         "yaxis": "y3"
        },
        {
         "marker": {
          "color": "green",
          "size": 10
         },
         "mode": "markers+lines",
         "name": "1180100FE5ZD 50 Stops",
         "text": [
          "Sostituzione utensile",
          "Sostituzione utensile",
          "Manutenzione ordinaria",
          "Sostituzione utensile"
         ],
         "type": "scatter",
         "x": [
          "2023-03-08",
          "2023-03-09",
          "2023-03-10",
          "2023-03-10"
         ],
         "xaxis": "x2",
         "y": [
          1,
          2,
          1,
          1
         ],
         "yaxis": "y2"
        }
       ],
       "layout": {
        "annotations": [
         {
          "font": {
           "size": 16
          },
          "showarrow": false,
          "text": "Energy Consumption",
          "x": 0.5,
          "xanchor": "center",
          "xref": "paper",
          "y": 1,
          "yanchor": "bottom",
          "yref": "paper"
         },
         {
          "font": {
           "size": 16
          },
          "showarrow": false,
          "text": "Stops",
          "x": 0.5,
          "xanchor": "center",
          "xref": "paper",
          "y": 0.6466666666666667,
          "yanchor": "bottom",
          "yref": "paper"
         },
         {
          "font": {
           "size": 16
          },
          "showarrow": false,
          "text": "Productions",
          "x": 0.5,
          "xanchor": "center",
          "xref": "paper",
          "y": 0.29333333333333333,
          "yanchor": "bottom",
          "yref": "paper"
         }
        ],
        "height": 800,
        "template": {
         "data": {
          "bar": [
           {
            "error_x": {
             "color": "#2a3f5f"
            },
            "error_y": {
             "color": "#2a3f5f"
            },
            "marker": {
             "line": {
              "color": "#E5ECF6",
              "width": 0.5
             },
             "pattern": {
              "fillmode": "overlay",
              "size": 10,
              "solidity": 0.2
             }
            },
            "type": "bar"
           }
          ],
          "barpolar": [
           {
            "marker": {
             "line": {
              "color": "#E5ECF6",
              "width": 0.5
             },
             "pattern": {
              "fillmode": "overlay",
              "size": 10,
              "solidity": 0.2
             }
            },
            "type": "barpolar"
           }
          ],
          "carpet": [
           {
            "aaxis": {
             "endlinecolor": "#2a3f5f",
             "gridcolor": "white",
             "linecolor": "white",
             "minorgridcolor": "white",
             "startlinecolor": "#2a3f5f"
            },
            "baxis": {
             "endlinecolor": "#2a3f5f",
             "gridcolor": "white",
             "linecolor": "white",
             "minorgridcolor": "white",
             "startlinecolor": "#2a3f5f"
            },
            "type": "carpet"
           }
          ],
          "choropleth": [
           {
            "colorbar": {
             "outlinewidth": 0,
             "ticks": ""
            },
            "type": "choropleth"
           }
          ],
          "contour": [
           {
            "colorbar": {
             "outlinewidth": 0,
             "ticks": ""
            },
            "colorscale": [
             [
              0,
              "#0d0887"
             ],
             [
              0.1111111111111111,
              "#46039f"
             ],
             [
              0.2222222222222222,
              "#7201a8"
             ],
             [
              0.3333333333333333,
              "#9c179e"
             ],
             [
              0.4444444444444444,
              "#bd3786"
             ],
             [
              0.5555555555555556,
              "#d8576b"
             ],
             [
              0.6666666666666666,
              "#ed7953"
             ],
             [
              0.7777777777777778,
              "#fb9f3a"
             ],
             [
              0.8888888888888888,
              "#fdca26"
             ],
             [
              1,
              "#f0f921"
             ]
            ],
            "type": "contour"
           }
          ],
          "contourcarpet": [
           {
            "colorbar": {
             "outlinewidth": 0,
             "ticks": ""
            },
            "type": "contourcarpet"
           }
          ],
          "heatmap": [
           {
            "colorbar": {
             "outlinewidth": 0,
             "ticks": ""
            },
            "colorscale": [
             [
              0,
              "#0d0887"
             ],
             [
              0.1111111111111111,
              "#46039f"
             ],
             [
              0.2222222222222222,
              "#7201a8"
             ],
             [
              0.3333333333333333,
              "#9c179e"
             ],
             [
              0.4444444444444444,
              "#bd3786"
             ],
             [
              0.5555555555555556,
              "#d8576b"
             ],
             [
              0.6666666666666666,
              "#ed7953"
             ],
             [
              0.7777777777777778,
              "#fb9f3a"
             ],
             [
              0.8888888888888888,
              "#fdca26"
             ],
             [
              1,
              "#f0f921"
             ]
            ],
            "type": "heatmap"
           }
          ],
          "heatmapgl": [
           {
            "colorbar": {
             "outlinewidth": 0,
             "ticks": ""
            },
            "colorscale": [
             [
              0,
              "#0d0887"
             ],
             [
              0.1111111111111111,
              "#46039f"
             ],
             [
              0.2222222222222222,
              "#7201a8"
             ],
             [
              0.3333333333333333,
              "#9c179e"
             ],
             [
              0.4444444444444444,
              "#bd3786"
             ],
             [
              0.5555555555555556,
              "#d8576b"
             ],
             [
              0.6666666666666666,
              "#ed7953"
             ],
             [
              0.7777777777777778,
              "#fb9f3a"
             ],
             [
              0.8888888888888888,
              "#fdca26"
             ],
             [
              1,
              "#f0f921"
             ]
            ],
            "type": "heatmapgl"
           }
          ],
          "histogram": [
           {
            "marker": {
             "pattern": {
              "fillmode": "overlay",
              "size": 10,
              "solidity": 0.2
             }
            },
            "type": "histogram"
           }
          ],
          "histogram2d": [
           {
            "colorbar": {
             "outlinewidth": 0,
             "ticks": ""
            },
            "colorscale": [
             [
              0,
              "#0d0887"
             ],
             [
              0.1111111111111111,
              "#46039f"
             ],
             [
              0.2222222222222222,
              "#7201a8"
             ],
             [
              0.3333333333333333,
              "#9c179e"
             ],
             [
              0.4444444444444444,
              "#bd3786"
             ],
             [
              0.5555555555555556,
              "#d8576b"
             ],
             [
              0.6666666666666666,
              "#ed7953"
             ],
             [
              0.7777777777777778,
              "#fb9f3a"
             ],
             [
              0.8888888888888888,
              "#fdca26"
             ],
             [
              1,
              "#f0f921"
             ]
            ],
            "type": "histogram2d"
           }
          ],
          "histogram2dcontour": [
           {
            "colorbar": {
             "outlinewidth": 0,
             "ticks": ""
            },
            "colorscale": [
             [
              0,
              "#0d0887"
             ],
             [
              0.1111111111111111,
              "#46039f"
             ],
             [
              0.2222222222222222,
              "#7201a8"
             ],
             [
              0.3333333333333333,
              "#9c179e"
             ],
             [
              0.4444444444444444,
              "#bd3786"
             ],
             [
              0.5555555555555556,
              "#d8576b"
             ],
             [
              0.6666666666666666,
              "#ed7953"
             ],
             [
              0.7777777777777778,
              "#fb9f3a"
             ],
             [
              0.8888888888888888,
              "#fdca26"
             ],
             [
              1,
              "#f0f921"
             ]
            ],
            "type": "histogram2dcontour"
           }
          ],
          "mesh3d": [
           {
            "colorbar": {
             "outlinewidth": 0,
             "ticks": ""
            },
            "type": "mesh3d"
           }
          ],
          "parcoords": [
           {
            "line": {
             "colorbar": {
              "outlinewidth": 0,
              "ticks": ""
             }
            },
            "type": "parcoords"
           }
          ],
          "pie": [
           {
            "automargin": true,
            "type": "pie"
           }
          ],
          "scatter": [
           {
            "fillpattern": {
             "fillmode": "overlay",
             "size": 10,
             "solidity": 0.2
            },
            "type": "scatter"
           }
          ],
          "scatter3d": [
           {
            "line": {
             "colorbar": {
              "outlinewidth": 0,
              "ticks": ""
             }
            },
            "marker": {
             "colorbar": {
              "outlinewidth": 0,
              "ticks": ""
             }
            },
            "type": "scatter3d"
           }
          ],
          "scattercarpet": [
           {
            "marker": {
             "colorbar": {
              "outlinewidth": 0,
              "ticks": ""
             }
            },
            "type": "scattercarpet"
           }
          ],
          "scattergeo": [
           {
            "marker": {
             "colorbar": {
              "outlinewidth": 0,
              "ticks": ""
             }
            },
            "type": "scattergeo"
           }
          ],
          "scattergl": [
           {
            "marker": {
             "colorbar": {
              "outlinewidth": 0,
              "ticks": ""
             }
            },
            "type": "scattergl"
           }
          ],
          "scattermapbox": [
           {
            "marker": {
             "colorbar": {
              "outlinewidth": 0,
              "ticks": ""
             }
            },
            "type": "scattermapbox"
           }
          ],
          "scatterpolar": [
           {
            "marker": {
             "colorbar": {
              "outlinewidth": 0,
              "ticks": ""
             }
            },
            "type": "scatterpolar"
           }
          ],
          "scatterpolargl": [
           {
            "marker": {
             "colorbar": {
              "outlinewidth": 0,
              "ticks": ""
             }
            },
            "type": "scatterpolargl"
           }
          ],
          "scatterternary": [
           {
            "marker": {
             "colorbar": {
              "outlinewidth": 0,
              "ticks": ""
             }
            },
            "type": "scatterternary"
           }
          ],
          "surface": [
           {
            "colorbar": {
             "outlinewidth": 0,
             "ticks": ""
            },
            "colorscale": [
             [
              0,
              "#0d0887"
             ],
             [
              0.1111111111111111,
              "#46039f"
             ],
             [
              0.2222222222222222,
              "#7201a8"
             ],
             [
              0.3333333333333333,
              "#9c179e"
             ],
             [
              0.4444444444444444,
              "#bd3786"
             ],
             [
              0.5555555555555556,
              "#d8576b"
             ],
             [
              0.6666666666666666,
              "#ed7953"
             ],
             [
              0.7777777777777778,
              "#fb9f3a"
             ],
             [
              0.8888888888888888,
              "#fdca26"
             ],
             [
              1,
              "#f0f921"
             ]
            ],
            "type": "surface"
           }
          ],
          "table": [
           {
            "cells": {
             "fill": {
              "color": "#EBF0F8"
             },
             "line": {
              "color": "white"
             }
            },
            "header": {
             "fill": {
              "color": "#C8D4E3"
             },
             "line": {
              "color": "white"
             }
            },
            "type": "table"
           }
          ]
         },
         "layout": {
          "annotationdefaults": {
           "arrowcolor": "#2a3f5f",
           "arrowhead": 0,
           "arrowwidth": 1
          },
          "autotypenumbers": "strict",
          "coloraxis": {
           "colorbar": {
            "outlinewidth": 0,
            "ticks": ""
           }
          },
          "colorscale": {
           "diverging": [
            [
             0,
             "#8e0152"
            ],
            [
             0.1,
             "#c51b7d"
            ],
            [
             0.2,
             "#de77ae"
            ],
            [
             0.3,
             "#f1b6da"
            ],
            [
             0.4,
             "#fde0ef"
            ],
            [
             0.5,
             "#f7f7f7"
            ],
            [
             0.6,
             "#e6f5d0"
            ],
            [
             0.7,
             "#b8e186"
            ],
            [
             0.8,
             "#7fbc41"
            ],
            [
             0.9,
             "#4d9221"
            ],
            [
             1,
             "#276419"
            ]
           ],
           "sequential": [
            [
             0,
             "#0d0887"
            ],
            [
             0.1111111111111111,
             "#46039f"
            ],
            [
             0.2222222222222222,
             "#7201a8"
            ],
            [
             0.3333333333333333,
             "#9c179e"
            ],
            [
             0.4444444444444444,
             "#bd3786"
            ],
            [
             0.5555555555555556,
             "#d8576b"
            ],
            [
             0.6666666666666666,
             "#ed7953"
            ],
            [
             0.7777777777777778,
             "#fb9f3a"
            ],
            [
             0.8888888888888888,
             "#fdca26"
            ],
            [
             1,
             "#f0f921"
            ]
           ],
           "sequentialminus": [
            [
             0,
             "#0d0887"
            ],
            [
             0.1111111111111111,
             "#46039f"
            ],
            [
             0.2222222222222222,
             "#7201a8"
            ],
            [
             0.3333333333333333,
             "#9c179e"
            ],
            [
             0.4444444444444444,
             "#bd3786"
            ],
            [
             0.5555555555555556,
             "#d8576b"
            ],
            [
             0.6666666666666666,
             "#ed7953"
            ],
            [
             0.7777777777777778,
             "#fb9f3a"
            ],
            [
             0.8888888888888888,
             "#fdca26"
            ],
            [
             1,
             "#f0f921"
            ]
           ]
          },
          "colorway": [
           "#636efa",
           "#EF553B",
           "#00cc96",
           "#ab63fa",
           "#FFA15A",
           "#19d3f3",
           "#FF6692",
           "#B6E880",
           "#FF97FF",
           "#FECB52"
          ],
          "font": {
           "color": "#2a3f5f"
          },
          "geo": {
           "bgcolor": "white",
           "lakecolor": "white",
           "landcolor": "#E5ECF6",
           "showlakes": true,
           "showland": true,
           "subunitcolor": "white"
          },
          "hoverlabel": {
           "align": "left"
          },
          "hovermode": "closest",
          "mapbox": {
           "style": "light"
          },
          "paper_bgcolor": "white",
          "plot_bgcolor": "#E5ECF6",
          "polar": {
           "angularaxis": {
            "gridcolor": "white",
            "linecolor": "white",
            "ticks": ""
           },
           "bgcolor": "#E5ECF6",
           "radialaxis": {
            "gridcolor": "white",
            "linecolor": "white",
            "ticks": ""
           }
          },
          "scene": {
           "xaxis": {
            "backgroundcolor": "#E5ECF6",
            "gridcolor": "white",
            "gridwidth": 2,
            "linecolor": "white",
            "showbackground": true,
            "ticks": "",
            "zerolinecolor": "white"
           },
           "yaxis": {
            "backgroundcolor": "#E5ECF6",
            "gridcolor": "white",
            "gridwidth": 2,
            "linecolor": "white",
            "showbackground": true,
            "ticks": "",
            "zerolinecolor": "white"
           },
           "zaxis": {
            "backgroundcolor": "#E5ECF6",
            "gridcolor": "white",
            "gridwidth": 2,
            "linecolor": "white",
            "showbackground": true,
            "ticks": "",
            "zerolinecolor": "white"
           }
          },
          "shapedefaults": {
           "line": {
            "color": "#2a3f5f"
           }
          },
          "ternary": {
           "aaxis": {
            "gridcolor": "white",
            "linecolor": "white",
            "ticks": ""
           },
           "baxis": {
            "gridcolor": "white",
            "linecolor": "white",
            "ticks": ""
           },
           "bgcolor": "#E5ECF6",
           "caxis": {
            "gridcolor": "white",
            "linecolor": "white",
            "ticks": ""
           }
          },
          "title": {
           "x": 0.05
          },
          "xaxis": {
           "automargin": true,
           "gridcolor": "white",
           "linecolor": "white",
           "ticks": "",
           "title": {
            "standoff": 15
           },
           "zerolinecolor": "white",
           "zerolinewidth": 2
          },
          "yaxis": {
           "automargin": true,
           "gridcolor": "white",
           "linecolor": "white",
           "ticks": "",
           "title": {
            "standoff": 15
           },
           "zerolinecolor": "white",
           "zerolinewidth": 2
          }
         }
        },
        "title": {
         "text": "Dataset machine 306"
        },
        "width": 1280,
        "xaxis": {
         "anchor": "y",
         "domain": [
          0,
          1
         ],
         "matches": "x3",
         "showticklabels": false
        },
        "xaxis2": {
         "anchor": "y2",
         "domain": [
          0,
          1
         ],
         "matches": "x3",
         "showticklabels": false
        },
        "xaxis3": {
         "anchor": "y3",
         "domain": [
          0,
          1
         ]
        },
        "yaxis": {
         "anchor": "x",
         "domain": [
          0.7066666666666667,
          1
         ]
        },
        "yaxis2": {
         "anchor": "x2",
         "domain": [
          0.35333333333333333,
          0.6466666666666667
         ]
        },
        "yaxis3": {
         "anchor": "x3",
         "domain": [
          0,
          0.29333333333333333
         ]
        }
       }
      }
     },
     "metadata": {},
     "output_type": "display_data"
    },
    {
     "data": {
      "application/vnd.plotly.v1+json": {
       "config": {
        "plotlyServerURL": "https://plot.ly"
       },
       "data": [
        {
         "marker": {
          "color": "blue",
          "size": 10
         },
         "mode": "markers+lines",
         "name": "1122100FE5C1014122 Energy",
         "text": [
          null,
          null,
          null,
          158936.5,
          171300.5,
          null,
          121442.7,
          175840.6,
          175840.6,
          156644.1,
          156644.1,
          94414,
          94414,
          150608,
          61696,
          0,
          135681.3,
          41100.6,
          119039.6,
          null,
          181751.7,
          102593.6,
          null,
          35393.5,
          146638.1,
          179065.7,
          176935.9,
          176935.9,
          null
         ],
         "type": "scatter",
         "x": [
          "2022-11-28",
          "2022-11-29",
          "2022-11-30",
          "2022-12-01",
          "2022-12-02",
          "2022-12-03",
          "2022-12-05",
          "2022-12-06",
          "2022-12-06",
          "2022-12-07",
          "2022-12-07",
          "2022-12-12",
          "2022-12-12",
          "2022-12-13",
          "2022-12-14",
          "2022-12-15",
          "2022-12-16",
          "2022-12-17",
          "2022-12-19",
          "2023-06-06",
          "2023-06-07",
          "2023-06-08",
          "2023-06-09",
          "2023-06-10",
          "2023-06-12",
          "2023-06-13",
          "2023-06-14",
          "2023-06-14",
          "2023-06-15"
         ],
         "xaxis": "x",
         "y": [
          null,
          null,
          null,
          158936.5,
          171300.5,
          null,
          121442.7,
          175840.6,
          175840.6,
          156644.1,
          156644.1,
          94414,
          94414,
          150608,
          61696,
          0,
          135681.3,
          41100.6,
          119039.6,
          null,
          181751.7,
          102593.6,
          null,
          35393.5,
          146638.1,
          179065.7,
          176935.9,
          176935.9,
          null
         ],
         "yaxis": "y"
        },
        {
         "marker": {
          "color": "blue",
          "size": 10
         },
         "mode": "markers+lines",
         "name": "1122100FE5C1014122 Productions",
         "text": [
          0,
          625,
          1294,
          1270,
          1323,
          972,
          927,
          1311,
          1311,
          1220,
          1220,
          482,
          482,
          1098,
          1264,
          1267,
          966,
          354,
          890,
          383,
          1418,
          1199,
          421,
          176,
          657,
          2078,
          684,
          684,
          361
         ],
         "type": "scatter",
         "x": [
          "2022-11-28",
          "2022-11-29",
          "2022-11-30",
          "2022-12-01",
          "2022-12-02",
          "2022-12-03",
          "2022-12-05",
          "2022-12-06",
          "2022-12-06",
          "2022-12-07",
          "2022-12-07",
          "2022-12-12",
          "2022-12-12",
          "2022-12-13",
          "2022-12-14",
          "2022-12-15",
          "2022-12-16",
          "2022-12-17",
          "2022-12-19",
          "2023-06-06",
          "2023-06-07",
          "2023-06-08",
          "2023-06-09",
          "2023-06-10",
          "2023-06-12",
          "2023-06-13",
          "2023-06-14",
          "2023-06-14",
          "2023-06-15"
         ],
         "xaxis": "x3",
         "y": [
          0,
          625,
          1294,
          1270,
          1323,
          972,
          927,
          1311,
          1311,
          1220,
          1220,
          482,
          482,
          1098,
          1264,
          1267,
          966,
          354,
          890,
          383,
          1418,
          1199,
          421,
          176,
          657,
          2078,
          684,
          684,
          361
         ],
         "yaxis": "y3"
        },
        {
         "marker": {
          "color": "blue",
          "size": 10
         },
         "mode": "markers+lines",
         "name": "1122100FE5C1014122 Stops",
         "text": [
          "Unknown",
          "Unknown",
          "Unknown",
          "Unknown",
          "Sostituzione utensile",
          "Sostituzione utensile",
          "Sostituzione utensile",
          "Manutenzione ordinaria",
          "Sostituzione utensile",
          "Manutenzione ordinaria",
          "Sostituzione utensile",
          "Manutenzione ordinaria",
          "Sostituzione utensile",
          "Manutenzione ordinaria",
          "Unknown",
          "Sostituzione utensile",
          "Sostituzione utensile",
          "Unknown",
          "Sostituzione utensile",
          "Unknown",
          "Unknown",
          "Sostituzione utensile",
          "Sostituzione utensile",
          "Sostituzione utensile",
          "Unknown",
          "Sostituzione utensile",
          "Manutenzione ordinaria",
          "Sostituzione utensile",
          "Sostituzione utensile"
         ],
         "type": "scatter",
         "x": [
          "2022-11-28",
          "2022-11-29",
          "2022-11-30",
          "2022-12-01",
          "2022-12-02",
          "2022-12-03",
          "2022-12-05",
          "2022-12-06",
          "2022-12-06",
          "2022-12-07",
          "2022-12-07",
          "2022-12-12",
          "2022-12-12",
          "2022-12-13",
          "2022-12-14",
          "2022-12-15",
          "2022-12-16",
          "2022-12-17",
          "2022-12-19",
          "2023-06-06",
          "2023-06-07",
          "2023-06-08",
          "2023-06-09",
          "2023-06-10",
          "2023-06-12",
          "2023-06-13",
          "2023-06-14",
          "2023-06-14",
          "2023-06-15"
         ],
         "xaxis": "x2",
         "y": [
          null,
          null,
          null,
          null,
          1,
          2,
          1,
          1,
          3,
          1,
          2,
          1,
          2,
          1,
          null,
          2,
          3,
          null,
          1,
          null,
          null,
          2,
          1,
          1,
          null,
          3,
          1,
          1,
          1
         ],
         "yaxis": "y2"
        },
        {
         "marker": {
          "color": "black",
          "size": 10
         },
         "mode": "markers+lines",
         "name": "Unknown Energy",
         "text": [
          0.1,
          0.1,
          0,
          0.1,
          53114.2,
          0,
          0.1,
          0.1,
          null,
          null,
          null,
          null,
          null,
          0,
          0,
          null,
          42842.6,
          104557.8,
          null,
          null,
          null,
          null,
          172740.2,
          176182.4,
          171504.8,
          0,
          0,
          null,
          null,
          null,
          173012.3,
          173012.3,
          null
         ],
         "type": "scatter",
         "x": [
          "2022-12-09",
          "2022-12-10",
          "2022-12-11",
          "2022-12-18",
          "2022-12-20",
          "2022-12-31",
          "2023-06-11",
          "2023-06-18",
          "2023-06-27",
          "2023-06-27",
          "2023-06-28",
          "2023-06-28",
          "2023-06-29",
          "2023-06-30",
          "2023-03-05",
          "2023-03-13",
          "2023-03-14",
          "2023-03-15",
          "2023-03-16",
          "2023-03-17",
          "2023-03-20",
          "2023-03-20",
          "2023-03-21",
          "2023-03-22",
          "2023-03-23",
          "2023-03-24",
          "2023-03-25",
          "2023-03-27",
          "2023-03-28",
          "2023-03-29",
          "2023-03-30",
          "2023-03-30",
          "2023-03-31"
         ],
         "xaxis": "x",
         "y": [
          0.1,
          0.1,
          0,
          0.1,
          53114.2,
          0,
          0.1,
          0.1,
          null,
          null,
          null,
          null,
          null,
          0,
          0,
          null,
          42842.6,
          104557.8,
          null,
          null,
          null,
          null,
          172740.2,
          176182.4,
          171504.8,
          0,
          0,
          null,
          null,
          null,
          173012.3,
          173012.3,
          null
         ],
         "yaxis": "y"
        },
        {
         "marker": {
          "color": "black",
          "size": 10
         },
         "mode": "markers+lines",
         "name": "Unknown Productions",
         "text": [
          null,
          null,
          null,
          null,
          null,
          null,
          null,
          null,
          null,
          null,
          null,
          null,
          null,
          null,
          null,
          null,
          null,
          null,
          null,
          null,
          null,
          null,
          null,
          null,
          null,
          null,
          null,
          null,
          null,
          null,
          null,
          null,
          null
         ],
         "type": "scatter",
         "x": [
          "2022-12-09",
          "2022-12-10",
          "2022-12-11",
          "2022-12-18",
          "2022-12-20",
          "2022-12-31",
          "2023-06-11",
          "2023-06-18",
          "2023-06-27",
          "2023-06-27",
          "2023-06-28",
          "2023-06-28",
          "2023-06-29",
          "2023-06-30",
          "2023-03-05",
          "2023-03-13",
          "2023-03-14",
          "2023-03-15",
          "2023-03-16",
          "2023-03-17",
          "2023-03-20",
          "2023-03-20",
          "2023-03-21",
          "2023-03-22",
          "2023-03-23",
          "2023-03-24",
          "2023-03-25",
          "2023-03-27",
          "2023-03-28",
          "2023-03-29",
          "2023-03-30",
          "2023-03-30",
          "2023-03-31"
         ],
         "xaxis": "x3",
         "y": [
          null,
          null,
          null,
          null,
          null,
          null,
          null,
          null,
          null,
          null,
          null,
          null,
          null,
          null,
          null,
          null,
          null,
          null,
          null,
          null,
          null,
          null,
          null,
          null,
          null,
          null,
          null,
          null,
          null,
          null,
          null,
          null,
          null
         ],
         "yaxis": "y3"
        },
        {
         "marker": {
          "color": "black",
          "size": 10
         },
         "mode": "markers+lines",
         "name": "Unknown Stops",
         "text": [
          "Unknown",
          "Unknown",
          "Unknown",
          "Unknown",
          "Unknown",
          "Unknown",
          "Unknown",
          "Unknown",
          "Manutenzione ordinaria",
          "Sostituzione utensile",
          "Manutenzione ordinaria",
          "Sostituzione utensile",
          "Sostituzione utensile",
          "Sostituzione utensile",
          "Unknown",
          "Sostituzione utensile",
          "Unknown",
          "Sostituzione utensile",
          "Sostituzione utensile",
          "Manutenzione ordinaria",
          "Manutenzione ordinaria",
          "Sostituzione utensile",
          "Sostituzione utensile",
          "Sostituzione utensile",
          "Sostituzione utensile",
          "Sostituzione utensile",
          "Sostituzione utensile",
          "Sostituzione utensile",
          "Sostituzione utensile",
          "Sostituzione utensile",
          "Manutenzione ordinaria",
          "Sostituzione utensile",
          "Sostituzione utensile"
         ],
         "type": "scatter",
         "x": [
          "2022-12-09",
          "2022-12-10",
          "2022-12-11",
          "2022-12-18",
          "2022-12-20",
          "2022-12-31",
          "2023-06-11",
          "2023-06-18",
          "2023-06-27",
          "2023-06-27",
          "2023-06-28",
          "2023-06-28",
          "2023-06-29",
          "2023-06-30",
          "2023-03-05",
          "2023-03-13",
          "2023-03-14",
          "2023-03-15",
          "2023-03-16",
          "2023-03-17",
          "2023-03-20",
          "2023-03-20",
          "2023-03-21",
          "2023-03-22",
          "2023-03-23",
          "2023-03-24",
          "2023-03-25",
          "2023-03-27",
          "2023-03-28",
          "2023-03-29",
          "2023-03-30",
          "2023-03-30",
          "2023-03-31"
         ],
         "xaxis": "x2",
         "y": [
          null,
          null,
          null,
          null,
          null,
          null,
          null,
          null,
          1,
          1,
          1,
          1,
          1,
          2,
          null,
          7,
          null,
          1,
          1,
          1,
          2,
          1,
          2,
          3,
          5,
          3,
          4,
          3,
          2,
          3,
          1,
          3,
          3
         ],
         "yaxis": "y2"
        },
        {
         "marker": {
          "color": "#FF0000",
          "size": 10
         },
         "mode": "markers+lines",
         "name": "1143600C451010120-02 Energy",
         "text": [
          36714.6,
          64861,
          null,
          null,
          null,
          105608.6,
          125876.1,
          133913.8,
          133913.8,
          95926.8
         ],
         "type": "scatter",
         "x": [
          "2022-12-21",
          "2022-12-22",
          "2022-12-23",
          "2022-12-23",
          "2022-12-24",
          "2022-12-27",
          "2022-12-28",
          "2022-12-29",
          "2022-12-29",
          "2022-12-30"
         ],
         "xaxis": "x",
         "y": [
          36714.6,
          64861,
          null,
          null,
          null,
          105608.6,
          125876.1,
          133913.8,
          133913.8,
          95926.8
         ],
         "yaxis": "y"
        },
        {
         "marker": {
          "color": "#FF0000",
          "size": 10
         },
         "mode": "markers+lines",
         "name": "1143600C451010120-02 Productions",
         "text": [
          0,
          92,
          407,
          407,
          126,
          474,
          588,
          584,
          584,
          3
         ],
         "type": "scatter",
         "x": [
          "2022-12-21",
          "2022-12-22",
          "2022-12-23",
          "2022-12-23",
          "2022-12-24",
          "2022-12-27",
          "2022-12-28",
          "2022-12-29",
          "2022-12-29",
          "2022-12-30"
         ],
         "xaxis": "x3",
         "y": [
          0,
          92,
          407,
          407,
          126,
          474,
          588,
          584,
          584,
          3
         ],
         "yaxis": "y3"
        },
        {
         "marker": {
          "color": "#FF0000",
          "size": 10
         },
         "mode": "markers+lines",
         "name": "1143600C451010120-02 Stops",
         "text": [
          "Unknown",
          "Manutenzione ordinaria",
          "Manutenzione ordinaria",
          "Sostituzione utensile",
          "Sostituzione utensile",
          "Sostituzione utensile",
          "Sostituzione utensile",
          "Manutenzione ordinaria",
          "Sostituzione utensile",
          "Sostituzione utensile"
         ],
         "type": "scatter",
         "x": [
          "2022-12-21",
          "2022-12-22",
          "2022-12-23",
          "2022-12-23",
          "2022-12-24",
          "2022-12-27",
          "2022-12-28",
          "2022-12-29",
          "2022-12-29",
          "2022-12-30"
         ],
         "xaxis": "x2",
         "y": [
          null,
          1,
          1,
          2,
          1,
          1,
          1,
          1,
          2,
          1
         ],
         "yaxis": "y2"
        },
        {
         "marker": {
          "color": "#00FFFF",
          "size": 10
         },
         "mode": "markers+lines",
         "name": "1143600C45L1670358-00 Energy",
         "text": [
          95926.8
         ],
         "type": "scatter",
         "x": [
          "2022-12-30"
         ],
         "xaxis": "x",
         "y": [
          95926.8
         ],
         "yaxis": "y"
        },
        {
         "marker": {
          "color": "#00FFFF",
          "size": 10
         },
         "mode": "markers+lines",
         "name": "1143600C45L1670358-00 Productions",
         "text": [
          137
         ],
         "type": "scatter",
         "x": [
          "2022-12-30"
         ],
         "xaxis": "x3",
         "y": [
          137
         ],
         "yaxis": "y3"
        },
        {
         "marker": {
          "color": "#00FFFF",
          "size": 10
         },
         "mode": "markers+lines",
         "name": "1143600C45L1670358-00 Stops",
         "text": [
          "Sostituzione utensile"
         ],
         "type": "scatter",
         "x": [
          "2022-12-30"
         ],
         "xaxis": "x2",
         "y": [
          1
         ],
         "yaxis": "y2"
        },
        {
         "marker": {
          "color": "#FFFF00",
          "size": 10
         },
         "mode": "markers+lines",
         "name": "1139000AVP515000042A Energy",
         "text": [
          null,
          null,
          null,
          null
         ],
         "type": "scatter",
         "x": [
          "2023-05-30",
          "2023-05-31",
          "2023-06-01",
          "2023-06-05"
         ],
         "xaxis": "x",
         "y": [
          null,
          null,
          null,
          null
         ],
         "yaxis": "y"
        },
        {
         "marker": {
          "color": "#FFFF00",
          "size": 10
         },
         "mode": "markers+lines",
         "name": "1139000AVP515000042A Productions",
         "text": [
          686,
          661,
          488,
          348
         ],
         "type": "scatter",
         "x": [
          "2023-05-30",
          "2023-05-31",
          "2023-06-01",
          "2023-06-05"
         ],
         "xaxis": "x3",
         "y": [
          686,
          661,
          488,
          348
         ],
         "yaxis": "y3"
        },
        {
         "marker": {
          "color": "#FFFF00",
          "size": 10
         },
         "mode": "markers+lines",
         "name": "1139000AVP515000042A Stops",
         "text": [
          "Unknown",
          "Unknown",
          "Unknown",
          "Unknown"
         ],
         "type": "scatter",
         "x": [
          "2023-05-30",
          "2023-05-31",
          "2023-06-01",
          "2023-06-05"
         ],
         "xaxis": "x2",
         "y": [
          null,
          null,
          null,
          null
         ],
         "yaxis": "y2"
        },
        {
         "marker": {
          "color": "#880000",
          "size": 10
         },
         "mode": "markers+lines",
         "name": "1103000PR8160220180 Energy",
         "text": [
          null,
          148681,
          148681,
          53337.8,
          124637.6,
          150523.5,
          150523.5,
          0
         ],
         "type": "scatter",
         "x": [
          "2023-06-15",
          "2023-06-16",
          "2023-06-16",
          "2023-06-17",
          "2023-06-19",
          "2023-06-20",
          "2023-06-20",
          "2023-06-21"
         ],
         "xaxis": "x",
         "y": [
          null,
          148681,
          148681,
          53337.8,
          124637.6,
          150523.5,
          150523.5,
          0
         ],
         "yaxis": "y"
        },
        {
         "marker": {
          "color": "#880000",
          "size": 10
         },
         "mode": "markers+lines",
         "name": "1103000PR8160220180 Productions",
         "text": [
          325,
          1619,
          1619,
          870,
          1256,
          1814,
          1814,
          1448
         ],
         "type": "scatter",
         "x": [
          "2023-06-15",
          "2023-06-16",
          "2023-06-16",
          "2023-06-17",
          "2023-06-19",
          "2023-06-20",
          "2023-06-20",
          "2023-06-21"
         ],
         "xaxis": "x3",
         "y": [
          325,
          1619,
          1619,
          870,
          1256,
          1814,
          1814,
          1448
         ],
         "yaxis": "y3"
        },
        {
         "marker": {
          "color": "#880000",
          "size": 10
         },
         "mode": "markers+lines",
         "name": "1103000PR8160220180 Stops",
         "text": [
          "Sostituzione utensile",
          "Manutenzione ordinaria",
          "Sostituzione utensile",
          "Sostituzione utensile",
          "Sostituzione utensile",
          "Manutenzione ordinaria",
          "Sostituzione utensile",
          "Unknown"
         ],
         "type": "scatter",
         "x": [
          "2023-06-15",
          "2023-06-16",
          "2023-06-16",
          "2023-06-17",
          "2023-06-19",
          "2023-06-20",
          "2023-06-20",
          "2023-06-21"
         ],
         "xaxis": "x2",
         "y": [
          1,
          1,
          2,
          1,
          1,
          1,
          1,
          null
         ],
         "yaxis": "y2"
        },
        {
         "marker": {
          "color": "blue",
          "size": 10
         },
         "mode": "markers+lines",
         "name": "1156200PR8160060470 Energy",
         "text": [
          107913.8
         ],
         "type": "scatter",
         "x": [
          "2023-06-22"
         ],
         "xaxis": "x",
         "y": [
          107913.8
         ],
         "yaxis": "y"
        },
        {
         "marker": {
          "color": "blue",
          "size": 10
         },
         "mode": "markers+lines",
         "name": "1156200PR8160060470 Productions",
         "text": [
          166
         ],
         "type": "scatter",
         "x": [
          "2023-06-22"
         ],
         "xaxis": "x3",
         "y": [
          166
         ],
         "yaxis": "y3"
        },
        {
         "marker": {
          "color": "blue",
          "size": 10
         },
         "mode": "markers+lines",
         "name": "1156200PR8160060470 Stops",
         "text": [
          "Sostituzione utensile"
         ],
         "type": "scatter",
         "x": [
          "2023-06-22"
         ],
         "xaxis": "x2",
         "y": [
          1
         ],
         "yaxis": "y2"
        },
        {
         "marker": {
          "color": "green",
          "size": 10
         },
         "mode": "markers+lines",
         "name": "1139000AVP510000908A Energy",
         "text": [
          null,
          null,
          153801.5,
          null,
          null,
          173514.3,
          81992.9,
          131823.3,
          168183.2,
          150531.5,
          150531.5,
          null,
          null,
          0
         ],
         "type": "scatter",
         "x": [
          "2023-02-27",
          "2023-02-28",
          "2023-03-01",
          "2023-03-02",
          "2023-03-02",
          "2023-03-03",
          "2023-03-04",
          "2023-03-06",
          "2023-03-07",
          "2023-03-08",
          "2023-03-08",
          "2023-03-09",
          "2023-03-10",
          "2023-03-11"
         ],
         "xaxis": "x",
         "y": [
          null,
          null,
          153801.5,
          null,
          null,
          173514.3,
          81992.9,
          131823.3,
          168183.2,
          150531.5,
          150531.5,
          null,
          null,
          0
         ],
         "yaxis": "y"
        },
        {
         "marker": {
          "color": "green",
          "size": 10
         },
         "mode": "markers+lines",
         "name": "1139000AVP510000908A Productions",
         "text": [
          49,
          928,
          368,
          503,
          503,
          857,
          585,
          656,
          892,
          700,
          700,
          833,
          648,
          310
         ],
         "type": "scatter",
         "x": [
          "2023-02-27",
          "2023-02-28",
          "2023-03-01",
          "2023-03-02",
          "2023-03-02",
          "2023-03-03",
          "2023-03-04",
          "2023-03-06",
          "2023-03-07",
          "2023-03-08",
          "2023-03-08",
          "2023-03-09",
          "2023-03-10",
          "2023-03-11"
         ],
         "xaxis": "x3",
         "y": [
          49,
          928,
          368,
          503,
          503,
          857,
          585,
          656,
          892,
          700,
          700,
          833,
          648,
          310
         ],
         "yaxis": "y3"
        },
        {
         "marker": {
          "color": "green",
          "size": 10
         },
         "mode": "markers+lines",
         "name": "1139000AVP510000908A Stops",
         "text": [
          "Unknown",
          "Unknown",
          "Unknown",
          "Manutenzione ordinaria",
          "Sostituzione utensile",
          "Sostituzione utensile",
          "Sostituzione utensile",
          "Sostituzione utensile",
          "Sostituzione utensile",
          "Manutenzione ordinaria",
          "Sostituzione utensile",
          "Sostituzione utensile",
          "Sostituzione utensile",
          "Manutenzione ordinaria"
         ],
         "type": "scatter",
         "x": [
          "2023-02-27",
          "2023-02-28",
          "2023-03-01",
          "2023-03-02",
          "2023-03-02",
          "2023-03-03",
          "2023-03-04",
          "2023-03-06",
          "2023-03-07",
          "2023-03-08",
          "2023-03-08",
          "2023-03-09",
          "2023-03-10",
          "2023-03-11"
         ],
         "xaxis": "x2",
         "y": [
          null,
          null,
          null,
          1,
          6,
          7,
          3,
          4,
          9,
          2,
          12,
          7,
          2,
          1
         ],
         "yaxis": "y2"
        }
       ],
       "layout": {
        "annotations": [
         {
          "font": {
           "size": 16
          },
          "showarrow": false,
          "text": "Energy Consumption",
          "x": 0.5,
          "xanchor": "center",
          "xref": "paper",
          "y": 1,
          "yanchor": "bottom",
          "yref": "paper"
         },
         {
          "font": {
           "size": 16
          },
          "showarrow": false,
          "text": "Stops",
          "x": 0.5,
          "xanchor": "center",
          "xref": "paper",
          "y": 0.6466666666666667,
          "yanchor": "bottom",
          "yref": "paper"
         },
         {
          "font": {
           "size": 16
          },
          "showarrow": false,
          "text": "Productions",
          "x": 0.5,
          "xanchor": "center",
          "xref": "paper",
          "y": 0.29333333333333333,
          "yanchor": "bottom",
          "yref": "paper"
         }
        ],
        "height": 800,
        "template": {
         "data": {
          "bar": [
           {
            "error_x": {
             "color": "#2a3f5f"
            },
            "error_y": {
             "color": "#2a3f5f"
            },
            "marker": {
             "line": {
              "color": "#E5ECF6",
              "width": 0.5
             },
             "pattern": {
              "fillmode": "overlay",
              "size": 10,
              "solidity": 0.2
             }
            },
            "type": "bar"
           }
          ],
          "barpolar": [
           {
            "marker": {
             "line": {
              "color": "#E5ECF6",
              "width": 0.5
             },
             "pattern": {
              "fillmode": "overlay",
              "size": 10,
              "solidity": 0.2
             }
            },
            "type": "barpolar"
           }
          ],
          "carpet": [
           {
            "aaxis": {
             "endlinecolor": "#2a3f5f",
             "gridcolor": "white",
             "linecolor": "white",
             "minorgridcolor": "white",
             "startlinecolor": "#2a3f5f"
            },
            "baxis": {
             "endlinecolor": "#2a3f5f",
             "gridcolor": "white",
             "linecolor": "white",
             "minorgridcolor": "white",
             "startlinecolor": "#2a3f5f"
            },
            "type": "carpet"
           }
          ],
          "choropleth": [
           {
            "colorbar": {
             "outlinewidth": 0,
             "ticks": ""
            },
            "type": "choropleth"
           }
          ],
          "contour": [
           {
            "colorbar": {
             "outlinewidth": 0,
             "ticks": ""
            },
            "colorscale": [
             [
              0,
              "#0d0887"
             ],
             [
              0.1111111111111111,
              "#46039f"
             ],
             [
              0.2222222222222222,
              "#7201a8"
             ],
             [
              0.3333333333333333,
              "#9c179e"
             ],
             [
              0.4444444444444444,
              "#bd3786"
             ],
             [
              0.5555555555555556,
              "#d8576b"
             ],
             [
              0.6666666666666666,
              "#ed7953"
             ],
             [
              0.7777777777777778,
              "#fb9f3a"
             ],
             [
              0.8888888888888888,
              "#fdca26"
             ],
             [
              1,
              "#f0f921"
             ]
            ],
            "type": "contour"
           }
          ],
          "contourcarpet": [
           {
            "colorbar": {
             "outlinewidth": 0,
             "ticks": ""
            },
            "type": "contourcarpet"
           }
          ],
          "heatmap": [
           {
            "colorbar": {
             "outlinewidth": 0,
             "ticks": ""
            },
            "colorscale": [
             [
              0,
              "#0d0887"
             ],
             [
              0.1111111111111111,
              "#46039f"
             ],
             [
              0.2222222222222222,
              "#7201a8"
             ],
             [
              0.3333333333333333,
              "#9c179e"
             ],
             [
              0.4444444444444444,
              "#bd3786"
             ],
             [
              0.5555555555555556,
              "#d8576b"
             ],
             [
              0.6666666666666666,
              "#ed7953"
             ],
             [
              0.7777777777777778,
              "#fb9f3a"
             ],
             [
              0.8888888888888888,
              "#fdca26"
             ],
             [
              1,
              "#f0f921"
             ]
            ],
            "type": "heatmap"
           }
          ],
          "heatmapgl": [
           {
            "colorbar": {
             "outlinewidth": 0,
             "ticks": ""
            },
            "colorscale": [
             [
              0,
              "#0d0887"
             ],
             [
              0.1111111111111111,
              "#46039f"
             ],
             [
              0.2222222222222222,
              "#7201a8"
             ],
             [
              0.3333333333333333,
              "#9c179e"
             ],
             [
              0.4444444444444444,
              "#bd3786"
             ],
             [
              0.5555555555555556,
              "#d8576b"
             ],
             [
              0.6666666666666666,
              "#ed7953"
             ],
             [
              0.7777777777777778,
              "#fb9f3a"
             ],
             [
              0.8888888888888888,
              "#fdca26"
             ],
             [
              1,
              "#f0f921"
             ]
            ],
            "type": "heatmapgl"
           }
          ],
          "histogram": [
           {
            "marker": {
             "pattern": {
              "fillmode": "overlay",
              "size": 10,
              "solidity": 0.2
             }
            },
            "type": "histogram"
           }
          ],
          "histogram2d": [
           {
            "colorbar": {
             "outlinewidth": 0,
             "ticks": ""
            },
            "colorscale": [
             [
              0,
              "#0d0887"
             ],
             [
              0.1111111111111111,
              "#46039f"
             ],
             [
              0.2222222222222222,
              "#7201a8"
             ],
             [
              0.3333333333333333,
              "#9c179e"
             ],
             [
              0.4444444444444444,
              "#bd3786"
             ],
             [
              0.5555555555555556,
              "#d8576b"
             ],
             [
              0.6666666666666666,
              "#ed7953"
             ],
             [
              0.7777777777777778,
              "#fb9f3a"
             ],
             [
              0.8888888888888888,
              "#fdca26"
             ],
             [
              1,
              "#f0f921"
             ]
            ],
            "type": "histogram2d"
           }
          ],
          "histogram2dcontour": [
           {
            "colorbar": {
             "outlinewidth": 0,
             "ticks": ""
            },
            "colorscale": [
             [
              0,
              "#0d0887"
             ],
             [
              0.1111111111111111,
              "#46039f"
             ],
             [
              0.2222222222222222,
              "#7201a8"
             ],
             [
              0.3333333333333333,
              "#9c179e"
             ],
             [
              0.4444444444444444,
              "#bd3786"
             ],
             [
              0.5555555555555556,
              "#d8576b"
             ],
             [
              0.6666666666666666,
              "#ed7953"
             ],
             [
              0.7777777777777778,
              "#fb9f3a"
             ],
             [
              0.8888888888888888,
              "#fdca26"
             ],
             [
              1,
              "#f0f921"
             ]
            ],
            "type": "histogram2dcontour"
           }
          ],
          "mesh3d": [
           {
            "colorbar": {
             "outlinewidth": 0,
             "ticks": ""
            },
            "type": "mesh3d"
           }
          ],
          "parcoords": [
           {
            "line": {
             "colorbar": {
              "outlinewidth": 0,
              "ticks": ""
             }
            },
            "type": "parcoords"
           }
          ],
          "pie": [
           {
            "automargin": true,
            "type": "pie"
           }
          ],
          "scatter": [
           {
            "fillpattern": {
             "fillmode": "overlay",
             "size": 10,
             "solidity": 0.2
            },
            "type": "scatter"
           }
          ],
          "scatter3d": [
           {
            "line": {
             "colorbar": {
              "outlinewidth": 0,
              "ticks": ""
             }
            },
            "marker": {
             "colorbar": {
              "outlinewidth": 0,
              "ticks": ""
             }
            },
            "type": "scatter3d"
           }
          ],
          "scattercarpet": [
           {
            "marker": {
             "colorbar": {
              "outlinewidth": 0,
              "ticks": ""
             }
            },
            "type": "scattercarpet"
           }
          ],
          "scattergeo": [
           {
            "marker": {
             "colorbar": {
              "outlinewidth": 0,
              "ticks": ""
             }
            },
            "type": "scattergeo"
           }
          ],
          "scattergl": [
           {
            "marker": {
             "colorbar": {
              "outlinewidth": 0,
              "ticks": ""
             }
            },
            "type": "scattergl"
           }
          ],
          "scattermapbox": [
           {
            "marker": {
             "colorbar": {
              "outlinewidth": 0,
              "ticks": ""
             }
            },
            "type": "scattermapbox"
           }
          ],
          "scatterpolar": [
           {
            "marker": {
             "colorbar": {
              "outlinewidth": 0,
              "ticks": ""
             }
            },
            "type": "scatterpolar"
           }
          ],
          "scatterpolargl": [
           {
            "marker": {
             "colorbar": {
              "outlinewidth": 0,
              "ticks": ""
             }
            },
            "type": "scatterpolargl"
           }
          ],
          "scatterternary": [
           {
            "marker": {
             "colorbar": {
              "outlinewidth": 0,
              "ticks": ""
             }
            },
            "type": "scatterternary"
           }
          ],
          "surface": [
           {
            "colorbar": {
             "outlinewidth": 0,
             "ticks": ""
            },
            "colorscale": [
             [
              0,
              "#0d0887"
             ],
             [
              0.1111111111111111,
              "#46039f"
             ],
             [
              0.2222222222222222,
              "#7201a8"
             ],
             [
              0.3333333333333333,
              "#9c179e"
             ],
             [
              0.4444444444444444,
              "#bd3786"
             ],
             [
              0.5555555555555556,
              "#d8576b"
             ],
             [
              0.6666666666666666,
              "#ed7953"
             ],
             [
              0.7777777777777778,
              "#fb9f3a"
             ],
             [
              0.8888888888888888,
              "#fdca26"
             ],
             [
              1,
              "#f0f921"
             ]
            ],
            "type": "surface"
           }
          ],
          "table": [
           {
            "cells": {
             "fill": {
              "color": "#EBF0F8"
             },
             "line": {
              "color": "white"
             }
            },
            "header": {
             "fill": {
              "color": "#C8D4E3"
             },
             "line": {
              "color": "white"
             }
            },
            "type": "table"
           }
          ]
         },
         "layout": {
          "annotationdefaults": {
           "arrowcolor": "#2a3f5f",
           "arrowhead": 0,
           "arrowwidth": 1
          },
          "autotypenumbers": "strict",
          "coloraxis": {
           "colorbar": {
            "outlinewidth": 0,
            "ticks": ""
           }
          },
          "colorscale": {
           "diverging": [
            [
             0,
             "#8e0152"
            ],
            [
             0.1,
             "#c51b7d"
            ],
            [
             0.2,
             "#de77ae"
            ],
            [
             0.3,
             "#f1b6da"
            ],
            [
             0.4,
             "#fde0ef"
            ],
            [
             0.5,
             "#f7f7f7"
            ],
            [
             0.6,
             "#e6f5d0"
            ],
            [
             0.7,
             "#b8e186"
            ],
            [
             0.8,
             "#7fbc41"
            ],
            [
             0.9,
             "#4d9221"
            ],
            [
             1,
             "#276419"
            ]
           ],
           "sequential": [
            [
             0,
             "#0d0887"
            ],
            [
             0.1111111111111111,
             "#46039f"
            ],
            [
             0.2222222222222222,
             "#7201a8"
            ],
            [
             0.3333333333333333,
             "#9c179e"
            ],
            [
             0.4444444444444444,
             "#bd3786"
            ],
            [
             0.5555555555555556,
             "#d8576b"
            ],
            [
             0.6666666666666666,
             "#ed7953"
            ],
            [
             0.7777777777777778,
             "#fb9f3a"
            ],
            [
             0.8888888888888888,
             "#fdca26"
            ],
            [
             1,
             "#f0f921"
            ]
           ],
           "sequentialminus": [
            [
             0,
             "#0d0887"
            ],
            [
             0.1111111111111111,
             "#46039f"
            ],
            [
             0.2222222222222222,
             "#7201a8"
            ],
            [
             0.3333333333333333,
             "#9c179e"
            ],
            [
             0.4444444444444444,
             "#bd3786"
            ],
            [
             0.5555555555555556,
             "#d8576b"
            ],
            [
             0.6666666666666666,
             "#ed7953"
            ],
            [
             0.7777777777777778,
             "#fb9f3a"
            ],
            [
             0.8888888888888888,
             "#fdca26"
            ],
            [
             1,
             "#f0f921"
            ]
           ]
          },
          "colorway": [
           "#636efa",
           "#EF553B",
           "#00cc96",
           "#ab63fa",
           "#FFA15A",
           "#19d3f3",
           "#FF6692",
           "#B6E880",
           "#FF97FF",
           "#FECB52"
          ],
          "font": {
           "color": "#2a3f5f"
          },
          "geo": {
           "bgcolor": "white",
           "lakecolor": "white",
           "landcolor": "#E5ECF6",
           "showlakes": true,
           "showland": true,
           "subunitcolor": "white"
          },
          "hoverlabel": {
           "align": "left"
          },
          "hovermode": "closest",
          "mapbox": {
           "style": "light"
          },
          "paper_bgcolor": "white",
          "plot_bgcolor": "#E5ECF6",
          "polar": {
           "angularaxis": {
            "gridcolor": "white",
            "linecolor": "white",
            "ticks": ""
           },
           "bgcolor": "#E5ECF6",
           "radialaxis": {
            "gridcolor": "white",
            "linecolor": "white",
            "ticks": ""
           }
          },
          "scene": {
           "xaxis": {
            "backgroundcolor": "#E5ECF6",
            "gridcolor": "white",
            "gridwidth": 2,
            "linecolor": "white",
            "showbackground": true,
            "ticks": "",
            "zerolinecolor": "white"
           },
           "yaxis": {
            "backgroundcolor": "#E5ECF6",
            "gridcolor": "white",
            "gridwidth": 2,
            "linecolor": "white",
            "showbackground": true,
            "ticks": "",
            "zerolinecolor": "white"
           },
           "zaxis": {
            "backgroundcolor": "#E5ECF6",
            "gridcolor": "white",
            "gridwidth": 2,
            "linecolor": "white",
            "showbackground": true,
            "ticks": "",
            "zerolinecolor": "white"
           }
          },
          "shapedefaults": {
           "line": {
            "color": "#2a3f5f"
           }
          },
          "ternary": {
           "aaxis": {
            "gridcolor": "white",
            "linecolor": "white",
            "ticks": ""
           },
           "baxis": {
            "gridcolor": "white",
            "linecolor": "white",
            "ticks": ""
           },
           "bgcolor": "#E5ECF6",
           "caxis": {
            "gridcolor": "white",
            "linecolor": "white",
            "ticks": ""
           }
          },
          "title": {
           "x": 0.05
          },
          "xaxis": {
           "automargin": true,
           "gridcolor": "white",
           "linecolor": "white",
           "ticks": "",
           "title": {
            "standoff": 15
           },
           "zerolinecolor": "white",
           "zerolinewidth": 2
          },
          "yaxis": {
           "automargin": true,
           "gridcolor": "white",
           "linecolor": "white",
           "ticks": "",
           "title": {
            "standoff": 15
           },
           "zerolinecolor": "white",
           "zerolinewidth": 2
          }
         }
        },
        "title": {
         "text": "Dataset machine 302"
        },
        "width": 1280,
        "xaxis": {
         "anchor": "y",
         "domain": [
          0,
          1
         ],
         "matches": "x3",
         "showticklabels": false
        },
        "xaxis2": {
         "anchor": "y2",
         "domain": [
          0,
          1
         ],
         "matches": "x3",
         "showticklabels": false
        },
        "xaxis3": {
         "anchor": "y3",
         "domain": [
          0,
          1
         ]
        },
        "yaxis": {
         "anchor": "x",
         "domain": [
          0.7066666666666667,
          1
         ]
        },
        "yaxis2": {
         "anchor": "x2",
         "domain": [
          0.35333333333333333,
          0.6466666666666667
         ]
        },
        "yaxis3": {
         "anchor": "x3",
         "domain": [
          0,
          0.29333333333333333
         ]
        }
       }
      }
     },
     "metadata": {},
     "output_type": "display_data"
    },
    {
     "data": {
      "application/vnd.plotly.v1+json": {
       "config": {
        "plotlyServerURL": "https://plot.ly"
       },
       "data": [
        {
         "marker": {
          "color": "blue",
          "size": 10
         },
         "mode": "markers+lines",
         "name": "1139000AVP516700131A Energy",
         "text": [
          null,
          null,
          110409.5,
          null,
          156332.9,
          76751.9,
          116743.7,
          148495.1,
          83645
         ],
         "type": "scatter",
         "x": [
          "2023-02-27",
          "2023-02-28",
          "2023-03-01",
          "2023-03-02",
          "2023-03-03",
          "2023-03-04",
          "2023-03-06",
          "2023-03-07",
          "2023-03-08"
         ],
         "xaxis": "x",
         "y": [
          null,
          null,
          110409.5,
          null,
          156332.9,
          76751.9,
          116743.7,
          148495.1,
          83645
         ],
         "yaxis": "y"
        },
        {
         "marker": {
          "color": "blue",
          "size": 10
         },
         "mode": "markers+lines",
         "name": "1139000AVP516700131A Productions",
         "text": [
          208,
          572,
          344,
          597,
          563,
          468,
          397,
          556,
          248
         ],
         "type": "scatter",
         "x": [
          "2023-02-27",
          "2023-02-28",
          "2023-03-01",
          "2023-03-02",
          "2023-03-03",
          "2023-03-04",
          "2023-03-06",
          "2023-03-07",
          "2023-03-08"
         ],
         "xaxis": "x3",
         "y": [
          208,
          572,
          344,
          597,
          563,
          468,
          397,
          556,
          248
         ],
         "yaxis": "y3"
        },
        {
         "marker": {
          "color": "blue",
          "size": 10
         },
         "mode": "markers+lines",
         "name": "1139000AVP516700131A Stops",
         "text": [
          "Unknown",
          "Unknown",
          "Unknown",
          "Sostituzione utensile",
          "Sostituzione utensile",
          "Sostituzione utensile",
          "Sostituzione utensile",
          "Sostituzione utensile",
          "Unknown"
         ],
         "type": "scatter",
         "x": [
          "2023-02-27",
          "2023-02-28",
          "2023-03-01",
          "2023-03-02",
          "2023-03-03",
          "2023-03-04",
          "2023-03-06",
          "2023-03-07",
          "2023-03-08"
         ],
         "xaxis": "x2",
         "y": [
          null,
          null,
          null,
          8,
          9,
          3,
          4,
          3,
          null
         ],
         "yaxis": "y2"
        },
        {
         "marker": {
          "color": "black",
          "size": 10
         },
         "mode": "markers+lines",
         "name": "Unknown Energy",
         "text": [
          0.1,
          0,
          null,
          87553.5,
          36805.7,
          80028.7,
          80028.7,
          74030.6,
          64500.9,
          0,
          0,
          null,
          null,
          null,
          null,
          52391.1,
          0.1,
          0.2,
          0,
          0.1,
          0,
          0.1,
          0.1,
          null,
          null,
          null,
          null,
          null,
          0
         ],
         "type": "scatter",
         "x": [
          "2023-03-05",
          "2023-03-11",
          "2023-03-13",
          "2023-03-14",
          "2023-03-15",
          "2023-03-21",
          "2023-03-21",
          "2023-03-22",
          "2023-03-23",
          "2023-03-24",
          "2023-03-25",
          "2023-03-27",
          "2023-03-27",
          "2023-03-28",
          "2023-03-29",
          "2023-03-30",
          "2022-12-09",
          "2022-12-10",
          "2022-12-11",
          "2022-12-18",
          "2022-12-31",
          "2023-06-11",
          "2023-06-18",
          "2023-06-23",
          "2023-06-24",
          "2023-06-26",
          "2023-06-27",
          "2023-06-28",
          "2023-06-30"
         ],
         "xaxis": "x",
         "y": [
          0.1,
          0,
          null,
          87553.5,
          36805.7,
          80028.7,
          80028.7,
          74030.6,
          64500.9,
          0,
          0,
          null,
          null,
          null,
          null,
          52391.1,
          0.1,
          0.2,
          0,
          0.1,
          0,
          0.1,
          0.1,
          null,
          null,
          null,
          null,
          null,
          0
         ],
         "yaxis": "y"
        },
        {
         "marker": {
          "color": "black",
          "size": 10
         },
         "mode": "markers+lines",
         "name": "Unknown Productions",
         "text": [
          null,
          null,
          null,
          null,
          null,
          null,
          null,
          null,
          null,
          null,
          null,
          null,
          null,
          null,
          null,
          null,
          null,
          null,
          null,
          null,
          null,
          null,
          null,
          null,
          null,
          null,
          null,
          null,
          null
         ],
         "type": "scatter",
         "x": [
          "2023-03-05",
          "2023-03-11",
          "2023-03-13",
          "2023-03-14",
          "2023-03-15",
          "2023-03-21",
          "2023-03-21",
          "2023-03-22",
          "2023-03-23",
          "2023-03-24",
          "2023-03-25",
          "2023-03-27",
          "2023-03-27",
          "2023-03-28",
          "2023-03-29",
          "2023-03-30",
          "2022-12-09",
          "2022-12-10",
          "2022-12-11",
          "2022-12-18",
          "2022-12-31",
          "2023-06-11",
          "2023-06-18",
          "2023-06-23",
          "2023-06-24",
          "2023-06-26",
          "2023-06-27",
          "2023-06-28",
          "2023-06-30"
         ],
         "xaxis": "x3",
         "y": [
          null,
          null,
          null,
          null,
          null,
          null,
          null,
          null,
          null,
          null,
          null,
          null,
          null,
          null,
          null,
          null,
          null,
          null,
          null,
          null,
          null,
          null,
          null,
          null,
          null,
          null,
          null,
          null,
          null
         ],
         "yaxis": "y3"
        },
        {
         "marker": {
          "color": "black",
          "size": 10
         },
         "mode": "markers+lines",
         "name": "Unknown Stops",
         "text": [
          "Unknown",
          "Unknown",
          "Sostituzione utensile",
          "Sostituzione utensile",
          "Unknown",
          "Manutenzione ordinaria",
          "Sostituzione utensile",
          "Manutenzione ordinaria",
          "Sostituzione utensile",
          "Sostituzione utensile",
          "Sostituzione utensile",
          "Manutenzione ordinaria",
          "Sostituzione utensile",
          "Sostituzione utensile",
          "Sostituzione utensile",
          "Unknown",
          "Unknown",
          "Unknown",
          "Unknown",
          "Unknown",
          "Unknown",
          "Unknown",
          "Unknown",
          "Sostituzione utensile",
          "Sostituzione utensile",
          "Sostituzione utensile",
          "Sostituzione utensile",
          "Sostituzione utensile",
          "Sostituzione utensile"
         ],
         "type": "scatter",
         "x": [
          "2023-03-05",
          "2023-03-11",
          "2023-03-13",
          "2023-03-14",
          "2023-03-15",
          "2023-03-21",
          "2023-03-21",
          "2023-03-22",
          "2023-03-23",
          "2023-03-24",
          "2023-03-25",
          "2023-03-27",
          "2023-03-27",
          "2023-03-28",
          "2023-03-29",
          "2023-03-30",
          "2022-12-09",
          "2022-12-10",
          "2022-12-11",
          "2022-12-18",
          "2022-12-31",
          "2023-06-11",
          "2023-06-18",
          "2023-06-23",
          "2023-06-24",
          "2023-06-26",
          "2023-06-27",
          "2023-06-28",
          "2023-06-30"
         ],
         "xaxis": "x2",
         "y": [
          null,
          null,
          5,
          3,
          null,
          1,
          4,
          1,
          2,
          3,
          3,
          1,
          4,
          5,
          6,
          null,
          null,
          null,
          null,
          null,
          null,
          null,
          null,
          5,
          1,
          1,
          2,
          1,
          2
         ],
         "yaxis": "y2"
        },
        {
         "marker": {
          "color": "#FF0000",
          "size": 10
         },
         "mode": "markers+lines",
         "name": "1169200AISMEC-400432 Energy",
         "text": [
          null,
          null
         ],
         "type": "scatter",
         "x": [
          "2023-03-09",
          "2023-03-10"
         ],
         "xaxis": "x",
         "y": [
          null,
          null
         ],
         "yaxis": "y"
        },
        {
         "marker": {
          "color": "#FF0000",
          "size": 10
         },
         "mode": "markers+lines",
         "name": "1169200AISMEC-400432 Productions",
         "text": [
          106,
          488
         ],
         "type": "scatter",
         "x": [
          "2023-03-09",
          "2023-03-10"
         ],
         "xaxis": "x3",
         "y": [
          106,
          488
         ],
         "yaxis": "y3"
        },
        {
         "marker": {
          "color": "#FF0000",
          "size": 10
         },
         "mode": "markers+lines",
         "name": "1169200AISMEC-400432 Stops",
         "text": [
          "Sostituzione utensile",
          "Sostituzione utensile"
         ],
         "type": "scatter",
         "x": [
          "2023-03-09",
          "2023-03-10"
         ],
         "xaxis": "x2",
         "y": [
          6,
          3
         ],
         "yaxis": "y2"
        },
        {
         "marker": {
          "color": "#00FFFF",
          "size": 10
         },
         "mode": "markers+lines",
         "name": "1103000PR8184250280 Energy",
         "text": [
          null
         ],
         "type": "scatter",
         "x": [
          "2022-11-28"
         ],
         "xaxis": "x",
         "y": [
          null
         ],
         "yaxis": "y"
        },
        {
         "marker": {
          "color": "#00FFFF",
          "size": 10
         },
         "mode": "markers+lines",
         "name": "1103000PR8184250280 Productions",
         "text": [
          100
         ],
         "type": "scatter",
         "x": [
          "2022-11-28"
         ],
         "xaxis": "x3",
         "y": [
          100
         ],
         "yaxis": "y3"
        },
        {
         "marker": {
          "color": "#00FFFF",
          "size": 10
         },
         "mode": "markers+lines",
         "name": "1103000PR8184250280 Stops",
         "text": [
          "Unknown"
         ],
         "type": "scatter",
         "x": [
          "2022-11-28"
         ],
         "xaxis": "x2",
         "y": [
          null
         ],
         "yaxis": "y2"
        },
        {
         "marker": {
          "color": "#FFFF00",
          "size": 10
         },
         "mode": "markers+lines",
         "name": "110300042C160180370 Energy",
         "text": [
          null,
          133461.9,
          133461.9,
          152079.2,
          null,
          54921.2
         ],
         "type": "scatter",
         "x": [
          "2022-11-30",
          "2022-12-01",
          "2022-12-01",
          "2022-12-02",
          "2022-12-03",
          "2022-12-05"
         ],
         "xaxis": "x",
         "y": [
          null,
          133461.9,
          133461.9,
          152079.2,
          null,
          54921.2
         ],
         "yaxis": "y"
        },
        {
         "marker": {
          "color": "#FFFF00",
          "size": 10
         },
         "mode": "markers+lines",
         "name": "110300042C160180370 Productions",
         "text": [
          219,
          1164,
          1164,
          1560,
          1095,
          356
         ],
         "type": "scatter",
         "x": [
          "2022-11-30",
          "2022-12-01",
          "2022-12-01",
          "2022-12-02",
          "2022-12-03",
          "2022-12-05"
         ],
         "xaxis": "x3",
         "y": [
          219,
          1164,
          1164,
          1560,
          1095,
          356
         ],
         "yaxis": "y3"
        },
        {
         "marker": {
          "color": "#FFFF00",
          "size": 10
         },
         "mode": "markers+lines",
         "name": "110300042C160180370 Stops",
         "text": [
          "Unknown",
          "Manutenzione ordinaria",
          "Sostituzione utensile",
          "Sostituzione utensile",
          "Sostituzione utensile",
          "Unknown"
         ],
         "type": "scatter",
         "x": [
          "2022-11-30",
          "2022-12-01",
          "2022-12-01",
          "2022-12-02",
          "2022-12-03",
          "2022-12-05"
         ],
         "xaxis": "x2",
         "y": [
          null,
          3,
          6,
          1,
          2,
          null
         ],
         "yaxis": "y2"
        },
        {
         "marker": {
          "color": "#880000",
          "size": 10
         },
         "mode": "markers+lines",
         "name": "1156200ALL184170010 Energy",
         "text": [
          54921.2,
          118491.8,
          200876.3,
          null,
          88383.4
         ],
         "type": "scatter",
         "x": [
          "2022-12-05",
          "2022-12-06",
          "2022-12-07",
          "2022-12-08",
          "2022-12-12"
         ],
         "xaxis": "x",
         "y": [
          54921.2,
          118491.8,
          200876.3,
          null,
          88383.4
         ],
         "yaxis": "y"
        },
        {
         "marker": {
          "color": "#880000",
          "size": 10
         },
         "mode": "markers+lines",
         "name": "1156200ALL184170010 Productions",
         "text": [
          0,
          891,
          2007,
          470,
          692
         ],
         "type": "scatter",
         "x": [
          "2022-12-05",
          "2022-12-06",
          "2022-12-07",
          "2022-12-08",
          "2022-12-12"
         ],
         "xaxis": "x3",
         "y": [
          0,
          891,
          2007,
          470,
          692
         ],
         "yaxis": "y3"
        },
        {
         "marker": {
          "color": "#880000",
          "size": 10
         },
         "mode": "markers+lines",
         "name": "1156200ALL184170010 Stops",
         "text": [
          "Unknown",
          "Sostituzione utensile",
          "Sostituzione utensile",
          "Unknown",
          "Unknown"
         ],
         "type": "scatter",
         "x": [
          "2022-12-05",
          "2022-12-06",
          "2022-12-07",
          "2022-12-08",
          "2022-12-12"
         ],
         "xaxis": "x2",
         "y": [
          null,
          2,
          2,
          null,
          null
         ],
         "yaxis": "y2"
        },
        {
         "marker": {
          "color": "blue",
          "size": 10
         },
         "mode": "markers+lines",
         "name": "1139000PR8510000130C Energy",
         "text": [
          42697.8,
          14134,
          14134,
          0,
          155621.8,
          70469.2,
          124739.3,
          161281.6,
          161579.4,
          158121.4,
          null,
          107632,
          107632,
          151408,
          120395.1,
          114545.9
         ],
         "type": "scatter",
         "x": [
          "2022-12-13",
          "2022-12-14",
          "2022-12-14",
          "2022-12-15",
          "2022-12-16",
          "2022-12-17",
          "2022-12-19",
          "2022-12-20",
          "2022-12-21",
          "2022-12-22",
          "2022-12-23",
          "2022-12-27",
          "2022-12-27",
          "2022-12-28",
          "2022-12-29",
          "2022-12-30"
         ],
         "xaxis": "x",
         "y": [
          42697.8,
          14134,
          14134,
          0,
          155621.8,
          70469.2,
          124739.3,
          161281.6,
          161579.4,
          158121.4,
          null,
          107632,
          107632,
          151408,
          120395.1,
          114545.9
         ],
         "yaxis": "y"
        },
        {
         "marker": {
          "color": "blue",
          "size": 10
         },
         "mode": "markers+lines",
         "name": "1139000PR8510000130C Productions",
         "text": [
          0,
          200,
          200,
          627,
          1010,
          732,
          801,
          1098,
          1069,
          1090,
          990,
          567,
          567,
          1012,
          668,
          282
         ],
         "type": "scatter",
         "x": [
          "2022-12-13",
          "2022-12-14",
          "2022-12-14",
          "2022-12-15",
          "2022-12-16",
          "2022-12-17",
          "2022-12-19",
          "2022-12-20",
          "2022-12-21",
          "2022-12-22",
          "2022-12-23",
          "2022-12-27",
          "2022-12-27",
          "2022-12-28",
          "2022-12-29",
          "2022-12-30"
         ],
         "xaxis": "x3",
         "y": [
          0,
          200,
          200,
          627,
          1010,
          732,
          801,
          1098,
          1069,
          1090,
          990,
          567,
          567,
          1012,
          668,
          282
         ],
         "yaxis": "y3"
        },
        {
         "marker": {
          "color": "blue",
          "size": 10
         },
         "mode": "markers+lines",
         "name": "1139000PR8510000130C Stops",
         "text": [
          "Unknown",
          "Manutenzione ordinaria",
          "Sostituzione utensile",
          "Sostituzione utensile",
          "Sostituzione utensile",
          "Unknown",
          "Sostituzione utensile",
          "Sostituzione utensile",
          "Sostituzione utensile",
          "Sostituzione utensile",
          "Sostituzione utensile",
          "Manutenzione ordinaria",
          "Sostituzione utensile",
          "Sostituzione utensile",
          "Sostituzione utensile",
          "Sostituzione utensile"
         ],
         "type": "scatter",
         "x": [
          "2022-12-13",
          "2022-12-14",
          "2022-12-14",
          "2022-12-15",
          "2022-12-16",
          "2022-12-17",
          "2022-12-19",
          "2022-12-20",
          "2022-12-21",
          "2022-12-22",
          "2022-12-23",
          "2022-12-27",
          "2022-12-27",
          "2022-12-28",
          "2022-12-29",
          "2022-12-30"
         ],
         "xaxis": "x2",
         "y": [
          null,
          1,
          2,
          2,
          5,
          null,
          6,
          3,
          3,
          2,
          2,
          2,
          4,
          3,
          1,
          1
         ],
         "yaxis": "y2"
        },
        {
         "marker": {
          "color": "green",
          "size": 10
         },
         "mode": "markers+lines",
         "name": "1139000PR8515600020A Energy",
         "text": [
          null,
          null,
          null,
          null,
          null,
          null,
          null,
          111037.4
         ],
         "type": "scatter",
         "x": [
          "2023-05-30",
          "2023-05-31",
          "2023-06-01",
          "2023-06-02",
          "2023-06-05",
          "2023-06-05",
          "2023-06-06",
          "2023-06-07"
         ],
         "xaxis": "x",
         "y": [
          null,
          null,
          null,
          null,
          null,
          null,
          null,
          111037.4
         ],
         "yaxis": "y"
        },
        {
         "marker": {
          "color": "green",
          "size": 10
         },
         "mode": "markers+lines",
         "name": "1139000PR8515600020A Productions",
         "text": [
          0,
          232,
          529,
          100,
          608,
          608,
          1001,
          902
         ],
         "type": "scatter",
         "x": [
          "2023-05-30",
          "2023-05-31",
          "2023-06-01",
          "2023-06-02",
          "2023-06-05",
          "2023-06-05",
          "2023-06-06",
          "2023-06-07"
         ],
         "xaxis": "x3",
         "y": [
          0,
          232,
          529,
          100,
          608,
          608,
          1001,
          902
         ],
         "yaxis": "y3"
        },
        {
         "marker": {
          "color": "green",
          "size": 10
         },
         "mode": "markers+lines",
         "name": "1139000PR8515600020A Stops",
         "text": [
          "Unknown",
          "Unknown",
          "Unknown",
          "Manutenzione ordinaria",
          "Manutenzione ordinaria",
          "Sostituzione utensile",
          "Sostituzione utensile",
          "Unknown"
         ],
         "type": "scatter",
         "x": [
          "2023-05-30",
          "2023-05-31",
          "2023-06-01",
          "2023-06-02",
          "2023-06-05",
          "2023-06-05",
          "2023-06-06",
          "2023-06-07"
         ],
         "xaxis": "x2",
         "y": [
          null,
          null,
          null,
          1,
          2,
          1,
          1,
          null
         ],
         "yaxis": "y2"
        },
        {
         "marker": {
          "color": "#FF0000",
          "size": 10
         },
         "mode": "markers+lines",
         "name": "1139000AVP510000908A Energy",
         "text": [
          19048.7,
          null,
          31750.7,
          134172.2,
          168262.4,
          169264.8,
          null,
          166834.2,
          56189.1,
          124407.6,
          162208.7,
          0,
          160519.7
         ],
         "type": "scatter",
         "x": [
          "2023-06-08",
          "2023-06-09",
          "2023-06-10",
          "2023-06-12",
          "2023-06-13",
          "2023-06-14",
          "2023-06-15",
          "2023-06-16",
          "2023-06-17",
          "2023-06-19",
          "2023-06-20",
          "2023-06-21",
          "2023-06-22"
         ],
         "xaxis": "x",
         "y": [
          19048.7,
          null,
          31750.7,
          134172.2,
          168262.4,
          169264.8,
          null,
          166834.2,
          56189.1,
          124407.6,
          162208.7,
          0,
          160519.7
         ],
         "yaxis": "y"
        },
        {
         "marker": {
          "color": "#FF0000",
          "size": 10
         },
         "mode": "markers+lines",
         "name": "1139000AVP510000908A Productions",
         "text": [
          0,
          160,
          113,
          399,
          1376,
          255,
          465,
          876,
          492,
          580,
          857,
          803,
          380
         ],
         "type": "scatter",
         "x": [
          "2023-06-08",
          "2023-06-09",
          "2023-06-10",
          "2023-06-12",
          "2023-06-13",
          "2023-06-14",
          "2023-06-15",
          "2023-06-16",
          "2023-06-17",
          "2023-06-19",
          "2023-06-20",
          "2023-06-21",
          "2023-06-22"
         ],
         "xaxis": "x3",
         "y": [
          0,
          160,
          113,
          399,
          1376,
          255,
          465,
          876,
          492,
          580,
          857,
          803,
          380
         ],
         "yaxis": "y3"
        },
        {
         "marker": {
          "color": "#FF0000",
          "size": 10
         },
         "mode": "markers+lines",
         "name": "1139000AVP510000908A Stops",
         "text": [
          "Unknown",
          "Unknown",
          "Unknown",
          "Unknown",
          "Sostituzione utensile",
          "Sostituzione utensile",
          "Sostituzione utensile",
          "Sostituzione utensile",
          "Sostituzione utensile",
          "Sostituzione utensile",
          "Sostituzione utensile",
          "Sostituzione utensile",
          "Sostituzione utensile"
         ],
         "type": "scatter",
         "x": [
          "2023-06-08",
          "2023-06-09",
          "2023-06-10",
          "2023-06-12",
          "2023-06-13",
          "2023-06-14",
          "2023-06-15",
          "2023-06-16",
          "2023-06-17",
          "2023-06-19",
          "2023-06-20",
          "2023-06-21",
          "2023-06-22"
         ],
         "xaxis": "x2",
         "y": [
          null,
          null,
          null,
          null,
          3,
          3,
          3,
          2,
          2,
          3,
          2,
          2,
          4
         ],
         "yaxis": "y2"
        }
       ],
       "layout": {
        "annotations": [
         {
          "font": {
           "size": 16
          },
          "showarrow": false,
          "text": "Energy Consumption",
          "x": 0.5,
          "xanchor": "center",
          "xref": "paper",
          "y": 1,
          "yanchor": "bottom",
          "yref": "paper"
         },
         {
          "font": {
           "size": 16
          },
          "showarrow": false,
          "text": "Stops",
          "x": 0.5,
          "xanchor": "center",
          "xref": "paper",
          "y": 0.6466666666666667,
          "yanchor": "bottom",
          "yref": "paper"
         },
         {
          "font": {
           "size": 16
          },
          "showarrow": false,
          "text": "Productions",
          "x": 0.5,
          "xanchor": "center",
          "xref": "paper",
          "y": 0.29333333333333333,
          "yanchor": "bottom",
          "yref": "paper"
         }
        ],
        "height": 800,
        "template": {
         "data": {
          "bar": [
           {
            "error_x": {
             "color": "#2a3f5f"
            },
            "error_y": {
             "color": "#2a3f5f"
            },
            "marker": {
             "line": {
              "color": "#E5ECF6",
              "width": 0.5
             },
             "pattern": {
              "fillmode": "overlay",
              "size": 10,
              "solidity": 0.2
             }
            },
            "type": "bar"
           }
          ],
          "barpolar": [
           {
            "marker": {
             "line": {
              "color": "#E5ECF6",
              "width": 0.5
             },
             "pattern": {
              "fillmode": "overlay",
              "size": 10,
              "solidity": 0.2
             }
            },
            "type": "barpolar"
           }
          ],
          "carpet": [
           {
            "aaxis": {
             "endlinecolor": "#2a3f5f",
             "gridcolor": "white",
             "linecolor": "white",
             "minorgridcolor": "white",
             "startlinecolor": "#2a3f5f"
            },
            "baxis": {
             "endlinecolor": "#2a3f5f",
             "gridcolor": "white",
             "linecolor": "white",
             "minorgridcolor": "white",
             "startlinecolor": "#2a3f5f"
            },
            "type": "carpet"
           }
          ],
          "choropleth": [
           {
            "colorbar": {
             "outlinewidth": 0,
             "ticks": ""
            },
            "type": "choropleth"
           }
          ],
          "contour": [
           {
            "colorbar": {
             "outlinewidth": 0,
             "ticks": ""
            },
            "colorscale": [
             [
              0,
              "#0d0887"
             ],
             [
              0.1111111111111111,
              "#46039f"
             ],
             [
              0.2222222222222222,
              "#7201a8"
             ],
             [
              0.3333333333333333,
              "#9c179e"
             ],
             [
              0.4444444444444444,
              "#bd3786"
             ],
             [
              0.5555555555555556,
              "#d8576b"
             ],
             [
              0.6666666666666666,
              "#ed7953"
             ],
             [
              0.7777777777777778,
              "#fb9f3a"
             ],
             [
              0.8888888888888888,
              "#fdca26"
             ],
             [
              1,
              "#f0f921"
             ]
            ],
            "type": "contour"
           }
          ],
          "contourcarpet": [
           {
            "colorbar": {
             "outlinewidth": 0,
             "ticks": ""
            },
            "type": "contourcarpet"
           }
          ],
          "heatmap": [
           {
            "colorbar": {
             "outlinewidth": 0,
             "ticks": ""
            },
            "colorscale": [
             [
              0,
              "#0d0887"
             ],
             [
              0.1111111111111111,
              "#46039f"
             ],
             [
              0.2222222222222222,
              "#7201a8"
             ],
             [
              0.3333333333333333,
              "#9c179e"
             ],
             [
              0.4444444444444444,
              "#bd3786"
             ],
             [
              0.5555555555555556,
              "#d8576b"
             ],
             [
              0.6666666666666666,
              "#ed7953"
             ],
             [
              0.7777777777777778,
              "#fb9f3a"
             ],
             [
              0.8888888888888888,
              "#fdca26"
             ],
             [
              1,
              "#f0f921"
             ]
            ],
            "type": "heatmap"
           }
          ],
          "heatmapgl": [
           {
            "colorbar": {
             "outlinewidth": 0,
             "ticks": ""
            },
            "colorscale": [
             [
              0,
              "#0d0887"
             ],
             [
              0.1111111111111111,
              "#46039f"
             ],
             [
              0.2222222222222222,
              "#7201a8"
             ],
             [
              0.3333333333333333,
              "#9c179e"
             ],
             [
              0.4444444444444444,
              "#bd3786"
             ],
             [
              0.5555555555555556,
              "#d8576b"
             ],
             [
              0.6666666666666666,
              "#ed7953"
             ],
             [
              0.7777777777777778,
              "#fb9f3a"
             ],
             [
              0.8888888888888888,
              "#fdca26"
             ],
             [
              1,
              "#f0f921"
             ]
            ],
            "type": "heatmapgl"
           }
          ],
          "histogram": [
           {
            "marker": {
             "pattern": {
              "fillmode": "overlay",
              "size": 10,
              "solidity": 0.2
             }
            },
            "type": "histogram"
           }
          ],
          "histogram2d": [
           {
            "colorbar": {
             "outlinewidth": 0,
             "ticks": ""
            },
            "colorscale": [
             [
              0,
              "#0d0887"
             ],
             [
              0.1111111111111111,
              "#46039f"
             ],
             [
              0.2222222222222222,
              "#7201a8"
             ],
             [
              0.3333333333333333,
              "#9c179e"
             ],
             [
              0.4444444444444444,
              "#bd3786"
             ],
             [
              0.5555555555555556,
              "#d8576b"
             ],
             [
              0.6666666666666666,
              "#ed7953"
             ],
             [
              0.7777777777777778,
              "#fb9f3a"
             ],
             [
              0.8888888888888888,
              "#fdca26"
             ],
             [
              1,
              "#f0f921"
             ]
            ],
            "type": "histogram2d"
           }
          ],
          "histogram2dcontour": [
           {
            "colorbar": {
             "outlinewidth": 0,
             "ticks": ""
            },
            "colorscale": [
             [
              0,
              "#0d0887"
             ],
             [
              0.1111111111111111,
              "#46039f"
             ],
             [
              0.2222222222222222,
              "#7201a8"
             ],
             [
              0.3333333333333333,
              "#9c179e"
             ],
             [
              0.4444444444444444,
              "#bd3786"
             ],
             [
              0.5555555555555556,
              "#d8576b"
             ],
             [
              0.6666666666666666,
              "#ed7953"
             ],
             [
              0.7777777777777778,
              "#fb9f3a"
             ],
             [
              0.8888888888888888,
              "#fdca26"
             ],
             [
              1,
              "#f0f921"
             ]
            ],
            "type": "histogram2dcontour"
           }
          ],
          "mesh3d": [
           {
            "colorbar": {
             "outlinewidth": 0,
             "ticks": ""
            },
            "type": "mesh3d"
           }
          ],
          "parcoords": [
           {
            "line": {
             "colorbar": {
              "outlinewidth": 0,
              "ticks": ""
             }
            },
            "type": "parcoords"
           }
          ],
          "pie": [
           {
            "automargin": true,
            "type": "pie"
           }
          ],
          "scatter": [
           {
            "fillpattern": {
             "fillmode": "overlay",
             "size": 10,
             "solidity": 0.2
            },
            "type": "scatter"
           }
          ],
          "scatter3d": [
           {
            "line": {
             "colorbar": {
              "outlinewidth": 0,
              "ticks": ""
             }
            },
            "marker": {
             "colorbar": {
              "outlinewidth": 0,
              "ticks": ""
             }
            },
            "type": "scatter3d"
           }
          ],
          "scattercarpet": [
           {
            "marker": {
             "colorbar": {
              "outlinewidth": 0,
              "ticks": ""
             }
            },
            "type": "scattercarpet"
           }
          ],
          "scattergeo": [
           {
            "marker": {
             "colorbar": {
              "outlinewidth": 0,
              "ticks": ""
             }
            },
            "type": "scattergeo"
           }
          ],
          "scattergl": [
           {
            "marker": {
             "colorbar": {
              "outlinewidth": 0,
              "ticks": ""
             }
            },
            "type": "scattergl"
           }
          ],
          "scattermapbox": [
           {
            "marker": {
             "colorbar": {
              "outlinewidth": 0,
              "ticks": ""
             }
            },
            "type": "scattermapbox"
           }
          ],
          "scatterpolar": [
           {
            "marker": {
             "colorbar": {
              "outlinewidth": 0,
              "ticks": ""
             }
            },
            "type": "scatterpolar"
           }
          ],
          "scatterpolargl": [
           {
            "marker": {
             "colorbar": {
              "outlinewidth": 0,
              "ticks": ""
             }
            },
            "type": "scatterpolargl"
           }
          ],
          "scatterternary": [
           {
            "marker": {
             "colorbar": {
              "outlinewidth": 0,
              "ticks": ""
             }
            },
            "type": "scatterternary"
           }
          ],
          "surface": [
           {
            "colorbar": {
             "outlinewidth": 0,
             "ticks": ""
            },
            "colorscale": [
             [
              0,
              "#0d0887"
             ],
             [
              0.1111111111111111,
              "#46039f"
             ],
             [
              0.2222222222222222,
              "#7201a8"
             ],
             [
              0.3333333333333333,
              "#9c179e"
             ],
             [
              0.4444444444444444,
              "#bd3786"
             ],
             [
              0.5555555555555556,
              "#d8576b"
             ],
             [
              0.6666666666666666,
              "#ed7953"
             ],
             [
              0.7777777777777778,
              "#fb9f3a"
             ],
             [
              0.8888888888888888,
              "#fdca26"
             ],
             [
              1,
              "#f0f921"
             ]
            ],
            "type": "surface"
           }
          ],
          "table": [
           {
            "cells": {
             "fill": {
              "color": "#EBF0F8"
             },
             "line": {
              "color": "white"
             }
            },
            "header": {
             "fill": {
              "color": "#C8D4E3"
             },
             "line": {
              "color": "white"
             }
            },
            "type": "table"
           }
          ]
         },
         "layout": {
          "annotationdefaults": {
           "arrowcolor": "#2a3f5f",
           "arrowhead": 0,
           "arrowwidth": 1
          },
          "autotypenumbers": "strict",
          "coloraxis": {
           "colorbar": {
            "outlinewidth": 0,
            "ticks": ""
           }
          },
          "colorscale": {
           "diverging": [
            [
             0,
             "#8e0152"
            ],
            [
             0.1,
             "#c51b7d"
            ],
            [
             0.2,
             "#de77ae"
            ],
            [
             0.3,
             "#f1b6da"
            ],
            [
             0.4,
             "#fde0ef"
            ],
            [
             0.5,
             "#f7f7f7"
            ],
            [
             0.6,
             "#e6f5d0"
            ],
            [
             0.7,
             "#b8e186"
            ],
            [
             0.8,
             "#7fbc41"
            ],
            [
             0.9,
             "#4d9221"
            ],
            [
             1,
             "#276419"
            ]
           ],
           "sequential": [
            [
             0,
             "#0d0887"
            ],
            [
             0.1111111111111111,
             "#46039f"
            ],
            [
             0.2222222222222222,
             "#7201a8"
            ],
            [
             0.3333333333333333,
             "#9c179e"
            ],
            [
             0.4444444444444444,
             "#bd3786"
            ],
            [
             0.5555555555555556,
             "#d8576b"
            ],
            [
             0.6666666666666666,
             "#ed7953"
            ],
            [
             0.7777777777777778,
             "#fb9f3a"
            ],
            [
             0.8888888888888888,
             "#fdca26"
            ],
            [
             1,
             "#f0f921"
            ]
           ],
           "sequentialminus": [
            [
             0,
             "#0d0887"
            ],
            [
             0.1111111111111111,
             "#46039f"
            ],
            [
             0.2222222222222222,
             "#7201a8"
            ],
            [
             0.3333333333333333,
             "#9c179e"
            ],
            [
             0.4444444444444444,
             "#bd3786"
            ],
            [
             0.5555555555555556,
             "#d8576b"
            ],
            [
             0.6666666666666666,
             "#ed7953"
            ],
            [
             0.7777777777777778,
             "#fb9f3a"
            ],
            [
             0.8888888888888888,
             "#fdca26"
            ],
            [
             1,
             "#f0f921"
            ]
           ]
          },
          "colorway": [
           "#636efa",
           "#EF553B",
           "#00cc96",
           "#ab63fa",
           "#FFA15A",
           "#19d3f3",
           "#FF6692",
           "#B6E880",
           "#FF97FF",
           "#FECB52"
          ],
          "font": {
           "color": "#2a3f5f"
          },
          "geo": {
           "bgcolor": "white",
           "lakecolor": "white",
           "landcolor": "#E5ECF6",
           "showlakes": true,
           "showland": true,
           "subunitcolor": "white"
          },
          "hoverlabel": {
           "align": "left"
          },
          "hovermode": "closest",
          "mapbox": {
           "style": "light"
          },
          "paper_bgcolor": "white",
          "plot_bgcolor": "#E5ECF6",
          "polar": {
           "angularaxis": {
            "gridcolor": "white",
            "linecolor": "white",
            "ticks": ""
           },
           "bgcolor": "#E5ECF6",
           "radialaxis": {
            "gridcolor": "white",
            "linecolor": "white",
            "ticks": ""
           }
          },
          "scene": {
           "xaxis": {
            "backgroundcolor": "#E5ECF6",
            "gridcolor": "white",
            "gridwidth": 2,
            "linecolor": "white",
            "showbackground": true,
            "ticks": "",
            "zerolinecolor": "white"
           },
           "yaxis": {
            "backgroundcolor": "#E5ECF6",
            "gridcolor": "white",
            "gridwidth": 2,
            "linecolor": "white",
            "showbackground": true,
            "ticks": "",
            "zerolinecolor": "white"
           },
           "zaxis": {
            "backgroundcolor": "#E5ECF6",
            "gridcolor": "white",
            "gridwidth": 2,
            "linecolor": "white",
            "showbackground": true,
            "ticks": "",
            "zerolinecolor": "white"
           }
          },
          "shapedefaults": {
           "line": {
            "color": "#2a3f5f"
           }
          },
          "ternary": {
           "aaxis": {
            "gridcolor": "white",
            "linecolor": "white",
            "ticks": ""
           },
           "baxis": {
            "gridcolor": "white",
            "linecolor": "white",
            "ticks": ""
           },
           "bgcolor": "#E5ECF6",
           "caxis": {
            "gridcolor": "white",
            "linecolor": "white",
            "ticks": ""
           }
          },
          "title": {
           "x": 0.05
          },
          "xaxis": {
           "automargin": true,
           "gridcolor": "white",
           "linecolor": "white",
           "ticks": "",
           "title": {
            "standoff": 15
           },
           "zerolinecolor": "white",
           "zerolinewidth": 2
          },
          "yaxis": {
           "automargin": true,
           "gridcolor": "white",
           "linecolor": "white",
           "ticks": "",
           "title": {
            "standoff": 15
           },
           "zerolinecolor": "white",
           "zerolinewidth": 2
          }
         }
        },
        "title": {
         "text": "Dataset machine 303"
        },
        "width": 1280,
        "xaxis": {
         "anchor": "y",
         "domain": [
          0,
          1
         ],
         "matches": "x3",
         "showticklabels": false
        },
        "xaxis2": {
         "anchor": "y2",
         "domain": [
          0,
          1
         ],
         "matches": "x3",
         "showticklabels": false
        },
        "xaxis3": {
         "anchor": "y3",
         "domain": [
          0,
          1
         ]
        },
        "yaxis": {
         "anchor": "x",
         "domain": [
          0.7066666666666667,
          1
         ]
        },
        "yaxis2": {
         "anchor": "x2",
         "domain": [
          0.35333333333333333,
          0.6466666666666667
         ]
        },
        "yaxis3": {
         "anchor": "x3",
         "domain": [
          0,
          0.29333333333333333
         ]
        }
       }
      }
     },
     "metadata": {},
     "output_type": "display_data"
    },
    {
     "data": {
      "application/vnd.plotly.v1+json": {
       "config": {
        "plotlyServerURL": "https://plot.ly"
       },
       "data": [
        {
         "marker": {
          "color": "blue",
          "size": 10
         },
         "mode": "markers+lines",
         "name": "1139000AVP516700224A Energy",
         "text": [
          null,
          null,
          null
         ],
         "type": "scatter",
         "x": [
          "2022-11-28",
          "2022-11-29",
          "2022-11-30"
         ],
         "xaxis": "x",
         "y": [
          null,
          null,
          null
         ],
         "yaxis": "y"
        },
        {
         "marker": {
          "color": "blue",
          "size": 10
         },
         "mode": "markers+lines",
         "name": "1139000AVP516700224A Productions",
         "text": [
          186,
          766,
          668
         ],
         "type": "scatter",
         "x": [
          "2022-11-28",
          "2022-11-29",
          "2022-11-30"
         ],
         "xaxis": "x3",
         "y": [
          186,
          766,
          668
         ],
         "yaxis": "y3"
        },
        {
         "marker": {
          "color": "blue",
          "size": 10
         },
         "mode": "markers+lines",
         "name": "1139000AVP516700224A Stops",
         "text": [
          "Unknown",
          "Unknown",
          "Unknown"
         ],
         "type": "scatter",
         "x": [
          "2022-11-28",
          "2022-11-29",
          "2022-11-30"
         ],
         "xaxis": "x2",
         "y": [
          null,
          null,
          null
         ],
         "yaxis": "y2"
        },
        {
         "marker": {
          "color": "black",
          "size": 10
         },
         "mode": "markers+lines",
         "name": "Unknown Energy",
         "text": [
          8882.6,
          0.2,
          0.1,
          0,
          0.2,
          0,
          0.2,
          155544.3,
          159234.9,
          null,
          null,
          85614.1,
          107496,
          103870.5,
          0,
          0,
          null,
          null,
          null,
          43215.2,
          null,
          null,
          0.2,
          0.2,
          0.2,
          0.2,
          0.2,
          0.2,
          0.2,
          0.2,
          0.2,
          0.2,
          136247.8,
          136247.8,
          28238.6,
          0.2,
          0.2,
          null,
          0,
          0
         ],
         "type": "scatter",
         "x": [
          "2022-12-01",
          "2022-12-09",
          "2022-12-10",
          "2022-12-11",
          "2022-12-18",
          "2022-12-31",
          "2023-03-05",
          "2023-03-14",
          "2023-03-15",
          "2023-03-16",
          "2023-03-17",
          "2023-03-21",
          "2023-03-22",
          "2023-03-23",
          "2023-03-24",
          "2023-03-25",
          "2023-03-28",
          "2023-03-28",
          "2023-03-29",
          "2023-03-30",
          "2023-03-31",
          "2023-03-31",
          "2023-01-01",
          "2023-01-02",
          "2023-01-03",
          "2023-01-04",
          "2023-01-05",
          "2023-01-06",
          "2023-01-07",
          "2023-01-08",
          "2023-01-22",
          "2023-01-29",
          "2023-01-31",
          "2023-01-31",
          "2023-06-10",
          "2023-06-11",
          "2023-06-18",
          "2023-06-23",
          "2023-06-30",
          "2023-06-30"
         ],
         "xaxis": "x",
         "y": [
          8882.6,
          0.2,
          0.1,
          0,
          0.2,
          0,
          0.2,
          155544.3,
          159234.9,
          null,
          null,
          85614.1,
          107496,
          103870.5,
          0,
          0,
          null,
          null,
          null,
          43215.2,
          null,
          null,
          0.2,
          0.2,
          0.2,
          0.2,
          0.2,
          0.2,
          0.2,
          0.2,
          0.2,
          0.2,
          136247.8,
          136247.8,
          28238.6,
          0.2,
          0.2,
          null,
          0,
          0
         ],
         "yaxis": "y"
        },
        {
         "marker": {
          "color": "black",
          "size": 10
         },
         "mode": "markers+lines",
         "name": "Unknown Productions",
         "text": [
          null,
          null,
          null,
          null,
          null,
          null,
          null,
          null,
          null,
          null,
          null,
          null,
          null,
          null,
          null,
          null,
          null,
          null,
          null,
          null,
          null,
          null,
          null,
          null,
          null,
          null,
          null,
          null,
          null,
          null,
          null,
          null,
          null,
          null,
          null,
          null,
          null,
          null,
          null,
          null
         ],
         "type": "scatter",
         "x": [
          "2022-12-01",
          "2022-12-09",
          "2022-12-10",
          "2022-12-11",
          "2022-12-18",
          "2022-12-31",
          "2023-03-05",
          "2023-03-14",
          "2023-03-15",
          "2023-03-16",
          "2023-03-17",
          "2023-03-21",
          "2023-03-22",
          "2023-03-23",
          "2023-03-24",
          "2023-03-25",
          "2023-03-28",
          "2023-03-28",
          "2023-03-29",
          "2023-03-30",
          "2023-03-31",
          "2023-03-31",
          "2023-01-01",
          "2023-01-02",
          "2023-01-03",
          "2023-01-04",
          "2023-01-05",
          "2023-01-06",
          "2023-01-07",
          "2023-01-08",
          "2023-01-22",
          "2023-01-29",
          "2023-01-31",
          "2023-01-31",
          "2023-06-10",
          "2023-06-11",
          "2023-06-18",
          "2023-06-23",
          "2023-06-30",
          "2023-06-30"
         ],
         "xaxis": "x3",
         "y": [
          null,
          null,
          null,
          null,
          null,
          null,
          null,
          null,
          null,
          null,
          null,
          null,
          null,
          null,
          null,
          null,
          null,
          null,
          null,
          null,
          null,
          null,
          null,
          null,
          null,
          null,
          null,
          null,
          null,
          null,
          null,
          null,
          null,
          null,
          null,
          null,
          null,
          null,
          null,
          null
         ],
         "yaxis": "y3"
        },
        {
         "marker": {
          "color": "black",
          "size": 10
         },
         "mode": "markers+lines",
         "name": "Unknown Stops",
         "text": [
          "Unknown",
          "Unknown",
          "Unknown",
          "Unknown",
          "Unknown",
          "Unknown",
          "Unknown",
          "Sostituzione utensile",
          "Sostituzione utensile",
          "Sostituzione utensile",
          "Sostituzione utensile",
          "Sostituzione utensile",
          "Unknown",
          "Unknown",
          "Unknown",
          "Unknown",
          "Manutenzione ordinaria",
          "Sostituzione utensile",
          "Sostituzione utensile",
          "Unknown",
          "Manutenzione ordinaria",
          "Sostituzione utensile",
          "Unknown",
          "Unknown",
          "Unknown",
          "Unknown",
          "Unknown",
          "Unknown",
          "Unknown",
          "Unknown",
          "Unknown",
          "Unknown",
          "Manutenzione ordinaria",
          "Sostituzione utensile",
          "Unknown",
          "Unknown",
          "Unknown",
          "Sostituzione utensile",
          "Manutenzione ordinaria",
          "Sostituzione utensile"
         ],
         "type": "scatter",
         "x": [
          "2022-12-01",
          "2022-12-09",
          "2022-12-10",
          "2022-12-11",
          "2022-12-18",
          "2022-12-31",
          "2023-03-05",
          "2023-03-14",
          "2023-03-15",
          "2023-03-16",
          "2023-03-17",
          "2023-03-21",
          "2023-03-22",
          "2023-03-23",
          "2023-03-24",
          "2023-03-25",
          "2023-03-28",
          "2023-03-28",
          "2023-03-29",
          "2023-03-30",
          "2023-03-31",
          "2023-03-31",
          "2023-01-01",
          "2023-01-02",
          "2023-01-03",
          "2023-01-04",
          "2023-01-05",
          "2023-01-06",
          "2023-01-07",
          "2023-01-08",
          "2023-01-22",
          "2023-01-29",
          "2023-01-31",
          "2023-01-31",
          "2023-06-10",
          "2023-06-11",
          "2023-06-18",
          "2023-06-23",
          "2023-06-30",
          "2023-06-30"
         ],
         "xaxis": "x2",
         "y": [
          null,
          null,
          null,
          null,
          null,
          null,
          null,
          6,
          3,
          4,
          3,
          1,
          null,
          null,
          null,
          null,
          1,
          3,
          1,
          null,
          2,
          3,
          null,
          null,
          null,
          null,
          null,
          null,
          null,
          null,
          null,
          null,
          1,
          7,
          null,
          null,
          null,
          2,
          1,
          2
         ],
         "yaxis": "y2"
        },
        {
         "marker": {
          "color": "#FF0000",
          "size": 10
         },
         "mode": "markers+lines",
         "name": "1122100FE5L1670265 Energy",
         "text": [
          59121.4,
          92864.6,
          135242.8,
          86923.3
         ],
         "type": "scatter",
         "x": [
          "2022-12-02",
          "2022-12-05",
          "2022-12-06",
          "2022-12-07"
         ],
         "xaxis": "x",
         "y": [
          59121.4,
          92864.6,
          135242.8,
          86923.3
         ],
         "yaxis": "y"
        },
        {
         "marker": {
          "color": "#FF0000",
          "size": 10
         },
         "mode": "markers+lines",
         "name": "1122100FE5L1670265 Productions",
         "text": [
          142,
          629,
          905,
          522
         ],
         "type": "scatter",
         "x": [
          "2022-12-02",
          "2022-12-05",
          "2022-12-06",
          "2022-12-07"
         ],
         "xaxis": "x3",
         "y": [
          142,
          629,
          905,
          522
         ],
         "yaxis": "y3"
        },
        {
         "marker": {
          "color": "#FF0000",
          "size": 10
         },
         "mode": "markers+lines",
         "name": "1122100FE5L1670265 Stops",
         "text": [
          "Unknown",
          "Sostituzione utensile",
          "Sostituzione utensile",
          "Sostituzione utensile"
         ],
         "type": "scatter",
         "x": [
          "2022-12-02",
          "2022-12-05",
          "2022-12-06",
          "2022-12-07"
         ],
         "xaxis": "x2",
         "y": [
          null,
          1,
          1,
          1
         ],
         "yaxis": "y2"
        },
        {
         "marker": {
          "color": "#00FFFF",
          "size": 10
         },
         "mode": "markers+lines",
         "name": "1139000PR8505200358A Energy",
         "text": [
          86922.6,
          144887.3,
          55107.2,
          0,
          146395.8,
          45126.2,
          114012,
          145359,
          148253.6,
          146178.1,
          null,
          null,
          110975.3,
          147754.3,
          114213.6
         ],
         "type": "scatter",
         "x": [
          "2022-12-12",
          "2022-12-13",
          "2022-12-14",
          "2022-12-15",
          "2022-12-16",
          "2022-12-17",
          "2022-12-19",
          "2022-12-20",
          "2022-12-21",
          "2022-12-22",
          "2022-12-23",
          "2022-12-24",
          "2022-12-27",
          "2022-12-28",
          "2022-12-29"
         ],
         "xaxis": "x",
         "y": [
          86922.6,
          144887.3,
          55107.2,
          0,
          146395.8,
          45126.2,
          114012,
          145359,
          148253.6,
          146178.1,
          null,
          null,
          110975.3,
          147754.3,
          114213.6
         ],
         "yaxis": "y"
        },
        {
         "marker": {
          "color": "#00FFFF",
          "size": 10
         },
         "mode": "markers+lines",
         "name": "1139000PR8505200358A Productions",
         "text": [
          477,
          1144,
          1309,
          1319,
          1316,
          411,
          995,
          1320,
          1345,
          1319,
          1282,
          320,
          962,
          1368,
          488
         ],
         "type": "scatter",
         "x": [
          "2022-12-12",
          "2022-12-13",
          "2022-12-14",
          "2022-12-15",
          "2022-12-16",
          "2022-12-17",
          "2022-12-19",
          "2022-12-20",
          "2022-12-21",
          "2022-12-22",
          "2022-12-23",
          "2022-12-24",
          "2022-12-27",
          "2022-12-28",
          "2022-12-29"
         ],
         "xaxis": "x3",
         "y": [
          477,
          1144,
          1309,
          1319,
          1316,
          411,
          995,
          1320,
          1345,
          1319,
          1282,
          320,
          962,
          1368,
          488
         ],
         "yaxis": "y3"
        },
        {
         "marker": {
          "color": "#00FFFF",
          "size": 10
         },
         "mode": "markers+lines",
         "name": "1139000PR8505200358A Stops",
         "text": [
          "Unknown",
          "Sostituzione utensile",
          "Sostituzione utensile",
          "Sostituzione utensile",
          "Sostituzione utensile",
          "Unknown",
          "Sostituzione utensile",
          "Sostituzione utensile",
          "Sostituzione utensile",
          "Sostituzione utensile",
          "Sostituzione utensile",
          "Unknown",
          "Sostituzione utensile",
          "Sostituzione utensile",
          "Sostituzione utensile"
         ],
         "type": "scatter",
         "x": [
          "2022-12-12",
          "2022-12-13",
          "2022-12-14",
          "2022-12-15",
          "2022-12-16",
          "2022-12-17",
          "2022-12-19",
          "2022-12-20",
          "2022-12-21",
          "2022-12-22",
          "2022-12-23",
          "2022-12-24",
          "2022-12-27",
          "2022-12-28",
          "2022-12-29"
         ],
         "xaxis": "x2",
         "y": [
          null,
          6,
          3,
          2,
          4,
          null,
          2,
          3,
          2,
          4,
          3,
          null,
          1,
          1,
          1
         ],
         "yaxis": "y2"
        },
        {
         "marker": {
          "color": "#FFFF00",
          "size": 10
         },
         "mode": "markers+lines",
         "name": "1156200ALL184290360 Energy",
         "text": [
          114213.6,
          75449.4,
          null
         ],
         "type": "scatter",
         "x": [
          "2022-12-29",
          "2022-12-30",
          "2022-12-30"
         ],
         "xaxis": "x",
         "y": [
          114213.6,
          75449.4,
          null
         ],
         "yaxis": "y"
        },
        {
         "marker": {
          "color": "#FFFF00",
          "size": 10
         },
         "mode": "markers+lines",
         "name": "1156200ALL184290360 Productions",
         "text": [
          434,
          104,
          104
         ],
         "type": "scatter",
         "x": [
          "2022-12-29",
          "2022-12-30",
          "2022-12-30"
         ],
         "xaxis": "x3",
         "y": [
          434,
          104,
          104
         ],
         "yaxis": "y3"
        },
        {
         "marker": {
          "color": "#FFFF00",
          "size": 10
         },
         "mode": "markers+lines",
         "name": "1156200ALL184290360 Stops",
         "text": [
          "Sostituzione utensile",
          "Unknown",
          "Unknown"
         ],
         "type": "scatter",
         "x": [
          "2022-12-29",
          "2022-12-30",
          "2022-12-30"
         ],
         "xaxis": "x2",
         "y": [
          1,
          null,
          null
         ],
         "yaxis": "y2"
        },
        {
         "marker": {
          "color": "#880000",
          "size": 10
         },
         "mode": "markers+lines",
         "name": "0014600AIS71223766 Energy",
         "text": [
          75449.4,
          null,
          92680.3,
          92680.3,
          89130.7
         ],
         "type": "scatter",
         "x": [
          "2022-12-30",
          "2022-12-30",
          "2023-01-09",
          "2023-01-09",
          "2023-01-10"
         ],
         "xaxis": "x",
         "y": [
          75449.4,
          null,
          92680.3,
          92680.3,
          89130.7
         ],
         "yaxis": "y"
        },
        {
         "marker": {
          "color": "#880000",
          "size": 10
         },
         "mode": "markers+lines",
         "name": "0014600AIS71223766 Productions",
         "text": [
          80,
          80,
          409,
          409,
          438
         ],
         "type": "scatter",
         "x": [
          "2022-12-30",
          "2022-12-30",
          "2023-01-09",
          "2023-01-09",
          "2023-01-10"
         ],
         "xaxis": "x3",
         "y": [
          80,
          80,
          409,
          409,
          438
         ],
         "yaxis": "y3"
        },
        {
         "marker": {
          "color": "#880000",
          "size": 10
         },
         "mode": "markers+lines",
         "name": "0014600AIS71223766 Stops",
         "text": [
          "Unknown",
          "Unknown",
          "Manutenzione ordinaria",
          "Sostituzione utensile",
          "Sostituzione utensile"
         ],
         "type": "scatter",
         "x": [
          "2022-12-30",
          "2022-12-30",
          "2023-01-09",
          "2023-01-09",
          "2023-01-10"
         ],
         "xaxis": "x2",
         "y": [
          null,
          null,
          1,
          2,
          4
         ],
         "yaxis": "y2"
        },
        {
         "marker": {
          "color": "blue",
          "size": 10
         },
         "mode": "markers+lines",
         "name": "1139000AVP516700130A Energy",
         "text": [
          null,
          null,
          162220.5,
          null,
          165531.9,
          77642.2,
          121400.5,
          147708.3,
          147708.3,
          109172.4,
          null,
          null,
          0,
          null,
          34297.2,
          null,
          null,
          null,
          0,
          0,
          150288,
          145283.6,
          145283.6,
          49064.5,
          119367.9,
          158517.2,
          151895.7,
          122584,
          122584,
          160905.9,
          65954,
          115061.6
         ],
         "type": "scatter",
         "x": [
          "2023-02-27",
          "2023-02-28",
          "2023-03-01",
          "2023-03-02",
          "2023-03-03",
          "2023-03-04",
          "2023-03-06",
          "2023-03-07",
          "2023-03-07",
          "2023-03-08",
          "2023-03-09",
          "2023-03-10",
          "2023-03-11",
          "2023-01-12",
          "2023-01-13",
          "2023-01-14",
          "2023-01-16",
          "2023-01-17",
          "2023-01-18",
          "2023-01-18",
          "2023-01-19",
          "2023-01-20",
          "2023-01-20",
          "2023-01-21",
          "2023-01-23",
          "2023-01-24",
          "2023-01-25",
          "2023-01-26",
          "2023-01-26",
          "2023-01-27",
          "2023-01-28",
          "2023-01-30"
         ],
         "xaxis": "x",
         "y": [
          null,
          null,
          162220.5,
          null,
          165531.9,
          77642.2,
          121400.5,
          147708.3,
          147708.3,
          109172.4,
          null,
          null,
          0,
          null,
          34297.2,
          null,
          null,
          null,
          0,
          0,
          150288,
          145283.6,
          145283.6,
          49064.5,
          119367.9,
          158517.2,
          151895.7,
          122584,
          122584,
          160905.9,
          65954,
          115061.6
         ],
         "yaxis": "y"
        },
        {
         "marker": {
          "color": "blue",
          "size": 10
         },
         "mode": "markers+lines",
         "name": "1139000AVP516700130A Productions",
         "text": [
          184,
          683,
          693,
          697,
          733,
          474,
          453,
          562,
          562,
          272,
          347,
          608,
          350,
          0,
          0,
          0,
          0,
          237,
          568,
          568,
          596,
          570,
          570,
          168,
          479,
          660,
          642,
          348,
          348,
          626,
          204,
          183
         ],
         "type": "scatter",
         "x": [
          "2023-02-27",
          "2023-02-28",
          "2023-03-01",
          "2023-03-02",
          "2023-03-03",
          "2023-03-04",
          "2023-03-06",
          "2023-03-07",
          "2023-03-07",
          "2023-03-08",
          "2023-03-09",
          "2023-03-10",
          "2023-03-11",
          "2023-01-12",
          "2023-01-13",
          "2023-01-14",
          "2023-01-16",
          "2023-01-17",
          "2023-01-18",
          "2023-01-18",
          "2023-01-19",
          "2023-01-20",
          "2023-01-20",
          "2023-01-21",
          "2023-01-23",
          "2023-01-24",
          "2023-01-25",
          "2023-01-26",
          "2023-01-26",
          "2023-01-27",
          "2023-01-28",
          "2023-01-30"
         ],
         "xaxis": "x3",
         "y": [
          184,
          683,
          693,
          697,
          733,
          474,
          453,
          562,
          562,
          272,
          347,
          608,
          350,
          0,
          0,
          0,
          0,
          237,
          568,
          568,
          596,
          570,
          570,
          168,
          479,
          660,
          642,
          348,
          348,
          626,
          204,
          183
         ],
         "yaxis": "y3"
        },
        {
         "marker": {
          "color": "blue",
          "size": 10
         },
         "mode": "markers+lines",
         "name": "1139000AVP516700130A Stops",
         "text": [
          "Unknown",
          "Unknown",
          "Unknown",
          "Sostituzione utensile",
          "Sostituzione utensile",
          "Sostituzione utensile",
          "Sostituzione utensile",
          "Manutenzione ordinaria",
          "Sostituzione utensile",
          "Sostituzione utensile",
          "Sostituzione utensile",
          "Sostituzione utensile",
          "Sostituzione utensile",
          "Sostituzione utensile",
          "Unknown",
          "Unknown",
          "Unknown",
          "Sostituzione utensile",
          "Manutenzione ordinaria",
          "Sostituzione utensile",
          "Sostituzione utensile",
          "Manutenzione ordinaria",
          "Sostituzione utensile",
          "Sostituzione utensile",
          "Sostituzione utensile",
          "Sostituzione utensile",
          "Sostituzione utensile",
          "Manutenzione ordinaria",
          "Sostituzione utensile",
          "Sostituzione utensile",
          "Sostituzione utensile",
          "Sostituzione utensile"
         ],
         "type": "scatter",
         "x": [
          "2023-02-27",
          "2023-02-28",
          "2023-03-01",
          "2023-03-02",
          "2023-03-03",
          "2023-03-04",
          "2023-03-06",
          "2023-03-07",
          "2023-03-07",
          "2023-03-08",
          "2023-03-09",
          "2023-03-10",
          "2023-03-11",
          "2023-01-12",
          "2023-01-13",
          "2023-01-14",
          "2023-01-16",
          "2023-01-17",
          "2023-01-18",
          "2023-01-18",
          "2023-01-19",
          "2023-01-20",
          "2023-01-20",
          "2023-01-21",
          "2023-01-23",
          "2023-01-24",
          "2023-01-25",
          "2023-01-26",
          "2023-01-26",
          "2023-01-27",
          "2023-01-28",
          "2023-01-30"
         ],
         "xaxis": "x2",
         "y": [
          null,
          null,
          null,
          7,
          3,
          4,
          5,
          1,
          4,
          2,
          5,
          4,
          1,
          1,
          null,
          null,
          null,
          1,
          1,
          2,
          3,
          1,
          2,
          1,
          3,
          2,
          1,
          1,
          4,
          5,
          1,
          4
         ],
         "yaxis": "y2"
        },
        {
         "marker": {
          "color": "green",
          "size": 10
         },
         "mode": "markers+lines",
         "name": "1103000PR8160260090 Energy",
         "text": [
          89130.7,
          0,
          null
         ],
         "type": "scatter",
         "x": [
          "2023-01-10",
          "2023-01-11",
          "2023-01-12"
         ],
         "xaxis": "x",
         "y": [
          89130.7,
          0,
          null
         ],
         "yaxis": "y"
        },
        {
         "marker": {
          "color": "green",
          "size": 10
         },
         "mode": "markers+lines",
         "name": "1103000PR8160260090 Productions",
         "text": [
          0,
          723,
          160
         ],
         "type": "scatter",
         "x": [
          "2023-01-10",
          "2023-01-11",
          "2023-01-12"
         ],
         "xaxis": "x3",
         "y": [
          0,
          723,
          160
         ],
         "yaxis": "y3"
        },
        {
         "marker": {
          "color": "green",
          "size": 10
         },
         "mode": "markers+lines",
         "name": "1103000PR8160260090 Stops",
         "text": [
          "Sostituzione utensile",
          "Unknown",
          "Sostituzione utensile"
         ],
         "type": "scatter",
         "x": [
          "2023-01-10",
          "2023-01-11",
          "2023-01-12"
         ],
         "xaxis": "x2",
         "y": [
          4,
          null,
          1
         ],
         "yaxis": "y2"
        },
        {
         "marker": {
          "color": "#FF0000",
          "size": 10
         },
         "mode": "markers+lines",
         "name": "1180100GHIKD 40/20 Energy",
         "text": [
          null,
          null
         ],
         "type": "scatter",
         "x": [
          "2023-05-30",
          "2023-06-01"
         ],
         "xaxis": "x",
         "y": [
          null,
          null
         ],
         "yaxis": "y"
        },
        {
         "marker": {
          "color": "#FF0000",
          "size": 10
         },
         "mode": "markers+lines",
         "name": "1180100GHIKD 40/20 Productions",
         "text": [
          114,
          120
         ],
         "type": "scatter",
         "x": [
          "2023-05-30",
          "2023-06-01"
         ],
         "xaxis": "x3",
         "y": [
          114,
          120
         ],
         "yaxis": "y3"
        },
        {
         "marker": {
          "color": "#FF0000",
          "size": 10
         },
         "mode": "markers+lines",
         "name": "1180100GHIKD 40/20 Stops",
         "text": [
          "Unknown",
          "Unknown"
         ],
         "type": "scatter",
         "x": [
          "2023-05-30",
          "2023-06-01"
         ],
         "xaxis": "x2",
         "y": [
          null,
          null
         ],
         "yaxis": "y2"
        },
        {
         "marker": {
          "color": "#00FFFF",
          "size": 10
         },
         "mode": "markers+lines",
         "name": "1156200PR8160060380 Energy",
         "text": [
          null,
          41073.9,
          51915,
          51915,
          null,
          null,
          89929.2,
          109131
         ],
         "type": "scatter",
         "x": [
          "2023-06-06",
          "2023-06-07",
          "2023-06-08",
          "2023-06-08",
          "2023-06-09",
          "2023-06-09",
          "2023-06-12",
          "2023-06-13"
         ],
         "xaxis": "x",
         "y": [
          null,
          41073.9,
          51915,
          51915,
          null,
          null,
          89929.2,
          109131
         ],
         "yaxis": "y"
        },
        {
         "marker": {
          "color": "#00FFFF",
          "size": 10
         },
         "mode": "markers+lines",
         "name": "1156200PR8160060380 Productions",
         "text": [
          0,
          0,
          120,
          120,
          138,
          138,
          310,
          1758
         ],
         "type": "scatter",
         "x": [
          "2023-06-06",
          "2023-06-07",
          "2023-06-08",
          "2023-06-08",
          "2023-06-09",
          "2023-06-09",
          "2023-06-12",
          "2023-06-13"
         ],
         "xaxis": "x3",
         "y": [
          0,
          0,
          120,
          120,
          138,
          138,
          310,
          1758
         ],
         "yaxis": "y3"
        },
        {
         "marker": {
          "color": "#00FFFF",
          "size": 10
         },
         "mode": "markers+lines",
         "name": "1156200PR8160060380 Stops",
         "text": [
          "Unknown",
          "Unknown",
          "Manutenzione ordinaria",
          "Sostituzione utensile",
          "Manutenzione ordinaria",
          "Manutenzione straordinaria",
          "Manutenzione ordinaria",
          "Sostituzione utensile"
         ],
         "type": "scatter",
         "x": [
          "2023-06-06",
          "2023-06-07",
          "2023-06-08",
          "2023-06-08",
          "2023-06-09",
          "2023-06-09",
          "2023-06-12",
          "2023-06-13"
         ],
         "xaxis": "x2",
         "y": [
          null,
          null,
          1,
          1,
          4,
          1,
          1,
          1
         ],
         "yaxis": "y2"
        },
        {
         "marker": {
          "color": "#FFFF00",
          "size": 10
         },
         "mode": "markers+lines",
         "name": "1156200PR8160300200 Energy",
         "text": [
          109131,
          88343.8,
          null,
          163338.3,
          54981.5
         ],
         "type": "scatter",
         "x": [
          "2023-06-13",
          "2023-06-14",
          "2023-06-15",
          "2023-06-16",
          "2023-06-17"
         ],
         "xaxis": "x",
         "y": [
          109131,
          88343.8,
          null,
          163338.3,
          54981.5
         ],
         "yaxis": "y"
        },
        {
         "marker": {
          "color": "#FFFF00",
          "size": 10
         },
         "mode": "markers+lines",
         "name": "1156200PR8160300200 Productions",
         "text": [
          0,
          173,
          602,
          1263,
          711
         ],
         "type": "scatter",
         "x": [
          "2023-06-13",
          "2023-06-14",
          "2023-06-15",
          "2023-06-16",
          "2023-06-17"
         ],
         "xaxis": "x3",
         "y": [
          0,
          173,
          602,
          1263,
          711
         ],
         "yaxis": "y3"
        },
        {
         "marker": {
          "color": "#FFFF00",
          "size": 10
         },
         "mode": "markers+lines",
         "name": "1156200PR8160300200 Stops",
         "text": [
          "Sostituzione utensile",
          "Unknown",
          "Sostituzione utensile",
          "Sostituzione utensile",
          "Unknown"
         ],
         "type": "scatter",
         "x": [
          "2023-06-13",
          "2023-06-14",
          "2023-06-15",
          "2023-06-16",
          "2023-06-17"
         ],
         "xaxis": "x2",
         "y": [
          1,
          null,
          1,
          3,
          null
         ],
         "yaxis": "y2"
        },
        {
         "marker": {
          "color": "#880000",
          "size": 10
         },
         "mode": "markers+lines",
         "name": "0003200AISPLSX.313.300-A1 Energy",
         "text": [
          28895.6,
          56264.9,
          0,
          108918.3
         ],
         "type": "scatter",
         "x": [
          "2023-06-19",
          "2023-06-20",
          "2023-06-21",
          "2023-06-22"
         ],
         "xaxis": "x",
         "y": [
          28895.6,
          56264.9,
          0,
          108918.3
         ],
         "yaxis": "y"
        },
        {
         "marker": {
          "color": "#880000",
          "size": 10
         },
         "mode": "markers+lines",
         "name": "0003200AISPLSX.313.300-A1 Productions",
         "text": [
          0,
          0,
          220,
          249
         ],
         "type": "scatter",
         "x": [
          "2023-06-19",
          "2023-06-20",
          "2023-06-21",
          "2023-06-22"
         ],
         "xaxis": "x3",
         "y": [
          0,
          0,
          220,
          249
         ],
         "yaxis": "y3"
        },
        {
         "marker": {
          "color": "#880000",
          "size": 10
         },
         "mode": "markers+lines",
         "name": "0003200AISPLSX.313.300-A1 Stops",
         "text": [
          "Unknown",
          "Unknown",
          "Sostituzione utensile",
          "Sostituzione utensile"
         ],
         "type": "scatter",
         "x": [
          "2023-06-19",
          "2023-06-20",
          "2023-06-21",
          "2023-06-22"
         ],
         "xaxis": "x2",
         "y": [
          null,
          null,
          1,
          1
         ],
         "yaxis": "y2"
        }
       ],
       "layout": {
        "annotations": [
         {
          "font": {
           "size": 16
          },
          "showarrow": false,
          "text": "Energy Consumption",
          "x": 0.5,
          "xanchor": "center",
          "xref": "paper",
          "y": 1,
          "yanchor": "bottom",
          "yref": "paper"
         },
         {
          "font": {
           "size": 16
          },
          "showarrow": false,
          "text": "Stops",
          "x": 0.5,
          "xanchor": "center",
          "xref": "paper",
          "y": 0.6466666666666667,
          "yanchor": "bottom",
          "yref": "paper"
         },
         {
          "font": {
           "size": 16
          },
          "showarrow": false,
          "text": "Productions",
          "x": 0.5,
          "xanchor": "center",
          "xref": "paper",
          "y": 0.29333333333333333,
          "yanchor": "bottom",
          "yref": "paper"
         }
        ],
        "height": 800,
        "template": {
         "data": {
          "bar": [
           {
            "error_x": {
             "color": "#2a3f5f"
            },
            "error_y": {
             "color": "#2a3f5f"
            },
            "marker": {
             "line": {
              "color": "#E5ECF6",
              "width": 0.5
             },
             "pattern": {
              "fillmode": "overlay",
              "size": 10,
              "solidity": 0.2
             }
            },
            "type": "bar"
           }
          ],
          "barpolar": [
           {
            "marker": {
             "line": {
              "color": "#E5ECF6",
              "width": 0.5
             },
             "pattern": {
              "fillmode": "overlay",
              "size": 10,
              "solidity": 0.2
             }
            },
            "type": "barpolar"
           }
          ],
          "carpet": [
           {
            "aaxis": {
             "endlinecolor": "#2a3f5f",
             "gridcolor": "white",
             "linecolor": "white",
             "minorgridcolor": "white",
             "startlinecolor": "#2a3f5f"
            },
            "baxis": {
             "endlinecolor": "#2a3f5f",
             "gridcolor": "white",
             "linecolor": "white",
             "minorgridcolor": "white",
             "startlinecolor": "#2a3f5f"
            },
            "type": "carpet"
           }
          ],
          "choropleth": [
           {
            "colorbar": {
             "outlinewidth": 0,
             "ticks": ""
            },
            "type": "choropleth"
           }
          ],
          "contour": [
           {
            "colorbar": {
             "outlinewidth": 0,
             "ticks": ""
            },
            "colorscale": [
             [
              0,
              "#0d0887"
             ],
             [
              0.1111111111111111,
              "#46039f"
             ],
             [
              0.2222222222222222,
              "#7201a8"
             ],
             [
              0.3333333333333333,
              "#9c179e"
             ],
             [
              0.4444444444444444,
              "#bd3786"
             ],
             [
              0.5555555555555556,
              "#d8576b"
             ],
             [
              0.6666666666666666,
              "#ed7953"
             ],
             [
              0.7777777777777778,
              "#fb9f3a"
             ],
             [
              0.8888888888888888,
              "#fdca26"
             ],
             [
              1,
              "#f0f921"
             ]
            ],
            "type": "contour"
           }
          ],
          "contourcarpet": [
           {
            "colorbar": {
             "outlinewidth": 0,
             "ticks": ""
            },
            "type": "contourcarpet"
           }
          ],
          "heatmap": [
           {
            "colorbar": {
             "outlinewidth": 0,
             "ticks": ""
            },
            "colorscale": [
             [
              0,
              "#0d0887"
             ],
             [
              0.1111111111111111,
              "#46039f"
             ],
             [
              0.2222222222222222,
              "#7201a8"
             ],
             [
              0.3333333333333333,
              "#9c179e"
             ],
             [
              0.4444444444444444,
              "#bd3786"
             ],
             [
              0.5555555555555556,
              "#d8576b"
             ],
             [
              0.6666666666666666,
              "#ed7953"
             ],
             [
              0.7777777777777778,
              "#fb9f3a"
             ],
             [
              0.8888888888888888,
              "#fdca26"
             ],
             [
              1,
              "#f0f921"
             ]
            ],
            "type": "heatmap"
           }
          ],
          "heatmapgl": [
           {
            "colorbar": {
             "outlinewidth": 0,
             "ticks": ""
            },
            "colorscale": [
             [
              0,
              "#0d0887"
             ],
             [
              0.1111111111111111,
              "#46039f"
             ],
             [
              0.2222222222222222,
              "#7201a8"
             ],
             [
              0.3333333333333333,
              "#9c179e"
             ],
             [
              0.4444444444444444,
              "#bd3786"
             ],
             [
              0.5555555555555556,
              "#d8576b"
             ],
             [
              0.6666666666666666,
              "#ed7953"
             ],
             [
              0.7777777777777778,
              "#fb9f3a"
             ],
             [
              0.8888888888888888,
              "#fdca26"
             ],
             [
              1,
              "#f0f921"
             ]
            ],
            "type": "heatmapgl"
           }
          ],
          "histogram": [
           {
            "marker": {
             "pattern": {
              "fillmode": "overlay",
              "size": 10,
              "solidity": 0.2
             }
            },
            "type": "histogram"
           }
          ],
          "histogram2d": [
           {
            "colorbar": {
             "outlinewidth": 0,
             "ticks": ""
            },
            "colorscale": [
             [
              0,
              "#0d0887"
             ],
             [
              0.1111111111111111,
              "#46039f"
             ],
             [
              0.2222222222222222,
              "#7201a8"
             ],
             [
              0.3333333333333333,
              "#9c179e"
             ],
             [
              0.4444444444444444,
              "#bd3786"
             ],
             [
              0.5555555555555556,
              "#d8576b"
             ],
             [
              0.6666666666666666,
              "#ed7953"
             ],
             [
              0.7777777777777778,
              "#fb9f3a"
             ],
             [
              0.8888888888888888,
              "#fdca26"
             ],
             [
              1,
              "#f0f921"
             ]
            ],
            "type": "histogram2d"
           }
          ],
          "histogram2dcontour": [
           {
            "colorbar": {
             "outlinewidth": 0,
             "ticks": ""
            },
            "colorscale": [
             [
              0,
              "#0d0887"
             ],
             [
              0.1111111111111111,
              "#46039f"
             ],
             [
              0.2222222222222222,
              "#7201a8"
             ],
             [
              0.3333333333333333,
              "#9c179e"
             ],
             [
              0.4444444444444444,
              "#bd3786"
             ],
             [
              0.5555555555555556,
              "#d8576b"
             ],
             [
              0.6666666666666666,
              "#ed7953"
             ],
             [
              0.7777777777777778,
              "#fb9f3a"
             ],
             [
              0.8888888888888888,
              "#fdca26"
             ],
             [
              1,
              "#f0f921"
             ]
            ],
            "type": "histogram2dcontour"
           }
          ],
          "mesh3d": [
           {
            "colorbar": {
             "outlinewidth": 0,
             "ticks": ""
            },
            "type": "mesh3d"
           }
          ],
          "parcoords": [
           {
            "line": {
             "colorbar": {
              "outlinewidth": 0,
              "ticks": ""
             }
            },
            "type": "parcoords"
           }
          ],
          "pie": [
           {
            "automargin": true,
            "type": "pie"
           }
          ],
          "scatter": [
           {
            "fillpattern": {
             "fillmode": "overlay",
             "size": 10,
             "solidity": 0.2
            },
            "type": "scatter"
           }
          ],
          "scatter3d": [
           {
            "line": {
             "colorbar": {
              "outlinewidth": 0,
              "ticks": ""
             }
            },
            "marker": {
             "colorbar": {
              "outlinewidth": 0,
              "ticks": ""
             }
            },
            "type": "scatter3d"
           }
          ],
          "scattercarpet": [
           {
            "marker": {
             "colorbar": {
              "outlinewidth": 0,
              "ticks": ""
             }
            },
            "type": "scattercarpet"
           }
          ],
          "scattergeo": [
           {
            "marker": {
             "colorbar": {
              "outlinewidth": 0,
              "ticks": ""
             }
            },
            "type": "scattergeo"
           }
          ],
          "scattergl": [
           {
            "marker": {
             "colorbar": {
              "outlinewidth": 0,
              "ticks": ""
             }
            },
            "type": "scattergl"
           }
          ],
          "scattermapbox": [
           {
            "marker": {
             "colorbar": {
              "outlinewidth": 0,
              "ticks": ""
             }
            },
            "type": "scattermapbox"
           }
          ],
          "scatterpolar": [
           {
            "marker": {
             "colorbar": {
              "outlinewidth": 0,
              "ticks": ""
             }
            },
            "type": "scatterpolar"
           }
          ],
          "scatterpolargl": [
           {
            "marker": {
             "colorbar": {
              "outlinewidth": 0,
              "ticks": ""
             }
            },
            "type": "scatterpolargl"
           }
          ],
          "scatterternary": [
           {
            "marker": {
             "colorbar": {
              "outlinewidth": 0,
              "ticks": ""
             }
            },
            "type": "scatterternary"
           }
          ],
          "surface": [
           {
            "colorbar": {
             "outlinewidth": 0,
             "ticks": ""
            },
            "colorscale": [
             [
              0,
              "#0d0887"
             ],
             [
              0.1111111111111111,
              "#46039f"
             ],
             [
              0.2222222222222222,
              "#7201a8"
             ],
             [
              0.3333333333333333,
              "#9c179e"
             ],
             [
              0.4444444444444444,
              "#bd3786"
             ],
             [
              0.5555555555555556,
              "#d8576b"
             ],
             [
              0.6666666666666666,
              "#ed7953"
             ],
             [
              0.7777777777777778,
              "#fb9f3a"
             ],
             [
              0.8888888888888888,
              "#fdca26"
             ],
             [
              1,
              "#f0f921"
             ]
            ],
            "type": "surface"
           }
          ],
          "table": [
           {
            "cells": {
             "fill": {
              "color": "#EBF0F8"
             },
             "line": {
              "color": "white"
             }
            },
            "header": {
             "fill": {
              "color": "#C8D4E3"
             },
             "line": {
              "color": "white"
             }
            },
            "type": "table"
           }
          ]
         },
         "layout": {
          "annotationdefaults": {
           "arrowcolor": "#2a3f5f",
           "arrowhead": 0,
           "arrowwidth": 1
          },
          "autotypenumbers": "strict",
          "coloraxis": {
           "colorbar": {
            "outlinewidth": 0,
            "ticks": ""
           }
          },
          "colorscale": {
           "diverging": [
            [
             0,
             "#8e0152"
            ],
            [
             0.1,
             "#c51b7d"
            ],
            [
             0.2,
             "#de77ae"
            ],
            [
             0.3,
             "#f1b6da"
            ],
            [
             0.4,
             "#fde0ef"
            ],
            [
             0.5,
             "#f7f7f7"
            ],
            [
             0.6,
             "#e6f5d0"
            ],
            [
             0.7,
             "#b8e186"
            ],
            [
             0.8,
             "#7fbc41"
            ],
            [
             0.9,
             "#4d9221"
            ],
            [
             1,
             "#276419"
            ]
           ],
           "sequential": [
            [
             0,
             "#0d0887"
            ],
            [
             0.1111111111111111,
             "#46039f"
            ],
            [
             0.2222222222222222,
             "#7201a8"
            ],
            [
             0.3333333333333333,
             "#9c179e"
            ],
            [
             0.4444444444444444,
             "#bd3786"
            ],
            [
             0.5555555555555556,
             "#d8576b"
            ],
            [
             0.6666666666666666,
             "#ed7953"
            ],
            [
             0.7777777777777778,
             "#fb9f3a"
            ],
            [
             0.8888888888888888,
             "#fdca26"
            ],
            [
             1,
             "#f0f921"
            ]
           ],
           "sequentialminus": [
            [
             0,
             "#0d0887"
            ],
            [
             0.1111111111111111,
             "#46039f"
            ],
            [
             0.2222222222222222,
             "#7201a8"
            ],
            [
             0.3333333333333333,
             "#9c179e"
            ],
            [
             0.4444444444444444,
             "#bd3786"
            ],
            [
             0.5555555555555556,
             "#d8576b"
            ],
            [
             0.6666666666666666,
             "#ed7953"
            ],
            [
             0.7777777777777778,
             "#fb9f3a"
            ],
            [
             0.8888888888888888,
             "#fdca26"
            ],
            [
             1,
             "#f0f921"
            ]
           ]
          },
          "colorway": [
           "#636efa",
           "#EF553B",
           "#00cc96",
           "#ab63fa",
           "#FFA15A",
           "#19d3f3",
           "#FF6692",
           "#B6E880",
           "#FF97FF",
           "#FECB52"
          ],
          "font": {
           "color": "#2a3f5f"
          },
          "geo": {
           "bgcolor": "white",
           "lakecolor": "white",
           "landcolor": "#E5ECF6",
           "showlakes": true,
           "showland": true,
           "subunitcolor": "white"
          },
          "hoverlabel": {
           "align": "left"
          },
          "hovermode": "closest",
          "mapbox": {
           "style": "light"
          },
          "paper_bgcolor": "white",
          "plot_bgcolor": "#E5ECF6",
          "polar": {
           "angularaxis": {
            "gridcolor": "white",
            "linecolor": "white",
            "ticks": ""
           },
           "bgcolor": "#E5ECF6",
           "radialaxis": {
            "gridcolor": "white",
            "linecolor": "white",
            "ticks": ""
           }
          },
          "scene": {
           "xaxis": {
            "backgroundcolor": "#E5ECF6",
            "gridcolor": "white",
            "gridwidth": 2,
            "linecolor": "white",
            "showbackground": true,
            "ticks": "",
            "zerolinecolor": "white"
           },
           "yaxis": {
            "backgroundcolor": "#E5ECF6",
            "gridcolor": "white",
            "gridwidth": 2,
            "linecolor": "white",
            "showbackground": true,
            "ticks": "",
            "zerolinecolor": "white"
           },
           "zaxis": {
            "backgroundcolor": "#E5ECF6",
            "gridcolor": "white",
            "gridwidth": 2,
            "linecolor": "white",
            "showbackground": true,
            "ticks": "",
            "zerolinecolor": "white"
           }
          },
          "shapedefaults": {
           "line": {
            "color": "#2a3f5f"
           }
          },
          "ternary": {
           "aaxis": {
            "gridcolor": "white",
            "linecolor": "white",
            "ticks": ""
           },
           "baxis": {
            "gridcolor": "white",
            "linecolor": "white",
            "ticks": ""
           },
           "bgcolor": "#E5ECF6",
           "caxis": {
            "gridcolor": "white",
            "linecolor": "white",
            "ticks": ""
           }
          },
          "title": {
           "x": 0.05
          },
          "xaxis": {
           "automargin": true,
           "gridcolor": "white",
           "linecolor": "white",
           "ticks": "",
           "title": {
            "standoff": 15
           },
           "zerolinecolor": "white",
           "zerolinewidth": 2
          },
          "yaxis": {
           "automargin": true,
           "gridcolor": "white",
           "linecolor": "white",
           "ticks": "",
           "title": {
            "standoff": 15
           },
           "zerolinecolor": "white",
           "zerolinewidth": 2
          }
         }
        },
        "title": {
         "text": "Dataset machine 301"
        },
        "width": 1280,
        "xaxis": {
         "anchor": "y",
         "domain": [
          0,
          1
         ],
         "matches": "x3",
         "showticklabels": false
        },
        "xaxis2": {
         "anchor": "y2",
         "domain": [
          0,
          1
         ],
         "matches": "x3",
         "showticklabels": false
        },
        "xaxis3": {
         "anchor": "y3",
         "domain": [
          0,
          1
         ]
        },
        "yaxis": {
         "anchor": "x",
         "domain": [
          0.7066666666666667,
          1
         ]
        },
        "yaxis2": {
         "anchor": "x2",
         "domain": [
          0.35333333333333333,
          0.6466666666666667
         ]
        },
        "yaxis3": {
         "anchor": "x3",
         "domain": [
          0,
          0.29333333333333333
         ]
        }
       }
      }
     },
     "metadata": {},
     "output_type": "display_data"
    },
    {
     "data": {
      "application/vnd.plotly.v1+json": {
       "config": {
        "plotlyServerURL": "https://plot.ly"
       },
       "data": [
        {
         "marker": {
          "color": "blue",
          "size": 10
         },
         "mode": "markers+lines",
         "name": "1103000PR8184290050 Energy",
         "text": [
          null,
          null,
          null,
          159392.6,
          174432.3,
          null,
          120297.5,
          142847.9,
          167852.6,
          null,
          126309.9,
          139011,
          56507.4,
          56507.4,
          null,
          null,
          155894,
          null,
          157868.1,
          157868.1,
          76148.6,
          114790.1,
          151796.1,
          151796.1,
          121455.7,
          121455.7,
          null,
          null,
          null,
          null,
          0
         ],
         "type": "scatter",
         "x": [
          "2022-11-28",
          "2022-11-29",
          "2022-11-30",
          "2022-12-01",
          "2022-12-02",
          "2022-12-03",
          "2022-12-05",
          "2022-12-06",
          "2022-12-07",
          "2022-12-08",
          "2022-12-12",
          "2022-12-13",
          "2022-12-14",
          "2022-12-14",
          "2023-02-27",
          "2023-02-28",
          "2023-03-01",
          "2023-03-02",
          "2023-03-03",
          "2023-03-03",
          "2023-03-04",
          "2023-03-06",
          "2023-03-07",
          "2023-03-07",
          "2023-03-08",
          "2023-03-08",
          "2023-03-09",
          "2023-03-09",
          "2023-03-10",
          "2023-03-10",
          "2023-03-11"
         ],
         "xaxis": "x",
         "y": [
          null,
          null,
          null,
          159392.6,
          174432.3,
          null,
          120297.5,
          142847.9,
          167852.6,
          null,
          126309.9,
          139011,
          56507.4,
          56507.4,
          null,
          null,
          155894,
          null,
          157868.1,
          157868.1,
          76148.6,
          114790.1,
          151796.1,
          151796.1,
          121455.7,
          121455.7,
          null,
          null,
          null,
          null,
          0
         ],
         "yaxis": "y"
        },
        {
         "marker": {
          "color": "blue",
          "size": 10
         },
         "mode": "markers+lines",
         "name": "1103000PR8184290050 Productions",
         "text": [
          356,
          900,
          926,
          1191,
          1279,
          966,
          836,
          810,
          1163,
          306,
          856,
          895,
          404,
          404,
          428,
          872,
          1245,
          1236,
          1259,
          1259,
          927,
          786,
          1124,
          1124,
          714,
          714,
          720,
          720,
          1140,
          1140,
          666
         ],
         "type": "scatter",
         "x": [
          "2022-11-28",
          "2022-11-29",
          "2022-11-30",
          "2022-12-01",
          "2022-12-02",
          "2022-12-03",
          "2022-12-05",
          "2022-12-06",
          "2022-12-07",
          "2022-12-08",
          "2022-12-12",
          "2022-12-13",
          "2022-12-14",
          "2022-12-14",
          "2023-02-27",
          "2023-02-28",
          "2023-03-01",
          "2023-03-02",
          "2023-03-03",
          "2023-03-03",
          "2023-03-04",
          "2023-03-06",
          "2023-03-07",
          "2023-03-07",
          "2023-03-08",
          "2023-03-08",
          "2023-03-09",
          "2023-03-09",
          "2023-03-10",
          "2023-03-10",
          "2023-03-11"
         ],
         "xaxis": "x3",
         "y": [
          356,
          900,
          926,
          1191,
          1279,
          966,
          836,
          810,
          1163,
          306,
          856,
          895,
          404,
          404,
          428,
          872,
          1245,
          1236,
          1259,
          1259,
          927,
          786,
          1124,
          1124,
          714,
          714,
          720,
          720,
          1140,
          1140,
          666
         ],
         "yaxis": "y3"
        },
        {
         "marker": {
          "color": "blue",
          "size": 10
         },
         "mode": "markers+lines",
         "name": "1103000PR8184290050 Stops",
         "text": [
          "Unknown",
          "Unknown",
          "Unknown",
          "Sostituzione utensile",
          "Sostituzione utensile",
          "Sostituzione utensile",
          "Manutenzione ordinaria",
          "Sostituzione utensile",
          "Sostituzione utensile",
          "Unknown",
          "Unknown",
          "Sostituzione utensile",
          "Manutenzione ordinaria",
          "Sostituzione utensile",
          "Unknown",
          "Unknown",
          "Unknown",
          "Sostituzione utensile",
          "Manutenzione ordinaria",
          "Sostituzione utensile",
          "Manutenzione ordinaria",
          "Manutenzione ordinaria",
          "Manutenzione ordinaria",
          "Sostituzione utensile",
          "Manutenzione ordinaria",
          "Sostituzione utensile",
          "Manutenzione ordinaria",
          "Sostituzione utensile",
          "Manutenzione ordinaria",
          "Sostituzione utensile",
          "Unknown"
         ],
         "type": "scatter",
         "x": [
          "2022-11-28",
          "2022-11-29",
          "2022-11-30",
          "2022-12-01",
          "2022-12-02",
          "2022-12-03",
          "2022-12-05",
          "2022-12-06",
          "2022-12-07",
          "2022-12-08",
          "2022-12-12",
          "2022-12-13",
          "2022-12-14",
          "2022-12-14",
          "2023-02-27",
          "2023-02-28",
          "2023-03-01",
          "2023-03-02",
          "2023-03-03",
          "2023-03-03",
          "2023-03-04",
          "2023-03-06",
          "2023-03-07",
          "2023-03-07",
          "2023-03-08",
          "2023-03-08",
          "2023-03-09",
          "2023-03-09",
          "2023-03-10",
          "2023-03-10",
          "2023-03-11"
         ],
         "xaxis": "x2",
         "y": [
          null,
          null,
          null,
          2,
          1,
          1,
          1,
          2,
          1,
          null,
          null,
          2,
          1,
          1,
          null,
          null,
          null,
          2,
          1,
          1,
          1,
          3,
          1,
          3,
          2,
          1,
          2,
          2,
          1,
          1,
          null
         ],
         "yaxis": "y2"
        },
        {
         "marker": {
          "color": "black",
          "size": 10
         },
         "mode": "markers+lines",
         "name": "Unknown Energy",
         "text": [
          4.4,
          4.6000000000000005,
          0,
          0.1,
          0,
          0,
          0.9,
          null,
          111819.6,
          162019.9,
          162019.9,
          null,
          null,
          null,
          null,
          57845.2,
          112348.2,
          111223.7,
          0,
          0,
          0,
          null,
          159476,
          null,
          null
         ],
         "type": "scatter",
         "x": [
          "2022-12-09",
          "2022-12-10",
          "2022-12-11",
          "2022-12-18",
          "2022-12-19",
          "2022-12-31",
          "2023-03-05",
          "2023-03-13",
          "2023-03-14",
          "2023-03-15",
          "2023-03-15",
          "2023-03-16",
          "2023-03-17",
          "2023-03-18",
          "2023-03-20",
          "2023-03-21",
          "2023-03-22",
          "2023-03-23",
          "2023-03-24",
          "2023-03-24",
          "2023-03-25",
          "2023-03-28",
          "2023-03-30",
          "2023-03-31",
          "2023-03-31"
         ],
         "xaxis": "x",
         "y": [
          4.4,
          4.6000000000000005,
          0,
          0.1,
          0,
          0,
          0.9,
          null,
          111819.6,
          162019.9,
          162019.9,
          null,
          null,
          null,
          null,
          57845.2,
          112348.2,
          111223.7,
          0,
          0,
          0,
          null,
          159476,
          null,
          null
         ],
         "yaxis": "y"
        },
        {
         "marker": {
          "color": "black",
          "size": 10
         },
         "mode": "markers+lines",
         "name": "Unknown Productions",
         "text": [
          null,
          null,
          null,
          null,
          null,
          null,
          null,
          null,
          null,
          null,
          null,
          null,
          null,
          null,
          null,
          null,
          null,
          null,
          null,
          null,
          null,
          null,
          null,
          null,
          null
         ],
         "type": "scatter",
         "x": [
          "2022-12-09",
          "2022-12-10",
          "2022-12-11",
          "2022-12-18",
          "2022-12-19",
          "2022-12-31",
          "2023-03-05",
          "2023-03-13",
          "2023-03-14",
          "2023-03-15",
          "2023-03-15",
          "2023-03-16",
          "2023-03-17",
          "2023-03-18",
          "2023-03-20",
          "2023-03-21",
          "2023-03-22",
          "2023-03-23",
          "2023-03-24",
          "2023-03-24",
          "2023-03-25",
          "2023-03-28",
          "2023-03-30",
          "2023-03-31",
          "2023-03-31"
         ],
         "xaxis": "x3",
         "y": [
          null,
          null,
          null,
          null,
          null,
          null,
          null,
          null,
          null,
          null,
          null,
          null,
          null,
          null,
          null,
          null,
          null,
          null,
          null,
          null,
          null,
          null,
          null,
          null,
          null
         ],
         "yaxis": "y3"
        },
        {
         "marker": {
          "color": "black",
          "size": 10
         },
         "mode": "markers+lines",
         "name": "Unknown Stops",
         "text": [
          "Unknown",
          "Unknown",
          "Unknown",
          "Unknown",
          "Unknown",
          "Unknown",
          "Unknown",
          "Manutenzione ordinaria",
          "Manutenzione ordinaria",
          "Manutenzione ordinaria",
          "Sostituzione utensile",
          "Sostituzione utensile",
          "Manutenzione ordinaria",
          "Sostituzione utensile",
          "Sostituzione utensile",
          "Manutenzione ordinaria",
          "Unknown",
          "Unknown",
          "Manutenzione ordinaria",
          "Sostituzione utensile",
          "Manutenzione ordinaria",
          "Manutenzione ordinaria",
          "Unknown",
          "Manutenzione ordinaria",
          "Manutenzione straordinaria"
         ],
         "type": "scatter",
         "x": [
          "2022-12-09",
          "2022-12-10",
          "2022-12-11",
          "2022-12-18",
          "2022-12-19",
          "2022-12-31",
          "2023-03-05",
          "2023-03-13",
          "2023-03-14",
          "2023-03-15",
          "2023-03-15",
          "2023-03-16",
          "2023-03-17",
          "2023-03-18",
          "2023-03-20",
          "2023-03-21",
          "2023-03-22",
          "2023-03-23",
          "2023-03-24",
          "2023-03-24",
          "2023-03-25",
          "2023-03-28",
          "2023-03-30",
          "2023-03-31",
          "2023-03-31"
         ],
         "xaxis": "x2",
         "y": [
          null,
          null,
          null,
          null,
          null,
          null,
          null,
          2,
          4,
          1,
          2,
          1,
          1,
          1,
          1,
          2,
          null,
          null,
          3,
          2,
          1,
          3,
          null,
          6,
          1
         ],
         "yaxis": "y2"
        },
        {
         "marker": {
          "color": "#FF0000",
          "size": 10
         },
         "mode": "markers+lines",
         "name": "1103000PR8184150230 Energy",
         "text": [
          56507.4,
          56507.4,
          0,
          0,
          168588.4,
          47628.6
         ],
         "type": "scatter",
         "x": [
          "2022-12-14",
          "2022-12-14",
          "2022-12-15",
          "2022-12-15",
          "2022-12-16",
          "2022-12-17"
         ],
         "xaxis": "x",
         "y": [
          56507.4,
          56507.4,
          0,
          0,
          168588.4,
          47628.6
         ],
         "yaxis": "y"
        },
        {
         "marker": {
          "color": "#FF0000",
          "size": 10
         },
         "mode": "markers+lines",
         "name": "1103000PR8184150230 Productions",
         "text": [
          312,
          312,
          1056,
          1056,
          1420,
          324
         ],
         "type": "scatter",
         "x": [
          "2022-12-14",
          "2022-12-14",
          "2022-12-15",
          "2022-12-15",
          "2022-12-16",
          "2022-12-17"
         ],
         "xaxis": "x3",
         "y": [
          312,
          312,
          1056,
          1056,
          1420,
          324
         ],
         "yaxis": "y3"
        },
        {
         "marker": {
          "color": "#FF0000",
          "size": 10
         },
         "mode": "markers+lines",
         "name": "1103000PR8184150230 Stops",
         "text": [
          "Manutenzione ordinaria",
          "Sostituzione utensile",
          "Manutenzione ordinaria",
          "Sostituzione utensile",
          "Sostituzione utensile",
          "Unknown"
         ],
         "type": "scatter",
         "x": [
          "2022-12-14",
          "2022-12-14",
          "2022-12-15",
          "2022-12-15",
          "2022-12-16",
          "2022-12-17"
         ],
         "xaxis": "x2",
         "y": [
          1,
          1,
          5,
          1,
          2,
          null
         ],
         "yaxis": "y2"
        },
        {
         "marker": {
          "color": "#00FFFF",
          "size": 10
         },
         "mode": "markers+lines",
         "name": "1163100C4568250120A Energy",
         "text": [
          42810.4,
          78251.3,
          89560.6,
          null,
          58723.3,
          71766.2,
          92509.2,
          92509.2
         ],
         "type": "scatter",
         "x": [
          "2022-12-20",
          "2022-12-21",
          "2022-12-22",
          "2022-12-23",
          "2022-12-27",
          "2022-12-28",
          "2022-12-29",
          "2022-12-29"
         ],
         "xaxis": "x",
         "y": [
          42810.4,
          78251.3,
          89560.6,
          null,
          58723.3,
          71766.2,
          92509.2,
          92509.2
         ],
         "yaxis": "y"
        },
        {
         "marker": {
          "color": "#00FFFF",
          "size": 10
         },
         "mode": "markers+lines",
         "name": "1163100C4568250120A Productions",
         "text": [
          0,
          4,
          0,
          0,
          0,
          0,
          0,
          0
         ],
         "type": "scatter",
         "x": [
          "2022-12-20",
          "2022-12-21",
          "2022-12-22",
          "2022-12-23",
          "2022-12-27",
          "2022-12-28",
          "2022-12-29",
          "2022-12-29"
         ],
         "xaxis": "x3",
         "y": [
          0,
          4,
          0,
          0,
          0,
          0,
          0,
          0
         ],
         "yaxis": "y3"
        },
        {
         "marker": {
          "color": "#00FFFF",
          "size": 10
         },
         "mode": "markers+lines",
         "name": "1163100C4568250120A Stops",
         "text": [
          "Unknown",
          "Unknown",
          "Unknown",
          "Unknown",
          "Unknown",
          "Unknown",
          "Manutenzione ordinaria",
          "Sostituzione utensile"
         ],
         "type": "scatter",
         "x": [
          "2022-12-20",
          "2022-12-21",
          "2022-12-22",
          "2022-12-23",
          "2022-12-27",
          "2022-12-28",
          "2022-12-29",
          "2022-12-29"
         ],
         "xaxis": "x2",
         "y": [
          null,
          null,
          null,
          null,
          null,
          null,
          1,
          1
         ],
         "yaxis": "y2"
        },
        {
         "marker": {
          "color": "#FFFF00",
          "size": 10
         },
         "mode": "markers+lines",
         "name": "1164800AIS450248 Energy",
         "text": [
          92509.2,
          92509.2,
          113017.1,
          113017.1
         ],
         "type": "scatter",
         "x": [
          "2022-12-29",
          "2022-12-29",
          "2022-12-30",
          "2022-12-30"
         ],
         "xaxis": "x",
         "y": [
          92509.2,
          92509.2,
          113017.1,
          113017.1
         ],
         "yaxis": "y"
        },
        {
         "marker": {
          "color": "#FFFF00",
          "size": 10
         },
         "mode": "markers+lines",
         "name": "1164800AIS450248 Productions",
         "text": [
          860,
          860,
          639,
          639
         ],
         "type": "scatter",
         "x": [
          "2022-12-29",
          "2022-12-29",
          "2022-12-30",
          "2022-12-30"
         ],
         "xaxis": "x3",
         "y": [
          860,
          860,
          639,
          639
         ],
         "yaxis": "y3"
        },
        {
         "marker": {
          "color": "#FFFF00",
          "size": 10
         },
         "mode": "markers+lines",
         "name": "1164800AIS450248 Stops",
         "text": [
          "Manutenzione ordinaria",
          "Sostituzione utensile",
          "Manutenzione ordinaria",
          "Sostituzione utensile"
         ],
         "type": "scatter",
         "x": [
          "2022-12-29",
          "2022-12-29",
          "2022-12-30",
          "2022-12-30"
         ],
         "xaxis": "x2",
         "y": [
          1,
          1,
          1,
          2
         ],
         "yaxis": "y2"
        }
       ],
       "layout": {
        "annotations": [
         {
          "font": {
           "size": 16
          },
          "showarrow": false,
          "text": "Energy Consumption",
          "x": 0.5,
          "xanchor": "center",
          "xref": "paper",
          "y": 1,
          "yanchor": "bottom",
          "yref": "paper"
         },
         {
          "font": {
           "size": 16
          },
          "showarrow": false,
          "text": "Stops",
          "x": 0.5,
          "xanchor": "center",
          "xref": "paper",
          "y": 0.6466666666666667,
          "yanchor": "bottom",
          "yref": "paper"
         },
         {
          "font": {
           "size": 16
          },
          "showarrow": false,
          "text": "Productions",
          "x": 0.5,
          "xanchor": "center",
          "xref": "paper",
          "y": 0.29333333333333333,
          "yanchor": "bottom",
          "yref": "paper"
         }
        ],
        "height": 800,
        "template": {
         "data": {
          "bar": [
           {
            "error_x": {
             "color": "#2a3f5f"
            },
            "error_y": {
             "color": "#2a3f5f"
            },
            "marker": {
             "line": {
              "color": "#E5ECF6",
              "width": 0.5
             },
             "pattern": {
              "fillmode": "overlay",
              "size": 10,
              "solidity": 0.2
             }
            },
            "type": "bar"
           }
          ],
          "barpolar": [
           {
            "marker": {
             "line": {
              "color": "#E5ECF6",
              "width": 0.5
             },
             "pattern": {
              "fillmode": "overlay",
              "size": 10,
              "solidity": 0.2
             }
            },
            "type": "barpolar"
           }
          ],
          "carpet": [
           {
            "aaxis": {
             "endlinecolor": "#2a3f5f",
             "gridcolor": "white",
             "linecolor": "white",
             "minorgridcolor": "white",
             "startlinecolor": "#2a3f5f"
            },
            "baxis": {
             "endlinecolor": "#2a3f5f",
             "gridcolor": "white",
             "linecolor": "white",
             "minorgridcolor": "white",
             "startlinecolor": "#2a3f5f"
            },
            "type": "carpet"
           }
          ],
          "choropleth": [
           {
            "colorbar": {
             "outlinewidth": 0,
             "ticks": ""
            },
            "type": "choropleth"
           }
          ],
          "contour": [
           {
            "colorbar": {
             "outlinewidth": 0,
             "ticks": ""
            },
            "colorscale": [
             [
              0,
              "#0d0887"
             ],
             [
              0.1111111111111111,
              "#46039f"
             ],
             [
              0.2222222222222222,
              "#7201a8"
             ],
             [
              0.3333333333333333,
              "#9c179e"
             ],
             [
              0.4444444444444444,
              "#bd3786"
             ],
             [
              0.5555555555555556,
              "#d8576b"
             ],
             [
              0.6666666666666666,
              "#ed7953"
             ],
             [
              0.7777777777777778,
              "#fb9f3a"
             ],
             [
              0.8888888888888888,
              "#fdca26"
             ],
             [
              1,
              "#f0f921"
             ]
            ],
            "type": "contour"
           }
          ],
          "contourcarpet": [
           {
            "colorbar": {
             "outlinewidth": 0,
             "ticks": ""
            },
            "type": "contourcarpet"
           }
          ],
          "heatmap": [
           {
            "colorbar": {
             "outlinewidth": 0,
             "ticks": ""
            },
            "colorscale": [
             [
              0,
              "#0d0887"
             ],
             [
              0.1111111111111111,
              "#46039f"
             ],
             [
              0.2222222222222222,
              "#7201a8"
             ],
             [
              0.3333333333333333,
              "#9c179e"
             ],
             [
              0.4444444444444444,
              "#bd3786"
             ],
             [
              0.5555555555555556,
              "#d8576b"
             ],
             [
              0.6666666666666666,
              "#ed7953"
             ],
             [
              0.7777777777777778,
              "#fb9f3a"
             ],
             [
              0.8888888888888888,
              "#fdca26"
             ],
             [
              1,
              "#f0f921"
             ]
            ],
            "type": "heatmap"
           }
          ],
          "heatmapgl": [
           {
            "colorbar": {
             "outlinewidth": 0,
             "ticks": ""
            },
            "colorscale": [
             [
              0,
              "#0d0887"
             ],
             [
              0.1111111111111111,
              "#46039f"
             ],
             [
              0.2222222222222222,
              "#7201a8"
             ],
             [
              0.3333333333333333,
              "#9c179e"
             ],
             [
              0.4444444444444444,
              "#bd3786"
             ],
             [
              0.5555555555555556,
              "#d8576b"
             ],
             [
              0.6666666666666666,
              "#ed7953"
             ],
             [
              0.7777777777777778,
              "#fb9f3a"
             ],
             [
              0.8888888888888888,
              "#fdca26"
             ],
             [
              1,
              "#f0f921"
             ]
            ],
            "type": "heatmapgl"
           }
          ],
          "histogram": [
           {
            "marker": {
             "pattern": {
              "fillmode": "overlay",
              "size": 10,
              "solidity": 0.2
             }
            },
            "type": "histogram"
           }
          ],
          "histogram2d": [
           {
            "colorbar": {
             "outlinewidth": 0,
             "ticks": ""
            },
            "colorscale": [
             [
              0,
              "#0d0887"
             ],
             [
              0.1111111111111111,
              "#46039f"
             ],
             [
              0.2222222222222222,
              "#7201a8"
             ],
             [
              0.3333333333333333,
              "#9c179e"
             ],
             [
              0.4444444444444444,
              "#bd3786"
             ],
             [
              0.5555555555555556,
              "#d8576b"
             ],
             [
              0.6666666666666666,
              "#ed7953"
             ],
             [
              0.7777777777777778,
              "#fb9f3a"
             ],
             [
              0.8888888888888888,
              "#fdca26"
             ],
             [
              1,
              "#f0f921"
             ]
            ],
            "type": "histogram2d"
           }
          ],
          "histogram2dcontour": [
           {
            "colorbar": {
             "outlinewidth": 0,
             "ticks": ""
            },
            "colorscale": [
             [
              0,
              "#0d0887"
             ],
             [
              0.1111111111111111,
              "#46039f"
             ],
             [
              0.2222222222222222,
              "#7201a8"
             ],
             [
              0.3333333333333333,
              "#9c179e"
             ],
             [
              0.4444444444444444,
              "#bd3786"
             ],
             [
              0.5555555555555556,
              "#d8576b"
             ],
             [
              0.6666666666666666,
              "#ed7953"
             ],
             [
              0.7777777777777778,
              "#fb9f3a"
             ],
             [
              0.8888888888888888,
              "#fdca26"
             ],
             [
              1,
              "#f0f921"
             ]
            ],
            "type": "histogram2dcontour"
           }
          ],
          "mesh3d": [
           {
            "colorbar": {
             "outlinewidth": 0,
             "ticks": ""
            },
            "type": "mesh3d"
           }
          ],
          "parcoords": [
           {
            "line": {
             "colorbar": {
              "outlinewidth": 0,
              "ticks": ""
             }
            },
            "type": "parcoords"
           }
          ],
          "pie": [
           {
            "automargin": true,
            "type": "pie"
           }
          ],
          "scatter": [
           {
            "fillpattern": {
             "fillmode": "overlay",
             "size": 10,
             "solidity": 0.2
            },
            "type": "scatter"
           }
          ],
          "scatter3d": [
           {
            "line": {
             "colorbar": {
              "outlinewidth": 0,
              "ticks": ""
             }
            },
            "marker": {
             "colorbar": {
              "outlinewidth": 0,
              "ticks": ""
             }
            },
            "type": "scatter3d"
           }
          ],
          "scattercarpet": [
           {
            "marker": {
             "colorbar": {
              "outlinewidth": 0,
              "ticks": ""
             }
            },
            "type": "scattercarpet"
           }
          ],
          "scattergeo": [
           {
            "marker": {
             "colorbar": {
              "outlinewidth": 0,
              "ticks": ""
             }
            },
            "type": "scattergeo"
           }
          ],
          "scattergl": [
           {
            "marker": {
             "colorbar": {
              "outlinewidth": 0,
              "ticks": ""
             }
            },
            "type": "scattergl"
           }
          ],
          "scattermapbox": [
           {
            "marker": {
             "colorbar": {
              "outlinewidth": 0,
              "ticks": ""
             }
            },
            "type": "scattermapbox"
           }
          ],
          "scatterpolar": [
           {
            "marker": {
             "colorbar": {
              "outlinewidth": 0,
              "ticks": ""
             }
            },
            "type": "scatterpolar"
           }
          ],
          "scatterpolargl": [
           {
            "marker": {
             "colorbar": {
              "outlinewidth": 0,
              "ticks": ""
             }
            },
            "type": "scatterpolargl"
           }
          ],
          "scatterternary": [
           {
            "marker": {
             "colorbar": {
              "outlinewidth": 0,
              "ticks": ""
             }
            },
            "type": "scatterternary"
           }
          ],
          "surface": [
           {
            "colorbar": {
             "outlinewidth": 0,
             "ticks": ""
            },
            "colorscale": [
             [
              0,
              "#0d0887"
             ],
             [
              0.1111111111111111,
              "#46039f"
             ],
             [
              0.2222222222222222,
              "#7201a8"
             ],
             [
              0.3333333333333333,
              "#9c179e"
             ],
             [
              0.4444444444444444,
              "#bd3786"
             ],
             [
              0.5555555555555556,
              "#d8576b"
             ],
             [
              0.6666666666666666,
              "#ed7953"
             ],
             [
              0.7777777777777778,
              "#fb9f3a"
             ],
             [
              0.8888888888888888,
              "#fdca26"
             ],
             [
              1,
              "#f0f921"
             ]
            ],
            "type": "surface"
           }
          ],
          "table": [
           {
            "cells": {
             "fill": {
              "color": "#EBF0F8"
             },
             "line": {
              "color": "white"
             }
            },
            "header": {
             "fill": {
              "color": "#C8D4E3"
             },
             "line": {
              "color": "white"
             }
            },
            "type": "table"
           }
          ]
         },
         "layout": {
          "annotationdefaults": {
           "arrowcolor": "#2a3f5f",
           "arrowhead": 0,
           "arrowwidth": 1
          },
          "autotypenumbers": "strict",
          "coloraxis": {
           "colorbar": {
            "outlinewidth": 0,
            "ticks": ""
           }
          },
          "colorscale": {
           "diverging": [
            [
             0,
             "#8e0152"
            ],
            [
             0.1,
             "#c51b7d"
            ],
            [
             0.2,
             "#de77ae"
            ],
            [
             0.3,
             "#f1b6da"
            ],
            [
             0.4,
             "#fde0ef"
            ],
            [
             0.5,
             "#f7f7f7"
            ],
            [
             0.6,
             "#e6f5d0"
            ],
            [
             0.7,
             "#b8e186"
            ],
            [
             0.8,
             "#7fbc41"
            ],
            [
             0.9,
             "#4d9221"
            ],
            [
             1,
             "#276419"
            ]
           ],
           "sequential": [
            [
             0,
             "#0d0887"
            ],
            [
             0.1111111111111111,
             "#46039f"
            ],
            [
             0.2222222222222222,
             "#7201a8"
            ],
            [
             0.3333333333333333,
             "#9c179e"
            ],
            [
             0.4444444444444444,
             "#bd3786"
            ],
            [
             0.5555555555555556,
             "#d8576b"
            ],
            [
             0.6666666666666666,
             "#ed7953"
            ],
            [
             0.7777777777777778,
             "#fb9f3a"
            ],
            [
             0.8888888888888888,
             "#fdca26"
            ],
            [
             1,
             "#f0f921"
            ]
           ],
           "sequentialminus": [
            [
             0,
             "#0d0887"
            ],
            [
             0.1111111111111111,
             "#46039f"
            ],
            [
             0.2222222222222222,
             "#7201a8"
            ],
            [
             0.3333333333333333,
             "#9c179e"
            ],
            [
             0.4444444444444444,
             "#bd3786"
            ],
            [
             0.5555555555555556,
             "#d8576b"
            ],
            [
             0.6666666666666666,
             "#ed7953"
            ],
            [
             0.7777777777777778,
             "#fb9f3a"
            ],
            [
             0.8888888888888888,
             "#fdca26"
            ],
            [
             1,
             "#f0f921"
            ]
           ]
          },
          "colorway": [
           "#636efa",
           "#EF553B",
           "#00cc96",
           "#ab63fa",
           "#FFA15A",
           "#19d3f3",
           "#FF6692",
           "#B6E880",
           "#FF97FF",
           "#FECB52"
          ],
          "font": {
           "color": "#2a3f5f"
          },
          "geo": {
           "bgcolor": "white",
           "lakecolor": "white",
           "landcolor": "#E5ECF6",
           "showlakes": true,
           "showland": true,
           "subunitcolor": "white"
          },
          "hoverlabel": {
           "align": "left"
          },
          "hovermode": "closest",
          "mapbox": {
           "style": "light"
          },
          "paper_bgcolor": "white",
          "plot_bgcolor": "#E5ECF6",
          "polar": {
           "angularaxis": {
            "gridcolor": "white",
            "linecolor": "white",
            "ticks": ""
           },
           "bgcolor": "#E5ECF6",
           "radialaxis": {
            "gridcolor": "white",
            "linecolor": "white",
            "ticks": ""
           }
          },
          "scene": {
           "xaxis": {
            "backgroundcolor": "#E5ECF6",
            "gridcolor": "white",
            "gridwidth": 2,
            "linecolor": "white",
            "showbackground": true,
            "ticks": "",
            "zerolinecolor": "white"
           },
           "yaxis": {
            "backgroundcolor": "#E5ECF6",
            "gridcolor": "white",
            "gridwidth": 2,
            "linecolor": "white",
            "showbackground": true,
            "ticks": "",
            "zerolinecolor": "white"
           },
           "zaxis": {
            "backgroundcolor": "#E5ECF6",
            "gridcolor": "white",
            "gridwidth": 2,
            "linecolor": "white",
            "showbackground": true,
            "ticks": "",
            "zerolinecolor": "white"
           }
          },
          "shapedefaults": {
           "line": {
            "color": "#2a3f5f"
           }
          },
          "ternary": {
           "aaxis": {
            "gridcolor": "white",
            "linecolor": "white",
            "ticks": ""
           },
           "baxis": {
            "gridcolor": "white",
            "linecolor": "white",
            "ticks": ""
           },
           "bgcolor": "#E5ECF6",
           "caxis": {
            "gridcolor": "white",
            "linecolor": "white",
            "ticks": ""
           }
          },
          "title": {
           "x": 0.05
          },
          "xaxis": {
           "automargin": true,
           "gridcolor": "white",
           "linecolor": "white",
           "ticks": "",
           "title": {
            "standoff": 15
           },
           "zerolinecolor": "white",
           "zerolinewidth": 2
          },
          "yaxis": {
           "automargin": true,
           "gridcolor": "white",
           "linecolor": "white",
           "ticks": "",
           "title": {
            "standoff": 15
           },
           "zerolinecolor": "white",
           "zerolinewidth": 2
          }
         }
        },
        "title": {
         "text": "Dataset machine 315"
        },
        "width": 1280,
        "xaxis": {
         "anchor": "y",
         "domain": [
          0,
          1
         ],
         "matches": "x3",
         "showticklabels": false
        },
        "xaxis2": {
         "anchor": "y2",
         "domain": [
          0,
          1
         ],
         "matches": "x3",
         "showticklabels": false
        },
        "xaxis3": {
         "anchor": "y3",
         "domain": [
          0,
          1
         ]
        },
        "yaxis": {
         "anchor": "x",
         "domain": [
          0.7066666666666667,
          1
         ]
        },
        "yaxis2": {
         "anchor": "x2",
         "domain": [
          0.35333333333333333,
          0.6466666666666667
         ]
        },
        "yaxis3": {
         "anchor": "x3",
         "domain": [
          0,
          0.29333333333333333
         ]
        }
       }
      }
     },
     "metadata": {},
     "output_type": "display_data"
    },
    {
     "data": {
      "application/vnd.plotly.v1+json": {
       "config": {
        "plotlyServerURL": "https://plot.ly"
       },
       "data": [
        {
         "marker": {
          "color": "blue",
          "size": 10
         },
         "mode": "markers+lines",
         "name": "0014600AIS36275566 Energy",
         "text": [
          null
         ],
         "type": "scatter",
         "x": [
          "2023-02-27"
         ],
         "xaxis": "x",
         "y": [
          null
         ],
         "yaxis": "y"
        },
        {
         "marker": {
          "color": "blue",
          "size": 10
         },
         "mode": "markers+lines",
         "name": "0014600AIS36275566 Productions",
         "text": [
          156
         ],
         "type": "scatter",
         "x": [
          "2023-02-27"
         ],
         "xaxis": "x3",
         "y": [
          156
         ],
         "yaxis": "y3"
        },
        {
         "marker": {
          "color": "blue",
          "size": 10
         },
         "mode": "markers+lines",
         "name": "0014600AIS36275566 Stops",
         "text": [
          "Unknown"
         ],
         "type": "scatter",
         "x": [
          "2023-02-27"
         ],
         "xaxis": "x2",
         "y": [
          null
         ],
         "yaxis": "y2"
        },
        {
         "marker": {
          "color": "green",
          "size": 10
         },
         "mode": "markers+lines",
         "name": "1122100FE5L1A20205 Energy",
         "text": [
          null,
          93547.9
         ],
         "type": "scatter",
         "x": [
          "2023-02-28",
          "2023-03-01"
         ],
         "xaxis": "x",
         "y": [
          null,
          93547.9
         ],
         "yaxis": "y"
        },
        {
         "marker": {
          "color": "green",
          "size": 10
         },
         "mode": "markers+lines",
         "name": "1122100FE5L1A20205 Productions",
         "text": [
          673,
          1104
         ],
         "type": "scatter",
         "x": [
          "2023-02-28",
          "2023-03-01"
         ],
         "xaxis": "x3",
         "y": [
          673,
          1104
         ],
         "yaxis": "y3"
        },
        {
         "marker": {
          "color": "green",
          "size": 10
         },
         "mode": "markers+lines",
         "name": "1122100FE5L1A20205 Stops",
         "text": [
          "Unknown",
          "Unknown"
         ],
         "type": "scatter",
         "x": [
          "2023-02-28",
          "2023-03-01"
         ],
         "xaxis": "x2",
         "y": [
          null,
          null
         ],
         "yaxis": "y2"
        },
        {
         "marker": {
          "color": "#FF0000",
          "size": 10
         },
         "mode": "markers+lines",
         "name": "1139000AVP515000156A Energy",
         "text": [
          null
         ],
         "type": "scatter",
         "x": [
          "2023-02-28"
         ],
         "xaxis": "x",
         "y": [
          null
         ],
         "yaxis": "y"
        },
        {
         "marker": {
          "color": "#FF0000",
          "size": 10
         },
         "mode": "markers+lines",
         "name": "1139000AVP515000156A Productions",
         "text": [
          0
         ],
         "type": "scatter",
         "x": [
          "2023-02-28"
         ],
         "xaxis": "x3",
         "y": [
          0
         ],
         "yaxis": "y3"
        },
        {
         "marker": {
          "color": "#FF0000",
          "size": 10
         },
         "mode": "markers+lines",
         "name": "1139000AVP515000156A Stops",
         "text": [
          "Unknown"
         ],
         "type": "scatter",
         "x": [
          "2023-02-28"
         ],
         "xaxis": "x2",
         "y": [
          null
         ],
         "yaxis": "y2"
        },
        {
         "marker": {
          "color": "#00FFFF",
          "size": 10
         },
         "mode": "markers+lines",
         "name": "1139000AVP520200012A Energy",
         "text": [
          93547.9,
          null,
          112180.4,
          40898.1,
          107533.4
         ],
         "type": "scatter",
         "x": [
          "2023-03-01",
          "2023-03-02",
          "2023-03-03",
          "2023-03-04",
          "2023-03-06"
         ],
         "xaxis": "x",
         "y": [
          93547.9,
          null,
          112180.4,
          40898.1,
          107533.4
         ],
         "yaxis": "y"
        },
        {
         "marker": {
          "color": "#00FFFF",
          "size": 10
         },
         "mode": "markers+lines",
         "name": "1139000AVP520200012A Productions",
         "text": [
          0,
          458,
          774,
          396,
          740
         ],
         "type": "scatter",
         "x": [
          "2023-03-01",
          "2023-03-02",
          "2023-03-03",
          "2023-03-04",
          "2023-03-06"
         ],
         "xaxis": "x3",
         "y": [
          0,
          458,
          774,
          396,
          740
         ],
         "yaxis": "y3"
        },
        {
         "marker": {
          "color": "#00FFFF",
          "size": 10
         },
         "mode": "markers+lines",
         "name": "1139000AVP520200012A Stops",
         "text": [
          "Unknown",
          "Unknown",
          "Unknown",
          "Unknown",
          "Manutenzione ordinaria"
         ],
         "type": "scatter",
         "x": [
          "2023-03-01",
          "2023-03-02",
          "2023-03-03",
          "2023-03-04",
          "2023-03-06"
         ],
         "xaxis": "x2",
         "y": [
          null,
          null,
          null,
          null,
          1
         ],
         "yaxis": "y2"
        },
        {
         "marker": {
          "color": "black",
          "size": 10
         },
         "mode": "markers+lines",
         "name": "Unknown Energy",
         "text": [
          1,
          null,
          132066.5,
          132773.5,
          null,
          null,
          52568.9,
          69545.2,
          69545.2,
          69545.2,
          100419.8,
          0,
          0,
          null,
          null,
          null,
          80872,
          null,
          10174.6,
          15492.2,
          1.5,
          1.4,
          null,
          null,
          null,
          null,
          null,
          null,
          null,
          0
         ],
         "type": "scatter",
         "x": [
          "2023-03-05",
          "2023-03-13",
          "2023-03-14",
          "2023-03-15",
          "2023-03-17",
          "2023-03-20",
          "2023-03-21",
          "2023-03-22",
          "2023-03-22",
          "2023-03-22",
          "2023-03-23",
          "2023-03-24",
          "2023-03-25",
          "2023-03-27",
          "2023-03-29",
          "2023-03-29",
          "2023-03-30",
          "2023-03-31",
          "2023-06-08",
          "2023-06-10",
          "2023-06-11",
          "2023-06-18",
          "2023-06-23",
          "2023-06-26",
          "2023-06-26",
          "2023-06-27",
          "2023-06-27",
          "2023-06-28",
          "2023-06-29",
          "2023-06-30"
         ],
         "xaxis": "x",
         "y": [
          1,
          null,
          132066.5,
          132773.5,
          null,
          null,
          52568.9,
          69545.2,
          69545.2,
          69545.2,
          100419.8,
          0,
          0,
          null,
          null,
          null,
          80872,
          null,
          10174.6,
          15492.2,
          1.5,
          1.4,
          null,
          null,
          null,
          null,
          null,
          null,
          null,
          0
         ],
         "yaxis": "y"
        },
        {
         "marker": {
          "color": "black",
          "size": 10
         },
         "mode": "markers+lines",
         "name": "Unknown Productions",
         "text": [
          null,
          null,
          null,
          null,
          null,
          null,
          null,
          null,
          null,
          null,
          null,
          null,
          null,
          null,
          null,
          null,
          null,
          null,
          null,
          null,
          null,
          null,
          null,
          null,
          null,
          null,
          null,
          null,
          null,
          null
         ],
         "type": "scatter",
         "x": [
          "2023-03-05",
          "2023-03-13",
          "2023-03-14",
          "2023-03-15",
          "2023-03-17",
          "2023-03-20",
          "2023-03-21",
          "2023-03-22",
          "2023-03-22",
          "2023-03-22",
          "2023-03-23",
          "2023-03-24",
          "2023-03-25",
          "2023-03-27",
          "2023-03-29",
          "2023-03-29",
          "2023-03-30",
          "2023-03-31",
          "2023-06-08",
          "2023-06-10",
          "2023-06-11",
          "2023-06-18",
          "2023-06-23",
          "2023-06-26",
          "2023-06-26",
          "2023-06-27",
          "2023-06-27",
          "2023-06-28",
          "2023-06-29",
          "2023-06-30"
         ],
         "xaxis": "x3",
         "y": [
          null,
          null,
          null,
          null,
          null,
          null,
          null,
          null,
          null,
          null,
          null,
          null,
          null,
          null,
          null,
          null,
          null,
          null,
          null,
          null,
          null,
          null,
          null,
          null,
          null,
          null,
          null,
          null,
          null,
          null
         ],
         "yaxis": "y3"
        },
        {
         "marker": {
          "color": "black",
          "size": 10
         },
         "mode": "markers+lines",
         "name": "Unknown Stops",
         "text": [
          "Unknown",
          "Manutenzione ordinaria",
          "Unknown",
          "Unknown",
          "Manutenzione ordinaria",
          "Sostituzione utensile",
          "Manutenzione ordinaria",
          "Manutenzione ordinaria",
          "Manutenzione straordinaria",
          "Sostituzione utensile",
          "Manutenzione ordinaria",
          "Sostituzione utensile",
          "Sostituzione utensile",
          "Sostituzione utensile",
          "Manutenzione ordinaria",
          "Sostituzione utensile",
          "Manutenzione ordinaria",
          "Sostituzione utensile",
          "Unknown",
          "Unknown",
          "Unknown",
          "Unknown",
          "Manutenzione ordinaria",
          "Manutenzione ordinaria",
          "Sostituzione utensile",
          "Manutenzione ordinaria",
          "Manutenzione straordinaria",
          "Manutenzione ordinaria",
          "Sostituzione utensile",
          "Sostituzione utensile"
         ],
         "type": "scatter",
         "x": [
          "2023-03-05",
          "2023-03-13",
          "2023-03-14",
          "2023-03-15",
          "2023-03-17",
          "2023-03-20",
          "2023-03-21",
          "2023-03-22",
          "2023-03-22",
          "2023-03-22",
          "2023-03-23",
          "2023-03-24",
          "2023-03-25",
          "2023-03-27",
          "2023-03-29",
          "2023-03-29",
          "2023-03-30",
          "2023-03-31",
          "2023-06-08",
          "2023-06-10",
          "2023-06-11",
          "2023-06-18",
          "2023-06-23",
          "2023-06-26",
          "2023-06-26",
          "2023-06-27",
          "2023-06-27",
          "2023-06-28",
          "2023-06-29",
          "2023-06-30"
         ],
         "xaxis": "x2",
         "y": [
          null,
          1,
          null,
          null,
          1,
          2,
          1,
          3,
          1,
          1,
          1,
          3,
          9,
          1,
          1,
          1,
          1,
          1,
          null,
          null,
          null,
          null,
          2,
          1,
          1,
          1,
          1,
          2,
          1,
          3
         ],
         "yaxis": "y2"
        },
        {
         "marker": {
          "color": "#880000",
          "size": 10
         },
         "mode": "markers+lines",
         "name": "1139000AVP520200000A Energy",
         "text": [
          73804.7,
          131870.1,
          null,
          null
         ],
         "type": "scatter",
         "x": [
          "2023-03-07",
          "2023-03-08",
          "2023-03-09",
          "2023-03-10"
         ],
         "xaxis": "x",
         "y": [
          73804.7,
          131870.1,
          null,
          null
         ],
         "yaxis": "y"
        },
        {
         "marker": {
          "color": "#880000",
          "size": 10
         },
         "mode": "markers+lines",
         "name": "1139000AVP520200000A Productions",
         "text": [
          224,
          712,
          582,
          152
         ],
         "type": "scatter",
         "x": [
          "2023-03-07",
          "2023-03-08",
          "2023-03-09",
          "2023-03-10"
         ],
         "xaxis": "x3",
         "y": [
          224,
          712,
          582,
          152
         ],
         "yaxis": "y3"
        },
        {
         "marker": {
          "color": "#880000",
          "size": 10
         },
         "mode": "markers+lines",
         "name": "1139000AVP520200000A Stops",
         "text": [
          "Unknown",
          "Manutenzione ordinaria",
          "Manutenzione ordinaria",
          "Manutenzione ordinaria"
         ],
         "type": "scatter",
         "x": [
          "2023-03-07",
          "2023-03-08",
          "2023-03-09",
          "2023-03-10"
         ],
         "xaxis": "x2",
         "y": [
          null,
          1,
          1,
          1
         ],
         "yaxis": "y2"
        },
        {
         "marker": {
          "color": "blue",
          "size": 10
         },
         "mode": "markers+lines",
         "name": "1179000PVC170T035001 Energy",
         "text": [
          null,
          0
         ],
         "type": "scatter",
         "x": [
          "2023-03-10",
          "2023-03-11"
         ],
         "xaxis": "x",
         "y": [
          null,
          0
         ],
         "yaxis": "y"
        },
        {
         "marker": {
          "color": "blue",
          "size": 10
         },
         "mode": "markers+lines",
         "name": "1179000PVC170T035001 Productions",
         "text": [
          206,
          606
         ],
         "type": "scatter",
         "x": [
          "2023-03-10",
          "2023-03-11"
         ],
         "xaxis": "x3",
         "y": [
          206,
          606
         ],
         "yaxis": "y3"
        },
        {
         "marker": {
          "color": "blue",
          "size": 10
         },
         "mode": "markers+lines",
         "name": "1179000PVC170T035001 Stops",
         "text": [
          "Manutenzione ordinaria",
          "Unknown"
         ],
         "type": "scatter",
         "x": [
          "2023-03-10",
          "2023-03-11"
         ],
         "xaxis": "x2",
         "y": [
          1,
          null
         ],
         "yaxis": "y2"
        },
        {
         "marker": {
          "color": "green",
          "size": 10
         },
         "mode": "markers+lines",
         "name": "116710010061614-10 Energy",
         "text": [
          null
         ],
         "type": "scatter",
         "x": [
          "2023-05-30"
         ],
         "xaxis": "x",
         "y": [
          null
         ],
         "yaxis": "y"
        },
        {
         "marker": {
          "color": "green",
          "size": 10
         },
         "mode": "markers+lines",
         "name": "116710010061614-10 Productions",
         "text": [
          556
         ],
         "type": "scatter",
         "x": [
          "2023-05-30"
         ],
         "xaxis": "x3",
         "y": [
          556
         ],
         "yaxis": "y3"
        },
        {
         "marker": {
          "color": "green",
          "size": 10
         },
         "mode": "markers+lines",
         "name": "116710010061614-10 Stops",
         "text": [
          "Unknown"
         ],
         "type": "scatter",
         "x": [
          "2023-05-30"
         ],
         "xaxis": "x2",
         "y": [
          null
         ],
         "yaxis": "y2"
        },
        {
         "marker": {
          "color": "#FF0000",
          "size": 10
         },
         "mode": "markers+lines",
         "name": "1103000FE3117020570 Energy",
         "text": [
          null,
          null,
          null,
          null,
          null
         ],
         "type": "scatter",
         "x": [
          "2023-05-31",
          "2023-06-01",
          "2023-06-02",
          "2023-06-05",
          "2023-06-06"
         ],
         "xaxis": "x",
         "y": [
          null,
          null,
          null,
          null,
          null
         ],
         "yaxis": "y"
        },
        {
         "marker": {
          "color": "#FF0000",
          "size": 10
         },
         "mode": "markers+lines",
         "name": "1103000FE3117020570 Productions",
         "text": [
          225,
          759,
          82,
          1286,
          314
         ],
         "type": "scatter",
         "x": [
          "2023-05-31",
          "2023-06-01",
          "2023-06-02",
          "2023-06-05",
          "2023-06-06"
         ],
         "xaxis": "x3",
         "y": [
          225,
          759,
          82,
          1286,
          314
         ],
         "yaxis": "y3"
        },
        {
         "marker": {
          "color": "#FF0000",
          "size": 10
         },
         "mode": "markers+lines",
         "name": "1103000FE3117020570 Stops",
         "text": [
          "Unknown",
          "Unknown",
          "Unknown",
          "Sostituzione utensile",
          "Unknown"
         ],
         "type": "scatter",
         "x": [
          "2023-05-31",
          "2023-06-01",
          "2023-06-02",
          "2023-06-05",
          "2023-06-06"
         ],
         "xaxis": "x2",
         "y": [
          null,
          null,
          null,
          2,
          null
         ],
         "yaxis": "y2"
        },
        {
         "marker": {
          "color": "#00FFFF",
          "size": 10
         },
         "mode": "markers+lines",
         "name": "0003200AISPBVX.106.110-A4 Energy",
         "text": [
          null,
          69844.7,
          null,
          null,
          91902.8,
          91902.8,
          15212.4,
          36311.7
         ],
         "type": "scatter",
         "x": [
          "2023-06-06",
          "2023-06-07",
          "2023-06-09",
          "2023-06-09",
          "2023-06-12",
          "2023-06-12",
          "2023-06-13",
          "2023-06-14"
         ],
         "xaxis": "x",
         "y": [
          null,
          69844.7,
          null,
          null,
          91902.8,
          91902.8,
          15212.4,
          36311.7
         ],
         "yaxis": "y"
        },
        {
         "marker": {
          "color": "#00FFFF",
          "size": 10
         },
         "mode": "markers+lines",
         "name": "0003200AISPBVX.106.110-A4 Productions",
         "text": [
          0,
          30,
          12,
          12,
          114,
          114,
          -66,
          0
         ],
         "type": "scatter",
         "x": [
          "2023-06-06",
          "2023-06-07",
          "2023-06-09",
          "2023-06-09",
          "2023-06-12",
          "2023-06-12",
          "2023-06-13",
          "2023-06-14"
         ],
         "xaxis": "x3",
         "y": [
          0,
          30,
          12,
          12,
          114,
          114,
          -66,
          0
         ],
         "yaxis": "y3"
        },
        {
         "marker": {
          "color": "#00FFFF",
          "size": 10
         },
         "mode": "markers+lines",
         "name": "0003200AISPBVX.106.110-A4 Stops",
         "text": [
          "Unknown",
          "Manutenzione straordinaria",
          "Manutenzione ordinaria",
          "Manutenzione straordinaria",
          "Manutenzione ordinaria",
          "Sostituzione utensile",
          "Sostituzione utensile",
          "Sostituzione utensile"
         ],
         "type": "scatter",
         "x": [
          "2023-06-06",
          "2023-06-07",
          "2023-06-09",
          "2023-06-09",
          "2023-06-12",
          "2023-06-12",
          "2023-06-13",
          "2023-06-14"
         ],
         "xaxis": "x2",
         "y": [
          null,
          1,
          1,
          1,
          1,
          1,
          1,
          1
         ],
         "yaxis": "y2"
        },
        {
         "marker": {
          "color": "#FFFF00",
          "size": 10
         },
         "mode": "markers+lines",
         "name": "0003200AISPBVX.106.110 SL-A0 Energy",
         "text": [
          36311.7,
          null,
          107043.2,
          107043.2,
          34025.2,
          121499.2,
          124661.3,
          0,
          0,
          111982.9,
          111982.9,
          111982.9
         ],
         "type": "scatter",
         "x": [
          "2023-06-14",
          "2023-06-15",
          "2023-06-16",
          "2023-06-16",
          "2023-06-17",
          "2023-06-19",
          "2023-06-20",
          "2023-06-21",
          "2023-06-21",
          "2023-06-22",
          "2023-06-22",
          "2023-06-22"
         ],
         "xaxis": "x",
         "y": [
          36311.7,
          null,
          107043.2,
          107043.2,
          34025.2,
          121499.2,
          124661.3,
          0,
          0,
          111982.9,
          111982.9,
          111982.9
         ],
         "yaxis": "y"
        },
        {
         "marker": {
          "color": "#FFFF00",
          "size": 10
         },
         "mode": "markers+lines",
         "name": "0003200AISPBVX.106.110 SL-A0 Productions",
         "text": [
          0,
          87,
          190,
          190,
          99,
          256,
          264,
          54,
          54,
          40,
          40,
          40
         ],
         "type": "scatter",
         "x": [
          "2023-06-14",
          "2023-06-15",
          "2023-06-16",
          "2023-06-16",
          "2023-06-17",
          "2023-06-19",
          "2023-06-20",
          "2023-06-21",
          "2023-06-21",
          "2023-06-22",
          "2023-06-22",
          "2023-06-22"
         ],
         "xaxis": "x3",
         "y": [
          0,
          87,
          190,
          190,
          99,
          256,
          264,
          54,
          54,
          40,
          40,
          40
         ],
         "yaxis": "y3"
        },
        {
         "marker": {
          "color": "#FFFF00",
          "size": 10
         },
         "mode": "markers+lines",
         "name": "0003200AISPBVX.106.110 SL-A0 Stops",
         "text": [
          "Sostituzione utensile",
          "Unknown",
          "Manutenzione straordinaria",
          "Sostituzione utensile",
          "Manutenzione straordinaria",
          "Unknown",
          "Sostituzione utensile",
          "Manutenzione ordinaria",
          "Manutenzione straordinaria",
          "Manutenzione ordinaria",
          "Manutenzione straordinaria",
          "Sostituzione utensile"
         ],
         "type": "scatter",
         "x": [
          "2023-06-14",
          "2023-06-15",
          "2023-06-16",
          "2023-06-16",
          "2023-06-17",
          "2023-06-19",
          "2023-06-20",
          "2023-06-21",
          "2023-06-21",
          "2023-06-22",
          "2023-06-22",
          "2023-06-22"
         ],
         "xaxis": "x2",
         "y": [
          1,
          null,
          1,
          1,
          1,
          null,
          1,
          1,
          1,
          1,
          1,
          1
         ],
         "yaxis": "y2"
        }
       ],
       "layout": {
        "annotations": [
         {
          "font": {
           "size": 16
          },
          "showarrow": false,
          "text": "Energy Consumption",
          "x": 0.5,
          "xanchor": "center",
          "xref": "paper",
          "y": 1,
          "yanchor": "bottom",
          "yref": "paper"
         },
         {
          "font": {
           "size": 16
          },
          "showarrow": false,
          "text": "Stops",
          "x": 0.5,
          "xanchor": "center",
          "xref": "paper",
          "y": 0.6466666666666667,
          "yanchor": "bottom",
          "yref": "paper"
         },
         {
          "font": {
           "size": 16
          },
          "showarrow": false,
          "text": "Productions",
          "x": 0.5,
          "xanchor": "center",
          "xref": "paper",
          "y": 0.29333333333333333,
          "yanchor": "bottom",
          "yref": "paper"
         }
        ],
        "height": 800,
        "template": {
         "data": {
          "bar": [
           {
            "error_x": {
             "color": "#2a3f5f"
            },
            "error_y": {
             "color": "#2a3f5f"
            },
            "marker": {
             "line": {
              "color": "#E5ECF6",
              "width": 0.5
             },
             "pattern": {
              "fillmode": "overlay",
              "size": 10,
              "solidity": 0.2
             }
            },
            "type": "bar"
           }
          ],
          "barpolar": [
           {
            "marker": {
             "line": {
              "color": "#E5ECF6",
              "width": 0.5
             },
             "pattern": {
              "fillmode": "overlay",
              "size": 10,
              "solidity": 0.2
             }
            },
            "type": "barpolar"
           }
          ],
          "carpet": [
           {
            "aaxis": {
             "endlinecolor": "#2a3f5f",
             "gridcolor": "white",
             "linecolor": "white",
             "minorgridcolor": "white",
             "startlinecolor": "#2a3f5f"
            },
            "baxis": {
             "endlinecolor": "#2a3f5f",
             "gridcolor": "white",
             "linecolor": "white",
             "minorgridcolor": "white",
             "startlinecolor": "#2a3f5f"
            },
            "type": "carpet"
           }
          ],
          "choropleth": [
           {
            "colorbar": {
             "outlinewidth": 0,
             "ticks": ""
            },
            "type": "choropleth"
           }
          ],
          "contour": [
           {
            "colorbar": {
             "outlinewidth": 0,
             "ticks": ""
            },
            "colorscale": [
             [
              0,
              "#0d0887"
             ],
             [
              0.1111111111111111,
              "#46039f"
             ],
             [
              0.2222222222222222,
              "#7201a8"
             ],
             [
              0.3333333333333333,
              "#9c179e"
             ],
             [
              0.4444444444444444,
              "#bd3786"
             ],
             [
              0.5555555555555556,
              "#d8576b"
             ],
             [
              0.6666666666666666,
              "#ed7953"
             ],
             [
              0.7777777777777778,
              "#fb9f3a"
             ],
             [
              0.8888888888888888,
              "#fdca26"
             ],
             [
              1,
              "#f0f921"
             ]
            ],
            "type": "contour"
           }
          ],
          "contourcarpet": [
           {
            "colorbar": {
             "outlinewidth": 0,
             "ticks": ""
            },
            "type": "contourcarpet"
           }
          ],
          "heatmap": [
           {
            "colorbar": {
             "outlinewidth": 0,
             "ticks": ""
            },
            "colorscale": [
             [
              0,
              "#0d0887"
             ],
             [
              0.1111111111111111,
              "#46039f"
             ],
             [
              0.2222222222222222,
              "#7201a8"
             ],
             [
              0.3333333333333333,
              "#9c179e"
             ],
             [
              0.4444444444444444,
              "#bd3786"
             ],
             [
              0.5555555555555556,
              "#d8576b"
             ],
             [
              0.6666666666666666,
              "#ed7953"
             ],
             [
              0.7777777777777778,
              "#fb9f3a"
             ],
             [
              0.8888888888888888,
              "#fdca26"
             ],
             [
              1,
              "#f0f921"
             ]
            ],
            "type": "heatmap"
           }
          ],
          "heatmapgl": [
           {
            "colorbar": {
             "outlinewidth": 0,
             "ticks": ""
            },
            "colorscale": [
             [
              0,
              "#0d0887"
             ],
             [
              0.1111111111111111,
              "#46039f"
             ],
             [
              0.2222222222222222,
              "#7201a8"
             ],
             [
              0.3333333333333333,
              "#9c179e"
             ],
             [
              0.4444444444444444,
              "#bd3786"
             ],
             [
              0.5555555555555556,
              "#d8576b"
             ],
             [
              0.6666666666666666,
              "#ed7953"
             ],
             [
              0.7777777777777778,
              "#fb9f3a"
             ],
             [
              0.8888888888888888,
              "#fdca26"
             ],
             [
              1,
              "#f0f921"
             ]
            ],
            "type": "heatmapgl"
           }
          ],
          "histogram": [
           {
            "marker": {
             "pattern": {
              "fillmode": "overlay",
              "size": 10,
              "solidity": 0.2
             }
            },
            "type": "histogram"
           }
          ],
          "histogram2d": [
           {
            "colorbar": {
             "outlinewidth": 0,
             "ticks": ""
            },
            "colorscale": [
             [
              0,
              "#0d0887"
             ],
             [
              0.1111111111111111,
              "#46039f"
             ],
             [
              0.2222222222222222,
              "#7201a8"
             ],
             [
              0.3333333333333333,
              "#9c179e"
             ],
             [
              0.4444444444444444,
              "#bd3786"
             ],
             [
              0.5555555555555556,
              "#d8576b"
             ],
             [
              0.6666666666666666,
              "#ed7953"
             ],
             [
              0.7777777777777778,
              "#fb9f3a"
             ],
             [
              0.8888888888888888,
              "#fdca26"
             ],
             [
              1,
              "#f0f921"
             ]
            ],
            "type": "histogram2d"
           }
          ],
          "histogram2dcontour": [
           {
            "colorbar": {
             "outlinewidth": 0,
             "ticks": ""
            },
            "colorscale": [
             [
              0,
              "#0d0887"
             ],
             [
              0.1111111111111111,
              "#46039f"
             ],
             [
              0.2222222222222222,
              "#7201a8"
             ],
             [
              0.3333333333333333,
              "#9c179e"
             ],
             [
              0.4444444444444444,
              "#bd3786"
             ],
             [
              0.5555555555555556,
              "#d8576b"
             ],
             [
              0.6666666666666666,
              "#ed7953"
             ],
             [
              0.7777777777777778,
              "#fb9f3a"
             ],
             [
              0.8888888888888888,
              "#fdca26"
             ],
             [
              1,
              "#f0f921"
             ]
            ],
            "type": "histogram2dcontour"
           }
          ],
          "mesh3d": [
           {
            "colorbar": {
             "outlinewidth": 0,
             "ticks": ""
            },
            "type": "mesh3d"
           }
          ],
          "parcoords": [
           {
            "line": {
             "colorbar": {
              "outlinewidth": 0,
              "ticks": ""
             }
            },
            "type": "parcoords"
           }
          ],
          "pie": [
           {
            "automargin": true,
            "type": "pie"
           }
          ],
          "scatter": [
           {
            "fillpattern": {
             "fillmode": "overlay",
             "size": 10,
             "solidity": 0.2
            },
            "type": "scatter"
           }
          ],
          "scatter3d": [
           {
            "line": {
             "colorbar": {
              "outlinewidth": 0,
              "ticks": ""
             }
            },
            "marker": {
             "colorbar": {
              "outlinewidth": 0,
              "ticks": ""
             }
            },
            "type": "scatter3d"
           }
          ],
          "scattercarpet": [
           {
            "marker": {
             "colorbar": {
              "outlinewidth": 0,
              "ticks": ""
             }
            },
            "type": "scattercarpet"
           }
          ],
          "scattergeo": [
           {
            "marker": {
             "colorbar": {
              "outlinewidth": 0,
              "ticks": ""
             }
            },
            "type": "scattergeo"
           }
          ],
          "scattergl": [
           {
            "marker": {
             "colorbar": {
              "outlinewidth": 0,
              "ticks": ""
             }
            },
            "type": "scattergl"
           }
          ],
          "scattermapbox": [
           {
            "marker": {
             "colorbar": {
              "outlinewidth": 0,
              "ticks": ""
             }
            },
            "type": "scattermapbox"
           }
          ],
          "scatterpolar": [
           {
            "marker": {
             "colorbar": {
              "outlinewidth": 0,
              "ticks": ""
             }
            },
            "type": "scatterpolar"
           }
          ],
          "scatterpolargl": [
           {
            "marker": {
             "colorbar": {
              "outlinewidth": 0,
              "ticks": ""
             }
            },
            "type": "scatterpolargl"
           }
          ],
          "scatterternary": [
           {
            "marker": {
             "colorbar": {
              "outlinewidth": 0,
              "ticks": ""
             }
            },
            "type": "scatterternary"
           }
          ],
          "surface": [
           {
            "colorbar": {
             "outlinewidth": 0,
             "ticks": ""
            },
            "colorscale": [
             [
              0,
              "#0d0887"
             ],
             [
              0.1111111111111111,
              "#46039f"
             ],
             [
              0.2222222222222222,
              "#7201a8"
             ],
             [
              0.3333333333333333,
              "#9c179e"
             ],
             [
              0.4444444444444444,
              "#bd3786"
             ],
             [
              0.5555555555555556,
              "#d8576b"
             ],
             [
              0.6666666666666666,
              "#ed7953"
             ],
             [
              0.7777777777777778,
              "#fb9f3a"
             ],
             [
              0.8888888888888888,
              "#fdca26"
             ],
             [
              1,
              "#f0f921"
             ]
            ],
            "type": "surface"
           }
          ],
          "table": [
           {
            "cells": {
             "fill": {
              "color": "#EBF0F8"
             },
             "line": {
              "color": "white"
             }
            },
            "header": {
             "fill": {
              "color": "#C8D4E3"
             },
             "line": {
              "color": "white"
             }
            },
            "type": "table"
           }
          ]
         },
         "layout": {
          "annotationdefaults": {
           "arrowcolor": "#2a3f5f",
           "arrowhead": 0,
           "arrowwidth": 1
          },
          "autotypenumbers": "strict",
          "coloraxis": {
           "colorbar": {
            "outlinewidth": 0,
            "ticks": ""
           }
          },
          "colorscale": {
           "diverging": [
            [
             0,
             "#8e0152"
            ],
            [
             0.1,
             "#c51b7d"
            ],
            [
             0.2,
             "#de77ae"
            ],
            [
             0.3,
             "#f1b6da"
            ],
            [
             0.4,
             "#fde0ef"
            ],
            [
             0.5,
             "#f7f7f7"
            ],
            [
             0.6,
             "#e6f5d0"
            ],
            [
             0.7,
             "#b8e186"
            ],
            [
             0.8,
             "#7fbc41"
            ],
            [
             0.9,
             "#4d9221"
            ],
            [
             1,
             "#276419"
            ]
           ],
           "sequential": [
            [
             0,
             "#0d0887"
            ],
            [
             0.1111111111111111,
             "#46039f"
            ],
            [
             0.2222222222222222,
             "#7201a8"
            ],
            [
             0.3333333333333333,
             "#9c179e"
            ],
            [
             0.4444444444444444,
             "#bd3786"
            ],
            [
             0.5555555555555556,
             "#d8576b"
            ],
            [
             0.6666666666666666,
             "#ed7953"
            ],
            [
             0.7777777777777778,
             "#fb9f3a"
            ],
            [
             0.8888888888888888,
             "#fdca26"
            ],
            [
             1,
             "#f0f921"
            ]
           ],
           "sequentialminus": [
            [
             0,
             "#0d0887"
            ],
            [
             0.1111111111111111,
             "#46039f"
            ],
            [
             0.2222222222222222,
             "#7201a8"
            ],
            [
             0.3333333333333333,
             "#9c179e"
            ],
            [
             0.4444444444444444,
             "#bd3786"
            ],
            [
             0.5555555555555556,
             "#d8576b"
            ],
            [
             0.6666666666666666,
             "#ed7953"
            ],
            [
             0.7777777777777778,
             "#fb9f3a"
            ],
            [
             0.8888888888888888,
             "#fdca26"
            ],
            [
             1,
             "#f0f921"
            ]
           ]
          },
          "colorway": [
           "#636efa",
           "#EF553B",
           "#00cc96",
           "#ab63fa",
           "#FFA15A",
           "#19d3f3",
           "#FF6692",
           "#B6E880",
           "#FF97FF",
           "#FECB52"
          ],
          "font": {
           "color": "#2a3f5f"
          },
          "geo": {
           "bgcolor": "white",
           "lakecolor": "white",
           "landcolor": "#E5ECF6",
           "showlakes": true,
           "showland": true,
           "subunitcolor": "white"
          },
          "hoverlabel": {
           "align": "left"
          },
          "hovermode": "closest",
          "mapbox": {
           "style": "light"
          },
          "paper_bgcolor": "white",
          "plot_bgcolor": "#E5ECF6",
          "polar": {
           "angularaxis": {
            "gridcolor": "white",
            "linecolor": "white",
            "ticks": ""
           },
           "bgcolor": "#E5ECF6",
           "radialaxis": {
            "gridcolor": "white",
            "linecolor": "white",
            "ticks": ""
           }
          },
          "scene": {
           "xaxis": {
            "backgroundcolor": "#E5ECF6",
            "gridcolor": "white",
            "gridwidth": 2,
            "linecolor": "white",
            "showbackground": true,
            "ticks": "",
            "zerolinecolor": "white"
           },
           "yaxis": {
            "backgroundcolor": "#E5ECF6",
            "gridcolor": "white",
            "gridwidth": 2,
            "linecolor": "white",
            "showbackground": true,
            "ticks": "",
            "zerolinecolor": "white"
           },
           "zaxis": {
            "backgroundcolor": "#E5ECF6",
            "gridcolor": "white",
            "gridwidth": 2,
            "linecolor": "white",
            "showbackground": true,
            "ticks": "",
            "zerolinecolor": "white"
           }
          },
          "shapedefaults": {
           "line": {
            "color": "#2a3f5f"
           }
          },
          "ternary": {
           "aaxis": {
            "gridcolor": "white",
            "linecolor": "white",
            "ticks": ""
           },
           "baxis": {
            "gridcolor": "white",
            "linecolor": "white",
            "ticks": ""
           },
           "bgcolor": "#E5ECF6",
           "caxis": {
            "gridcolor": "white",
            "linecolor": "white",
            "ticks": ""
           }
          },
          "title": {
           "x": 0.05
          },
          "xaxis": {
           "automargin": true,
           "gridcolor": "white",
           "linecolor": "white",
           "ticks": "",
           "title": {
            "standoff": 15
           },
           "zerolinecolor": "white",
           "zerolinewidth": 2
          },
          "yaxis": {
           "automargin": true,
           "gridcolor": "white",
           "linecolor": "white",
           "ticks": "",
           "title": {
            "standoff": 15
           },
           "zerolinecolor": "white",
           "zerolinewidth": 2
          }
         }
        },
        "title": {
         "text": "Dataset machine 314"
        },
        "width": 1280,
        "xaxis": {
         "anchor": "y",
         "domain": [
          0,
          1
         ],
         "matches": "x3",
         "showticklabels": false
        },
        "xaxis2": {
         "anchor": "y2",
         "domain": [
          0,
          1
         ],
         "matches": "x3",
         "showticklabels": false
        },
        "xaxis3": {
         "anchor": "y3",
         "domain": [
          0,
          1
         ]
        },
        "yaxis": {
         "anchor": "x",
         "domain": [
          0.7066666666666667,
          1
         ]
        },
        "yaxis2": {
         "anchor": "x2",
         "domain": [
          0.35333333333333333,
          0.6466666666666667
         ]
        },
        "yaxis3": {
         "anchor": "x3",
         "domain": [
          0,
          0.29333333333333333
         ]
        }
       }
      }
     },
     "metadata": {},
     "output_type": "display_data"
    },
    {
     "data": {
      "application/vnd.plotly.v1+json": {
       "config": {
        "plotlyServerURL": "https://plot.ly"
       },
       "data": [
        {
         "marker": {
          "color": "blue",
          "size": 10
         },
         "mode": "markers+lines",
         "name": "1162200FE5Z14127-F Energy",
         "text": [
          null,
          null,
          80253.4
         ],
         "type": "scatter",
         "x": [
          "2023-07-31",
          "2023-08-01",
          "2023-08-02"
         ],
         "xaxis": "x",
         "y": [
          null,
          null,
          80253.4
         ],
         "yaxis": "y"
        },
        {
         "marker": {
          "color": "blue",
          "size": 10
         },
         "mode": "markers+lines",
         "name": "1162200FE5Z14127-F Productions",
         "text": [
          86,
          366,
          12
         ],
         "type": "scatter",
         "x": [
          "2023-07-31",
          "2023-08-01",
          "2023-08-02"
         ],
         "xaxis": "x3",
         "y": [
          86,
          366,
          12
         ],
         "yaxis": "y3"
        },
        {
         "marker": {
          "color": "blue",
          "size": 10
         },
         "mode": "markers+lines",
         "name": "1162200FE5Z14127-F Stops",
         "text": [
          "Unknown",
          "Manutenzione ordinaria",
          "Sostituzione utensile"
         ],
         "type": "scatter",
         "x": [
          "2023-07-31",
          "2023-08-01",
          "2023-08-02"
         ],
         "xaxis": "x2",
         "y": [
          null,
          2,
          1
         ],
         "yaxis": "y2"
        },
        {
         "marker": {
          "color": "green",
          "size": 10
         },
         "mode": "markers+lines",
         "name": "112210039NL1A10375 Energy",
         "text": [
          80253.4,
          65418.7,
          null,
          null,
          null,
          null,
          null,
          null,
          null,
          0,
          null,
          null,
          179986.8,
          179986.8,
          250618.6,
          250618.6,
          null,
          176934.8,
          259003.8,
          259003.8,
          156558.9,
          156558.9,
          78565.8,
          106782.5,
          106782.5,
          215534.3,
          215534.3,
          211960.6,
          null
         ],
         "type": "scatter",
         "x": [
          "2023-08-02",
          "2023-08-03",
          "2023-08-04",
          "2023-08-07",
          "2023-08-08",
          "2023-08-09",
          "2023-08-10",
          "2023-08-11",
          "2023-08-28",
          "2023-08-29",
          "2022-11-29",
          "2022-11-30",
          "2022-12-01",
          "2022-12-01",
          "2022-12-02",
          "2022-12-02",
          "2022-12-03",
          "2022-12-05",
          "2022-12-06",
          "2022-12-06",
          "2022-12-07",
          "2022-12-07",
          "2022-12-12",
          "2022-12-20",
          "2022-12-20",
          "2022-12-21",
          "2022-12-21",
          "2022-12-22",
          "2022-12-23"
         ],
         "xaxis": "x",
         "y": [
          80253.4,
          65418.7,
          null,
          null,
          null,
          null,
          null,
          null,
          null,
          0,
          null,
          null,
          179986.8,
          179986.8,
          250618.6,
          250618.6,
          null,
          176934.8,
          259003.8,
          259003.8,
          156558.9,
          156558.9,
          78565.8,
          106782.5,
          106782.5,
          215534.3,
          215534.3,
          211960.6,
          null
         ],
         "yaxis": "y"
        },
        {
         "marker": {
          "color": "green",
          "size": 10
         },
         "mode": "markers+lines",
         "name": "112210039NL1A10375 Productions",
         "text": [
          0,
          0,
          160,
          672,
          560,
          590,
          638,
          2010,
          672,
          320,
          0,
          308,
          594,
          594,
          961,
          961,
          726,
          690,
          932,
          932,
          496,
          496,
          0,
          192,
          192,
          837,
          837,
          810,
          0
         ],
         "type": "scatter",
         "x": [
          "2023-08-02",
          "2023-08-03",
          "2023-08-04",
          "2023-08-07",
          "2023-08-08",
          "2023-08-09",
          "2023-08-10",
          "2023-08-11",
          "2023-08-28",
          "2023-08-29",
          "2022-11-29",
          "2022-11-30",
          "2022-12-01",
          "2022-12-01",
          "2022-12-02",
          "2022-12-02",
          "2022-12-03",
          "2022-12-05",
          "2022-12-06",
          "2022-12-06",
          "2022-12-07",
          "2022-12-07",
          "2022-12-12",
          "2022-12-20",
          "2022-12-20",
          "2022-12-21",
          "2022-12-21",
          "2022-12-22",
          "2022-12-23"
         ],
         "xaxis": "x3",
         "y": [
          0,
          0,
          160,
          672,
          560,
          590,
          638,
          2010,
          672,
          320,
          0,
          308,
          594,
          594,
          961,
          961,
          726,
          690,
          932,
          932,
          496,
          496,
          0,
          192,
          192,
          837,
          837,
          810,
          0
         ],
         "yaxis": "y3"
        },
        {
         "marker": {
          "color": "green",
          "size": 10
         },
         "mode": "markers+lines",
         "name": "112210039NL1A10375 Stops",
         "text": [
          "Sostituzione utensile",
          "Manutenzione straordinaria",
          "Manutenzione straordinaria",
          "Unknown",
          "Sostituzione utensile",
          "Sostituzione utensile",
          "Sostituzione utensile",
          "Unknown",
          "Unknown",
          "Sostituzione utensile",
          "Unknown",
          "Unknown",
          "Manutenzione straordinaria",
          "Sostituzione utensile",
          "Manutenzione ordinaria",
          "Sostituzione utensile",
          "Sostituzione utensile",
          "Sostituzione utensile",
          "Manutenzione ordinaria",
          "Sostituzione utensile",
          "Manutenzione ordinaria",
          "Sostituzione utensile",
          "Sostituzione utensile",
          "Manutenzione ordinaria",
          "Sostituzione utensile",
          "Manutenzione ordinaria",
          "Sostituzione utensile",
          "Manutenzione ordinaria",
          "Manutenzione ordinaria"
         ],
         "type": "scatter",
         "x": [
          "2023-08-02",
          "2023-08-03",
          "2023-08-04",
          "2023-08-07",
          "2023-08-08",
          "2023-08-09",
          "2023-08-10",
          "2023-08-11",
          "2023-08-28",
          "2023-08-29",
          "2022-11-29",
          "2022-11-30",
          "2022-12-01",
          "2022-12-01",
          "2022-12-02",
          "2022-12-02",
          "2022-12-03",
          "2022-12-05",
          "2022-12-06",
          "2022-12-06",
          "2022-12-07",
          "2022-12-07",
          "2022-12-12",
          "2022-12-20",
          "2022-12-20",
          "2022-12-21",
          "2022-12-21",
          "2022-12-22",
          "2022-12-23"
         ],
         "xaxis": "x2",
         "y": [
          1,
          1,
          1,
          null,
          3,
          3,
          3,
          null,
          null,
          1,
          null,
          null,
          1,
          2,
          4,
          6,
          1,
          3,
          4,
          3,
          3,
          3,
          1,
          2,
          1,
          3,
          2,
          2,
          2
         ],
         "yaxis": "y2"
        },
        {
         "marker": {
          "color": "black",
          "size": 10
         },
         "mode": "markers+lines",
         "name": "Unknown Energy",
         "text": [
          0,
          0,
          0,
          0.1,
          0,
          0,
          0,
          0,
          null,
          null,
          0,
          0,
          237687.4,
          237687.4,
          237561.6,
          237561.6,
          null,
          null,
          null,
          null,
          null,
          null,
          226186.8,
          223221.2,
          223221.2,
          174720.7,
          0,
          0,
          null,
          null,
          null,
          167176.8,
          null,
          null,
          4.2,
          4.1000000000000005,
          0,
          0.1,
          0,
          23127.1,
          0,
          0.2,
          null,
          null,
          null,
          null,
          null,
          0
         ],
         "type": "scatter",
         "x": [
          "2023-08-15",
          "2023-08-16",
          "2023-08-17",
          "2023-08-18",
          "2023-08-19",
          "2023-08-20",
          "2023-08-21",
          "2023-08-22",
          "2023-08-30",
          "2023-08-30",
          "2023-08-31",
          "2023-03-05",
          "2023-03-14",
          "2023-03-14",
          "2023-03-15",
          "2023-03-15",
          "2023-03-16",
          "2023-03-17",
          "2023-03-17",
          "2023-03-18",
          "2023-03-18",
          "2023-03-20",
          "2023-03-21",
          "2023-03-22",
          "2023-03-22",
          "2023-03-23",
          "2023-03-24",
          "2023-03-25",
          "2023-03-27",
          "2023-03-28",
          "2023-03-29",
          "2023-03-30",
          "2023-03-31",
          "2023-03-31",
          "2022-12-09",
          "2022-12-10",
          "2022-12-11",
          "2022-12-18",
          "2022-12-28",
          "2022-12-29",
          "2022-12-31",
          "2023-06-18",
          "2023-06-26",
          "2023-06-26",
          "2023-06-27",
          "2023-06-28",
          "2023-06-28",
          "2023-06-30"
         ],
         "xaxis": "x",
         "y": [
          0,
          0,
          0,
          0.1,
          0,
          0,
          0,
          0,
          null,
          null,
          0,
          0,
          237687.4,
          237687.4,
          237561.6,
          237561.6,
          null,
          null,
          null,
          null,
          null,
          null,
          226186.8,
          223221.2,
          223221.2,
          174720.7,
          0,
          0,
          null,
          null,
          null,
          167176.8,
          null,
          null,
          4.2,
          4.1000000000000005,
          0,
          0.1,
          0,
          23127.1,
          0,
          0.2,
          null,
          null,
          null,
          null,
          null,
          0
         ],
         "yaxis": "y"
        },
        {
         "marker": {
          "color": "black",
          "size": 10
         },
         "mode": "markers+lines",
         "name": "Unknown Productions",
         "text": [
          null,
          null,
          null,
          null,
          null,
          null,
          null,
          null,
          null,
          null,
          null,
          null,
          null,
          null,
          null,
          null,
          null,
          null,
          null,
          null,
          null,
          null,
          null,
          null,
          null,
          null,
          null,
          null,
          null,
          null,
          null,
          null,
          null,
          null,
          null,
          null,
          null,
          null,
          null,
          null,
          null,
          null,
          null,
          null,
          null,
          null,
          null,
          null
         ],
         "type": "scatter",
         "x": [
          "2023-08-15",
          "2023-08-16",
          "2023-08-17",
          "2023-08-18",
          "2023-08-19",
          "2023-08-20",
          "2023-08-21",
          "2023-08-22",
          "2023-08-30",
          "2023-08-30",
          "2023-08-31",
          "2023-03-05",
          "2023-03-14",
          "2023-03-14",
          "2023-03-15",
          "2023-03-15",
          "2023-03-16",
          "2023-03-17",
          "2023-03-17",
          "2023-03-18",
          "2023-03-18",
          "2023-03-20",
          "2023-03-21",
          "2023-03-22",
          "2023-03-22",
          "2023-03-23",
          "2023-03-24",
          "2023-03-25",
          "2023-03-27",
          "2023-03-28",
          "2023-03-29",
          "2023-03-30",
          "2023-03-31",
          "2023-03-31",
          "2022-12-09",
          "2022-12-10",
          "2022-12-11",
          "2022-12-18",
          "2022-12-28",
          "2022-12-29",
          "2022-12-31",
          "2023-06-18",
          "2023-06-26",
          "2023-06-26",
          "2023-06-27",
          "2023-06-28",
          "2023-06-28",
          "2023-06-30"
         ],
         "xaxis": "x3",
         "y": [
          null,
          null,
          null,
          null,
          null,
          null,
          null,
          null,
          null,
          null,
          null,
          null,
          null,
          null,
          null,
          null,
          null,
          null,
          null,
          null,
          null,
          null,
          null,
          null,
          null,
          null,
          null,
          null,
          null,
          null,
          null,
          null,
          null,
          null,
          null,
          null,
          null,
          null,
          null,
          null,
          null,
          null,
          null,
          null,
          null,
          null,
          null,
          null
         ],
         "yaxis": "y3"
        },
        {
         "marker": {
          "color": "black",
          "size": 10
         },
         "mode": "markers+lines",
         "name": "Unknown Stops",
         "text": [
          "Unknown",
          "Unknown",
          "Unknown",
          "Unknown",
          "Unknown",
          "Unknown",
          "Unknown",
          "Unknown",
          "Manutenzione ordinaria",
          "Sostituzione utensile",
          "Sostituzione utensile",
          "Unknown",
          "Manutenzione ordinaria",
          "Sostituzione utensile",
          "Manutenzione ordinaria",
          "Sostituzione utensile",
          "Sostituzione utensile",
          "Manutenzione ordinaria",
          "Sostituzione utensile",
          "Manutenzione ordinaria",
          "Sostituzione utensile",
          "Sostituzione utensile",
          "Manutenzione ordinaria",
          "Manutenzione ordinaria",
          "Sostituzione utensile",
          "Sostituzione utensile",
          "Sostituzione utensile",
          "Manutenzione ordinaria",
          "Sostituzione utensile",
          "Manutenzione ordinaria",
          "Manutenzione ordinaria",
          "Manutenzione ordinaria",
          "Manutenzione ordinaria",
          "Sostituzione utensile",
          "Unknown",
          "Unknown",
          "Unknown",
          "Unknown",
          "Unknown",
          "Unknown",
          "Unknown",
          "Unknown",
          "Manutenzione ordinaria",
          "Manutenzione straordinaria",
          "Sostituzione utensile",
          "Manutenzione ordinaria",
          "Sostituzione utensile",
          "Unknown"
         ],
         "type": "scatter",
         "x": [
          "2023-08-15",
          "2023-08-16",
          "2023-08-17",
          "2023-08-18",
          "2023-08-19",
          "2023-08-20",
          "2023-08-21",
          "2023-08-22",
          "2023-08-30",
          "2023-08-30",
          "2023-08-31",
          "2023-03-05",
          "2023-03-14",
          "2023-03-14",
          "2023-03-15",
          "2023-03-15",
          "2023-03-16",
          "2023-03-17",
          "2023-03-17",
          "2023-03-18",
          "2023-03-18",
          "2023-03-20",
          "2023-03-21",
          "2023-03-22",
          "2023-03-22",
          "2023-03-23",
          "2023-03-24",
          "2023-03-25",
          "2023-03-27",
          "2023-03-28",
          "2023-03-29",
          "2023-03-30",
          "2023-03-31",
          "2023-03-31",
          "2022-12-09",
          "2022-12-10",
          "2022-12-11",
          "2022-12-18",
          "2022-12-28",
          "2022-12-29",
          "2022-12-31",
          "2023-06-18",
          "2023-06-26",
          "2023-06-26",
          "2023-06-27",
          "2023-06-28",
          "2023-06-28",
          "2023-06-30"
         ],
         "xaxis": "x2",
         "y": [
          null,
          null,
          null,
          null,
          null,
          null,
          null,
          null,
          2,
          4,
          2,
          null,
          1,
          2,
          2,
          1,
          3,
          3,
          2,
          1,
          3,
          2,
          3,
          2,
          1,
          2,
          1,
          4,
          1,
          3,
          2,
          3,
          2,
          1,
          null,
          null,
          null,
          null,
          null,
          null,
          null,
          null,
          1,
          1,
          3,
          1,
          1,
          null
         ],
         "yaxis": "y2"
        },
        {
         "marker": {
          "color": "#00FFFF",
          "size": 10
         },
         "mode": "markers+lines",
         "name": "112210039NL1320245 Energy",
         "text": [
          null,
          null,
          220286.6,
          null,
          null,
          229820,
          229820,
          103429.2,
          103429.2,
          128246,
          null
         ],
         "type": "scatter",
         "x": [
          "2023-02-27",
          "2023-02-28",
          "2023-03-01",
          "2023-03-02",
          "2023-03-02",
          "2023-03-03",
          "2023-03-03",
          "2023-03-04",
          "2023-03-04",
          "2023-03-06",
          "2023-05-30"
         ],
         "xaxis": "x",
         "y": [
          null,
          null,
          220286.6,
          null,
          null,
          229820,
          229820,
          103429.2,
          103429.2,
          128246,
          null
         ],
         "yaxis": "y"
        },
        {
         "marker": {
          "color": "#00FFFF",
          "size": 10
         },
         "mode": "markers+lines",
         "name": "112210039NL1320245 Productions",
         "text": [
          294,
          893,
          831,
          759,
          759,
          886,
          886,
          543,
          543,
          170,
          321
         ],
         "type": "scatter",
         "x": [
          "2023-02-27",
          "2023-02-28",
          "2023-03-01",
          "2023-03-02",
          "2023-03-02",
          "2023-03-03",
          "2023-03-03",
          "2023-03-04",
          "2023-03-04",
          "2023-03-06",
          "2023-05-30"
         ],
         "xaxis": "x3",
         "y": [
          294,
          893,
          831,
          759,
          759,
          886,
          886,
          543,
          543,
          170,
          321
         ],
         "yaxis": "y3"
        },
        {
         "marker": {
          "color": "#00FFFF",
          "size": 10
         },
         "mode": "markers+lines",
         "name": "112210039NL1320245 Stops",
         "text": [
          "Unknown",
          "Unknown",
          "Unknown",
          "Manutenzione ordinaria",
          "Sostituzione utensile",
          "Manutenzione ordinaria",
          "Sostituzione utensile",
          "Manutenzione ordinaria",
          "Sostituzione utensile",
          "Unknown",
          "Unknown"
         ],
         "type": "scatter",
         "x": [
          "2023-02-27",
          "2023-02-28",
          "2023-03-01",
          "2023-03-02",
          "2023-03-02",
          "2023-03-03",
          "2023-03-03",
          "2023-03-04",
          "2023-03-04",
          "2023-03-06",
          "2023-05-30"
         ],
         "xaxis": "x2",
         "y": [
          null,
          null,
          null,
          1,
          3,
          2,
          2,
          5,
          2,
          null,
          null
         ],
         "yaxis": "y2"
        },
        {
         "marker": {
          "color": "#FFFF00",
          "size": 10
         },
         "mode": "markers+lines",
         "name": "112210039NC1834016 Energy",
         "text": [
          128246,
          222285.3,
          222285.3,
          212734.7,
          212734.7,
          null
         ],
         "type": "scatter",
         "x": [
          "2023-03-06",
          "2023-03-07",
          "2023-03-07",
          "2023-03-08",
          "2023-03-08",
          "2023-03-09"
         ],
         "xaxis": "x",
         "y": [
          128246,
          222285.3,
          222285.3,
          212734.7,
          212734.7,
          null
         ],
         "yaxis": "y"
        },
        {
         "marker": {
          "color": "#FFFF00",
          "size": 10
         },
         "mode": "markers+lines",
         "name": "112210039NC1834016 Productions",
         "text": [
          384,
          1419,
          1419,
          1153,
          1153,
          368
         ],
         "type": "scatter",
         "x": [
          "2023-03-06",
          "2023-03-07",
          "2023-03-07",
          "2023-03-08",
          "2023-03-08",
          "2023-03-09"
         ],
         "xaxis": "x3",
         "y": [
          384,
          1419,
          1419,
          1153,
          1153,
          368
         ],
         "yaxis": "y3"
        },
        {
         "marker": {
          "color": "#FFFF00",
          "size": 10
         },
         "mode": "markers+lines",
         "name": "112210039NC1834016 Stops",
         "text": [
          "Unknown",
          "Manutenzione ordinaria",
          "Sostituzione utensile",
          "Manutenzione ordinaria",
          "Sostituzione utensile",
          "Sostituzione utensile"
         ],
         "type": "scatter",
         "x": [
          "2023-03-06",
          "2023-03-07",
          "2023-03-07",
          "2023-03-08",
          "2023-03-08",
          "2023-03-09"
         ],
         "xaxis": "x2",
         "y": [
          null,
          1,
          3,
          2,
          2,
          1
         ],
         "yaxis": "y2"
        },
        {
         "marker": {
          "color": "#880000",
          "size": 10
         },
         "mode": "markers+lines",
         "name": "112210039NC1834016G Energy",
         "text": [
          212734.7,
          212734.7
         ],
         "type": "scatter",
         "x": [
          "2023-03-08",
          "2023-03-08"
         ],
         "xaxis": "x",
         "y": [
          212734.7,
          212734.7
         ],
         "yaxis": "y"
        },
        {
         "marker": {
          "color": "#880000",
          "size": 10
         },
         "mode": "markers+lines",
         "name": "112210039NC1834016G Productions",
         "text": [
          108,
          108
         ],
         "type": "scatter",
         "x": [
          "2023-03-08",
          "2023-03-08"
         ],
         "xaxis": "x3",
         "y": [
          108,
          108
         ],
         "yaxis": "y3"
        },
        {
         "marker": {
          "color": "#880000",
          "size": 10
         },
         "mode": "markers+lines",
         "name": "112210039NC1834016G Stops",
         "text": [
          "Manutenzione ordinaria",
          "Sostituzione utensile"
         ],
         "type": "scatter",
         "x": [
          "2023-03-08",
          "2023-03-08"
         ],
         "xaxis": "x2",
         "y": [
          2,
          2
         ],
         "yaxis": "y2"
        },
        {
         "marker": {
          "color": "blue",
          "size": 10
         },
         "mode": "markers+lines",
         "name": "112210039NL1010249 Energy",
         "text": [
          null,
          null,
          null,
          0
         ],
         "type": "scatter",
         "x": [
          "2023-03-09",
          "2023-03-10",
          "2023-03-10",
          "2023-03-11"
         ],
         "xaxis": "x",
         "y": [
          null,
          null,
          null,
          0
         ],
         "yaxis": "y"
        },
        {
         "marker": {
          "color": "blue",
          "size": 10
         },
         "mode": "markers+lines",
         "name": "112210039NL1010249 Productions",
         "text": [
          717,
          1347,
          1347,
          742
         ],
         "type": "scatter",
         "x": [
          "2023-03-09",
          "2023-03-10",
          "2023-03-10",
          "2023-03-11"
         ],
         "xaxis": "x3",
         "y": [
          717,
          1347,
          1347,
          742
         ],
         "yaxis": "y3"
        },
        {
         "marker": {
          "color": "blue",
          "size": 10
         },
         "mode": "markers+lines",
         "name": "112210039NL1010249 Stops",
         "text": [
          "Sostituzione utensile",
          "Manutenzione ordinaria",
          "Sostituzione utensile",
          "Unknown"
         ],
         "type": "scatter",
         "x": [
          "2023-03-09",
          "2023-03-10",
          "2023-03-10",
          "2023-03-11"
         ],
         "xaxis": "x2",
         "y": [
          1,
          1,
          1,
          null
         ],
         "yaxis": "y2"
        },
        {
         "marker": {
          "color": "green",
          "size": 10
         },
         "mode": "markers+lines",
         "name": "1139000ETG516600017B Energy",
         "text": [
          null
         ],
         "type": "scatter",
         "x": [
          "2022-11-28"
         ],
         "xaxis": "x",
         "y": [
          null
         ],
         "yaxis": "y"
        },
        {
         "marker": {
          "color": "green",
          "size": 10
         },
         "mode": "markers+lines",
         "name": "1139000ETG516600017B Productions",
         "text": [
          195
         ],
         "type": "scatter",
         "x": [
          "2022-11-28"
         ],
         "xaxis": "x3",
         "y": [
          195
         ],
         "yaxis": "y3"
        },
        {
         "marker": {
          "color": "green",
          "size": 10
         },
         "mode": "markers+lines",
         "name": "1139000ETG516600017B Stops",
         "text": [
          "Unknown"
         ],
         "type": "scatter",
         "x": [
          "2022-11-28"
         ],
         "xaxis": "x2",
         "y": [
          null
         ],
         "yaxis": "y2"
        },
        {
         "marker": {
          "color": "#FF0000",
          "size": 10
         },
         "mode": "markers+lines",
         "name": "112210039NC1764355 Energy",
         "text": [
          78565.8,
          164273.3,
          41403.6,
          0,
          195120.8,
          195120.8,
          84276.5,
          110023
         ],
         "type": "scatter",
         "x": [
          "2022-12-12",
          "2022-12-13",
          "2022-12-14",
          "2022-12-15",
          "2022-12-16",
          "2022-12-16",
          "2022-12-17",
          "2022-12-19"
         ],
         "xaxis": "x",
         "y": [
          78565.8,
          164273.3,
          41403.6,
          0,
          195120.8,
          195120.8,
          84276.5,
          110023
         ],
         "yaxis": "y"
        },
        {
         "marker": {
          "color": "#FF0000",
          "size": 10
         },
         "mode": "markers+lines",
         "name": "112210039NC1764355 Productions",
         "text": [
          170,
          750,
          714,
          656,
          1069,
          1069,
          768,
          388
         ],
         "type": "scatter",
         "x": [
          "2022-12-12",
          "2022-12-13",
          "2022-12-14",
          "2022-12-15",
          "2022-12-16",
          "2022-12-16",
          "2022-12-17",
          "2022-12-19"
         ],
         "xaxis": "x3",
         "y": [
          170,
          750,
          714,
          656,
          1069,
          1069,
          768,
          388
         ],
         "yaxis": "y3"
        },
        {
         "marker": {
          "color": "#FF0000",
          "size": 10
         },
         "mode": "markers+lines",
         "name": "112210039NC1764355 Stops",
         "text": [
          "Sostituzione utensile",
          "Sostituzione utensile",
          "Sostituzione utensile",
          "Sostituzione utensile",
          "Manutenzione ordinaria",
          "Sostituzione utensile",
          "Sostituzione utensile",
          "Sostituzione utensile"
         ],
         "type": "scatter",
         "x": [
          "2022-12-12",
          "2022-12-13",
          "2022-12-14",
          "2022-12-15",
          "2022-12-16",
          "2022-12-16",
          "2022-12-17",
          "2022-12-19"
         ],
         "xaxis": "x2",
         "y": [
          1,
          2,
          4,
          4,
          1,
          4,
          1,
          1
         ],
         "yaxis": "y2"
        },
        {
         "marker": {
          "color": "#00FFFF",
          "size": 10
         },
         "mode": "markers+lines",
         "name": "112210039NL1430138 Energy",
         "text": [
          110023,
          106782.5,
          106782.5
         ],
         "type": "scatter",
         "x": [
          "2022-12-19",
          "2022-12-20",
          "2022-12-20"
         ],
         "xaxis": "x",
         "y": [
          110023,
          106782.5,
          106782.5
         ],
         "yaxis": "y"
        },
        {
         "marker": {
          "color": "#00FFFF",
          "size": 10
         },
         "mode": "markers+lines",
         "name": "112210039NL1430138 Productions",
         "text": [
          169,
          134,
          134
         ],
         "type": "scatter",
         "x": [
          "2022-12-19",
          "2022-12-20",
          "2022-12-20"
         ],
         "xaxis": "x3",
         "y": [
          169,
          134,
          134
         ],
         "yaxis": "y3"
        },
        {
         "marker": {
          "color": "#00FFFF",
          "size": 10
         },
         "mode": "markers+lines",
         "name": "112210039NL1430138 Stops",
         "text": [
          "Sostituzione utensile",
          "Manutenzione ordinaria",
          "Sostituzione utensile"
         ],
         "type": "scatter",
         "x": [
          "2022-12-19",
          "2022-12-20",
          "2022-12-20"
         ],
         "xaxis": "x2",
         "y": [
          1,
          2,
          1
         ],
         "yaxis": "y2"
        },
        {
         "marker": {
          "color": "#FFFF00",
          "size": 10
         },
         "mode": "markers+lines",
         "name": "1084600PR82068602 Energy",
         "text": [
          106782.5,
          106782.5,
          null,
          30177.8
         ],
         "type": "scatter",
         "x": [
          "2022-12-20",
          "2022-12-20",
          "2022-12-23",
          "2022-12-27"
         ],
         "xaxis": "x",
         "y": [
          106782.5,
          106782.5,
          null,
          30177.8
         ],
         "yaxis": "y"
        },
        {
         "marker": {
          "color": "#FFFF00",
          "size": 10
         },
         "mode": "markers+lines",
         "name": "1084600PR82068602 Productions",
         "text": [
          0,
          0,
          788,
          172
         ],
         "type": "scatter",
         "x": [
          "2022-12-20",
          "2022-12-20",
          "2022-12-23",
          "2022-12-27"
         ],
         "xaxis": "x3",
         "y": [
          0,
          0,
          788,
          172
         ],
         "yaxis": "y3"
        },
        {
         "marker": {
          "color": "#FFFF00",
          "size": 10
         },
         "mode": "markers+lines",
         "name": "1084600PR82068602 Stops",
         "text": [
          "Manutenzione ordinaria",
          "Sostituzione utensile",
          "Manutenzione ordinaria",
          "Manutenzione ordinaria"
         ],
         "type": "scatter",
         "x": [
          "2022-12-20",
          "2022-12-20",
          "2022-12-23",
          "2022-12-27"
         ],
         "xaxis": "x2",
         "y": [
          2,
          1,
          2,
          1
         ],
         "yaxis": "y2"
        },
        {
         "marker": {
          "color": "#880000",
          "size": 10
         },
         "mode": "markers+lines",
         "name": "1084600PR82088011 Energy",
         "text": [
          80271.7
         ],
         "type": "scatter",
         "x": [
          "2022-12-30"
         ],
         "xaxis": "x",
         "y": [
          80271.7
         ],
         "yaxis": "y"
        },
        {
         "marker": {
          "color": "#880000",
          "size": 10
         },
         "mode": "markers+lines",
         "name": "1084600PR82088011 Productions",
         "text": [
          45
         ],
         "type": "scatter",
         "x": [
          "2022-12-30"
         ],
         "xaxis": "x3",
         "y": [
          45
         ],
         "yaxis": "y3"
        },
        {
         "marker": {
          "color": "#880000",
          "size": 10
         },
         "mode": "markers+lines",
         "name": "1084600PR82088011 Stops",
         "text": [
          "Manutenzione ordinaria"
         ],
         "type": "scatter",
         "x": [
          "2022-12-30"
         ],
         "xaxis": "x2",
         "y": [
          1
         ],
         "yaxis": "y2"
        },
        {
         "marker": {
          "color": "blue",
          "size": 10
         },
         "mode": "markers+lines",
         "name": "1149300FE3014100002 Energy",
         "text": [
          null,
          null,
          null,
          null,
          null,
          null,
          null,
          null,
          null,
          125367.3,
          125367.3,
          17796.5,
          null,
          null,
          221014.5,
          221014.5,
          221014.5,
          126332.7,
          181812.8,
          222037.8,
          214763,
          214763,
          null,
          null,
          228290.6,
          228290.6,
          109468.7,
          204296.6,
          257839.7,
          0,
          220352.3
         ],
         "type": "scatter",
         "x": [
          "2023-05-30",
          "2023-05-31",
          "2023-06-01",
          "2023-06-02",
          "2023-06-03",
          "2023-06-04",
          "2023-06-05",
          "2023-06-06",
          "2023-06-06",
          "2023-06-07",
          "2023-06-07",
          "2023-06-08",
          "2023-06-09",
          "2023-06-09",
          "2023-06-10",
          "2023-06-10",
          "2023-06-10",
          "2023-06-11",
          "2023-06-12",
          "2023-06-13",
          "2023-06-14",
          "2023-06-14",
          "2023-06-15",
          "2023-06-15",
          "2023-06-16",
          "2023-06-16",
          "2023-06-17",
          "2023-06-19",
          "2023-06-20",
          "2023-06-21",
          "2023-06-22"
         ],
         "xaxis": "x",
         "y": [
          null,
          null,
          null,
          null,
          null,
          null,
          null,
          null,
          null,
          125367.3,
          125367.3,
          17796.5,
          null,
          null,
          221014.5,
          221014.5,
          221014.5,
          126332.7,
          181812.8,
          222037.8,
          214763,
          214763,
          null,
          null,
          228290.6,
          228290.6,
          109468.7,
          204296.6,
          257839.7,
          0,
          220352.3
         ],
         "yaxis": "y"
        },
        {
         "marker": {
          "color": "blue",
          "size": 10
         },
         "mode": "markers+lines",
         "name": "1149300FE3014100002 Productions",
         "text": [
          212,
          366,
          684,
          1745,
          2248,
          1390,
          1823,
          1263,
          1263,
          1132,
          1132,
          0,
          430,
          430,
          1073,
          1073,
          1073,
          831,
          1102,
          3456,
          1211,
          1211,
          1156,
          1156,
          1848,
          1848,
          1797,
          1577,
          2358,
          1953,
          834
         ],
         "type": "scatter",
         "x": [
          "2023-05-30",
          "2023-05-31",
          "2023-06-01",
          "2023-06-02",
          "2023-06-03",
          "2023-06-04",
          "2023-06-05",
          "2023-06-06",
          "2023-06-06",
          "2023-06-07",
          "2023-06-07",
          "2023-06-08",
          "2023-06-09",
          "2023-06-09",
          "2023-06-10",
          "2023-06-10",
          "2023-06-10",
          "2023-06-11",
          "2023-06-12",
          "2023-06-13",
          "2023-06-14",
          "2023-06-14",
          "2023-06-15",
          "2023-06-15",
          "2023-06-16",
          "2023-06-16",
          "2023-06-17",
          "2023-06-19",
          "2023-06-20",
          "2023-06-21",
          "2023-06-22"
         ],
         "xaxis": "x3",
         "y": [
          212,
          366,
          684,
          1745,
          2248,
          1390,
          1823,
          1263,
          1263,
          1132,
          1132,
          0,
          430,
          430,
          1073,
          1073,
          1073,
          831,
          1102,
          3456,
          1211,
          1211,
          1156,
          1156,
          1848,
          1848,
          1797,
          1577,
          2358,
          1953,
          834
         ],
         "yaxis": "y3"
        },
        {
         "marker": {
          "color": "blue",
          "size": 10
         },
         "mode": "markers+lines",
         "name": "1149300FE3014100002 Stops",
         "text": [
          "Unknown",
          "Unknown",
          "Unknown",
          "Sostituzione utensile",
          "Sostituzione utensile",
          "Manutenzione ordinaria",
          "Manutenzione ordinaria",
          "Manutenzione ordinaria",
          "Sostituzione utensile",
          "Manutenzione ordinaria",
          "Sostituzione utensile",
          "Manutenzione ordinaria",
          "Manutenzione ordinaria",
          "Sostituzione utensile",
          "Manutenzione ordinaria",
          "Manutenzione straordinaria",
          "Sostituzione utensile",
          "Unknown",
          "Unknown",
          "Sostituzione utensile",
          "Manutenzione ordinaria",
          "Sostituzione utensile",
          "Manutenzione straordinaria",
          "Sostituzione utensile",
          "Manutenzione ordinaria",
          "Sostituzione utensile",
          "Unknown",
          "Manutenzione ordinaria",
          "Manutenzione ordinaria",
          "Manutenzione ordinaria",
          "Manutenzione ordinaria"
         ],
         "type": "scatter",
         "x": [
          "2023-05-30",
          "2023-05-31",
          "2023-06-01",
          "2023-06-02",
          "2023-06-03",
          "2023-06-04",
          "2023-06-05",
          "2023-06-06",
          "2023-06-06",
          "2023-06-07",
          "2023-06-07",
          "2023-06-08",
          "2023-06-09",
          "2023-06-09",
          "2023-06-10",
          "2023-06-10",
          "2023-06-10",
          "2023-06-11",
          "2023-06-12",
          "2023-06-13",
          "2023-06-14",
          "2023-06-14",
          "2023-06-15",
          "2023-06-15",
          "2023-06-16",
          "2023-06-16",
          "2023-06-17",
          "2023-06-19",
          "2023-06-20",
          "2023-06-21",
          "2023-06-22"
         ],
         "xaxis": "x2",
         "y": [
          null,
          null,
          null,
          1,
          2,
          1,
          1,
          2,
          1,
          2,
          1,
          1,
          1,
          1,
          2,
          1,
          1,
          null,
          null,
          3,
          1,
          2,
          1,
          1,
          1,
          1,
          null,
          1,
          1,
          3,
          2
         ],
         "yaxis": "y2"
        }
       ],
       "layout": {
        "annotations": [
         {
          "font": {
           "size": 16
          },
          "showarrow": false,
          "text": "Energy Consumption",
          "x": 0.5,
          "xanchor": "center",
          "xref": "paper",
          "y": 1,
          "yanchor": "bottom",
          "yref": "paper"
         },
         {
          "font": {
           "size": 16
          },
          "showarrow": false,
          "text": "Stops",
          "x": 0.5,
          "xanchor": "center",
          "xref": "paper",
          "y": 0.6466666666666667,
          "yanchor": "bottom",
          "yref": "paper"
         },
         {
          "font": {
           "size": 16
          },
          "showarrow": false,
          "text": "Productions",
          "x": 0.5,
          "xanchor": "center",
          "xref": "paper",
          "y": 0.29333333333333333,
          "yanchor": "bottom",
          "yref": "paper"
         }
        ],
        "height": 800,
        "template": {
         "data": {
          "bar": [
           {
            "error_x": {
             "color": "#2a3f5f"
            },
            "error_y": {
             "color": "#2a3f5f"
            },
            "marker": {
             "line": {
              "color": "#E5ECF6",
              "width": 0.5
             },
             "pattern": {
              "fillmode": "overlay",
              "size": 10,
              "solidity": 0.2
             }
            },
            "type": "bar"
           }
          ],
          "barpolar": [
           {
            "marker": {
             "line": {
              "color": "#E5ECF6",
              "width": 0.5
             },
             "pattern": {
              "fillmode": "overlay",
              "size": 10,
              "solidity": 0.2
             }
            },
            "type": "barpolar"
           }
          ],
          "carpet": [
           {
            "aaxis": {
             "endlinecolor": "#2a3f5f",
             "gridcolor": "white",
             "linecolor": "white",
             "minorgridcolor": "white",
             "startlinecolor": "#2a3f5f"
            },
            "baxis": {
             "endlinecolor": "#2a3f5f",
             "gridcolor": "white",
             "linecolor": "white",
             "minorgridcolor": "white",
             "startlinecolor": "#2a3f5f"
            },
            "type": "carpet"
           }
          ],
          "choropleth": [
           {
            "colorbar": {
             "outlinewidth": 0,
             "ticks": ""
            },
            "type": "choropleth"
           }
          ],
          "contour": [
           {
            "colorbar": {
             "outlinewidth": 0,
             "ticks": ""
            },
            "colorscale": [
             [
              0,
              "#0d0887"
             ],
             [
              0.1111111111111111,
              "#46039f"
             ],
             [
              0.2222222222222222,
              "#7201a8"
             ],
             [
              0.3333333333333333,
              "#9c179e"
             ],
             [
              0.4444444444444444,
              "#bd3786"
             ],
             [
              0.5555555555555556,
              "#d8576b"
             ],
             [
              0.6666666666666666,
              "#ed7953"
             ],
             [
              0.7777777777777778,
              "#fb9f3a"
             ],
             [
              0.8888888888888888,
              "#fdca26"
             ],
             [
              1,
              "#f0f921"
             ]
            ],
            "type": "contour"
           }
          ],
          "contourcarpet": [
           {
            "colorbar": {
             "outlinewidth": 0,
             "ticks": ""
            },
            "type": "contourcarpet"
           }
          ],
          "heatmap": [
           {
            "colorbar": {
             "outlinewidth": 0,
             "ticks": ""
            },
            "colorscale": [
             [
              0,
              "#0d0887"
             ],
             [
              0.1111111111111111,
              "#46039f"
             ],
             [
              0.2222222222222222,
              "#7201a8"
             ],
             [
              0.3333333333333333,
              "#9c179e"
             ],
             [
              0.4444444444444444,
              "#bd3786"
             ],
             [
              0.5555555555555556,
              "#d8576b"
             ],
             [
              0.6666666666666666,
              "#ed7953"
             ],
             [
              0.7777777777777778,
              "#fb9f3a"
             ],
             [
              0.8888888888888888,
              "#fdca26"
             ],
             [
              1,
              "#f0f921"
             ]
            ],
            "type": "heatmap"
           }
          ],
          "heatmapgl": [
           {
            "colorbar": {
             "outlinewidth": 0,
             "ticks": ""
            },
            "colorscale": [
             [
              0,
              "#0d0887"
             ],
             [
              0.1111111111111111,
              "#46039f"
             ],
             [
              0.2222222222222222,
              "#7201a8"
             ],
             [
              0.3333333333333333,
              "#9c179e"
             ],
             [
              0.4444444444444444,
              "#bd3786"
             ],
             [
              0.5555555555555556,
              "#d8576b"
             ],
             [
              0.6666666666666666,
              "#ed7953"
             ],
             [
              0.7777777777777778,
              "#fb9f3a"
             ],
             [
              0.8888888888888888,
              "#fdca26"
             ],
             [
              1,
              "#f0f921"
             ]
            ],
            "type": "heatmapgl"
           }
          ],
          "histogram": [
           {
            "marker": {
             "pattern": {
              "fillmode": "overlay",
              "size": 10,
              "solidity": 0.2
             }
            },
            "type": "histogram"
           }
          ],
          "histogram2d": [
           {
            "colorbar": {
             "outlinewidth": 0,
             "ticks": ""
            },
            "colorscale": [
             [
              0,
              "#0d0887"
             ],
             [
              0.1111111111111111,
              "#46039f"
             ],
             [
              0.2222222222222222,
              "#7201a8"
             ],
             [
              0.3333333333333333,
              "#9c179e"
             ],
             [
              0.4444444444444444,
              "#bd3786"
             ],
             [
              0.5555555555555556,
              "#d8576b"
             ],
             [
              0.6666666666666666,
              "#ed7953"
             ],
             [
              0.7777777777777778,
              "#fb9f3a"
             ],
             [
              0.8888888888888888,
              "#fdca26"
             ],
             [
              1,
              "#f0f921"
             ]
            ],
            "type": "histogram2d"
           }
          ],
          "histogram2dcontour": [
           {
            "colorbar": {
             "outlinewidth": 0,
             "ticks": ""
            },
            "colorscale": [
             [
              0,
              "#0d0887"
             ],
             [
              0.1111111111111111,
              "#46039f"
             ],
             [
              0.2222222222222222,
              "#7201a8"
             ],
             [
              0.3333333333333333,
              "#9c179e"
             ],
             [
              0.4444444444444444,
              "#bd3786"
             ],
             [
              0.5555555555555556,
              "#d8576b"
             ],
             [
              0.6666666666666666,
              "#ed7953"
             ],
             [
              0.7777777777777778,
              "#fb9f3a"
             ],
             [
              0.8888888888888888,
              "#fdca26"
             ],
             [
              1,
              "#f0f921"
             ]
            ],
            "type": "histogram2dcontour"
           }
          ],
          "mesh3d": [
           {
            "colorbar": {
             "outlinewidth": 0,
             "ticks": ""
            },
            "type": "mesh3d"
           }
          ],
          "parcoords": [
           {
            "line": {
             "colorbar": {
              "outlinewidth": 0,
              "ticks": ""
             }
            },
            "type": "parcoords"
           }
          ],
          "pie": [
           {
            "automargin": true,
            "type": "pie"
           }
          ],
          "scatter": [
           {
            "fillpattern": {
             "fillmode": "overlay",
             "size": 10,
             "solidity": 0.2
            },
            "type": "scatter"
           }
          ],
          "scatter3d": [
           {
            "line": {
             "colorbar": {
              "outlinewidth": 0,
              "ticks": ""
             }
            },
            "marker": {
             "colorbar": {
              "outlinewidth": 0,
              "ticks": ""
             }
            },
            "type": "scatter3d"
           }
          ],
          "scattercarpet": [
           {
            "marker": {
             "colorbar": {
              "outlinewidth": 0,
              "ticks": ""
             }
            },
            "type": "scattercarpet"
           }
          ],
          "scattergeo": [
           {
            "marker": {
             "colorbar": {
              "outlinewidth": 0,
              "ticks": ""
             }
            },
            "type": "scattergeo"
           }
          ],
          "scattergl": [
           {
            "marker": {
             "colorbar": {
              "outlinewidth": 0,
              "ticks": ""
             }
            },
            "type": "scattergl"
           }
          ],
          "scattermapbox": [
           {
            "marker": {
             "colorbar": {
              "outlinewidth": 0,
              "ticks": ""
             }
            },
            "type": "scattermapbox"
           }
          ],
          "scatterpolar": [
           {
            "marker": {
             "colorbar": {
              "outlinewidth": 0,
              "ticks": ""
             }
            },
            "type": "scatterpolar"
           }
          ],
          "scatterpolargl": [
           {
            "marker": {
             "colorbar": {
              "outlinewidth": 0,
              "ticks": ""
             }
            },
            "type": "scatterpolargl"
           }
          ],
          "scatterternary": [
           {
            "marker": {
             "colorbar": {
              "outlinewidth": 0,
              "ticks": ""
             }
            },
            "type": "scatterternary"
           }
          ],
          "surface": [
           {
            "colorbar": {
             "outlinewidth": 0,
             "ticks": ""
            },
            "colorscale": [
             [
              0,
              "#0d0887"
             ],
             [
              0.1111111111111111,
              "#46039f"
             ],
             [
              0.2222222222222222,
              "#7201a8"
             ],
             [
              0.3333333333333333,
              "#9c179e"
             ],
             [
              0.4444444444444444,
              "#bd3786"
             ],
             [
              0.5555555555555556,
              "#d8576b"
             ],
             [
              0.6666666666666666,
              "#ed7953"
             ],
             [
              0.7777777777777778,
              "#fb9f3a"
             ],
             [
              0.8888888888888888,
              "#fdca26"
             ],
             [
              1,
              "#f0f921"
             ]
            ],
            "type": "surface"
           }
          ],
          "table": [
           {
            "cells": {
             "fill": {
              "color": "#EBF0F8"
             },
             "line": {
              "color": "white"
             }
            },
            "header": {
             "fill": {
              "color": "#C8D4E3"
             },
             "line": {
              "color": "white"
             }
            },
            "type": "table"
           }
          ]
         },
         "layout": {
          "annotationdefaults": {
           "arrowcolor": "#2a3f5f",
           "arrowhead": 0,
           "arrowwidth": 1
          },
          "autotypenumbers": "strict",
          "coloraxis": {
           "colorbar": {
            "outlinewidth": 0,
            "ticks": ""
           }
          },
          "colorscale": {
           "diverging": [
            [
             0,
             "#8e0152"
            ],
            [
             0.1,
             "#c51b7d"
            ],
            [
             0.2,
             "#de77ae"
            ],
            [
             0.3,
             "#f1b6da"
            ],
            [
             0.4,
             "#fde0ef"
            ],
            [
             0.5,
             "#f7f7f7"
            ],
            [
             0.6,
             "#e6f5d0"
            ],
            [
             0.7,
             "#b8e186"
            ],
            [
             0.8,
             "#7fbc41"
            ],
            [
             0.9,
             "#4d9221"
            ],
            [
             1,
             "#276419"
            ]
           ],
           "sequential": [
            [
             0,
             "#0d0887"
            ],
            [
             0.1111111111111111,
             "#46039f"
            ],
            [
             0.2222222222222222,
             "#7201a8"
            ],
            [
             0.3333333333333333,
             "#9c179e"
            ],
            [
             0.4444444444444444,
             "#bd3786"
            ],
            [
             0.5555555555555556,
             "#d8576b"
            ],
            [
             0.6666666666666666,
             "#ed7953"
            ],
            [
             0.7777777777777778,
             "#fb9f3a"
            ],
            [
             0.8888888888888888,
             "#fdca26"
            ],
            [
             1,
             "#f0f921"
            ]
           ],
           "sequentialminus": [
            [
             0,
             "#0d0887"
            ],
            [
             0.1111111111111111,
             "#46039f"
            ],
            [
             0.2222222222222222,
             "#7201a8"
            ],
            [
             0.3333333333333333,
             "#9c179e"
            ],
            [
             0.4444444444444444,
             "#bd3786"
            ],
            [
             0.5555555555555556,
             "#d8576b"
            ],
            [
             0.6666666666666666,
             "#ed7953"
            ],
            [
             0.7777777777777778,
             "#fb9f3a"
            ],
            [
             0.8888888888888888,
             "#fdca26"
            ],
            [
             1,
             "#f0f921"
            ]
           ]
          },
          "colorway": [
           "#636efa",
           "#EF553B",
           "#00cc96",
           "#ab63fa",
           "#FFA15A",
           "#19d3f3",
           "#FF6692",
           "#B6E880",
           "#FF97FF",
           "#FECB52"
          ],
          "font": {
           "color": "#2a3f5f"
          },
          "geo": {
           "bgcolor": "white",
           "lakecolor": "white",
           "landcolor": "#E5ECF6",
           "showlakes": true,
           "showland": true,
           "subunitcolor": "white"
          },
          "hoverlabel": {
           "align": "left"
          },
          "hovermode": "closest",
          "mapbox": {
           "style": "light"
          },
          "paper_bgcolor": "white",
          "plot_bgcolor": "#E5ECF6",
          "polar": {
           "angularaxis": {
            "gridcolor": "white",
            "linecolor": "white",
            "ticks": ""
           },
           "bgcolor": "#E5ECF6",
           "radialaxis": {
            "gridcolor": "white",
            "linecolor": "white",
            "ticks": ""
           }
          },
          "scene": {
           "xaxis": {
            "backgroundcolor": "#E5ECF6",
            "gridcolor": "white",
            "gridwidth": 2,
            "linecolor": "white",
            "showbackground": true,
            "ticks": "",
            "zerolinecolor": "white"
           },
           "yaxis": {
            "backgroundcolor": "#E5ECF6",
            "gridcolor": "white",
            "gridwidth": 2,
            "linecolor": "white",
            "showbackground": true,
            "ticks": "",
            "zerolinecolor": "white"
           },
           "zaxis": {
            "backgroundcolor": "#E5ECF6",
            "gridcolor": "white",
            "gridwidth": 2,
            "linecolor": "white",
            "showbackground": true,
            "ticks": "",
            "zerolinecolor": "white"
           }
          },
          "shapedefaults": {
           "line": {
            "color": "#2a3f5f"
           }
          },
          "ternary": {
           "aaxis": {
            "gridcolor": "white",
            "linecolor": "white",
            "ticks": ""
           },
           "baxis": {
            "gridcolor": "white",
            "linecolor": "white",
            "ticks": ""
           },
           "bgcolor": "#E5ECF6",
           "caxis": {
            "gridcolor": "white",
            "linecolor": "white",
            "ticks": ""
           }
          },
          "title": {
           "x": 0.05
          },
          "xaxis": {
           "automargin": true,
           "gridcolor": "white",
           "linecolor": "white",
           "ticks": "",
           "title": {
            "standoff": 15
           },
           "zerolinecolor": "white",
           "zerolinewidth": 2
          },
          "yaxis": {
           "automargin": true,
           "gridcolor": "white",
           "linecolor": "white",
           "ticks": "",
           "title": {
            "standoff": 15
           },
           "zerolinecolor": "white",
           "zerolinewidth": 2
          }
         }
        },
        "title": {
         "text": "Dataset machine 611"
        },
        "width": 1280,
        "xaxis": {
         "anchor": "y",
         "domain": [
          0,
          1
         ],
         "matches": "x3",
         "showticklabels": false
        },
        "xaxis2": {
         "anchor": "y2",
         "domain": [
          0,
          1
         ],
         "matches": "x3",
         "showticklabels": false
        },
        "xaxis3": {
         "anchor": "y3",
         "domain": [
          0,
          1
         ]
        },
        "yaxis": {
         "anchor": "x",
         "domain": [
          0.7066666666666667,
          1
         ]
        },
        "yaxis2": {
         "anchor": "x2",
         "domain": [
          0.35333333333333333,
          0.6466666666666667
         ]
        },
        "yaxis3": {
         "anchor": "x3",
         "domain": [
          0,
          0.29333333333333333
         ]
        }
       }
      }
     },
     "metadata": {},
     "output_type": "display_data"
    },
    {
     "data": {
      "application/vnd.plotly.v1+json": {
       "config": {
        "plotlyServerURL": "https://plot.ly"
       },
       "data": [
        {
         "marker": {
          "color": "blue",
          "size": 10
         },
         "mode": "markers+lines",
         "name": "1139000AVP515100017A Energy",
         "text": [
          null,
          null,
          null,
          null,
          null,
          null,
          null,
          null,
          null,
          null,
          null,
          null,
          1081332.7,
          536142.6,
          null,
          null,
          431173.2,
          970142,
          970142,
          1288286,
          1130241.7,
          1130241.7,
          null,
          null,
          1266023.7,
          470775.5,
          1108307.4,
          1446558.4,
          0,
          588254,
          269894.2,
          618156.2
         ],
         "type": "scatter",
         "x": [
          "2023-06-22",
          "2023-06-23",
          "2023-06-24",
          "2023-06-26",
          "2023-05-30",
          "2023-05-31",
          "2023-06-01",
          "2023-06-02",
          "2023-06-05",
          "2023-06-05",
          "2023-06-06",
          "2023-06-06",
          "2023-06-07",
          "2023-06-08",
          "2023-06-09",
          "2023-06-09",
          "2023-06-10",
          "2023-06-12",
          "2023-06-12",
          "2023-06-13",
          "2023-06-14",
          "2023-06-14",
          "2023-06-15",
          "2023-06-15",
          "2023-06-16",
          "2023-06-17",
          "2023-06-19",
          "2023-06-20",
          "2023-06-21",
          "2023-06-22",
          "2023-01-26",
          "2023-01-30"
         ],
         "xaxis": "x",
         "y": [
          null,
          null,
          null,
          null,
          null,
          null,
          null,
          null,
          null,
          null,
          null,
          null,
          1081332.7,
          536142.6,
          null,
          null,
          431173.2,
          970142,
          970142,
          1288286,
          1130241.7,
          1130241.7,
          null,
          null,
          1266023.7,
          470775.5,
          1108307.4,
          1446558.4,
          0,
          588254,
          269894.2,
          618156.2
         ],
         "yaxis": "y"
        },
        {
         "marker": {
          "color": "blue",
          "size": 10
         },
         "mode": "markers+lines",
         "name": "1139000AVP515100017A Productions",
         "text": [
          764,
          4008,
          36,
          2118,
          2615,
          3716,
          2422,
          964,
          5112,
          5112,
          4310,
          4310,
          4922,
          997,
          2470,
          2470,
          1325,
          2362,
          2362,
          12294,
          2608,
          2608,
          4089,
          4089,
          7434,
          5511,
          4462,
          7838,
          6640,
          764,
          0,
          55
         ],
         "type": "scatter",
         "x": [
          "2023-06-22",
          "2023-06-23",
          "2023-06-24",
          "2023-06-26",
          "2023-05-30",
          "2023-05-31",
          "2023-06-01",
          "2023-06-02",
          "2023-06-05",
          "2023-06-05",
          "2023-06-06",
          "2023-06-06",
          "2023-06-07",
          "2023-06-08",
          "2023-06-09",
          "2023-06-09",
          "2023-06-10",
          "2023-06-12",
          "2023-06-12",
          "2023-06-13",
          "2023-06-14",
          "2023-06-14",
          "2023-06-15",
          "2023-06-15",
          "2023-06-16",
          "2023-06-17",
          "2023-06-19",
          "2023-06-20",
          "2023-06-21",
          "2023-06-22",
          "2023-01-26",
          "2023-01-30"
         ],
         "xaxis": "x3",
         "y": [
          764,
          4008,
          36,
          2118,
          2615,
          3716,
          2422,
          964,
          5112,
          5112,
          4310,
          4310,
          4922,
          997,
          2470,
          2470,
          1325,
          2362,
          2362,
          12294,
          2608,
          2608,
          4089,
          4089,
          7434,
          5511,
          4462,
          7838,
          6640,
          764,
          0,
          55
         ],
         "yaxis": "y3"
        },
        {
         "marker": {
          "color": "blue",
          "size": 10
         },
         "mode": "markers+lines",
         "name": "1139000AVP515100017A Stops",
         "text": [
          "Unknown",
          "Unknown",
          "Unknown",
          "Unknown",
          "Unknown",
          "Unknown",
          "Unknown",
          "Sostituzione utensile",
          "Manutenzione ordinaria",
          "Sostituzione utensile",
          "Manutenzione ordinaria",
          "Sostituzione utensile",
          "Sostituzione utensile",
          "Sostituzione utensile",
          "Manutenzione ordinaria",
          "Sostituzione utensile",
          "Manutenzione ordinaria",
          "Manutenzione ordinaria",
          "Sostituzione utensile",
          "Sostituzione utensile",
          "Manutenzione ordinaria",
          "Sostituzione utensile",
          "Manutenzione ordinaria",
          "Sostituzione utensile",
          "Sostituzione utensile",
          "Unknown",
          "Sostituzione utensile",
          "Sostituzione utensile",
          "Sostituzione utensile",
          "Manutenzione ordinaria",
          "Unknown",
          "Manutenzione ordinaria"
         ],
         "type": "scatter",
         "x": [
          "2023-06-22",
          "2023-06-23",
          "2023-06-24",
          "2023-06-26",
          "2023-05-30",
          "2023-05-31",
          "2023-06-01",
          "2023-06-02",
          "2023-06-05",
          "2023-06-05",
          "2023-06-06",
          "2023-06-06",
          "2023-06-07",
          "2023-06-08",
          "2023-06-09",
          "2023-06-09",
          "2023-06-10",
          "2023-06-12",
          "2023-06-12",
          "2023-06-13",
          "2023-06-14",
          "2023-06-14",
          "2023-06-15",
          "2023-06-15",
          "2023-06-16",
          "2023-06-17",
          "2023-06-19",
          "2023-06-20",
          "2023-06-21",
          "2023-06-22",
          "2023-01-26",
          "2023-01-30"
         ],
         "xaxis": "x2",
         "y": [
          null,
          null,
          null,
          null,
          null,
          null,
          null,
          1,
          3,
          2,
          3,
          1,
          3,
          1,
          3,
          1,
          1,
          2,
          1,
          3,
          1,
          1,
          1,
          1,
          3,
          null,
          1,
          4,
          3,
          1,
          null,
          1
         ],
         "yaxis": "y2"
        },
        {
         "marker": {
          "color": "green",
          "size": 10
         },
         "mode": "markers+lines",
         "name": "1155900PR8TP.VS.013-O Energy",
         "text": [
          null,
          null,
          null,
          null,
          null,
          628761.2,
          1079012.7,
          1079012.7,
          1413705.1,
          0,
          0,
          null,
          null,
          null,
          null,
          null,
          null,
          null,
          null,
          null,
          0,
          null,
          1395909.1,
          null,
          null,
          1335384.8,
          1252740.5,
          177409,
          1081527.9,
          1081527.9,
          1081527.9,
          1340268.1,
          1340268.1,
          1059301.9,
          1059301.9,
          1250358.6,
          1250358.6,
          753165,
          608427.5,
          608427.5,
          1056040.2,
          1056040.2,
          1216206.1,
          1216206.1,
          null,
          null,
          1054504.7,
          1054504.7,
          1264114.3,
          0,
          null,
          1260246.1,
          null,
          null,
          null,
          0,
          0,
          null,
          null,
          1345004.5,
          1345004.5,
          1341076.3,
          1341076.3,
          null,
          null,
          null,
          null,
          null,
          null,
          null,
          null,
          null
         ],
         "type": "scatter",
         "x": [
          "2023-06-26",
          "2023-06-28",
          "2023-06-29",
          "2023-06-30",
          "2023-07-01",
          "2023-07-03",
          "2023-07-04",
          "2023-07-04",
          "2023-07-05",
          "2023-07-06",
          "2023-07-06",
          "2023-07-07",
          "2023-07-08",
          "2023-07-10",
          "2023-07-11",
          "2023-07-11",
          "2023-07-12",
          "2023-07-12",
          "2023-07-13",
          "2023-07-14",
          "2023-07-15",
          "2023-07-17",
          "2023-07-18",
          "2023-07-19",
          "2023-07-19",
          "2023-07-20",
          "2023-07-21",
          "2023-07-22",
          "2023-07-24",
          "2023-07-24",
          "2023-07-24",
          "2023-07-25",
          "2023-07-25",
          "2023-07-26",
          "2023-07-26",
          "2023-07-27",
          "2023-07-27",
          "2023-07-28",
          "2022-12-20",
          "2022-12-20",
          "2022-12-21",
          "2022-12-21",
          "2022-12-22",
          "2022-12-22",
          "2022-12-23",
          "2022-12-24",
          "2023-01-09",
          "2023-01-09",
          "2023-01-10",
          "2023-01-11",
          "2023-01-12",
          "2023-01-13",
          "2023-01-14",
          "2023-01-16",
          "2023-01-17",
          "2023-01-18",
          "2023-01-18",
          "2023-07-31",
          "2023-08-01",
          "2023-08-02",
          "2023-08-02",
          "2023-08-03",
          "2023-08-03",
          "2023-08-04",
          "2023-08-04",
          "2023-08-07",
          "2023-08-07",
          "2023-08-08",
          "2023-08-09",
          "2023-08-10",
          "2023-08-10",
          "2023-08-11"
         ],
         "xaxis": "x",
         "y": [
          null,
          null,
          null,
          null,
          null,
          628761.2,
          1079012.7,
          1079012.7,
          1413705.1,
          0,
          0,
          null,
          null,
          null,
          null,
          null,
          null,
          null,
          null,
          null,
          0,
          null,
          1395909.1,
          null,
          null,
          1335384.8,
          1252740.5,
          177409,
          1081527.9,
          1081527.9,
          1081527.9,
          1340268.1,
          1340268.1,
          1059301.9,
          1059301.9,
          1250358.6,
          1250358.6,
          753165,
          608427.5,
          608427.5,
          1056040.2,
          1056040.2,
          1216206.1,
          1216206.1,
          null,
          null,
          1054504.7,
          1054504.7,
          1264114.3,
          0,
          null,
          1260246.1,
          null,
          null,
          null,
          0,
          0,
          null,
          null,
          1345004.5,
          1345004.5,
          1341076.3,
          1341076.3,
          null,
          null,
          null,
          null,
          null,
          null,
          null,
          null,
          null
         ],
         "yaxis": "y"
        },
        {
         "marker": {
          "color": "green",
          "size": 10
         },
         "mode": "markers+lines",
         "name": "1155900PR8TP.VS.013-O Productions",
         "text": [
          0,
          2326,
          3921,
          4992,
          1803,
          2250,
          2323,
          2323,
          4922,
          4338,
          4338,
          7501,
          452,
          2177,
          4905,
          4905,
          4763,
          4763,
          4450,
          5198,
          1584,
          707,
          4290,
          4311,
          4311,
          4554,
          4359,
          1734,
          3515,
          3515,
          3515,
          4423,
          4423,
          2759,
          2759,
          4900,
          4900,
          566,
          0,
          0,
          1896,
          1896,
          3466,
          3466,
          5967,
          432,
          2131,
          2131,
          5984,
          4459,
          5250,
          5451,
          1158,
          2940,
          6009,
          3116,
          3116,
          2620,
          3870,
          4403,
          4403,
          5097,
          5097,
          4296,
          4296,
          2546,
          2546,
          2886,
          3298,
          3006,
          3006,
          12855
         ],
         "type": "scatter",
         "x": [
          "2023-06-26",
          "2023-06-28",
          "2023-06-29",
          "2023-06-30",
          "2023-07-01",
          "2023-07-03",
          "2023-07-04",
          "2023-07-04",
          "2023-07-05",
          "2023-07-06",
          "2023-07-06",
          "2023-07-07",
          "2023-07-08",
          "2023-07-10",
          "2023-07-11",
          "2023-07-11",
          "2023-07-12",
          "2023-07-12",
          "2023-07-13",
          "2023-07-14",
          "2023-07-15",
          "2023-07-17",
          "2023-07-18",
          "2023-07-19",
          "2023-07-19",
          "2023-07-20",
          "2023-07-21",
          "2023-07-22",
          "2023-07-24",
          "2023-07-24",
          "2023-07-24",
          "2023-07-25",
          "2023-07-25",
          "2023-07-26",
          "2023-07-26",
          "2023-07-27",
          "2023-07-27",
          "2023-07-28",
          "2022-12-20",
          "2022-12-20",
          "2022-12-21",
          "2022-12-21",
          "2022-12-22",
          "2022-12-22",
          "2022-12-23",
          "2022-12-24",
          "2023-01-09",
          "2023-01-09",
          "2023-01-10",
          "2023-01-11",
          "2023-01-12",
          "2023-01-13",
          "2023-01-14",
          "2023-01-16",
          "2023-01-17",
          "2023-01-18",
          "2023-01-18",
          "2023-07-31",
          "2023-08-01",
          "2023-08-02",
          "2023-08-02",
          "2023-08-03",
          "2023-08-03",
          "2023-08-04",
          "2023-08-04",
          "2023-08-07",
          "2023-08-07",
          "2023-08-08",
          "2023-08-09",
          "2023-08-10",
          "2023-08-10",
          "2023-08-11"
         ],
         "xaxis": "x3",
         "y": [
          0,
          2326,
          3921,
          4992,
          1803,
          2250,
          2323,
          2323,
          4922,
          4338,
          4338,
          7501,
          452,
          2177,
          4905,
          4905,
          4763,
          4763,
          4450,
          5198,
          1584,
          707,
          4290,
          4311,
          4311,
          4554,
          4359,
          1734,
          3515,
          3515,
          3515,
          4423,
          4423,
          2759,
          2759,
          4900,
          4900,
          566,
          0,
          0,
          1896,
          1896,
          3466,
          3466,
          5967,
          432,
          2131,
          2131,
          5984,
          4459,
          5250,
          5451,
          1158,
          2940,
          6009,
          3116,
          3116,
          2620,
          3870,
          4403,
          4403,
          5097,
          5097,
          4296,
          4296,
          2546,
          2546,
          2886,
          3298,
          3006,
          3006,
          12855
         ],
         "yaxis": "y3"
        },
        {
         "marker": {
          "color": "green",
          "size": 10
         },
         "mode": "markers+lines",
         "name": "1155900PR8TP.VS.013-O Stops",
         "text": [
          "Unknown",
          "Unknown",
          "Unknown",
          "Unknown",
          "Unknown",
          "Sostituzione utensile",
          "Manutenzione ordinaria",
          "Sostituzione utensile",
          "Sostituzione utensile",
          "Manutenzione ordinaria",
          "Sostituzione utensile",
          "Sostituzione utensile",
          "Sostituzione utensile",
          "Sostituzione utensile",
          "Manutenzione ordinaria",
          "Sostituzione utensile",
          "Manutenzione ordinaria",
          "Sostituzione utensile",
          "Sostituzione utensile",
          "Sostituzione utensile",
          "Sostituzione utensile",
          "Manutenzione ordinaria",
          "Sostituzione utensile",
          "Manutenzione ordinaria",
          "Sostituzione utensile",
          "Sostituzione utensile",
          "Sostituzione utensile",
          "Unknown",
          "Manutenzione ordinaria",
          "Manutenzione straordinaria",
          "Sostituzione utensile",
          "Manutenzione ordinaria",
          "Sostituzione utensile",
          "Manutenzione ordinaria",
          "Sostituzione utensile",
          "Manutenzione ordinaria",
          "Sostituzione utensile",
          "Manutenzione ordinaria",
          "Manutenzione ordinaria",
          "Sostituzione utensile",
          "Manutenzione ordinaria",
          "Sostituzione utensile",
          "Manutenzione ordinaria",
          "Sostituzione utensile",
          "Sostituzione utensile",
          "Sostituzione utensile",
          "Manutenzione ordinaria",
          "Sostituzione utensile",
          "Sostituzione utensile",
          "Sostituzione utensile",
          "Sostituzione utensile",
          "Sostituzione utensile",
          "Sostituzione utensile",
          "Sostituzione utensile",
          "Sostituzione utensile",
          "Manutenzione ordinaria",
          "Sostituzione utensile",
          "Unknown",
          "Sostituzione utensile",
          "Manutenzione ordinaria",
          "Sostituzione utensile",
          "Manutenzione ordinaria",
          "Sostituzione utensile",
          "Manutenzione ordinaria",
          "Sostituzione utensile",
          "Manutenzione ordinaria",
          "Sostituzione utensile",
          "Sostituzione utensile",
          "Sostituzione utensile",
          "Manutenzione ordinaria",
          "Sostituzione utensile",
          "Unknown"
         ],
         "type": "scatter",
         "x": [
          "2023-06-26",
          "2023-06-28",
          "2023-06-29",
          "2023-06-30",
          "2023-07-01",
          "2023-07-03",
          "2023-07-04",
          "2023-07-04",
          "2023-07-05",
          "2023-07-06",
          "2023-07-06",
          "2023-07-07",
          "2023-07-08",
          "2023-07-10",
          "2023-07-11",
          "2023-07-11",
          "2023-07-12",
          "2023-07-12",
          "2023-07-13",
          "2023-07-14",
          "2023-07-15",
          "2023-07-17",
          "2023-07-18",
          "2023-07-19",
          "2023-07-19",
          "2023-07-20",
          "2023-07-21",
          "2023-07-22",
          "2023-07-24",
          "2023-07-24",
          "2023-07-24",
          "2023-07-25",
          "2023-07-25",
          "2023-07-26",
          "2023-07-26",
          "2023-07-27",
          "2023-07-27",
          "2023-07-28",
          "2022-12-20",
          "2022-12-20",
          "2022-12-21",
          "2022-12-21",
          "2022-12-22",
          "2022-12-22",
          "2022-12-23",
          "2022-12-24",
          "2023-01-09",
          "2023-01-09",
          "2023-01-10",
          "2023-01-11",
          "2023-01-12",
          "2023-01-13",
          "2023-01-14",
          "2023-01-16",
          "2023-01-17",
          "2023-01-18",
          "2023-01-18",
          "2023-07-31",
          "2023-08-01",
          "2023-08-02",
          "2023-08-02",
          "2023-08-03",
          "2023-08-03",
          "2023-08-04",
          "2023-08-04",
          "2023-08-07",
          "2023-08-07",
          "2023-08-08",
          "2023-08-09",
          "2023-08-10",
          "2023-08-10",
          "2023-08-11"
         ],
         "xaxis": "x2",
         "y": [
          null,
          null,
          null,
          null,
          null,
          2,
          4,
          1,
          5,
          3,
          2,
          4,
          1,
          1,
          1,
          3,
          1,
          4,
          3,
          3,
          2,
          3,
          4,
          1,
          3,
          2,
          3,
          null,
          1,
          1,
          2,
          2,
          3,
          2,
          2,
          1,
          4,
          2,
          1,
          1,
          1,
          2,
          3,
          3,
          3,
          1,
          1,
          1,
          3,
          3,
          3,
          4,
          1,
          2,
          3,
          2,
          2,
          null,
          2,
          3,
          2,
          1,
          2,
          2,
          2,
          1,
          3,
          2,
          2,
          1,
          2,
          null
         ],
         "yaxis": "y2"
        },
        {
         "marker": {
          "color": "black",
          "size": 10
         },
         "mode": "markers+lines",
         "name": "Unknown Energy",
         "text": [
          3614,
          3499.9,
          51938.8,
          3496.7,
          0,
          0,
          3584.7,
          4083,
          null,
          null,
          null,
          null,
          null,
          0,
          0,
          3729.5,
          3634.1,
          0,
          3424.5,
          292.8,
          287.8,
          289.7,
          285,
          0,
          287.1,
          285.5,
          287.3,
          286.9,
          286.2,
          286.3,
          287.1,
          337111.5,
          3862.1,
          301957,
          85336.2,
          3618.7,
          1090610.3,
          1090610.3,
          45235,
          46159.1,
          47618.7,
          47588.1,
          47547.8,
          47546.6,
          17903.5,
          4291.9,
          null,
          0,
          0
         ],
         "type": "scatter",
         "x": [
          "2023-07-16",
          "2023-07-23",
          "2023-07-29",
          "2023-07-30",
          "2023-07-31",
          "2023-07-31",
          "2023-06-11",
          "2023-06-18",
          "2023-06-23",
          "2023-06-23",
          "2023-06-24",
          "2023-06-28",
          "2023-06-29",
          "2023-06-30",
          "2023-06-30",
          "2022-12-09",
          "2022-12-10",
          "2022-12-11",
          "2022-12-18",
          "2022-12-27",
          "2022-12-28",
          "2022-12-29",
          "2022-12-30",
          "2022-12-31",
          "2023-01-01",
          "2023-01-02",
          "2023-01-03",
          "2023-01-04",
          "2023-01-05",
          "2023-01-06",
          "2023-01-07",
          "2023-01-08",
          "2023-01-22",
          "2023-01-27",
          "2023-01-28",
          "2023-01-29",
          "2023-01-31",
          "2023-01-31",
          "2023-08-15",
          "2023-08-16",
          "2023-08-17",
          "2023-08-18",
          "2023-08-19",
          "2023-08-20",
          "2023-08-21",
          "2023-08-22",
          "2023-08-30",
          "2023-08-31",
          "2023-08-31"
         ],
         "xaxis": "x",
         "y": [
          3614,
          3499.9,
          51938.8,
          3496.7,
          0,
          0,
          3584.7,
          4083,
          null,
          null,
          null,
          null,
          null,
          0,
          0,
          3729.5,
          3634.1,
          0,
          3424.5,
          292.8,
          287.8,
          289.7,
          285,
          0,
          287.1,
          285.5,
          287.3,
          286.9,
          286.2,
          286.3,
          287.1,
          337111.5,
          3862.1,
          301957,
          85336.2,
          3618.7,
          1090610.3,
          1090610.3,
          45235,
          46159.1,
          47618.7,
          47588.1,
          47547.8,
          47546.6,
          17903.5,
          4291.9,
          null,
          0,
          0
         ],
         "yaxis": "y"
        },
        {
         "marker": {
          "color": "black",
          "size": 10
         },
         "mode": "markers+lines",
         "name": "Unknown Productions",
         "text": [
          null,
          null,
          null,
          null,
          null,
          null,
          null,
          null,
          null,
          null,
          null,
          null,
          null,
          null,
          null,
          null,
          null,
          null,
          null,
          null,
          null,
          null,
          null,
          null,
          null,
          null,
          null,
          null,
          null,
          null,
          null,
          null,
          null,
          null,
          null,
          null,
          null,
          null,
          null,
          null,
          null,
          null,
          null,
          null,
          null,
          null,
          null,
          null,
          null
         ],
         "type": "scatter",
         "x": [
          "2023-07-16",
          "2023-07-23",
          "2023-07-29",
          "2023-07-30",
          "2023-07-31",
          "2023-07-31",
          "2023-06-11",
          "2023-06-18",
          "2023-06-23",
          "2023-06-23",
          "2023-06-24",
          "2023-06-28",
          "2023-06-29",
          "2023-06-30",
          "2023-06-30",
          "2022-12-09",
          "2022-12-10",
          "2022-12-11",
          "2022-12-18",
          "2022-12-27",
          "2022-12-28",
          "2022-12-29",
          "2022-12-30",
          "2022-12-31",
          "2023-01-01",
          "2023-01-02",
          "2023-01-03",
          "2023-01-04",
          "2023-01-05",
          "2023-01-06",
          "2023-01-07",
          "2023-01-08",
          "2023-01-22",
          "2023-01-27",
          "2023-01-28",
          "2023-01-29",
          "2023-01-31",
          "2023-01-31",
          "2023-08-15",
          "2023-08-16",
          "2023-08-17",
          "2023-08-18",
          "2023-08-19",
          "2023-08-20",
          "2023-08-21",
          "2023-08-22",
          "2023-08-30",
          "2023-08-31",
          "2023-08-31"
         ],
         "xaxis": "x3",
         "y": [
          null,
          null,
          null,
          null,
          null,
          null,
          null,
          null,
          null,
          null,
          null,
          null,
          null,
          null,
          null,
          null,
          null,
          null,
          null,
          null,
          null,
          null,
          null,
          null,
          null,
          null,
          null,
          null,
          null,
          null,
          null,
          null,
          null,
          null,
          null,
          null,
          null,
          null,
          null,
          null,
          null,
          null,
          null,
          null,
          null,
          null,
          null,
          null,
          null
         ],
         "yaxis": "y3"
        },
        {
         "marker": {
          "color": "black",
          "size": 10
         },
         "mode": "markers+lines",
         "name": "Unknown Stops",
         "text": [
          "Unknown",
          "Unknown",
          "Unknown",
          "Unknown",
          "Manutenzione ordinaria",
          "Sostituzione utensile",
          "Unknown",
          "Unknown",
          "Manutenzione ordinaria",
          "Sostituzione utensile",
          "Manutenzione ordinaria",
          "Sostituzione utensile",
          "Sostituzione utensile",
          "Manutenzione ordinaria",
          "Sostituzione utensile",
          "Unknown",
          "Unknown",
          "Unknown",
          "Unknown",
          "Unknown",
          "Unknown",
          "Unknown",
          "Unknown",
          "Unknown",
          "Unknown",
          "Unknown",
          "Unknown",
          "Unknown",
          "Unknown",
          "Unknown",
          "Unknown",
          "Unknown",
          "Unknown",
          "Unknown",
          "Unknown",
          "Unknown",
          "Manutenzione ordinaria",
          "Sostituzione utensile",
          "Unknown",
          "Unknown",
          "Unknown",
          "Unknown",
          "Unknown",
          "Unknown",
          "Unknown",
          "Unknown",
          "Sostituzione utensile",
          "Manutenzione ordinaria",
          "Sostituzione utensile"
         ],
         "type": "scatter",
         "x": [
          "2023-07-16",
          "2023-07-23",
          "2023-07-29",
          "2023-07-30",
          "2023-07-31",
          "2023-07-31",
          "2023-06-11",
          "2023-06-18",
          "2023-06-23",
          "2023-06-23",
          "2023-06-24",
          "2023-06-28",
          "2023-06-29",
          "2023-06-30",
          "2023-06-30",
          "2022-12-09",
          "2022-12-10",
          "2022-12-11",
          "2022-12-18",
          "2022-12-27",
          "2022-12-28",
          "2022-12-29",
          "2022-12-30",
          "2022-12-31",
          "2023-01-01",
          "2023-01-02",
          "2023-01-03",
          "2023-01-04",
          "2023-01-05",
          "2023-01-06",
          "2023-01-07",
          "2023-01-08",
          "2023-01-22",
          "2023-01-27",
          "2023-01-28",
          "2023-01-29",
          "2023-01-31",
          "2023-01-31",
          "2023-08-15",
          "2023-08-16",
          "2023-08-17",
          "2023-08-18",
          "2023-08-19",
          "2023-08-20",
          "2023-08-21",
          "2023-08-22",
          "2023-08-30",
          "2023-08-31",
          "2023-08-31"
         ],
         "xaxis": "x2",
         "y": [
          null,
          null,
          null,
          null,
          1,
          2,
          null,
          null,
          1,
          1,
          1,
          1,
          1,
          1,
          4,
          null,
          null,
          null,
          null,
          null,
          null,
          null,
          null,
          null,
          null,
          null,
          null,
          null,
          null,
          null,
          null,
          null,
          null,
          null,
          null,
          null,
          2,
          7,
          null,
          null,
          null,
          null,
          null,
          null,
          null,
          null,
          3,
          2,
          4
         ],
         "yaxis": "y2"
        },
        {
         "marker": {
          "color": "#00FFFF",
          "size": 10
         },
         "mode": "markers+lines",
         "name": "1139000AVP516700024B Energy",
         "text": [
          null,
          null,
          1013959.4,
          1013959.4,
          1287357.6,
          null
         ],
         "type": "scatter",
         "x": [
          "2022-11-29",
          "2022-11-30",
          "2022-12-01",
          "2022-12-01",
          "2022-12-02",
          "2022-12-03"
         ],
         "xaxis": "x",
         "y": [
          null,
          null,
          1013959.4,
          1013959.4,
          1287357.6,
          null
         ],
         "yaxis": "y"
        },
        {
         "marker": {
          "color": "#00FFFF",
          "size": 10
         },
         "mode": "markers+lines",
         "name": "1139000AVP516700024B Productions",
         "text": [
          0,
          1475,
          1955,
          1955,
          4356,
          1575
         ],
         "type": "scatter",
         "x": [
          "2022-11-29",
          "2022-11-30",
          "2022-12-01",
          "2022-12-01",
          "2022-12-02",
          "2022-12-03"
         ],
         "xaxis": "x3",
         "y": [
          0,
          1475,
          1955,
          1955,
          4356,
          1575
         ],
         "yaxis": "y3"
        },
        {
         "marker": {
          "color": "#00FFFF",
          "size": 10
         },
         "mode": "markers+lines",
         "name": "1139000AVP516700024B Stops",
         "text": [
          "Unknown",
          "Unknown",
          "Manutenzione ordinaria",
          "Sostituzione utensile",
          "Sostituzione utensile",
          "Unknown"
         ],
         "type": "scatter",
         "x": [
          "2022-11-29",
          "2022-11-30",
          "2022-12-01",
          "2022-12-01",
          "2022-12-02",
          "2022-12-03"
         ],
         "xaxis": "x2",
         "y": [
          null,
          null,
          1,
          2,
          5,
          null
         ],
         "yaxis": "y2"
        },
        {
         "marker": {
          "color": "#FFFF00",
          "size": 10
         },
         "mode": "markers+lines",
         "name": "1139000AVP516700025B Energy",
         "text": [
          777559,
          1306281.4,
          1306281.4,
          1348064.1,
          1348064.1,
          null,
          null,
          362026.9,
          583701.1,
          583701.1,
          298517.6,
          298517.6,
          0,
          0,
          1214322.1,
          279952,
          920305.4,
          608427.5,
          608427.5
         ],
         "type": "scatter",
         "x": [
          "2022-12-05",
          "2022-12-06",
          "2022-12-06",
          "2022-12-07",
          "2022-12-07",
          "2022-12-08",
          "2022-12-08",
          "2022-12-12",
          "2022-12-13",
          "2022-12-13",
          "2022-12-14",
          "2022-12-14",
          "2022-12-15",
          "2022-12-15",
          "2022-12-16",
          "2022-12-17",
          "2022-12-19",
          "2022-12-20",
          "2022-12-20"
         ],
         "xaxis": "x",
         "y": [
          777559,
          1306281.4,
          1306281.4,
          1348064.1,
          1348064.1,
          null,
          null,
          362026.9,
          583701.1,
          583701.1,
          298517.6,
          298517.6,
          0,
          0,
          1214322.1,
          279952,
          920305.4,
          608427.5,
          608427.5
         ],
         "yaxis": "y"
        },
        {
         "marker": {
          "color": "#FFFF00",
          "size": 10
         },
         "mode": "markers+lines",
         "name": "1139000AVP516700025B Productions",
         "text": [
          367,
          3737,
          3737,
          4372,
          4372,
          922,
          922,
          94,
          810,
          810,
          2955,
          2955,
          4403,
          4403,
          3880,
          1464,
          2624,
          214,
          214
         ],
         "type": "scatter",
         "x": [
          "2022-12-05",
          "2022-12-06",
          "2022-12-06",
          "2022-12-07",
          "2022-12-07",
          "2022-12-08",
          "2022-12-08",
          "2022-12-12",
          "2022-12-13",
          "2022-12-13",
          "2022-12-14",
          "2022-12-14",
          "2022-12-15",
          "2022-12-15",
          "2022-12-16",
          "2022-12-17",
          "2022-12-19",
          "2022-12-20",
          "2022-12-20"
         ],
         "xaxis": "x3",
         "y": [
          367,
          3737,
          3737,
          4372,
          4372,
          922,
          922,
          94,
          810,
          810,
          2955,
          2955,
          4403,
          4403,
          3880,
          1464,
          2624,
          214,
          214
         ],
         "yaxis": "y3"
        },
        {
         "marker": {
          "color": "#FFFF00",
          "size": 10
         },
         "mode": "markers+lines",
         "name": "1139000AVP516700025B Stops",
         "text": [
          "Manutenzione ordinaria",
          "Manutenzione ordinaria",
          "Sostituzione utensile",
          "Manutenzione ordinaria",
          "Sostituzione utensile",
          "Manutenzione ordinaria",
          "Sostituzione utensile",
          "Manutenzione ordinaria",
          "Manutenzione ordinaria",
          "Sostituzione utensile",
          "Manutenzione ordinaria",
          "Sostituzione utensile",
          "Manutenzione ordinaria",
          "Sostituzione utensile",
          "Sostituzione utensile",
          "Sostituzione utensile",
          "Sostituzione utensile",
          "Manutenzione ordinaria",
          "Sostituzione utensile"
         ],
         "type": "scatter",
         "x": [
          "2022-12-05",
          "2022-12-06",
          "2022-12-06",
          "2022-12-07",
          "2022-12-07",
          "2022-12-08",
          "2022-12-08",
          "2022-12-12",
          "2022-12-13",
          "2022-12-13",
          "2022-12-14",
          "2022-12-14",
          "2022-12-15",
          "2022-12-15",
          "2022-12-16",
          "2022-12-17",
          "2022-12-19",
          "2022-12-20",
          "2022-12-20"
         ],
         "xaxis": "x2",
         "y": [
          2,
          2,
          4,
          1,
          8,
          2,
          2,
          2,
          3,
          1,
          1,
          3,
          4,
          6,
          4,
          1,
          4,
          1,
          1
         ],
         "yaxis": "y2"
        },
        {
         "marker": {
          "color": "#880000",
          "size": 10
         },
         "mode": "markers+lines",
         "name": "1166500AVP422503427-01 Energy",
         "text": [
          0,
          0,
          1251910.8,
          1213472.1,
          1213472.1,
          263357.9,
          761068.4,
          761068.4,
          1237745,
          415586.3
         ],
         "type": "scatter",
         "x": [
          "2023-01-18",
          "2023-01-18",
          "2023-01-19",
          "2023-01-20",
          "2023-01-20",
          "2023-01-21",
          "2023-01-23",
          "2023-01-23",
          "2023-01-24",
          "2023-01-25"
         ],
         "xaxis": "x",
         "y": [
          0,
          0,
          1251910.8,
          1213472.1,
          1213472.1,
          263357.9,
          761068.4,
          761068.4,
          1237745,
          415586.3
         ],
         "yaxis": "y"
        },
        {
         "marker": {
          "color": "#880000",
          "size": 10
         },
         "mode": "markers+lines",
         "name": "1166500AVP422503427-01 Productions",
         "text": [
          3657,
          3657,
          11126,
          9950,
          9950,
          2650,
          4584,
          4584,
          10065,
          2164
         ],
         "type": "scatter",
         "x": [
          "2023-01-18",
          "2023-01-18",
          "2023-01-19",
          "2023-01-20",
          "2023-01-20",
          "2023-01-21",
          "2023-01-23",
          "2023-01-23",
          "2023-01-24",
          "2023-01-25"
         ],
         "xaxis": "x3",
         "y": [
          3657,
          3657,
          11126,
          9950,
          9950,
          2650,
          4584,
          4584,
          10065,
          2164
         ],
         "yaxis": "y3"
        },
        {
         "marker": {
          "color": "#880000",
          "size": 10
         },
         "mode": "markers+lines",
         "name": "1166500AVP422503427-01 Stops",
         "text": [
          "Manutenzione ordinaria",
          "Sostituzione utensile",
          "Sostituzione utensile",
          "Manutenzione ordinaria",
          "Sostituzione utensile",
          "Sostituzione utensile",
          "Manutenzione ordinaria",
          "Sostituzione utensile",
          "Sostituzione utensile",
          "Sostituzione utensile"
         ],
         "type": "scatter",
         "x": [
          "2023-01-18",
          "2023-01-18",
          "2023-01-19",
          "2023-01-20",
          "2023-01-20",
          "2023-01-21",
          "2023-01-23",
          "2023-01-23",
          "2023-01-24",
          "2023-01-25"
         ],
         "xaxis": "x2",
         "y": [
          2,
          2,
          5,
          2,
          4,
          1,
          3,
          2,
          1,
          1
         ],
         "yaxis": "y2"
        },
        {
         "marker": {
          "color": "blue",
          "size": 10
         },
         "mode": "markers+lines",
         "name": "1139000AVP515100066A Energy",
         "text": [
          null,
          0,
          0
         ],
         "type": "scatter",
         "x": [
          "2023-08-28",
          "2023-08-29",
          "2023-08-29"
         ],
         "xaxis": "x",
         "y": [
          null,
          0,
          0
         ],
         "yaxis": "y"
        },
        {
         "marker": {
          "color": "blue",
          "size": 10
         },
         "mode": "markers+lines",
         "name": "1139000AVP515100066A Productions",
         "text": [
          887,
          1655,
          1655
         ],
         "type": "scatter",
         "x": [
          "2023-08-28",
          "2023-08-29",
          "2023-08-29"
         ],
         "xaxis": "x3",
         "y": [
          887,
          1655,
          1655
         ],
         "yaxis": "y3"
        },
        {
         "marker": {
          "color": "blue",
          "size": 10
         },
         "mode": "markers+lines",
         "name": "1139000AVP515100066A Stops",
         "text": [
          "Unknown",
          "Manutenzione ordinaria",
          "Sostituzione utensile"
         ],
         "type": "scatter",
         "x": [
          "2023-08-28",
          "2023-08-29",
          "2023-08-29"
         ],
         "xaxis": "x2",
         "y": [
          null,
          3,
          3
         ],
         "yaxis": "y2"
        }
       ],
       "layout": {
        "annotations": [
         {
          "font": {
           "size": 16
          },
          "showarrow": false,
          "text": "Energy Consumption",
          "x": 0.5,
          "xanchor": "center",
          "xref": "paper",
          "y": 1,
          "yanchor": "bottom",
          "yref": "paper"
         },
         {
          "font": {
           "size": 16
          },
          "showarrow": false,
          "text": "Stops",
          "x": 0.5,
          "xanchor": "center",
          "xref": "paper",
          "y": 0.6466666666666667,
          "yanchor": "bottom",
          "yref": "paper"
         },
         {
          "font": {
           "size": 16
          },
          "showarrow": false,
          "text": "Productions",
          "x": 0.5,
          "xanchor": "center",
          "xref": "paper",
          "y": 0.29333333333333333,
          "yanchor": "bottom",
          "yref": "paper"
         }
        ],
        "height": 800,
        "template": {
         "data": {
          "bar": [
           {
            "error_x": {
             "color": "#2a3f5f"
            },
            "error_y": {
             "color": "#2a3f5f"
            },
            "marker": {
             "line": {
              "color": "#E5ECF6",
              "width": 0.5
             },
             "pattern": {
              "fillmode": "overlay",
              "size": 10,
              "solidity": 0.2
             }
            },
            "type": "bar"
           }
          ],
          "barpolar": [
           {
            "marker": {
             "line": {
              "color": "#E5ECF6",
              "width": 0.5
             },
             "pattern": {
              "fillmode": "overlay",
              "size": 10,
              "solidity": 0.2
             }
            },
            "type": "barpolar"
           }
          ],
          "carpet": [
           {
            "aaxis": {
             "endlinecolor": "#2a3f5f",
             "gridcolor": "white",
             "linecolor": "white",
             "minorgridcolor": "white",
             "startlinecolor": "#2a3f5f"
            },
            "baxis": {
             "endlinecolor": "#2a3f5f",
             "gridcolor": "white",
             "linecolor": "white",
             "minorgridcolor": "white",
             "startlinecolor": "#2a3f5f"
            },
            "type": "carpet"
           }
          ],
          "choropleth": [
           {
            "colorbar": {
             "outlinewidth": 0,
             "ticks": ""
            },
            "type": "choropleth"
           }
          ],
          "contour": [
           {
            "colorbar": {
             "outlinewidth": 0,
             "ticks": ""
            },
            "colorscale": [
             [
              0,
              "#0d0887"
             ],
             [
              0.1111111111111111,
              "#46039f"
             ],
             [
              0.2222222222222222,
              "#7201a8"
             ],
             [
              0.3333333333333333,
              "#9c179e"
             ],
             [
              0.4444444444444444,
              "#bd3786"
             ],
             [
              0.5555555555555556,
              "#d8576b"
             ],
             [
              0.6666666666666666,
              "#ed7953"
             ],
             [
              0.7777777777777778,
              "#fb9f3a"
             ],
             [
              0.8888888888888888,
              "#fdca26"
             ],
             [
              1,
              "#f0f921"
             ]
            ],
            "type": "contour"
           }
          ],
          "contourcarpet": [
           {
            "colorbar": {
             "outlinewidth": 0,
             "ticks": ""
            },
            "type": "contourcarpet"
           }
          ],
          "heatmap": [
           {
            "colorbar": {
             "outlinewidth": 0,
             "ticks": ""
            },
            "colorscale": [
             [
              0,
              "#0d0887"
             ],
             [
              0.1111111111111111,
              "#46039f"
             ],
             [
              0.2222222222222222,
              "#7201a8"
             ],
             [
              0.3333333333333333,
              "#9c179e"
             ],
             [
              0.4444444444444444,
              "#bd3786"
             ],
             [
              0.5555555555555556,
              "#d8576b"
             ],
             [
              0.6666666666666666,
              "#ed7953"
             ],
             [
              0.7777777777777778,
              "#fb9f3a"
             ],
             [
              0.8888888888888888,
              "#fdca26"
             ],
             [
              1,
              "#f0f921"
             ]
            ],
            "type": "heatmap"
           }
          ],
          "heatmapgl": [
           {
            "colorbar": {
             "outlinewidth": 0,
             "ticks": ""
            },
            "colorscale": [
             [
              0,
              "#0d0887"
             ],
             [
              0.1111111111111111,
              "#46039f"
             ],
             [
              0.2222222222222222,
              "#7201a8"
             ],
             [
              0.3333333333333333,
              "#9c179e"
             ],
             [
              0.4444444444444444,
              "#bd3786"
             ],
             [
              0.5555555555555556,
              "#d8576b"
             ],
             [
              0.6666666666666666,
              "#ed7953"
             ],
             [
              0.7777777777777778,
              "#fb9f3a"
             ],
             [
              0.8888888888888888,
              "#fdca26"
             ],
             [
              1,
              "#f0f921"
             ]
            ],
            "type": "heatmapgl"
           }
          ],
          "histogram": [
           {
            "marker": {
             "pattern": {
              "fillmode": "overlay",
              "size": 10,
              "solidity": 0.2
             }
            },
            "type": "histogram"
           }
          ],
          "histogram2d": [
           {
            "colorbar": {
             "outlinewidth": 0,
             "ticks": ""
            },
            "colorscale": [
             [
              0,
              "#0d0887"
             ],
             [
              0.1111111111111111,
              "#46039f"
             ],
             [
              0.2222222222222222,
              "#7201a8"
             ],
             [
              0.3333333333333333,
              "#9c179e"
             ],
             [
              0.4444444444444444,
              "#bd3786"
             ],
             [
              0.5555555555555556,
              "#d8576b"
             ],
             [
              0.6666666666666666,
              "#ed7953"
             ],
             [
              0.7777777777777778,
              "#fb9f3a"
             ],
             [
              0.8888888888888888,
              "#fdca26"
             ],
             [
              1,
              "#f0f921"
             ]
            ],
            "type": "histogram2d"
           }
          ],
          "histogram2dcontour": [
           {
            "colorbar": {
             "outlinewidth": 0,
             "ticks": ""
            },
            "colorscale": [
             [
              0,
              "#0d0887"
             ],
             [
              0.1111111111111111,
              "#46039f"
             ],
             [
              0.2222222222222222,
              "#7201a8"
             ],
             [
              0.3333333333333333,
              "#9c179e"
             ],
             [
              0.4444444444444444,
              "#bd3786"
             ],
             [
              0.5555555555555556,
              "#d8576b"
             ],
             [
              0.6666666666666666,
              "#ed7953"
             ],
             [
              0.7777777777777778,
              "#fb9f3a"
             ],
             [
              0.8888888888888888,
              "#fdca26"
             ],
             [
              1,
              "#f0f921"
             ]
            ],
            "type": "histogram2dcontour"
           }
          ],
          "mesh3d": [
           {
            "colorbar": {
             "outlinewidth": 0,
             "ticks": ""
            },
            "type": "mesh3d"
           }
          ],
          "parcoords": [
           {
            "line": {
             "colorbar": {
              "outlinewidth": 0,
              "ticks": ""
             }
            },
            "type": "parcoords"
           }
          ],
          "pie": [
           {
            "automargin": true,
            "type": "pie"
           }
          ],
          "scatter": [
           {
            "fillpattern": {
             "fillmode": "overlay",
             "size": 10,
             "solidity": 0.2
            },
            "type": "scatter"
           }
          ],
          "scatter3d": [
           {
            "line": {
             "colorbar": {
              "outlinewidth": 0,
              "ticks": ""
             }
            },
            "marker": {
             "colorbar": {
              "outlinewidth": 0,
              "ticks": ""
             }
            },
            "type": "scatter3d"
           }
          ],
          "scattercarpet": [
           {
            "marker": {
             "colorbar": {
              "outlinewidth": 0,
              "ticks": ""
             }
            },
            "type": "scattercarpet"
           }
          ],
          "scattergeo": [
           {
            "marker": {
             "colorbar": {
              "outlinewidth": 0,
              "ticks": ""
             }
            },
            "type": "scattergeo"
           }
          ],
          "scattergl": [
           {
            "marker": {
             "colorbar": {
              "outlinewidth": 0,
              "ticks": ""
             }
            },
            "type": "scattergl"
           }
          ],
          "scattermapbox": [
           {
            "marker": {
             "colorbar": {
              "outlinewidth": 0,
              "ticks": ""
             }
            },
            "type": "scattermapbox"
           }
          ],
          "scatterpolar": [
           {
            "marker": {
             "colorbar": {
              "outlinewidth": 0,
              "ticks": ""
             }
            },
            "type": "scatterpolar"
           }
          ],
          "scatterpolargl": [
           {
            "marker": {
             "colorbar": {
              "outlinewidth": 0,
              "ticks": ""
             }
            },
            "type": "scatterpolargl"
           }
          ],
          "scatterternary": [
           {
            "marker": {
             "colorbar": {
              "outlinewidth": 0,
              "ticks": ""
             }
            },
            "type": "scatterternary"
           }
          ],
          "surface": [
           {
            "colorbar": {
             "outlinewidth": 0,
             "ticks": ""
            },
            "colorscale": [
             [
              0,
              "#0d0887"
             ],
             [
              0.1111111111111111,
              "#46039f"
             ],
             [
              0.2222222222222222,
              "#7201a8"
             ],
             [
              0.3333333333333333,
              "#9c179e"
             ],
             [
              0.4444444444444444,
              "#bd3786"
             ],
             [
              0.5555555555555556,
              "#d8576b"
             ],
             [
              0.6666666666666666,
              "#ed7953"
             ],
             [
              0.7777777777777778,
              "#fb9f3a"
             ],
             [
              0.8888888888888888,
              "#fdca26"
             ],
             [
              1,
              "#f0f921"
             ]
            ],
            "type": "surface"
           }
          ],
          "table": [
           {
            "cells": {
             "fill": {
              "color": "#EBF0F8"
             },
             "line": {
              "color": "white"
             }
            },
            "header": {
             "fill": {
              "color": "#C8D4E3"
             },
             "line": {
              "color": "white"
             }
            },
            "type": "table"
           }
          ]
         },
         "layout": {
          "annotationdefaults": {
           "arrowcolor": "#2a3f5f",
           "arrowhead": 0,
           "arrowwidth": 1
          },
          "autotypenumbers": "strict",
          "coloraxis": {
           "colorbar": {
            "outlinewidth": 0,
            "ticks": ""
           }
          },
          "colorscale": {
           "diverging": [
            [
             0,
             "#8e0152"
            ],
            [
             0.1,
             "#c51b7d"
            ],
            [
             0.2,
             "#de77ae"
            ],
            [
             0.3,
             "#f1b6da"
            ],
            [
             0.4,
             "#fde0ef"
            ],
            [
             0.5,
             "#f7f7f7"
            ],
            [
             0.6,
             "#e6f5d0"
            ],
            [
             0.7,
             "#b8e186"
            ],
            [
             0.8,
             "#7fbc41"
            ],
            [
             0.9,
             "#4d9221"
            ],
            [
             1,
             "#276419"
            ]
           ],
           "sequential": [
            [
             0,
             "#0d0887"
            ],
            [
             0.1111111111111111,
             "#46039f"
            ],
            [
             0.2222222222222222,
             "#7201a8"
            ],
            [
             0.3333333333333333,
             "#9c179e"
            ],
            [
             0.4444444444444444,
             "#bd3786"
            ],
            [
             0.5555555555555556,
             "#d8576b"
            ],
            [
             0.6666666666666666,
             "#ed7953"
            ],
            [
             0.7777777777777778,
             "#fb9f3a"
            ],
            [
             0.8888888888888888,
             "#fdca26"
            ],
            [
             1,
             "#f0f921"
            ]
           ],
           "sequentialminus": [
            [
             0,
             "#0d0887"
            ],
            [
             0.1111111111111111,
             "#46039f"
            ],
            [
             0.2222222222222222,
             "#7201a8"
            ],
            [
             0.3333333333333333,
             "#9c179e"
            ],
            [
             0.4444444444444444,
             "#bd3786"
            ],
            [
             0.5555555555555556,
             "#d8576b"
            ],
            [
             0.6666666666666666,
             "#ed7953"
            ],
            [
             0.7777777777777778,
             "#fb9f3a"
            ],
            [
             0.8888888888888888,
             "#fdca26"
            ],
            [
             1,
             "#f0f921"
            ]
           ]
          },
          "colorway": [
           "#636efa",
           "#EF553B",
           "#00cc96",
           "#ab63fa",
           "#FFA15A",
           "#19d3f3",
           "#FF6692",
           "#B6E880",
           "#FF97FF",
           "#FECB52"
          ],
          "font": {
           "color": "#2a3f5f"
          },
          "geo": {
           "bgcolor": "white",
           "lakecolor": "white",
           "landcolor": "#E5ECF6",
           "showlakes": true,
           "showland": true,
           "subunitcolor": "white"
          },
          "hoverlabel": {
           "align": "left"
          },
          "hovermode": "closest",
          "mapbox": {
           "style": "light"
          },
          "paper_bgcolor": "white",
          "plot_bgcolor": "#E5ECF6",
          "polar": {
           "angularaxis": {
            "gridcolor": "white",
            "linecolor": "white",
            "ticks": ""
           },
           "bgcolor": "#E5ECF6",
           "radialaxis": {
            "gridcolor": "white",
            "linecolor": "white",
            "ticks": ""
           }
          },
          "scene": {
           "xaxis": {
            "backgroundcolor": "#E5ECF6",
            "gridcolor": "white",
            "gridwidth": 2,
            "linecolor": "white",
            "showbackground": true,
            "ticks": "",
            "zerolinecolor": "white"
           },
           "yaxis": {
            "backgroundcolor": "#E5ECF6",
            "gridcolor": "white",
            "gridwidth": 2,
            "linecolor": "white",
            "showbackground": true,
            "ticks": "",
            "zerolinecolor": "white"
           },
           "zaxis": {
            "backgroundcolor": "#E5ECF6",
            "gridcolor": "white",
            "gridwidth": 2,
            "linecolor": "white",
            "showbackground": true,
            "ticks": "",
            "zerolinecolor": "white"
           }
          },
          "shapedefaults": {
           "line": {
            "color": "#2a3f5f"
           }
          },
          "ternary": {
           "aaxis": {
            "gridcolor": "white",
            "linecolor": "white",
            "ticks": ""
           },
           "baxis": {
            "gridcolor": "white",
            "linecolor": "white",
            "ticks": ""
           },
           "bgcolor": "#E5ECF6",
           "caxis": {
            "gridcolor": "white",
            "linecolor": "white",
            "ticks": ""
           }
          },
          "title": {
           "x": 0.05
          },
          "xaxis": {
           "automargin": true,
           "gridcolor": "white",
           "linecolor": "white",
           "ticks": "",
           "title": {
            "standoff": 15
           },
           "zerolinecolor": "white",
           "zerolinewidth": 2
          },
          "yaxis": {
           "automargin": true,
           "gridcolor": "white",
           "linecolor": "white",
           "ticks": "",
           "title": {
            "standoff": 15
           },
           "zerolinecolor": "white",
           "zerolinewidth": 2
          }
         }
        },
        "title": {
         "text": "Dataset machine 610"
        },
        "width": 1280,
        "xaxis": {
         "anchor": "y",
         "domain": [
          0,
          1
         ],
         "matches": "x3",
         "showticklabels": false
        },
        "xaxis2": {
         "anchor": "y2",
         "domain": [
          0,
          1
         ],
         "matches": "x3",
         "showticklabels": false
        },
        "xaxis3": {
         "anchor": "y3",
         "domain": [
          0,
          1
         ]
        },
        "yaxis": {
         "anchor": "x",
         "domain": [
          0.7066666666666667,
          1
         ]
        },
        "yaxis2": {
         "anchor": "x2",
         "domain": [
          0.35333333333333333,
          0.6466666666666667
         ]
        },
        "yaxis3": {
         "anchor": "x3",
         "domain": [
          0,
          0.29333333333333333
         ]
        }
       }
      }
     },
     "metadata": {},
     "output_type": "display_data"
    },
    {
     "data": {
      "application/vnd.plotly.v1+json": {
       "config": {
        "plotlyServerURL": "https://plot.ly"
       },
       "data": [
        {
         "marker": {
          "color": "blue",
          "size": 10
         },
         "mode": "markers+lines",
         "name": "1139000AVP515100031A Energy",
         "text": [
          null,
          null,
          123869.2,
          null,
          null,
          204186.9,
          134420.5
         ],
         "type": "scatter",
         "x": [
          "2023-06-22",
          "2023-06-23",
          "2022-12-22",
          "2022-12-23",
          "2022-12-24",
          "2022-12-27",
          "2022-12-28"
         ],
         "xaxis": "x",
         "y": [
          null,
          null,
          123869.2,
          null,
          null,
          204186.9,
          134420.5
         ],
         "yaxis": "y"
        },
        {
         "marker": {
          "color": "blue",
          "size": 10
         },
         "mode": "markers+lines",
         "name": "1139000AVP515100031A Productions",
         "text": [
          59,
          242,
          131,
          423,
          108,
          268,
          36
         ],
         "type": "scatter",
         "x": [
          "2023-06-22",
          "2023-06-23",
          "2022-12-22",
          "2022-12-23",
          "2022-12-24",
          "2022-12-27",
          "2022-12-28"
         ],
         "xaxis": "x3",
         "y": [
          59,
          242,
          131,
          423,
          108,
          268,
          36
         ],
         "yaxis": "y3"
        },
        {
         "marker": {
          "color": "blue",
          "size": 10
         },
         "mode": "markers+lines",
         "name": "1139000AVP515100031A Stops",
         "text": [
          "Unknown",
          "Unknown",
          "Unknown",
          "Manutenzione ordinaria",
          "Sostituzione utensile",
          "Sostituzione utensile",
          "Manutenzione ordinaria"
         ],
         "type": "scatter",
         "x": [
          "2023-06-22",
          "2023-06-23",
          "2022-12-22",
          "2022-12-23",
          "2022-12-24",
          "2022-12-27",
          "2022-12-28"
         ],
         "xaxis": "x2",
         "y": [
          null,
          null,
          null,
          1,
          1,
          1,
          1
         ],
         "yaxis": "y2"
        },
        {
         "marker": {
          "color": "green",
          "size": 10
         },
         "mode": "markers+lines",
         "name": "1156200C45184370500 Energy",
         "text": [
          null,
          null,
          null,
          null,
          null,
          null,
          142261.6,
          301417.9,
          295646.8,
          0
         ],
         "type": "scatter",
         "x": [
          "2023-06-26",
          "2023-06-27",
          "2023-06-28",
          "2023-06-29",
          "2023-06-30",
          "2023-07-01",
          "2023-07-03",
          "2023-07-04",
          "2023-07-05",
          "2023-07-06"
         ],
         "xaxis": "x",
         "y": [
          null,
          null,
          null,
          null,
          null,
          null,
          142261.6,
          301417.9,
          295646.8,
          0
         ],
         "yaxis": "y"
        },
        {
         "marker": {
          "color": "green",
          "size": 10
         },
         "mode": "markers+lines",
         "name": "1156200C45184370500 Productions",
         "text": [
          255,
          592,
          563,
          475,
          639,
          66,
          462,
          655,
          634,
          647
         ],
         "type": "scatter",
         "x": [
          "2023-06-26",
          "2023-06-27",
          "2023-06-28",
          "2023-06-29",
          "2023-06-30",
          "2023-07-01",
          "2023-07-03",
          "2023-07-04",
          "2023-07-05",
          "2023-07-06"
         ],
         "xaxis": "x3",
         "y": [
          255,
          592,
          563,
          475,
          639,
          66,
          462,
          655,
          634,
          647
         ],
         "yaxis": "y3"
        },
        {
         "marker": {
          "color": "green",
          "size": 10
         },
         "mode": "markers+lines",
         "name": "1156200C45184370500 Stops",
         "text": [
          "Unknown",
          "Unknown",
          "Unknown",
          "Unknown",
          "Unknown",
          "Unknown",
          "Sostituzione utensile",
          "Sostituzione utensile",
          "Sostituzione utensile",
          "Sostituzione utensile"
         ],
         "type": "scatter",
         "x": [
          "2023-06-26",
          "2023-06-27",
          "2023-06-28",
          "2023-06-29",
          "2023-06-30",
          "2023-07-01",
          "2023-07-03",
          "2023-07-04",
          "2023-07-05",
          "2023-07-06"
         ],
         "xaxis": "x2",
         "y": [
          null,
          null,
          null,
          null,
          null,
          null,
          1,
          3,
          2,
          1
         ],
         "yaxis": "y2"
        },
        {
         "marker": {
          "color": "#FF0000",
          "size": 10
         },
         "mode": "markers+lines",
         "name": "1103000PR8184450430 Energy",
         "text": [
          null,
          null,
          null,
          null,
          null,
          null,
          null,
          null,
          292138.5,
          null,
          null,
          188578.3,
          118776.3
         ],
         "type": "scatter",
         "x": [
          "2023-07-07",
          "2023-07-08",
          "2023-07-10",
          "2023-07-11",
          "2023-07-12",
          "2023-07-12",
          "2023-07-13",
          "2023-07-17",
          "2023-07-18",
          "2023-07-19",
          "2023-07-19",
          "2023-07-20",
          "2023-07-21"
         ],
         "xaxis": "x",
         "y": [
          null,
          null,
          null,
          null,
          null,
          null,
          null,
          null,
          292138.5,
          null,
          null,
          188578.3,
          118776.3
         ],
         "yaxis": "y"
        },
        {
         "marker": {
          "color": "#FF0000",
          "size": 10
         },
         "mode": "markers+lines",
         "name": "1103000PR8184450430 Productions",
         "text": [
          701,
          114,
          696,
          993,
          850,
          850,
          0,
          148,
          1035,
          844,
          844,
          585,
          6
         ],
         "type": "scatter",
         "x": [
          "2023-07-07",
          "2023-07-08",
          "2023-07-10",
          "2023-07-11",
          "2023-07-12",
          "2023-07-12",
          "2023-07-13",
          "2023-07-17",
          "2023-07-18",
          "2023-07-19",
          "2023-07-19",
          "2023-07-20",
          "2023-07-21"
         ],
         "xaxis": "x3",
         "y": [
          701,
          114,
          696,
          993,
          850,
          850,
          0,
          148,
          1035,
          844,
          844,
          585,
          6
         ],
         "yaxis": "y3"
        },
        {
         "marker": {
          "color": "#FF0000",
          "size": 10
         },
         "mode": "markers+lines",
         "name": "1103000PR8184450430 Stops",
         "text": [
          "Sostituzione utensile",
          "Unknown",
          "Sostituzione utensile",
          "Sostituzione utensile",
          "Manutenzione ordinaria",
          "Sostituzione utensile",
          "Manutenzione ordinaria",
          "Manutenzione ordinaria",
          "Sostituzione utensile",
          "Manutenzione ordinaria",
          "Sostituzione utensile",
          "Unknown",
          "Sostituzione utensile"
         ],
         "type": "scatter",
         "x": [
          "2023-07-07",
          "2023-07-08",
          "2023-07-10",
          "2023-07-11",
          "2023-07-12",
          "2023-07-12",
          "2023-07-13",
          "2023-07-17",
          "2023-07-18",
          "2023-07-19",
          "2023-07-19",
          "2023-07-20",
          "2023-07-21"
         ],
         "xaxis": "x2",
         "y": [
          2,
          null,
          1,
          5,
          2,
          1,
          1,
          1,
          1,
          1,
          1,
          null,
          1
         ],
         "yaxis": "y2"
        },
        {
         "marker": {
          "color": "black",
          "size": 10
         },
         "mode": "markers+lines",
         "name": "Unknown Energy",
         "text": [
          0,
          4727.5,
          0.9,
          0.7000000000000001,
          0,
          0.9,
          0.9,
          0.9,
          1.4,
          1.3,
          1.1,
          1.4,
          1,
          0.3,
          236596.8,
          0.8,
          null,
          27268,
          35510.6,
          null,
          null,
          null,
          279277.6,
          278110.9,
          278110.9,
          263218.6,
          263218.6,
          0,
          0,
          null,
          183856.4,
          null,
          15733.9,
          1.2000000000000002,
          0
         ],
         "type": "scatter",
         "x": [
          "2023-07-15",
          "2023-07-16",
          "2023-07-23",
          "2023-07-30",
          "2023-07-31",
          "2023-01-01",
          "2023-01-02",
          "2023-01-03",
          "2023-01-04",
          "2023-01-05",
          "2023-01-06",
          "2023-01-07",
          "2023-01-08",
          "2023-01-29",
          "2023-01-31",
          "2023-03-05",
          "2023-03-13",
          "2023-03-14",
          "2023-03-15",
          "2023-03-18",
          "2023-03-20",
          "2023-03-20",
          "2023-03-21",
          "2023-03-22",
          "2023-03-22",
          "2023-03-23",
          "2023-03-23",
          "2023-03-24",
          "2023-03-25",
          "2023-03-29",
          "2023-03-30",
          "2023-03-31",
          "2022-12-02",
          "2022-12-18",
          "2022-12-31"
         ],
         "xaxis": "x",
         "y": [
          0,
          4727.5,
          0.9,
          0.7000000000000001,
          0,
          0.9,
          0.9,
          0.9,
          1.4,
          1.3,
          1.1,
          1.4,
          1,
          0.3,
          236596.8,
          0.8,
          null,
          27268,
          35510.6,
          null,
          null,
          null,
          279277.6,
          278110.9,
          278110.9,
          263218.6,
          263218.6,
          0,
          0,
          null,
          183856.4,
          null,
          15733.9,
          1.2000000000000002,
          0
         ],
         "yaxis": "y"
        },
        {
         "marker": {
          "color": "black",
          "size": 10
         },
         "mode": "markers+lines",
         "name": "Unknown Productions",
         "text": [
          null,
          null,
          null,
          null,
          null,
          null,
          null,
          null,
          null,
          null,
          null,
          null,
          null,
          null,
          null,
          null,
          null,
          null,
          null,
          null,
          null,
          null,
          null,
          null,
          null,
          null,
          null,
          null,
          null,
          null,
          null,
          null,
          null,
          null,
          null
         ],
         "type": "scatter",
         "x": [
          "2023-07-15",
          "2023-07-16",
          "2023-07-23",
          "2023-07-30",
          "2023-07-31",
          "2023-01-01",
          "2023-01-02",
          "2023-01-03",
          "2023-01-04",
          "2023-01-05",
          "2023-01-06",
          "2023-01-07",
          "2023-01-08",
          "2023-01-29",
          "2023-01-31",
          "2023-03-05",
          "2023-03-13",
          "2023-03-14",
          "2023-03-15",
          "2023-03-18",
          "2023-03-20",
          "2023-03-20",
          "2023-03-21",
          "2023-03-22",
          "2023-03-22",
          "2023-03-23",
          "2023-03-23",
          "2023-03-24",
          "2023-03-25",
          "2023-03-29",
          "2023-03-30",
          "2023-03-31",
          "2022-12-02",
          "2022-12-18",
          "2022-12-31"
         ],
         "xaxis": "x3",
         "y": [
          null,
          null,
          null,
          null,
          null,
          null,
          null,
          null,
          null,
          null,
          null,
          null,
          null,
          null,
          null,
          null,
          null,
          null,
          null,
          null,
          null,
          null,
          null,
          null,
          null,
          null,
          null,
          null,
          null,
          null,
          null,
          null,
          null,
          null,
          null
         ],
         "yaxis": "y3"
        },
        {
         "marker": {
          "color": "black",
          "size": 10
         },
         "mode": "markers+lines",
         "name": "Unknown Stops",
         "text": [
          "Unknown",
          "Unknown",
          "Unknown",
          "Unknown",
          "Manutenzione ordinaria",
          "Unknown",
          "Unknown",
          "Unknown",
          "Unknown",
          "Unknown",
          "Unknown",
          "Unknown",
          "Unknown",
          "Unknown",
          "Manutenzione ordinaria",
          "Unknown",
          "Sostituzione utensile",
          "Unknown",
          "Unknown",
          "Sostituzione utensile",
          "Manutenzione ordinaria",
          "Sostituzione utensile",
          "Sostituzione utensile",
          "Manutenzione ordinaria",
          "Sostituzione utensile",
          "Manutenzione ordinaria",
          "Sostituzione utensile",
          "Sostituzione utensile",
          "Manutenzione ordinaria",
          "Sostituzione utensile",
          "Manutenzione ordinaria",
          "Manutenzione ordinaria",
          "Unknown",
          "Unknown",
          "Unknown"
         ],
         "type": "scatter",
         "x": [
          "2023-07-15",
          "2023-07-16",
          "2023-07-23",
          "2023-07-30",
          "2023-07-31",
          "2023-01-01",
          "2023-01-02",
          "2023-01-03",
          "2023-01-04",
          "2023-01-05",
          "2023-01-06",
          "2023-01-07",
          "2023-01-08",
          "2023-01-29",
          "2023-01-31",
          "2023-03-05",
          "2023-03-13",
          "2023-03-14",
          "2023-03-15",
          "2023-03-18",
          "2023-03-20",
          "2023-03-20",
          "2023-03-21",
          "2023-03-22",
          "2023-03-22",
          "2023-03-23",
          "2023-03-23",
          "2023-03-24",
          "2023-03-25",
          "2023-03-29",
          "2023-03-30",
          "2023-03-31",
          "2022-12-02",
          "2022-12-18",
          "2022-12-31"
         ],
         "xaxis": "x2",
         "y": [
          null,
          null,
          null,
          null,
          1,
          null,
          null,
          null,
          null,
          null,
          null,
          null,
          null,
          null,
          1,
          null,
          1,
          null,
          null,
          4,
          1,
          1,
          1,
          2,
          2,
          3,
          1,
          1,
          1,
          1,
          1,
          1,
          null,
          null,
          null
         ],
         "yaxis": "y2"
        },
        {
         "marker": {
          "color": "#FFFF00",
          "size": 10
         },
         "mode": "markers+lines",
         "name": "1103000PR8160540210 Energy",
         "text": [
          118776.3,
          43396.7,
          239531.1,
          146033.7
         ],
         "type": "scatter",
         "x": [
          "2023-07-21",
          "2023-07-22",
          "2023-07-24",
          "2023-07-25"
         ],
         "xaxis": "x",
         "y": [
          118776.3,
          43396.7,
          239531.1,
          146033.7
         ],
         "yaxis": "y"
        },
        {
         "marker": {
          "color": "#FFFF00",
          "size": 10
         },
         "mode": "markers+lines",
         "name": "1103000PR8160540210 Productions",
         "text": [
          144,
          192,
          451,
          310
         ],
         "type": "scatter",
         "x": [
          "2023-07-21",
          "2023-07-22",
          "2023-07-24",
          "2023-07-25"
         ],
         "xaxis": "x3",
         "y": [
          144,
          192,
          451,
          310
         ],
         "yaxis": "y3"
        },
        {
         "marker": {
          "color": "#FFFF00",
          "size": 10
         },
         "mode": "markers+lines",
         "name": "1103000PR8160540210 Stops",
         "text": [
          "Sostituzione utensile",
          "Sostituzione utensile",
          "Sostituzione utensile",
          "Sostituzione utensile"
         ],
         "type": "scatter",
         "x": [
          "2023-07-21",
          "2023-07-22",
          "2023-07-24",
          "2023-07-25"
         ],
         "xaxis": "x2",
         "y": [
          1,
          1,
          2,
          1
         ],
         "yaxis": "y2"
        },
        {
         "marker": {
          "color": "#880000",
          "size": 10
         },
         "mode": "markers+lines",
         "name": "0003200C45PVR.030.150-A3 Energy",
         "text": [
          146033.7,
          49807.7,
          91163.5,
          191909.9,
          44756.5
         ],
         "type": "scatter",
         "x": [
          "2023-07-25",
          "2023-07-26",
          "2023-07-27",
          "2023-07-28",
          "2023-07-29"
         ],
         "xaxis": "x",
         "y": [
          146033.7,
          49807.7,
          91163.5,
          191909.9,
          44756.5
         ],
         "yaxis": "y"
        },
        {
         "marker": {
          "color": "#880000",
          "size": 10
         },
         "mode": "markers+lines",
         "name": "0003200C45PVR.030.150-A3 Productions",
         "text": [
          0,
          0,
          38,
          215,
          80
         ],
         "type": "scatter",
         "x": [
          "2023-07-25",
          "2023-07-26",
          "2023-07-27",
          "2023-07-28",
          "2023-07-29"
         ],
         "xaxis": "x3",
         "y": [
          0,
          0,
          38,
          215,
          80
         ],
         "yaxis": "y3"
        },
        {
         "marker": {
          "color": "#880000",
          "size": 10
         },
         "mode": "markers+lines",
         "name": "0003200C45PVR.030.150-A3 Stops",
         "text": [
          "Sostituzione utensile",
          "Unknown",
          "Unknown",
          "Sostituzione utensile",
          "Sostituzione utensile"
         ],
         "type": "scatter",
         "x": [
          "2023-07-25",
          "2023-07-26",
          "2023-07-27",
          "2023-07-28",
          "2023-07-29"
         ],
         "xaxis": "x2",
         "y": [
          1,
          null,
          null,
          1,
          1
         ],
         "yaxis": "y2"
        },
        {
         "marker": {
          "color": "blue",
          "size": 10
         },
         "mode": "markers+lines",
         "name": "1139000C45516700319A Energy",
         "text": [
          null,
          213134.7,
          279414.1,
          0,
          74631
         ],
         "type": "scatter",
         "x": [
          "2022-12-30",
          "2023-01-09",
          "2023-01-10",
          "2023-01-11",
          "2022-12-30"
         ],
         "xaxis": "x",
         "y": [
          null,
          213134.7,
          279414.1,
          0,
          74631
         ],
         "yaxis": "y"
        },
        {
         "marker": {
          "color": "blue",
          "size": 10
         },
         "mode": "markers+lines",
         "name": "1139000C45516700319A Productions",
         "text": [
          12,
          158,
          224,
          86,
          12
         ],
         "type": "scatter",
         "x": [
          "2022-12-30",
          "2023-01-09",
          "2023-01-10",
          "2023-01-11",
          "2022-12-30"
         ],
         "xaxis": "x3",
         "y": [
          12,
          158,
          224,
          86,
          12
         ],
         "yaxis": "y3"
        },
        {
         "marker": {
          "color": "blue",
          "size": 10
         },
         "mode": "markers+lines",
         "name": "1139000C45516700319A Stops",
         "text": [
          "Unknown",
          "Manutenzione ordinaria",
          "Sostituzione utensile",
          "Sostituzione utensile",
          "Manutenzione ordinaria"
         ],
         "type": "scatter",
         "x": [
          "2022-12-30",
          "2023-01-09",
          "2023-01-10",
          "2023-01-11",
          "2022-12-30"
         ],
         "xaxis": "x2",
         "y": [
          null,
          1,
          5,
          4,
          1
         ],
         "yaxis": "y2"
        },
        {
         "marker": {
          "color": "green",
          "size": 10
         },
         "mode": "markers+lines",
         "name": "1139000C45516200019A Energy",
         "text": [
          0,
          null,
          260470.6,
          260470.6,
          null,
          null,
          null,
          0,
          265616.5,
          265616.5,
          251835.6,
          251835.6,
          115288.1,
          0.8,
          187766.5,
          37080.3
         ],
         "type": "scatter",
         "x": [
          "2023-01-11",
          "2023-01-12",
          "2023-01-13",
          "2023-01-13",
          "2023-01-14",
          "2023-01-16",
          "2023-01-17",
          "2023-01-18",
          "2023-01-19",
          "2023-01-19",
          "2023-01-20",
          "2023-01-20",
          "2023-01-21",
          "2023-01-22",
          "2023-01-23",
          "2023-01-24"
         ],
         "xaxis": "x",
         "y": [
          0,
          null,
          260470.6,
          260470.6,
          null,
          null,
          null,
          0,
          265616.5,
          265616.5,
          251835.6,
          251835.6,
          115288.1,
          0.8,
          187766.5,
          37080.3
         ],
         "yaxis": "y"
        },
        {
         "marker": {
          "color": "green",
          "size": 10
         },
         "mode": "markers+lines",
         "name": "1139000C45516200019A Productions",
         "text": [
          79,
          750,
          752,
          752,
          312,
          484,
          774,
          764,
          795,
          795,
          708,
          708,
          310,
          2,
          506,
          26
         ],
         "type": "scatter",
         "x": [
          "2023-01-11",
          "2023-01-12",
          "2023-01-13",
          "2023-01-13",
          "2023-01-14",
          "2023-01-16",
          "2023-01-17",
          "2023-01-18",
          "2023-01-19",
          "2023-01-19",
          "2023-01-20",
          "2023-01-20",
          "2023-01-21",
          "2023-01-22",
          "2023-01-23",
          "2023-01-24"
         ],
         "xaxis": "x3",
         "y": [
          79,
          750,
          752,
          752,
          312,
          484,
          774,
          764,
          795,
          795,
          708,
          708,
          310,
          2,
          506,
          26
         ],
         "yaxis": "y3"
        },
        {
         "marker": {
          "color": "green",
          "size": 10
         },
         "mode": "markers+lines",
         "name": "1139000C45516200019A Stops",
         "text": [
          "Sostituzione utensile",
          "Sostituzione utensile",
          "Manutenzione ordinaria",
          "Sostituzione utensile",
          "Unknown",
          "Sostituzione utensile",
          "Sostituzione utensile",
          "Unknown",
          "Manutenzione ordinaria",
          "Sostituzione utensile",
          "Manutenzione ordinaria",
          "Sostituzione utensile",
          "Unknown",
          "Unknown",
          "Sostituzione utensile",
          "Unknown"
         ],
         "type": "scatter",
         "x": [
          "2023-01-11",
          "2023-01-12",
          "2023-01-13",
          "2023-01-13",
          "2023-01-14",
          "2023-01-16",
          "2023-01-17",
          "2023-01-18",
          "2023-01-19",
          "2023-01-19",
          "2023-01-20",
          "2023-01-20",
          "2023-01-21",
          "2023-01-22",
          "2023-01-23",
          "2023-01-24"
         ],
         "xaxis": "x2",
         "y": [
          4,
          3,
          1,
          1,
          null,
          1,
          1,
          null,
          3,
          1,
          1,
          2,
          null,
          null,
          4,
          null
         ],
         "yaxis": "y2"
        },
        {
         "marker": {
          "color": "#FF0000",
          "size": 10
         },
         "mode": "markers+lines",
         "name": "1139000PR8516700257A Energy",
         "text": [
          37080.3,
          105302.1,
          252606.2,
          252606.2,
          272032.5,
          120946.7,
          208851.3
         ],
         "type": "scatter",
         "x": [
          "2023-01-24",
          "2023-01-25",
          "2023-01-26",
          "2023-01-26",
          "2023-01-27",
          "2023-01-28",
          "2023-01-30"
         ],
         "xaxis": "x",
         "y": [
          37080.3,
          105302.1,
          252606.2,
          252606.2,
          272032.5,
          120946.7,
          208851.3
         ],
         "yaxis": "y"
        },
        {
         "marker": {
          "color": "#FF0000",
          "size": 10
         },
         "mode": "markers+lines",
         "name": "1139000PR8516700257A Productions",
         "text": [
          0,
          93,
          348,
          348,
          351,
          158,
          118
         ],
         "type": "scatter",
         "x": [
          "2023-01-24",
          "2023-01-25",
          "2023-01-26",
          "2023-01-26",
          "2023-01-27",
          "2023-01-28",
          "2023-01-30"
         ],
         "xaxis": "x3",
         "y": [
          0,
          93,
          348,
          348,
          351,
          158,
          118
         ],
         "yaxis": "y3"
        },
        {
         "marker": {
          "color": "#FF0000",
          "size": 10
         },
         "mode": "markers+lines",
         "name": "1139000PR8516700257A Stops",
         "text": [
          "Unknown",
          "Unknown",
          "Manutenzione ordinaria",
          "Sostituzione utensile",
          "Sostituzione utensile",
          "Manutenzione ordinaria",
          "Unknown"
         ],
         "type": "scatter",
         "x": [
          "2023-01-24",
          "2023-01-25",
          "2023-01-26",
          "2023-01-26",
          "2023-01-27",
          "2023-01-28",
          "2023-01-30"
         ],
         "xaxis": "x2",
         "y": [
          null,
          null,
          1,
          3,
          4,
          1,
          null
         ],
         "yaxis": "y2"
        },
        {
         "marker": {
          "color": "#00FFFF",
          "size": 10
         },
         "mode": "markers+lines",
         "name": "0014600AIS73211856 Energy",
         "text": [
          null,
          null
         ],
         "type": "scatter",
         "x": [
          "2023-02-27",
          "2023-02-28"
         ],
         "xaxis": "x",
         "y": [
          null,
          null
         ],
         "yaxis": "y"
        },
        {
         "marker": {
          "color": "#00FFFF",
          "size": 10
         },
         "mode": "markers+lines",
         "name": "0014600AIS73211856 Productions",
         "text": [
          251,
          182
         ],
         "type": "scatter",
         "x": [
          "2023-02-27",
          "2023-02-28"
         ],
         "xaxis": "x3",
         "y": [
          251,
          182
         ],
         "yaxis": "y3"
        },
        {
         "marker": {
          "color": "#00FFFF",
          "size": 10
         },
         "mode": "markers+lines",
         "name": "0014600AIS73211856 Stops",
         "text": [
          "Unknown",
          "Unknown"
         ],
         "type": "scatter",
         "x": [
          "2023-02-27",
          "2023-02-28"
         ],
         "xaxis": "x2",
         "y": [
          null,
          null
         ],
         "yaxis": "y2"
        },
        {
         "marker": {
          "color": "#FFFF00",
          "size": 10
         },
         "mode": "markers+lines",
         "name": "1143600C45L1A11373-01 Energy",
         "text": [
          32116.6,
          null,
          187871.9,
          90306.1,
          163441.6,
          254131.6,
          254131.6,
          208938.3,
          208938.3,
          null,
          null,
          null,
          0
         ],
         "type": "scatter",
         "x": [
          "2023-03-01",
          "2023-03-02",
          "2023-03-03",
          "2023-03-04",
          "2023-03-06",
          "2023-03-07",
          "2023-03-07",
          "2023-03-08",
          "2023-03-08",
          "2023-03-09",
          "2023-03-09",
          "2023-03-10",
          "2023-03-11"
         ],
         "xaxis": "x",
         "y": [
          32116.6,
          null,
          187871.9,
          90306.1,
          163441.6,
          254131.6,
          254131.6,
          208938.3,
          208938.3,
          null,
          null,
          null,
          0
         ],
         "yaxis": "y"
        },
        {
         "marker": {
          "color": "#FFFF00",
          "size": 10
         },
         "mode": "markers+lines",
         "name": "1143600C45L1A11373-01 Productions",
         "text": [
          0,
          0,
          185,
          153,
          145,
          287,
          287,
          232,
          232,
          311,
          311,
          328,
          148
         ],
         "type": "scatter",
         "x": [
          "2023-03-01",
          "2023-03-02",
          "2023-03-03",
          "2023-03-04",
          "2023-03-06",
          "2023-03-07",
          "2023-03-07",
          "2023-03-08",
          "2023-03-08",
          "2023-03-09",
          "2023-03-09",
          "2023-03-10",
          "2023-03-11"
         ],
         "xaxis": "x3",
         "y": [
          0,
          0,
          185,
          153,
          145,
          287,
          287,
          232,
          232,
          311,
          311,
          328,
          148
         ],
         "yaxis": "y3"
        },
        {
         "marker": {
          "color": "#FFFF00",
          "size": 10
         },
         "mode": "markers+lines",
         "name": "1143600C45L1A11373-01 Stops",
         "text": [
          "Unknown",
          "Unknown",
          "Unknown",
          "Sostituzione utensile",
          "Manutenzione ordinaria",
          "Manutenzione ordinaria",
          "Sostituzione utensile",
          "Manutenzione ordinaria",
          "Sostituzione utensile",
          "Manutenzione ordinaria",
          "Sostituzione utensile",
          "Manutenzione ordinaria",
          "Manutenzione ordinaria"
         ],
         "type": "scatter",
         "x": [
          "2023-03-01",
          "2023-03-02",
          "2023-03-03",
          "2023-03-04",
          "2023-03-06",
          "2023-03-07",
          "2023-03-07",
          "2023-03-08",
          "2023-03-08",
          "2023-03-09",
          "2023-03-09",
          "2023-03-10",
          "2023-03-11"
         ],
         "xaxis": "x2",
         "y": [
          null,
          null,
          null,
          3,
          6,
          6,
          2,
          3,
          3,
          1,
          3,
          1,
          1
         ],
         "yaxis": "y2"
        },
        {
         "marker": {
          "color": "#880000",
          "size": 10
         },
         "mode": "markers+lines",
         "name": "1163700100VAI0600108 Energy",
         "text": [
          null,
          null,
          null,
          47340.7
         ],
         "type": "scatter",
         "x": [
          "2022-11-28",
          "2022-11-29",
          "2022-11-30",
          "2022-12-01"
         ],
         "xaxis": "x",
         "y": [
          null,
          null,
          null,
          47340.7
         ],
         "yaxis": "y"
        },
        {
         "marker": {
          "color": "#880000",
          "size": 10
         },
         "mode": "markers+lines",
         "name": "1163700100VAI0600108 Productions",
         "text": [
          73,
          411,
          299,
          50
         ],
         "type": "scatter",
         "x": [
          "2022-11-28",
          "2022-11-29",
          "2022-11-30",
          "2022-12-01"
         ],
         "xaxis": "x3",
         "y": [
          73,
          411,
          299,
          50
         ],
         "yaxis": "y3"
        },
        {
         "marker": {
          "color": "#880000",
          "size": 10
         },
         "mode": "markers+lines",
         "name": "1163700100VAI0600108 Stops",
         "text": [
          "Unknown",
          "Unknown",
          "Unknown",
          "Sostituzione utensile"
         ],
         "type": "scatter",
         "x": [
          "2022-11-28",
          "2022-11-29",
          "2022-11-30",
          "2022-12-01"
         ],
         "xaxis": "x2",
         "y": [
          null,
          null,
          null,
          4
         ],
         "yaxis": "y2"
        },
        {
         "marker": {
          "color": "blue",
          "size": 10
         },
         "mode": "markers+lines",
         "name": "0014600AIS73221856 Energy",
         "text": [
          47340.7,
          4531,
          19804.2,
          29051.7,
          null,
          1.1,
          1.5,
          0,
          135344,
          255588.5,
          54808.8,
          54808.8,
          0,
          93596.5
         ],
         "type": "scatter",
         "x": [
          "2022-12-01",
          "2022-12-05",
          "2022-12-06",
          "2022-12-07",
          "2022-12-08",
          "2022-12-09",
          "2022-12-10",
          "2022-12-11",
          "2022-12-12",
          "2022-12-13",
          "2022-12-14",
          "2022-12-14",
          "2022-12-15",
          "2022-12-16"
         ],
         "xaxis": "x",
         "y": [
          47340.7,
          4531,
          19804.2,
          29051.7,
          null,
          1.1,
          1.5,
          0,
          135344,
          255588.5,
          54808.8,
          54808.8,
          0,
          93596.5
         ],
         "yaxis": "y"
        },
        {
         "marker": {
          "color": "blue",
          "size": 10
         },
         "mode": "markers+lines",
         "name": "0014600AIS73221856 Productions",
         "text": [
          0,
          0,
          0,
          0,
          0,
          0,
          0,
          0,
          29,
          154,
          63,
          63,
          77,
          4
         ],
         "type": "scatter",
         "x": [
          "2022-12-01",
          "2022-12-05",
          "2022-12-06",
          "2022-12-07",
          "2022-12-08",
          "2022-12-09",
          "2022-12-10",
          "2022-12-11",
          "2022-12-12",
          "2022-12-13",
          "2022-12-14",
          "2022-12-14",
          "2022-12-15",
          "2022-12-16"
         ],
         "xaxis": "x3",
         "y": [
          0,
          0,
          0,
          0,
          0,
          0,
          0,
          0,
          29,
          154,
          63,
          63,
          77,
          4
         ],
         "yaxis": "y3"
        },
        {
         "marker": {
          "color": "blue",
          "size": 10
         },
         "mode": "markers+lines",
         "name": "0014600AIS73221856 Stops",
         "text": [
          "Sostituzione utensile",
          "Manutenzione straordinaria",
          "Unknown",
          "Manutenzione straordinaria",
          "Manutenzione straordinaria",
          "Manutenzione straordinaria",
          "Manutenzione straordinaria",
          "Manutenzione straordinaria",
          "Manutenzione straordinaria",
          "Unknown",
          "Manutenzione ordinaria",
          "Sostituzione utensile",
          "Unknown",
          "Sostituzione utensile"
         ],
         "type": "scatter",
         "x": [
          "2022-12-01",
          "2022-12-05",
          "2022-12-06",
          "2022-12-07",
          "2022-12-08",
          "2022-12-09",
          "2022-12-10",
          "2022-12-11",
          "2022-12-12",
          "2022-12-13",
          "2022-12-14",
          "2022-12-14",
          "2022-12-15",
          "2022-12-16"
         ],
         "xaxis": "x2",
         "y": [
          4,
          1,
          null,
          1,
          1,
          1,
          1,
          1,
          1,
          null,
          2,
          1,
          null,
          1
         ],
         "yaxis": "y2"
        },
        {
         "marker": {
          "color": "green",
          "size": 10
         },
         "mode": "markers+lines",
         "name": "1160900FE37SA02397 Energy",
         "text": [
          93596.5
         ],
         "type": "scatter",
         "x": [
          "2022-12-16"
         ],
         "xaxis": "x",
         "y": [
          93596.5
         ],
         "yaxis": "y"
        },
        {
         "marker": {
          "color": "green",
          "size": 10
         },
         "mode": "markers+lines",
         "name": "1160900FE37SA02397 Productions",
         "text": [
          240
         ],
         "type": "scatter",
         "x": [
          "2022-12-16"
         ],
         "xaxis": "x3",
         "y": [
          240
         ],
         "yaxis": "y3"
        },
        {
         "marker": {
          "color": "green",
          "size": 10
         },
         "mode": "markers+lines",
         "name": "1160900FE37SA02397 Stops",
         "text": [
          "Sostituzione utensile"
         ],
         "type": "scatter",
         "x": [
          "2022-12-16"
         ],
         "xaxis": "x2",
         "y": [
          1
         ],
         "yaxis": "y2"
        },
        {
         "marker": {
          "color": "#FF0000",
          "size": 10
         },
         "mode": "markers+lines",
         "name": "116370042CVAK0600032 Energy",
         "text": [
          23488.3,
          139637.2,
          188824,
          196383,
          196383
         ],
         "type": "scatter",
         "x": [
          "2022-12-17",
          "2022-12-19",
          "2022-12-20",
          "2022-12-21",
          "2022-12-21"
         ],
         "xaxis": "x",
         "y": [
          23488.3,
          139637.2,
          188824,
          196383,
          196383
         ],
         "yaxis": "y"
        },
        {
         "marker": {
          "color": "#FF0000",
          "size": 10
         },
         "mode": "markers+lines",
         "name": "116370042CVAK0600032 Productions",
         "text": [
          0,
          289,
          449,
          450,
          450
         ],
         "type": "scatter",
         "x": [
          "2022-12-17",
          "2022-12-19",
          "2022-12-20",
          "2022-12-21",
          "2022-12-21"
         ],
         "xaxis": "x3",
         "y": [
          0,
          289,
          449,
          450,
          450
         ],
         "yaxis": "y3"
        },
        {
         "marker": {
          "color": "#FF0000",
          "size": 10
         },
         "mode": "markers+lines",
         "name": "116370042CVAK0600032 Stops",
         "text": [
          "Unknown",
          "Unknown",
          "Sostituzione utensile",
          "Manutenzione ordinaria",
          "Sostituzione utensile"
         ],
         "type": "scatter",
         "x": [
          "2022-12-17",
          "2022-12-19",
          "2022-12-20",
          "2022-12-21",
          "2022-12-21"
         ],
         "xaxis": "x2",
         "y": [
          null,
          null,
          3,
          3,
          2
         ],
         "yaxis": "y2"
        },
        {
         "marker": {
          "color": "#00FFFF",
          "size": 10
         },
         "mode": "markers+lines",
         "name": "1139000C45510000895C Energy",
         "text": [
          134420.5,
          273233.4
         ],
         "type": "scatter",
         "x": [
          "2022-12-28",
          "2022-12-29"
         ],
         "xaxis": "x",
         "y": [
          134420.5,
          273233.4
         ],
         "yaxis": "y"
        },
        {
         "marker": {
          "color": "#00FFFF",
          "size": 10
         },
         "mode": "markers+lines",
         "name": "1139000C45510000895C Productions",
         "text": [
          106,
          350
         ],
         "type": "scatter",
         "x": [
          "2022-12-28",
          "2022-12-29"
         ],
         "xaxis": "x3",
         "y": [
          106,
          350
         ],
         "yaxis": "y3"
        },
        {
         "marker": {
          "color": "#00FFFF",
          "size": 10
         },
         "mode": "markers+lines",
         "name": "1139000C45510000895C Stops",
         "text": [
          "Manutenzione ordinaria",
          "Sostituzione utensile"
         ],
         "type": "scatter",
         "x": [
          "2022-12-28",
          "2022-12-29"
         ],
         "xaxis": "x2",
         "y": [
          1,
          1
         ],
         "yaxis": "y2"
        }
       ],
       "layout": {
        "annotations": [
         {
          "font": {
           "size": 16
          },
          "showarrow": false,
          "text": "Energy Consumption",
          "x": 0.5,
          "xanchor": "center",
          "xref": "paper",
          "y": 1,
          "yanchor": "bottom",
          "yref": "paper"
         },
         {
          "font": {
           "size": 16
          },
          "showarrow": false,
          "text": "Stops",
          "x": 0.5,
          "xanchor": "center",
          "xref": "paper",
          "y": 0.6466666666666667,
          "yanchor": "bottom",
          "yref": "paper"
         },
         {
          "font": {
           "size": 16
          },
          "showarrow": false,
          "text": "Productions",
          "x": 0.5,
          "xanchor": "center",
          "xref": "paper",
          "y": 0.29333333333333333,
          "yanchor": "bottom",
          "yref": "paper"
         }
        ],
        "height": 800,
        "template": {
         "data": {
          "bar": [
           {
            "error_x": {
             "color": "#2a3f5f"
            },
            "error_y": {
             "color": "#2a3f5f"
            },
            "marker": {
             "line": {
              "color": "#E5ECF6",
              "width": 0.5
             },
             "pattern": {
              "fillmode": "overlay",
              "size": 10,
              "solidity": 0.2
             }
            },
            "type": "bar"
           }
          ],
          "barpolar": [
           {
            "marker": {
             "line": {
              "color": "#E5ECF6",
              "width": 0.5
             },
             "pattern": {
              "fillmode": "overlay",
              "size": 10,
              "solidity": 0.2
             }
            },
            "type": "barpolar"
           }
          ],
          "carpet": [
           {
            "aaxis": {
             "endlinecolor": "#2a3f5f",
             "gridcolor": "white",
             "linecolor": "white",
             "minorgridcolor": "white",
             "startlinecolor": "#2a3f5f"
            },
            "baxis": {
             "endlinecolor": "#2a3f5f",
             "gridcolor": "white",
             "linecolor": "white",
             "minorgridcolor": "white",
             "startlinecolor": "#2a3f5f"
            },
            "type": "carpet"
           }
          ],
          "choropleth": [
           {
            "colorbar": {
             "outlinewidth": 0,
             "ticks": ""
            },
            "type": "choropleth"
           }
          ],
          "contour": [
           {
            "colorbar": {
             "outlinewidth": 0,
             "ticks": ""
            },
            "colorscale": [
             [
              0,
              "#0d0887"
             ],
             [
              0.1111111111111111,
              "#46039f"
             ],
             [
              0.2222222222222222,
              "#7201a8"
             ],
             [
              0.3333333333333333,
              "#9c179e"
             ],
             [
              0.4444444444444444,
              "#bd3786"
             ],
             [
              0.5555555555555556,
              "#d8576b"
             ],
             [
              0.6666666666666666,
              "#ed7953"
             ],
             [
              0.7777777777777778,
              "#fb9f3a"
             ],
             [
              0.8888888888888888,
              "#fdca26"
             ],
             [
              1,
              "#f0f921"
             ]
            ],
            "type": "contour"
           }
          ],
          "contourcarpet": [
           {
            "colorbar": {
             "outlinewidth": 0,
             "ticks": ""
            },
            "type": "contourcarpet"
           }
          ],
          "heatmap": [
           {
            "colorbar": {
             "outlinewidth": 0,
             "ticks": ""
            },
            "colorscale": [
             [
              0,
              "#0d0887"
             ],
             [
              0.1111111111111111,
              "#46039f"
             ],
             [
              0.2222222222222222,
              "#7201a8"
             ],
             [
              0.3333333333333333,
              "#9c179e"
             ],
             [
              0.4444444444444444,
              "#bd3786"
             ],
             [
              0.5555555555555556,
              "#d8576b"
             ],
             [
              0.6666666666666666,
              "#ed7953"
             ],
             [
              0.7777777777777778,
              "#fb9f3a"
             ],
             [
              0.8888888888888888,
              "#fdca26"
             ],
             [
              1,
              "#f0f921"
             ]
            ],
            "type": "heatmap"
           }
          ],
          "heatmapgl": [
           {
            "colorbar": {
             "outlinewidth": 0,
             "ticks": ""
            },
            "colorscale": [
             [
              0,
              "#0d0887"
             ],
             [
              0.1111111111111111,
              "#46039f"
             ],
             [
              0.2222222222222222,
              "#7201a8"
             ],
             [
              0.3333333333333333,
              "#9c179e"
             ],
             [
              0.4444444444444444,
              "#bd3786"
             ],
             [
              0.5555555555555556,
              "#d8576b"
             ],
             [
              0.6666666666666666,
              "#ed7953"
             ],
             [
              0.7777777777777778,
              "#fb9f3a"
             ],
             [
              0.8888888888888888,
              "#fdca26"
             ],
             [
              1,
              "#f0f921"
             ]
            ],
            "type": "heatmapgl"
           }
          ],
          "histogram": [
           {
            "marker": {
             "pattern": {
              "fillmode": "overlay",
              "size": 10,
              "solidity": 0.2
             }
            },
            "type": "histogram"
           }
          ],
          "histogram2d": [
           {
            "colorbar": {
             "outlinewidth": 0,
             "ticks": ""
            },
            "colorscale": [
             [
              0,
              "#0d0887"
             ],
             [
              0.1111111111111111,
              "#46039f"
             ],
             [
              0.2222222222222222,
              "#7201a8"
             ],
             [
              0.3333333333333333,
              "#9c179e"
             ],
             [
              0.4444444444444444,
              "#bd3786"
             ],
             [
              0.5555555555555556,
              "#d8576b"
             ],
             [
              0.6666666666666666,
              "#ed7953"
             ],
             [
              0.7777777777777778,
              "#fb9f3a"
             ],
             [
              0.8888888888888888,
              "#fdca26"
             ],
             [
              1,
              "#f0f921"
             ]
            ],
            "type": "histogram2d"
           }
          ],
          "histogram2dcontour": [
           {
            "colorbar": {
             "outlinewidth": 0,
             "ticks": ""
            },
            "colorscale": [
             [
              0,
              "#0d0887"
             ],
             [
              0.1111111111111111,
              "#46039f"
             ],
             [
              0.2222222222222222,
              "#7201a8"
             ],
             [
              0.3333333333333333,
              "#9c179e"
             ],
             [
              0.4444444444444444,
              "#bd3786"
             ],
             [
              0.5555555555555556,
              "#d8576b"
             ],
             [
              0.6666666666666666,
              "#ed7953"
             ],
             [
              0.7777777777777778,
              "#fb9f3a"
             ],
             [
              0.8888888888888888,
              "#fdca26"
             ],
             [
              1,
              "#f0f921"
             ]
            ],
            "type": "histogram2dcontour"
           }
          ],
          "mesh3d": [
           {
            "colorbar": {
             "outlinewidth": 0,
             "ticks": ""
            },
            "type": "mesh3d"
           }
          ],
          "parcoords": [
           {
            "line": {
             "colorbar": {
              "outlinewidth": 0,
              "ticks": ""
             }
            },
            "type": "parcoords"
           }
          ],
          "pie": [
           {
            "automargin": true,
            "type": "pie"
           }
          ],
          "scatter": [
           {
            "fillpattern": {
             "fillmode": "overlay",
             "size": 10,
             "solidity": 0.2
            },
            "type": "scatter"
           }
          ],
          "scatter3d": [
           {
            "line": {
             "colorbar": {
              "outlinewidth": 0,
              "ticks": ""
             }
            },
            "marker": {
             "colorbar": {
              "outlinewidth": 0,
              "ticks": ""
             }
            },
            "type": "scatter3d"
           }
          ],
          "scattercarpet": [
           {
            "marker": {
             "colorbar": {
              "outlinewidth": 0,
              "ticks": ""
             }
            },
            "type": "scattercarpet"
           }
          ],
          "scattergeo": [
           {
            "marker": {
             "colorbar": {
              "outlinewidth": 0,
              "ticks": ""
             }
            },
            "type": "scattergeo"
           }
          ],
          "scattergl": [
           {
            "marker": {
             "colorbar": {
              "outlinewidth": 0,
              "ticks": ""
             }
            },
            "type": "scattergl"
           }
          ],
          "scattermapbox": [
           {
            "marker": {
             "colorbar": {
              "outlinewidth": 0,
              "ticks": ""
             }
            },
            "type": "scattermapbox"
           }
          ],
          "scatterpolar": [
           {
            "marker": {
             "colorbar": {
              "outlinewidth": 0,
              "ticks": ""
             }
            },
            "type": "scatterpolar"
           }
          ],
          "scatterpolargl": [
           {
            "marker": {
             "colorbar": {
              "outlinewidth": 0,
              "ticks": ""
             }
            },
            "type": "scatterpolargl"
           }
          ],
          "scatterternary": [
           {
            "marker": {
             "colorbar": {
              "outlinewidth": 0,
              "ticks": ""
             }
            },
            "type": "scatterternary"
           }
          ],
          "surface": [
           {
            "colorbar": {
             "outlinewidth": 0,
             "ticks": ""
            },
            "colorscale": [
             [
              0,
              "#0d0887"
             ],
             [
              0.1111111111111111,
              "#46039f"
             ],
             [
              0.2222222222222222,
              "#7201a8"
             ],
             [
              0.3333333333333333,
              "#9c179e"
             ],
             [
              0.4444444444444444,
              "#bd3786"
             ],
             [
              0.5555555555555556,
              "#d8576b"
             ],
             [
              0.6666666666666666,
              "#ed7953"
             ],
             [
              0.7777777777777778,
              "#fb9f3a"
             ],
             [
              0.8888888888888888,
              "#fdca26"
             ],
             [
              1,
              "#f0f921"
             ]
            ],
            "type": "surface"
           }
          ],
          "table": [
           {
            "cells": {
             "fill": {
              "color": "#EBF0F8"
             },
             "line": {
              "color": "white"
             }
            },
            "header": {
             "fill": {
              "color": "#C8D4E3"
             },
             "line": {
              "color": "white"
             }
            },
            "type": "table"
           }
          ]
         },
         "layout": {
          "annotationdefaults": {
           "arrowcolor": "#2a3f5f",
           "arrowhead": 0,
           "arrowwidth": 1
          },
          "autotypenumbers": "strict",
          "coloraxis": {
           "colorbar": {
            "outlinewidth": 0,
            "ticks": ""
           }
          },
          "colorscale": {
           "diverging": [
            [
             0,
             "#8e0152"
            ],
            [
             0.1,
             "#c51b7d"
            ],
            [
             0.2,
             "#de77ae"
            ],
            [
             0.3,
             "#f1b6da"
            ],
            [
             0.4,
             "#fde0ef"
            ],
            [
             0.5,
             "#f7f7f7"
            ],
            [
             0.6,
             "#e6f5d0"
            ],
            [
             0.7,
             "#b8e186"
            ],
            [
             0.8,
             "#7fbc41"
            ],
            [
             0.9,
             "#4d9221"
            ],
            [
             1,
             "#276419"
            ]
           ],
           "sequential": [
            [
             0,
             "#0d0887"
            ],
            [
             0.1111111111111111,
             "#46039f"
            ],
            [
             0.2222222222222222,
             "#7201a8"
            ],
            [
             0.3333333333333333,
             "#9c179e"
            ],
            [
             0.4444444444444444,
             "#bd3786"
            ],
            [
             0.5555555555555556,
             "#d8576b"
            ],
            [
             0.6666666666666666,
             "#ed7953"
            ],
            [
             0.7777777777777778,
             "#fb9f3a"
            ],
            [
             0.8888888888888888,
             "#fdca26"
            ],
            [
             1,
             "#f0f921"
            ]
           ],
           "sequentialminus": [
            [
             0,
             "#0d0887"
            ],
            [
             0.1111111111111111,
             "#46039f"
            ],
            [
             0.2222222222222222,
             "#7201a8"
            ],
            [
             0.3333333333333333,
             "#9c179e"
            ],
            [
             0.4444444444444444,
             "#bd3786"
            ],
            [
             0.5555555555555556,
             "#d8576b"
            ],
            [
             0.6666666666666666,
             "#ed7953"
            ],
            [
             0.7777777777777778,
             "#fb9f3a"
            ],
            [
             0.8888888888888888,
             "#fdca26"
            ],
            [
             1,
             "#f0f921"
            ]
           ]
          },
          "colorway": [
           "#636efa",
           "#EF553B",
           "#00cc96",
           "#ab63fa",
           "#FFA15A",
           "#19d3f3",
           "#FF6692",
           "#B6E880",
           "#FF97FF",
           "#FECB52"
          ],
          "font": {
           "color": "#2a3f5f"
          },
          "geo": {
           "bgcolor": "white",
           "lakecolor": "white",
           "landcolor": "#E5ECF6",
           "showlakes": true,
           "showland": true,
           "subunitcolor": "white"
          },
          "hoverlabel": {
           "align": "left"
          },
          "hovermode": "closest",
          "mapbox": {
           "style": "light"
          },
          "paper_bgcolor": "white",
          "plot_bgcolor": "#E5ECF6",
          "polar": {
           "angularaxis": {
            "gridcolor": "white",
            "linecolor": "white",
            "ticks": ""
           },
           "bgcolor": "#E5ECF6",
           "radialaxis": {
            "gridcolor": "white",
            "linecolor": "white",
            "ticks": ""
           }
          },
          "scene": {
           "xaxis": {
            "backgroundcolor": "#E5ECF6",
            "gridcolor": "white",
            "gridwidth": 2,
            "linecolor": "white",
            "showbackground": true,
            "ticks": "",
            "zerolinecolor": "white"
           },
           "yaxis": {
            "backgroundcolor": "#E5ECF6",
            "gridcolor": "white",
            "gridwidth": 2,
            "linecolor": "white",
            "showbackground": true,
            "ticks": "",
            "zerolinecolor": "white"
           },
           "zaxis": {
            "backgroundcolor": "#E5ECF6",
            "gridcolor": "white",
            "gridwidth": 2,
            "linecolor": "white",
            "showbackground": true,
            "ticks": "",
            "zerolinecolor": "white"
           }
          },
          "shapedefaults": {
           "line": {
            "color": "#2a3f5f"
           }
          },
          "ternary": {
           "aaxis": {
            "gridcolor": "white",
            "linecolor": "white",
            "ticks": ""
           },
           "baxis": {
            "gridcolor": "white",
            "linecolor": "white",
            "ticks": ""
           },
           "bgcolor": "#E5ECF6",
           "caxis": {
            "gridcolor": "white",
            "linecolor": "white",
            "ticks": ""
           }
          },
          "title": {
           "x": 0.05
          },
          "xaxis": {
           "automargin": true,
           "gridcolor": "white",
           "linecolor": "white",
           "ticks": "",
           "title": {
            "standoff": 15
           },
           "zerolinecolor": "white",
           "zerolinewidth": 2
          },
          "yaxis": {
           "automargin": true,
           "gridcolor": "white",
           "linecolor": "white",
           "ticks": "",
           "title": {
            "standoff": 15
           },
           "zerolinecolor": "white",
           "zerolinewidth": 2
          }
         }
        },
        "title": {
         "text": "Dataset machine 612"
        },
        "width": 1280,
        "xaxis": {
         "anchor": "y",
         "domain": [
          0,
          1
         ],
         "matches": "x3",
         "showticklabels": false
        },
        "xaxis2": {
         "anchor": "y2",
         "domain": [
          0,
          1
         ],
         "matches": "x3",
         "showticklabels": false
        },
        "xaxis3": {
         "anchor": "y3",
         "domain": [
          0,
          1
         ]
        },
        "yaxis": {
         "anchor": "x",
         "domain": [
          0.7066666666666667,
          1
         ]
        },
        "yaxis2": {
         "anchor": "x2",
         "domain": [
          0.35333333333333333,
          0.6466666666666667
         ]
        },
        "yaxis3": {
         "anchor": "x3",
         "domain": [
          0,
          0.29333333333333333
         ]
        }
       }
      }
     },
     "metadata": {},
     "output_type": "display_data"
    },
    {
     "data": {
      "application/vnd.plotly.v1+json": {
       "config": {
        "plotlyServerURL": "https://plot.ly"
       },
       "data": [
        {
         "marker": {
          "color": "blue",
          "size": 10
         },
         "mode": "markers+lines",
         "name": "1129900AVZWA12710-08-08RKR Energy",
         "text": [
          null,
          null,
          150572.4
         ],
         "type": "scatter",
         "x": [
          "2023-02-27",
          "2023-02-28",
          "2023-03-01"
         ],
         "xaxis": "x",
         "y": [
          null,
          null,
          150572.4
         ],
         "yaxis": "y"
        },
        {
         "marker": {
          "color": "blue",
          "size": 10
         },
         "mode": "markers+lines",
         "name": "1129900AVZWA12710-08-08RKR Productions",
         "text": [
          489,
          1488,
          910
         ],
         "type": "scatter",
         "x": [
          "2023-02-27",
          "2023-02-28",
          "2023-03-01"
         ],
         "xaxis": "x3",
         "y": [
          489,
          1488,
          910
         ],
         "yaxis": "y3"
        },
        {
         "marker": {
          "color": "blue",
          "size": 10
         },
         "mode": "markers+lines",
         "name": "1129900AVZWA12710-08-08RKR Stops",
         "text": [
          "Unknown",
          "Unknown",
          "Unknown"
         ],
         "type": "scatter",
         "x": [
          "2023-02-27",
          "2023-02-28",
          "2023-03-01"
         ],
         "xaxis": "x2",
         "y": [
          null,
          null,
          null
         ],
         "yaxis": "y2"
        },
        {
         "marker": {
          "color": "green",
          "size": 10
         },
         "mode": "markers+lines",
         "name": "1129900AVZWA20FNBO20Y Energy",
         "text": [
          150572.4,
          null,
          248301.5,
          118490.2,
          197225.1,
          254959.2,
          249642,
          null
         ],
         "type": "scatter",
         "x": [
          "2023-03-01",
          "2023-03-02",
          "2023-03-03",
          "2023-03-04",
          "2023-03-06",
          "2023-03-07",
          "2023-03-08",
          "2023-03-09"
         ],
         "xaxis": "x",
         "y": [
          150572.4,
          null,
          248301.5,
          118490.2,
          197225.1,
          254959.2,
          249642,
          null
         ],
         "yaxis": "y"
        },
        {
         "marker": {
          "color": "green",
          "size": 10
         },
         "mode": "markers+lines",
         "name": "1129900AVZWA20FNBO20Y Productions",
         "text": [
          0,
          775,
          1278,
          918,
          1007,
          1400,
          1309,
          114
         ],
         "type": "scatter",
         "x": [
          "2023-03-01",
          "2023-03-02",
          "2023-03-03",
          "2023-03-04",
          "2023-03-06",
          "2023-03-07",
          "2023-03-08",
          "2023-03-09"
         ],
         "xaxis": "x3",
         "y": [
          0,
          775,
          1278,
          918,
          1007,
          1400,
          1309,
          114
         ],
         "yaxis": "y3"
        },
        {
         "marker": {
          "color": "green",
          "size": 10
         },
         "mode": "markers+lines",
         "name": "1129900AVZWA20FNBO20Y Stops",
         "text": [
          "Unknown",
          "Unknown",
          "Manutenzione ordinaria",
          "Manutenzione ordinaria",
          "Sostituzione utensile",
          "Manutenzione ordinaria",
          "Manutenzione ordinaria",
          "Sostituzione utensile"
         ],
         "type": "scatter",
         "x": [
          "2023-03-01",
          "2023-03-02",
          "2023-03-03",
          "2023-03-04",
          "2023-03-06",
          "2023-03-07",
          "2023-03-08",
          "2023-03-09"
         ],
         "xaxis": "x2",
         "y": [
          null,
          null,
          6,
          1,
          1,
          3,
          6,
          1
         ],
         "yaxis": "y2"
        },
        {
         "marker": {
          "color": "black",
          "size": 10
         },
         "mode": "markers+lines",
         "name": "Unknown Energy",
         "text": [
          0.2,
          0,
          null,
          127978.2,
          136391.5,
          136391.5,
          188556.3,
          84158,
          17821.6,
          0,
          0,
          null,
          null,
          null,
          null,
          138052.5,
          138052.5
         ],
         "type": "scatter",
         "x": [
          "2023-03-05",
          "2023-03-11",
          "2023-03-13",
          "2023-03-14",
          "2023-03-15",
          "2023-03-15",
          "2023-03-21",
          "2023-03-22",
          "2023-03-23",
          "2023-03-24",
          "2023-03-25",
          "2023-03-27",
          "2023-03-28",
          "2023-03-28",
          "2023-03-29",
          "2023-03-30",
          "2023-03-30"
         ],
         "xaxis": "x",
         "y": [
          0.2,
          0,
          null,
          127978.2,
          136391.5,
          136391.5,
          188556.3,
          84158,
          17821.6,
          0,
          0,
          null,
          null,
          null,
          null,
          138052.5,
          138052.5
         ],
         "yaxis": "y"
        },
        {
         "marker": {
          "color": "black",
          "size": 10
         },
         "mode": "markers+lines",
         "name": "Unknown Productions",
         "text": [
          null,
          null,
          null,
          null,
          null,
          null,
          null,
          null,
          null,
          null,
          null,
          null,
          null,
          null,
          null,
          null,
          null
         ],
         "type": "scatter",
         "x": [
          "2023-03-05",
          "2023-03-11",
          "2023-03-13",
          "2023-03-14",
          "2023-03-15",
          "2023-03-15",
          "2023-03-21",
          "2023-03-22",
          "2023-03-23",
          "2023-03-24",
          "2023-03-25",
          "2023-03-27",
          "2023-03-28",
          "2023-03-28",
          "2023-03-29",
          "2023-03-30",
          "2023-03-30"
         ],
         "xaxis": "x3",
         "y": [
          null,
          null,
          null,
          null,
          null,
          null,
          null,
          null,
          null,
          null,
          null,
          null,
          null,
          null,
          null,
          null,
          null
         ],
         "yaxis": "y3"
        },
        {
         "marker": {
          "color": "black",
          "size": 10
         },
         "mode": "markers+lines",
         "name": "Unknown Stops",
         "text": [
          "Unknown",
          "Unknown",
          "Manutenzione ordinaria",
          "Manutenzione ordinaria",
          "Manutenzione ordinaria",
          "Sostituzione utensile",
          "Manutenzione ordinaria",
          "Manutenzione ordinaria",
          "Unknown",
          "Sostituzione utensile",
          "Manutenzione ordinaria",
          "Manutenzione ordinaria",
          "Manutenzione ordinaria",
          "Sostituzione utensile",
          "Sostituzione utensile",
          "Manutenzione ordinaria",
          "Sostituzione utensile"
         ],
         "type": "scatter",
         "x": [
          "2023-03-05",
          "2023-03-11",
          "2023-03-13",
          "2023-03-14",
          "2023-03-15",
          "2023-03-15",
          "2023-03-21",
          "2023-03-22",
          "2023-03-23",
          "2023-03-24",
          "2023-03-25",
          "2023-03-27",
          "2023-03-28",
          "2023-03-28",
          "2023-03-29",
          "2023-03-30",
          "2023-03-30"
         ],
         "xaxis": "x2",
         "y": [
          null,
          null,
          1,
          3,
          2,
          1,
          1,
          1,
          null,
          1,
          2,
          2,
          1,
          4,
          2,
          1,
          1
         ],
         "yaxis": "y2"
        },
        {
         "marker": {
          "color": "#00FFFF",
          "size": 10
         },
         "mode": "markers+lines",
         "name": "1084600PR82068602 Energy",
         "text": [
          null,
          null
         ],
         "type": "scatter",
         "x": [
          "2023-03-09",
          "2023-03-10"
         ],
         "xaxis": "x",
         "y": [
          null,
          null
         ],
         "yaxis": "y"
        },
        {
         "marker": {
          "color": "#00FFFF",
          "size": 10
         },
         "mode": "markers+lines",
         "name": "1084600PR82068602 Productions",
         "text": [
          559,
          192
         ],
         "type": "scatter",
         "x": [
          "2023-03-09",
          "2023-03-10"
         ],
         "xaxis": "x3",
         "y": [
          559,
          192
         ],
         "yaxis": "y3"
        },
        {
         "marker": {
          "color": "#00FFFF",
          "size": 10
         },
         "mode": "markers+lines",
         "name": "1084600PR82068602 Stops",
         "text": [
          "Sostituzione utensile",
          "Unknown"
         ],
         "type": "scatter",
         "x": [
          "2023-03-09",
          "2023-03-10"
         ],
         "xaxis": "x2",
         "y": [
          1,
          null
         ],
         "yaxis": "y2"
        },
        {
         "marker": {
          "color": "#FFFF00",
          "size": 10
         },
         "mode": "markers+lines",
         "name": "1169200AISMEC-340577 Energy",
         "text": [
          null
         ],
         "type": "scatter",
         "x": [
          "2023-03-10"
         ],
         "xaxis": "x",
         "y": [
          null
         ],
         "yaxis": "y"
        },
        {
         "marker": {
          "color": "#FFFF00",
          "size": 10
         },
         "mode": "markers+lines",
         "name": "1169200AISMEC-340577 Productions",
         "text": [
          0
         ],
         "type": "scatter",
         "x": [
          "2023-03-10"
         ],
         "xaxis": "x3",
         "y": [
          0
         ],
         "yaxis": "y3"
        },
        {
         "marker": {
          "color": "#FFFF00",
          "size": 10
         },
         "mode": "markers+lines",
         "name": "1169200AISMEC-340577 Stops",
         "text": [
          "Unknown"
         ],
         "type": "scatter",
         "x": [
          "2023-03-10"
         ],
         "xaxis": "x2",
         "y": [
          null
         ],
         "yaxis": "y2"
        }
       ],
       "layout": {
        "annotations": [
         {
          "font": {
           "size": 16
          },
          "showarrow": false,
          "text": "Energy Consumption",
          "x": 0.5,
          "xanchor": "center",
          "xref": "paper",
          "y": 1,
          "yanchor": "bottom",
          "yref": "paper"
         },
         {
          "font": {
           "size": 16
          },
          "showarrow": false,
          "text": "Stops",
          "x": 0.5,
          "xanchor": "center",
          "xref": "paper",
          "y": 0.6466666666666667,
          "yanchor": "bottom",
          "yref": "paper"
         },
         {
          "font": {
           "size": 16
          },
          "showarrow": false,
          "text": "Productions",
          "x": 0.5,
          "xanchor": "center",
          "xref": "paper",
          "y": 0.29333333333333333,
          "yanchor": "bottom",
          "yref": "paper"
         }
        ],
        "height": 800,
        "template": {
         "data": {
          "bar": [
           {
            "error_x": {
             "color": "#2a3f5f"
            },
            "error_y": {
             "color": "#2a3f5f"
            },
            "marker": {
             "line": {
              "color": "#E5ECF6",
              "width": 0.5
             },
             "pattern": {
              "fillmode": "overlay",
              "size": 10,
              "solidity": 0.2
             }
            },
            "type": "bar"
           }
          ],
          "barpolar": [
           {
            "marker": {
             "line": {
              "color": "#E5ECF6",
              "width": 0.5
             },
             "pattern": {
              "fillmode": "overlay",
              "size": 10,
              "solidity": 0.2
             }
            },
            "type": "barpolar"
           }
          ],
          "carpet": [
           {
            "aaxis": {
             "endlinecolor": "#2a3f5f",
             "gridcolor": "white",
             "linecolor": "white",
             "minorgridcolor": "white",
             "startlinecolor": "#2a3f5f"
            },
            "baxis": {
             "endlinecolor": "#2a3f5f",
             "gridcolor": "white",
             "linecolor": "white",
             "minorgridcolor": "white",
             "startlinecolor": "#2a3f5f"
            },
            "type": "carpet"
           }
          ],
          "choropleth": [
           {
            "colorbar": {
             "outlinewidth": 0,
             "ticks": ""
            },
            "type": "choropleth"
           }
          ],
          "contour": [
           {
            "colorbar": {
             "outlinewidth": 0,
             "ticks": ""
            },
            "colorscale": [
             [
              0,
              "#0d0887"
             ],
             [
              0.1111111111111111,
              "#46039f"
             ],
             [
              0.2222222222222222,
              "#7201a8"
             ],
             [
              0.3333333333333333,
              "#9c179e"
             ],
             [
              0.4444444444444444,
              "#bd3786"
             ],
             [
              0.5555555555555556,
              "#d8576b"
             ],
             [
              0.6666666666666666,
              "#ed7953"
             ],
             [
              0.7777777777777778,
              "#fb9f3a"
             ],
             [
              0.8888888888888888,
              "#fdca26"
             ],
             [
              1,
              "#f0f921"
             ]
            ],
            "type": "contour"
           }
          ],
          "contourcarpet": [
           {
            "colorbar": {
             "outlinewidth": 0,
             "ticks": ""
            },
            "type": "contourcarpet"
           }
          ],
          "heatmap": [
           {
            "colorbar": {
             "outlinewidth": 0,
             "ticks": ""
            },
            "colorscale": [
             [
              0,
              "#0d0887"
             ],
             [
              0.1111111111111111,
              "#46039f"
             ],
             [
              0.2222222222222222,
              "#7201a8"
             ],
             [
              0.3333333333333333,
              "#9c179e"
             ],
             [
              0.4444444444444444,
              "#bd3786"
             ],
             [
              0.5555555555555556,
              "#d8576b"
             ],
             [
              0.6666666666666666,
              "#ed7953"
             ],
             [
              0.7777777777777778,
              "#fb9f3a"
             ],
             [
              0.8888888888888888,
              "#fdca26"
             ],
             [
              1,
              "#f0f921"
             ]
            ],
            "type": "heatmap"
           }
          ],
          "heatmapgl": [
           {
            "colorbar": {
             "outlinewidth": 0,
             "ticks": ""
            },
            "colorscale": [
             [
              0,
              "#0d0887"
             ],
             [
              0.1111111111111111,
              "#46039f"
             ],
             [
              0.2222222222222222,
              "#7201a8"
             ],
             [
              0.3333333333333333,
              "#9c179e"
             ],
             [
              0.4444444444444444,
              "#bd3786"
             ],
             [
              0.5555555555555556,
              "#d8576b"
             ],
             [
              0.6666666666666666,
              "#ed7953"
             ],
             [
              0.7777777777777778,
              "#fb9f3a"
             ],
             [
              0.8888888888888888,
              "#fdca26"
             ],
             [
              1,
              "#f0f921"
             ]
            ],
            "type": "heatmapgl"
           }
          ],
          "histogram": [
           {
            "marker": {
             "pattern": {
              "fillmode": "overlay",
              "size": 10,
              "solidity": 0.2
             }
            },
            "type": "histogram"
           }
          ],
          "histogram2d": [
           {
            "colorbar": {
             "outlinewidth": 0,
             "ticks": ""
            },
            "colorscale": [
             [
              0,
              "#0d0887"
             ],
             [
              0.1111111111111111,
              "#46039f"
             ],
             [
              0.2222222222222222,
              "#7201a8"
             ],
             [
              0.3333333333333333,
              "#9c179e"
             ],
             [
              0.4444444444444444,
              "#bd3786"
             ],
             [
              0.5555555555555556,
              "#d8576b"
             ],
             [
              0.6666666666666666,
              "#ed7953"
             ],
             [
              0.7777777777777778,
              "#fb9f3a"
             ],
             [
              0.8888888888888888,
              "#fdca26"
             ],
             [
              1,
              "#f0f921"
             ]
            ],
            "type": "histogram2d"
           }
          ],
          "histogram2dcontour": [
           {
            "colorbar": {
             "outlinewidth": 0,
             "ticks": ""
            },
            "colorscale": [
             [
              0,
              "#0d0887"
             ],
             [
              0.1111111111111111,
              "#46039f"
             ],
             [
              0.2222222222222222,
              "#7201a8"
             ],
             [
              0.3333333333333333,
              "#9c179e"
             ],
             [
              0.4444444444444444,
              "#bd3786"
             ],
             [
              0.5555555555555556,
              "#d8576b"
             ],
             [
              0.6666666666666666,
              "#ed7953"
             ],
             [
              0.7777777777777778,
              "#fb9f3a"
             ],
             [
              0.8888888888888888,
              "#fdca26"
             ],
             [
              1,
              "#f0f921"
             ]
            ],
            "type": "histogram2dcontour"
           }
          ],
          "mesh3d": [
           {
            "colorbar": {
             "outlinewidth": 0,
             "ticks": ""
            },
            "type": "mesh3d"
           }
          ],
          "parcoords": [
           {
            "line": {
             "colorbar": {
              "outlinewidth": 0,
              "ticks": ""
             }
            },
            "type": "parcoords"
           }
          ],
          "pie": [
           {
            "automargin": true,
            "type": "pie"
           }
          ],
          "scatter": [
           {
            "fillpattern": {
             "fillmode": "overlay",
             "size": 10,
             "solidity": 0.2
            },
            "type": "scatter"
           }
          ],
          "scatter3d": [
           {
            "line": {
             "colorbar": {
              "outlinewidth": 0,
              "ticks": ""
             }
            },
            "marker": {
             "colorbar": {
              "outlinewidth": 0,
              "ticks": ""
             }
            },
            "type": "scatter3d"
           }
          ],
          "scattercarpet": [
           {
            "marker": {
             "colorbar": {
              "outlinewidth": 0,
              "ticks": ""
             }
            },
            "type": "scattercarpet"
           }
          ],
          "scattergeo": [
           {
            "marker": {
             "colorbar": {
              "outlinewidth": 0,
              "ticks": ""
             }
            },
            "type": "scattergeo"
           }
          ],
          "scattergl": [
           {
            "marker": {
             "colorbar": {
              "outlinewidth": 0,
              "ticks": ""
             }
            },
            "type": "scattergl"
           }
          ],
          "scattermapbox": [
           {
            "marker": {
             "colorbar": {
              "outlinewidth": 0,
              "ticks": ""
             }
            },
            "type": "scattermapbox"
           }
          ],
          "scatterpolar": [
           {
            "marker": {
             "colorbar": {
              "outlinewidth": 0,
              "ticks": ""
             }
            },
            "type": "scatterpolar"
           }
          ],
          "scatterpolargl": [
           {
            "marker": {
             "colorbar": {
              "outlinewidth": 0,
              "ticks": ""
             }
            },
            "type": "scatterpolargl"
           }
          ],
          "scatterternary": [
           {
            "marker": {
             "colorbar": {
              "outlinewidth": 0,
              "ticks": ""
             }
            },
            "type": "scatterternary"
           }
          ],
          "surface": [
           {
            "colorbar": {
             "outlinewidth": 0,
             "ticks": ""
            },
            "colorscale": [
             [
              0,
              "#0d0887"
             ],
             [
              0.1111111111111111,
              "#46039f"
             ],
             [
              0.2222222222222222,
              "#7201a8"
             ],
             [
              0.3333333333333333,
              "#9c179e"
             ],
             [
              0.4444444444444444,
              "#bd3786"
             ],
             [
              0.5555555555555556,
              "#d8576b"
             ],
             [
              0.6666666666666666,
              "#ed7953"
             ],
             [
              0.7777777777777778,
              "#fb9f3a"
             ],
             [
              0.8888888888888888,
              "#fdca26"
             ],
             [
              1,
              "#f0f921"
             ]
            ],
            "type": "surface"
           }
          ],
          "table": [
           {
            "cells": {
             "fill": {
              "color": "#EBF0F8"
             },
             "line": {
              "color": "white"
             }
            },
            "header": {
             "fill": {
              "color": "#C8D4E3"
             },
             "line": {
              "color": "white"
             }
            },
            "type": "table"
           }
          ]
         },
         "layout": {
          "annotationdefaults": {
           "arrowcolor": "#2a3f5f",
           "arrowhead": 0,
           "arrowwidth": 1
          },
          "autotypenumbers": "strict",
          "coloraxis": {
           "colorbar": {
            "outlinewidth": 0,
            "ticks": ""
           }
          },
          "colorscale": {
           "diverging": [
            [
             0,
             "#8e0152"
            ],
            [
             0.1,
             "#c51b7d"
            ],
            [
             0.2,
             "#de77ae"
            ],
            [
             0.3,
             "#f1b6da"
            ],
            [
             0.4,
             "#fde0ef"
            ],
            [
             0.5,
             "#f7f7f7"
            ],
            [
             0.6,
             "#e6f5d0"
            ],
            [
             0.7,
             "#b8e186"
            ],
            [
             0.8,
             "#7fbc41"
            ],
            [
             0.9,
             "#4d9221"
            ],
            [
             1,
             "#276419"
            ]
           ],
           "sequential": [
            [
             0,
             "#0d0887"
            ],
            [
             0.1111111111111111,
             "#46039f"
            ],
            [
             0.2222222222222222,
             "#7201a8"
            ],
            [
             0.3333333333333333,
             "#9c179e"
            ],
            [
             0.4444444444444444,
             "#bd3786"
            ],
            [
             0.5555555555555556,
             "#d8576b"
            ],
            [
             0.6666666666666666,
             "#ed7953"
            ],
            [
             0.7777777777777778,
             "#fb9f3a"
            ],
            [
             0.8888888888888888,
             "#fdca26"
            ],
            [
             1,
             "#f0f921"
            ]
           ],
           "sequentialminus": [
            [
             0,
             "#0d0887"
            ],
            [
             0.1111111111111111,
             "#46039f"
            ],
            [
             0.2222222222222222,
             "#7201a8"
            ],
            [
             0.3333333333333333,
             "#9c179e"
            ],
            [
             0.4444444444444444,
             "#bd3786"
            ],
            [
             0.5555555555555556,
             "#d8576b"
            ],
            [
             0.6666666666666666,
             "#ed7953"
            ],
            [
             0.7777777777777778,
             "#fb9f3a"
            ],
            [
             0.8888888888888888,
             "#fdca26"
            ],
            [
             1,
             "#f0f921"
            ]
           ]
          },
          "colorway": [
           "#636efa",
           "#EF553B",
           "#00cc96",
           "#ab63fa",
           "#FFA15A",
           "#19d3f3",
           "#FF6692",
           "#B6E880",
           "#FF97FF",
           "#FECB52"
          ],
          "font": {
           "color": "#2a3f5f"
          },
          "geo": {
           "bgcolor": "white",
           "lakecolor": "white",
           "landcolor": "#E5ECF6",
           "showlakes": true,
           "showland": true,
           "subunitcolor": "white"
          },
          "hoverlabel": {
           "align": "left"
          },
          "hovermode": "closest",
          "mapbox": {
           "style": "light"
          },
          "paper_bgcolor": "white",
          "plot_bgcolor": "#E5ECF6",
          "polar": {
           "angularaxis": {
            "gridcolor": "white",
            "linecolor": "white",
            "ticks": ""
           },
           "bgcolor": "#E5ECF6",
           "radialaxis": {
            "gridcolor": "white",
            "linecolor": "white",
            "ticks": ""
           }
          },
          "scene": {
           "xaxis": {
            "backgroundcolor": "#E5ECF6",
            "gridcolor": "white",
            "gridwidth": 2,
            "linecolor": "white",
            "showbackground": true,
            "ticks": "",
            "zerolinecolor": "white"
           },
           "yaxis": {
            "backgroundcolor": "#E5ECF6",
            "gridcolor": "white",
            "gridwidth": 2,
            "linecolor": "white",
            "showbackground": true,
            "ticks": "",
            "zerolinecolor": "white"
           },
           "zaxis": {
            "backgroundcolor": "#E5ECF6",
            "gridcolor": "white",
            "gridwidth": 2,
            "linecolor": "white",
            "showbackground": true,
            "ticks": "",
            "zerolinecolor": "white"
           }
          },
          "shapedefaults": {
           "line": {
            "color": "#2a3f5f"
           }
          },
          "ternary": {
           "aaxis": {
            "gridcolor": "white",
            "linecolor": "white",
            "ticks": ""
           },
           "baxis": {
            "gridcolor": "white",
            "linecolor": "white",
            "ticks": ""
           },
           "bgcolor": "#E5ECF6",
           "caxis": {
            "gridcolor": "white",
            "linecolor": "white",
            "ticks": ""
           }
          },
          "title": {
           "x": 0.05
          },
          "xaxis": {
           "automargin": true,
           "gridcolor": "white",
           "linecolor": "white",
           "ticks": "",
           "title": {
            "standoff": 15
           },
           "zerolinecolor": "white",
           "zerolinewidth": 2
          },
          "yaxis": {
           "automargin": true,
           "gridcolor": "white",
           "linecolor": "white",
           "ticks": "",
           "title": {
            "standoff": 15
           },
           "zerolinecolor": "white",
           "zerolinewidth": 2
          }
         }
        },
        "title": {
         "text": "Dataset machine 618"
        },
        "width": 1280,
        "xaxis": {
         "anchor": "y",
         "domain": [
          0,
          1
         ],
         "matches": "x3",
         "showticklabels": false
        },
        "xaxis2": {
         "anchor": "y2",
         "domain": [
          0,
          1
         ],
         "matches": "x3",
         "showticklabels": false
        },
        "xaxis3": {
         "anchor": "y3",
         "domain": [
          0,
          1
         ]
        },
        "yaxis": {
         "anchor": "x",
         "domain": [
          0.7066666666666667,
          1
         ]
        },
        "yaxis2": {
         "anchor": "x2",
         "domain": [
          0.35333333333333333,
          0.6466666666666667
         ]
        },
        "yaxis3": {
         "anchor": "x3",
         "domain": [
          0,
          0.29333333333333333
         ]
        }
       }
      }
     },
     "metadata": {},
     "output_type": "display_data"
    },
    {
     "data": {
      "application/vnd.plotly.v1+json": {
       "config": {
        "plotlyServerURL": "https://plot.ly"
       },
       "data": [
        {
         "marker": {
          "color": "blue",
          "size": 10
         },
         "mode": "markers+lines",
         "name": "1148000FE30933460004090 Energy",
         "text": [
          null,
          null,
          null,
          1508.3,
          1508.3,
          1926.4,
          1926.4,
          null,
          null,
          null,
          0,
          null,
          6150.4,
          null,
          null,
          345.3,
          345.3,
          1363.4,
          1363.4,
          862.2,
          862.2,
          418.9,
          418.9,
          1024,
          1024,
          986.7,
          986.7,
          2109.3,
          2109.3,
          null,
          null,
          0,
          null,
          null,
          3415.4
         ],
         "type": "scatter",
         "x": [
          "2023-07-31",
          "2023-08-01",
          "2023-08-01",
          "2023-08-02",
          "2023-08-02",
          "2023-08-03",
          "2023-08-03",
          "2023-08-04",
          "2023-08-04",
          "2023-08-28",
          "2023-08-29",
          "2023-07-17",
          "2023-07-18",
          "2023-07-19",
          "2023-07-19",
          "2023-07-20",
          "2023-07-20",
          "2023-07-21",
          "2023-07-21",
          "2023-07-24",
          "2023-07-24",
          "2023-07-25",
          "2023-07-25",
          "2023-07-26",
          "2023-07-26",
          "2023-07-27",
          "2023-07-27",
          "2023-07-28",
          "2023-07-28",
          "2023-02-27",
          "2023-02-28",
          "2023-03-01",
          "2023-03-02",
          "2023-03-02",
          "2023-03-03"
         ],
         "xaxis": "x",
         "y": [
          null,
          null,
          null,
          1508.3,
          1508.3,
          1926.4,
          1926.4,
          null,
          null,
          null,
          0,
          null,
          6150.4,
          null,
          null,
          345.3,
          345.3,
          1363.4,
          1363.4,
          862.2,
          862.2,
          418.9,
          418.9,
          1024,
          1024,
          986.7,
          986.7,
          2109.3,
          2109.3,
          null,
          null,
          0,
          null,
          null,
          3415.4
         ],
         "yaxis": "y"
        },
        {
         "marker": {
          "color": "blue",
          "size": 10
         },
         "mode": "markers+lines",
         "name": "1148000FE30933460004090 Productions",
         "text": [
          3007,
          6016,
          6016,
          5926,
          5926,
          4443,
          4443,
          3498,
          3498,
          4667,
          3369,
          0,
          0,
          3882,
          3882,
          5097,
          5097,
          6284,
          6284,
          4427,
          4427,
          7276,
          7276,
          7379,
          7379,
          6676,
          6676,
          3008,
          3008,
          1380,
          5917,
          707,
          6900,
          6900,
          -6290
         ],
         "type": "scatter",
         "x": [
          "2023-07-31",
          "2023-08-01",
          "2023-08-01",
          "2023-08-02",
          "2023-08-02",
          "2023-08-03",
          "2023-08-03",
          "2023-08-04",
          "2023-08-04",
          "2023-08-28",
          "2023-08-29",
          "2023-07-17",
          "2023-07-18",
          "2023-07-19",
          "2023-07-19",
          "2023-07-20",
          "2023-07-20",
          "2023-07-21",
          "2023-07-21",
          "2023-07-24",
          "2023-07-24",
          "2023-07-25",
          "2023-07-25",
          "2023-07-26",
          "2023-07-26",
          "2023-07-27",
          "2023-07-27",
          "2023-07-28",
          "2023-07-28",
          "2023-02-27",
          "2023-02-28",
          "2023-03-01",
          "2023-03-02",
          "2023-03-02",
          "2023-03-03"
         ],
         "xaxis": "x3",
         "y": [
          3007,
          6016,
          6016,
          5926,
          5926,
          4443,
          4443,
          3498,
          3498,
          4667,
          3369,
          0,
          0,
          3882,
          3882,
          5097,
          5097,
          6284,
          6284,
          4427,
          4427,
          7276,
          7276,
          7379,
          7379,
          6676,
          6676,
          3008,
          3008,
          1380,
          5917,
          707,
          6900,
          6900,
          -6290
         ],
         "yaxis": "y3"
        },
        {
         "marker": {
          "color": "blue",
          "size": 10
         },
         "mode": "markers+lines",
         "name": "1148000FE30933460004090 Stops",
         "text": [
          "Unknown",
          "Manutenzione ordinaria",
          "Sostituzione utensile",
          "Manutenzione ordinaria",
          "Sostituzione utensile",
          "Manutenzione ordinaria",
          "Sostituzione utensile",
          "Manutenzione ordinaria",
          "Sostituzione utensile",
          "Sostituzione utensile",
          "Sostituzione utensile",
          "Unknown",
          "Unknown",
          "Manutenzione ordinaria",
          "Sostituzione utensile",
          "Manutenzione ordinaria",
          "Sostituzione utensile",
          "Manutenzione ordinaria",
          "Sostituzione utensile",
          "Manutenzione ordinaria",
          "Sostituzione utensile",
          "Manutenzione ordinaria",
          "Sostituzione utensile",
          "Manutenzione ordinaria",
          "Sostituzione utensile",
          "Manutenzione ordinaria",
          "Sostituzione utensile",
          "Manutenzione straordinaria",
          "Sostituzione utensile",
          "Unknown",
          "Unknown",
          "Unknown",
          "Manutenzione ordinaria",
          "Sostituzione utensile",
          "Sostituzione utensile"
         ],
         "type": "scatter",
         "x": [
          "2023-07-31",
          "2023-08-01",
          "2023-08-01",
          "2023-08-02",
          "2023-08-02",
          "2023-08-03",
          "2023-08-03",
          "2023-08-04",
          "2023-08-04",
          "2023-08-28",
          "2023-08-29",
          "2023-07-17",
          "2023-07-18",
          "2023-07-19",
          "2023-07-19",
          "2023-07-20",
          "2023-07-20",
          "2023-07-21",
          "2023-07-21",
          "2023-07-24",
          "2023-07-24",
          "2023-07-25",
          "2023-07-25",
          "2023-07-26",
          "2023-07-26",
          "2023-07-27",
          "2023-07-27",
          "2023-07-28",
          "2023-07-28",
          "2023-02-27",
          "2023-02-28",
          "2023-03-01",
          "2023-03-02",
          "2023-03-02",
          "2023-03-03"
         ],
         "xaxis": "x2",
         "y": [
          null,
          3,
          4,
          2,
          3,
          1,
          4,
          1,
          1,
          1,
          1,
          null,
          null,
          1,
          2,
          1,
          1,
          3,
          4,
          3,
          2,
          2,
          3,
          3,
          2,
          2,
          3,
          1,
          2,
          null,
          null,
          null,
          3,
          3,
          3
         ],
         "yaxis": "y2"
        },
        {
         "marker": {
          "color": "black",
          "size": 10
         },
         "mode": "markers+lines",
         "name": "Unknown Energy",
         "text": [
          287.40000000000003,
          294,
          304.3,
          305.2,
          303.90000000000003,
          302.90000000000003,
          293,
          284.8,
          null,
          0,
          0,
          249.3,
          1459.9,
          246.7,
          247.9,
          248.5,
          0,
          0,
          0,
          235.3,
          238.4,
          234,
          804.2,
          4983.4,
          0,
          5743.1,
          885,
          null,
          null,
          null,
          null,
          null,
          830.8,
          889.5,
          889.5,
          516.6,
          516.6,
          0,
          0,
          null,
          null,
          null,
          null,
          1701.5,
          null,
          null
         ],
         "type": "scatter",
         "x": [
          "2023-08-15",
          "2023-08-16",
          "2023-08-17",
          "2023-08-18",
          "2023-08-19",
          "2023-08-20",
          "2023-08-21",
          "2023-08-22",
          "2023-08-30",
          "2023-08-31",
          "2023-07-15",
          "2023-07-16",
          "2023-07-22",
          "2023-07-23",
          "2023-07-29",
          "2023-07-30",
          "2023-07-31",
          "2023-07-31",
          "2023-07-31",
          "2023-03-04",
          "2023-03-05",
          "2023-03-06",
          "2023-03-07",
          "2023-03-08",
          "2023-03-11",
          "2023-03-14",
          "2023-03-15",
          "2023-03-16",
          "2023-03-16",
          "2023-03-17",
          "2023-03-17",
          "2023-03-20",
          "2023-03-21",
          "2023-03-22",
          "2023-03-22",
          "2023-03-23",
          "2023-03-23",
          "2023-03-24",
          "2023-03-25",
          "2023-03-27",
          "2023-03-28",
          "2023-03-29",
          "2023-03-29",
          "2023-03-30",
          "2023-03-31",
          "2023-03-31"
         ],
         "xaxis": "x",
         "y": [
          287.40000000000003,
          294,
          304.3,
          305.2,
          303.90000000000003,
          302.90000000000003,
          293,
          284.8,
          null,
          0,
          0,
          249.3,
          1459.9,
          246.7,
          247.9,
          248.5,
          0,
          0,
          0,
          235.3,
          238.4,
          234,
          804.2,
          4983.4,
          0,
          5743.1,
          885,
          null,
          null,
          null,
          null,
          null,
          830.8,
          889.5,
          889.5,
          516.6,
          516.6,
          0,
          0,
          null,
          null,
          null,
          null,
          1701.5,
          null,
          null
         ],
         "yaxis": "y"
        },
        {
         "marker": {
          "color": "black",
          "size": 10
         },
         "mode": "markers+lines",
         "name": "Unknown Productions",
         "text": [
          null,
          null,
          null,
          null,
          null,
          null,
          null,
          null,
          null,
          null,
          null,
          null,
          null,
          null,
          null,
          null,
          null,
          null,
          null,
          null,
          null,
          null,
          null,
          null,
          null,
          null,
          null,
          null,
          null,
          null,
          null,
          null,
          null,
          null,
          null,
          null,
          null,
          null,
          null,
          null,
          null,
          null,
          null,
          null,
          null,
          null
         ],
         "type": "scatter",
         "x": [
          "2023-08-15",
          "2023-08-16",
          "2023-08-17",
          "2023-08-18",
          "2023-08-19",
          "2023-08-20",
          "2023-08-21",
          "2023-08-22",
          "2023-08-30",
          "2023-08-31",
          "2023-07-15",
          "2023-07-16",
          "2023-07-22",
          "2023-07-23",
          "2023-07-29",
          "2023-07-30",
          "2023-07-31",
          "2023-07-31",
          "2023-07-31",
          "2023-03-04",
          "2023-03-05",
          "2023-03-06",
          "2023-03-07",
          "2023-03-08",
          "2023-03-11",
          "2023-03-14",
          "2023-03-15",
          "2023-03-16",
          "2023-03-16",
          "2023-03-17",
          "2023-03-17",
          "2023-03-20",
          "2023-03-21",
          "2023-03-22",
          "2023-03-22",
          "2023-03-23",
          "2023-03-23",
          "2023-03-24",
          "2023-03-25",
          "2023-03-27",
          "2023-03-28",
          "2023-03-29",
          "2023-03-29",
          "2023-03-30",
          "2023-03-31",
          "2023-03-31"
         ],
         "xaxis": "x3",
         "y": [
          null,
          null,
          null,
          null,
          null,
          null,
          null,
          null,
          null,
          null,
          null,
          null,
          null,
          null,
          null,
          null,
          null,
          null,
          null,
          null,
          null,
          null,
          null,
          null,
          null,
          null,
          null,
          null,
          null,
          null,
          null,
          null,
          null,
          null,
          null,
          null,
          null,
          null,
          null,
          null,
          null,
          null,
          null,
          null,
          null,
          null
         ],
         "yaxis": "y3"
        },
        {
         "marker": {
          "color": "black",
          "size": 10
         },
         "mode": "markers+lines",
         "name": "Unknown Stops",
         "text": [
          "Unknown",
          "Unknown",
          "Unknown",
          "Unknown",
          "Unknown",
          "Unknown",
          "Unknown",
          "Unknown",
          "Sostituzione utensile",
          "Sostituzione utensile",
          "Unknown",
          "Unknown",
          "Unknown",
          "Unknown",
          "Unknown",
          "Unknown",
          "Manutenzione ordinaria",
          "Manutenzione straordinaria",
          "Sostituzione utensile",
          "Unknown",
          "Unknown",
          "Unknown",
          "Unknown",
          "Unknown",
          "Unknown",
          "Unknown",
          "Sostituzione utensile",
          "Manutenzione ordinaria",
          "Sostituzione utensile",
          "Manutenzione ordinaria",
          "Sostituzione utensile",
          "Sostituzione utensile",
          "Sostituzione utensile",
          "Manutenzione ordinaria",
          "Sostituzione utensile",
          "Manutenzione ordinaria",
          "Sostituzione utensile",
          "Sostituzione utensile",
          "Sostituzione utensile",
          "Sostituzione utensile",
          "Sostituzione utensile",
          "Manutenzione ordinaria",
          "Sostituzione utensile",
          "Sostituzione utensile",
          "Manutenzione ordinaria",
          "Sostituzione utensile"
         ],
         "type": "scatter",
         "x": [
          "2023-08-15",
          "2023-08-16",
          "2023-08-17",
          "2023-08-18",
          "2023-08-19",
          "2023-08-20",
          "2023-08-21",
          "2023-08-22",
          "2023-08-30",
          "2023-08-31",
          "2023-07-15",
          "2023-07-16",
          "2023-07-22",
          "2023-07-23",
          "2023-07-29",
          "2023-07-30",
          "2023-07-31",
          "2023-07-31",
          "2023-07-31",
          "2023-03-04",
          "2023-03-05",
          "2023-03-06",
          "2023-03-07",
          "2023-03-08",
          "2023-03-11",
          "2023-03-14",
          "2023-03-15",
          "2023-03-16",
          "2023-03-16",
          "2023-03-17",
          "2023-03-17",
          "2023-03-20",
          "2023-03-21",
          "2023-03-22",
          "2023-03-22",
          "2023-03-23",
          "2023-03-23",
          "2023-03-24",
          "2023-03-25",
          "2023-03-27",
          "2023-03-28",
          "2023-03-29",
          "2023-03-29",
          "2023-03-30",
          "2023-03-31",
          "2023-03-31"
         ],
         "xaxis": "x2",
         "y": [
          null,
          null,
          null,
          null,
          null,
          null,
          null,
          null,
          2,
          3,
          null,
          null,
          null,
          null,
          null,
          null,
          2,
          1,
          2,
          null,
          null,
          null,
          null,
          null,
          null,
          null,
          1,
          1,
          2,
          3,
          2,
          2,
          1,
          2,
          2,
          2,
          2,
          1,
          2,
          1,
          4,
          1,
          3,
          3,
          1,
          2
         ],
         "yaxis": "y2"
        },
        {
         "marker": {
          "color": "#FF0000",
          "size": 10
         },
         "mode": "markers+lines",
         "name": "1103000FE3117050750 Energy",
         "text": [
          null,
          null,
          null,
          null,
          null,
          null,
          null,
          null,
          null
         ],
         "type": "scatter",
         "x": [
          "2023-06-22",
          "2023-06-23",
          "2023-06-24",
          "2023-06-26",
          "2023-06-27",
          "2023-06-28",
          "2023-06-29",
          "2023-06-30",
          "2023-07-01"
         ],
         "xaxis": "x",
         "y": [
          null,
          null,
          null,
          null,
          null,
          null,
          null,
          null,
          null
         ],
         "yaxis": "y"
        },
        {
         "marker": {
          "color": "#FF0000",
          "size": 10
         },
         "mode": "markers+lines",
         "name": "1103000FE3117050750 Productions",
         "text": [
          1285,
          3050,
          2439,
          1722,
          3956,
          4915,
          6595,
          6633,
          0
         ],
         "type": "scatter",
         "x": [
          "2023-06-22",
          "2023-06-23",
          "2023-06-24",
          "2023-06-26",
          "2023-06-27",
          "2023-06-28",
          "2023-06-29",
          "2023-06-30",
          "2023-07-01"
         ],
         "xaxis": "x3",
         "y": [
          1285,
          3050,
          2439,
          1722,
          3956,
          4915,
          6595,
          6633,
          0
         ],
         "yaxis": "y3"
        },
        {
         "marker": {
          "color": "#FF0000",
          "size": 10
         },
         "mode": "markers+lines",
         "name": "1103000FE3117050750 Stops",
         "text": [
          "Unknown",
          "Unknown",
          "Unknown",
          "Unknown",
          "Unknown",
          "Unknown",
          "Unknown",
          "Unknown",
          "Unknown"
         ],
         "type": "scatter",
         "x": [
          "2023-06-22",
          "2023-06-23",
          "2023-06-24",
          "2023-06-26",
          "2023-06-27",
          "2023-06-28",
          "2023-06-29",
          "2023-06-30",
          "2023-07-01"
         ],
         "xaxis": "x2",
         "y": [
          null,
          null,
          null,
          null,
          null,
          null,
          null,
          null,
          null
         ],
         "yaxis": "y2"
        },
        {
         "marker": {
          "color": "#00FFFF",
          "size": 10
         },
         "mode": "markers+lines",
         "name": "0001700AVPWA12FDJ17/SPY Energy",
         "text": [
          0,
          0,
          0,
          null,
          null,
          null,
          0,
          0,
          0,
          null,
          null,
          null,
          null,
          null,
          null,
          null,
          null,
          null,
          null
         ],
         "type": "scatter",
         "x": [
          "2023-07-03",
          "2023-07-04",
          "2023-07-04",
          "2023-07-05",
          "2023-07-05",
          "2023-07-05",
          "2023-07-06",
          "2023-07-06",
          "2023-07-06",
          "2023-07-07",
          "2023-07-08",
          "2023-07-10",
          "2023-07-11",
          "2023-07-12",
          "2023-07-12",
          "2023-07-13",
          "2023-07-13",
          "2023-07-14",
          "2023-07-14"
         ],
         "xaxis": "x",
         "y": [
          0,
          0,
          0,
          null,
          null,
          null,
          0,
          0,
          0,
          null,
          null,
          null,
          null,
          null,
          null,
          null,
          null,
          null,
          null
         ],
         "yaxis": "y"
        },
        {
         "marker": {
          "color": "#00FFFF",
          "size": 10
         },
         "mode": "markers+lines",
         "name": "0001700AVPWA12FDJ17/SPY Productions",
         "text": [
          0,
          5748,
          5748,
          10700,
          10700,
          10700,
          10760,
          10760,
          10760,
          14912,
          1446,
          8646,
          9116,
          6583,
          6583,
          10089,
          10089,
          12298,
          12298
         ],
         "type": "scatter",
         "x": [
          "2023-07-03",
          "2023-07-04",
          "2023-07-04",
          "2023-07-05",
          "2023-07-05",
          "2023-07-05",
          "2023-07-06",
          "2023-07-06",
          "2023-07-06",
          "2023-07-07",
          "2023-07-08",
          "2023-07-10",
          "2023-07-11",
          "2023-07-12",
          "2023-07-12",
          "2023-07-13",
          "2023-07-13",
          "2023-07-14",
          "2023-07-14"
         ],
         "xaxis": "x3",
         "y": [
          0,
          5748,
          5748,
          10700,
          10700,
          10700,
          10760,
          10760,
          10760,
          14912,
          1446,
          8646,
          9116,
          6583,
          6583,
          10089,
          10089,
          12298,
          12298
         ],
         "yaxis": "y3"
        },
        {
         "marker": {
          "color": "#00FFFF",
          "size": 10
         },
         "mode": "markers+lines",
         "name": "0001700AVPWA12FDJ17/SPY Stops",
         "text": [
          "Unknown",
          "Manutenzione ordinaria",
          "Sostituzione utensile",
          "Manutenzione ordinaria",
          "Manutenzione straordinaria",
          "Sostituzione utensile",
          "Manutenzione ordinaria",
          "Manutenzione straordinaria",
          "Sostituzione utensile",
          "Unknown",
          "Sostituzione utensile",
          "Sostituzione utensile",
          "Sostituzione utensile",
          "Manutenzione ordinaria",
          "Sostituzione utensile",
          "Manutenzione ordinaria",
          "Sostituzione utensile",
          "Manutenzione ordinaria",
          "Sostituzione utensile"
         ],
         "type": "scatter",
         "x": [
          "2023-07-03",
          "2023-07-04",
          "2023-07-04",
          "2023-07-05",
          "2023-07-05",
          "2023-07-05",
          "2023-07-06",
          "2023-07-06",
          "2023-07-06",
          "2023-07-07",
          "2023-07-08",
          "2023-07-10",
          "2023-07-11",
          "2023-07-12",
          "2023-07-12",
          "2023-07-13",
          "2023-07-13",
          "2023-07-14",
          "2023-07-14"
         ],
         "xaxis": "x2",
         "y": [
          null,
          1,
          1,
          1,
          2,
          5,
          2,
          1,
          3,
          null,
          1,
          2,
          3,
          2,
          2,
          3,
          4,
          1,
          2
         ],
         "yaxis": "y2"
        },
        {
         "marker": {
          "color": "#FFFF00",
          "size": 10
         },
         "mode": "markers+lines",
         "name": "1155900AISTP.PT.002-I Energy",
         "text": [
          null
         ],
         "type": "scatter",
         "x": [
          "2023-03-09"
         ],
         "xaxis": "x",
         "y": [
          null
         ],
         "yaxis": "y"
        },
        {
         "marker": {
          "color": "#FFFF00",
          "size": 10
         },
         "mode": "markers+lines",
         "name": "1155900AISTP.PT.002-I Productions",
         "text": [
          0
         ],
         "type": "scatter",
         "x": [
          "2023-03-09"
         ],
         "xaxis": "x3",
         "y": [
          0
         ],
         "yaxis": "y3"
        },
        {
         "marker": {
          "color": "#FFFF00",
          "size": 10
         },
         "mode": "markers+lines",
         "name": "1155900AISTP.PT.002-I Stops",
         "text": [
          "Unknown"
         ],
         "type": "scatter",
         "x": [
          "2023-03-09"
         ],
         "xaxis": "x2",
         "y": [
          null
         ],
         "yaxis": "y2"
        }
       ],
       "layout": {
        "annotations": [
         {
          "font": {
           "size": 16
          },
          "showarrow": false,
          "text": "Energy Consumption",
          "x": 0.5,
          "xanchor": "center",
          "xref": "paper",
          "y": 1,
          "yanchor": "bottom",
          "yref": "paper"
         },
         {
          "font": {
           "size": 16
          },
          "showarrow": false,
          "text": "Stops",
          "x": 0.5,
          "xanchor": "center",
          "xref": "paper",
          "y": 0.6466666666666667,
          "yanchor": "bottom",
          "yref": "paper"
         },
         {
          "font": {
           "size": 16
          },
          "showarrow": false,
          "text": "Productions",
          "x": 0.5,
          "xanchor": "center",
          "xref": "paper",
          "y": 0.29333333333333333,
          "yanchor": "bottom",
          "yref": "paper"
         }
        ],
        "height": 800,
        "template": {
         "data": {
          "bar": [
           {
            "error_x": {
             "color": "#2a3f5f"
            },
            "error_y": {
             "color": "#2a3f5f"
            },
            "marker": {
             "line": {
              "color": "#E5ECF6",
              "width": 0.5
             },
             "pattern": {
              "fillmode": "overlay",
              "size": 10,
              "solidity": 0.2
             }
            },
            "type": "bar"
           }
          ],
          "barpolar": [
           {
            "marker": {
             "line": {
              "color": "#E5ECF6",
              "width": 0.5
             },
             "pattern": {
              "fillmode": "overlay",
              "size": 10,
              "solidity": 0.2
             }
            },
            "type": "barpolar"
           }
          ],
          "carpet": [
           {
            "aaxis": {
             "endlinecolor": "#2a3f5f",
             "gridcolor": "white",
             "linecolor": "white",
             "minorgridcolor": "white",
             "startlinecolor": "#2a3f5f"
            },
            "baxis": {
             "endlinecolor": "#2a3f5f",
             "gridcolor": "white",
             "linecolor": "white",
             "minorgridcolor": "white",
             "startlinecolor": "#2a3f5f"
            },
            "type": "carpet"
           }
          ],
          "choropleth": [
           {
            "colorbar": {
             "outlinewidth": 0,
             "ticks": ""
            },
            "type": "choropleth"
           }
          ],
          "contour": [
           {
            "colorbar": {
             "outlinewidth": 0,
             "ticks": ""
            },
            "colorscale": [
             [
              0,
              "#0d0887"
             ],
             [
              0.1111111111111111,
              "#46039f"
             ],
             [
              0.2222222222222222,
              "#7201a8"
             ],
             [
              0.3333333333333333,
              "#9c179e"
             ],
             [
              0.4444444444444444,
              "#bd3786"
             ],
             [
              0.5555555555555556,
              "#d8576b"
             ],
             [
              0.6666666666666666,
              "#ed7953"
             ],
             [
              0.7777777777777778,
              "#fb9f3a"
             ],
             [
              0.8888888888888888,
              "#fdca26"
             ],
             [
              1,
              "#f0f921"
             ]
            ],
            "type": "contour"
           }
          ],
          "contourcarpet": [
           {
            "colorbar": {
             "outlinewidth": 0,
             "ticks": ""
            },
            "type": "contourcarpet"
           }
          ],
          "heatmap": [
           {
            "colorbar": {
             "outlinewidth": 0,
             "ticks": ""
            },
            "colorscale": [
             [
              0,
              "#0d0887"
             ],
             [
              0.1111111111111111,
              "#46039f"
             ],
             [
              0.2222222222222222,
              "#7201a8"
             ],
             [
              0.3333333333333333,
              "#9c179e"
             ],
             [
              0.4444444444444444,
              "#bd3786"
             ],
             [
              0.5555555555555556,
              "#d8576b"
             ],
             [
              0.6666666666666666,
              "#ed7953"
             ],
             [
              0.7777777777777778,
              "#fb9f3a"
             ],
             [
              0.8888888888888888,
              "#fdca26"
             ],
             [
              1,
              "#f0f921"
             ]
            ],
            "type": "heatmap"
           }
          ],
          "heatmapgl": [
           {
            "colorbar": {
             "outlinewidth": 0,
             "ticks": ""
            },
            "colorscale": [
             [
              0,
              "#0d0887"
             ],
             [
              0.1111111111111111,
              "#46039f"
             ],
             [
              0.2222222222222222,
              "#7201a8"
             ],
             [
              0.3333333333333333,
              "#9c179e"
             ],
             [
              0.4444444444444444,
              "#bd3786"
             ],
             [
              0.5555555555555556,
              "#d8576b"
             ],
             [
              0.6666666666666666,
              "#ed7953"
             ],
             [
              0.7777777777777778,
              "#fb9f3a"
             ],
             [
              0.8888888888888888,
              "#fdca26"
             ],
             [
              1,
              "#f0f921"
             ]
            ],
            "type": "heatmapgl"
           }
          ],
          "histogram": [
           {
            "marker": {
             "pattern": {
              "fillmode": "overlay",
              "size": 10,
              "solidity": 0.2
             }
            },
            "type": "histogram"
           }
          ],
          "histogram2d": [
           {
            "colorbar": {
             "outlinewidth": 0,
             "ticks": ""
            },
            "colorscale": [
             [
              0,
              "#0d0887"
             ],
             [
              0.1111111111111111,
              "#46039f"
             ],
             [
              0.2222222222222222,
              "#7201a8"
             ],
             [
              0.3333333333333333,
              "#9c179e"
             ],
             [
              0.4444444444444444,
              "#bd3786"
             ],
             [
              0.5555555555555556,
              "#d8576b"
             ],
             [
              0.6666666666666666,
              "#ed7953"
             ],
             [
              0.7777777777777778,
              "#fb9f3a"
             ],
             [
              0.8888888888888888,
              "#fdca26"
             ],
             [
              1,
              "#f0f921"
             ]
            ],
            "type": "histogram2d"
           }
          ],
          "histogram2dcontour": [
           {
            "colorbar": {
             "outlinewidth": 0,
             "ticks": ""
            },
            "colorscale": [
             [
              0,
              "#0d0887"
             ],
             [
              0.1111111111111111,
              "#46039f"
             ],
             [
              0.2222222222222222,
              "#7201a8"
             ],
             [
              0.3333333333333333,
              "#9c179e"
             ],
             [
              0.4444444444444444,
              "#bd3786"
             ],
             [
              0.5555555555555556,
              "#d8576b"
             ],
             [
              0.6666666666666666,
              "#ed7953"
             ],
             [
              0.7777777777777778,
              "#fb9f3a"
             ],
             [
              0.8888888888888888,
              "#fdca26"
             ],
             [
              1,
              "#f0f921"
             ]
            ],
            "type": "histogram2dcontour"
           }
          ],
          "mesh3d": [
           {
            "colorbar": {
             "outlinewidth": 0,
             "ticks": ""
            },
            "type": "mesh3d"
           }
          ],
          "parcoords": [
           {
            "line": {
             "colorbar": {
              "outlinewidth": 0,
              "ticks": ""
             }
            },
            "type": "parcoords"
           }
          ],
          "pie": [
           {
            "automargin": true,
            "type": "pie"
           }
          ],
          "scatter": [
           {
            "fillpattern": {
             "fillmode": "overlay",
             "size": 10,
             "solidity": 0.2
            },
            "type": "scatter"
           }
          ],
          "scatter3d": [
           {
            "line": {
             "colorbar": {
              "outlinewidth": 0,
              "ticks": ""
             }
            },
            "marker": {
             "colorbar": {
              "outlinewidth": 0,
              "ticks": ""
             }
            },
            "type": "scatter3d"
           }
          ],
          "scattercarpet": [
           {
            "marker": {
             "colorbar": {
              "outlinewidth": 0,
              "ticks": ""
             }
            },
            "type": "scattercarpet"
           }
          ],
          "scattergeo": [
           {
            "marker": {
             "colorbar": {
              "outlinewidth": 0,
              "ticks": ""
             }
            },
            "type": "scattergeo"
           }
          ],
          "scattergl": [
           {
            "marker": {
             "colorbar": {
              "outlinewidth": 0,
              "ticks": ""
             }
            },
            "type": "scattergl"
           }
          ],
          "scattermapbox": [
           {
            "marker": {
             "colorbar": {
              "outlinewidth": 0,
              "ticks": ""
             }
            },
            "type": "scattermapbox"
           }
          ],
          "scatterpolar": [
           {
            "marker": {
             "colorbar": {
              "outlinewidth": 0,
              "ticks": ""
             }
            },
            "type": "scatterpolar"
           }
          ],
          "scatterpolargl": [
           {
            "marker": {
             "colorbar": {
              "outlinewidth": 0,
              "ticks": ""
             }
            },
            "type": "scatterpolargl"
           }
          ],
          "scatterternary": [
           {
            "marker": {
             "colorbar": {
              "outlinewidth": 0,
              "ticks": ""
             }
            },
            "type": "scatterternary"
           }
          ],
          "surface": [
           {
            "colorbar": {
             "outlinewidth": 0,
             "ticks": ""
            },
            "colorscale": [
             [
              0,
              "#0d0887"
             ],
             [
              0.1111111111111111,
              "#46039f"
             ],
             [
              0.2222222222222222,
              "#7201a8"
             ],
             [
              0.3333333333333333,
              "#9c179e"
             ],
             [
              0.4444444444444444,
              "#bd3786"
             ],
             [
              0.5555555555555556,
              "#d8576b"
             ],
             [
              0.6666666666666666,
              "#ed7953"
             ],
             [
              0.7777777777777778,
              "#fb9f3a"
             ],
             [
              0.8888888888888888,
              "#fdca26"
             ],
             [
              1,
              "#f0f921"
             ]
            ],
            "type": "surface"
           }
          ],
          "table": [
           {
            "cells": {
             "fill": {
              "color": "#EBF0F8"
             },
             "line": {
              "color": "white"
             }
            },
            "header": {
             "fill": {
              "color": "#C8D4E3"
             },
             "line": {
              "color": "white"
             }
            },
            "type": "table"
           }
          ]
         },
         "layout": {
          "annotationdefaults": {
           "arrowcolor": "#2a3f5f",
           "arrowhead": 0,
           "arrowwidth": 1
          },
          "autotypenumbers": "strict",
          "coloraxis": {
           "colorbar": {
            "outlinewidth": 0,
            "ticks": ""
           }
          },
          "colorscale": {
           "diverging": [
            [
             0,
             "#8e0152"
            ],
            [
             0.1,
             "#c51b7d"
            ],
            [
             0.2,
             "#de77ae"
            ],
            [
             0.3,
             "#f1b6da"
            ],
            [
             0.4,
             "#fde0ef"
            ],
            [
             0.5,
             "#f7f7f7"
            ],
            [
             0.6,
             "#e6f5d0"
            ],
            [
             0.7,
             "#b8e186"
            ],
            [
             0.8,
             "#7fbc41"
            ],
            [
             0.9,
             "#4d9221"
            ],
            [
             1,
             "#276419"
            ]
           ],
           "sequential": [
            [
             0,
             "#0d0887"
            ],
            [
             0.1111111111111111,
             "#46039f"
            ],
            [
             0.2222222222222222,
             "#7201a8"
            ],
            [
             0.3333333333333333,
             "#9c179e"
            ],
            [
             0.4444444444444444,
             "#bd3786"
            ],
            [
             0.5555555555555556,
             "#d8576b"
            ],
            [
             0.6666666666666666,
             "#ed7953"
            ],
            [
             0.7777777777777778,
             "#fb9f3a"
            ],
            [
             0.8888888888888888,
             "#fdca26"
            ],
            [
             1,
             "#f0f921"
            ]
           ],
           "sequentialminus": [
            [
             0,
             "#0d0887"
            ],
            [
             0.1111111111111111,
             "#46039f"
            ],
            [
             0.2222222222222222,
             "#7201a8"
            ],
            [
             0.3333333333333333,
             "#9c179e"
            ],
            [
             0.4444444444444444,
             "#bd3786"
            ],
            [
             0.5555555555555556,
             "#d8576b"
            ],
            [
             0.6666666666666666,
             "#ed7953"
            ],
            [
             0.7777777777777778,
             "#fb9f3a"
            ],
            [
             0.8888888888888888,
             "#fdca26"
            ],
            [
             1,
             "#f0f921"
            ]
           ]
          },
          "colorway": [
           "#636efa",
           "#EF553B",
           "#00cc96",
           "#ab63fa",
           "#FFA15A",
           "#19d3f3",
           "#FF6692",
           "#B6E880",
           "#FF97FF",
           "#FECB52"
          ],
          "font": {
           "color": "#2a3f5f"
          },
          "geo": {
           "bgcolor": "white",
           "lakecolor": "white",
           "landcolor": "#E5ECF6",
           "showlakes": true,
           "showland": true,
           "subunitcolor": "white"
          },
          "hoverlabel": {
           "align": "left"
          },
          "hovermode": "closest",
          "mapbox": {
           "style": "light"
          },
          "paper_bgcolor": "white",
          "plot_bgcolor": "#E5ECF6",
          "polar": {
           "angularaxis": {
            "gridcolor": "white",
            "linecolor": "white",
            "ticks": ""
           },
           "bgcolor": "#E5ECF6",
           "radialaxis": {
            "gridcolor": "white",
            "linecolor": "white",
            "ticks": ""
           }
          },
          "scene": {
           "xaxis": {
            "backgroundcolor": "#E5ECF6",
            "gridcolor": "white",
            "gridwidth": 2,
            "linecolor": "white",
            "showbackground": true,
            "ticks": "",
            "zerolinecolor": "white"
           },
           "yaxis": {
            "backgroundcolor": "#E5ECF6",
            "gridcolor": "white",
            "gridwidth": 2,
            "linecolor": "white",
            "showbackground": true,
            "ticks": "",
            "zerolinecolor": "white"
           },
           "zaxis": {
            "backgroundcolor": "#E5ECF6",
            "gridcolor": "white",
            "gridwidth": 2,
            "linecolor": "white",
            "showbackground": true,
            "ticks": "",
            "zerolinecolor": "white"
           }
          },
          "shapedefaults": {
           "line": {
            "color": "#2a3f5f"
           }
          },
          "ternary": {
           "aaxis": {
            "gridcolor": "white",
            "linecolor": "white",
            "ticks": ""
           },
           "baxis": {
            "gridcolor": "white",
            "linecolor": "white",
            "ticks": ""
           },
           "bgcolor": "#E5ECF6",
           "caxis": {
            "gridcolor": "white",
            "linecolor": "white",
            "ticks": ""
           }
          },
          "title": {
           "x": 0.05
          },
          "xaxis": {
           "automargin": true,
           "gridcolor": "white",
           "linecolor": "white",
           "ticks": "",
           "title": {
            "standoff": 15
           },
           "zerolinecolor": "white",
           "zerolinewidth": 2
          },
          "yaxis": {
           "automargin": true,
           "gridcolor": "white",
           "linecolor": "white",
           "ticks": "",
           "title": {
            "standoff": 15
           },
           "zerolinecolor": "white",
           "zerolinewidth": 2
          }
         }
        },
        "title": {
         "text": "Dataset machine 108"
        },
        "width": 1280,
        "xaxis": {
         "anchor": "y",
         "domain": [
          0,
          1
         ],
         "matches": "x3",
         "showticklabels": false
        },
        "xaxis2": {
         "anchor": "y2",
         "domain": [
          0,
          1
         ],
         "matches": "x3",
         "showticklabels": false
        },
        "xaxis3": {
         "anchor": "y3",
         "domain": [
          0,
          1
         ]
        },
        "yaxis": {
         "anchor": "x",
         "domain": [
          0.7066666666666667,
          1
         ]
        },
        "yaxis2": {
         "anchor": "x2",
         "domain": [
          0.35333333333333333,
          0.6466666666666667
         ]
        },
        "yaxis3": {
         "anchor": "x3",
         "domain": [
          0,
          0.29333333333333333
         ]
        }
       }
      }
     },
     "metadata": {},
     "output_type": "display_data"
    },
    {
     "data": {
      "application/vnd.plotly.v1+json": {
       "config": {
        "plotlyServerURL": "https://plot.ly"
       },
       "data": [
        {
         "marker": {
          "color": "blue",
          "size": 10
         },
         "mode": "markers+lines",
         "name": "1139000AIS516500065 Energy",
         "text": [
          null,
          null,
          null
         ],
         "type": "scatter",
         "x": [
          "2023-05-30",
          "2023-05-31",
          "2023-06-01"
         ],
         "xaxis": "x",
         "y": [
          null,
          null,
          null
         ],
         "yaxis": "y"
        },
        {
         "marker": {
          "color": "blue",
          "size": 10
         },
         "mode": "markers+lines",
         "name": "1139000AIS516500065 Productions",
         "text": [
          1032,
          592,
          -1707
         ],
         "type": "scatter",
         "x": [
          "2023-05-30",
          "2023-05-31",
          "2023-06-01"
         ],
         "xaxis": "x3",
         "y": [
          1032,
          592,
          -1707
         ],
         "yaxis": "y3"
        },
        {
         "marker": {
          "color": "blue",
          "size": 10
         },
         "mode": "markers+lines",
         "name": "1139000AIS516500065 Stops",
         "text": [
          "Unknown",
          "Unknown",
          "Unknown"
         ],
         "type": "scatter",
         "x": [
          "2023-05-30",
          "2023-05-31",
          "2023-06-01"
         ],
         "xaxis": "x2",
         "y": [
          null,
          null,
          null
         ],
         "yaxis": "y2"
        },
        {
         "marker": {
          "color": "green",
          "size": 10
         },
         "mode": "markers+lines",
         "name": "1103000FE5107370250 Energy",
         "text": [
          null
         ],
         "type": "scatter",
         "x": [
          "2023-06-06"
         ],
         "xaxis": "x",
         "y": [
          null
         ],
         "yaxis": "y"
        },
        {
         "marker": {
          "color": "green",
          "size": 10
         },
         "mode": "markers+lines",
         "name": "1103000FE5107370250 Productions",
         "text": [
          0
         ],
         "type": "scatter",
         "x": [
          "2023-06-06"
         ],
         "xaxis": "x3",
         "y": [
          0
         ],
         "yaxis": "y3"
        },
        {
         "marker": {
          "color": "green",
          "size": 10
         },
         "mode": "markers+lines",
         "name": "1103000FE5107370250 Stops",
         "text": [
          "Unknown"
         ],
         "type": "scatter",
         "x": [
          "2023-06-06"
         ],
         "xaxis": "x2",
         "y": [
          null
         ],
         "yaxis": "y2"
        },
        {
         "marker": {
          "color": "#FF0000",
          "size": 10
         },
         "mode": "markers+lines",
         "name": "1139000AVP515000322A Energy",
         "text": [
          null,
          83041.9,
          55412.3,
          55412.3,
          null,
          105756.3,
          105756.3,
          118311.7,
          118311.7,
          139176,
          null,
          125040.5,
          42852.2,
          0,
          123193.4
         ],
         "type": "scatter",
         "x": [
          "2023-06-06",
          "2023-06-07",
          "2023-06-08",
          "2023-06-08",
          "2023-06-09",
          "2023-06-12",
          "2023-06-12",
          "2023-06-13",
          "2023-06-13",
          "2023-06-14",
          "2023-06-15",
          "2023-06-16",
          "2023-06-19",
          "2023-06-21",
          "2023-06-22"
         ],
         "xaxis": "x",
         "y": [
          null,
          83041.9,
          55412.3,
          55412.3,
          null,
          105756.3,
          105756.3,
          118311.7,
          118311.7,
          139176,
          null,
          125040.5,
          42852.2,
          0,
          123193.4
         ],
         "yaxis": "y"
        },
        {
         "marker": {
          "color": "#FF0000",
          "size": 10
         },
         "mode": "markers+lines",
         "name": "1139000AVP515000322A Productions",
         "text": [
          0,
          258,
          193,
          193,
          581,
          488,
          488,
          1118,
          1118,
          581,
          520,
          952,
          34,
          325,
          542
         ],
         "type": "scatter",
         "x": [
          "2023-06-06",
          "2023-06-07",
          "2023-06-08",
          "2023-06-08",
          "2023-06-09",
          "2023-06-12",
          "2023-06-12",
          "2023-06-13",
          "2023-06-13",
          "2023-06-14",
          "2023-06-15",
          "2023-06-16",
          "2023-06-19",
          "2023-06-21",
          "2023-06-22"
         ],
         "xaxis": "x3",
         "y": [
          0,
          258,
          193,
          193,
          581,
          488,
          488,
          1118,
          1118,
          581,
          520,
          952,
          34,
          325,
          542
         ],
         "yaxis": "y3"
        },
        {
         "marker": {
          "color": "#FF0000",
          "size": 10
         },
         "mode": "markers+lines",
         "name": "1139000AVP515000322A Stops",
         "text": [
          "Unknown",
          "Sostituzione utensile",
          "Manutenzione ordinaria",
          "Sostituzione utensile",
          "Unknown",
          "Manutenzione ordinaria",
          "Manutenzione straordinaria",
          "Manutenzione straordinaria",
          "Sostituzione utensile",
          "Unknown",
          "Sostituzione utensile",
          "Sostituzione utensile",
          "Manutenzione ordinaria",
          "Manutenzione ordinaria",
          "Sostituzione utensile"
         ],
         "type": "scatter",
         "x": [
          "2023-06-06",
          "2023-06-07",
          "2023-06-08",
          "2023-06-08",
          "2023-06-09",
          "2023-06-12",
          "2023-06-12",
          "2023-06-13",
          "2023-06-13",
          "2023-06-14",
          "2023-06-15",
          "2023-06-16",
          "2023-06-19",
          "2023-06-21",
          "2023-06-22"
         ],
         "xaxis": "x2",
         "y": [
          null,
          1,
          1,
          1,
          null,
          2,
          1,
          1,
          1,
          null,
          1,
          1,
          1,
          1,
          1
         ],
         "yaxis": "y2"
        },
        {
         "marker": {
          "color": "black",
          "size": 10
         },
         "mode": "markers+lines",
         "name": "Unknown Energy",
         "text": [
          6637.3,
          0.1,
          3165.9,
          0.1,
          36851.5,
          null,
          null,
          null,
          null,
          0,
          0,
          0,
          null,
          81811.7,
          192419.2,
          192419.2,
          null,
          null,
          null,
          null,
          183444.1,
          181565.3,
          181565.3,
          170941.3,
          170941.3,
          0,
          0,
          null,
          76519.5,
          76519.5
         ],
         "type": "scatter",
         "x": [
          "2023-06-10",
          "2023-06-11",
          "2023-06-17",
          "2023-06-18",
          "2023-06-20",
          "2023-06-23",
          "2023-06-26",
          "2023-06-27",
          "2023-06-29",
          "2023-06-30",
          "2023-03-05",
          "2023-03-11",
          "2023-03-13",
          "2023-03-14",
          "2023-03-15",
          "2023-03-15",
          "2023-03-17",
          "2023-03-18",
          "2023-03-18",
          "2023-03-20",
          "2023-03-21",
          "2023-03-22",
          "2023-03-22",
          "2023-03-23",
          "2023-03-23",
          "2023-03-24",
          "2023-03-25",
          "2023-03-29",
          "2023-03-30",
          "2023-03-30"
         ],
         "xaxis": "x",
         "y": [
          6637.3,
          0.1,
          3165.9,
          0.1,
          36851.5,
          null,
          null,
          null,
          null,
          0,
          0,
          0,
          null,
          81811.7,
          192419.2,
          192419.2,
          null,
          null,
          null,
          null,
          183444.1,
          181565.3,
          181565.3,
          170941.3,
          170941.3,
          0,
          0,
          null,
          76519.5,
          76519.5
         ],
         "yaxis": "y"
        },
        {
         "marker": {
          "color": "black",
          "size": 10
         },
         "mode": "markers+lines",
         "name": "Unknown Productions",
         "text": [
          null,
          null,
          null,
          null,
          null,
          null,
          null,
          null,
          null,
          null,
          null,
          null,
          null,
          null,
          null,
          null,
          null,
          null,
          null,
          null,
          null,
          null,
          null,
          null,
          null,
          null,
          null,
          null,
          null,
          null
         ],
         "type": "scatter",
         "x": [
          "2023-06-10",
          "2023-06-11",
          "2023-06-17",
          "2023-06-18",
          "2023-06-20",
          "2023-06-23",
          "2023-06-26",
          "2023-06-27",
          "2023-06-29",
          "2023-06-30",
          "2023-03-05",
          "2023-03-11",
          "2023-03-13",
          "2023-03-14",
          "2023-03-15",
          "2023-03-15",
          "2023-03-17",
          "2023-03-18",
          "2023-03-18",
          "2023-03-20",
          "2023-03-21",
          "2023-03-22",
          "2023-03-22",
          "2023-03-23",
          "2023-03-23",
          "2023-03-24",
          "2023-03-25",
          "2023-03-29",
          "2023-03-30",
          "2023-03-30"
         ],
         "xaxis": "x3",
         "y": [
          null,
          null,
          null,
          null,
          null,
          null,
          null,
          null,
          null,
          null,
          null,
          null,
          null,
          null,
          null,
          null,
          null,
          null,
          null,
          null,
          null,
          null,
          null,
          null,
          null,
          null,
          null,
          null,
          null,
          null
         ],
         "yaxis": "y3"
        },
        {
         "marker": {
          "color": "black",
          "size": 10
         },
         "mode": "markers+lines",
         "name": "Unknown Stops",
         "text": [
          "Unknown",
          "Unknown",
          "Unknown",
          "Unknown",
          "Unknown",
          "Manutenzione ordinaria",
          "Manutenzione ordinaria",
          "Manutenzione ordinaria",
          "Manutenzione ordinaria",
          "Manutenzione ordinaria",
          "Unknown",
          "Unknown",
          "Manutenzione ordinaria",
          "Sostituzione utensile",
          "Manutenzione ordinaria",
          "Sostituzione utensile",
          "Manutenzione ordinaria",
          "Manutenzione ordinaria",
          "Sostituzione utensile",
          "Sostituzione utensile",
          "Sostituzione utensile",
          "Manutenzione ordinaria",
          "Sostituzione utensile",
          "Manutenzione straordinaria",
          "Sostituzione utensile",
          "Unknown",
          "Unknown",
          "Manutenzione ordinaria",
          "Manutenzione ordinaria",
          "Manutenzione straordinaria"
         ],
         "type": "scatter",
         "x": [
          "2023-06-10",
          "2023-06-11",
          "2023-06-17",
          "2023-06-18",
          "2023-06-20",
          "2023-06-23",
          "2023-06-26",
          "2023-06-27",
          "2023-06-29",
          "2023-06-30",
          "2023-03-05",
          "2023-03-11",
          "2023-03-13",
          "2023-03-14",
          "2023-03-15",
          "2023-03-15",
          "2023-03-17",
          "2023-03-18",
          "2023-03-18",
          "2023-03-20",
          "2023-03-21",
          "2023-03-22",
          "2023-03-22",
          "2023-03-23",
          "2023-03-23",
          "2023-03-24",
          "2023-03-25",
          "2023-03-29",
          "2023-03-30",
          "2023-03-30"
         ],
         "xaxis": "x2",
         "y": [
          null,
          null,
          null,
          null,
          null,
          2,
          2,
          1,
          1,
          3,
          null,
          null,
          1,
          1,
          1,
          4,
          1,
          1,
          1,
          2,
          3,
          1,
          2,
          1,
          1,
          null,
          null,
          1,
          2,
          1
         ],
         "yaxis": "y2"
        },
        {
         "marker": {
          "color": "#FFFF00",
          "size": 10
         },
         "mode": "markers+lines",
         "name": "1084600AVZ2060609 Energy",
         "text": [
          null,
          null,
          132313.8,
          null
         ],
         "type": "scatter",
         "x": [
          "2023-02-27",
          "2023-02-28",
          "2023-03-01",
          "2023-03-02"
         ],
         "xaxis": "x",
         "y": [
          null,
          null,
          132313.8,
          null
         ],
         "yaxis": "y"
        },
        {
         "marker": {
          "color": "#FFFF00",
          "size": 10
         },
         "mode": "markers+lines",
         "name": "1084600AVZ2060609 Productions",
         "text": [
          270,
          2080,
          1648,
          204
         ],
         "type": "scatter",
         "x": [
          "2023-02-27",
          "2023-02-28",
          "2023-03-01",
          "2023-03-02"
         ],
         "xaxis": "x3",
         "y": [
          270,
          2080,
          1648,
          204
         ],
         "yaxis": "y3"
        },
        {
         "marker": {
          "color": "#FFFF00",
          "size": 10
         },
         "mode": "markers+lines",
         "name": "1084600AVZ2060609 Stops",
         "text": [
          "Unknown",
          "Unknown",
          "Unknown",
          "Unknown"
         ],
         "type": "scatter",
         "x": [
          "2023-02-27",
          "2023-02-28",
          "2023-03-01",
          "2023-03-02"
         ],
         "xaxis": "x2",
         "y": [
          null,
          null,
          null,
          null
         ],
         "yaxis": "y2"
        },
        {
         "marker": {
          "color": "#880000",
          "size": 10
         },
         "mode": "markers+lines",
         "name": "1084600AVZ2060663 Energy",
         "text": [
          null
         ],
         "type": "scatter",
         "x": [
          "2023-02-27"
         ],
         "xaxis": "x",
         "y": [
          null
         ],
         "yaxis": "y"
        },
        {
         "marker": {
          "color": "#880000",
          "size": 10
         },
         "mode": "markers+lines",
         "name": "1084600AVZ2060663 Productions",
         "text": [
          342
         ],
         "type": "scatter",
         "x": [
          "2023-02-27"
         ],
         "xaxis": "x3",
         "y": [
          342
         ],
         "yaxis": "y3"
        },
        {
         "marker": {
          "color": "#880000",
          "size": 10
         },
         "mode": "markers+lines",
         "name": "1084600AVZ2060663 Stops",
         "text": [
          "Unknown"
         ],
         "type": "scatter",
         "x": [
          "2023-02-27"
         ],
         "xaxis": "x2",
         "y": [
          null
         ],
         "yaxis": "y2"
        },
        {
         "marker": {
          "color": "blue",
          "size": 10
         },
         "mode": "markers+lines",
         "name": "0007300AVP2560176-R2 Energy",
         "text": [
          null,
          72704,
          45149.5,
          135126.2,
          169038.6,
          147321.9
         ],
         "type": "scatter",
         "x": [
          "2023-03-02",
          "2023-03-03",
          "2023-03-04",
          "2023-03-06",
          "2023-03-07",
          "2023-03-08"
         ],
         "xaxis": "x",
         "y": [
          null,
          72704,
          45149.5,
          135126.2,
          169038.6,
          147321.9
         ],
         "yaxis": "y"
        },
        {
         "marker": {
          "color": "blue",
          "size": 10
         },
         "mode": "markers+lines",
         "name": "0007300AVP2560176-R2 Productions",
         "text": [
          0,
          456,
          609,
          1174,
          1538,
          858
         ],
         "type": "scatter",
         "x": [
          "2023-03-02",
          "2023-03-03",
          "2023-03-04",
          "2023-03-06",
          "2023-03-07",
          "2023-03-08"
         ],
         "xaxis": "x3",
         "y": [
          0,
          456,
          609,
          1174,
          1538,
          858
         ],
         "yaxis": "y3"
        },
        {
         "marker": {
          "color": "blue",
          "size": 10
         },
         "mode": "markers+lines",
         "name": "0007300AVP2560176-R2 Stops",
         "text": [
          "Unknown",
          "Manutenzione ordinaria",
          "Unknown",
          "Sostituzione utensile",
          "Manutenzione ordinaria",
          "Sostituzione utensile"
         ],
         "type": "scatter",
         "x": [
          "2023-03-02",
          "2023-03-03",
          "2023-03-04",
          "2023-03-06",
          "2023-03-07",
          "2023-03-08"
         ],
         "xaxis": "x2",
         "y": [
          null,
          1,
          null,
          1,
          2,
          1
         ],
         "yaxis": "y2"
        },
        {
         "marker": {
          "color": "green",
          "size": 10
         },
         "mode": "markers+lines",
         "name": "1084600AVZ2060584 Energy",
         "text": [
          147321.9,
          null,
          null,
          null
         ],
         "type": "scatter",
         "x": [
          "2023-03-08",
          "2023-03-09",
          "2023-03-09",
          "2023-03-10"
         ],
         "xaxis": "x",
         "y": [
          147321.9,
          null,
          null,
          null
         ],
         "yaxis": "y"
        },
        {
         "marker": {
          "color": "green",
          "size": 10
         },
         "mode": "markers+lines",
         "name": "1084600AVZ2060584 Productions",
         "text": [
          389,
          1194,
          1194,
          1508
         ],
         "type": "scatter",
         "x": [
          "2023-03-08",
          "2023-03-09",
          "2023-03-09",
          "2023-03-10"
         ],
         "xaxis": "x3",
         "y": [
          389,
          1194,
          1194,
          1508
         ],
         "yaxis": "y3"
        },
        {
         "marker": {
          "color": "green",
          "size": 10
         },
         "mode": "markers+lines",
         "name": "1084600AVZ2060584 Stops",
         "text": [
          "Sostituzione utensile",
          "Manutenzione ordinaria",
          "Manutenzione straordinaria",
          "Unknown"
         ],
         "type": "scatter",
         "x": [
          "2023-03-08",
          "2023-03-09",
          "2023-03-09",
          "2023-03-10"
         ],
         "xaxis": "x2",
         "y": [
          1,
          1,
          1,
          null
         ],
         "yaxis": "y2"
        }
       ],
       "layout": {
        "annotations": [
         {
          "font": {
           "size": 16
          },
          "showarrow": false,
          "text": "Energy Consumption",
          "x": 0.5,
          "xanchor": "center",
          "xref": "paper",
          "y": 1,
          "yanchor": "bottom",
          "yref": "paper"
         },
         {
          "font": {
           "size": 16
          },
          "showarrow": false,
          "text": "Stops",
          "x": 0.5,
          "xanchor": "center",
          "xref": "paper",
          "y": 0.6466666666666667,
          "yanchor": "bottom",
          "yref": "paper"
         },
         {
          "font": {
           "size": 16
          },
          "showarrow": false,
          "text": "Productions",
          "x": 0.5,
          "xanchor": "center",
          "xref": "paper",
          "y": 0.29333333333333333,
          "yanchor": "bottom",
          "yref": "paper"
         }
        ],
        "height": 800,
        "template": {
         "data": {
          "bar": [
           {
            "error_x": {
             "color": "#2a3f5f"
            },
            "error_y": {
             "color": "#2a3f5f"
            },
            "marker": {
             "line": {
              "color": "#E5ECF6",
              "width": 0.5
             },
             "pattern": {
              "fillmode": "overlay",
              "size": 10,
              "solidity": 0.2
             }
            },
            "type": "bar"
           }
          ],
          "barpolar": [
           {
            "marker": {
             "line": {
              "color": "#E5ECF6",
              "width": 0.5
             },
             "pattern": {
              "fillmode": "overlay",
              "size": 10,
              "solidity": 0.2
             }
            },
            "type": "barpolar"
           }
          ],
          "carpet": [
           {
            "aaxis": {
             "endlinecolor": "#2a3f5f",
             "gridcolor": "white",
             "linecolor": "white",
             "minorgridcolor": "white",
             "startlinecolor": "#2a3f5f"
            },
            "baxis": {
             "endlinecolor": "#2a3f5f",
             "gridcolor": "white",
             "linecolor": "white",
             "minorgridcolor": "white",
             "startlinecolor": "#2a3f5f"
            },
            "type": "carpet"
           }
          ],
          "choropleth": [
           {
            "colorbar": {
             "outlinewidth": 0,
             "ticks": ""
            },
            "type": "choropleth"
           }
          ],
          "contour": [
           {
            "colorbar": {
             "outlinewidth": 0,
             "ticks": ""
            },
            "colorscale": [
             [
              0,
              "#0d0887"
             ],
             [
              0.1111111111111111,
              "#46039f"
             ],
             [
              0.2222222222222222,
              "#7201a8"
             ],
             [
              0.3333333333333333,
              "#9c179e"
             ],
             [
              0.4444444444444444,
              "#bd3786"
             ],
             [
              0.5555555555555556,
              "#d8576b"
             ],
             [
              0.6666666666666666,
              "#ed7953"
             ],
             [
              0.7777777777777778,
              "#fb9f3a"
             ],
             [
              0.8888888888888888,
              "#fdca26"
             ],
             [
              1,
              "#f0f921"
             ]
            ],
            "type": "contour"
           }
          ],
          "contourcarpet": [
           {
            "colorbar": {
             "outlinewidth": 0,
             "ticks": ""
            },
            "type": "contourcarpet"
           }
          ],
          "heatmap": [
           {
            "colorbar": {
             "outlinewidth": 0,
             "ticks": ""
            },
            "colorscale": [
             [
              0,
              "#0d0887"
             ],
             [
              0.1111111111111111,
              "#46039f"
             ],
             [
              0.2222222222222222,
              "#7201a8"
             ],
             [
              0.3333333333333333,
              "#9c179e"
             ],
             [
              0.4444444444444444,
              "#bd3786"
             ],
             [
              0.5555555555555556,
              "#d8576b"
             ],
             [
              0.6666666666666666,
              "#ed7953"
             ],
             [
              0.7777777777777778,
              "#fb9f3a"
             ],
             [
              0.8888888888888888,
              "#fdca26"
             ],
             [
              1,
              "#f0f921"
             ]
            ],
            "type": "heatmap"
           }
          ],
          "heatmapgl": [
           {
            "colorbar": {
             "outlinewidth": 0,
             "ticks": ""
            },
            "colorscale": [
             [
              0,
              "#0d0887"
             ],
             [
              0.1111111111111111,
              "#46039f"
             ],
             [
              0.2222222222222222,
              "#7201a8"
             ],
             [
              0.3333333333333333,
              "#9c179e"
             ],
             [
              0.4444444444444444,
              "#bd3786"
             ],
             [
              0.5555555555555556,
              "#d8576b"
             ],
             [
              0.6666666666666666,
              "#ed7953"
             ],
             [
              0.7777777777777778,
              "#fb9f3a"
             ],
             [
              0.8888888888888888,
              "#fdca26"
             ],
             [
              1,
              "#f0f921"
             ]
            ],
            "type": "heatmapgl"
           }
          ],
          "histogram": [
           {
            "marker": {
             "pattern": {
              "fillmode": "overlay",
              "size": 10,
              "solidity": 0.2
             }
            },
            "type": "histogram"
           }
          ],
          "histogram2d": [
           {
            "colorbar": {
             "outlinewidth": 0,
             "ticks": ""
            },
            "colorscale": [
             [
              0,
              "#0d0887"
             ],
             [
              0.1111111111111111,
              "#46039f"
             ],
             [
              0.2222222222222222,
              "#7201a8"
             ],
             [
              0.3333333333333333,
              "#9c179e"
             ],
             [
              0.4444444444444444,
              "#bd3786"
             ],
             [
              0.5555555555555556,
              "#d8576b"
             ],
             [
              0.6666666666666666,
              "#ed7953"
             ],
             [
              0.7777777777777778,
              "#fb9f3a"
             ],
             [
              0.8888888888888888,
              "#fdca26"
             ],
             [
              1,
              "#f0f921"
             ]
            ],
            "type": "histogram2d"
           }
          ],
          "histogram2dcontour": [
           {
            "colorbar": {
             "outlinewidth": 0,
             "ticks": ""
            },
            "colorscale": [
             [
              0,
              "#0d0887"
             ],
             [
              0.1111111111111111,
              "#46039f"
             ],
             [
              0.2222222222222222,
              "#7201a8"
             ],
             [
              0.3333333333333333,
              "#9c179e"
             ],
             [
              0.4444444444444444,
              "#bd3786"
             ],
             [
              0.5555555555555556,
              "#d8576b"
             ],
             [
              0.6666666666666666,
              "#ed7953"
             ],
             [
              0.7777777777777778,
              "#fb9f3a"
             ],
             [
              0.8888888888888888,
              "#fdca26"
             ],
             [
              1,
              "#f0f921"
             ]
            ],
            "type": "histogram2dcontour"
           }
          ],
          "mesh3d": [
           {
            "colorbar": {
             "outlinewidth": 0,
             "ticks": ""
            },
            "type": "mesh3d"
           }
          ],
          "parcoords": [
           {
            "line": {
             "colorbar": {
              "outlinewidth": 0,
              "ticks": ""
             }
            },
            "type": "parcoords"
           }
          ],
          "pie": [
           {
            "automargin": true,
            "type": "pie"
           }
          ],
          "scatter": [
           {
            "fillpattern": {
             "fillmode": "overlay",
             "size": 10,
             "solidity": 0.2
            },
            "type": "scatter"
           }
          ],
          "scatter3d": [
           {
            "line": {
             "colorbar": {
              "outlinewidth": 0,
              "ticks": ""
             }
            },
            "marker": {
             "colorbar": {
              "outlinewidth": 0,
              "ticks": ""
             }
            },
            "type": "scatter3d"
           }
          ],
          "scattercarpet": [
           {
            "marker": {
             "colorbar": {
              "outlinewidth": 0,
              "ticks": ""
             }
            },
            "type": "scattercarpet"
           }
          ],
          "scattergeo": [
           {
            "marker": {
             "colorbar": {
              "outlinewidth": 0,
              "ticks": ""
             }
            },
            "type": "scattergeo"
           }
          ],
          "scattergl": [
           {
            "marker": {
             "colorbar": {
              "outlinewidth": 0,
              "ticks": ""
             }
            },
            "type": "scattergl"
           }
          ],
          "scattermapbox": [
           {
            "marker": {
             "colorbar": {
              "outlinewidth": 0,
              "ticks": ""
             }
            },
            "type": "scattermapbox"
           }
          ],
          "scatterpolar": [
           {
            "marker": {
             "colorbar": {
              "outlinewidth": 0,
              "ticks": ""
             }
            },
            "type": "scatterpolar"
           }
          ],
          "scatterpolargl": [
           {
            "marker": {
             "colorbar": {
              "outlinewidth": 0,
              "ticks": ""
             }
            },
            "type": "scatterpolargl"
           }
          ],
          "scatterternary": [
           {
            "marker": {
             "colorbar": {
              "outlinewidth": 0,
              "ticks": ""
             }
            },
            "type": "scatterternary"
           }
          ],
          "surface": [
           {
            "colorbar": {
             "outlinewidth": 0,
             "ticks": ""
            },
            "colorscale": [
             [
              0,
              "#0d0887"
             ],
             [
              0.1111111111111111,
              "#46039f"
             ],
             [
              0.2222222222222222,
              "#7201a8"
             ],
             [
              0.3333333333333333,
              "#9c179e"
             ],
             [
              0.4444444444444444,
              "#bd3786"
             ],
             [
              0.5555555555555556,
              "#d8576b"
             ],
             [
              0.6666666666666666,
              "#ed7953"
             ],
             [
              0.7777777777777778,
              "#fb9f3a"
             ],
             [
              0.8888888888888888,
              "#fdca26"
             ],
             [
              1,
              "#f0f921"
             ]
            ],
            "type": "surface"
           }
          ],
          "table": [
           {
            "cells": {
             "fill": {
              "color": "#EBF0F8"
             },
             "line": {
              "color": "white"
             }
            },
            "header": {
             "fill": {
              "color": "#C8D4E3"
             },
             "line": {
              "color": "white"
             }
            },
            "type": "table"
           }
          ]
         },
         "layout": {
          "annotationdefaults": {
           "arrowcolor": "#2a3f5f",
           "arrowhead": 0,
           "arrowwidth": 1
          },
          "autotypenumbers": "strict",
          "coloraxis": {
           "colorbar": {
            "outlinewidth": 0,
            "ticks": ""
           }
          },
          "colorscale": {
           "diverging": [
            [
             0,
             "#8e0152"
            ],
            [
             0.1,
             "#c51b7d"
            ],
            [
             0.2,
             "#de77ae"
            ],
            [
             0.3,
             "#f1b6da"
            ],
            [
             0.4,
             "#fde0ef"
            ],
            [
             0.5,
             "#f7f7f7"
            ],
            [
             0.6,
             "#e6f5d0"
            ],
            [
             0.7,
             "#b8e186"
            ],
            [
             0.8,
             "#7fbc41"
            ],
            [
             0.9,
             "#4d9221"
            ],
            [
             1,
             "#276419"
            ]
           ],
           "sequential": [
            [
             0,
             "#0d0887"
            ],
            [
             0.1111111111111111,
             "#46039f"
            ],
            [
             0.2222222222222222,
             "#7201a8"
            ],
            [
             0.3333333333333333,
             "#9c179e"
            ],
            [
             0.4444444444444444,
             "#bd3786"
            ],
            [
             0.5555555555555556,
             "#d8576b"
            ],
            [
             0.6666666666666666,
             "#ed7953"
            ],
            [
             0.7777777777777778,
             "#fb9f3a"
            ],
            [
             0.8888888888888888,
             "#fdca26"
            ],
            [
             1,
             "#f0f921"
            ]
           ],
           "sequentialminus": [
            [
             0,
             "#0d0887"
            ],
            [
             0.1111111111111111,
             "#46039f"
            ],
            [
             0.2222222222222222,
             "#7201a8"
            ],
            [
             0.3333333333333333,
             "#9c179e"
            ],
            [
             0.4444444444444444,
             "#bd3786"
            ],
            [
             0.5555555555555556,
             "#d8576b"
            ],
            [
             0.6666666666666666,
             "#ed7953"
            ],
            [
             0.7777777777777778,
             "#fb9f3a"
            ],
            [
             0.8888888888888888,
             "#fdca26"
            ],
            [
             1,
             "#f0f921"
            ]
           ]
          },
          "colorway": [
           "#636efa",
           "#EF553B",
           "#00cc96",
           "#ab63fa",
           "#FFA15A",
           "#19d3f3",
           "#FF6692",
           "#B6E880",
           "#FF97FF",
           "#FECB52"
          ],
          "font": {
           "color": "#2a3f5f"
          },
          "geo": {
           "bgcolor": "white",
           "lakecolor": "white",
           "landcolor": "#E5ECF6",
           "showlakes": true,
           "showland": true,
           "subunitcolor": "white"
          },
          "hoverlabel": {
           "align": "left"
          },
          "hovermode": "closest",
          "mapbox": {
           "style": "light"
          },
          "paper_bgcolor": "white",
          "plot_bgcolor": "#E5ECF6",
          "polar": {
           "angularaxis": {
            "gridcolor": "white",
            "linecolor": "white",
            "ticks": ""
           },
           "bgcolor": "#E5ECF6",
           "radialaxis": {
            "gridcolor": "white",
            "linecolor": "white",
            "ticks": ""
           }
          },
          "scene": {
           "xaxis": {
            "backgroundcolor": "#E5ECF6",
            "gridcolor": "white",
            "gridwidth": 2,
            "linecolor": "white",
            "showbackground": true,
            "ticks": "",
            "zerolinecolor": "white"
           },
           "yaxis": {
            "backgroundcolor": "#E5ECF6",
            "gridcolor": "white",
            "gridwidth": 2,
            "linecolor": "white",
            "showbackground": true,
            "ticks": "",
            "zerolinecolor": "white"
           },
           "zaxis": {
            "backgroundcolor": "#E5ECF6",
            "gridcolor": "white",
            "gridwidth": 2,
            "linecolor": "white",
            "showbackground": true,
            "ticks": "",
            "zerolinecolor": "white"
           }
          },
          "shapedefaults": {
           "line": {
            "color": "#2a3f5f"
           }
          },
          "ternary": {
           "aaxis": {
            "gridcolor": "white",
            "linecolor": "white",
            "ticks": ""
           },
           "baxis": {
            "gridcolor": "white",
            "linecolor": "white",
            "ticks": ""
           },
           "bgcolor": "#E5ECF6",
           "caxis": {
            "gridcolor": "white",
            "linecolor": "white",
            "ticks": ""
           }
          },
          "title": {
           "x": 0.05
          },
          "xaxis": {
           "automargin": true,
           "gridcolor": "white",
           "linecolor": "white",
           "ticks": "",
           "title": {
            "standoff": 15
           },
           "zerolinecolor": "white",
           "zerolinewidth": 2
          },
          "yaxis": {
           "automargin": true,
           "gridcolor": "white",
           "linecolor": "white",
           "ticks": "",
           "title": {
            "standoff": 15
           },
           "zerolinecolor": "white",
           "zerolinewidth": 2
          }
         }
        },
        "title": {
         "text": "Dataset machine 309"
        },
        "width": 1280,
        "xaxis": {
         "anchor": "y",
         "domain": [
          0,
          1
         ],
         "matches": "x3",
         "showticklabels": false
        },
        "xaxis2": {
         "anchor": "y2",
         "domain": [
          0,
          1
         ],
         "matches": "x3",
         "showticklabels": false
        },
        "xaxis3": {
         "anchor": "y3",
         "domain": [
          0,
          1
         ]
        },
        "yaxis": {
         "anchor": "x",
         "domain": [
          0.7066666666666667,
          1
         ]
        },
        "yaxis2": {
         "anchor": "x2",
         "domain": [
          0.35333333333333333,
          0.6466666666666667
         ]
        },
        "yaxis3": {
         "anchor": "x3",
         "domain": [
          0,
          0.29333333333333333
         ]
        }
       }
      }
     },
     "metadata": {},
     "output_type": "display_data"
    }
   ],
   "source": [
    "import os\n",
    "from scripts.getSingleDataset.utils import getCleanDataset\n",
    "from scipy import stats\n",
    "from scripts.plots import plot\n",
    "\n",
    "files = [p for p in os.listdir(\"dataset/results/it2\") if p.endswith(\".csv\")]\n",
    "\n",
    "STR = \"\\t\\t{:0.2f}\\n\\t\\tP-Value:{:0.2f}\"\n",
    "\n",
    "def is_correlation_usable(data):\n",
    "    computing_data = data.dropna()\n",
    "\n",
    "    print(f\"Machine {machineId}\")\n",
    "    # Correlazione tra Energia e Produzioni\n",
    "    energy_productions_corr, energy_productions_pvalue = stats.pearsonr(\n",
    "        computing_data[\"EnergyConsumption\"], computing_data[\"Productions\"]\n",
    "    )\n",
    "    print(\"\\tCorrelation between Energy Consumption and Productions\")\n",
    "    print(STR.format(energy_productions_corr, energy_productions_pvalue))\n",
    "    if energy_productions_pvalue <= 0.05:\n",
    "        print(\"\\t\\tSignificant\")\n",
    "\n",
    "    # Correlazione tra Energia e Fermate\n",
    "    energy_stops_corr, energy_stops_pvalue = stats.pearsonr(\n",
    "        computing_data[\"EnergyConsumption\"], computing_data[\"Fermate\"]\n",
    "    )\n",
    "    print(\"\\tCorrelation between Energy Consumption and Stops\")\n",
    "    print(STR.format(energy_stops_corr, energy_stops_pvalue))\n",
    "    if energy_stops_pvalue <= 0.05:\n",
    "        print(\"\\t\\tSignificant\")\n",
    "\n",
    "    # Correlazione tra Produzioni e Fermate\n",
    "    productions_stops_corr, productions_stops_pvalue = stats.pearsonr(\n",
    "        computing_data[\"Productions\"], computing_data[\"Fermate\"]\n",
    "    )\n",
    "    print(\"\\tCorrelation between Productions and Stops\")\n",
    "    print(STR.format(productions_stops_corr, productions_stops_pvalue))\n",
    "    if productions_stops_pvalue <= 0.05:\n",
    "        print(\"\\t\\tSignificant\")\n",
    "\n",
    "    return (\n",
    "        energy_productions_pvalue <= 0.05\n",
    "        or energy_stops_pvalue <= 0.05\n",
    "        or productions_stops_pvalue <= 0.05\n",
    "    )\n",
    "\n",
    "usable_datasets = []\n",
    "for file in files:\n",
    "    machineId = int(file.replace(\".csv\", \"\").split(\"-\")[1])\n",
    "\n",
    "    data = getCleanDataset(f\"dataset/results/it2/{file}\")\n",
    "\n",
    "    if is_correlation_usable(data):\n",
    "        usable_datasets.append((machineId, data))\n",
    "\n",
    "print(\"Usable datasets: \", len(usable_datasets))\n",
    "\n",
    "for machineId, d in usable_datasets:\n",
    "    d.to_csv(f\"dataset/results/it3/id-{machineId}.csv\", mode=\"w\", index=False)\n",
    "    print(\"- Macine\", machineId)\n",
    "\n",
    "for machineId, d in usable_datasets:\n",
    "    plot(d, machineId)"
   ]
  },
  {
   "cell_type": "code",
   "execution_count": 7,
   "metadata": {},
   "outputs": [
    {
     "name": "stdout",
     "output_type": "stream",
     "text": [
      "2389\n"
     ]
    }
   ],
   "source": [
    "import os\n",
    "from scripts.getSingleDataset.utils import getCleanDataset\n",
    "\n",
    "files = [p for p in os.listdir(\"dataset/results/it2\") if p.endswith(\".csv\")]\n",
    "\n",
    "tot = 0\n",
    "for file in files:\n",
    "    d = getCleanDataset(f\"dataset/results/it2/{file}\")\n",
    "    tot += d.shape[0]\n",
    "\n",
    "print(tot)"
   ]
  }
 ],
 "metadata": {
  "kernelspec": {
   "display_name": "Python 3",
   "language": "python",
   "name": "python3"
  },
  "language_info": {
   "codemirror_mode": {
    "name": "ipython",
    "version": 3
   },
   "file_extension": ".py",
   "mimetype": "text/x-python",
   "name": "python",
   "nbconvert_exporter": "python",
   "pygments_lexer": "ipython3",
   "version": "3.11.6"
  }
 },
 "nbformat": 4,
 "nbformat_minor": 2
}
